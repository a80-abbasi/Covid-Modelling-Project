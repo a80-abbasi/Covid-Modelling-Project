{
  "cells": [
    {
      "cell_type": "markdown",
      "metadata": {
        "id": "mVnaaG1KooyN",
        "pycharm": {
          "name": "#%% md\n"
        }
      },
      "source": [
        "# Loading Dataset:"
      ]
    },
    {
      "cell_type": "code",
      "execution_count": 3,
      "metadata": {
        "id": "s3GUv19Mmvzl",
        "pycharm": {
          "name": "#%%\n"
        }
      },
      "outputs": [],
      "source": [
        "# !git clone \"https://github.com/muhammedtalo/COVID-19.git\"\n",
        "# !mv \"COVID-19/X-Ray Image DataSet\" \".\""
      ]
    },
    {
      "cell_type": "code",
      "execution_count": 4,
      "metadata": {
        "id": "akPyGZoE18ee",
        "pycharm": {
          "name": "#%%\n"
        },
        "colab": {
          "base_uri": "https://localhost:8080/"
        },
        "outputId": "21cd277f-dbdf-4d6b-9e50-1d14e8a3f39c"
      },
      "outputs": [
        {
          "output_type": "stream",
          "name": "stdout",
          "text": [
            "Mounted at /content/drive\n"
          ]
        }
      ],
      "source": [
        "# This mounts your Google Drive to the Colab VM.\n",
        "from google.colab import drive\n",
        "\n",
        "drive.mount('/content/drive')"
      ]
    },
    {
      "cell_type": "code",
      "execution_count": 5,
      "metadata": {
        "id": "l3WFGE-w18ei",
        "pycharm": {
          "name": "#%%\n"
        },
        "colab": {
          "base_uri": "https://localhost:8080/"
        },
        "outputId": "7e2ec438-e9e6-454f-cd04-3a293701f2dc"
      },
      "outputs": [
        {
          "output_type": "stream",
          "name": "stdout",
          "text": [
            "AlexNet  GoogleNet  Pneumonia\t      ResNet50_dropout\tVGG16_v2\n",
            "covid\t normal     ResNet18_dropout  VGG16\n"
          ]
        }
      ],
      "source": [
        "!ls '/content/drive/MyDrive/COVID Project - Summer 2022/Colab_Notebooks'"
      ]
    },
    {
      "cell_type": "code",
      "execution_count": 6,
      "metadata": {
        "id": "n_m8jd3w18ej",
        "pycharm": {
          "name": "#%%\n"
        }
      },
      "outputs": [],
      "source": [
        "our_covid_dataset = '/content/drive/MyDrive/COVID Project - Summer 2022/Colab_Notebooks/covid'"
      ]
    },
    {
      "cell_type": "markdown",
      "metadata": {
        "collapsed": false,
        "id": "kzKw1A0Y18ek",
        "pycharm": {
          "name": "#%% md\n"
        }
      },
      "source": [
        "Kaggle Dataset:\n",
        "Dataset link is: `https://drive.google.com/file/d/1bum9Sehb3AzUMHLhBMuowPKyr_PCrB3a/view?usp=sharing`"
      ]
    },
    {
      "cell_type": "code",
      "execution_count": 7,
      "metadata": {
        "id": "hiusi0IM18el",
        "pycharm": {
          "name": "#%%\n"
        },
        "colab": {
          "base_uri": "https://localhost:8080/"
        },
        "outputId": "8cb1bcc0-d88f-4797-f66b-25c45369e22c"
      },
      "outputs": [
        {
          "output_type": "stream",
          "name": "stdout",
          "text": [
            "Looking in indexes: https://pypi.org/simple, https://us-python.pkg.dev/colab-wheels/public/simple/\n",
            "Requirement already satisfied: gdown in /usr/local/lib/python3.7/dist-packages (4.4.0)\n",
            "Requirement already satisfied: tqdm in /usr/local/lib/python3.7/dist-packages (from gdown) (4.64.1)\n",
            "Requirement already satisfied: beautifulsoup4 in /usr/local/lib/python3.7/dist-packages (from gdown) (4.6.3)\n",
            "Requirement already satisfied: filelock in /usr/local/lib/python3.7/dist-packages (from gdown) (3.8.0)\n",
            "Requirement already satisfied: six in /usr/local/lib/python3.7/dist-packages (from gdown) (1.15.0)\n",
            "Requirement already satisfied: requests[socks] in /usr/local/lib/python3.7/dist-packages (from gdown) (2.23.0)\n",
            "Requirement already satisfied: certifi>=2017.4.17 in /usr/local/lib/python3.7/dist-packages (from requests[socks]->gdown) (2022.6.15)\n",
            "Requirement already satisfied: urllib3!=1.25.0,!=1.25.1,<1.26,>=1.21.1 in /usr/local/lib/python3.7/dist-packages (from requests[socks]->gdown) (1.24.3)\n",
            "Requirement already satisfied: chardet<4,>=3.0.2 in /usr/local/lib/python3.7/dist-packages (from requests[socks]->gdown) (3.0.4)\n",
            "Requirement already satisfied: idna<3,>=2.5 in /usr/local/lib/python3.7/dist-packages (from requests[socks]->gdown) (2.10)\n",
            "Requirement already satisfied: PySocks!=1.5.7,>=1.5.6 in /usr/local/lib/python3.7/dist-packages (from requests[socks]->gdown) (1.7.1)\n",
            "Downloading...\n",
            "From: https://drive.google.com/uc?id=1bum9Sehb3AzUMHLhBMuowPKyr_PCrB3a\n",
            "To: /content/COVID-19_Radiography_Dataset.zip\n",
            "100% 814M/814M [00:03<00:00, 255MB/s]\n"
          ]
        }
      ],
      "source": [
        "!pip install gdown\n",
        "!gdown 1bum9Sehb3AzUMHLhBMuowPKyr_PCrB3a"
      ]
    },
    {
      "cell_type": "code",
      "execution_count": 8,
      "metadata": {
        "id": "BF-eSVnl18em",
        "pycharm": {
          "name": "#%%\n"
        },
        "colab": {
          "base_uri": "https://localhost:8080/"
        },
        "outputId": "a6547883-864a-4cdd-95b6-80b249e54bf7"
      },
      "outputs": [
        {
          "output_type": "stream",
          "name": "stdout",
          "text": [
            "\u001b[1;30;43mStreaming output truncated to the last 5000 lines.\u001b[0m\n",
            "  inflating: COVID-19_Radiography_Dataset/Normal/masks/Normal-7924.png  \n",
            "  inflating: COVID-19_Radiography_Dataset/Normal/masks/Normal-7925.png  \n",
            "  inflating: COVID-19_Radiography_Dataset/Normal/masks/Normal-7926.png  \n",
            "  inflating: COVID-19_Radiography_Dataset/Normal/masks/Normal-7927.png  \n",
            "  inflating: COVID-19_Radiography_Dataset/Normal/masks/Normal-7928.png  \n",
            "  inflating: COVID-19_Radiography_Dataset/Normal/masks/Normal-7929.png  \n",
            "  inflating: COVID-19_Radiography_Dataset/Normal/masks/Normal-793.png  \n",
            "  inflating: COVID-19_Radiography_Dataset/Normal/masks/Normal-7930.png  \n",
            "  inflating: COVID-19_Radiography_Dataset/Normal/masks/Normal-7931.png  \n",
            "  inflating: COVID-19_Radiography_Dataset/Normal/masks/Normal-7932.png  \n",
            "  inflating: COVID-19_Radiography_Dataset/Normal/masks/Normal-7933.png  \n",
            "  inflating: COVID-19_Radiography_Dataset/Normal/masks/Normal-7934.png  \n",
            "  inflating: COVID-19_Radiography_Dataset/Normal/masks/Normal-7935.png  \n",
            "  inflating: COVID-19_Radiography_Dataset/Normal/masks/Normal-7936.png  \n",
            "  inflating: COVID-19_Radiography_Dataset/Normal/masks/Normal-7937.png  \n",
            "  inflating: COVID-19_Radiography_Dataset/Normal/masks/Normal-7938.png  \n",
            "  inflating: COVID-19_Radiography_Dataset/Normal/masks/Normal-7939.png  \n",
            "  inflating: COVID-19_Radiography_Dataset/Normal/masks/Normal-794.png  \n",
            "  inflating: COVID-19_Radiography_Dataset/Normal/masks/Normal-7940.png  \n",
            "  inflating: COVID-19_Radiography_Dataset/Normal/masks/Normal-7941.png  \n",
            "  inflating: COVID-19_Radiography_Dataset/Normal/masks/Normal-7942.png  \n",
            "  inflating: COVID-19_Radiography_Dataset/Normal/masks/Normal-7943.png  \n",
            "  inflating: COVID-19_Radiography_Dataset/Normal/masks/Normal-7944.png  \n",
            "  inflating: COVID-19_Radiography_Dataset/Normal/masks/Normal-7945.png  \n",
            "  inflating: COVID-19_Radiography_Dataset/Normal/masks/Normal-7946.png  \n",
            "  inflating: COVID-19_Radiography_Dataset/Normal/masks/Normal-7947.png  \n",
            "  inflating: COVID-19_Radiography_Dataset/Normal/masks/Normal-7948.png  \n",
            "  inflating: COVID-19_Radiography_Dataset/Normal/masks/Normal-7949.png  \n",
            "  inflating: COVID-19_Radiography_Dataset/Normal/masks/Normal-795.png  \n",
            "  inflating: COVID-19_Radiography_Dataset/Normal/masks/Normal-7950.png  \n",
            "  inflating: COVID-19_Radiography_Dataset/Normal/masks/Normal-7951.png  \n",
            "  inflating: COVID-19_Radiography_Dataset/Normal/masks/Normal-7952.png  \n",
            "  inflating: COVID-19_Radiography_Dataset/Normal/masks/Normal-7953.png  \n",
            "  inflating: COVID-19_Radiography_Dataset/Normal/masks/Normal-7954.png  \n",
            "  inflating: COVID-19_Radiography_Dataset/Normal/masks/Normal-7955.png  \n",
            "  inflating: COVID-19_Radiography_Dataset/Normal/masks/Normal-7956.png  \n",
            "  inflating: COVID-19_Radiography_Dataset/Normal/masks/Normal-7957.png  \n",
            "  inflating: COVID-19_Radiography_Dataset/Normal/masks/Normal-7958.png  \n",
            "  inflating: COVID-19_Radiography_Dataset/Normal/masks/Normal-7959.png  \n",
            "  inflating: COVID-19_Radiography_Dataset/Normal/masks/Normal-796.png  \n",
            "  inflating: COVID-19_Radiography_Dataset/Normal/masks/Normal-7960.png  \n",
            "  inflating: COVID-19_Radiography_Dataset/Normal/masks/Normal-7961.png  \n",
            "  inflating: COVID-19_Radiography_Dataset/Normal/masks/Normal-7962.png  \n",
            "  inflating: COVID-19_Radiography_Dataset/Normal/masks/Normal-7963.png  \n",
            "  inflating: COVID-19_Radiography_Dataset/Normal/masks/Normal-7964.png  \n",
            "  inflating: COVID-19_Radiography_Dataset/Normal/masks/Normal-7965.png  \n",
            "  inflating: COVID-19_Radiography_Dataset/Normal/masks/Normal-7966.png  \n",
            "  inflating: COVID-19_Radiography_Dataset/Normal/masks/Normal-7967.png  \n",
            "  inflating: COVID-19_Radiography_Dataset/Normal/masks/Normal-7968.png  \n",
            "  inflating: COVID-19_Radiography_Dataset/Normal/masks/Normal-7969.png  \n",
            "  inflating: COVID-19_Radiography_Dataset/Normal/masks/Normal-797.png  \n",
            "  inflating: COVID-19_Radiography_Dataset/Normal/masks/Normal-7970.png  \n",
            "  inflating: COVID-19_Radiography_Dataset/Normal/masks/Normal-7971.png  \n",
            "  inflating: COVID-19_Radiography_Dataset/Normal/masks/Normal-7972.png  \n",
            "  inflating: COVID-19_Radiography_Dataset/Normal/masks/Normal-7973.png  \n",
            "  inflating: COVID-19_Radiography_Dataset/Normal/masks/Normal-7974.png  \n",
            "  inflating: COVID-19_Radiography_Dataset/Normal/masks/Normal-7975.png  \n",
            "  inflating: COVID-19_Radiography_Dataset/Normal/masks/Normal-7976.png  \n",
            "  inflating: COVID-19_Radiography_Dataset/Normal/masks/Normal-7977.png  \n",
            "  inflating: COVID-19_Radiography_Dataset/Normal/masks/Normal-7978.png  \n",
            "  inflating: COVID-19_Radiography_Dataset/Normal/masks/Normal-7979.png  \n",
            "  inflating: COVID-19_Radiography_Dataset/Normal/masks/Normal-798.png  \n",
            "  inflating: COVID-19_Radiography_Dataset/Normal/masks/Normal-7980.png  \n",
            "  inflating: COVID-19_Radiography_Dataset/Normal/masks/Normal-7981.png  \n",
            "  inflating: COVID-19_Radiography_Dataset/Normal/masks/Normal-7982.png  \n",
            "  inflating: COVID-19_Radiography_Dataset/Normal/masks/Normal-7983.png  \n",
            "  inflating: COVID-19_Radiography_Dataset/Normal/masks/Normal-7984.png  \n",
            "  inflating: COVID-19_Radiography_Dataset/Normal/masks/Normal-7985.png  \n",
            "  inflating: COVID-19_Radiography_Dataset/Normal/masks/Normal-7986.png  \n",
            "  inflating: COVID-19_Radiography_Dataset/Normal/masks/Normal-7987.png  \n",
            "  inflating: COVID-19_Radiography_Dataset/Normal/masks/Normal-7988.png  \n",
            "  inflating: COVID-19_Radiography_Dataset/Normal/masks/Normal-7989.png  \n",
            "  inflating: COVID-19_Radiography_Dataset/Normal/masks/Normal-799.png  \n",
            "  inflating: COVID-19_Radiography_Dataset/Normal/masks/Normal-7990.png  \n",
            "  inflating: COVID-19_Radiography_Dataset/Normal/masks/Normal-7991.png  \n",
            "  inflating: COVID-19_Radiography_Dataset/Normal/masks/Normal-7992.png  \n",
            "  inflating: COVID-19_Radiography_Dataset/Normal/masks/Normal-7993.png  \n",
            "  inflating: COVID-19_Radiography_Dataset/Normal/masks/Normal-7994.png  \n",
            "  inflating: COVID-19_Radiography_Dataset/Normal/masks/Normal-7995.png  \n",
            "  inflating: COVID-19_Radiography_Dataset/Normal/masks/Normal-7996.png  \n",
            "  inflating: COVID-19_Radiography_Dataset/Normal/masks/Normal-7997.png  \n",
            "  inflating: COVID-19_Radiography_Dataset/Normal/masks/Normal-7998.png  \n",
            "  inflating: COVID-19_Radiography_Dataset/Normal/masks/Normal-7999.png  \n",
            "  inflating: COVID-19_Radiography_Dataset/Normal/masks/Normal-8.png  \n",
            "  inflating: COVID-19_Radiography_Dataset/Normal/masks/Normal-80.png  \n",
            "  inflating: COVID-19_Radiography_Dataset/Normal/masks/Normal-800.png  \n",
            "  inflating: COVID-19_Radiography_Dataset/Normal/masks/Normal-8000.png  \n",
            "  inflating: COVID-19_Radiography_Dataset/Normal/masks/Normal-8001.png  \n",
            "  inflating: COVID-19_Radiography_Dataset/Normal/masks/Normal-8002.png  \n",
            "  inflating: COVID-19_Radiography_Dataset/Normal/masks/Normal-8003.png  \n",
            "  inflating: COVID-19_Radiography_Dataset/Normal/masks/Normal-8004.png  \n",
            "  inflating: COVID-19_Radiography_Dataset/Normal/masks/Normal-8005.png  \n",
            "  inflating: COVID-19_Radiography_Dataset/Normal/masks/Normal-8006.png  \n",
            "  inflating: COVID-19_Radiography_Dataset/Normal/masks/Normal-8007.png  \n",
            "  inflating: COVID-19_Radiography_Dataset/Normal/masks/Normal-8008.png  \n",
            "  inflating: COVID-19_Radiography_Dataset/Normal/masks/Normal-8009.png  \n",
            "  inflating: COVID-19_Radiography_Dataset/Normal/masks/Normal-801.png  \n",
            "  inflating: COVID-19_Radiography_Dataset/Normal/masks/Normal-8010.png  \n",
            "  inflating: COVID-19_Radiography_Dataset/Normal/masks/Normal-8011.png  \n",
            "  inflating: COVID-19_Radiography_Dataset/Normal/masks/Normal-8012.png  \n",
            "  inflating: COVID-19_Radiography_Dataset/Normal/masks/Normal-8013.png  \n",
            "  inflating: COVID-19_Radiography_Dataset/Normal/masks/Normal-8014.png  \n",
            "  inflating: COVID-19_Radiography_Dataset/Normal/masks/Normal-8015.png  \n",
            "  inflating: COVID-19_Radiography_Dataset/Normal/masks/Normal-8016.png  \n",
            "  inflating: COVID-19_Radiography_Dataset/Normal/masks/Normal-8017.png  \n",
            "  inflating: COVID-19_Radiography_Dataset/Normal/masks/Normal-8018.png  \n",
            "  inflating: COVID-19_Radiography_Dataset/Normal/masks/Normal-8019.png  \n",
            "  inflating: COVID-19_Radiography_Dataset/Normal/masks/Normal-802.png  \n",
            "  inflating: COVID-19_Radiography_Dataset/Normal/masks/Normal-8020.png  \n",
            "  inflating: COVID-19_Radiography_Dataset/Normal/masks/Normal-8021.png  \n",
            "  inflating: COVID-19_Radiography_Dataset/Normal/masks/Normal-8022.png  \n",
            "  inflating: COVID-19_Radiography_Dataset/Normal/masks/Normal-8023.png  \n",
            "  inflating: COVID-19_Radiography_Dataset/Normal/masks/Normal-8024.png  \n",
            "  inflating: COVID-19_Radiography_Dataset/Normal/masks/Normal-8025.png  \n",
            "  inflating: COVID-19_Radiography_Dataset/Normal/masks/Normal-8026.png  \n",
            "  inflating: COVID-19_Radiography_Dataset/Normal/masks/Normal-8027.png  \n",
            "  inflating: COVID-19_Radiography_Dataset/Normal/masks/Normal-8028.png  \n",
            "  inflating: COVID-19_Radiography_Dataset/Normal/masks/Normal-8029.png  \n",
            "  inflating: COVID-19_Radiography_Dataset/Normal/masks/Normal-803.png  \n",
            "  inflating: COVID-19_Radiography_Dataset/Normal/masks/Normal-8030.png  \n",
            "  inflating: COVID-19_Radiography_Dataset/Normal/masks/Normal-8031.png  \n",
            "  inflating: COVID-19_Radiography_Dataset/Normal/masks/Normal-8032.png  \n",
            "  inflating: COVID-19_Radiography_Dataset/Normal/masks/Normal-8033.png  \n",
            "  inflating: COVID-19_Radiography_Dataset/Normal/masks/Normal-8034.png  \n",
            "  inflating: COVID-19_Radiography_Dataset/Normal/masks/Normal-8035.png  \n",
            "  inflating: COVID-19_Radiography_Dataset/Normal/masks/Normal-8036.png  \n",
            "  inflating: COVID-19_Radiography_Dataset/Normal/masks/Normal-8037.png  \n",
            "  inflating: COVID-19_Radiography_Dataset/Normal/masks/Normal-8038.png  \n",
            "  inflating: COVID-19_Radiography_Dataset/Normal/masks/Normal-8039.png  \n",
            "  inflating: COVID-19_Radiography_Dataset/Normal/masks/Normal-804.png  \n",
            "  inflating: COVID-19_Radiography_Dataset/Normal/masks/Normal-8040.png  \n",
            "  inflating: COVID-19_Radiography_Dataset/Normal/masks/Normal-8041.png  \n",
            "  inflating: COVID-19_Radiography_Dataset/Normal/masks/Normal-8042.png  \n",
            "  inflating: COVID-19_Radiography_Dataset/Normal/masks/Normal-8043.png  \n",
            "  inflating: COVID-19_Radiography_Dataset/Normal/masks/Normal-8044.png  \n",
            "  inflating: COVID-19_Radiography_Dataset/Normal/masks/Normal-8045.png  \n",
            "  inflating: COVID-19_Radiography_Dataset/Normal/masks/Normal-8046.png  \n",
            "  inflating: COVID-19_Radiography_Dataset/Normal/masks/Normal-8047.png  \n",
            "  inflating: COVID-19_Radiography_Dataset/Normal/masks/Normal-8048.png  \n",
            "  inflating: COVID-19_Radiography_Dataset/Normal/masks/Normal-8049.png  \n",
            "  inflating: COVID-19_Radiography_Dataset/Normal/masks/Normal-805.png  \n",
            "  inflating: COVID-19_Radiography_Dataset/Normal/masks/Normal-8050.png  \n",
            "  inflating: COVID-19_Radiography_Dataset/Normal/masks/Normal-8051.png  \n",
            "  inflating: COVID-19_Radiography_Dataset/Normal/masks/Normal-8052.png  \n",
            "  inflating: COVID-19_Radiography_Dataset/Normal/masks/Normal-8053.png  \n",
            "  inflating: COVID-19_Radiography_Dataset/Normal/masks/Normal-8054.png  \n",
            "  inflating: COVID-19_Radiography_Dataset/Normal/masks/Normal-8055.png  \n",
            "  inflating: COVID-19_Radiography_Dataset/Normal/masks/Normal-8056.png  \n",
            "  inflating: COVID-19_Radiography_Dataset/Normal/masks/Normal-8057.png  \n",
            "  inflating: COVID-19_Radiography_Dataset/Normal/masks/Normal-8058.png  \n",
            "  inflating: COVID-19_Radiography_Dataset/Normal/masks/Normal-8059.png  \n",
            "  inflating: COVID-19_Radiography_Dataset/Normal/masks/Normal-806.png  \n",
            "  inflating: COVID-19_Radiography_Dataset/Normal/masks/Normal-8060.png  \n",
            "  inflating: COVID-19_Radiography_Dataset/Normal/masks/Normal-8061.png  \n",
            "  inflating: COVID-19_Radiography_Dataset/Normal/masks/Normal-8062.png  \n",
            "  inflating: COVID-19_Radiography_Dataset/Normal/masks/Normal-8063.png  \n",
            "  inflating: COVID-19_Radiography_Dataset/Normal/masks/Normal-8064.png  \n",
            "  inflating: COVID-19_Radiography_Dataset/Normal/masks/Normal-8065.png  \n",
            "  inflating: COVID-19_Radiography_Dataset/Normal/masks/Normal-8066.png  \n",
            "  inflating: COVID-19_Radiography_Dataset/Normal/masks/Normal-8067.png  \n",
            "  inflating: COVID-19_Radiography_Dataset/Normal/masks/Normal-8068.png  \n",
            "  inflating: COVID-19_Radiography_Dataset/Normal/masks/Normal-8069.png  \n",
            "  inflating: COVID-19_Radiography_Dataset/Normal/masks/Normal-807.png  \n",
            "  inflating: COVID-19_Radiography_Dataset/Normal/masks/Normal-8070.png  \n",
            "  inflating: COVID-19_Radiography_Dataset/Normal/masks/Normal-8071.png  \n",
            "  inflating: COVID-19_Radiography_Dataset/Normal/masks/Normal-8072.png  \n",
            "  inflating: COVID-19_Radiography_Dataset/Normal/masks/Normal-8073.png  \n",
            "  inflating: COVID-19_Radiography_Dataset/Normal/masks/Normal-8074.png  \n",
            "  inflating: COVID-19_Radiography_Dataset/Normal/masks/Normal-8075.png  \n",
            "  inflating: COVID-19_Radiography_Dataset/Normal/masks/Normal-8076.png  \n",
            "  inflating: COVID-19_Radiography_Dataset/Normal/masks/Normal-8077.png  \n",
            "  inflating: COVID-19_Radiography_Dataset/Normal/masks/Normal-8078.png  \n",
            "  inflating: COVID-19_Radiography_Dataset/Normal/masks/Normal-8079.png  \n",
            "  inflating: COVID-19_Radiography_Dataset/Normal/masks/Normal-808.png  \n",
            "  inflating: COVID-19_Radiography_Dataset/Normal/masks/Normal-8080.png  \n",
            "  inflating: COVID-19_Radiography_Dataset/Normal/masks/Normal-8081.png  \n",
            "  inflating: COVID-19_Radiography_Dataset/Normal/masks/Normal-8082.png  \n",
            "  inflating: COVID-19_Radiography_Dataset/Normal/masks/Normal-8083.png  \n",
            "  inflating: COVID-19_Radiography_Dataset/Normal/masks/Normal-8084.png  \n",
            "  inflating: COVID-19_Radiography_Dataset/Normal/masks/Normal-8085.png  \n",
            "  inflating: COVID-19_Radiography_Dataset/Normal/masks/Normal-8086.png  \n",
            "  inflating: COVID-19_Radiography_Dataset/Normal/masks/Normal-8087.png  \n",
            "  inflating: COVID-19_Radiography_Dataset/Normal/masks/Normal-8088.png  \n",
            "  inflating: COVID-19_Radiography_Dataset/Normal/masks/Normal-8089.png  \n",
            "  inflating: COVID-19_Radiography_Dataset/Normal/masks/Normal-809.png  \n",
            "  inflating: COVID-19_Radiography_Dataset/Normal/masks/Normal-8090.png  \n",
            "  inflating: COVID-19_Radiography_Dataset/Normal/masks/Normal-8091.png  \n",
            "  inflating: COVID-19_Radiography_Dataset/Normal/masks/Normal-8092.png  \n",
            "  inflating: COVID-19_Radiography_Dataset/Normal/masks/Normal-8093.png  \n",
            "  inflating: COVID-19_Radiography_Dataset/Normal/masks/Normal-8094.png  \n",
            "  inflating: COVID-19_Radiography_Dataset/Normal/masks/Normal-8095.png  \n",
            "  inflating: COVID-19_Radiography_Dataset/Normal/masks/Normal-8096.png  \n",
            "  inflating: COVID-19_Radiography_Dataset/Normal/masks/Normal-8097.png  \n",
            "  inflating: COVID-19_Radiography_Dataset/Normal/masks/Normal-8098.png  \n",
            "  inflating: COVID-19_Radiography_Dataset/Normal/masks/Normal-8099.png  \n",
            "  inflating: COVID-19_Radiography_Dataset/Normal/masks/Normal-81.png  \n",
            "  inflating: COVID-19_Radiography_Dataset/Normal/masks/Normal-810.png  \n",
            "  inflating: COVID-19_Radiography_Dataset/Normal/masks/Normal-8100.png  \n",
            "  inflating: COVID-19_Radiography_Dataset/Normal/masks/Normal-8101.png  \n",
            "  inflating: COVID-19_Radiography_Dataset/Normal/masks/Normal-8102.png  \n",
            "  inflating: COVID-19_Radiography_Dataset/Normal/masks/Normal-8103.png  \n",
            "  inflating: COVID-19_Radiography_Dataset/Normal/masks/Normal-8104.png  \n",
            "  inflating: COVID-19_Radiography_Dataset/Normal/masks/Normal-8105.png  \n",
            "  inflating: COVID-19_Radiography_Dataset/Normal/masks/Normal-8106.png  \n",
            "  inflating: COVID-19_Radiography_Dataset/Normal/masks/Normal-8107.png  \n",
            "  inflating: COVID-19_Radiography_Dataset/Normal/masks/Normal-8108.png  \n",
            "  inflating: COVID-19_Radiography_Dataset/Normal/masks/Normal-8109.png  \n",
            "  inflating: COVID-19_Radiography_Dataset/Normal/masks/Normal-811.png  \n",
            "  inflating: COVID-19_Radiography_Dataset/Normal/masks/Normal-8110.png  \n",
            "  inflating: COVID-19_Radiography_Dataset/Normal/masks/Normal-8111.png  \n",
            "  inflating: COVID-19_Radiography_Dataset/Normal/masks/Normal-8112.png  \n",
            "  inflating: COVID-19_Radiography_Dataset/Normal/masks/Normal-8113.png  \n",
            "  inflating: COVID-19_Radiography_Dataset/Normal/masks/Normal-8114.png  \n",
            "  inflating: COVID-19_Radiography_Dataset/Normal/masks/Normal-8115.png  \n",
            "  inflating: COVID-19_Radiography_Dataset/Normal/masks/Normal-8116.png  \n",
            "  inflating: COVID-19_Radiography_Dataset/Normal/masks/Normal-8117.png  \n",
            "  inflating: COVID-19_Radiography_Dataset/Normal/masks/Normal-8118.png  \n",
            "  inflating: COVID-19_Radiography_Dataset/Normal/masks/Normal-8119.png  \n",
            "  inflating: COVID-19_Radiography_Dataset/Normal/masks/Normal-812.png  \n",
            "  inflating: COVID-19_Radiography_Dataset/Normal/masks/Normal-8120.png  \n",
            "  inflating: COVID-19_Radiography_Dataset/Normal/masks/Normal-8121.png  \n",
            "  inflating: COVID-19_Radiography_Dataset/Normal/masks/Normal-8122.png  \n",
            "  inflating: COVID-19_Radiography_Dataset/Normal/masks/Normal-8123.png  \n",
            "  inflating: COVID-19_Radiography_Dataset/Normal/masks/Normal-8124.png  \n",
            "  inflating: COVID-19_Radiography_Dataset/Normal/masks/Normal-8125.png  \n",
            "  inflating: COVID-19_Radiography_Dataset/Normal/masks/Normal-8126.png  \n",
            "  inflating: COVID-19_Radiography_Dataset/Normal/masks/Normal-8127.png  \n",
            "  inflating: COVID-19_Radiography_Dataset/Normal/masks/Normal-8128.png  \n",
            "  inflating: COVID-19_Radiography_Dataset/Normal/masks/Normal-8129.png  \n",
            "  inflating: COVID-19_Radiography_Dataset/Normal/masks/Normal-813.png  \n",
            "  inflating: COVID-19_Radiography_Dataset/Normal/masks/Normal-8130.png  \n",
            "  inflating: COVID-19_Radiography_Dataset/Normal/masks/Normal-8131.png  \n",
            "  inflating: COVID-19_Radiography_Dataset/Normal/masks/Normal-8132.png  \n",
            "  inflating: COVID-19_Radiography_Dataset/Normal/masks/Normal-8133.png  \n",
            "  inflating: COVID-19_Radiography_Dataset/Normal/masks/Normal-8134.png  \n",
            "  inflating: COVID-19_Radiography_Dataset/Normal/masks/Normal-8135.png  \n",
            "  inflating: COVID-19_Radiography_Dataset/Normal/masks/Normal-8136.png  \n",
            "  inflating: COVID-19_Radiography_Dataset/Normal/masks/Normal-8137.png  \n",
            "  inflating: COVID-19_Radiography_Dataset/Normal/masks/Normal-8138.png  \n",
            "  inflating: COVID-19_Radiography_Dataset/Normal/masks/Normal-8139.png  \n",
            "  inflating: COVID-19_Radiography_Dataset/Normal/masks/Normal-814.png  \n",
            "  inflating: COVID-19_Radiography_Dataset/Normal/masks/Normal-8140.png  \n",
            "  inflating: COVID-19_Radiography_Dataset/Normal/masks/Normal-8141.png  \n",
            "  inflating: COVID-19_Radiography_Dataset/Normal/masks/Normal-8142.png  \n",
            "  inflating: COVID-19_Radiography_Dataset/Normal/masks/Normal-8143.png  \n",
            "  inflating: COVID-19_Radiography_Dataset/Normal/masks/Normal-8144.png  \n",
            "  inflating: COVID-19_Radiography_Dataset/Normal/masks/Normal-8145.png  \n",
            "  inflating: COVID-19_Radiography_Dataset/Normal/masks/Normal-8146.png  \n",
            "  inflating: COVID-19_Radiography_Dataset/Normal/masks/Normal-8147.png  \n",
            "  inflating: COVID-19_Radiography_Dataset/Normal/masks/Normal-8148.png  \n",
            "  inflating: COVID-19_Radiography_Dataset/Normal/masks/Normal-8149.png  \n",
            "  inflating: COVID-19_Radiography_Dataset/Normal/masks/Normal-815.png  \n",
            "  inflating: COVID-19_Radiography_Dataset/Normal/masks/Normal-8150.png  \n",
            "  inflating: COVID-19_Radiography_Dataset/Normal/masks/Normal-8151.png  \n",
            "  inflating: COVID-19_Radiography_Dataset/Normal/masks/Normal-8152.png  \n",
            "  inflating: COVID-19_Radiography_Dataset/Normal/masks/Normal-8153.png  \n",
            "  inflating: COVID-19_Radiography_Dataset/Normal/masks/Normal-8154.png  \n",
            "  inflating: COVID-19_Radiography_Dataset/Normal/masks/Normal-8155.png  \n",
            "  inflating: COVID-19_Radiography_Dataset/Normal/masks/Normal-8156.png  \n",
            "  inflating: COVID-19_Radiography_Dataset/Normal/masks/Normal-8157.png  \n",
            "  inflating: COVID-19_Radiography_Dataset/Normal/masks/Normal-8158.png  \n",
            "  inflating: COVID-19_Radiography_Dataset/Normal/masks/Normal-8159.png  \n",
            "  inflating: COVID-19_Radiography_Dataset/Normal/masks/Normal-816.png  \n",
            "  inflating: COVID-19_Radiography_Dataset/Normal/masks/Normal-8160.png  \n",
            "  inflating: COVID-19_Radiography_Dataset/Normal/masks/Normal-8161.png  \n",
            "  inflating: COVID-19_Radiography_Dataset/Normal/masks/Normal-8162.png  \n",
            "  inflating: COVID-19_Radiography_Dataset/Normal/masks/Normal-8163.png  \n",
            "  inflating: COVID-19_Radiography_Dataset/Normal/masks/Normal-8164.png  \n",
            "  inflating: COVID-19_Radiography_Dataset/Normal/masks/Normal-8165.png  \n",
            "  inflating: COVID-19_Radiography_Dataset/Normal/masks/Normal-8166.png  \n",
            "  inflating: COVID-19_Radiography_Dataset/Normal/masks/Normal-8167.png  \n",
            "  inflating: COVID-19_Radiography_Dataset/Normal/masks/Normal-8168.png  \n",
            "  inflating: COVID-19_Radiography_Dataset/Normal/masks/Normal-8169.png  \n",
            "  inflating: COVID-19_Radiography_Dataset/Normal/masks/Normal-817.png  \n",
            "  inflating: COVID-19_Radiography_Dataset/Normal/masks/Normal-8170.png  \n",
            "  inflating: COVID-19_Radiography_Dataset/Normal/masks/Normal-8171.png  \n",
            "  inflating: COVID-19_Radiography_Dataset/Normal/masks/Normal-8172.png  \n",
            "  inflating: COVID-19_Radiography_Dataset/Normal/masks/Normal-8173.png  \n",
            "  inflating: COVID-19_Radiography_Dataset/Normal/masks/Normal-8174.png  \n",
            "  inflating: COVID-19_Radiography_Dataset/Normal/masks/Normal-8175.png  \n",
            "  inflating: COVID-19_Radiography_Dataset/Normal/masks/Normal-8176.png  \n",
            "  inflating: COVID-19_Radiography_Dataset/Normal/masks/Normal-8177.png  \n",
            "  inflating: COVID-19_Radiography_Dataset/Normal/masks/Normal-8178.png  \n",
            "  inflating: COVID-19_Radiography_Dataset/Normal/masks/Normal-8179.png  \n",
            "  inflating: COVID-19_Radiography_Dataset/Normal/masks/Normal-818.png  \n",
            "  inflating: COVID-19_Radiography_Dataset/Normal/masks/Normal-8180.png  \n",
            "  inflating: COVID-19_Radiography_Dataset/Normal/masks/Normal-8181.png  \n",
            "  inflating: COVID-19_Radiography_Dataset/Normal/masks/Normal-8182.png  \n",
            "  inflating: COVID-19_Radiography_Dataset/Normal/masks/Normal-8183.png  \n",
            "  inflating: COVID-19_Radiography_Dataset/Normal/masks/Normal-8184.png  \n",
            "  inflating: COVID-19_Radiography_Dataset/Normal/masks/Normal-8185.png  \n",
            "  inflating: COVID-19_Radiography_Dataset/Normal/masks/Normal-8186.png  \n",
            "  inflating: COVID-19_Radiography_Dataset/Normal/masks/Normal-8187.png  \n",
            "  inflating: COVID-19_Radiography_Dataset/Normal/masks/Normal-8188.png  \n",
            "  inflating: COVID-19_Radiography_Dataset/Normal/masks/Normal-8189.png  \n",
            "  inflating: COVID-19_Radiography_Dataset/Normal/masks/Normal-819.png  \n",
            "  inflating: COVID-19_Radiography_Dataset/Normal/masks/Normal-8190.png  \n",
            "  inflating: COVID-19_Radiography_Dataset/Normal/masks/Normal-8191.png  \n",
            "  inflating: COVID-19_Radiography_Dataset/Normal/masks/Normal-8192.png  \n",
            "  inflating: COVID-19_Radiography_Dataset/Normal/masks/Normal-8193.png  \n",
            "  inflating: COVID-19_Radiography_Dataset/Normal/masks/Normal-8194.png  \n",
            "  inflating: COVID-19_Radiography_Dataset/Normal/masks/Normal-8195.png  \n",
            "  inflating: COVID-19_Radiography_Dataset/Normal/masks/Normal-8196.png  \n",
            "  inflating: COVID-19_Radiography_Dataset/Normal/masks/Normal-8197.png  \n",
            "  inflating: COVID-19_Radiography_Dataset/Normal/masks/Normal-8198.png  \n",
            "  inflating: COVID-19_Radiography_Dataset/Normal/masks/Normal-8199.png  \n",
            "  inflating: COVID-19_Radiography_Dataset/Normal/masks/Normal-82.png  \n",
            "  inflating: COVID-19_Radiography_Dataset/Normal/masks/Normal-820.png  \n",
            "  inflating: COVID-19_Radiography_Dataset/Normal/masks/Normal-8200.png  \n",
            "  inflating: COVID-19_Radiography_Dataset/Normal/masks/Normal-8201.png  \n",
            "  inflating: COVID-19_Radiography_Dataset/Normal/masks/Normal-8202.png  \n",
            "  inflating: COVID-19_Radiography_Dataset/Normal/masks/Normal-8203.png  \n",
            "  inflating: COVID-19_Radiography_Dataset/Normal/masks/Normal-8204.png  \n",
            "  inflating: COVID-19_Radiography_Dataset/Normal/masks/Normal-8205.png  \n",
            "  inflating: COVID-19_Radiography_Dataset/Normal/masks/Normal-8206.png  \n",
            "  inflating: COVID-19_Radiography_Dataset/Normal/masks/Normal-8207.png  \n",
            "  inflating: COVID-19_Radiography_Dataset/Normal/masks/Normal-8208.png  \n",
            "  inflating: COVID-19_Radiography_Dataset/Normal/masks/Normal-8209.png  \n",
            "  inflating: COVID-19_Radiography_Dataset/Normal/masks/Normal-821.png  \n",
            "  inflating: COVID-19_Radiography_Dataset/Normal/masks/Normal-8210.png  \n",
            "  inflating: COVID-19_Radiography_Dataset/Normal/masks/Normal-8211.png  \n",
            "  inflating: COVID-19_Radiography_Dataset/Normal/masks/Normal-8212.png  \n",
            "  inflating: COVID-19_Radiography_Dataset/Normal/masks/Normal-8213.png  \n",
            "  inflating: COVID-19_Radiography_Dataset/Normal/masks/Normal-8214.png  \n",
            "  inflating: COVID-19_Radiography_Dataset/Normal/masks/Normal-8215.png  \n",
            "  inflating: COVID-19_Radiography_Dataset/Normal/masks/Normal-8216.png  \n",
            "  inflating: COVID-19_Radiography_Dataset/Normal/masks/Normal-8217.png  \n",
            "  inflating: COVID-19_Radiography_Dataset/Normal/masks/Normal-8218.png  \n",
            "  inflating: COVID-19_Radiography_Dataset/Normal/masks/Normal-8219.png  \n",
            "  inflating: COVID-19_Radiography_Dataset/Normal/masks/Normal-822.png  \n",
            "  inflating: COVID-19_Radiography_Dataset/Normal/masks/Normal-8220.png  \n",
            "  inflating: COVID-19_Radiography_Dataset/Normal/masks/Normal-8221.png  \n",
            "  inflating: COVID-19_Radiography_Dataset/Normal/masks/Normal-8222.png  \n",
            "  inflating: COVID-19_Radiography_Dataset/Normal/masks/Normal-8223.png  \n",
            "  inflating: COVID-19_Radiography_Dataset/Normal/masks/Normal-8224.png  \n",
            "  inflating: COVID-19_Radiography_Dataset/Normal/masks/Normal-8225.png  \n",
            "  inflating: COVID-19_Radiography_Dataset/Normal/masks/Normal-8226.png  \n",
            "  inflating: COVID-19_Radiography_Dataset/Normal/masks/Normal-8227.png  \n",
            "  inflating: COVID-19_Radiography_Dataset/Normal/masks/Normal-8228.png  \n",
            "  inflating: COVID-19_Radiography_Dataset/Normal/masks/Normal-8229.png  \n",
            "  inflating: COVID-19_Radiography_Dataset/Normal/masks/Normal-823.png  \n",
            "  inflating: COVID-19_Radiography_Dataset/Normal/masks/Normal-8230.png  \n",
            "  inflating: COVID-19_Radiography_Dataset/Normal/masks/Normal-8231.png  \n",
            "  inflating: COVID-19_Radiography_Dataset/Normal/masks/Normal-8232.png  \n",
            "  inflating: COVID-19_Radiography_Dataset/Normal/masks/Normal-8233.png  \n",
            "  inflating: COVID-19_Radiography_Dataset/Normal/masks/Normal-8234.png  \n",
            "  inflating: COVID-19_Radiography_Dataset/Normal/masks/Normal-8235.png  \n",
            "  inflating: COVID-19_Radiography_Dataset/Normal/masks/Normal-8236.png  \n",
            "  inflating: COVID-19_Radiography_Dataset/Normal/masks/Normal-8237.png  \n",
            "  inflating: COVID-19_Radiography_Dataset/Normal/masks/Normal-8238.png  \n",
            "  inflating: COVID-19_Radiography_Dataset/Normal/masks/Normal-8239.png  \n",
            "  inflating: COVID-19_Radiography_Dataset/Normal/masks/Normal-824.png  \n",
            "  inflating: COVID-19_Radiography_Dataset/Normal/masks/Normal-8240.png  \n",
            "  inflating: COVID-19_Radiography_Dataset/Normal/masks/Normal-8241.png  \n",
            "  inflating: COVID-19_Radiography_Dataset/Normal/masks/Normal-8242.png  \n",
            "  inflating: COVID-19_Radiography_Dataset/Normal/masks/Normal-8243.png  \n",
            "  inflating: COVID-19_Radiography_Dataset/Normal/masks/Normal-8244.png  \n",
            "  inflating: COVID-19_Radiography_Dataset/Normal/masks/Normal-8245.png  \n",
            "  inflating: COVID-19_Radiography_Dataset/Normal/masks/Normal-8246.png  \n",
            "  inflating: COVID-19_Radiography_Dataset/Normal/masks/Normal-8247.png  \n",
            "  inflating: COVID-19_Radiography_Dataset/Normal/masks/Normal-8248.png  \n",
            "  inflating: COVID-19_Radiography_Dataset/Normal/masks/Normal-8249.png  \n",
            "  inflating: COVID-19_Radiography_Dataset/Normal/masks/Normal-825.png  \n",
            "  inflating: COVID-19_Radiography_Dataset/Normal/masks/Normal-8250.png  \n",
            "  inflating: COVID-19_Radiography_Dataset/Normal/masks/Normal-8251.png  \n",
            "  inflating: COVID-19_Radiography_Dataset/Normal/masks/Normal-8252.png  \n",
            "  inflating: COVID-19_Radiography_Dataset/Normal/masks/Normal-8253.png  \n",
            "  inflating: COVID-19_Radiography_Dataset/Normal/masks/Normal-8254.png  \n",
            "  inflating: COVID-19_Radiography_Dataset/Normal/masks/Normal-8255.png  \n",
            "  inflating: COVID-19_Radiography_Dataset/Normal/masks/Normal-8256.png  \n",
            "  inflating: COVID-19_Radiography_Dataset/Normal/masks/Normal-8257.png  \n",
            "  inflating: COVID-19_Radiography_Dataset/Normal/masks/Normal-8258.png  \n",
            "  inflating: COVID-19_Radiography_Dataset/Normal/masks/Normal-8259.png  \n",
            "  inflating: COVID-19_Radiography_Dataset/Normal/masks/Normal-826.png  \n",
            "  inflating: COVID-19_Radiography_Dataset/Normal/masks/Normal-8260.png  \n",
            "  inflating: COVID-19_Radiography_Dataset/Normal/masks/Normal-8261.png  \n",
            "  inflating: COVID-19_Radiography_Dataset/Normal/masks/Normal-8262.png  \n",
            "  inflating: COVID-19_Radiography_Dataset/Normal/masks/Normal-8263.png  \n",
            "  inflating: COVID-19_Radiography_Dataset/Normal/masks/Normal-8264.png  \n",
            "  inflating: COVID-19_Radiography_Dataset/Normal/masks/Normal-8265.png  \n",
            "  inflating: COVID-19_Radiography_Dataset/Normal/masks/Normal-8266.png  \n",
            "  inflating: COVID-19_Radiography_Dataset/Normal/masks/Normal-8267.png  \n",
            "  inflating: COVID-19_Radiography_Dataset/Normal/masks/Normal-8268.png  \n",
            "  inflating: COVID-19_Radiography_Dataset/Normal/masks/Normal-8269.png  \n",
            "  inflating: COVID-19_Radiography_Dataset/Normal/masks/Normal-827.png  \n",
            "  inflating: COVID-19_Radiography_Dataset/Normal/masks/Normal-8270.png  \n",
            "  inflating: COVID-19_Radiography_Dataset/Normal/masks/Normal-8271.png  \n",
            "  inflating: COVID-19_Radiography_Dataset/Normal/masks/Normal-8272.png  \n",
            "  inflating: COVID-19_Radiography_Dataset/Normal/masks/Normal-8273.png  \n",
            "  inflating: COVID-19_Radiography_Dataset/Normal/masks/Normal-8274.png  \n",
            "  inflating: COVID-19_Radiography_Dataset/Normal/masks/Normal-8275.png  \n",
            "  inflating: COVID-19_Radiography_Dataset/Normal/masks/Normal-8276.png  \n",
            "  inflating: COVID-19_Radiography_Dataset/Normal/masks/Normal-8277.png  \n",
            "  inflating: COVID-19_Radiography_Dataset/Normal/masks/Normal-8278.png  \n",
            "  inflating: COVID-19_Radiography_Dataset/Normal/masks/Normal-8279.png  \n",
            "  inflating: COVID-19_Radiography_Dataset/Normal/masks/Normal-828.png  \n",
            "  inflating: COVID-19_Radiography_Dataset/Normal/masks/Normal-8280.png  \n",
            "  inflating: COVID-19_Radiography_Dataset/Normal/masks/Normal-8281.png  \n",
            "  inflating: COVID-19_Radiography_Dataset/Normal/masks/Normal-8282.png  \n",
            "  inflating: COVID-19_Radiography_Dataset/Normal/masks/Normal-8283.png  \n",
            "  inflating: COVID-19_Radiography_Dataset/Normal/masks/Normal-8284.png  \n",
            "  inflating: COVID-19_Radiography_Dataset/Normal/masks/Normal-8285.png  \n",
            "  inflating: COVID-19_Radiography_Dataset/Normal/masks/Normal-8286.png  \n",
            "  inflating: COVID-19_Radiography_Dataset/Normal/masks/Normal-8287.png  \n",
            "  inflating: COVID-19_Radiography_Dataset/Normal/masks/Normal-8288.png  \n",
            "  inflating: COVID-19_Radiography_Dataset/Normal/masks/Normal-8289.png  \n",
            "  inflating: COVID-19_Radiography_Dataset/Normal/masks/Normal-829.png  \n",
            "  inflating: COVID-19_Radiography_Dataset/Normal/masks/Normal-8290.png  \n",
            "  inflating: COVID-19_Radiography_Dataset/Normal/masks/Normal-8291.png  \n",
            "  inflating: COVID-19_Radiography_Dataset/Normal/masks/Normal-8292.png  \n",
            "  inflating: COVID-19_Radiography_Dataset/Normal/masks/Normal-8293.png  \n",
            "  inflating: COVID-19_Radiography_Dataset/Normal/masks/Normal-8294.png  \n",
            "  inflating: COVID-19_Radiography_Dataset/Normal/masks/Normal-8295.png  \n",
            "  inflating: COVID-19_Radiography_Dataset/Normal/masks/Normal-8296.png  \n",
            "  inflating: COVID-19_Radiography_Dataset/Normal/masks/Normal-8297.png  \n",
            "  inflating: COVID-19_Radiography_Dataset/Normal/masks/Normal-8298.png  \n",
            "  inflating: COVID-19_Radiography_Dataset/Normal/masks/Normal-8299.png  \n",
            "  inflating: COVID-19_Radiography_Dataset/Normal/masks/Normal-83.png  \n",
            "  inflating: COVID-19_Radiography_Dataset/Normal/masks/Normal-830.png  \n",
            "  inflating: COVID-19_Radiography_Dataset/Normal/masks/Normal-8300.png  \n",
            "  inflating: COVID-19_Radiography_Dataset/Normal/masks/Normal-8301.png  \n",
            "  inflating: COVID-19_Radiography_Dataset/Normal/masks/Normal-8302.png  \n",
            "  inflating: COVID-19_Radiography_Dataset/Normal/masks/Normal-8303.png  \n",
            "  inflating: COVID-19_Radiography_Dataset/Normal/masks/Normal-8304.png  \n",
            "  inflating: COVID-19_Radiography_Dataset/Normal/masks/Normal-8305.png  \n",
            "  inflating: COVID-19_Radiography_Dataset/Normal/masks/Normal-8306.png  \n",
            "  inflating: COVID-19_Radiography_Dataset/Normal/masks/Normal-8307.png  \n",
            "  inflating: COVID-19_Radiography_Dataset/Normal/masks/Normal-8308.png  \n",
            "  inflating: COVID-19_Radiography_Dataset/Normal/masks/Normal-8309.png  \n",
            "  inflating: COVID-19_Radiography_Dataset/Normal/masks/Normal-831.png  \n",
            "  inflating: COVID-19_Radiography_Dataset/Normal/masks/Normal-8310.png  \n",
            "  inflating: COVID-19_Radiography_Dataset/Normal/masks/Normal-8311.png  \n",
            "  inflating: COVID-19_Radiography_Dataset/Normal/masks/Normal-8312.png  \n",
            "  inflating: COVID-19_Radiography_Dataset/Normal/masks/Normal-8313.png  \n",
            "  inflating: COVID-19_Radiography_Dataset/Normal/masks/Normal-8314.png  \n",
            "  inflating: COVID-19_Radiography_Dataset/Normal/masks/Normal-8315.png  \n",
            "  inflating: COVID-19_Radiography_Dataset/Normal/masks/Normal-8316.png  \n",
            "  inflating: COVID-19_Radiography_Dataset/Normal/masks/Normal-8317.png  \n",
            "  inflating: COVID-19_Radiography_Dataset/Normal/masks/Normal-8318.png  \n",
            "  inflating: COVID-19_Radiography_Dataset/Normal/masks/Normal-8319.png  \n",
            "  inflating: COVID-19_Radiography_Dataset/Normal/masks/Normal-832.png  \n",
            "  inflating: COVID-19_Radiography_Dataset/Normal/masks/Normal-8320.png  \n",
            "  inflating: COVID-19_Radiography_Dataset/Normal/masks/Normal-8321.png  \n",
            "  inflating: COVID-19_Radiography_Dataset/Normal/masks/Normal-8322.png  \n",
            "  inflating: COVID-19_Radiography_Dataset/Normal/masks/Normal-8323.png  \n",
            "  inflating: COVID-19_Radiography_Dataset/Normal/masks/Normal-8324.png  \n",
            "  inflating: COVID-19_Radiography_Dataset/Normal/masks/Normal-8325.png  \n",
            "  inflating: COVID-19_Radiography_Dataset/Normal/masks/Normal-8326.png  \n",
            "  inflating: COVID-19_Radiography_Dataset/Normal/masks/Normal-8327.png  \n",
            "  inflating: COVID-19_Radiography_Dataset/Normal/masks/Normal-8328.png  \n",
            "  inflating: COVID-19_Radiography_Dataset/Normal/masks/Normal-8329.png  \n",
            "  inflating: COVID-19_Radiography_Dataset/Normal/masks/Normal-833.png  \n",
            "  inflating: COVID-19_Radiography_Dataset/Normal/masks/Normal-8330.png  \n",
            "  inflating: COVID-19_Radiography_Dataset/Normal/masks/Normal-8331.png  \n",
            "  inflating: COVID-19_Radiography_Dataset/Normal/masks/Normal-8332.png  \n",
            "  inflating: COVID-19_Radiography_Dataset/Normal/masks/Normal-8333.png  \n",
            "  inflating: COVID-19_Radiography_Dataset/Normal/masks/Normal-8334.png  \n",
            "  inflating: COVID-19_Radiography_Dataset/Normal/masks/Normal-8335.png  \n",
            "  inflating: COVID-19_Radiography_Dataset/Normal/masks/Normal-8336.png  \n",
            "  inflating: COVID-19_Radiography_Dataset/Normal/masks/Normal-8337.png  \n",
            "  inflating: COVID-19_Radiography_Dataset/Normal/masks/Normal-8338.png  \n",
            "  inflating: COVID-19_Radiography_Dataset/Normal/masks/Normal-8339.png  \n",
            "  inflating: COVID-19_Radiography_Dataset/Normal/masks/Normal-834.png  \n",
            "  inflating: COVID-19_Radiography_Dataset/Normal/masks/Normal-8340.png  \n",
            "  inflating: COVID-19_Radiography_Dataset/Normal/masks/Normal-8341.png  \n",
            "  inflating: COVID-19_Radiography_Dataset/Normal/masks/Normal-8342.png  \n",
            "  inflating: COVID-19_Radiography_Dataset/Normal/masks/Normal-8343.png  \n",
            "  inflating: COVID-19_Radiography_Dataset/Normal/masks/Normal-8344.png  \n",
            "  inflating: COVID-19_Radiography_Dataset/Normal/masks/Normal-8345.png  \n",
            "  inflating: COVID-19_Radiography_Dataset/Normal/masks/Normal-8346.png  \n",
            "  inflating: COVID-19_Radiography_Dataset/Normal/masks/Normal-8347.png  \n",
            "  inflating: COVID-19_Radiography_Dataset/Normal/masks/Normal-8348.png  \n",
            "  inflating: COVID-19_Radiography_Dataset/Normal/masks/Normal-8349.png  \n",
            "  inflating: COVID-19_Radiography_Dataset/Normal/masks/Normal-835.png  \n",
            "  inflating: COVID-19_Radiography_Dataset/Normal/masks/Normal-8350.png  \n",
            "  inflating: COVID-19_Radiography_Dataset/Normal/masks/Normal-8351.png  \n",
            "  inflating: COVID-19_Radiography_Dataset/Normal/masks/Normal-8352.png  \n",
            "  inflating: COVID-19_Radiography_Dataset/Normal/masks/Normal-8353.png  \n",
            "  inflating: COVID-19_Radiography_Dataset/Normal/masks/Normal-8354.png  \n",
            "  inflating: COVID-19_Radiography_Dataset/Normal/masks/Normal-8355.png  \n",
            "  inflating: COVID-19_Radiography_Dataset/Normal/masks/Normal-8356.png  \n",
            "  inflating: COVID-19_Radiography_Dataset/Normal/masks/Normal-8357.png  \n",
            "  inflating: COVID-19_Radiography_Dataset/Normal/masks/Normal-8358.png  \n",
            "  inflating: COVID-19_Radiography_Dataset/Normal/masks/Normal-8359.png  \n",
            "  inflating: COVID-19_Radiography_Dataset/Normal/masks/Normal-836.png  \n",
            "  inflating: COVID-19_Radiography_Dataset/Normal/masks/Normal-8360.png  \n",
            "  inflating: COVID-19_Radiography_Dataset/Normal/masks/Normal-8361.png  \n",
            "  inflating: COVID-19_Radiography_Dataset/Normal/masks/Normal-8362.png  \n",
            "  inflating: COVID-19_Radiography_Dataset/Normal/masks/Normal-8363.png  \n",
            "  inflating: COVID-19_Radiography_Dataset/Normal/masks/Normal-8364.png  \n",
            "  inflating: COVID-19_Radiography_Dataset/Normal/masks/Normal-8365.png  \n",
            "  inflating: COVID-19_Radiography_Dataset/Normal/masks/Normal-8366.png  \n",
            "  inflating: COVID-19_Radiography_Dataset/Normal/masks/Normal-8367.png  \n",
            "  inflating: COVID-19_Radiography_Dataset/Normal/masks/Normal-8368.png  \n",
            "  inflating: COVID-19_Radiography_Dataset/Normal/masks/Normal-8369.png  \n",
            "  inflating: COVID-19_Radiography_Dataset/Normal/masks/Normal-837.png  \n",
            "  inflating: COVID-19_Radiography_Dataset/Normal/masks/Normal-8370.png  \n",
            "  inflating: COVID-19_Radiography_Dataset/Normal/masks/Normal-8371.png  \n",
            "  inflating: COVID-19_Radiography_Dataset/Normal/masks/Normal-8372.png  \n",
            "  inflating: COVID-19_Radiography_Dataset/Normal/masks/Normal-8373.png  \n",
            "  inflating: COVID-19_Radiography_Dataset/Normal/masks/Normal-8374.png  \n",
            "  inflating: COVID-19_Radiography_Dataset/Normal/masks/Normal-8375.png  \n",
            "  inflating: COVID-19_Radiography_Dataset/Normal/masks/Normal-8376.png  \n",
            "  inflating: COVID-19_Radiography_Dataset/Normal/masks/Normal-8377.png  \n",
            "  inflating: COVID-19_Radiography_Dataset/Normal/masks/Normal-8378.png  \n",
            "  inflating: COVID-19_Radiography_Dataset/Normal/masks/Normal-8379.png  \n",
            "  inflating: COVID-19_Radiography_Dataset/Normal/masks/Normal-838.png  \n",
            "  inflating: COVID-19_Radiography_Dataset/Normal/masks/Normal-8380.png  \n",
            "  inflating: COVID-19_Radiography_Dataset/Normal/masks/Normal-8381.png  \n",
            "  inflating: COVID-19_Radiography_Dataset/Normal/masks/Normal-8382.png  \n",
            "  inflating: COVID-19_Radiography_Dataset/Normal/masks/Normal-8383.png  \n",
            "  inflating: COVID-19_Radiography_Dataset/Normal/masks/Normal-8384.png  \n",
            "  inflating: COVID-19_Radiography_Dataset/Normal/masks/Normal-8385.png  \n",
            "  inflating: COVID-19_Radiography_Dataset/Normal/masks/Normal-8386.png  \n",
            "  inflating: COVID-19_Radiography_Dataset/Normal/masks/Normal-8387.png  \n",
            "  inflating: COVID-19_Radiography_Dataset/Normal/masks/Normal-8388.png  \n",
            "  inflating: COVID-19_Radiography_Dataset/Normal/masks/Normal-8389.png  \n",
            "  inflating: COVID-19_Radiography_Dataset/Normal/masks/Normal-839.png  \n",
            "  inflating: COVID-19_Radiography_Dataset/Normal/masks/Normal-8390.png  \n",
            "  inflating: COVID-19_Radiography_Dataset/Normal/masks/Normal-8391.png  \n",
            "  inflating: COVID-19_Radiography_Dataset/Normal/masks/Normal-8392.png  \n",
            "  inflating: COVID-19_Radiography_Dataset/Normal/masks/Normal-8393.png  \n",
            "  inflating: COVID-19_Radiography_Dataset/Normal/masks/Normal-8394.png  \n",
            "  inflating: COVID-19_Radiography_Dataset/Normal/masks/Normal-8395.png  \n",
            "  inflating: COVID-19_Radiography_Dataset/Normal/masks/Normal-8396.png  \n",
            "  inflating: COVID-19_Radiography_Dataset/Normal/masks/Normal-8397.png  \n",
            "  inflating: COVID-19_Radiography_Dataset/Normal/masks/Normal-8398.png  \n",
            "  inflating: COVID-19_Radiography_Dataset/Normal/masks/Normal-8399.png  \n",
            "  inflating: COVID-19_Radiography_Dataset/Normal/masks/Normal-84.png  \n",
            "  inflating: COVID-19_Radiography_Dataset/Normal/masks/Normal-840.png  \n",
            "  inflating: COVID-19_Radiography_Dataset/Normal/masks/Normal-8400.png  \n",
            "  inflating: COVID-19_Radiography_Dataset/Normal/masks/Normal-8401.png  \n",
            "  inflating: COVID-19_Radiography_Dataset/Normal/masks/Normal-8402.png  \n",
            "  inflating: COVID-19_Radiography_Dataset/Normal/masks/Normal-8403.png  \n",
            "  inflating: COVID-19_Radiography_Dataset/Normal/masks/Normal-8404.png  \n",
            "  inflating: COVID-19_Radiography_Dataset/Normal/masks/Normal-8405.png  \n",
            "  inflating: COVID-19_Radiography_Dataset/Normal/masks/Normal-8406.png  \n",
            "  inflating: COVID-19_Radiography_Dataset/Normal/masks/Normal-8407.png  \n",
            "  inflating: COVID-19_Radiography_Dataset/Normal/masks/Normal-8408.png  \n",
            "  inflating: COVID-19_Radiography_Dataset/Normal/masks/Normal-8409.png  \n",
            "  inflating: COVID-19_Radiography_Dataset/Normal/masks/Normal-841.png  \n",
            "  inflating: COVID-19_Radiography_Dataset/Normal/masks/Normal-8410.png  \n",
            "  inflating: COVID-19_Radiography_Dataset/Normal/masks/Normal-8411.png  \n",
            "  inflating: COVID-19_Radiography_Dataset/Normal/masks/Normal-8412.png  \n",
            "  inflating: COVID-19_Radiography_Dataset/Normal/masks/Normal-8413.png  \n",
            "  inflating: COVID-19_Radiography_Dataset/Normal/masks/Normal-8414.png  \n",
            "  inflating: COVID-19_Radiography_Dataset/Normal/masks/Normal-8415.png  \n",
            "  inflating: COVID-19_Radiography_Dataset/Normal/masks/Normal-8416.png  \n",
            "  inflating: COVID-19_Radiography_Dataset/Normal/masks/Normal-8417.png  \n",
            "  inflating: COVID-19_Radiography_Dataset/Normal/masks/Normal-8418.png  \n",
            "  inflating: COVID-19_Radiography_Dataset/Normal/masks/Normal-8419.png  \n",
            "  inflating: COVID-19_Radiography_Dataset/Normal/masks/Normal-842.png  \n",
            "  inflating: COVID-19_Radiography_Dataset/Normal/masks/Normal-8420.png  \n",
            "  inflating: COVID-19_Radiography_Dataset/Normal/masks/Normal-8421.png  \n",
            "  inflating: COVID-19_Radiography_Dataset/Normal/masks/Normal-8422.png  \n",
            "  inflating: COVID-19_Radiography_Dataset/Normal/masks/Normal-8423.png  \n",
            "  inflating: COVID-19_Radiography_Dataset/Normal/masks/Normal-8424.png  \n",
            "  inflating: COVID-19_Radiography_Dataset/Normal/masks/Normal-8425.png  \n",
            "  inflating: COVID-19_Radiography_Dataset/Normal/masks/Normal-8426.png  \n",
            "  inflating: COVID-19_Radiography_Dataset/Normal/masks/Normal-8427.png  \n",
            "  inflating: COVID-19_Radiography_Dataset/Normal/masks/Normal-8428.png  \n",
            "  inflating: COVID-19_Radiography_Dataset/Normal/masks/Normal-8429.png  \n",
            "  inflating: COVID-19_Radiography_Dataset/Normal/masks/Normal-843.png  \n",
            "  inflating: COVID-19_Radiography_Dataset/Normal/masks/Normal-8430.png  \n",
            "  inflating: COVID-19_Radiography_Dataset/Normal/masks/Normal-8431.png  \n",
            "  inflating: COVID-19_Radiography_Dataset/Normal/masks/Normal-8432.png  \n",
            "  inflating: COVID-19_Radiography_Dataset/Normal/masks/Normal-8433.png  \n",
            "  inflating: COVID-19_Radiography_Dataset/Normal/masks/Normal-8434.png  \n",
            "  inflating: COVID-19_Radiography_Dataset/Normal/masks/Normal-8435.png  \n",
            "  inflating: COVID-19_Radiography_Dataset/Normal/masks/Normal-8436.png  \n",
            "  inflating: COVID-19_Radiography_Dataset/Normal/masks/Normal-8437.png  \n",
            "  inflating: COVID-19_Radiography_Dataset/Normal/masks/Normal-8438.png  \n",
            "  inflating: COVID-19_Radiography_Dataset/Normal/masks/Normal-8439.png  \n",
            "  inflating: COVID-19_Radiography_Dataset/Normal/masks/Normal-844.png  \n",
            "  inflating: COVID-19_Radiography_Dataset/Normal/masks/Normal-8440.png  \n",
            "  inflating: COVID-19_Radiography_Dataset/Normal/masks/Normal-8441.png  \n",
            "  inflating: COVID-19_Radiography_Dataset/Normal/masks/Normal-8442.png  \n",
            "  inflating: COVID-19_Radiography_Dataset/Normal/masks/Normal-8443.png  \n",
            "  inflating: COVID-19_Radiography_Dataset/Normal/masks/Normal-8444.png  \n",
            "  inflating: COVID-19_Radiography_Dataset/Normal/masks/Normal-8445.png  \n",
            "  inflating: COVID-19_Radiography_Dataset/Normal/masks/Normal-8446.png  \n",
            "  inflating: COVID-19_Radiography_Dataset/Normal/masks/Normal-8447.png  \n",
            "  inflating: COVID-19_Radiography_Dataset/Normal/masks/Normal-8448.png  \n",
            "  inflating: COVID-19_Radiography_Dataset/Normal/masks/Normal-8449.png  \n",
            "  inflating: COVID-19_Radiography_Dataset/Normal/masks/Normal-845.png  \n",
            "  inflating: COVID-19_Radiography_Dataset/Normal/masks/Normal-8450.png  \n",
            "  inflating: COVID-19_Radiography_Dataset/Normal/masks/Normal-8451.png  \n",
            "  inflating: COVID-19_Radiography_Dataset/Normal/masks/Normal-8452.png  \n",
            "  inflating: COVID-19_Radiography_Dataset/Normal/masks/Normal-8453.png  \n",
            "  inflating: COVID-19_Radiography_Dataset/Normal/masks/Normal-8454.png  \n",
            "  inflating: COVID-19_Radiography_Dataset/Normal/masks/Normal-8455.png  \n",
            "  inflating: COVID-19_Radiography_Dataset/Normal/masks/Normal-8456.png  \n",
            "  inflating: COVID-19_Radiography_Dataset/Normal/masks/Normal-8457.png  \n",
            "  inflating: COVID-19_Radiography_Dataset/Normal/masks/Normal-8458.png  \n",
            "  inflating: COVID-19_Radiography_Dataset/Normal/masks/Normal-8459.png  \n",
            "  inflating: COVID-19_Radiography_Dataset/Normal/masks/Normal-846.png  \n",
            "  inflating: COVID-19_Radiography_Dataset/Normal/masks/Normal-8460.png  \n",
            "  inflating: COVID-19_Radiography_Dataset/Normal/masks/Normal-8461.png  \n",
            "  inflating: COVID-19_Radiography_Dataset/Normal/masks/Normal-8462.png  \n",
            "  inflating: COVID-19_Radiography_Dataset/Normal/masks/Normal-8463.png  \n",
            "  inflating: COVID-19_Radiography_Dataset/Normal/masks/Normal-8464.png  \n",
            "  inflating: COVID-19_Radiography_Dataset/Normal/masks/Normal-8465.png  \n",
            "  inflating: COVID-19_Radiography_Dataset/Normal/masks/Normal-8466.png  \n",
            "  inflating: COVID-19_Radiography_Dataset/Normal/masks/Normal-8467.png  \n",
            "  inflating: COVID-19_Radiography_Dataset/Normal/masks/Normal-8468.png  \n",
            "  inflating: COVID-19_Radiography_Dataset/Normal/masks/Normal-8469.png  \n",
            "  inflating: COVID-19_Radiography_Dataset/Normal/masks/Normal-847.png  \n",
            "  inflating: COVID-19_Radiography_Dataset/Normal/masks/Normal-8470.png  \n",
            "  inflating: COVID-19_Radiography_Dataset/Normal/masks/Normal-8471.png  \n",
            "  inflating: COVID-19_Radiography_Dataset/Normal/masks/Normal-8472.png  \n",
            "  inflating: COVID-19_Radiography_Dataset/Normal/masks/Normal-8473.png  \n",
            "  inflating: COVID-19_Radiography_Dataset/Normal/masks/Normal-8474.png  \n",
            "  inflating: COVID-19_Radiography_Dataset/Normal/masks/Normal-8475.png  \n",
            "  inflating: COVID-19_Radiography_Dataset/Normal/masks/Normal-8476.png  \n",
            "  inflating: COVID-19_Radiography_Dataset/Normal/masks/Normal-8477.png  \n",
            "  inflating: COVID-19_Radiography_Dataset/Normal/masks/Normal-8478.png  \n",
            "  inflating: COVID-19_Radiography_Dataset/Normal/masks/Normal-8479.png  \n",
            "  inflating: COVID-19_Radiography_Dataset/Normal/masks/Normal-848.png  \n",
            "  inflating: COVID-19_Radiography_Dataset/Normal/masks/Normal-8480.png  \n",
            "  inflating: COVID-19_Radiography_Dataset/Normal/masks/Normal-8481.png  \n",
            "  inflating: COVID-19_Radiography_Dataset/Normal/masks/Normal-8482.png  \n",
            "  inflating: COVID-19_Radiography_Dataset/Normal/masks/Normal-8483.png  \n",
            "  inflating: COVID-19_Radiography_Dataset/Normal/masks/Normal-8484.png  \n",
            "  inflating: COVID-19_Radiography_Dataset/Normal/masks/Normal-8485.png  \n",
            "  inflating: COVID-19_Radiography_Dataset/Normal/masks/Normal-8486.png  \n",
            "  inflating: COVID-19_Radiography_Dataset/Normal/masks/Normal-8487.png  \n",
            "  inflating: COVID-19_Radiography_Dataset/Normal/masks/Normal-8488.png  \n",
            "  inflating: COVID-19_Radiography_Dataset/Normal/masks/Normal-8489.png  \n",
            "  inflating: COVID-19_Radiography_Dataset/Normal/masks/Normal-849.png  \n",
            "  inflating: COVID-19_Radiography_Dataset/Normal/masks/Normal-8490.png  \n",
            "  inflating: COVID-19_Radiography_Dataset/Normal/masks/Normal-8491.png  \n",
            "  inflating: COVID-19_Radiography_Dataset/Normal/masks/Normal-8492.png  \n",
            "  inflating: COVID-19_Radiography_Dataset/Normal/masks/Normal-8493.png  \n",
            "  inflating: COVID-19_Radiography_Dataset/Normal/masks/Normal-8494.png  \n",
            "  inflating: COVID-19_Radiography_Dataset/Normal/masks/Normal-8495.png  \n",
            "  inflating: COVID-19_Radiography_Dataset/Normal/masks/Normal-8496.png  \n",
            "  inflating: COVID-19_Radiography_Dataset/Normal/masks/Normal-8497.png  \n",
            "  inflating: COVID-19_Radiography_Dataset/Normal/masks/Normal-8498.png  \n",
            "  inflating: COVID-19_Radiography_Dataset/Normal/masks/Normal-8499.png  \n",
            "  inflating: COVID-19_Radiography_Dataset/Normal/masks/Normal-85.png  \n",
            "  inflating: COVID-19_Radiography_Dataset/Normal/masks/Normal-850.png  \n",
            "  inflating: COVID-19_Radiography_Dataset/Normal/masks/Normal-8500.png  \n",
            "  inflating: COVID-19_Radiography_Dataset/Normal/masks/Normal-8501.png  \n",
            "  inflating: COVID-19_Radiography_Dataset/Normal/masks/Normal-8502.png  \n",
            "  inflating: COVID-19_Radiography_Dataset/Normal/masks/Normal-8503.png  \n",
            "  inflating: COVID-19_Radiography_Dataset/Normal/masks/Normal-8504.png  \n",
            "  inflating: COVID-19_Radiography_Dataset/Normal/masks/Normal-8505.png  \n",
            "  inflating: COVID-19_Radiography_Dataset/Normal/masks/Normal-8506.png  \n",
            "  inflating: COVID-19_Radiography_Dataset/Normal/masks/Normal-8507.png  \n",
            "  inflating: COVID-19_Radiography_Dataset/Normal/masks/Normal-8508.png  \n",
            "  inflating: COVID-19_Radiography_Dataset/Normal/masks/Normal-8509.png  \n",
            "  inflating: COVID-19_Radiography_Dataset/Normal/masks/Normal-851.png  \n",
            "  inflating: COVID-19_Radiography_Dataset/Normal/masks/Normal-8510.png  \n",
            "  inflating: COVID-19_Radiography_Dataset/Normal/masks/Normal-8511.png  \n",
            "  inflating: COVID-19_Radiography_Dataset/Normal/masks/Normal-8512.png  \n",
            "  inflating: COVID-19_Radiography_Dataset/Normal/masks/Normal-8513.png  \n",
            "  inflating: COVID-19_Radiography_Dataset/Normal/masks/Normal-8514.png  \n",
            "  inflating: COVID-19_Radiography_Dataset/Normal/masks/Normal-8515.png  \n",
            "  inflating: COVID-19_Radiography_Dataset/Normal/masks/Normal-8516.png  \n",
            "  inflating: COVID-19_Radiography_Dataset/Normal/masks/Normal-8517.png  \n",
            "  inflating: COVID-19_Radiography_Dataset/Normal/masks/Normal-8518.png  \n",
            "  inflating: COVID-19_Radiography_Dataset/Normal/masks/Normal-8519.png  \n",
            "  inflating: COVID-19_Radiography_Dataset/Normal/masks/Normal-852.png  \n",
            "  inflating: COVID-19_Radiography_Dataset/Normal/masks/Normal-8520.png  \n",
            "  inflating: COVID-19_Radiography_Dataset/Normal/masks/Normal-8521.png  \n",
            "  inflating: COVID-19_Radiography_Dataset/Normal/masks/Normal-8522.png  \n",
            "  inflating: COVID-19_Radiography_Dataset/Normal/masks/Normal-8523.png  \n",
            "  inflating: COVID-19_Radiography_Dataset/Normal/masks/Normal-8524.png  \n",
            "  inflating: COVID-19_Radiography_Dataset/Normal/masks/Normal-8525.png  \n",
            "  inflating: COVID-19_Radiography_Dataset/Normal/masks/Normal-8526.png  \n",
            "  inflating: COVID-19_Radiography_Dataset/Normal/masks/Normal-8527.png  \n",
            "  inflating: COVID-19_Radiography_Dataset/Normal/masks/Normal-8528.png  \n",
            "  inflating: COVID-19_Radiography_Dataset/Normal/masks/Normal-8529.png  \n",
            "  inflating: COVID-19_Radiography_Dataset/Normal/masks/Normal-853.png  \n",
            "  inflating: COVID-19_Radiography_Dataset/Normal/masks/Normal-8530.png  \n",
            "  inflating: COVID-19_Radiography_Dataset/Normal/masks/Normal-8531.png  \n",
            "  inflating: COVID-19_Radiography_Dataset/Normal/masks/Normal-8532.png  \n",
            "  inflating: COVID-19_Radiography_Dataset/Normal/masks/Normal-8533.png  \n",
            "  inflating: COVID-19_Radiography_Dataset/Normal/masks/Normal-8534.png  \n",
            "  inflating: COVID-19_Radiography_Dataset/Normal/masks/Normal-8535.png  \n",
            "  inflating: COVID-19_Radiography_Dataset/Normal/masks/Normal-8536.png  \n",
            "  inflating: COVID-19_Radiography_Dataset/Normal/masks/Normal-8537.png  \n",
            "  inflating: COVID-19_Radiography_Dataset/Normal/masks/Normal-8538.png  \n",
            "  inflating: COVID-19_Radiography_Dataset/Normal/masks/Normal-8539.png  \n",
            "  inflating: COVID-19_Radiography_Dataset/Normal/masks/Normal-854.png  \n",
            "  inflating: COVID-19_Radiography_Dataset/Normal/masks/Normal-8540.png  \n",
            "  inflating: COVID-19_Radiography_Dataset/Normal/masks/Normal-8541.png  \n",
            "  inflating: COVID-19_Radiography_Dataset/Normal/masks/Normal-8542.png  \n",
            "  inflating: COVID-19_Radiography_Dataset/Normal/masks/Normal-8543.png  \n",
            "  inflating: COVID-19_Radiography_Dataset/Normal/masks/Normal-8544.png  \n",
            "  inflating: COVID-19_Radiography_Dataset/Normal/masks/Normal-8545.png  \n",
            "  inflating: COVID-19_Radiography_Dataset/Normal/masks/Normal-8546.png  \n",
            "  inflating: COVID-19_Radiography_Dataset/Normal/masks/Normal-8547.png  \n",
            "  inflating: COVID-19_Radiography_Dataset/Normal/masks/Normal-8548.png  \n",
            "  inflating: COVID-19_Radiography_Dataset/Normal/masks/Normal-8549.png  \n",
            "  inflating: COVID-19_Radiography_Dataset/Normal/masks/Normal-855.png  \n",
            "  inflating: COVID-19_Radiography_Dataset/Normal/masks/Normal-8550.png  \n",
            "  inflating: COVID-19_Radiography_Dataset/Normal/masks/Normal-8551.png  \n",
            "  inflating: COVID-19_Radiography_Dataset/Normal/masks/Normal-8552.png  \n",
            "  inflating: COVID-19_Radiography_Dataset/Normal/masks/Normal-8553.png  \n",
            "  inflating: COVID-19_Radiography_Dataset/Normal/masks/Normal-8554.png  \n",
            "  inflating: COVID-19_Radiography_Dataset/Normal/masks/Normal-8555.png  \n",
            "  inflating: COVID-19_Radiography_Dataset/Normal/masks/Normal-8556.png  \n",
            "  inflating: COVID-19_Radiography_Dataset/Normal/masks/Normal-8557.png  \n",
            "  inflating: COVID-19_Radiography_Dataset/Normal/masks/Normal-8558.png  \n",
            "  inflating: COVID-19_Radiography_Dataset/Normal/masks/Normal-8559.png  \n",
            "  inflating: COVID-19_Radiography_Dataset/Normal/masks/Normal-856.png  \n",
            "  inflating: COVID-19_Radiography_Dataset/Normal/masks/Normal-8560.png  \n",
            "  inflating: COVID-19_Radiography_Dataset/Normal/masks/Normal-8561.png  \n",
            "  inflating: COVID-19_Radiography_Dataset/Normal/masks/Normal-8562.png  \n",
            "  inflating: COVID-19_Radiography_Dataset/Normal/masks/Normal-8563.png  \n",
            "  inflating: COVID-19_Radiography_Dataset/Normal/masks/Normal-8564.png  \n",
            "  inflating: COVID-19_Radiography_Dataset/Normal/masks/Normal-8565.png  \n",
            "  inflating: COVID-19_Radiography_Dataset/Normal/masks/Normal-8566.png  \n",
            "  inflating: COVID-19_Radiography_Dataset/Normal/masks/Normal-8567.png  \n",
            "  inflating: COVID-19_Radiography_Dataset/Normal/masks/Normal-8568.png  \n",
            "  inflating: COVID-19_Radiography_Dataset/Normal/masks/Normal-8569.png  \n",
            "  inflating: COVID-19_Radiography_Dataset/Normal/masks/Normal-857.png  \n",
            "  inflating: COVID-19_Radiography_Dataset/Normal/masks/Normal-8570.png  \n",
            "  inflating: COVID-19_Radiography_Dataset/Normal/masks/Normal-8571.png  \n",
            "  inflating: COVID-19_Radiography_Dataset/Normal/masks/Normal-8572.png  \n",
            "  inflating: COVID-19_Radiography_Dataset/Normal/masks/Normal-8573.png  \n",
            "  inflating: COVID-19_Radiography_Dataset/Normal/masks/Normal-8574.png  \n",
            "  inflating: COVID-19_Radiography_Dataset/Normal/masks/Normal-8575.png  \n",
            "  inflating: COVID-19_Radiography_Dataset/Normal/masks/Normal-8576.png  \n",
            "  inflating: COVID-19_Radiography_Dataset/Normal/masks/Normal-8577.png  \n",
            "  inflating: COVID-19_Radiography_Dataset/Normal/masks/Normal-8578.png  \n",
            "  inflating: COVID-19_Radiography_Dataset/Normal/masks/Normal-8579.png  \n",
            "  inflating: COVID-19_Radiography_Dataset/Normal/masks/Normal-858.png  \n",
            "  inflating: COVID-19_Radiography_Dataset/Normal/masks/Normal-8580.png  \n",
            "  inflating: COVID-19_Radiography_Dataset/Normal/masks/Normal-8581.png  \n",
            "  inflating: COVID-19_Radiography_Dataset/Normal/masks/Normal-8582.png  \n",
            "  inflating: COVID-19_Radiography_Dataset/Normal/masks/Normal-8583.png  \n",
            "  inflating: COVID-19_Radiography_Dataset/Normal/masks/Normal-8584.png  \n",
            "  inflating: COVID-19_Radiography_Dataset/Normal/masks/Normal-8585.png  \n",
            "  inflating: COVID-19_Radiography_Dataset/Normal/masks/Normal-8586.png  \n",
            "  inflating: COVID-19_Radiography_Dataset/Normal/masks/Normal-8587.png  \n",
            "  inflating: COVID-19_Radiography_Dataset/Normal/masks/Normal-8588.png  \n",
            "  inflating: COVID-19_Radiography_Dataset/Normal/masks/Normal-8589.png  \n",
            "  inflating: COVID-19_Radiography_Dataset/Normal/masks/Normal-859.png  \n",
            "  inflating: COVID-19_Radiography_Dataset/Normal/masks/Normal-8590.png  \n",
            "  inflating: COVID-19_Radiography_Dataset/Normal/masks/Normal-8591.png  \n",
            "  inflating: COVID-19_Radiography_Dataset/Normal/masks/Normal-8592.png  \n",
            "  inflating: COVID-19_Radiography_Dataset/Normal/masks/Normal-8593.png  \n",
            "  inflating: COVID-19_Radiography_Dataset/Normal/masks/Normal-8594.png  \n",
            "  inflating: COVID-19_Radiography_Dataset/Normal/masks/Normal-8595.png  \n",
            "  inflating: COVID-19_Radiography_Dataset/Normal/masks/Normal-8596.png  \n",
            "  inflating: COVID-19_Radiography_Dataset/Normal/masks/Normal-8597.png  \n",
            "  inflating: COVID-19_Radiography_Dataset/Normal/masks/Normal-8598.png  \n",
            "  inflating: COVID-19_Radiography_Dataset/Normal/masks/Normal-8599.png  \n",
            "  inflating: COVID-19_Radiography_Dataset/Normal/masks/Normal-86.png  \n",
            "  inflating: COVID-19_Radiography_Dataset/Normal/masks/Normal-860.png  \n",
            "  inflating: COVID-19_Radiography_Dataset/Normal/masks/Normal-8600.png  \n",
            "  inflating: COVID-19_Radiography_Dataset/Normal/masks/Normal-8601.png  \n",
            "  inflating: COVID-19_Radiography_Dataset/Normal/masks/Normal-8602.png  \n",
            "  inflating: COVID-19_Radiography_Dataset/Normal/masks/Normal-8603.png  \n",
            "  inflating: COVID-19_Radiography_Dataset/Normal/masks/Normal-8604.png  \n",
            "  inflating: COVID-19_Radiography_Dataset/Normal/masks/Normal-8605.png  \n",
            "  inflating: COVID-19_Radiography_Dataset/Normal/masks/Normal-8606.png  \n",
            "  inflating: COVID-19_Radiography_Dataset/Normal/masks/Normal-8607.png  \n",
            "  inflating: COVID-19_Radiography_Dataset/Normal/masks/Normal-8608.png  \n",
            "  inflating: COVID-19_Radiography_Dataset/Normal/masks/Normal-8609.png  \n",
            "  inflating: COVID-19_Radiography_Dataset/Normal/masks/Normal-861.png  \n",
            "  inflating: COVID-19_Radiography_Dataset/Normal/masks/Normal-8610.png  \n",
            "  inflating: COVID-19_Radiography_Dataset/Normal/masks/Normal-8611.png  \n",
            "  inflating: COVID-19_Radiography_Dataset/Normal/masks/Normal-8612.png  \n",
            "  inflating: COVID-19_Radiography_Dataset/Normal/masks/Normal-8613.png  \n",
            "  inflating: COVID-19_Radiography_Dataset/Normal/masks/Normal-8614.png  \n",
            "  inflating: COVID-19_Radiography_Dataset/Normal/masks/Normal-8615.png  \n",
            "  inflating: COVID-19_Radiography_Dataset/Normal/masks/Normal-8616.png  \n",
            "  inflating: COVID-19_Radiography_Dataset/Normal/masks/Normal-8617.png  \n",
            "  inflating: COVID-19_Radiography_Dataset/Normal/masks/Normal-8618.png  \n",
            "  inflating: COVID-19_Radiography_Dataset/Normal/masks/Normal-8619.png  \n",
            "  inflating: COVID-19_Radiography_Dataset/Normal/masks/Normal-862.png  \n",
            "  inflating: COVID-19_Radiography_Dataset/Normal/masks/Normal-8620.png  \n",
            "  inflating: COVID-19_Radiography_Dataset/Normal/masks/Normal-8621.png  \n",
            "  inflating: COVID-19_Radiography_Dataset/Normal/masks/Normal-8622.png  \n",
            "  inflating: COVID-19_Radiography_Dataset/Normal/masks/Normal-8623.png  \n",
            "  inflating: COVID-19_Radiography_Dataset/Normal/masks/Normal-8624.png  \n",
            "  inflating: COVID-19_Radiography_Dataset/Normal/masks/Normal-8625.png  \n",
            "  inflating: COVID-19_Radiography_Dataset/Normal/masks/Normal-8626.png  \n",
            "  inflating: COVID-19_Radiography_Dataset/Normal/masks/Normal-8627.png  \n",
            "  inflating: COVID-19_Radiography_Dataset/Normal/masks/Normal-8628.png  \n",
            "  inflating: COVID-19_Radiography_Dataset/Normal/masks/Normal-8629.png  \n",
            "  inflating: COVID-19_Radiography_Dataset/Normal/masks/Normal-863.png  \n",
            "  inflating: COVID-19_Radiography_Dataset/Normal/masks/Normal-8630.png  \n",
            "  inflating: COVID-19_Radiography_Dataset/Normal/masks/Normal-8631.png  \n",
            "  inflating: COVID-19_Radiography_Dataset/Normal/masks/Normal-8632.png  \n",
            "  inflating: COVID-19_Radiography_Dataset/Normal/masks/Normal-8633.png  \n",
            "  inflating: COVID-19_Radiography_Dataset/Normal/masks/Normal-8634.png  \n",
            "  inflating: COVID-19_Radiography_Dataset/Normal/masks/Normal-8635.png  \n",
            "  inflating: COVID-19_Radiography_Dataset/Normal/masks/Normal-8636.png  \n",
            "  inflating: COVID-19_Radiography_Dataset/Normal/masks/Normal-8637.png  \n",
            "  inflating: COVID-19_Radiography_Dataset/Normal/masks/Normal-8638.png  \n",
            "  inflating: COVID-19_Radiography_Dataset/Normal/masks/Normal-8639.png  \n",
            "  inflating: COVID-19_Radiography_Dataset/Normal/masks/Normal-864.png  \n",
            "  inflating: COVID-19_Radiography_Dataset/Normal/masks/Normal-8640.png  \n",
            "  inflating: COVID-19_Radiography_Dataset/Normal/masks/Normal-8641.png  \n",
            "  inflating: COVID-19_Radiography_Dataset/Normal/masks/Normal-8642.png  \n",
            "  inflating: COVID-19_Radiography_Dataset/Normal/masks/Normal-8643.png  \n",
            "  inflating: COVID-19_Radiography_Dataset/Normal/masks/Normal-8644.png  \n",
            "  inflating: COVID-19_Radiography_Dataset/Normal/masks/Normal-8645.png  \n",
            "  inflating: COVID-19_Radiography_Dataset/Normal/masks/Normal-8646.png  \n",
            "  inflating: COVID-19_Radiography_Dataset/Normal/masks/Normal-8647.png  \n",
            "  inflating: COVID-19_Radiography_Dataset/Normal/masks/Normal-8648.png  \n",
            "  inflating: COVID-19_Radiography_Dataset/Normal/masks/Normal-8649.png  \n",
            "  inflating: COVID-19_Radiography_Dataset/Normal/masks/Normal-865.png  \n",
            "  inflating: COVID-19_Radiography_Dataset/Normal/masks/Normal-8650.png  \n",
            "  inflating: COVID-19_Radiography_Dataset/Normal/masks/Normal-8651.png  \n",
            "  inflating: COVID-19_Radiography_Dataset/Normal/masks/Normal-8652.png  \n",
            "  inflating: COVID-19_Radiography_Dataset/Normal/masks/Normal-8653.png  \n",
            "  inflating: COVID-19_Radiography_Dataset/Normal/masks/Normal-8654.png  \n",
            "  inflating: COVID-19_Radiography_Dataset/Normal/masks/Normal-8655.png  \n",
            "  inflating: COVID-19_Radiography_Dataset/Normal/masks/Normal-8656.png  \n",
            "  inflating: COVID-19_Radiography_Dataset/Normal/masks/Normal-8657.png  \n",
            "  inflating: COVID-19_Radiography_Dataset/Normal/masks/Normal-8658.png  \n",
            "  inflating: COVID-19_Radiography_Dataset/Normal/masks/Normal-8659.png  \n",
            "  inflating: COVID-19_Radiography_Dataset/Normal/masks/Normal-866.png  \n",
            "  inflating: COVID-19_Radiography_Dataset/Normal/masks/Normal-8660.png  \n",
            "  inflating: COVID-19_Radiography_Dataset/Normal/masks/Normal-8661.png  \n",
            "  inflating: COVID-19_Radiography_Dataset/Normal/masks/Normal-8662.png  \n",
            "  inflating: COVID-19_Radiography_Dataset/Normal/masks/Normal-8663.png  \n",
            "  inflating: COVID-19_Radiography_Dataset/Normal/masks/Normal-8664.png  \n",
            "  inflating: COVID-19_Radiography_Dataset/Normal/masks/Normal-8665.png  \n",
            "  inflating: COVID-19_Radiography_Dataset/Normal/masks/Normal-8666.png  \n",
            "  inflating: COVID-19_Radiography_Dataset/Normal/masks/Normal-8667.png  \n",
            "  inflating: COVID-19_Radiography_Dataset/Normal/masks/Normal-8668.png  \n",
            "  inflating: COVID-19_Radiography_Dataset/Normal/masks/Normal-8669.png  \n",
            "  inflating: COVID-19_Radiography_Dataset/Normal/masks/Normal-867.png  \n",
            "  inflating: COVID-19_Radiography_Dataset/Normal/masks/Normal-8670.png  \n",
            "  inflating: COVID-19_Radiography_Dataset/Normal/masks/Normal-8671.png  \n",
            "  inflating: COVID-19_Radiography_Dataset/Normal/masks/Normal-8672.png  \n",
            "  inflating: COVID-19_Radiography_Dataset/Normal/masks/Normal-8673.png  \n",
            "  inflating: COVID-19_Radiography_Dataset/Normal/masks/Normal-8674.png  \n",
            "  inflating: COVID-19_Radiography_Dataset/Normal/masks/Normal-8675.png  \n",
            "  inflating: COVID-19_Radiography_Dataset/Normal/masks/Normal-8676.png  \n",
            "  inflating: COVID-19_Radiography_Dataset/Normal/masks/Normal-8677.png  \n",
            "  inflating: COVID-19_Radiography_Dataset/Normal/masks/Normal-8678.png  \n",
            "  inflating: COVID-19_Radiography_Dataset/Normal/masks/Normal-8679.png  \n",
            "  inflating: COVID-19_Radiography_Dataset/Normal/masks/Normal-868.png  \n",
            "  inflating: COVID-19_Radiography_Dataset/Normal/masks/Normal-8680.png  \n",
            "  inflating: COVID-19_Radiography_Dataset/Normal/masks/Normal-8681.png  \n",
            "  inflating: COVID-19_Radiography_Dataset/Normal/masks/Normal-8682.png  \n",
            "  inflating: COVID-19_Radiography_Dataset/Normal/masks/Normal-8683.png  \n",
            "  inflating: COVID-19_Radiography_Dataset/Normal/masks/Normal-8684.png  \n",
            "  inflating: COVID-19_Radiography_Dataset/Normal/masks/Normal-8685.png  \n",
            "  inflating: COVID-19_Radiography_Dataset/Normal/masks/Normal-8686.png  \n",
            "  inflating: COVID-19_Radiography_Dataset/Normal/masks/Normal-8687.png  \n",
            "  inflating: COVID-19_Radiography_Dataset/Normal/masks/Normal-8688.png  \n",
            "  inflating: COVID-19_Radiography_Dataset/Normal/masks/Normal-8689.png  \n",
            "  inflating: COVID-19_Radiography_Dataset/Normal/masks/Normal-869.png  \n",
            "  inflating: COVID-19_Radiography_Dataset/Normal/masks/Normal-8690.png  \n",
            "  inflating: COVID-19_Radiography_Dataset/Normal/masks/Normal-8691.png  \n",
            "  inflating: COVID-19_Radiography_Dataset/Normal/masks/Normal-8692.png  \n",
            "  inflating: COVID-19_Radiography_Dataset/Normal/masks/Normal-8693.png  \n",
            "  inflating: COVID-19_Radiography_Dataset/Normal/masks/Normal-8694.png  \n",
            "  inflating: COVID-19_Radiography_Dataset/Normal/masks/Normal-8695.png  \n",
            "  inflating: COVID-19_Radiography_Dataset/Normal/masks/Normal-8696.png  \n",
            "  inflating: COVID-19_Radiography_Dataset/Normal/masks/Normal-8697.png  \n",
            "  inflating: COVID-19_Radiography_Dataset/Normal/masks/Normal-8698.png  \n",
            "  inflating: COVID-19_Radiography_Dataset/Normal/masks/Normal-8699.png  \n",
            "  inflating: COVID-19_Radiography_Dataset/Normal/masks/Normal-87.png  \n",
            "  inflating: COVID-19_Radiography_Dataset/Normal/masks/Normal-870.png  \n",
            "  inflating: COVID-19_Radiography_Dataset/Normal/masks/Normal-8700.png  \n",
            "  inflating: COVID-19_Radiography_Dataset/Normal/masks/Normal-8701.png  \n",
            "  inflating: COVID-19_Radiography_Dataset/Normal/masks/Normal-8702.png  \n",
            "  inflating: COVID-19_Radiography_Dataset/Normal/masks/Normal-8703.png  \n",
            "  inflating: COVID-19_Radiography_Dataset/Normal/masks/Normal-8704.png  \n",
            "  inflating: COVID-19_Radiography_Dataset/Normal/masks/Normal-8705.png  \n",
            "  inflating: COVID-19_Radiography_Dataset/Normal/masks/Normal-8706.png  \n",
            "  inflating: COVID-19_Radiography_Dataset/Normal/masks/Normal-8707.png  \n",
            "  inflating: COVID-19_Radiography_Dataset/Normal/masks/Normal-8708.png  \n",
            "  inflating: COVID-19_Radiography_Dataset/Normal/masks/Normal-8709.png  \n",
            "  inflating: COVID-19_Radiography_Dataset/Normal/masks/Normal-871.png  \n",
            "  inflating: COVID-19_Radiography_Dataset/Normal/masks/Normal-8710.png  \n",
            "  inflating: COVID-19_Radiography_Dataset/Normal/masks/Normal-8711.png  \n",
            "  inflating: COVID-19_Radiography_Dataset/Normal/masks/Normal-8712.png  \n",
            "  inflating: COVID-19_Radiography_Dataset/Normal/masks/Normal-8713.png  \n",
            "  inflating: COVID-19_Radiography_Dataset/Normal/masks/Normal-8714.png  \n",
            "  inflating: COVID-19_Radiography_Dataset/Normal/masks/Normal-8715.png  \n",
            "  inflating: COVID-19_Radiography_Dataset/Normal/masks/Normal-8716.png  \n",
            "  inflating: COVID-19_Radiography_Dataset/Normal/masks/Normal-8717.png  \n",
            "  inflating: COVID-19_Radiography_Dataset/Normal/masks/Normal-8718.png  \n",
            "  inflating: COVID-19_Radiography_Dataset/Normal/masks/Normal-8719.png  \n",
            "  inflating: COVID-19_Radiography_Dataset/Normal/masks/Normal-872.png  \n",
            "  inflating: COVID-19_Radiography_Dataset/Normal/masks/Normal-8720.png  \n",
            "  inflating: COVID-19_Radiography_Dataset/Normal/masks/Normal-8721.png  \n",
            "  inflating: COVID-19_Radiography_Dataset/Normal/masks/Normal-8722.png  \n",
            "  inflating: COVID-19_Radiography_Dataset/Normal/masks/Normal-8723.png  \n",
            "  inflating: COVID-19_Radiography_Dataset/Normal/masks/Normal-8724.png  \n",
            "  inflating: COVID-19_Radiography_Dataset/Normal/masks/Normal-8725.png  \n",
            "  inflating: COVID-19_Radiography_Dataset/Normal/masks/Normal-8726.png  \n",
            "  inflating: COVID-19_Radiography_Dataset/Normal/masks/Normal-8727.png  \n",
            "  inflating: COVID-19_Radiography_Dataset/Normal/masks/Normal-8728.png  \n",
            "  inflating: COVID-19_Radiography_Dataset/Normal/masks/Normal-8729.png  \n",
            "  inflating: COVID-19_Radiography_Dataset/Normal/masks/Normal-873.png  \n",
            "  inflating: COVID-19_Radiography_Dataset/Normal/masks/Normal-8730.png  \n",
            "  inflating: COVID-19_Radiography_Dataset/Normal/masks/Normal-8731.png  \n",
            "  inflating: COVID-19_Radiography_Dataset/Normal/masks/Normal-8732.png  \n",
            "  inflating: COVID-19_Radiography_Dataset/Normal/masks/Normal-8733.png  \n",
            "  inflating: COVID-19_Radiography_Dataset/Normal/masks/Normal-8734.png  \n",
            "  inflating: COVID-19_Radiography_Dataset/Normal/masks/Normal-8735.png  \n",
            "  inflating: COVID-19_Radiography_Dataset/Normal/masks/Normal-8736.png  \n",
            "  inflating: COVID-19_Radiography_Dataset/Normal/masks/Normal-8737.png  \n",
            "  inflating: COVID-19_Radiography_Dataset/Normal/masks/Normal-8738.png  \n",
            "  inflating: COVID-19_Radiography_Dataset/Normal/masks/Normal-8739.png  \n",
            "  inflating: COVID-19_Radiography_Dataset/Normal/masks/Normal-874.png  \n",
            "  inflating: COVID-19_Radiography_Dataset/Normal/masks/Normal-8740.png  \n",
            "  inflating: COVID-19_Radiography_Dataset/Normal/masks/Normal-8741.png  \n",
            "  inflating: COVID-19_Radiography_Dataset/Normal/masks/Normal-8742.png  \n",
            "  inflating: COVID-19_Radiography_Dataset/Normal/masks/Normal-8743.png  \n",
            "  inflating: COVID-19_Radiography_Dataset/Normal/masks/Normal-8744.png  \n",
            "  inflating: COVID-19_Radiography_Dataset/Normal/masks/Normal-8745.png  \n",
            "  inflating: COVID-19_Radiography_Dataset/Normal/masks/Normal-8746.png  \n",
            "  inflating: COVID-19_Radiography_Dataset/Normal/masks/Normal-8747.png  \n",
            "  inflating: COVID-19_Radiography_Dataset/Normal/masks/Normal-8748.png  \n",
            "  inflating: COVID-19_Radiography_Dataset/Normal/masks/Normal-8749.png  \n",
            "  inflating: COVID-19_Radiography_Dataset/Normal/masks/Normal-875.png  \n",
            "  inflating: COVID-19_Radiography_Dataset/Normal/masks/Normal-8750.png  \n",
            "  inflating: COVID-19_Radiography_Dataset/Normal/masks/Normal-8751.png  \n",
            "  inflating: COVID-19_Radiography_Dataset/Normal/masks/Normal-8752.png  \n",
            "  inflating: COVID-19_Radiography_Dataset/Normal/masks/Normal-8753.png  \n",
            "  inflating: COVID-19_Radiography_Dataset/Normal/masks/Normal-8754.png  \n",
            "  inflating: COVID-19_Radiography_Dataset/Normal/masks/Normal-8755.png  \n",
            "  inflating: COVID-19_Radiography_Dataset/Normal/masks/Normal-8756.png  \n",
            "  inflating: COVID-19_Radiography_Dataset/Normal/masks/Normal-8757.png  \n",
            "  inflating: COVID-19_Radiography_Dataset/Normal/masks/Normal-8758.png  \n",
            "  inflating: COVID-19_Radiography_Dataset/Normal/masks/Normal-8759.png  \n",
            "  inflating: COVID-19_Radiography_Dataset/Normal/masks/Normal-876.png  \n",
            "  inflating: COVID-19_Radiography_Dataset/Normal/masks/Normal-8760.png  \n",
            "  inflating: COVID-19_Radiography_Dataset/Normal/masks/Normal-8761.png  \n",
            "  inflating: COVID-19_Radiography_Dataset/Normal/masks/Normal-8762.png  \n",
            "  inflating: COVID-19_Radiography_Dataset/Normal/masks/Normal-8763.png  \n",
            "  inflating: COVID-19_Radiography_Dataset/Normal/masks/Normal-8764.png  \n",
            "  inflating: COVID-19_Radiography_Dataset/Normal/masks/Normal-8765.png  \n",
            "  inflating: COVID-19_Radiography_Dataset/Normal/masks/Normal-8766.png  \n",
            "  inflating: COVID-19_Radiography_Dataset/Normal/masks/Normal-8767.png  \n",
            "  inflating: COVID-19_Radiography_Dataset/Normal/masks/Normal-8768.png  \n",
            "  inflating: COVID-19_Radiography_Dataset/Normal/masks/Normal-8769.png  \n",
            "  inflating: COVID-19_Radiography_Dataset/Normal/masks/Normal-877.png  \n",
            "  inflating: COVID-19_Radiography_Dataset/Normal/masks/Normal-8770.png  \n",
            "  inflating: COVID-19_Radiography_Dataset/Normal/masks/Normal-8771.png  \n",
            "  inflating: COVID-19_Radiography_Dataset/Normal/masks/Normal-8772.png  \n",
            "  inflating: COVID-19_Radiography_Dataset/Normal/masks/Normal-8773.png  \n",
            "  inflating: COVID-19_Radiography_Dataset/Normal/masks/Normal-8774.png  \n",
            "  inflating: COVID-19_Radiography_Dataset/Normal/masks/Normal-8775.png  \n",
            "  inflating: COVID-19_Radiography_Dataset/Normal/masks/Normal-8776.png  \n",
            "  inflating: COVID-19_Radiography_Dataset/Normal/masks/Normal-8777.png  \n",
            "  inflating: COVID-19_Radiography_Dataset/Normal/masks/Normal-8778.png  \n",
            "  inflating: COVID-19_Radiography_Dataset/Normal/masks/Normal-8779.png  \n",
            "  inflating: COVID-19_Radiography_Dataset/Normal/masks/Normal-878.png  \n",
            "  inflating: COVID-19_Radiography_Dataset/Normal/masks/Normal-8780.png  \n",
            "  inflating: COVID-19_Radiography_Dataset/Normal/masks/Normal-8781.png  \n",
            "  inflating: COVID-19_Radiography_Dataset/Normal/masks/Normal-8782.png  \n",
            "  inflating: COVID-19_Radiography_Dataset/Normal/masks/Normal-8783.png  \n",
            "  inflating: COVID-19_Radiography_Dataset/Normal/masks/Normal-8784.png  \n",
            "  inflating: COVID-19_Radiography_Dataset/Normal/masks/Normal-8785.png  \n",
            "  inflating: COVID-19_Radiography_Dataset/Normal/masks/Normal-8786.png  \n",
            "  inflating: COVID-19_Radiography_Dataset/Normal/masks/Normal-8787.png  \n",
            "  inflating: COVID-19_Radiography_Dataset/Normal/masks/Normal-8788.png  \n",
            "  inflating: COVID-19_Radiography_Dataset/Normal/masks/Normal-8789.png  \n",
            "  inflating: COVID-19_Radiography_Dataset/Normal/masks/Normal-879.png  \n",
            "  inflating: COVID-19_Radiography_Dataset/Normal/masks/Normal-8790.png  \n",
            "  inflating: COVID-19_Radiography_Dataset/Normal/masks/Normal-8791.png  \n",
            "  inflating: COVID-19_Radiography_Dataset/Normal/masks/Normal-8792.png  \n",
            "  inflating: COVID-19_Radiography_Dataset/Normal/masks/Normal-8793.png  \n",
            "  inflating: COVID-19_Radiography_Dataset/Normal/masks/Normal-8794.png  \n",
            "  inflating: COVID-19_Radiography_Dataset/Normal/masks/Normal-8795.png  \n",
            "  inflating: COVID-19_Radiography_Dataset/Normal/masks/Normal-8796.png  \n",
            "  inflating: COVID-19_Radiography_Dataset/Normal/masks/Normal-8797.png  \n",
            "  inflating: COVID-19_Radiography_Dataset/Normal/masks/Normal-8798.png  \n",
            "  inflating: COVID-19_Radiography_Dataset/Normal/masks/Normal-8799.png  \n",
            "  inflating: COVID-19_Radiography_Dataset/Normal/masks/Normal-88.png  \n",
            "  inflating: COVID-19_Radiography_Dataset/Normal/masks/Normal-880.png  \n",
            "  inflating: COVID-19_Radiography_Dataset/Normal/masks/Normal-8800.png  \n",
            "  inflating: COVID-19_Radiography_Dataset/Normal/masks/Normal-8801.png  \n",
            "  inflating: COVID-19_Radiography_Dataset/Normal/masks/Normal-8802.png  \n",
            "  inflating: COVID-19_Radiography_Dataset/Normal/masks/Normal-8803.png  \n",
            "  inflating: COVID-19_Radiography_Dataset/Normal/masks/Normal-8804.png  \n",
            "  inflating: COVID-19_Radiography_Dataset/Normal/masks/Normal-8805.png  \n",
            "  inflating: COVID-19_Radiography_Dataset/Normal/masks/Normal-8806.png  \n",
            "  inflating: COVID-19_Radiography_Dataset/Normal/masks/Normal-8807.png  \n",
            "  inflating: COVID-19_Radiography_Dataset/Normal/masks/Normal-8808.png  \n",
            "  inflating: COVID-19_Radiography_Dataset/Normal/masks/Normal-8809.png  \n",
            "  inflating: COVID-19_Radiography_Dataset/Normal/masks/Normal-881.png  \n",
            "  inflating: COVID-19_Radiography_Dataset/Normal/masks/Normal-8810.png  \n",
            "  inflating: COVID-19_Radiography_Dataset/Normal/masks/Normal-8811.png  \n",
            "  inflating: COVID-19_Radiography_Dataset/Normal/masks/Normal-8812.png  \n",
            "  inflating: COVID-19_Radiography_Dataset/Normal/masks/Normal-8813.png  \n",
            "  inflating: COVID-19_Radiography_Dataset/Normal/masks/Normal-8814.png  \n",
            "  inflating: COVID-19_Radiography_Dataset/Normal/masks/Normal-8815.png  \n",
            "  inflating: COVID-19_Radiography_Dataset/Normal/masks/Normal-8816.png  \n",
            "  inflating: COVID-19_Radiography_Dataset/Normal/masks/Normal-8817.png  \n",
            "  inflating: COVID-19_Radiography_Dataset/Normal/masks/Normal-8818.png  \n",
            "  inflating: COVID-19_Radiography_Dataset/Normal/masks/Normal-8819.png  \n",
            "  inflating: COVID-19_Radiography_Dataset/Normal/masks/Normal-882.png  \n",
            "  inflating: COVID-19_Radiography_Dataset/Normal/masks/Normal-8820.png  \n",
            "  inflating: COVID-19_Radiography_Dataset/Normal/masks/Normal-8821.png  \n",
            "  inflating: COVID-19_Radiography_Dataset/Normal/masks/Normal-8822.png  \n",
            "  inflating: COVID-19_Radiography_Dataset/Normal/masks/Normal-8823.png  \n",
            "  inflating: COVID-19_Radiography_Dataset/Normal/masks/Normal-8824.png  \n",
            "  inflating: COVID-19_Radiography_Dataset/Normal/masks/Normal-8825.png  \n",
            "  inflating: COVID-19_Radiography_Dataset/Normal/masks/Normal-8826.png  \n",
            "  inflating: COVID-19_Radiography_Dataset/Normal/masks/Normal-8827.png  \n",
            "  inflating: COVID-19_Radiography_Dataset/Normal/masks/Normal-8828.png  \n",
            "  inflating: COVID-19_Radiography_Dataset/Normal/masks/Normal-8829.png  \n",
            "  inflating: COVID-19_Radiography_Dataset/Normal/masks/Normal-883.png  \n",
            "  inflating: COVID-19_Radiography_Dataset/Normal/masks/Normal-8830.png  \n",
            "  inflating: COVID-19_Radiography_Dataset/Normal/masks/Normal-8831.png  \n",
            "  inflating: COVID-19_Radiography_Dataset/Normal/masks/Normal-8832.png  \n",
            "  inflating: COVID-19_Radiography_Dataset/Normal/masks/Normal-8833.png  \n",
            "  inflating: COVID-19_Radiography_Dataset/Normal/masks/Normal-8834.png  \n",
            "  inflating: COVID-19_Radiography_Dataset/Normal/masks/Normal-8835.png  \n",
            "  inflating: COVID-19_Radiography_Dataset/Normal/masks/Normal-8836.png  \n",
            "  inflating: COVID-19_Radiography_Dataset/Normal/masks/Normal-8837.png  \n",
            "  inflating: COVID-19_Radiography_Dataset/Normal/masks/Normal-8838.png  \n",
            "  inflating: COVID-19_Radiography_Dataset/Normal/masks/Normal-8839.png  \n",
            "  inflating: COVID-19_Radiography_Dataset/Normal/masks/Normal-884.png  \n",
            "  inflating: COVID-19_Radiography_Dataset/Normal/masks/Normal-8840.png  \n",
            "  inflating: COVID-19_Radiography_Dataset/Normal/masks/Normal-8841.png  \n",
            "  inflating: COVID-19_Radiography_Dataset/Normal/masks/Normal-8842.png  \n",
            "  inflating: COVID-19_Radiography_Dataset/Normal/masks/Normal-8843.png  \n",
            "  inflating: COVID-19_Radiography_Dataset/Normal/masks/Normal-8844.png  \n",
            "  inflating: COVID-19_Radiography_Dataset/Normal/masks/Normal-8845.png  \n",
            "  inflating: COVID-19_Radiography_Dataset/Normal/masks/Normal-8846.png  \n",
            "  inflating: COVID-19_Radiography_Dataset/Normal/masks/Normal-8847.png  \n",
            "  inflating: COVID-19_Radiography_Dataset/Normal/masks/Normal-8848.png  \n",
            "  inflating: COVID-19_Radiography_Dataset/Normal/masks/Normal-8849.png  \n",
            "  inflating: COVID-19_Radiography_Dataset/Normal/masks/Normal-885.png  \n",
            "  inflating: COVID-19_Radiography_Dataset/Normal/masks/Normal-8850.png  \n",
            "  inflating: COVID-19_Radiography_Dataset/Normal/masks/Normal-8851.png  \n",
            "  inflating: COVID-19_Radiography_Dataset/Normal/masks/Normal-8852.png  \n",
            "  inflating: COVID-19_Radiography_Dataset/Normal/masks/Normal-8853.png  \n",
            "  inflating: COVID-19_Radiography_Dataset/Normal/masks/Normal-8854.png  \n",
            "  inflating: COVID-19_Radiography_Dataset/Normal/masks/Normal-8855.png  \n",
            "  inflating: COVID-19_Radiography_Dataset/Normal/masks/Normal-8856.png  \n",
            "  inflating: COVID-19_Radiography_Dataset/Normal/masks/Normal-8857.png  \n",
            "  inflating: COVID-19_Radiography_Dataset/Normal/masks/Normal-8858.png  \n",
            "  inflating: COVID-19_Radiography_Dataset/Normal/masks/Normal-8859.png  \n",
            "  inflating: COVID-19_Radiography_Dataset/Normal/masks/Normal-886.png  \n",
            "  inflating: COVID-19_Radiography_Dataset/Normal/masks/Normal-8860.png  \n",
            "  inflating: COVID-19_Radiography_Dataset/Normal/masks/Normal-8861.png  \n",
            "  inflating: COVID-19_Radiography_Dataset/Normal/masks/Normal-8862.png  \n",
            "  inflating: COVID-19_Radiography_Dataset/Normal/masks/Normal-8863.png  \n",
            "  inflating: COVID-19_Radiography_Dataset/Normal/masks/Normal-8864.png  \n",
            "  inflating: COVID-19_Radiography_Dataset/Normal/masks/Normal-8865.png  \n",
            "  inflating: COVID-19_Radiography_Dataset/Normal/masks/Normal-8866.png  \n",
            "  inflating: COVID-19_Radiography_Dataset/Normal/masks/Normal-8867.png  \n",
            "  inflating: COVID-19_Radiography_Dataset/Normal/masks/Normal-8868.png  \n",
            "  inflating: COVID-19_Radiography_Dataset/Normal/masks/Normal-8869.png  \n",
            "  inflating: COVID-19_Radiography_Dataset/Normal/masks/Normal-887.png  \n",
            "  inflating: COVID-19_Radiography_Dataset/Normal/masks/Normal-8870.png  \n",
            "  inflating: COVID-19_Radiography_Dataset/Normal/masks/Normal-8871.png  \n",
            "  inflating: COVID-19_Radiography_Dataset/Normal/masks/Normal-8872.png  \n",
            "  inflating: COVID-19_Radiography_Dataset/Normal/masks/Normal-8873.png  \n",
            "  inflating: COVID-19_Radiography_Dataset/Normal/masks/Normal-8874.png  \n",
            "  inflating: COVID-19_Radiography_Dataset/Normal/masks/Normal-8875.png  \n",
            "  inflating: COVID-19_Radiography_Dataset/Normal/masks/Normal-8876.png  \n",
            "  inflating: COVID-19_Radiography_Dataset/Normal/masks/Normal-8877.png  \n",
            "  inflating: COVID-19_Radiography_Dataset/Normal/masks/Normal-8878.png  \n",
            "  inflating: COVID-19_Radiography_Dataset/Normal/masks/Normal-8879.png  \n",
            "  inflating: COVID-19_Radiography_Dataset/Normal/masks/Normal-888.png  \n",
            "  inflating: COVID-19_Radiography_Dataset/Normal/masks/Normal-8880.png  \n",
            "  inflating: COVID-19_Radiography_Dataset/Normal/masks/Normal-8881.png  \n",
            "  inflating: COVID-19_Radiography_Dataset/Normal/masks/Normal-8882.png  \n",
            "  inflating: COVID-19_Radiography_Dataset/Normal/masks/Normal-8883.png  \n",
            "  inflating: COVID-19_Radiography_Dataset/Normal/masks/Normal-8884.png  \n",
            "  inflating: COVID-19_Radiography_Dataset/Normal/masks/Normal-8885.png  \n",
            "  inflating: COVID-19_Radiography_Dataset/Normal/masks/Normal-8886.png  \n",
            "  inflating: COVID-19_Radiography_Dataset/Normal/masks/Normal-8887.png  \n",
            "  inflating: COVID-19_Radiography_Dataset/Normal/masks/Normal-8888.png  \n",
            "  inflating: COVID-19_Radiography_Dataset/Normal/masks/Normal-8889.png  \n",
            "  inflating: COVID-19_Radiography_Dataset/Normal/masks/Normal-889.png  \n",
            "  inflating: COVID-19_Radiography_Dataset/Normal/masks/Normal-8890.png  \n",
            "  inflating: COVID-19_Radiography_Dataset/Normal/masks/Normal-8891.png  \n",
            "  inflating: COVID-19_Radiography_Dataset/Normal/masks/Normal-8892.png  \n",
            "  inflating: COVID-19_Radiography_Dataset/Normal/masks/Normal-8893.png  \n",
            "  inflating: COVID-19_Radiography_Dataset/Normal/masks/Normal-8894.png  \n",
            "  inflating: COVID-19_Radiography_Dataset/Normal/masks/Normal-8895.png  \n",
            "  inflating: COVID-19_Radiography_Dataset/Normal/masks/Normal-8896.png  \n",
            "  inflating: COVID-19_Radiography_Dataset/Normal/masks/Normal-8897.png  \n",
            "  inflating: COVID-19_Radiography_Dataset/Normal/masks/Normal-8898.png  \n",
            "  inflating: COVID-19_Radiography_Dataset/Normal/masks/Normal-8899.png  \n",
            "  inflating: COVID-19_Radiography_Dataset/Normal/masks/Normal-89.png  \n",
            "  inflating: COVID-19_Radiography_Dataset/Normal/masks/Normal-890.png  \n",
            "  inflating: COVID-19_Radiography_Dataset/Normal/masks/Normal-8900.png  \n",
            "  inflating: COVID-19_Radiography_Dataset/Normal/masks/Normal-8901.png  \n",
            "  inflating: COVID-19_Radiography_Dataset/Normal/masks/Normal-8902.png  \n",
            "  inflating: COVID-19_Radiography_Dataset/Normal/masks/Normal-8903.png  \n",
            "  inflating: COVID-19_Radiography_Dataset/Normal/masks/Normal-8904.png  \n",
            "  inflating: COVID-19_Radiography_Dataset/Normal/masks/Normal-8905.png  \n",
            "  inflating: COVID-19_Radiography_Dataset/Normal/masks/Normal-8906.png  \n",
            "  inflating: COVID-19_Radiography_Dataset/Normal/masks/Normal-8907.png  \n",
            "  inflating: COVID-19_Radiography_Dataset/Normal/masks/Normal-8908.png  \n",
            "  inflating: COVID-19_Radiography_Dataset/Normal/masks/Normal-8909.png  \n",
            "  inflating: COVID-19_Radiography_Dataset/Normal/masks/Normal-891.png  \n",
            "  inflating: COVID-19_Radiography_Dataset/Normal/masks/Normal-8910.png  \n",
            "  inflating: COVID-19_Radiography_Dataset/Normal/masks/Normal-8911.png  \n",
            "  inflating: COVID-19_Radiography_Dataset/Normal/masks/Normal-8912.png  \n",
            "  inflating: COVID-19_Radiography_Dataset/Normal/masks/Normal-8913.png  \n",
            "  inflating: COVID-19_Radiography_Dataset/Normal/masks/Normal-8914.png  \n",
            "  inflating: COVID-19_Radiography_Dataset/Normal/masks/Normal-8915.png  \n",
            "  inflating: COVID-19_Radiography_Dataset/Normal/masks/Normal-8916.png  \n",
            "  inflating: COVID-19_Radiography_Dataset/Normal/masks/Normal-8917.png  \n",
            "  inflating: COVID-19_Radiography_Dataset/Normal/masks/Normal-8918.png  \n",
            "  inflating: COVID-19_Radiography_Dataset/Normal/masks/Normal-8919.png  \n",
            "  inflating: COVID-19_Radiography_Dataset/Normal/masks/Normal-892.png  \n",
            "  inflating: COVID-19_Radiography_Dataset/Normal/masks/Normal-8920.png  \n",
            "  inflating: COVID-19_Radiography_Dataset/Normal/masks/Normal-8921.png  \n",
            "  inflating: COVID-19_Radiography_Dataset/Normal/masks/Normal-8922.png  \n",
            "  inflating: COVID-19_Radiography_Dataset/Normal/masks/Normal-8923.png  \n",
            "  inflating: COVID-19_Radiography_Dataset/Normal/masks/Normal-8924.png  \n",
            "  inflating: COVID-19_Radiography_Dataset/Normal/masks/Normal-8925.png  \n",
            "  inflating: COVID-19_Radiography_Dataset/Normal/masks/Normal-8926.png  \n",
            "  inflating: COVID-19_Radiography_Dataset/Normal/masks/Normal-8927.png  \n",
            "  inflating: COVID-19_Radiography_Dataset/Normal/masks/Normal-8928.png  \n",
            "  inflating: COVID-19_Radiography_Dataset/Normal/masks/Normal-8929.png  \n",
            "  inflating: COVID-19_Radiography_Dataset/Normal/masks/Normal-893.png  \n",
            "  inflating: COVID-19_Radiography_Dataset/Normal/masks/Normal-8930.png  \n",
            "  inflating: COVID-19_Radiography_Dataset/Normal/masks/Normal-8931.png  \n",
            "  inflating: COVID-19_Radiography_Dataset/Normal/masks/Normal-8932.png  \n",
            "  inflating: COVID-19_Radiography_Dataset/Normal/masks/Normal-8933.png  \n",
            "  inflating: COVID-19_Radiography_Dataset/Normal/masks/Normal-8934.png  \n",
            "  inflating: COVID-19_Radiography_Dataset/Normal/masks/Normal-8935.png  \n",
            "  inflating: COVID-19_Radiography_Dataset/Normal/masks/Normal-8936.png  \n",
            "  inflating: COVID-19_Radiography_Dataset/Normal/masks/Normal-8937.png  \n",
            "  inflating: COVID-19_Radiography_Dataset/Normal/masks/Normal-8938.png  \n",
            "  inflating: COVID-19_Radiography_Dataset/Normal/masks/Normal-8939.png  \n",
            "  inflating: COVID-19_Radiography_Dataset/Normal/masks/Normal-894.png  \n",
            "  inflating: COVID-19_Radiography_Dataset/Normal/masks/Normal-8940.png  \n",
            "  inflating: COVID-19_Radiography_Dataset/Normal/masks/Normal-8941.png  \n",
            "  inflating: COVID-19_Radiography_Dataset/Normal/masks/Normal-8942.png  \n",
            "  inflating: COVID-19_Radiography_Dataset/Normal/masks/Normal-8943.png  \n",
            "  inflating: COVID-19_Radiography_Dataset/Normal/masks/Normal-8944.png  \n",
            "  inflating: COVID-19_Radiography_Dataset/Normal/masks/Normal-8945.png  \n",
            "  inflating: COVID-19_Radiography_Dataset/Normal/masks/Normal-8946.png  \n",
            "  inflating: COVID-19_Radiography_Dataset/Normal/masks/Normal-8947.png  \n",
            "  inflating: COVID-19_Radiography_Dataset/Normal/masks/Normal-8948.png  \n",
            "  inflating: COVID-19_Radiography_Dataset/Normal/masks/Normal-8949.png  \n",
            "  inflating: COVID-19_Radiography_Dataset/Normal/masks/Normal-895.png  \n",
            "  inflating: COVID-19_Radiography_Dataset/Normal/masks/Normal-8950.png  \n",
            "  inflating: COVID-19_Radiography_Dataset/Normal/masks/Normal-8951.png  \n",
            "  inflating: COVID-19_Radiography_Dataset/Normal/masks/Normal-8952.png  \n",
            "  inflating: COVID-19_Radiography_Dataset/Normal/masks/Normal-8953.png  \n",
            "  inflating: COVID-19_Radiography_Dataset/Normal/masks/Normal-8954.png  \n",
            "  inflating: COVID-19_Radiography_Dataset/Normal/masks/Normal-8955.png  \n",
            "  inflating: COVID-19_Radiography_Dataset/Normal/masks/Normal-8956.png  \n",
            "  inflating: COVID-19_Radiography_Dataset/Normal/masks/Normal-8957.png  \n",
            "  inflating: COVID-19_Radiography_Dataset/Normal/masks/Normal-8958.png  \n",
            "  inflating: COVID-19_Radiography_Dataset/Normal/masks/Normal-8959.png  \n",
            "  inflating: COVID-19_Radiography_Dataset/Normal/masks/Normal-896.png  \n",
            "  inflating: COVID-19_Radiography_Dataset/Normal/masks/Normal-8960.png  \n",
            "  inflating: COVID-19_Radiography_Dataset/Normal/masks/Normal-8961.png  \n",
            "  inflating: COVID-19_Radiography_Dataset/Normal/masks/Normal-8962.png  \n",
            "  inflating: COVID-19_Radiography_Dataset/Normal/masks/Normal-8963.png  \n",
            "  inflating: COVID-19_Radiography_Dataset/Normal/masks/Normal-8964.png  \n",
            "  inflating: COVID-19_Radiography_Dataset/Normal/masks/Normal-8965.png  \n",
            "  inflating: COVID-19_Radiography_Dataset/Normal/masks/Normal-8966.png  \n",
            "  inflating: COVID-19_Radiography_Dataset/Normal/masks/Normal-8967.png  \n",
            "  inflating: COVID-19_Radiography_Dataset/Normal/masks/Normal-8968.png  \n",
            "  inflating: COVID-19_Radiography_Dataset/Normal/masks/Normal-8969.png  \n",
            "  inflating: COVID-19_Radiography_Dataset/Normal/masks/Normal-897.png  \n",
            "  inflating: COVID-19_Radiography_Dataset/Normal/masks/Normal-8970.png  \n",
            "  inflating: COVID-19_Radiography_Dataset/Normal/masks/Normal-8971.png  \n",
            "  inflating: COVID-19_Radiography_Dataset/Normal/masks/Normal-8972.png  \n",
            "  inflating: COVID-19_Radiography_Dataset/Normal/masks/Normal-8973.png  \n",
            "  inflating: COVID-19_Radiography_Dataset/Normal/masks/Normal-8974.png  \n",
            "  inflating: COVID-19_Radiography_Dataset/Normal/masks/Normal-8975.png  \n",
            "  inflating: COVID-19_Radiography_Dataset/Normal/masks/Normal-8976.png  \n",
            "  inflating: COVID-19_Radiography_Dataset/Normal/masks/Normal-8977.png  \n",
            "  inflating: COVID-19_Radiography_Dataset/Normal/masks/Normal-8978.png  \n",
            "  inflating: COVID-19_Radiography_Dataset/Normal/masks/Normal-8979.png  \n",
            "  inflating: COVID-19_Radiography_Dataset/Normal/masks/Normal-898.png  \n",
            "  inflating: COVID-19_Radiography_Dataset/Normal/masks/Normal-8980.png  \n",
            "  inflating: COVID-19_Radiography_Dataset/Normal/masks/Normal-8981.png  \n",
            "  inflating: COVID-19_Radiography_Dataset/Normal/masks/Normal-8982.png  \n",
            "  inflating: COVID-19_Radiography_Dataset/Normal/masks/Normal-8983.png  \n",
            "  inflating: COVID-19_Radiography_Dataset/Normal/masks/Normal-8984.png  \n",
            "  inflating: COVID-19_Radiography_Dataset/Normal/masks/Normal-8985.png  \n",
            "  inflating: COVID-19_Radiography_Dataset/Normal/masks/Normal-8986.png  \n",
            "  inflating: COVID-19_Radiography_Dataset/Normal/masks/Normal-8987.png  \n",
            "  inflating: COVID-19_Radiography_Dataset/Normal/masks/Normal-8988.png  \n",
            "  inflating: COVID-19_Radiography_Dataset/Normal/masks/Normal-8989.png  \n",
            "  inflating: COVID-19_Radiography_Dataset/Normal/masks/Normal-899.png  \n",
            "  inflating: COVID-19_Radiography_Dataset/Normal/masks/Normal-8990.png  \n",
            "  inflating: COVID-19_Radiography_Dataset/Normal/masks/Normal-8991.png  \n",
            "  inflating: COVID-19_Radiography_Dataset/Normal/masks/Normal-8992.png  \n",
            "  inflating: COVID-19_Radiography_Dataset/Normal/masks/Normal-8993.png  \n",
            "  inflating: COVID-19_Radiography_Dataset/Normal/masks/Normal-8994.png  \n",
            "  inflating: COVID-19_Radiography_Dataset/Normal/masks/Normal-8995.png  \n",
            "  inflating: COVID-19_Radiography_Dataset/Normal/masks/Normal-8996.png  \n",
            "  inflating: COVID-19_Radiography_Dataset/Normal/masks/Normal-8997.png  \n",
            "  inflating: COVID-19_Radiography_Dataset/Normal/masks/Normal-8998.png  \n",
            "  inflating: COVID-19_Radiography_Dataset/Normal/masks/Normal-8999.png  \n",
            "  inflating: COVID-19_Radiography_Dataset/Normal/masks/Normal-9.png  \n",
            "  inflating: COVID-19_Radiography_Dataset/Normal/masks/Normal-90.png  \n",
            "  inflating: COVID-19_Radiography_Dataset/Normal/masks/Normal-900.png  \n",
            "  inflating: COVID-19_Radiography_Dataset/Normal/masks/Normal-9000.png  \n",
            "  inflating: COVID-19_Radiography_Dataset/Normal/masks/Normal-9001.png  \n",
            "  inflating: COVID-19_Radiography_Dataset/Normal/masks/Normal-9002.png  \n",
            "  inflating: COVID-19_Radiography_Dataset/Normal/masks/Normal-9003.png  \n",
            "  inflating: COVID-19_Radiography_Dataset/Normal/masks/Normal-9004.png  \n",
            "  inflating: COVID-19_Radiography_Dataset/Normal/masks/Normal-9005.png  \n",
            "  inflating: COVID-19_Radiography_Dataset/Normal/masks/Normal-9006.png  \n",
            "  inflating: COVID-19_Radiography_Dataset/Normal/masks/Normal-9007.png  \n",
            "  inflating: COVID-19_Radiography_Dataset/Normal/masks/Normal-9008.png  \n",
            "  inflating: COVID-19_Radiography_Dataset/Normal/masks/Normal-9009.png  \n",
            "  inflating: COVID-19_Radiography_Dataset/Normal/masks/Normal-901.png  \n",
            "  inflating: COVID-19_Radiography_Dataset/Normal/masks/Normal-9010.png  \n",
            "  inflating: COVID-19_Radiography_Dataset/Normal/masks/Normal-9011.png  \n",
            "  inflating: COVID-19_Radiography_Dataset/Normal/masks/Normal-9012.png  \n",
            "  inflating: COVID-19_Radiography_Dataset/Normal/masks/Normal-9013.png  \n",
            "  inflating: COVID-19_Radiography_Dataset/Normal/masks/Normal-9014.png  \n",
            "  inflating: COVID-19_Radiography_Dataset/Normal/masks/Normal-9015.png  \n",
            "  inflating: COVID-19_Radiography_Dataset/Normal/masks/Normal-9016.png  \n",
            "  inflating: COVID-19_Radiography_Dataset/Normal/masks/Normal-9017.png  \n",
            "  inflating: COVID-19_Radiography_Dataset/Normal/masks/Normal-9018.png  \n",
            "  inflating: COVID-19_Radiography_Dataset/Normal/masks/Normal-9019.png  \n",
            "  inflating: COVID-19_Radiography_Dataset/Normal/masks/Normal-902.png  \n",
            "  inflating: COVID-19_Radiography_Dataset/Normal/masks/Normal-9020.png  \n",
            "  inflating: COVID-19_Radiography_Dataset/Normal/masks/Normal-9021.png  \n",
            "  inflating: COVID-19_Radiography_Dataset/Normal/masks/Normal-9022.png  \n",
            "  inflating: COVID-19_Radiography_Dataset/Normal/masks/Normal-9023.png  \n",
            "  inflating: COVID-19_Radiography_Dataset/Normal/masks/Normal-9024.png  \n",
            "  inflating: COVID-19_Radiography_Dataset/Normal/masks/Normal-9025.png  \n",
            "  inflating: COVID-19_Radiography_Dataset/Normal/masks/Normal-9026.png  \n",
            "  inflating: COVID-19_Radiography_Dataset/Normal/masks/Normal-9027.png  \n",
            "  inflating: COVID-19_Radiography_Dataset/Normal/masks/Normal-9028.png  \n",
            "  inflating: COVID-19_Radiography_Dataset/Normal/masks/Normal-9029.png  \n",
            "  inflating: COVID-19_Radiography_Dataset/Normal/masks/Normal-903.png  \n",
            "  inflating: COVID-19_Radiography_Dataset/Normal/masks/Normal-9030.png  \n",
            "  inflating: COVID-19_Radiography_Dataset/Normal/masks/Normal-9031.png  \n",
            "  inflating: COVID-19_Radiography_Dataset/Normal/masks/Normal-9032.png  \n",
            "  inflating: COVID-19_Radiography_Dataset/Normal/masks/Normal-9033.png  \n",
            "  inflating: COVID-19_Radiography_Dataset/Normal/masks/Normal-9034.png  \n",
            "  inflating: COVID-19_Radiography_Dataset/Normal/masks/Normal-9035.png  \n",
            "  inflating: COVID-19_Radiography_Dataset/Normal/masks/Normal-9036.png  \n",
            "  inflating: COVID-19_Radiography_Dataset/Normal/masks/Normal-9037.png  \n",
            "  inflating: COVID-19_Radiography_Dataset/Normal/masks/Normal-9038.png  \n",
            "  inflating: COVID-19_Radiography_Dataset/Normal/masks/Normal-9039.png  \n",
            "  inflating: COVID-19_Radiography_Dataset/Normal/masks/Normal-904.png  \n",
            "  inflating: COVID-19_Radiography_Dataset/Normal/masks/Normal-9040.png  \n",
            "  inflating: COVID-19_Radiography_Dataset/Normal/masks/Normal-9041.png  \n",
            "  inflating: COVID-19_Radiography_Dataset/Normal/masks/Normal-9042.png  \n",
            "  inflating: COVID-19_Radiography_Dataset/Normal/masks/Normal-9043.png  \n",
            "  inflating: COVID-19_Radiography_Dataset/Normal/masks/Normal-9044.png  \n",
            "  inflating: COVID-19_Radiography_Dataset/Normal/masks/Normal-9045.png  \n",
            "  inflating: COVID-19_Radiography_Dataset/Normal/masks/Normal-9046.png  \n",
            "  inflating: COVID-19_Radiography_Dataset/Normal/masks/Normal-9047.png  \n",
            "  inflating: COVID-19_Radiography_Dataset/Normal/masks/Normal-9048.png  \n",
            "  inflating: COVID-19_Radiography_Dataset/Normal/masks/Normal-9049.png  \n",
            "  inflating: COVID-19_Radiography_Dataset/Normal/masks/Normal-905.png  \n",
            "  inflating: COVID-19_Radiography_Dataset/Normal/masks/Normal-9050.png  \n",
            "  inflating: COVID-19_Radiography_Dataset/Normal/masks/Normal-9051.png  \n",
            "  inflating: COVID-19_Radiography_Dataset/Normal/masks/Normal-9052.png  \n",
            "  inflating: COVID-19_Radiography_Dataset/Normal/masks/Normal-9053.png  \n",
            "  inflating: COVID-19_Radiography_Dataset/Normal/masks/Normal-9054.png  \n",
            "  inflating: COVID-19_Radiography_Dataset/Normal/masks/Normal-9055.png  \n",
            "  inflating: COVID-19_Radiography_Dataset/Normal/masks/Normal-9056.png  \n",
            "  inflating: COVID-19_Radiography_Dataset/Normal/masks/Normal-9057.png  \n",
            "  inflating: COVID-19_Radiography_Dataset/Normal/masks/Normal-9058.png  \n",
            "  inflating: COVID-19_Radiography_Dataset/Normal/masks/Normal-9059.png  \n",
            "  inflating: COVID-19_Radiography_Dataset/Normal/masks/Normal-906.png  \n",
            "  inflating: COVID-19_Radiography_Dataset/Normal/masks/Normal-9060.png  \n",
            "  inflating: COVID-19_Radiography_Dataset/Normal/masks/Normal-9061.png  \n",
            "  inflating: COVID-19_Radiography_Dataset/Normal/masks/Normal-9062.png  \n",
            "  inflating: COVID-19_Radiography_Dataset/Normal/masks/Normal-9063.png  \n",
            "  inflating: COVID-19_Radiography_Dataset/Normal/masks/Normal-9064.png  \n",
            "  inflating: COVID-19_Radiography_Dataset/Normal/masks/Normal-9065.png  \n",
            "  inflating: COVID-19_Radiography_Dataset/Normal/masks/Normal-9066.png  \n",
            "  inflating: COVID-19_Radiography_Dataset/Normal/masks/Normal-9067.png  \n",
            "  inflating: COVID-19_Radiography_Dataset/Normal/masks/Normal-9068.png  \n",
            "  inflating: COVID-19_Radiography_Dataset/Normal/masks/Normal-9069.png  \n",
            "  inflating: COVID-19_Radiography_Dataset/Normal/masks/Normal-907.png  \n",
            "  inflating: COVID-19_Radiography_Dataset/Normal/masks/Normal-9070.png  \n",
            "  inflating: COVID-19_Radiography_Dataset/Normal/masks/Normal-9071.png  \n",
            "  inflating: COVID-19_Radiography_Dataset/Normal/masks/Normal-9072.png  \n",
            "  inflating: COVID-19_Radiography_Dataset/Normal/masks/Normal-9073.png  \n",
            "  inflating: COVID-19_Radiography_Dataset/Normal/masks/Normal-9074.png  \n",
            "  inflating: COVID-19_Radiography_Dataset/Normal/masks/Normal-9075.png  \n",
            "  inflating: COVID-19_Radiography_Dataset/Normal/masks/Normal-9076.png  \n",
            "  inflating: COVID-19_Radiography_Dataset/Normal/masks/Normal-9077.png  \n",
            "  inflating: COVID-19_Radiography_Dataset/Normal/masks/Normal-9078.png  \n",
            "  inflating: COVID-19_Radiography_Dataset/Normal/masks/Normal-9079.png  \n",
            "  inflating: COVID-19_Radiography_Dataset/Normal/masks/Normal-908.png  \n",
            "  inflating: COVID-19_Radiography_Dataset/Normal/masks/Normal-9080.png  \n",
            "  inflating: COVID-19_Radiography_Dataset/Normal/masks/Normal-9081.png  \n",
            "  inflating: COVID-19_Radiography_Dataset/Normal/masks/Normal-9082.png  \n",
            "  inflating: COVID-19_Radiography_Dataset/Normal/masks/Normal-9083.png  \n",
            "  inflating: COVID-19_Radiography_Dataset/Normal/masks/Normal-9084.png  \n",
            "  inflating: COVID-19_Radiography_Dataset/Normal/masks/Normal-9085.png  \n",
            "  inflating: COVID-19_Radiography_Dataset/Normal/masks/Normal-9086.png  \n",
            "  inflating: COVID-19_Radiography_Dataset/Normal/masks/Normal-9087.png  \n",
            "  inflating: COVID-19_Radiography_Dataset/Normal/masks/Normal-9088.png  \n",
            "  inflating: COVID-19_Radiography_Dataset/Normal/masks/Normal-9089.png  \n",
            "  inflating: COVID-19_Radiography_Dataset/Normal/masks/Normal-909.png  \n",
            "  inflating: COVID-19_Radiography_Dataset/Normal/masks/Normal-9090.png  \n",
            "  inflating: COVID-19_Radiography_Dataset/Normal/masks/Normal-9091.png  \n",
            "  inflating: COVID-19_Radiography_Dataset/Normal/masks/Normal-9092.png  \n",
            "  inflating: COVID-19_Radiography_Dataset/Normal/masks/Normal-9093.png  \n",
            "  inflating: COVID-19_Radiography_Dataset/Normal/masks/Normal-9094.png  \n",
            "  inflating: COVID-19_Radiography_Dataset/Normal/masks/Normal-9095.png  \n",
            "  inflating: COVID-19_Radiography_Dataset/Normal/masks/Normal-9096.png  \n",
            "  inflating: COVID-19_Radiography_Dataset/Normal/masks/Normal-9097.png  \n",
            "  inflating: COVID-19_Radiography_Dataset/Normal/masks/Normal-9098.png  \n",
            "  inflating: COVID-19_Radiography_Dataset/Normal/masks/Normal-9099.png  \n",
            "  inflating: COVID-19_Radiography_Dataset/Normal/masks/Normal-91.png  \n",
            "  inflating: COVID-19_Radiography_Dataset/Normal/masks/Normal-910.png  \n",
            "  inflating: COVID-19_Radiography_Dataset/Normal/masks/Normal-9100.png  \n",
            "  inflating: COVID-19_Radiography_Dataset/Normal/masks/Normal-9101.png  \n",
            "  inflating: COVID-19_Radiography_Dataset/Normal/masks/Normal-9102.png  \n",
            "  inflating: COVID-19_Radiography_Dataset/Normal/masks/Normal-9103.png  \n",
            "  inflating: COVID-19_Radiography_Dataset/Normal/masks/Normal-9104.png  \n",
            "  inflating: COVID-19_Radiography_Dataset/Normal/masks/Normal-9105.png  \n",
            "  inflating: COVID-19_Radiography_Dataset/Normal/masks/Normal-9106.png  \n",
            "  inflating: COVID-19_Radiography_Dataset/Normal/masks/Normal-9107.png  \n",
            "  inflating: COVID-19_Radiography_Dataset/Normal/masks/Normal-9108.png  \n",
            "  inflating: COVID-19_Radiography_Dataset/Normal/masks/Normal-9109.png  \n",
            "  inflating: COVID-19_Radiography_Dataset/Normal/masks/Normal-911.png  \n",
            "  inflating: COVID-19_Radiography_Dataset/Normal/masks/Normal-9110.png  \n",
            "  inflating: COVID-19_Radiography_Dataset/Normal/masks/Normal-9111.png  \n",
            "  inflating: COVID-19_Radiography_Dataset/Normal/masks/Normal-9112.png  \n",
            "  inflating: COVID-19_Radiography_Dataset/Normal/masks/Normal-9113.png  \n",
            "  inflating: COVID-19_Radiography_Dataset/Normal/masks/Normal-9114.png  \n",
            "  inflating: COVID-19_Radiography_Dataset/Normal/masks/Normal-9115.png  \n",
            "  inflating: COVID-19_Radiography_Dataset/Normal/masks/Normal-9116.png  \n",
            "  inflating: COVID-19_Radiography_Dataset/Normal/masks/Normal-9117.png  \n",
            "  inflating: COVID-19_Radiography_Dataset/Normal/masks/Normal-9118.png  \n",
            "  inflating: COVID-19_Radiography_Dataset/Normal/masks/Normal-9119.png  \n",
            "  inflating: COVID-19_Radiography_Dataset/Normal/masks/Normal-912.png  \n",
            "  inflating: COVID-19_Radiography_Dataset/Normal/masks/Normal-9120.png  \n",
            "  inflating: COVID-19_Radiography_Dataset/Normal/masks/Normal-9121.png  \n",
            "  inflating: COVID-19_Radiography_Dataset/Normal/masks/Normal-9122.png  \n",
            "  inflating: COVID-19_Radiography_Dataset/Normal/masks/Normal-9123.png  \n",
            "  inflating: COVID-19_Radiography_Dataset/Normal/masks/Normal-9124.png  \n",
            "  inflating: COVID-19_Radiography_Dataset/Normal/masks/Normal-9125.png  \n",
            "  inflating: COVID-19_Radiography_Dataset/Normal/masks/Normal-9126.png  \n",
            "  inflating: COVID-19_Radiography_Dataset/Normal/masks/Normal-9127.png  \n",
            "  inflating: COVID-19_Radiography_Dataset/Normal/masks/Normal-9128.png  \n",
            "  inflating: COVID-19_Radiography_Dataset/Normal/masks/Normal-9129.png  \n",
            "  inflating: COVID-19_Radiography_Dataset/Normal/masks/Normal-913.png  \n",
            "  inflating: COVID-19_Radiography_Dataset/Normal/masks/Normal-9130.png  \n",
            "  inflating: COVID-19_Radiography_Dataset/Normal/masks/Normal-9131.png  \n",
            "  inflating: COVID-19_Radiography_Dataset/Normal/masks/Normal-9132.png  \n",
            "  inflating: COVID-19_Radiography_Dataset/Normal/masks/Normal-9133.png  \n",
            "  inflating: COVID-19_Radiography_Dataset/Normal/masks/Normal-9134.png  \n",
            "  inflating: COVID-19_Radiography_Dataset/Normal/masks/Normal-9135.png  \n",
            "  inflating: COVID-19_Radiography_Dataset/Normal/masks/Normal-9136.png  \n",
            "  inflating: COVID-19_Radiography_Dataset/Normal/masks/Normal-9137.png  \n",
            "  inflating: COVID-19_Radiography_Dataset/Normal/masks/Normal-9138.png  \n",
            "  inflating: COVID-19_Radiography_Dataset/Normal/masks/Normal-9139.png  \n",
            "  inflating: COVID-19_Radiography_Dataset/Normal/masks/Normal-914.png  \n",
            "  inflating: COVID-19_Radiography_Dataset/Normal/masks/Normal-9140.png  \n",
            "  inflating: COVID-19_Radiography_Dataset/Normal/masks/Normal-9141.png  \n",
            "  inflating: COVID-19_Radiography_Dataset/Normal/masks/Normal-9142.png  \n",
            "  inflating: COVID-19_Radiography_Dataset/Normal/masks/Normal-9143.png  \n",
            "  inflating: COVID-19_Radiography_Dataset/Normal/masks/Normal-9144.png  \n",
            "  inflating: COVID-19_Radiography_Dataset/Normal/masks/Normal-9145.png  \n",
            "  inflating: COVID-19_Radiography_Dataset/Normal/masks/Normal-9146.png  \n",
            "  inflating: COVID-19_Radiography_Dataset/Normal/masks/Normal-9147.png  \n",
            "  inflating: COVID-19_Radiography_Dataset/Normal/masks/Normal-9148.png  \n",
            "  inflating: COVID-19_Radiography_Dataset/Normal/masks/Normal-9149.png  \n",
            "  inflating: COVID-19_Radiography_Dataset/Normal/masks/Normal-915.png  \n",
            "  inflating: COVID-19_Radiography_Dataset/Normal/masks/Normal-9150.png  \n",
            "  inflating: COVID-19_Radiography_Dataset/Normal/masks/Normal-9151.png  \n",
            "  inflating: COVID-19_Radiography_Dataset/Normal/masks/Normal-9152.png  \n",
            "  inflating: COVID-19_Radiography_Dataset/Normal/masks/Normal-9153.png  \n",
            "  inflating: COVID-19_Radiography_Dataset/Normal/masks/Normal-9154.png  \n",
            "  inflating: COVID-19_Radiography_Dataset/Normal/masks/Normal-9155.png  \n",
            "  inflating: COVID-19_Radiography_Dataset/Normal/masks/Normal-9156.png  \n",
            "  inflating: COVID-19_Radiography_Dataset/Normal/masks/Normal-9157.png  \n",
            "  inflating: COVID-19_Radiography_Dataset/Normal/masks/Normal-9158.png  \n",
            "  inflating: COVID-19_Radiography_Dataset/Normal/masks/Normal-9159.png  \n",
            "  inflating: COVID-19_Radiography_Dataset/Normal/masks/Normal-916.png  \n",
            "  inflating: COVID-19_Radiography_Dataset/Normal/masks/Normal-9160.png  \n",
            "  inflating: COVID-19_Radiography_Dataset/Normal/masks/Normal-9161.png  \n",
            "  inflating: COVID-19_Radiography_Dataset/Normal/masks/Normal-9162.png  \n",
            "  inflating: COVID-19_Radiography_Dataset/Normal/masks/Normal-9163.png  \n",
            "  inflating: COVID-19_Radiography_Dataset/Normal/masks/Normal-9164.png  \n",
            "  inflating: COVID-19_Radiography_Dataset/Normal/masks/Normal-9165.png  \n",
            "  inflating: COVID-19_Radiography_Dataset/Normal/masks/Normal-9166.png  \n",
            "  inflating: COVID-19_Radiography_Dataset/Normal/masks/Normal-9167.png  \n",
            "  inflating: COVID-19_Radiography_Dataset/Normal/masks/Normal-9168.png  \n",
            "  inflating: COVID-19_Radiography_Dataset/Normal/masks/Normal-9169.png  \n",
            "  inflating: COVID-19_Radiography_Dataset/Normal/masks/Normal-917.png  \n",
            "  inflating: COVID-19_Radiography_Dataset/Normal/masks/Normal-9170.png  \n",
            "  inflating: COVID-19_Radiography_Dataset/Normal/masks/Normal-9171.png  \n",
            "  inflating: COVID-19_Radiography_Dataset/Normal/masks/Normal-9172.png  \n",
            "  inflating: COVID-19_Radiography_Dataset/Normal/masks/Normal-9173.png  \n",
            "  inflating: COVID-19_Radiography_Dataset/Normal/masks/Normal-9174.png  \n",
            "  inflating: COVID-19_Radiography_Dataset/Normal/masks/Normal-9175.png  \n",
            "  inflating: COVID-19_Radiography_Dataset/Normal/masks/Normal-9176.png  \n",
            "  inflating: COVID-19_Radiography_Dataset/Normal/masks/Normal-9177.png  \n",
            "  inflating: COVID-19_Radiography_Dataset/Normal/masks/Normal-9178.png  \n",
            "  inflating: COVID-19_Radiography_Dataset/Normal/masks/Normal-9179.png  \n",
            "  inflating: COVID-19_Radiography_Dataset/Normal/masks/Normal-918.png  \n",
            "  inflating: COVID-19_Radiography_Dataset/Normal/masks/Normal-9180.png  \n",
            "  inflating: COVID-19_Radiography_Dataset/Normal/masks/Normal-9181.png  \n",
            "  inflating: COVID-19_Radiography_Dataset/Normal/masks/Normal-9182.png  \n",
            "  inflating: COVID-19_Radiography_Dataset/Normal/masks/Normal-9183.png  \n",
            "  inflating: COVID-19_Radiography_Dataset/Normal/masks/Normal-9184.png  \n",
            "  inflating: COVID-19_Radiography_Dataset/Normal/masks/Normal-9185.png  \n",
            "  inflating: COVID-19_Radiography_Dataset/Normal/masks/Normal-9186.png  \n",
            "  inflating: COVID-19_Radiography_Dataset/Normal/masks/Normal-9187.png  \n",
            "  inflating: COVID-19_Radiography_Dataset/Normal/masks/Normal-9188.png  \n",
            "  inflating: COVID-19_Radiography_Dataset/Normal/masks/Normal-9189.png  \n",
            "  inflating: COVID-19_Radiography_Dataset/Normal/masks/Normal-919.png  \n",
            "  inflating: COVID-19_Radiography_Dataset/Normal/masks/Normal-9190.png  \n",
            "  inflating: COVID-19_Radiography_Dataset/Normal/masks/Normal-9191.png  \n",
            "  inflating: COVID-19_Radiography_Dataset/Normal/masks/Normal-9192.png  \n",
            "  inflating: COVID-19_Radiography_Dataset/Normal/masks/Normal-9193.png  \n",
            "  inflating: COVID-19_Radiography_Dataset/Normal/masks/Normal-9194.png  \n",
            "  inflating: COVID-19_Radiography_Dataset/Normal/masks/Normal-9195.png  \n",
            "  inflating: COVID-19_Radiography_Dataset/Normal/masks/Normal-9196.png  \n",
            "  inflating: COVID-19_Radiography_Dataset/Normal/masks/Normal-9197.png  \n",
            "  inflating: COVID-19_Radiography_Dataset/Normal/masks/Normal-9198.png  \n",
            "  inflating: COVID-19_Radiography_Dataset/Normal/masks/Normal-9199.png  \n",
            "  inflating: COVID-19_Radiography_Dataset/Normal/masks/Normal-92.png  \n",
            "  inflating: COVID-19_Radiography_Dataset/Normal/masks/Normal-920.png  \n",
            "  inflating: COVID-19_Radiography_Dataset/Normal/masks/Normal-9200.png  \n",
            "  inflating: COVID-19_Radiography_Dataset/Normal/masks/Normal-9201.png  \n",
            "  inflating: COVID-19_Radiography_Dataset/Normal/masks/Normal-9202.png  \n",
            "  inflating: COVID-19_Radiography_Dataset/Normal/masks/Normal-9203.png  \n",
            "  inflating: COVID-19_Radiography_Dataset/Normal/masks/Normal-9204.png  \n",
            "  inflating: COVID-19_Radiography_Dataset/Normal/masks/Normal-9205.png  \n",
            "  inflating: COVID-19_Radiography_Dataset/Normal/masks/Normal-9206.png  \n",
            "  inflating: COVID-19_Radiography_Dataset/Normal/masks/Normal-9207.png  \n",
            "  inflating: COVID-19_Radiography_Dataset/Normal/masks/Normal-9208.png  \n",
            "  inflating: COVID-19_Radiography_Dataset/Normal/masks/Normal-9209.png  \n",
            "  inflating: COVID-19_Radiography_Dataset/Normal/masks/Normal-921.png  \n",
            "  inflating: COVID-19_Radiography_Dataset/Normal/masks/Normal-9210.png  \n",
            "  inflating: COVID-19_Radiography_Dataset/Normal/masks/Normal-9211.png  \n",
            "  inflating: COVID-19_Radiography_Dataset/Normal/masks/Normal-9212.png  \n",
            "  inflating: COVID-19_Radiography_Dataset/Normal/masks/Normal-9213.png  \n",
            "  inflating: COVID-19_Radiography_Dataset/Normal/masks/Normal-9214.png  \n",
            "  inflating: COVID-19_Radiography_Dataset/Normal/masks/Normal-9215.png  \n",
            "  inflating: COVID-19_Radiography_Dataset/Normal/masks/Normal-9216.png  \n",
            "  inflating: COVID-19_Radiography_Dataset/Normal/masks/Normal-9217.png  \n",
            "  inflating: COVID-19_Radiography_Dataset/Normal/masks/Normal-9218.png  \n",
            "  inflating: COVID-19_Radiography_Dataset/Normal/masks/Normal-9219.png  \n",
            "  inflating: COVID-19_Radiography_Dataset/Normal/masks/Normal-922.png  \n",
            "  inflating: COVID-19_Radiography_Dataset/Normal/masks/Normal-9220.png  \n",
            "  inflating: COVID-19_Radiography_Dataset/Normal/masks/Normal-9221.png  \n",
            "  inflating: COVID-19_Radiography_Dataset/Normal/masks/Normal-9222.png  \n",
            "  inflating: COVID-19_Radiography_Dataset/Normal/masks/Normal-9223.png  \n",
            "  inflating: COVID-19_Radiography_Dataset/Normal/masks/Normal-9224.png  \n",
            "  inflating: COVID-19_Radiography_Dataset/Normal/masks/Normal-9225.png  \n",
            "  inflating: COVID-19_Radiography_Dataset/Normal/masks/Normal-9226.png  \n",
            "  inflating: COVID-19_Radiography_Dataset/Normal/masks/Normal-9227.png  \n",
            "  inflating: COVID-19_Radiography_Dataset/Normal/masks/Normal-9228.png  \n",
            "  inflating: COVID-19_Radiography_Dataset/Normal/masks/Normal-9229.png  \n",
            "  inflating: COVID-19_Radiography_Dataset/Normal/masks/Normal-923.png  \n",
            "  inflating: COVID-19_Radiography_Dataset/Normal/masks/Normal-9230.png  \n",
            "  inflating: COVID-19_Radiography_Dataset/Normal/masks/Normal-9231.png  \n",
            "  inflating: COVID-19_Radiography_Dataset/Normal/masks/Normal-9232.png  \n",
            "  inflating: COVID-19_Radiography_Dataset/Normal/masks/Normal-9233.png  \n",
            "  inflating: COVID-19_Radiography_Dataset/Normal/masks/Normal-9234.png  \n",
            "  inflating: COVID-19_Radiography_Dataset/Normal/masks/Normal-9235.png  \n",
            "  inflating: COVID-19_Radiography_Dataset/Normal/masks/Normal-9236.png  \n",
            "  inflating: COVID-19_Radiography_Dataset/Normal/masks/Normal-9237.png  \n",
            "  inflating: COVID-19_Radiography_Dataset/Normal/masks/Normal-9238.png  \n",
            "  inflating: COVID-19_Radiography_Dataset/Normal/masks/Normal-9239.png  \n",
            "  inflating: COVID-19_Radiography_Dataset/Normal/masks/Normal-924.png  \n",
            "  inflating: COVID-19_Radiography_Dataset/Normal/masks/Normal-9240.png  \n",
            "  inflating: COVID-19_Radiography_Dataset/Normal/masks/Normal-9241.png  \n",
            "  inflating: COVID-19_Radiography_Dataset/Normal/masks/Normal-9242.png  \n",
            "  inflating: COVID-19_Radiography_Dataset/Normal/masks/Normal-9243.png  \n",
            "  inflating: COVID-19_Radiography_Dataset/Normal/masks/Normal-9244.png  \n",
            "  inflating: COVID-19_Radiography_Dataset/Normal/masks/Normal-9245.png  \n",
            "  inflating: COVID-19_Radiography_Dataset/Normal/masks/Normal-9246.png  \n",
            "  inflating: COVID-19_Radiography_Dataset/Normal/masks/Normal-9247.png  \n",
            "  inflating: COVID-19_Radiography_Dataset/Normal/masks/Normal-9248.png  \n",
            "  inflating: COVID-19_Radiography_Dataset/Normal/masks/Normal-9249.png  \n",
            "  inflating: COVID-19_Radiography_Dataset/Normal/masks/Normal-925.png  \n",
            "  inflating: COVID-19_Radiography_Dataset/Normal/masks/Normal-9250.png  \n",
            "  inflating: COVID-19_Radiography_Dataset/Normal/masks/Normal-9251.png  \n",
            "  inflating: COVID-19_Radiography_Dataset/Normal/masks/Normal-9252.png  \n",
            "  inflating: COVID-19_Radiography_Dataset/Normal/masks/Normal-9253.png  \n",
            "  inflating: COVID-19_Radiography_Dataset/Normal/masks/Normal-9254.png  \n",
            "  inflating: COVID-19_Radiography_Dataset/Normal/masks/Normal-9255.png  \n",
            "  inflating: COVID-19_Radiography_Dataset/Normal/masks/Normal-9256.png  \n",
            "  inflating: COVID-19_Radiography_Dataset/Normal/masks/Normal-9257.png  \n",
            "  inflating: COVID-19_Radiography_Dataset/Normal/masks/Normal-9258.png  \n",
            "  inflating: COVID-19_Radiography_Dataset/Normal/masks/Normal-9259.png  \n",
            "  inflating: COVID-19_Radiography_Dataset/Normal/masks/Normal-926.png  \n",
            "  inflating: COVID-19_Radiography_Dataset/Normal/masks/Normal-9260.png  \n",
            "  inflating: COVID-19_Radiography_Dataset/Normal/masks/Normal-9261.png  \n",
            "  inflating: COVID-19_Radiography_Dataset/Normal/masks/Normal-9262.png  \n",
            "  inflating: COVID-19_Radiography_Dataset/Normal/masks/Normal-9263.png  \n",
            "  inflating: COVID-19_Radiography_Dataset/Normal/masks/Normal-9264.png  \n",
            "  inflating: COVID-19_Radiography_Dataset/Normal/masks/Normal-9265.png  \n",
            "  inflating: COVID-19_Radiography_Dataset/Normal/masks/Normal-9266.png  \n",
            "  inflating: COVID-19_Radiography_Dataset/Normal/masks/Normal-9267.png  \n",
            "  inflating: COVID-19_Radiography_Dataset/Normal/masks/Normal-9268.png  \n",
            "  inflating: COVID-19_Radiography_Dataset/Normal/masks/Normal-9269.png  \n",
            "  inflating: COVID-19_Radiography_Dataset/Normal/masks/Normal-927.png  \n",
            "  inflating: COVID-19_Radiography_Dataset/Normal/masks/Normal-9270.png  \n",
            "  inflating: COVID-19_Radiography_Dataset/Normal/masks/Normal-9271.png  \n",
            "  inflating: COVID-19_Radiography_Dataset/Normal/masks/Normal-9272.png  \n",
            "  inflating: COVID-19_Radiography_Dataset/Normal/masks/Normal-9273.png  \n",
            "  inflating: COVID-19_Radiography_Dataset/Normal/masks/Normal-9274.png  \n",
            "  inflating: COVID-19_Radiography_Dataset/Normal/masks/Normal-9275.png  \n",
            "  inflating: COVID-19_Radiography_Dataset/Normal/masks/Normal-9276.png  \n",
            "  inflating: COVID-19_Radiography_Dataset/Normal/masks/Normal-9277.png  \n",
            "  inflating: COVID-19_Radiography_Dataset/Normal/masks/Normal-9278.png  \n",
            "  inflating: COVID-19_Radiography_Dataset/Normal/masks/Normal-9279.png  \n",
            "  inflating: COVID-19_Radiography_Dataset/Normal/masks/Normal-928.png  \n",
            "  inflating: COVID-19_Radiography_Dataset/Normal/masks/Normal-9280.png  \n",
            "  inflating: COVID-19_Radiography_Dataset/Normal/masks/Normal-9281.png  \n",
            "  inflating: COVID-19_Radiography_Dataset/Normal/masks/Normal-9282.png  \n",
            "  inflating: COVID-19_Radiography_Dataset/Normal/masks/Normal-9283.png  \n",
            "  inflating: COVID-19_Radiography_Dataset/Normal/masks/Normal-9284.png  \n",
            "  inflating: COVID-19_Radiography_Dataset/Normal/masks/Normal-9285.png  \n",
            "  inflating: COVID-19_Radiography_Dataset/Normal/masks/Normal-9286.png  \n",
            "  inflating: COVID-19_Radiography_Dataset/Normal/masks/Normal-9287.png  \n",
            "  inflating: COVID-19_Radiography_Dataset/Normal/masks/Normal-9288.png  \n",
            "  inflating: COVID-19_Radiography_Dataset/Normal/masks/Normal-9289.png  \n",
            "  inflating: COVID-19_Radiography_Dataset/Normal/masks/Normal-929.png  \n",
            "  inflating: COVID-19_Radiography_Dataset/Normal/masks/Normal-9290.png  \n",
            "  inflating: COVID-19_Radiography_Dataset/Normal/masks/Normal-9291.png  \n",
            "  inflating: COVID-19_Radiography_Dataset/Normal/masks/Normal-9292.png  \n",
            "  inflating: COVID-19_Radiography_Dataset/Normal/masks/Normal-9293.png  \n",
            "  inflating: COVID-19_Radiography_Dataset/Normal/masks/Normal-9294.png  \n",
            "  inflating: COVID-19_Radiography_Dataset/Normal/masks/Normal-9295.png  \n",
            "  inflating: COVID-19_Radiography_Dataset/Normal/masks/Normal-9296.png  \n",
            "  inflating: COVID-19_Radiography_Dataset/Normal/masks/Normal-9297.png  \n",
            "  inflating: COVID-19_Radiography_Dataset/Normal/masks/Normal-9298.png  \n",
            "  inflating: COVID-19_Radiography_Dataset/Normal/masks/Normal-9299.png  \n",
            "  inflating: COVID-19_Radiography_Dataset/Normal/masks/Normal-93.png  \n",
            "  inflating: COVID-19_Radiography_Dataset/Normal/masks/Normal-930.png  \n",
            "  inflating: COVID-19_Radiography_Dataset/Normal/masks/Normal-9300.png  \n",
            "  inflating: COVID-19_Radiography_Dataset/Normal/masks/Normal-9301.png  \n",
            "  inflating: COVID-19_Radiography_Dataset/Normal/masks/Normal-9302.png  \n",
            "  inflating: COVID-19_Radiography_Dataset/Normal/masks/Normal-9303.png  \n",
            "  inflating: COVID-19_Radiography_Dataset/Normal/masks/Normal-9304.png  \n",
            "  inflating: COVID-19_Radiography_Dataset/Normal/masks/Normal-9305.png  \n",
            "  inflating: COVID-19_Radiography_Dataset/Normal/masks/Normal-9306.png  \n",
            "  inflating: COVID-19_Radiography_Dataset/Normal/masks/Normal-9307.png  \n",
            "  inflating: COVID-19_Radiography_Dataset/Normal/masks/Normal-9308.png  \n",
            "  inflating: COVID-19_Radiography_Dataset/Normal/masks/Normal-9309.png  \n",
            "  inflating: COVID-19_Radiography_Dataset/Normal/masks/Normal-931.png  \n",
            "  inflating: COVID-19_Radiography_Dataset/Normal/masks/Normal-9310.png  \n",
            "  inflating: COVID-19_Radiography_Dataset/Normal/masks/Normal-9311.png  \n",
            "  inflating: COVID-19_Radiography_Dataset/Normal/masks/Normal-9312.png  \n",
            "  inflating: COVID-19_Radiography_Dataset/Normal/masks/Normal-9313.png  \n",
            "  inflating: COVID-19_Radiography_Dataset/Normal/masks/Normal-9314.png  \n",
            "  inflating: COVID-19_Radiography_Dataset/Normal/masks/Normal-9315.png  \n",
            "  inflating: COVID-19_Radiography_Dataset/Normal/masks/Normal-9316.png  \n",
            "  inflating: COVID-19_Radiography_Dataset/Normal/masks/Normal-9317.png  \n",
            "  inflating: COVID-19_Radiography_Dataset/Normal/masks/Normal-9318.png  \n",
            "  inflating: COVID-19_Radiography_Dataset/Normal/masks/Normal-9319.png  \n",
            "  inflating: COVID-19_Radiography_Dataset/Normal/masks/Normal-932.png  \n",
            "  inflating: COVID-19_Radiography_Dataset/Normal/masks/Normal-9320.png  \n",
            "  inflating: COVID-19_Radiography_Dataset/Normal/masks/Normal-9321.png  \n",
            "  inflating: COVID-19_Radiography_Dataset/Normal/masks/Normal-9322.png  \n",
            "  inflating: COVID-19_Radiography_Dataset/Normal/masks/Normal-9323.png  \n",
            "  inflating: COVID-19_Radiography_Dataset/Normal/masks/Normal-9324.png  \n",
            "  inflating: COVID-19_Radiography_Dataset/Normal/masks/Normal-9325.png  \n",
            "  inflating: COVID-19_Radiography_Dataset/Normal/masks/Normal-9326.png  \n",
            "  inflating: COVID-19_Radiography_Dataset/Normal/masks/Normal-9327.png  \n",
            "  inflating: COVID-19_Radiography_Dataset/Normal/masks/Normal-9328.png  \n",
            "  inflating: COVID-19_Radiography_Dataset/Normal/masks/Normal-9329.png  \n",
            "  inflating: COVID-19_Radiography_Dataset/Normal/masks/Normal-933.png  \n",
            "  inflating: COVID-19_Radiography_Dataset/Normal/masks/Normal-9330.png  \n",
            "  inflating: COVID-19_Radiography_Dataset/Normal/masks/Normal-9331.png  \n",
            "  inflating: COVID-19_Radiography_Dataset/Normal/masks/Normal-9332.png  \n",
            "  inflating: COVID-19_Radiography_Dataset/Normal/masks/Normal-9333.png  \n",
            "  inflating: COVID-19_Radiography_Dataset/Normal/masks/Normal-9334.png  \n",
            "  inflating: COVID-19_Radiography_Dataset/Normal/masks/Normal-9335.png  \n",
            "  inflating: COVID-19_Radiography_Dataset/Normal/masks/Normal-9336.png  \n",
            "  inflating: COVID-19_Radiography_Dataset/Normal/masks/Normal-9337.png  \n",
            "  inflating: COVID-19_Radiography_Dataset/Normal/masks/Normal-9338.png  \n",
            "  inflating: COVID-19_Radiography_Dataset/Normal/masks/Normal-9339.png  \n",
            "  inflating: COVID-19_Radiography_Dataset/Normal/masks/Normal-934.png  \n",
            "  inflating: COVID-19_Radiography_Dataset/Normal/masks/Normal-9340.png  \n",
            "  inflating: COVID-19_Radiography_Dataset/Normal/masks/Normal-9341.png  \n",
            "  inflating: COVID-19_Radiography_Dataset/Normal/masks/Normal-9342.png  \n",
            "  inflating: COVID-19_Radiography_Dataset/Normal/masks/Normal-9343.png  \n",
            "  inflating: COVID-19_Radiography_Dataset/Normal/masks/Normal-9344.png  \n",
            "  inflating: COVID-19_Radiography_Dataset/Normal/masks/Normal-9345.png  \n",
            "  inflating: COVID-19_Radiography_Dataset/Normal/masks/Normal-9346.png  \n",
            "  inflating: COVID-19_Radiography_Dataset/Normal/masks/Normal-9347.png  \n",
            "  inflating: COVID-19_Radiography_Dataset/Normal/masks/Normal-9348.png  \n",
            "  inflating: COVID-19_Radiography_Dataset/Normal/masks/Normal-9349.png  \n",
            "  inflating: COVID-19_Radiography_Dataset/Normal/masks/Normal-935.png  \n",
            "  inflating: COVID-19_Radiography_Dataset/Normal/masks/Normal-9350.png  \n",
            "  inflating: COVID-19_Radiography_Dataset/Normal/masks/Normal-9351.png  \n",
            "  inflating: COVID-19_Radiography_Dataset/Normal/masks/Normal-9352.png  \n",
            "  inflating: COVID-19_Radiography_Dataset/Normal/masks/Normal-9353.png  \n",
            "  inflating: COVID-19_Radiography_Dataset/Normal/masks/Normal-9354.png  \n",
            "  inflating: COVID-19_Radiography_Dataset/Normal/masks/Normal-9355.png  \n",
            "  inflating: COVID-19_Radiography_Dataset/Normal/masks/Normal-9356.png  \n",
            "  inflating: COVID-19_Radiography_Dataset/Normal/masks/Normal-9357.png  \n",
            "  inflating: COVID-19_Radiography_Dataset/Normal/masks/Normal-9358.png  \n",
            "  inflating: COVID-19_Radiography_Dataset/Normal/masks/Normal-9359.png  \n",
            "  inflating: COVID-19_Radiography_Dataset/Normal/masks/Normal-936.png  \n",
            "  inflating: COVID-19_Radiography_Dataset/Normal/masks/Normal-9360.png  \n",
            "  inflating: COVID-19_Radiography_Dataset/Normal/masks/Normal-9361.png  \n",
            "  inflating: COVID-19_Radiography_Dataset/Normal/masks/Normal-9362.png  \n",
            "  inflating: COVID-19_Radiography_Dataset/Normal/masks/Normal-9363.png  \n",
            "  inflating: COVID-19_Radiography_Dataset/Normal/masks/Normal-9364.png  \n",
            "  inflating: COVID-19_Radiography_Dataset/Normal/masks/Normal-9365.png  \n",
            "  inflating: COVID-19_Radiography_Dataset/Normal/masks/Normal-9366.png  \n",
            "  inflating: COVID-19_Radiography_Dataset/Normal/masks/Normal-9367.png  \n",
            "  inflating: COVID-19_Radiography_Dataset/Normal/masks/Normal-9368.png  \n",
            "  inflating: COVID-19_Radiography_Dataset/Normal/masks/Normal-9369.png  \n",
            "  inflating: COVID-19_Radiography_Dataset/Normal/masks/Normal-937.png  \n",
            "  inflating: COVID-19_Radiography_Dataset/Normal/masks/Normal-9370.png  \n",
            "  inflating: COVID-19_Radiography_Dataset/Normal/masks/Normal-9371.png  \n",
            "  inflating: COVID-19_Radiography_Dataset/Normal/masks/Normal-9372.png  \n",
            "  inflating: COVID-19_Radiography_Dataset/Normal/masks/Normal-9373.png  \n",
            "  inflating: COVID-19_Radiography_Dataset/Normal/masks/Normal-9374.png  \n",
            "  inflating: COVID-19_Radiography_Dataset/Normal/masks/Normal-9375.png  \n",
            "  inflating: COVID-19_Radiography_Dataset/Normal/masks/Normal-9376.png  \n",
            "  inflating: COVID-19_Radiography_Dataset/Normal/masks/Normal-9377.png  \n",
            "  inflating: COVID-19_Radiography_Dataset/Normal/masks/Normal-9378.png  \n",
            "  inflating: COVID-19_Radiography_Dataset/Normal/masks/Normal-9379.png  \n",
            "  inflating: COVID-19_Radiography_Dataset/Normal/masks/Normal-938.png  \n",
            "  inflating: COVID-19_Radiography_Dataset/Normal/masks/Normal-9380.png  \n",
            "  inflating: COVID-19_Radiography_Dataset/Normal/masks/Normal-9381.png  \n",
            "  inflating: COVID-19_Radiography_Dataset/Normal/masks/Normal-9382.png  \n",
            "  inflating: COVID-19_Radiography_Dataset/Normal/masks/Normal-9383.png  \n",
            "  inflating: COVID-19_Radiography_Dataset/Normal/masks/Normal-9384.png  \n",
            "  inflating: COVID-19_Radiography_Dataset/Normal/masks/Normal-9385.png  \n",
            "  inflating: COVID-19_Radiography_Dataset/Normal/masks/Normal-9386.png  \n",
            "  inflating: COVID-19_Radiography_Dataset/Normal/masks/Normal-9387.png  \n",
            "  inflating: COVID-19_Radiography_Dataset/Normal/masks/Normal-9388.png  \n",
            "  inflating: COVID-19_Radiography_Dataset/Normal/masks/Normal-9389.png  \n",
            "  inflating: COVID-19_Radiography_Dataset/Normal/masks/Normal-939.png  \n",
            "  inflating: COVID-19_Radiography_Dataset/Normal/masks/Normal-9390.png  \n",
            "  inflating: COVID-19_Radiography_Dataset/Normal/masks/Normal-9391.png  \n",
            "  inflating: COVID-19_Radiography_Dataset/Normal/masks/Normal-9392.png  \n",
            "  inflating: COVID-19_Radiography_Dataset/Normal/masks/Normal-9393.png  \n",
            "  inflating: COVID-19_Radiography_Dataset/Normal/masks/Normal-9394.png  \n",
            "  inflating: COVID-19_Radiography_Dataset/Normal/masks/Normal-9395.png  \n",
            "  inflating: COVID-19_Radiography_Dataset/Normal/masks/Normal-9396.png  \n",
            "  inflating: COVID-19_Radiography_Dataset/Normal/masks/Normal-9397.png  \n",
            "  inflating: COVID-19_Radiography_Dataset/Normal/masks/Normal-9398.png  \n",
            "  inflating: COVID-19_Radiography_Dataset/Normal/masks/Normal-9399.png  \n",
            "  inflating: COVID-19_Radiography_Dataset/Normal/masks/Normal-94.png  \n",
            "  inflating: COVID-19_Radiography_Dataset/Normal/masks/Normal-940.png  \n",
            "  inflating: COVID-19_Radiography_Dataset/Normal/masks/Normal-9400.png  \n",
            "  inflating: COVID-19_Radiography_Dataset/Normal/masks/Normal-9401.png  \n",
            "  inflating: COVID-19_Radiography_Dataset/Normal/masks/Normal-9402.png  \n",
            "  inflating: COVID-19_Radiography_Dataset/Normal/masks/Normal-9403.png  \n",
            "  inflating: COVID-19_Radiography_Dataset/Normal/masks/Normal-9404.png  \n",
            "  inflating: COVID-19_Radiography_Dataset/Normal/masks/Normal-9405.png  \n",
            "  inflating: COVID-19_Radiography_Dataset/Normal/masks/Normal-9406.png  \n",
            "  inflating: COVID-19_Radiography_Dataset/Normal/masks/Normal-9407.png  \n",
            "  inflating: COVID-19_Radiography_Dataset/Normal/masks/Normal-9408.png  \n",
            "  inflating: COVID-19_Radiography_Dataset/Normal/masks/Normal-9409.png  \n",
            "  inflating: COVID-19_Radiography_Dataset/Normal/masks/Normal-941.png  \n",
            "  inflating: COVID-19_Radiography_Dataset/Normal/masks/Normal-9410.png  \n",
            "  inflating: COVID-19_Radiography_Dataset/Normal/masks/Normal-9411.png  \n",
            "  inflating: COVID-19_Radiography_Dataset/Normal/masks/Normal-9412.png  \n",
            "  inflating: COVID-19_Radiography_Dataset/Normal/masks/Normal-9413.png  \n",
            "  inflating: COVID-19_Radiography_Dataset/Normal/masks/Normal-9414.png  \n",
            "  inflating: COVID-19_Radiography_Dataset/Normal/masks/Normal-9415.png  \n",
            "  inflating: COVID-19_Radiography_Dataset/Normal/masks/Normal-9416.png  \n",
            "  inflating: COVID-19_Radiography_Dataset/Normal/masks/Normal-9417.png  \n",
            "  inflating: COVID-19_Radiography_Dataset/Normal/masks/Normal-9418.png  \n",
            "  inflating: COVID-19_Radiography_Dataset/Normal/masks/Normal-9419.png  \n",
            "  inflating: COVID-19_Radiography_Dataset/Normal/masks/Normal-942.png  \n",
            "  inflating: COVID-19_Radiography_Dataset/Normal/masks/Normal-9420.png  \n",
            "  inflating: COVID-19_Radiography_Dataset/Normal/masks/Normal-9421.png  \n",
            "  inflating: COVID-19_Radiography_Dataset/Normal/masks/Normal-9422.png  \n",
            "  inflating: COVID-19_Radiography_Dataset/Normal/masks/Normal-9423.png  \n",
            "  inflating: COVID-19_Radiography_Dataset/Normal/masks/Normal-9424.png  \n",
            "  inflating: COVID-19_Radiography_Dataset/Normal/masks/Normal-9425.png  \n",
            "  inflating: COVID-19_Radiography_Dataset/Normal/masks/Normal-9426.png  \n",
            "  inflating: COVID-19_Radiography_Dataset/Normal/masks/Normal-9427.png  \n",
            "  inflating: COVID-19_Radiography_Dataset/Normal/masks/Normal-9428.png  \n",
            "  inflating: COVID-19_Radiography_Dataset/Normal/masks/Normal-9429.png  \n",
            "  inflating: COVID-19_Radiography_Dataset/Normal/masks/Normal-943.png  \n",
            "  inflating: COVID-19_Radiography_Dataset/Normal/masks/Normal-9430.png  \n",
            "  inflating: COVID-19_Radiography_Dataset/Normal/masks/Normal-9431.png  \n",
            "  inflating: COVID-19_Radiography_Dataset/Normal/masks/Normal-9432.png  \n",
            "  inflating: COVID-19_Radiography_Dataset/Normal/masks/Normal-9433.png  \n",
            "  inflating: COVID-19_Radiography_Dataset/Normal/masks/Normal-9434.png  \n",
            "  inflating: COVID-19_Radiography_Dataset/Normal/masks/Normal-9435.png  \n",
            "  inflating: COVID-19_Radiography_Dataset/Normal/masks/Normal-9436.png  \n",
            "  inflating: COVID-19_Radiography_Dataset/Normal/masks/Normal-9437.png  \n",
            "  inflating: COVID-19_Radiography_Dataset/Normal/masks/Normal-9438.png  \n",
            "  inflating: COVID-19_Radiography_Dataset/Normal/masks/Normal-9439.png  \n",
            "  inflating: COVID-19_Radiography_Dataset/Normal/masks/Normal-944.png  \n",
            "  inflating: COVID-19_Radiography_Dataset/Normal/masks/Normal-9440.png  \n",
            "  inflating: COVID-19_Radiography_Dataset/Normal/masks/Normal-9441.png  \n",
            "  inflating: COVID-19_Radiography_Dataset/Normal/masks/Normal-9442.png  \n",
            "  inflating: COVID-19_Radiography_Dataset/Normal/masks/Normal-9443.png  \n",
            "  inflating: COVID-19_Radiography_Dataset/Normal/masks/Normal-9444.png  \n",
            "  inflating: COVID-19_Radiography_Dataset/Normal/masks/Normal-9445.png  \n",
            "  inflating: COVID-19_Radiography_Dataset/Normal/masks/Normal-9446.png  \n",
            "  inflating: COVID-19_Radiography_Dataset/Normal/masks/Normal-9447.png  \n",
            "  inflating: COVID-19_Radiography_Dataset/Normal/masks/Normal-9448.png  \n",
            "  inflating: COVID-19_Radiography_Dataset/Normal/masks/Normal-9449.png  \n",
            "  inflating: COVID-19_Radiography_Dataset/Normal/masks/Normal-945.png  \n",
            "  inflating: COVID-19_Radiography_Dataset/Normal/masks/Normal-9450.png  \n",
            "  inflating: COVID-19_Radiography_Dataset/Normal/masks/Normal-9451.png  \n",
            "  inflating: COVID-19_Radiography_Dataset/Normal/masks/Normal-9452.png  \n",
            "  inflating: COVID-19_Radiography_Dataset/Normal/masks/Normal-9453.png  \n",
            "  inflating: COVID-19_Radiography_Dataset/Normal/masks/Normal-9454.png  \n",
            "  inflating: COVID-19_Radiography_Dataset/Normal/masks/Normal-9455.png  \n",
            "  inflating: COVID-19_Radiography_Dataset/Normal/masks/Normal-9456.png  \n",
            "  inflating: COVID-19_Radiography_Dataset/Normal/masks/Normal-9457.png  \n",
            "  inflating: COVID-19_Radiography_Dataset/Normal/masks/Normal-9458.png  \n",
            "  inflating: COVID-19_Radiography_Dataset/Normal/masks/Normal-9459.png  \n",
            "  inflating: COVID-19_Radiography_Dataset/Normal/masks/Normal-946.png  \n",
            "  inflating: COVID-19_Radiography_Dataset/Normal/masks/Normal-9460.png  \n",
            "  inflating: COVID-19_Radiography_Dataset/Normal/masks/Normal-9461.png  \n",
            "  inflating: COVID-19_Radiography_Dataset/Normal/masks/Normal-9462.png  \n",
            "  inflating: COVID-19_Radiography_Dataset/Normal/masks/Normal-9463.png  \n",
            "  inflating: COVID-19_Radiography_Dataset/Normal/masks/Normal-9464.png  \n",
            "  inflating: COVID-19_Radiography_Dataset/Normal/masks/Normal-9465.png  \n",
            "  inflating: COVID-19_Radiography_Dataset/Normal/masks/Normal-9466.png  \n",
            "  inflating: COVID-19_Radiography_Dataset/Normal/masks/Normal-9467.png  \n",
            "  inflating: COVID-19_Radiography_Dataset/Normal/masks/Normal-9468.png  \n",
            "  inflating: COVID-19_Radiography_Dataset/Normal/masks/Normal-9469.png  \n",
            "  inflating: COVID-19_Radiography_Dataset/Normal/masks/Normal-947.png  \n",
            "  inflating: COVID-19_Radiography_Dataset/Normal/masks/Normal-9470.png  \n",
            "  inflating: COVID-19_Radiography_Dataset/Normal/masks/Normal-9471.png  \n",
            "  inflating: COVID-19_Radiography_Dataset/Normal/masks/Normal-9472.png  \n",
            "  inflating: COVID-19_Radiography_Dataset/Normal/masks/Normal-9473.png  \n",
            "  inflating: COVID-19_Radiography_Dataset/Normal/masks/Normal-9474.png  \n",
            "  inflating: COVID-19_Radiography_Dataset/Normal/masks/Normal-9475.png  \n",
            "  inflating: COVID-19_Radiography_Dataset/Normal/masks/Normal-9476.png  \n",
            "  inflating: COVID-19_Radiography_Dataset/Normal/masks/Normal-9477.png  \n",
            "  inflating: COVID-19_Radiography_Dataset/Normal/masks/Normal-9478.png  \n",
            "  inflating: COVID-19_Radiography_Dataset/Normal/masks/Normal-9479.png  \n",
            "  inflating: COVID-19_Radiography_Dataset/Normal/masks/Normal-948.png  \n",
            "  inflating: COVID-19_Radiography_Dataset/Normal/masks/Normal-9480.png  \n",
            "  inflating: COVID-19_Radiography_Dataset/Normal/masks/Normal-9481.png  \n",
            "  inflating: COVID-19_Radiography_Dataset/Normal/masks/Normal-9482.png  \n",
            "  inflating: COVID-19_Radiography_Dataset/Normal/masks/Normal-9483.png  \n",
            "  inflating: COVID-19_Radiography_Dataset/Normal/masks/Normal-9484.png  \n",
            "  inflating: COVID-19_Radiography_Dataset/Normal/masks/Normal-9485.png  \n",
            "  inflating: COVID-19_Radiography_Dataset/Normal/masks/Normal-9486.png  \n",
            "  inflating: COVID-19_Radiography_Dataset/Normal/masks/Normal-9487.png  \n",
            "  inflating: COVID-19_Radiography_Dataset/Normal/masks/Normal-9488.png  \n",
            "  inflating: COVID-19_Radiography_Dataset/Normal/masks/Normal-9489.png  \n",
            "  inflating: COVID-19_Radiography_Dataset/Normal/masks/Normal-949.png  \n",
            "  inflating: COVID-19_Radiography_Dataset/Normal/masks/Normal-9490.png  \n",
            "  inflating: COVID-19_Radiography_Dataset/Normal/masks/Normal-9491.png  \n",
            "  inflating: COVID-19_Radiography_Dataset/Normal/masks/Normal-9492.png  \n",
            "  inflating: COVID-19_Radiography_Dataset/Normal/masks/Normal-9493.png  \n",
            "  inflating: COVID-19_Radiography_Dataset/Normal/masks/Normal-9494.png  \n",
            "  inflating: COVID-19_Radiography_Dataset/Normal/masks/Normal-9495.png  \n",
            "  inflating: COVID-19_Radiography_Dataset/Normal/masks/Normal-9496.png  \n",
            "  inflating: COVID-19_Radiography_Dataset/Normal/masks/Normal-9497.png  \n",
            "  inflating: COVID-19_Radiography_Dataset/Normal/masks/Normal-9498.png  \n",
            "  inflating: COVID-19_Radiography_Dataset/Normal/masks/Normal-9499.png  \n",
            "  inflating: COVID-19_Radiography_Dataset/Normal/masks/Normal-95.png  \n",
            "  inflating: COVID-19_Radiography_Dataset/Normal/masks/Normal-950.png  \n",
            "  inflating: COVID-19_Radiography_Dataset/Normal/masks/Normal-9500.png  \n",
            "  inflating: COVID-19_Radiography_Dataset/Normal/masks/Normal-9501.png  \n",
            "  inflating: COVID-19_Radiography_Dataset/Normal/masks/Normal-9502.png  \n",
            "  inflating: COVID-19_Radiography_Dataset/Normal/masks/Normal-9503.png  \n",
            "  inflating: COVID-19_Radiography_Dataset/Normal/masks/Normal-9504.png  \n",
            "  inflating: COVID-19_Radiography_Dataset/Normal/masks/Normal-9505.png  \n",
            "  inflating: COVID-19_Radiography_Dataset/Normal/masks/Normal-9506.png  \n",
            "  inflating: COVID-19_Radiography_Dataset/Normal/masks/Normal-9507.png  \n",
            "  inflating: COVID-19_Radiography_Dataset/Normal/masks/Normal-9508.png  \n",
            "  inflating: COVID-19_Radiography_Dataset/Normal/masks/Normal-9509.png  \n",
            "  inflating: COVID-19_Radiography_Dataset/Normal/masks/Normal-951.png  \n",
            "  inflating: COVID-19_Radiography_Dataset/Normal/masks/Normal-9510.png  \n",
            "  inflating: COVID-19_Radiography_Dataset/Normal/masks/Normal-9511.png  \n",
            "  inflating: COVID-19_Radiography_Dataset/Normal/masks/Normal-9512.png  \n",
            "  inflating: COVID-19_Radiography_Dataset/Normal/masks/Normal-9513.png  \n",
            "  inflating: COVID-19_Radiography_Dataset/Normal/masks/Normal-9514.png  \n",
            "  inflating: COVID-19_Radiography_Dataset/Normal/masks/Normal-9515.png  \n",
            "  inflating: COVID-19_Radiography_Dataset/Normal/masks/Normal-9516.png  \n",
            "  inflating: COVID-19_Radiography_Dataset/Normal/masks/Normal-9517.png  \n",
            "  inflating: COVID-19_Radiography_Dataset/Normal/masks/Normal-9518.png  \n",
            "  inflating: COVID-19_Radiography_Dataset/Normal/masks/Normal-9519.png  \n",
            "  inflating: COVID-19_Radiography_Dataset/Normal/masks/Normal-952.png  \n",
            "  inflating: COVID-19_Radiography_Dataset/Normal/masks/Normal-9520.png  \n",
            "  inflating: COVID-19_Radiography_Dataset/Normal/masks/Normal-9521.png  \n",
            "  inflating: COVID-19_Radiography_Dataset/Normal/masks/Normal-9522.png  \n",
            "  inflating: COVID-19_Radiography_Dataset/Normal/masks/Normal-9523.png  \n",
            "  inflating: COVID-19_Radiography_Dataset/Normal/masks/Normal-9524.png  \n",
            "  inflating: COVID-19_Radiography_Dataset/Normal/masks/Normal-9525.png  \n",
            "  inflating: COVID-19_Radiography_Dataset/Normal/masks/Normal-9526.png  \n",
            "  inflating: COVID-19_Radiography_Dataset/Normal/masks/Normal-9527.png  \n",
            "  inflating: COVID-19_Radiography_Dataset/Normal/masks/Normal-9528.png  \n",
            "  inflating: COVID-19_Radiography_Dataset/Normal/masks/Normal-9529.png  \n",
            "  inflating: COVID-19_Radiography_Dataset/Normal/masks/Normal-953.png  \n",
            "  inflating: COVID-19_Radiography_Dataset/Normal/masks/Normal-9530.png  \n",
            "  inflating: COVID-19_Radiography_Dataset/Normal/masks/Normal-9531.png  \n",
            "  inflating: COVID-19_Radiography_Dataset/Normal/masks/Normal-9532.png  \n",
            "  inflating: COVID-19_Radiography_Dataset/Normal/masks/Normal-9533.png  \n",
            "  inflating: COVID-19_Radiography_Dataset/Normal/masks/Normal-9534.png  \n",
            "  inflating: COVID-19_Radiography_Dataset/Normal/masks/Normal-9535.png  \n",
            "  inflating: COVID-19_Radiography_Dataset/Normal/masks/Normal-9536.png  \n",
            "  inflating: COVID-19_Radiography_Dataset/Normal/masks/Normal-9537.png  \n",
            "  inflating: COVID-19_Radiography_Dataset/Normal/masks/Normal-9538.png  \n",
            "  inflating: COVID-19_Radiography_Dataset/Normal/masks/Normal-9539.png  \n",
            "  inflating: COVID-19_Radiography_Dataset/Normal/masks/Normal-954.png  \n",
            "  inflating: COVID-19_Radiography_Dataset/Normal/masks/Normal-9540.png  \n",
            "  inflating: COVID-19_Radiography_Dataset/Normal/masks/Normal-9541.png  \n",
            "  inflating: COVID-19_Radiography_Dataset/Normal/masks/Normal-9542.png  \n",
            "  inflating: COVID-19_Radiography_Dataset/Normal/masks/Normal-9543.png  \n",
            "  inflating: COVID-19_Radiography_Dataset/Normal/masks/Normal-9544.png  \n",
            "  inflating: COVID-19_Radiography_Dataset/Normal/masks/Normal-9545.png  \n",
            "  inflating: COVID-19_Radiography_Dataset/Normal/masks/Normal-9546.png  \n",
            "  inflating: COVID-19_Radiography_Dataset/Normal/masks/Normal-9547.png  \n",
            "  inflating: COVID-19_Radiography_Dataset/Normal/masks/Normal-9548.png  \n",
            "  inflating: COVID-19_Radiography_Dataset/Normal/masks/Normal-9549.png  \n",
            "  inflating: COVID-19_Radiography_Dataset/Normal/masks/Normal-955.png  \n",
            "  inflating: COVID-19_Radiography_Dataset/Normal/masks/Normal-9550.png  \n",
            "  inflating: COVID-19_Radiography_Dataset/Normal/masks/Normal-9551.png  \n",
            "  inflating: COVID-19_Radiography_Dataset/Normal/masks/Normal-9552.png  \n",
            "  inflating: COVID-19_Radiography_Dataset/Normal/masks/Normal-9553.png  \n",
            "  inflating: COVID-19_Radiography_Dataset/Normal/masks/Normal-9554.png  \n",
            "  inflating: COVID-19_Radiography_Dataset/Normal/masks/Normal-9555.png  \n",
            "  inflating: COVID-19_Radiography_Dataset/Normal/masks/Normal-9556.png  \n",
            "  inflating: COVID-19_Radiography_Dataset/Normal/masks/Normal-9557.png  \n",
            "  inflating: COVID-19_Radiography_Dataset/Normal/masks/Normal-9558.png  \n",
            "  inflating: COVID-19_Radiography_Dataset/Normal/masks/Normal-9559.png  \n",
            "  inflating: COVID-19_Radiography_Dataset/Normal/masks/Normal-956.png  \n",
            "  inflating: COVID-19_Radiography_Dataset/Normal/masks/Normal-9560.png  \n",
            "  inflating: COVID-19_Radiography_Dataset/Normal/masks/Normal-9561.png  \n",
            "  inflating: COVID-19_Radiography_Dataset/Normal/masks/Normal-9562.png  \n",
            "  inflating: COVID-19_Radiography_Dataset/Normal/masks/Normal-9563.png  \n",
            "  inflating: COVID-19_Radiography_Dataset/Normal/masks/Normal-9564.png  \n",
            "  inflating: COVID-19_Radiography_Dataset/Normal/masks/Normal-9565.png  \n",
            "  inflating: COVID-19_Radiography_Dataset/Normal/masks/Normal-9566.png  \n",
            "  inflating: COVID-19_Radiography_Dataset/Normal/masks/Normal-9567.png  \n",
            "  inflating: COVID-19_Radiography_Dataset/Normal/masks/Normal-9568.png  \n",
            "  inflating: COVID-19_Radiography_Dataset/Normal/masks/Normal-9569.png  \n",
            "  inflating: COVID-19_Radiography_Dataset/Normal/masks/Normal-957.png  \n",
            "  inflating: COVID-19_Radiography_Dataset/Normal/masks/Normal-9570.png  \n",
            "  inflating: COVID-19_Radiography_Dataset/Normal/masks/Normal-9571.png  \n",
            "  inflating: COVID-19_Radiography_Dataset/Normal/masks/Normal-9572.png  \n",
            "  inflating: COVID-19_Radiography_Dataset/Normal/masks/Normal-9573.png  \n",
            "  inflating: COVID-19_Radiography_Dataset/Normal/masks/Normal-9574.png  \n",
            "  inflating: COVID-19_Radiography_Dataset/Normal/masks/Normal-9575.png  \n",
            "  inflating: COVID-19_Radiography_Dataset/Normal/masks/Normal-9576.png  \n",
            "  inflating: COVID-19_Radiography_Dataset/Normal/masks/Normal-9577.png  \n",
            "  inflating: COVID-19_Radiography_Dataset/Normal/masks/Normal-9578.png  \n",
            "  inflating: COVID-19_Radiography_Dataset/Normal/masks/Normal-9579.png  \n",
            "  inflating: COVID-19_Radiography_Dataset/Normal/masks/Normal-958.png  \n",
            "  inflating: COVID-19_Radiography_Dataset/Normal/masks/Normal-9580.png  \n",
            "  inflating: COVID-19_Radiography_Dataset/Normal/masks/Normal-9581.png  \n",
            "  inflating: COVID-19_Radiography_Dataset/Normal/masks/Normal-9582.png  \n",
            "  inflating: COVID-19_Radiography_Dataset/Normal/masks/Normal-9583.png  \n",
            "  inflating: COVID-19_Radiography_Dataset/Normal/masks/Normal-9584.png  \n",
            "  inflating: COVID-19_Radiography_Dataset/Normal/masks/Normal-9585.png  \n",
            "  inflating: COVID-19_Radiography_Dataset/Normal/masks/Normal-9586.png  \n",
            "  inflating: COVID-19_Radiography_Dataset/Normal/masks/Normal-9587.png  \n",
            "  inflating: COVID-19_Radiography_Dataset/Normal/masks/Normal-9588.png  \n",
            "  inflating: COVID-19_Radiography_Dataset/Normal/masks/Normal-9589.png  \n",
            "  inflating: COVID-19_Radiography_Dataset/Normal/masks/Normal-959.png  \n",
            "  inflating: COVID-19_Radiography_Dataset/Normal/masks/Normal-9590.png  \n",
            "  inflating: COVID-19_Radiography_Dataset/Normal/masks/Normal-9591.png  \n",
            "  inflating: COVID-19_Radiography_Dataset/Normal/masks/Normal-9592.png  \n",
            "  inflating: COVID-19_Radiography_Dataset/Normal/masks/Normal-9593.png  \n",
            "  inflating: COVID-19_Radiography_Dataset/Normal/masks/Normal-9594.png  \n",
            "  inflating: COVID-19_Radiography_Dataset/Normal/masks/Normal-9595.png  \n",
            "  inflating: COVID-19_Radiography_Dataset/Normal/masks/Normal-9596.png  \n",
            "  inflating: COVID-19_Radiography_Dataset/Normal/masks/Normal-9597.png  \n",
            "  inflating: COVID-19_Radiography_Dataset/Normal/masks/Normal-9598.png  \n",
            "  inflating: COVID-19_Radiography_Dataset/Normal/masks/Normal-9599.png  \n",
            "  inflating: COVID-19_Radiography_Dataset/Normal/masks/Normal-96.png  \n",
            "  inflating: COVID-19_Radiography_Dataset/Normal/masks/Normal-960.png  \n",
            "  inflating: COVID-19_Radiography_Dataset/Normal/masks/Normal-9600.png  \n",
            "  inflating: COVID-19_Radiography_Dataset/Normal/masks/Normal-9601.png  \n",
            "  inflating: COVID-19_Radiography_Dataset/Normal/masks/Normal-9602.png  \n",
            "  inflating: COVID-19_Radiography_Dataset/Normal/masks/Normal-9603.png  \n",
            "  inflating: COVID-19_Radiography_Dataset/Normal/masks/Normal-9604.png  \n",
            "  inflating: COVID-19_Radiography_Dataset/Normal/masks/Normal-9605.png  \n",
            "  inflating: COVID-19_Radiography_Dataset/Normal/masks/Normal-9606.png  \n",
            "  inflating: COVID-19_Radiography_Dataset/Normal/masks/Normal-9607.png  \n",
            "  inflating: COVID-19_Radiography_Dataset/Normal/masks/Normal-9608.png  \n",
            "  inflating: COVID-19_Radiography_Dataset/Normal/masks/Normal-9609.png  \n",
            "  inflating: COVID-19_Radiography_Dataset/Normal/masks/Normal-961.png  \n",
            "  inflating: COVID-19_Radiography_Dataset/Normal/masks/Normal-9610.png  \n",
            "  inflating: COVID-19_Radiography_Dataset/Normal/masks/Normal-9611.png  \n",
            "  inflating: COVID-19_Radiography_Dataset/Normal/masks/Normal-9612.png  \n",
            "  inflating: COVID-19_Radiography_Dataset/Normal/masks/Normal-9613.png  \n",
            "  inflating: COVID-19_Radiography_Dataset/Normal/masks/Normal-9614.png  \n",
            "  inflating: COVID-19_Radiography_Dataset/Normal/masks/Normal-9615.png  \n",
            "  inflating: COVID-19_Radiography_Dataset/Normal/masks/Normal-9616.png  \n",
            "  inflating: COVID-19_Radiography_Dataset/Normal/masks/Normal-9617.png  \n",
            "  inflating: COVID-19_Radiography_Dataset/Normal/masks/Normal-9618.png  \n",
            "  inflating: COVID-19_Radiography_Dataset/Normal/masks/Normal-9619.png  \n",
            "  inflating: COVID-19_Radiography_Dataset/Normal/masks/Normal-962.png  \n",
            "  inflating: COVID-19_Radiography_Dataset/Normal/masks/Normal-9620.png  \n",
            "  inflating: COVID-19_Radiography_Dataset/Normal/masks/Normal-9621.png  \n",
            "  inflating: COVID-19_Radiography_Dataset/Normal/masks/Normal-9622.png  \n",
            "  inflating: COVID-19_Radiography_Dataset/Normal/masks/Normal-9623.png  \n",
            "  inflating: COVID-19_Radiography_Dataset/Normal/masks/Normal-9624.png  \n",
            "  inflating: COVID-19_Radiography_Dataset/Normal/masks/Normal-9625.png  \n",
            "  inflating: COVID-19_Radiography_Dataset/Normal/masks/Normal-9626.png  \n",
            "  inflating: COVID-19_Radiography_Dataset/Normal/masks/Normal-9627.png  \n",
            "  inflating: COVID-19_Radiography_Dataset/Normal/masks/Normal-9628.png  \n",
            "  inflating: COVID-19_Radiography_Dataset/Normal/masks/Normal-9629.png  \n",
            "  inflating: COVID-19_Radiography_Dataset/Normal/masks/Normal-963.png  \n",
            "  inflating: COVID-19_Radiography_Dataset/Normal/masks/Normal-9630.png  \n",
            "  inflating: COVID-19_Radiography_Dataset/Normal/masks/Normal-9631.png  \n",
            "  inflating: COVID-19_Radiography_Dataset/Normal/masks/Normal-9632.png  \n",
            "  inflating: COVID-19_Radiography_Dataset/Normal/masks/Normal-9633.png  \n",
            "  inflating: COVID-19_Radiography_Dataset/Normal/masks/Normal-9634.png  \n",
            "  inflating: COVID-19_Radiography_Dataset/Normal/masks/Normal-9635.png  \n",
            "  inflating: COVID-19_Radiography_Dataset/Normal/masks/Normal-9636.png  \n",
            "  inflating: COVID-19_Radiography_Dataset/Normal/masks/Normal-9637.png  \n",
            "  inflating: COVID-19_Radiography_Dataset/Normal/masks/Normal-9638.png  \n",
            "  inflating: COVID-19_Radiography_Dataset/Normal/masks/Normal-9639.png  \n",
            "  inflating: COVID-19_Radiography_Dataset/Normal/masks/Normal-964.png  \n",
            "  inflating: COVID-19_Radiography_Dataset/Normal/masks/Normal-9640.png  \n",
            "  inflating: COVID-19_Radiography_Dataset/Normal/masks/Normal-9641.png  \n",
            "  inflating: COVID-19_Radiography_Dataset/Normal/masks/Normal-9642.png  \n",
            "  inflating: COVID-19_Radiography_Dataset/Normal/masks/Normal-9643.png  \n",
            "  inflating: COVID-19_Radiography_Dataset/Normal/masks/Normal-9644.png  \n",
            "  inflating: COVID-19_Radiography_Dataset/Normal/masks/Normal-9645.png  \n",
            "  inflating: COVID-19_Radiography_Dataset/Normal/masks/Normal-9646.png  \n",
            "  inflating: COVID-19_Radiography_Dataset/Normal/masks/Normal-9647.png  \n",
            "  inflating: COVID-19_Radiography_Dataset/Normal/masks/Normal-9648.png  \n",
            "  inflating: COVID-19_Radiography_Dataset/Normal/masks/Normal-9649.png  \n",
            "  inflating: COVID-19_Radiography_Dataset/Normal/masks/Normal-965.png  \n",
            "  inflating: COVID-19_Radiography_Dataset/Normal/masks/Normal-9650.png  \n",
            "  inflating: COVID-19_Radiography_Dataset/Normal/masks/Normal-9651.png  \n",
            "  inflating: COVID-19_Radiography_Dataset/Normal/masks/Normal-9652.png  \n",
            "  inflating: COVID-19_Radiography_Dataset/Normal/masks/Normal-9653.png  \n",
            "  inflating: COVID-19_Radiography_Dataset/Normal/masks/Normal-9654.png  \n",
            "  inflating: COVID-19_Radiography_Dataset/Normal/masks/Normal-9655.png  \n",
            "  inflating: COVID-19_Radiography_Dataset/Normal/masks/Normal-9656.png  \n",
            "  inflating: COVID-19_Radiography_Dataset/Normal/masks/Normal-9657.png  \n",
            "  inflating: COVID-19_Radiography_Dataset/Normal/masks/Normal-9658.png  \n",
            "  inflating: COVID-19_Radiography_Dataset/Normal/masks/Normal-9659.png  \n",
            "  inflating: COVID-19_Radiography_Dataset/Normal/masks/Normal-966.png  \n",
            "  inflating: COVID-19_Radiography_Dataset/Normal/masks/Normal-9660.png  \n",
            "  inflating: COVID-19_Radiography_Dataset/Normal/masks/Normal-9661.png  \n",
            "  inflating: COVID-19_Radiography_Dataset/Normal/masks/Normal-9662.png  \n",
            "  inflating: COVID-19_Radiography_Dataset/Normal/masks/Normal-9663.png  \n",
            "  inflating: COVID-19_Radiography_Dataset/Normal/masks/Normal-9664.png  \n",
            "  inflating: COVID-19_Radiography_Dataset/Normal/masks/Normal-9665.png  \n",
            "  inflating: COVID-19_Radiography_Dataset/Normal/masks/Normal-9666.png  \n",
            "  inflating: COVID-19_Radiography_Dataset/Normal/masks/Normal-9667.png  \n",
            "  inflating: COVID-19_Radiography_Dataset/Normal/masks/Normal-9668.png  \n",
            "  inflating: COVID-19_Radiography_Dataset/Normal/masks/Normal-9669.png  \n",
            "  inflating: COVID-19_Radiography_Dataset/Normal/masks/Normal-967.png  \n",
            "  inflating: COVID-19_Radiography_Dataset/Normal/masks/Normal-9670.png  \n",
            "  inflating: COVID-19_Radiography_Dataset/Normal/masks/Normal-9671.png  \n",
            "  inflating: COVID-19_Radiography_Dataset/Normal/masks/Normal-9672.png  \n",
            "  inflating: COVID-19_Radiography_Dataset/Normal/masks/Normal-9673.png  \n",
            "  inflating: COVID-19_Radiography_Dataset/Normal/masks/Normal-9674.png  \n",
            "  inflating: COVID-19_Radiography_Dataset/Normal/masks/Normal-9675.png  \n",
            "  inflating: COVID-19_Radiography_Dataset/Normal/masks/Normal-9676.png  \n",
            "  inflating: COVID-19_Radiography_Dataset/Normal/masks/Normal-9677.png  \n",
            "  inflating: COVID-19_Radiography_Dataset/Normal/masks/Normal-9678.png  \n",
            "  inflating: COVID-19_Radiography_Dataset/Normal/masks/Normal-9679.png  \n",
            "  inflating: COVID-19_Radiography_Dataset/Normal/masks/Normal-968.png  \n",
            "  inflating: COVID-19_Radiography_Dataset/Normal/masks/Normal-9680.png  \n",
            "  inflating: COVID-19_Radiography_Dataset/Normal/masks/Normal-9681.png  \n",
            "  inflating: COVID-19_Radiography_Dataset/Normal/masks/Normal-9682.png  \n",
            "  inflating: COVID-19_Radiography_Dataset/Normal/masks/Normal-9683.png  \n",
            "  inflating: COVID-19_Radiography_Dataset/Normal/masks/Normal-9684.png  \n",
            "  inflating: COVID-19_Radiography_Dataset/Normal/masks/Normal-9685.png  \n",
            "  inflating: COVID-19_Radiography_Dataset/Normal/masks/Normal-9686.png  \n",
            "  inflating: COVID-19_Radiography_Dataset/Normal/masks/Normal-9687.png  \n",
            "  inflating: COVID-19_Radiography_Dataset/Normal/masks/Normal-9688.png  \n",
            "  inflating: COVID-19_Radiography_Dataset/Normal/masks/Normal-9689.png  \n",
            "  inflating: COVID-19_Radiography_Dataset/Normal/masks/Normal-969.png  \n",
            "  inflating: COVID-19_Radiography_Dataset/Normal/masks/Normal-9690.png  \n",
            "  inflating: COVID-19_Radiography_Dataset/Normal/masks/Normal-9691.png  \n",
            "  inflating: COVID-19_Radiography_Dataset/Normal/masks/Normal-9692.png  \n",
            "  inflating: COVID-19_Radiography_Dataset/Normal/masks/Normal-9693.png  \n",
            "  inflating: COVID-19_Radiography_Dataset/Normal/masks/Normal-9694.png  \n",
            "  inflating: COVID-19_Radiography_Dataset/Normal/masks/Normal-9695.png  \n",
            "  inflating: COVID-19_Radiography_Dataset/Normal/masks/Normal-9696.png  \n",
            "  inflating: COVID-19_Radiography_Dataset/Normal/masks/Normal-9697.png  \n",
            "  inflating: COVID-19_Radiography_Dataset/Normal/masks/Normal-9698.png  \n",
            "  inflating: COVID-19_Radiography_Dataset/Normal/masks/Normal-9699.png  \n",
            "  inflating: COVID-19_Radiography_Dataset/Normal/masks/Normal-97.png  \n",
            "  inflating: COVID-19_Radiography_Dataset/Normal/masks/Normal-970.png  \n",
            "  inflating: COVID-19_Radiography_Dataset/Normal/masks/Normal-9700.png  \n",
            "  inflating: COVID-19_Radiography_Dataset/Normal/masks/Normal-9701.png  \n",
            "  inflating: COVID-19_Radiography_Dataset/Normal/masks/Normal-9702.png  \n",
            "  inflating: COVID-19_Radiography_Dataset/Normal/masks/Normal-9703.png  \n",
            "  inflating: COVID-19_Radiography_Dataset/Normal/masks/Normal-9704.png  \n",
            "  inflating: COVID-19_Radiography_Dataset/Normal/masks/Normal-9705.png  \n",
            "  inflating: COVID-19_Radiography_Dataset/Normal/masks/Normal-9706.png  \n",
            "  inflating: COVID-19_Radiography_Dataset/Normal/masks/Normal-9707.png  \n",
            "  inflating: COVID-19_Radiography_Dataset/Normal/masks/Normal-9708.png  \n",
            "  inflating: COVID-19_Radiography_Dataset/Normal/masks/Normal-9709.png  \n",
            "  inflating: COVID-19_Radiography_Dataset/Normal/masks/Normal-971.png  \n",
            "  inflating: COVID-19_Radiography_Dataset/Normal/masks/Normal-9710.png  \n",
            "  inflating: COVID-19_Radiography_Dataset/Normal/masks/Normal-9711.png  \n",
            "  inflating: COVID-19_Radiography_Dataset/Normal/masks/Normal-9712.png  \n",
            "  inflating: COVID-19_Radiography_Dataset/Normal/masks/Normal-9713.png  \n",
            "  inflating: COVID-19_Radiography_Dataset/Normal/masks/Normal-9714.png  \n",
            "  inflating: COVID-19_Radiography_Dataset/Normal/masks/Normal-9715.png  \n",
            "  inflating: COVID-19_Radiography_Dataset/Normal/masks/Normal-9716.png  \n",
            "  inflating: COVID-19_Radiography_Dataset/Normal/masks/Normal-9717.png  \n",
            "  inflating: COVID-19_Radiography_Dataset/Normal/masks/Normal-9718.png  \n",
            "  inflating: COVID-19_Radiography_Dataset/Normal/masks/Normal-9719.png  \n",
            "  inflating: COVID-19_Radiography_Dataset/Normal/masks/Normal-972.png  \n",
            "  inflating: COVID-19_Radiography_Dataset/Normal/masks/Normal-9720.png  \n",
            "  inflating: COVID-19_Radiography_Dataset/Normal/masks/Normal-9721.png  \n",
            "  inflating: COVID-19_Radiography_Dataset/Normal/masks/Normal-9722.png  \n",
            "  inflating: COVID-19_Radiography_Dataset/Normal/masks/Normal-9723.png  \n",
            "  inflating: COVID-19_Radiography_Dataset/Normal/masks/Normal-9724.png  \n",
            "  inflating: COVID-19_Radiography_Dataset/Normal/masks/Normal-9725.png  \n",
            "  inflating: COVID-19_Radiography_Dataset/Normal/masks/Normal-9726.png  \n",
            "  inflating: COVID-19_Radiography_Dataset/Normal/masks/Normal-9727.png  \n",
            "  inflating: COVID-19_Radiography_Dataset/Normal/masks/Normal-9728.png  \n",
            "  inflating: COVID-19_Radiography_Dataset/Normal/masks/Normal-9729.png  \n",
            "  inflating: COVID-19_Radiography_Dataset/Normal/masks/Normal-973.png  \n",
            "  inflating: COVID-19_Radiography_Dataset/Normal/masks/Normal-9730.png  \n",
            "  inflating: COVID-19_Radiography_Dataset/Normal/masks/Normal-9731.png  \n",
            "  inflating: COVID-19_Radiography_Dataset/Normal/masks/Normal-9732.png  \n",
            "  inflating: COVID-19_Radiography_Dataset/Normal/masks/Normal-9733.png  \n",
            "  inflating: COVID-19_Radiography_Dataset/Normal/masks/Normal-9734.png  \n",
            "  inflating: COVID-19_Radiography_Dataset/Normal/masks/Normal-9735.png  \n",
            "  inflating: COVID-19_Radiography_Dataset/Normal/masks/Normal-9736.png  \n",
            "  inflating: COVID-19_Radiography_Dataset/Normal/masks/Normal-9737.png  \n",
            "  inflating: COVID-19_Radiography_Dataset/Normal/masks/Normal-9738.png  \n",
            "  inflating: COVID-19_Radiography_Dataset/Normal/masks/Normal-9739.png  \n",
            "  inflating: COVID-19_Radiography_Dataset/Normal/masks/Normal-974.png  \n",
            "  inflating: COVID-19_Radiography_Dataset/Normal/masks/Normal-9740.png  \n",
            "  inflating: COVID-19_Radiography_Dataset/Normal/masks/Normal-9741.png  \n",
            "  inflating: COVID-19_Radiography_Dataset/Normal/masks/Normal-9742.png  \n",
            "  inflating: COVID-19_Radiography_Dataset/Normal/masks/Normal-9743.png  \n",
            "  inflating: COVID-19_Radiography_Dataset/Normal/masks/Normal-9744.png  \n",
            "  inflating: COVID-19_Radiography_Dataset/Normal/masks/Normal-9745.png  \n",
            "  inflating: COVID-19_Radiography_Dataset/Normal/masks/Normal-9746.png  \n",
            "  inflating: COVID-19_Radiography_Dataset/Normal/masks/Normal-9747.png  \n",
            "  inflating: COVID-19_Radiography_Dataset/Normal/masks/Normal-9748.png  \n",
            "  inflating: COVID-19_Radiography_Dataset/Normal/masks/Normal-9749.png  \n",
            "  inflating: COVID-19_Radiography_Dataset/Normal/masks/Normal-975.png  \n",
            "  inflating: COVID-19_Radiography_Dataset/Normal/masks/Normal-9750.png  \n",
            "  inflating: COVID-19_Radiography_Dataset/Normal/masks/Normal-9751.png  \n",
            "  inflating: COVID-19_Radiography_Dataset/Normal/masks/Normal-9752.png  \n",
            "  inflating: COVID-19_Radiography_Dataset/Normal/masks/Normal-9753.png  \n",
            "  inflating: COVID-19_Radiography_Dataset/Normal/masks/Normal-9754.png  \n",
            "  inflating: COVID-19_Radiography_Dataset/Normal/masks/Normal-9755.png  \n",
            "  inflating: COVID-19_Radiography_Dataset/Normal/masks/Normal-9756.png  \n",
            "  inflating: COVID-19_Radiography_Dataset/Normal/masks/Normal-9757.png  \n",
            "  inflating: COVID-19_Radiography_Dataset/Normal/masks/Normal-9758.png  \n",
            "  inflating: COVID-19_Radiography_Dataset/Normal/masks/Normal-9759.png  \n",
            "  inflating: COVID-19_Radiography_Dataset/Normal/masks/Normal-976.png  \n",
            "  inflating: COVID-19_Radiography_Dataset/Normal/masks/Normal-9760.png  \n",
            "  inflating: COVID-19_Radiography_Dataset/Normal/masks/Normal-9761.png  \n",
            "  inflating: COVID-19_Radiography_Dataset/Normal/masks/Normal-9762.png  \n",
            "  inflating: COVID-19_Radiography_Dataset/Normal/masks/Normal-9763.png  \n",
            "  inflating: COVID-19_Radiography_Dataset/Normal/masks/Normal-9764.png  \n",
            "  inflating: COVID-19_Radiography_Dataset/Normal/masks/Normal-9765.png  \n",
            "  inflating: COVID-19_Radiography_Dataset/Normal/masks/Normal-9766.png  \n",
            "  inflating: COVID-19_Radiography_Dataset/Normal/masks/Normal-9767.png  \n",
            "  inflating: COVID-19_Radiography_Dataset/Normal/masks/Normal-9768.png  \n",
            "  inflating: COVID-19_Radiography_Dataset/Normal/masks/Normal-9769.png  \n",
            "  inflating: COVID-19_Radiography_Dataset/Normal/masks/Normal-977.png  \n",
            "  inflating: COVID-19_Radiography_Dataset/Normal/masks/Normal-9770.png  \n",
            "  inflating: COVID-19_Radiography_Dataset/Normal/masks/Normal-9771.png  \n",
            "  inflating: COVID-19_Radiography_Dataset/Normal/masks/Normal-9772.png  \n",
            "  inflating: COVID-19_Radiography_Dataset/Normal/masks/Normal-9773.png  \n",
            "  inflating: COVID-19_Radiography_Dataset/Normal/masks/Normal-9774.png  \n",
            "  inflating: COVID-19_Radiography_Dataset/Normal/masks/Normal-9775.png  \n",
            "  inflating: COVID-19_Radiography_Dataset/Normal/masks/Normal-9776.png  \n",
            "  inflating: COVID-19_Radiography_Dataset/Normal/masks/Normal-9777.png  \n",
            "  inflating: COVID-19_Radiography_Dataset/Normal/masks/Normal-9778.png  \n",
            "  inflating: COVID-19_Radiography_Dataset/Normal/masks/Normal-9779.png  \n",
            "  inflating: COVID-19_Radiography_Dataset/Normal/masks/Normal-978.png  \n",
            "  inflating: COVID-19_Radiography_Dataset/Normal/masks/Normal-9780.png  \n",
            "  inflating: COVID-19_Radiography_Dataset/Normal/masks/Normal-9781.png  \n",
            "  inflating: COVID-19_Radiography_Dataset/Normal/masks/Normal-9782.png  \n",
            "  inflating: COVID-19_Radiography_Dataset/Normal/masks/Normal-9783.png  \n",
            "  inflating: COVID-19_Radiography_Dataset/Normal/masks/Normal-9784.png  \n",
            "  inflating: COVID-19_Radiography_Dataset/Normal/masks/Normal-9785.png  \n",
            "  inflating: COVID-19_Radiography_Dataset/Normal/masks/Normal-9786.png  \n",
            "  inflating: COVID-19_Radiography_Dataset/Normal/masks/Normal-9787.png  \n",
            "  inflating: COVID-19_Radiography_Dataset/Normal/masks/Normal-9788.png  \n",
            "  inflating: COVID-19_Radiography_Dataset/Normal/masks/Normal-9789.png  \n",
            "  inflating: COVID-19_Radiography_Dataset/Normal/masks/Normal-979.png  \n",
            "  inflating: COVID-19_Radiography_Dataset/Normal/masks/Normal-9790.png  \n",
            "  inflating: COVID-19_Radiography_Dataset/Normal/masks/Normal-9791.png  \n",
            "  inflating: COVID-19_Radiography_Dataset/Normal/masks/Normal-9792.png  \n",
            "  inflating: COVID-19_Radiography_Dataset/Normal/masks/Normal-9793.png  \n",
            "  inflating: COVID-19_Radiography_Dataset/Normal/masks/Normal-9794.png  \n",
            "  inflating: COVID-19_Radiography_Dataset/Normal/masks/Normal-9795.png  \n",
            "  inflating: COVID-19_Radiography_Dataset/Normal/masks/Normal-9796.png  \n",
            "  inflating: COVID-19_Radiography_Dataset/Normal/masks/Normal-9797.png  \n",
            "  inflating: COVID-19_Radiography_Dataset/Normal/masks/Normal-9798.png  \n",
            "  inflating: COVID-19_Radiography_Dataset/Normal/masks/Normal-9799.png  \n",
            "  inflating: COVID-19_Radiography_Dataset/Normal/masks/Normal-98.png  \n",
            "  inflating: COVID-19_Radiography_Dataset/Normal/masks/Normal-980.png  \n",
            "  inflating: COVID-19_Radiography_Dataset/Normal/masks/Normal-9800.png  \n",
            "  inflating: COVID-19_Radiography_Dataset/Normal/masks/Normal-9801.png  \n",
            "  inflating: COVID-19_Radiography_Dataset/Normal/masks/Normal-9802.png  \n",
            "  inflating: COVID-19_Radiography_Dataset/Normal/masks/Normal-9803.png  \n",
            "  inflating: COVID-19_Radiography_Dataset/Normal/masks/Normal-9804.png  \n",
            "  inflating: COVID-19_Radiography_Dataset/Normal/masks/Normal-9805.png  \n",
            "  inflating: COVID-19_Radiography_Dataset/Normal/masks/Normal-9806.png  \n",
            "  inflating: COVID-19_Radiography_Dataset/Normal/masks/Normal-9807.png  \n",
            "  inflating: COVID-19_Radiography_Dataset/Normal/masks/Normal-9808.png  \n",
            "  inflating: COVID-19_Radiography_Dataset/Normal/masks/Normal-9809.png  \n",
            "  inflating: COVID-19_Radiography_Dataset/Normal/masks/Normal-981.png  \n",
            "  inflating: COVID-19_Radiography_Dataset/Normal/masks/Normal-9810.png  \n",
            "  inflating: COVID-19_Radiography_Dataset/Normal/masks/Normal-9811.png  \n",
            "  inflating: COVID-19_Radiography_Dataset/Normal/masks/Normal-9812.png  \n",
            "  inflating: COVID-19_Radiography_Dataset/Normal/masks/Normal-9813.png  \n",
            "  inflating: COVID-19_Radiography_Dataset/Normal/masks/Normal-9814.png  \n",
            "  inflating: COVID-19_Radiography_Dataset/Normal/masks/Normal-9815.png  \n",
            "  inflating: COVID-19_Radiography_Dataset/Normal/masks/Normal-9816.png  \n",
            "  inflating: COVID-19_Radiography_Dataset/Normal/masks/Normal-9817.png  \n",
            "  inflating: COVID-19_Radiography_Dataset/Normal/masks/Normal-9818.png  \n",
            "  inflating: COVID-19_Radiography_Dataset/Normal/masks/Normal-9819.png  \n",
            "  inflating: COVID-19_Radiography_Dataset/Normal/masks/Normal-982.png  \n",
            "  inflating: COVID-19_Radiography_Dataset/Normal/masks/Normal-9820.png  \n",
            "  inflating: COVID-19_Radiography_Dataset/Normal/masks/Normal-9821.png  \n",
            "  inflating: COVID-19_Radiography_Dataset/Normal/masks/Normal-9822.png  \n",
            "  inflating: COVID-19_Radiography_Dataset/Normal/masks/Normal-9823.png  \n",
            "  inflating: COVID-19_Radiography_Dataset/Normal/masks/Normal-9824.png  \n",
            "  inflating: COVID-19_Radiography_Dataset/Normal/masks/Normal-9825.png  \n",
            "  inflating: COVID-19_Radiography_Dataset/Normal/masks/Normal-9826.png  \n",
            "  inflating: COVID-19_Radiography_Dataset/Normal/masks/Normal-9827.png  \n",
            "  inflating: COVID-19_Radiography_Dataset/Normal/masks/Normal-9828.png  \n",
            "  inflating: COVID-19_Radiography_Dataset/Normal/masks/Normal-9829.png  \n",
            "  inflating: COVID-19_Radiography_Dataset/Normal/masks/Normal-983.png  \n",
            "  inflating: COVID-19_Radiography_Dataset/Normal/masks/Normal-9830.png  \n",
            "  inflating: COVID-19_Radiography_Dataset/Normal/masks/Normal-9831.png  \n",
            "  inflating: COVID-19_Radiography_Dataset/Normal/masks/Normal-9832.png  \n",
            "  inflating: COVID-19_Radiography_Dataset/Normal/masks/Normal-9833.png  \n",
            "  inflating: COVID-19_Radiography_Dataset/Normal/masks/Normal-9834.png  \n",
            "  inflating: COVID-19_Radiography_Dataset/Normal/masks/Normal-9835.png  \n",
            "  inflating: COVID-19_Radiography_Dataset/Normal/masks/Normal-9836.png  \n",
            "  inflating: COVID-19_Radiography_Dataset/Normal/masks/Normal-9837.png  \n",
            "  inflating: COVID-19_Radiography_Dataset/Normal/masks/Normal-9838.png  \n",
            "  inflating: COVID-19_Radiography_Dataset/Normal/masks/Normal-9839.png  \n",
            "  inflating: COVID-19_Radiography_Dataset/Normal/masks/Normal-984.png  \n",
            "  inflating: COVID-19_Radiography_Dataset/Normal/masks/Normal-9840.png  \n",
            "  inflating: COVID-19_Radiography_Dataset/Normal/masks/Normal-9841.png  \n",
            "  inflating: COVID-19_Radiography_Dataset/Normal/masks/Normal-9842.png  \n",
            "  inflating: COVID-19_Radiography_Dataset/Normal/masks/Normal-9843.png  \n",
            "  inflating: COVID-19_Radiography_Dataset/Normal/masks/Normal-9844.png  \n",
            "  inflating: COVID-19_Radiography_Dataset/Normal/masks/Normal-9845.png  \n",
            "  inflating: COVID-19_Radiography_Dataset/Normal/masks/Normal-9846.png  \n",
            "  inflating: COVID-19_Radiography_Dataset/Normal/masks/Normal-9847.png  \n",
            "  inflating: COVID-19_Radiography_Dataset/Normal/masks/Normal-9848.png  \n",
            "  inflating: COVID-19_Radiography_Dataset/Normal/masks/Normal-9849.png  \n",
            "  inflating: COVID-19_Radiography_Dataset/Normal/masks/Normal-985.png  \n",
            "  inflating: COVID-19_Radiography_Dataset/Normal/masks/Normal-9850.png  \n",
            "  inflating: COVID-19_Radiography_Dataset/Normal/masks/Normal-9851.png  \n",
            "  inflating: COVID-19_Radiography_Dataset/Normal/masks/Normal-9852.png  \n",
            "  inflating: COVID-19_Radiography_Dataset/Normal/masks/Normal-9853.png  \n",
            "  inflating: COVID-19_Radiography_Dataset/Normal/masks/Normal-9854.png  \n",
            "  inflating: COVID-19_Radiography_Dataset/Normal/masks/Normal-9855.png  \n",
            "  inflating: COVID-19_Radiography_Dataset/Normal/masks/Normal-9856.png  \n",
            "  inflating: COVID-19_Radiography_Dataset/Normal/masks/Normal-9857.png  \n",
            "  inflating: COVID-19_Radiography_Dataset/Normal/masks/Normal-9858.png  \n",
            "  inflating: COVID-19_Radiography_Dataset/Normal/masks/Normal-9859.png  \n",
            "  inflating: COVID-19_Radiography_Dataset/Normal/masks/Normal-986.png  \n",
            "  inflating: COVID-19_Radiography_Dataset/Normal/masks/Normal-9860.png  \n",
            "  inflating: COVID-19_Radiography_Dataset/Normal/masks/Normal-9861.png  \n",
            "  inflating: COVID-19_Radiography_Dataset/Normal/masks/Normal-9862.png  \n",
            "  inflating: COVID-19_Radiography_Dataset/Normal/masks/Normal-9863.png  \n",
            "  inflating: COVID-19_Radiography_Dataset/Normal/masks/Normal-9864.png  \n",
            "  inflating: COVID-19_Radiography_Dataset/Normal/masks/Normal-9865.png  \n",
            "  inflating: COVID-19_Radiography_Dataset/Normal/masks/Normal-9866.png  \n",
            "  inflating: COVID-19_Radiography_Dataset/Normal/masks/Normal-9867.png  \n",
            "  inflating: COVID-19_Radiography_Dataset/Normal/masks/Normal-9868.png  \n",
            "  inflating: COVID-19_Radiography_Dataset/Normal/masks/Normal-9869.png  \n",
            "  inflating: COVID-19_Radiography_Dataset/Normal/masks/Normal-987.png  \n",
            "  inflating: COVID-19_Radiography_Dataset/Normal/masks/Normal-9870.png  \n",
            "  inflating: COVID-19_Radiography_Dataset/Normal/masks/Normal-9871.png  \n",
            "  inflating: COVID-19_Radiography_Dataset/Normal/masks/Normal-9872.png  \n",
            "  inflating: COVID-19_Radiography_Dataset/Normal/masks/Normal-9873.png  \n",
            "  inflating: COVID-19_Radiography_Dataset/Normal/masks/Normal-9874.png  \n",
            "  inflating: COVID-19_Radiography_Dataset/Normal/masks/Normal-9875.png  \n",
            "  inflating: COVID-19_Radiography_Dataset/Normal/masks/Normal-9876.png  \n",
            "  inflating: COVID-19_Radiography_Dataset/Normal/masks/Normal-9877.png  \n",
            "  inflating: COVID-19_Radiography_Dataset/Normal/masks/Normal-9878.png  \n",
            "  inflating: COVID-19_Radiography_Dataset/Normal/masks/Normal-9879.png  \n",
            "  inflating: COVID-19_Radiography_Dataset/Normal/masks/Normal-988.png  \n",
            "  inflating: COVID-19_Radiography_Dataset/Normal/masks/Normal-9880.png  \n",
            "  inflating: COVID-19_Radiography_Dataset/Normal/masks/Normal-9881.png  \n",
            "  inflating: COVID-19_Radiography_Dataset/Normal/masks/Normal-9882.png  \n",
            "  inflating: COVID-19_Radiography_Dataset/Normal/masks/Normal-9883.png  \n",
            "  inflating: COVID-19_Radiography_Dataset/Normal/masks/Normal-9884.png  \n",
            "  inflating: COVID-19_Radiography_Dataset/Normal/masks/Normal-9885.png  \n",
            "  inflating: COVID-19_Radiography_Dataset/Normal/masks/Normal-9886.png  \n",
            "  inflating: COVID-19_Radiography_Dataset/Normal/masks/Normal-9887.png  \n",
            "  inflating: COVID-19_Radiography_Dataset/Normal/masks/Normal-9888.png  \n",
            "  inflating: COVID-19_Radiography_Dataset/Normal/masks/Normal-9889.png  \n",
            "  inflating: COVID-19_Radiography_Dataset/Normal/masks/Normal-989.png  \n",
            "  inflating: COVID-19_Radiography_Dataset/Normal/masks/Normal-9890.png  \n",
            "  inflating: COVID-19_Radiography_Dataset/Normal/masks/Normal-9891.png  \n",
            "  inflating: COVID-19_Radiography_Dataset/Normal/masks/Normal-9892.png  \n",
            "  inflating: COVID-19_Radiography_Dataset/Normal/masks/Normal-9893.png  \n",
            "  inflating: COVID-19_Radiography_Dataset/Normal/masks/Normal-9894.png  \n",
            "  inflating: COVID-19_Radiography_Dataset/Normal/masks/Normal-9895.png  \n",
            "  inflating: COVID-19_Radiography_Dataset/Normal/masks/Normal-9896.png  \n",
            "  inflating: COVID-19_Radiography_Dataset/Normal/masks/Normal-9897.png  \n",
            "  inflating: COVID-19_Radiography_Dataset/Normal/masks/Normal-9898.png  \n",
            "  inflating: COVID-19_Radiography_Dataset/Normal/masks/Normal-9899.png  \n",
            "  inflating: COVID-19_Radiography_Dataset/Normal/masks/Normal-99.png  \n",
            "  inflating: COVID-19_Radiography_Dataset/Normal/masks/Normal-990.png  \n",
            "  inflating: COVID-19_Radiography_Dataset/Normal/masks/Normal-9900.png  \n",
            "  inflating: COVID-19_Radiography_Dataset/Normal/masks/Normal-9901.png  \n",
            "  inflating: COVID-19_Radiography_Dataset/Normal/masks/Normal-9902.png  \n",
            "  inflating: COVID-19_Radiography_Dataset/Normal/masks/Normal-9903.png  \n",
            "  inflating: COVID-19_Radiography_Dataset/Normal/masks/Normal-9904.png  \n",
            "  inflating: COVID-19_Radiography_Dataset/Normal/masks/Normal-9905.png  \n",
            "  inflating: COVID-19_Radiography_Dataset/Normal/masks/Normal-9906.png  \n",
            "  inflating: COVID-19_Radiography_Dataset/Normal/masks/Normal-9907.png  \n",
            "  inflating: COVID-19_Radiography_Dataset/Normal/masks/Normal-9908.png  \n",
            "  inflating: COVID-19_Radiography_Dataset/Normal/masks/Normal-9909.png  \n",
            "  inflating: COVID-19_Radiography_Dataset/Normal/masks/Normal-991.png  \n",
            "  inflating: COVID-19_Radiography_Dataset/Normal/masks/Normal-9910.png  \n",
            "  inflating: COVID-19_Radiography_Dataset/Normal/masks/Normal-9911.png  \n",
            "  inflating: COVID-19_Radiography_Dataset/Normal/masks/Normal-9912.png  \n",
            "  inflating: COVID-19_Radiography_Dataset/Normal/masks/Normal-9913.png  \n",
            "  inflating: COVID-19_Radiography_Dataset/Normal/masks/Normal-9914.png  \n",
            "  inflating: COVID-19_Radiography_Dataset/Normal/masks/Normal-9915.png  \n",
            "  inflating: COVID-19_Radiography_Dataset/Normal/masks/Normal-9916.png  \n",
            "  inflating: COVID-19_Radiography_Dataset/Normal/masks/Normal-9917.png  \n",
            "  inflating: COVID-19_Radiography_Dataset/Normal/masks/Normal-9918.png  \n",
            "  inflating: COVID-19_Radiography_Dataset/Normal/masks/Normal-9919.png  \n",
            "  inflating: COVID-19_Radiography_Dataset/Normal/masks/Normal-992.png  \n",
            "  inflating: COVID-19_Radiography_Dataset/Normal/masks/Normal-9920.png  \n",
            "  inflating: COVID-19_Radiography_Dataset/Normal/masks/Normal-9921.png  \n",
            "  inflating: COVID-19_Radiography_Dataset/Normal/masks/Normal-9922.png  \n",
            "  inflating: COVID-19_Radiography_Dataset/Normal/masks/Normal-9923.png  \n",
            "  inflating: COVID-19_Radiography_Dataset/Normal/masks/Normal-9924.png  \n",
            "  inflating: COVID-19_Radiography_Dataset/Normal/masks/Normal-9925.png  \n",
            "  inflating: COVID-19_Radiography_Dataset/Normal/masks/Normal-9926.png  \n",
            "  inflating: COVID-19_Radiography_Dataset/Normal/masks/Normal-9927.png  \n",
            "  inflating: COVID-19_Radiography_Dataset/Normal/masks/Normal-9928.png  \n",
            "  inflating: COVID-19_Radiography_Dataset/Normal/masks/Normal-9929.png  \n",
            "  inflating: COVID-19_Radiography_Dataset/Normal/masks/Normal-993.png  \n",
            "  inflating: COVID-19_Radiography_Dataset/Normal/masks/Normal-9930.png  \n",
            "  inflating: COVID-19_Radiography_Dataset/Normal/masks/Normal-9931.png  \n",
            "  inflating: COVID-19_Radiography_Dataset/Normal/masks/Normal-9932.png  \n",
            "  inflating: COVID-19_Radiography_Dataset/Normal/masks/Normal-9933.png  \n",
            "  inflating: COVID-19_Radiography_Dataset/Normal/masks/Normal-9934.png  \n",
            "  inflating: COVID-19_Radiography_Dataset/Normal/masks/Normal-9935.png  \n",
            "  inflating: COVID-19_Radiography_Dataset/Normal/masks/Normal-9936.png  \n",
            "  inflating: COVID-19_Radiography_Dataset/Normal/masks/Normal-9937.png  \n",
            "  inflating: COVID-19_Radiography_Dataset/Normal/masks/Normal-9938.png  \n",
            "  inflating: COVID-19_Radiography_Dataset/Normal/masks/Normal-9939.png  \n",
            "  inflating: COVID-19_Radiography_Dataset/Normal/masks/Normal-994.png  \n",
            "  inflating: COVID-19_Radiography_Dataset/Normal/masks/Normal-9940.png  \n",
            "  inflating: COVID-19_Radiography_Dataset/Normal/masks/Normal-9941.png  \n",
            "  inflating: COVID-19_Radiography_Dataset/Normal/masks/Normal-9942.png  \n",
            "  inflating: COVID-19_Radiography_Dataset/Normal/masks/Normal-9943.png  \n",
            "  inflating: COVID-19_Radiography_Dataset/Normal/masks/Normal-9944.png  \n",
            "  inflating: COVID-19_Radiography_Dataset/Normal/masks/Normal-9945.png  \n",
            "  inflating: COVID-19_Radiography_Dataset/Normal/masks/Normal-9946.png  \n",
            "  inflating: COVID-19_Radiography_Dataset/Normal/masks/Normal-9947.png  \n",
            "  inflating: COVID-19_Radiography_Dataset/Normal/masks/Normal-9948.png  \n",
            "  inflating: COVID-19_Radiography_Dataset/Normal/masks/Normal-9949.png  \n",
            "  inflating: COVID-19_Radiography_Dataset/Normal/masks/Normal-995.png  \n",
            "  inflating: COVID-19_Radiography_Dataset/Normal/masks/Normal-9950.png  \n",
            "  inflating: COVID-19_Radiography_Dataset/Normal/masks/Normal-9951.png  \n",
            "  inflating: COVID-19_Radiography_Dataset/Normal/masks/Normal-9952.png  \n",
            "  inflating: COVID-19_Radiography_Dataset/Normal/masks/Normal-9953.png  \n",
            "  inflating: COVID-19_Radiography_Dataset/Normal/masks/Normal-9954.png  \n",
            "  inflating: COVID-19_Radiography_Dataset/Normal/masks/Normal-9955.png  \n",
            "  inflating: COVID-19_Radiography_Dataset/Normal/masks/Normal-9956.png  \n",
            "  inflating: COVID-19_Radiography_Dataset/Normal/masks/Normal-9957.png  \n",
            "  inflating: COVID-19_Radiography_Dataset/Normal/masks/Normal-9958.png  \n",
            "  inflating: COVID-19_Radiography_Dataset/Normal/masks/Normal-9959.png  \n",
            "  inflating: COVID-19_Radiography_Dataset/Normal/masks/Normal-996.png  \n",
            "  inflating: COVID-19_Radiography_Dataset/Normal/masks/Normal-9960.png  \n",
            "  inflating: COVID-19_Radiography_Dataset/Normal/masks/Normal-9961.png  \n",
            "  inflating: COVID-19_Radiography_Dataset/Normal/masks/Normal-9962.png  \n",
            "  inflating: COVID-19_Radiography_Dataset/Normal/masks/Normal-9963.png  \n",
            "  inflating: COVID-19_Radiography_Dataset/Normal/masks/Normal-9964.png  \n",
            "  inflating: COVID-19_Radiography_Dataset/Normal/masks/Normal-9965.png  \n",
            "  inflating: COVID-19_Radiography_Dataset/Normal/masks/Normal-9966.png  \n",
            "  inflating: COVID-19_Radiography_Dataset/Normal/masks/Normal-9967.png  \n",
            "  inflating: COVID-19_Radiography_Dataset/Normal/masks/Normal-9968.png  \n",
            "  inflating: COVID-19_Radiography_Dataset/Normal/masks/Normal-9969.png  \n",
            "  inflating: COVID-19_Radiography_Dataset/Normal/masks/Normal-997.png  \n",
            "  inflating: COVID-19_Radiography_Dataset/Normal/masks/Normal-9970.png  \n",
            "  inflating: COVID-19_Radiography_Dataset/Normal/masks/Normal-9971.png  \n",
            "  inflating: COVID-19_Radiography_Dataset/Normal/masks/Normal-9972.png  \n",
            "  inflating: COVID-19_Radiography_Dataset/Normal/masks/Normal-9973.png  \n",
            "  inflating: COVID-19_Radiography_Dataset/Normal/masks/Normal-9974.png  \n",
            "  inflating: COVID-19_Radiography_Dataset/Normal/masks/Normal-9975.png  \n",
            "  inflating: COVID-19_Radiography_Dataset/Normal/masks/Normal-9976.png  \n",
            "  inflating: COVID-19_Radiography_Dataset/Normal/masks/Normal-9977.png  \n",
            "  inflating: COVID-19_Radiography_Dataset/Normal/masks/Normal-9978.png  \n",
            "  inflating: COVID-19_Radiography_Dataset/Normal/masks/Normal-9979.png  \n",
            "  inflating: COVID-19_Radiography_Dataset/Normal/masks/Normal-998.png  \n",
            "  inflating: COVID-19_Radiography_Dataset/Normal/masks/Normal-9980.png  \n",
            "  inflating: COVID-19_Radiography_Dataset/Normal/masks/Normal-9981.png  \n",
            "  inflating: COVID-19_Radiography_Dataset/Normal/masks/Normal-9982.png  \n",
            "  inflating: COVID-19_Radiography_Dataset/Normal/masks/Normal-9983.png  \n",
            "  inflating: COVID-19_Radiography_Dataset/Normal/masks/Normal-9984.png  \n",
            "  inflating: COVID-19_Radiography_Dataset/Normal/masks/Normal-9985.png  \n",
            "  inflating: COVID-19_Radiography_Dataset/Normal/masks/Normal-9986.png  \n",
            "  inflating: COVID-19_Radiography_Dataset/Normal/masks/Normal-9987.png  \n",
            "  inflating: COVID-19_Radiography_Dataset/Normal/masks/Normal-9988.png  \n",
            "  inflating: COVID-19_Radiography_Dataset/Normal/masks/Normal-9989.png  \n",
            "  inflating: COVID-19_Radiography_Dataset/Normal/masks/Normal-999.png  \n",
            "  inflating: COVID-19_Radiography_Dataset/Normal/masks/Normal-9990.png  \n",
            "  inflating: COVID-19_Radiography_Dataset/Normal/masks/Normal-9991.png  \n",
            "  inflating: COVID-19_Radiography_Dataset/Normal/masks/Normal-9992.png  \n",
            "  inflating: COVID-19_Radiography_Dataset/Normal/masks/Normal-9993.png  \n",
            "  inflating: COVID-19_Radiography_Dataset/Normal/masks/Normal-9994.png  \n",
            "  inflating: COVID-19_Radiography_Dataset/Normal/masks/Normal-9995.png  \n",
            "  inflating: COVID-19_Radiography_Dataset/Normal/masks/Normal-9996.png  \n",
            "  inflating: COVID-19_Radiography_Dataset/Normal/masks/Normal-9997.png  \n",
            "  inflating: COVID-19_Radiography_Dataset/Normal/masks/Normal-9998.png  \n",
            "  inflating: COVID-19_Radiography_Dataset/Normal/masks/Normal-9999.png  \n",
            "  inflating: COVID-19_Radiography_Dataset/README.md.txt  \n",
            "  inflating: COVID-19_Radiography_Dataset/Viral Pneumonia.metadata.xlsx  \n",
            "   creating: COVID-19_Radiography_Dataset/Viral Pneumonia/\n",
            "   creating: COVID-19_Radiography_Dataset/Viral Pneumonia/images/\n",
            "  inflating: COVID-19_Radiography_Dataset/Viral Pneumonia/images/Viral Pneumonia-1.png  \n",
            "  inflating: COVID-19_Radiography_Dataset/Viral Pneumonia/images/Viral Pneumonia-10.png  \n",
            "  inflating: COVID-19_Radiography_Dataset/Viral Pneumonia/images/Viral Pneumonia-100.png  \n",
            "  inflating: COVID-19_Radiography_Dataset/Viral Pneumonia/images/Viral Pneumonia-1000.png  \n",
            "  inflating: COVID-19_Radiography_Dataset/Viral Pneumonia/images/Viral Pneumonia-1001.png  \n",
            "  inflating: COVID-19_Radiography_Dataset/Viral Pneumonia/images/Viral Pneumonia-1002.png  \n",
            "  inflating: COVID-19_Radiography_Dataset/Viral Pneumonia/images/Viral Pneumonia-1003.png  \n",
            "  inflating: COVID-19_Radiography_Dataset/Viral Pneumonia/images/Viral Pneumonia-1004.png  \n",
            "  inflating: COVID-19_Radiography_Dataset/Viral Pneumonia/images/Viral Pneumonia-1005.png  \n",
            "  inflating: COVID-19_Radiography_Dataset/Viral Pneumonia/images/Viral Pneumonia-1006.png  \n",
            "  inflating: COVID-19_Radiography_Dataset/Viral Pneumonia/images/Viral Pneumonia-1007.png  \n",
            "  inflating: COVID-19_Radiography_Dataset/Viral Pneumonia/images/Viral Pneumonia-1008.png  \n",
            "  inflating: COVID-19_Radiography_Dataset/Viral Pneumonia/images/Viral Pneumonia-1009.png  \n",
            "  inflating: COVID-19_Radiography_Dataset/Viral Pneumonia/images/Viral Pneumonia-101.png  \n",
            "  inflating: COVID-19_Radiography_Dataset/Viral Pneumonia/images/Viral Pneumonia-1010.png  \n",
            "  inflating: COVID-19_Radiography_Dataset/Viral Pneumonia/images/Viral Pneumonia-1011.png  \n",
            "  inflating: COVID-19_Radiography_Dataset/Viral Pneumonia/images/Viral Pneumonia-1012.png  \n",
            "  inflating: COVID-19_Radiography_Dataset/Viral Pneumonia/images/Viral Pneumonia-1013.png  \n",
            "  inflating: COVID-19_Radiography_Dataset/Viral Pneumonia/images/Viral Pneumonia-1014.png  \n",
            "  inflating: COVID-19_Radiography_Dataset/Viral Pneumonia/images/Viral Pneumonia-1015.png  \n",
            "  inflating: COVID-19_Radiography_Dataset/Viral Pneumonia/images/Viral Pneumonia-1016.png  \n",
            "  inflating: COVID-19_Radiography_Dataset/Viral Pneumonia/images/Viral Pneumonia-1017.png  \n",
            "  inflating: COVID-19_Radiography_Dataset/Viral Pneumonia/images/Viral Pneumonia-1018.png  \n",
            "  inflating: COVID-19_Radiography_Dataset/Viral Pneumonia/images/Viral Pneumonia-1019.png  \n",
            "  inflating: COVID-19_Radiography_Dataset/Viral Pneumonia/images/Viral Pneumonia-102.png  \n",
            "  inflating: COVID-19_Radiography_Dataset/Viral Pneumonia/images/Viral Pneumonia-1020.png  \n",
            "  inflating: COVID-19_Radiography_Dataset/Viral Pneumonia/images/Viral Pneumonia-1021.png  \n",
            "  inflating: COVID-19_Radiography_Dataset/Viral Pneumonia/images/Viral Pneumonia-1022.png  \n",
            "  inflating: COVID-19_Radiography_Dataset/Viral Pneumonia/images/Viral Pneumonia-1023.png  \n",
            "  inflating: COVID-19_Radiography_Dataset/Viral Pneumonia/images/Viral Pneumonia-1024.png  \n",
            "  inflating: COVID-19_Radiography_Dataset/Viral Pneumonia/images/Viral Pneumonia-1025.png  \n",
            "  inflating: COVID-19_Radiography_Dataset/Viral Pneumonia/images/Viral Pneumonia-1026.png  \n",
            "  inflating: COVID-19_Radiography_Dataset/Viral Pneumonia/images/Viral Pneumonia-1027.png  \n",
            "  inflating: COVID-19_Radiography_Dataset/Viral Pneumonia/images/Viral Pneumonia-1028.png  \n",
            "  inflating: COVID-19_Radiography_Dataset/Viral Pneumonia/images/Viral Pneumonia-1029.png  \n",
            "  inflating: COVID-19_Radiography_Dataset/Viral Pneumonia/images/Viral Pneumonia-103.png  \n",
            "  inflating: COVID-19_Radiography_Dataset/Viral Pneumonia/images/Viral Pneumonia-1030.png  \n",
            "  inflating: COVID-19_Radiography_Dataset/Viral Pneumonia/images/Viral Pneumonia-1031.png  \n",
            "  inflating: COVID-19_Radiography_Dataset/Viral Pneumonia/images/Viral Pneumonia-1032.png  \n",
            "  inflating: COVID-19_Radiography_Dataset/Viral Pneumonia/images/Viral Pneumonia-1033.png  \n",
            "  inflating: COVID-19_Radiography_Dataset/Viral Pneumonia/images/Viral Pneumonia-1034.png  \n",
            "  inflating: COVID-19_Radiography_Dataset/Viral Pneumonia/images/Viral Pneumonia-1035.png  \n",
            "  inflating: COVID-19_Radiography_Dataset/Viral Pneumonia/images/Viral Pneumonia-1036.png  \n",
            "  inflating: COVID-19_Radiography_Dataset/Viral Pneumonia/images/Viral Pneumonia-1037.png  \n",
            "  inflating: COVID-19_Radiography_Dataset/Viral Pneumonia/images/Viral Pneumonia-1038.png  \n",
            "  inflating: COVID-19_Radiography_Dataset/Viral Pneumonia/images/Viral Pneumonia-1039.png  \n",
            "  inflating: COVID-19_Radiography_Dataset/Viral Pneumonia/images/Viral Pneumonia-104.png  \n",
            "  inflating: COVID-19_Radiography_Dataset/Viral Pneumonia/images/Viral Pneumonia-1040.png  \n",
            "  inflating: COVID-19_Radiography_Dataset/Viral Pneumonia/images/Viral Pneumonia-1041.png  \n",
            "  inflating: COVID-19_Radiography_Dataset/Viral Pneumonia/images/Viral Pneumonia-1042.png  \n",
            "  inflating: COVID-19_Radiography_Dataset/Viral Pneumonia/images/Viral Pneumonia-1043.png  \n",
            "  inflating: COVID-19_Radiography_Dataset/Viral Pneumonia/images/Viral Pneumonia-1044.png  \n",
            "  inflating: COVID-19_Radiography_Dataset/Viral Pneumonia/images/Viral Pneumonia-1045.png  \n",
            "  inflating: COVID-19_Radiography_Dataset/Viral Pneumonia/images/Viral Pneumonia-1046.png  \n",
            "  inflating: COVID-19_Radiography_Dataset/Viral Pneumonia/images/Viral Pneumonia-1047.png  \n",
            "  inflating: COVID-19_Radiography_Dataset/Viral Pneumonia/images/Viral Pneumonia-1048.png  \n",
            "  inflating: COVID-19_Radiography_Dataset/Viral Pneumonia/images/Viral Pneumonia-1049.png  \n",
            "  inflating: COVID-19_Radiography_Dataset/Viral Pneumonia/images/Viral Pneumonia-105.png  \n",
            "  inflating: COVID-19_Radiography_Dataset/Viral Pneumonia/images/Viral Pneumonia-1050.png  \n",
            "  inflating: COVID-19_Radiography_Dataset/Viral Pneumonia/images/Viral Pneumonia-1051.png  \n",
            "  inflating: COVID-19_Radiography_Dataset/Viral Pneumonia/images/Viral Pneumonia-1052.png  \n",
            "  inflating: COVID-19_Radiography_Dataset/Viral Pneumonia/images/Viral Pneumonia-1053.png  \n",
            "  inflating: COVID-19_Radiography_Dataset/Viral Pneumonia/images/Viral Pneumonia-1054.png  \n",
            "  inflating: COVID-19_Radiography_Dataset/Viral Pneumonia/images/Viral Pneumonia-1055.png  \n",
            "  inflating: COVID-19_Radiography_Dataset/Viral Pneumonia/images/Viral Pneumonia-1056.png  \n",
            "  inflating: COVID-19_Radiography_Dataset/Viral Pneumonia/images/Viral Pneumonia-1057.png  \n",
            "  inflating: COVID-19_Radiography_Dataset/Viral Pneumonia/images/Viral Pneumonia-1058.png  \n",
            "  inflating: COVID-19_Radiography_Dataset/Viral Pneumonia/images/Viral Pneumonia-1059.png  \n",
            "  inflating: COVID-19_Radiography_Dataset/Viral Pneumonia/images/Viral Pneumonia-106.png  \n",
            "  inflating: COVID-19_Radiography_Dataset/Viral Pneumonia/images/Viral Pneumonia-1060.png  \n",
            "  inflating: COVID-19_Radiography_Dataset/Viral Pneumonia/images/Viral Pneumonia-1061.png  \n",
            "  inflating: COVID-19_Radiography_Dataset/Viral Pneumonia/images/Viral Pneumonia-1062.png  \n",
            "  inflating: COVID-19_Radiography_Dataset/Viral Pneumonia/images/Viral Pneumonia-1063.png  \n",
            "  inflating: COVID-19_Radiography_Dataset/Viral Pneumonia/images/Viral Pneumonia-1064.png  \n",
            "  inflating: COVID-19_Radiography_Dataset/Viral Pneumonia/images/Viral Pneumonia-1065.png  \n",
            "  inflating: COVID-19_Radiography_Dataset/Viral Pneumonia/images/Viral Pneumonia-1066.png  \n",
            "  inflating: COVID-19_Radiography_Dataset/Viral Pneumonia/images/Viral Pneumonia-1067.png  \n",
            "  inflating: COVID-19_Radiography_Dataset/Viral Pneumonia/images/Viral Pneumonia-1068.png  \n",
            "  inflating: COVID-19_Radiography_Dataset/Viral Pneumonia/images/Viral Pneumonia-1069.png  \n",
            "  inflating: COVID-19_Radiography_Dataset/Viral Pneumonia/images/Viral Pneumonia-107.png  \n",
            "  inflating: COVID-19_Radiography_Dataset/Viral Pneumonia/images/Viral Pneumonia-1070.png  \n",
            "  inflating: COVID-19_Radiography_Dataset/Viral Pneumonia/images/Viral Pneumonia-1071.png  \n",
            "  inflating: COVID-19_Radiography_Dataset/Viral Pneumonia/images/Viral Pneumonia-1072.png  \n",
            "  inflating: COVID-19_Radiography_Dataset/Viral Pneumonia/images/Viral Pneumonia-1073.png  \n",
            "  inflating: COVID-19_Radiography_Dataset/Viral Pneumonia/images/Viral Pneumonia-1074.png  \n",
            "  inflating: COVID-19_Radiography_Dataset/Viral Pneumonia/images/Viral Pneumonia-1075.png  \n",
            "  inflating: COVID-19_Radiography_Dataset/Viral Pneumonia/images/Viral Pneumonia-1076.png  \n",
            "  inflating: COVID-19_Radiography_Dataset/Viral Pneumonia/images/Viral Pneumonia-1077.png  \n",
            "  inflating: COVID-19_Radiography_Dataset/Viral Pneumonia/images/Viral Pneumonia-1078.png  \n",
            "  inflating: COVID-19_Radiography_Dataset/Viral Pneumonia/images/Viral Pneumonia-1079.png  \n",
            "  inflating: COVID-19_Radiography_Dataset/Viral Pneumonia/images/Viral Pneumonia-108.png  \n",
            "  inflating: COVID-19_Radiography_Dataset/Viral Pneumonia/images/Viral Pneumonia-1080.png  \n",
            "  inflating: COVID-19_Radiography_Dataset/Viral Pneumonia/images/Viral Pneumonia-1081.png  \n",
            "  inflating: COVID-19_Radiography_Dataset/Viral Pneumonia/images/Viral Pneumonia-1082.png  \n",
            "  inflating: COVID-19_Radiography_Dataset/Viral Pneumonia/images/Viral Pneumonia-1083.png  \n",
            "  inflating: COVID-19_Radiography_Dataset/Viral Pneumonia/images/Viral Pneumonia-1084.png  \n",
            "  inflating: COVID-19_Radiography_Dataset/Viral Pneumonia/images/Viral Pneumonia-1085.png  \n",
            "  inflating: COVID-19_Radiography_Dataset/Viral Pneumonia/images/Viral Pneumonia-1086.png  \n",
            "  inflating: COVID-19_Radiography_Dataset/Viral Pneumonia/images/Viral Pneumonia-1087.png  \n",
            "  inflating: COVID-19_Radiography_Dataset/Viral Pneumonia/images/Viral Pneumonia-1088.png  \n",
            "  inflating: COVID-19_Radiography_Dataset/Viral Pneumonia/images/Viral Pneumonia-1089.png  \n",
            "  inflating: COVID-19_Radiography_Dataset/Viral Pneumonia/images/Viral Pneumonia-109.png  \n",
            "  inflating: COVID-19_Radiography_Dataset/Viral Pneumonia/images/Viral Pneumonia-1090.png  \n",
            "  inflating: COVID-19_Radiography_Dataset/Viral Pneumonia/images/Viral Pneumonia-1091.png  \n",
            "  inflating: COVID-19_Radiography_Dataset/Viral Pneumonia/images/Viral Pneumonia-1092.png  \n",
            "  inflating: COVID-19_Radiography_Dataset/Viral Pneumonia/images/Viral Pneumonia-1093.png  \n",
            "  inflating: COVID-19_Radiography_Dataset/Viral Pneumonia/images/Viral Pneumonia-1094.png  \n",
            "  inflating: COVID-19_Radiography_Dataset/Viral Pneumonia/images/Viral Pneumonia-1095.png  \n",
            "  inflating: COVID-19_Radiography_Dataset/Viral Pneumonia/images/Viral Pneumonia-1096.png  \n",
            "  inflating: COVID-19_Radiography_Dataset/Viral Pneumonia/images/Viral Pneumonia-1097.png  \n",
            "  inflating: COVID-19_Radiography_Dataset/Viral Pneumonia/images/Viral Pneumonia-1098.png  \n",
            "  inflating: COVID-19_Radiography_Dataset/Viral Pneumonia/images/Viral Pneumonia-1099.png  \n",
            "  inflating: COVID-19_Radiography_Dataset/Viral Pneumonia/images/Viral Pneumonia-11.png  \n",
            "  inflating: COVID-19_Radiography_Dataset/Viral Pneumonia/images/Viral Pneumonia-110.png  \n",
            "  inflating: COVID-19_Radiography_Dataset/Viral Pneumonia/images/Viral Pneumonia-1100.png  \n",
            "  inflating: COVID-19_Radiography_Dataset/Viral Pneumonia/images/Viral Pneumonia-1101.png  \n",
            "  inflating: COVID-19_Radiography_Dataset/Viral Pneumonia/images/Viral Pneumonia-1102.png  \n",
            "  inflating: COVID-19_Radiography_Dataset/Viral Pneumonia/images/Viral Pneumonia-1103.png  \n",
            "  inflating: COVID-19_Radiography_Dataset/Viral Pneumonia/images/Viral Pneumonia-1104.png  \n",
            "  inflating: COVID-19_Radiography_Dataset/Viral Pneumonia/images/Viral Pneumonia-1105.png  \n",
            "  inflating: COVID-19_Radiography_Dataset/Viral Pneumonia/images/Viral Pneumonia-1106.png  \n",
            "  inflating: COVID-19_Radiography_Dataset/Viral Pneumonia/images/Viral Pneumonia-1107.png  \n",
            "  inflating: COVID-19_Radiography_Dataset/Viral Pneumonia/images/Viral Pneumonia-1108.png  \n",
            "  inflating: COVID-19_Radiography_Dataset/Viral Pneumonia/images/Viral Pneumonia-1109.png  \n",
            "  inflating: COVID-19_Radiography_Dataset/Viral Pneumonia/images/Viral Pneumonia-111.png  \n",
            "  inflating: COVID-19_Radiography_Dataset/Viral Pneumonia/images/Viral Pneumonia-1110.png  \n",
            "  inflating: COVID-19_Radiography_Dataset/Viral Pneumonia/images/Viral Pneumonia-1111.png  \n",
            "  inflating: COVID-19_Radiography_Dataset/Viral Pneumonia/images/Viral Pneumonia-1112.png  \n",
            "  inflating: COVID-19_Radiography_Dataset/Viral Pneumonia/images/Viral Pneumonia-1113.png  \n",
            "  inflating: COVID-19_Radiography_Dataset/Viral Pneumonia/images/Viral Pneumonia-1114.png  \n",
            "  inflating: COVID-19_Radiography_Dataset/Viral Pneumonia/images/Viral Pneumonia-1115.png  \n",
            "  inflating: COVID-19_Radiography_Dataset/Viral Pneumonia/images/Viral Pneumonia-1116.png  \n",
            "  inflating: COVID-19_Radiography_Dataset/Viral Pneumonia/images/Viral Pneumonia-1117.png  \n",
            "  inflating: COVID-19_Radiography_Dataset/Viral Pneumonia/images/Viral Pneumonia-1118.png  \n",
            "  inflating: COVID-19_Radiography_Dataset/Viral Pneumonia/images/Viral Pneumonia-1119.png  \n",
            "  inflating: COVID-19_Radiography_Dataset/Viral Pneumonia/images/Viral Pneumonia-112.png  \n",
            "  inflating: COVID-19_Radiography_Dataset/Viral Pneumonia/images/Viral Pneumonia-1120.png  \n",
            "  inflating: COVID-19_Radiography_Dataset/Viral Pneumonia/images/Viral Pneumonia-1121.png  \n",
            "  inflating: COVID-19_Radiography_Dataset/Viral Pneumonia/images/Viral Pneumonia-1122.png  \n",
            "  inflating: COVID-19_Radiography_Dataset/Viral Pneumonia/images/Viral Pneumonia-1123.png  \n",
            "  inflating: COVID-19_Radiography_Dataset/Viral Pneumonia/images/Viral Pneumonia-1124.png  \n",
            "  inflating: COVID-19_Radiography_Dataset/Viral Pneumonia/images/Viral Pneumonia-1125.png  \n",
            "  inflating: COVID-19_Radiography_Dataset/Viral Pneumonia/images/Viral Pneumonia-1126.png  \n",
            "  inflating: COVID-19_Radiography_Dataset/Viral Pneumonia/images/Viral Pneumonia-1127.png  \n",
            "  inflating: COVID-19_Radiography_Dataset/Viral Pneumonia/images/Viral Pneumonia-1128.png  \n",
            "  inflating: COVID-19_Radiography_Dataset/Viral Pneumonia/images/Viral Pneumonia-1129.png  \n",
            "  inflating: COVID-19_Radiography_Dataset/Viral Pneumonia/images/Viral Pneumonia-113.png  \n",
            "  inflating: COVID-19_Radiography_Dataset/Viral Pneumonia/images/Viral Pneumonia-1130.png  \n",
            "  inflating: COVID-19_Radiography_Dataset/Viral Pneumonia/images/Viral Pneumonia-1131.png  \n",
            "  inflating: COVID-19_Radiography_Dataset/Viral Pneumonia/images/Viral Pneumonia-1132.png  \n",
            "  inflating: COVID-19_Radiography_Dataset/Viral Pneumonia/images/Viral Pneumonia-1133.png  \n",
            "  inflating: COVID-19_Radiography_Dataset/Viral Pneumonia/images/Viral Pneumonia-1134.png  \n",
            "  inflating: COVID-19_Radiography_Dataset/Viral Pneumonia/images/Viral Pneumonia-1135.png  \n",
            "  inflating: COVID-19_Radiography_Dataset/Viral Pneumonia/images/Viral Pneumonia-1136.png  \n",
            "  inflating: COVID-19_Radiography_Dataset/Viral Pneumonia/images/Viral Pneumonia-1137.png  \n",
            "  inflating: COVID-19_Radiography_Dataset/Viral Pneumonia/images/Viral Pneumonia-1138.png  \n",
            "  inflating: COVID-19_Radiography_Dataset/Viral Pneumonia/images/Viral Pneumonia-1139.png  \n",
            "  inflating: COVID-19_Radiography_Dataset/Viral Pneumonia/images/Viral Pneumonia-114.png  \n",
            "  inflating: COVID-19_Radiography_Dataset/Viral Pneumonia/images/Viral Pneumonia-1140.png  \n",
            "  inflating: COVID-19_Radiography_Dataset/Viral Pneumonia/images/Viral Pneumonia-1141.png  \n",
            "  inflating: COVID-19_Radiography_Dataset/Viral Pneumonia/images/Viral Pneumonia-1142.png  \n",
            "  inflating: COVID-19_Radiography_Dataset/Viral Pneumonia/images/Viral Pneumonia-1143.png  \n",
            "  inflating: COVID-19_Radiography_Dataset/Viral Pneumonia/images/Viral Pneumonia-1144.png  \n",
            "  inflating: COVID-19_Radiography_Dataset/Viral Pneumonia/images/Viral Pneumonia-1145.png  \n",
            "  inflating: COVID-19_Radiography_Dataset/Viral Pneumonia/images/Viral Pneumonia-1146.png  \n",
            "  inflating: COVID-19_Radiography_Dataset/Viral Pneumonia/images/Viral Pneumonia-1147.png  \n",
            "  inflating: COVID-19_Radiography_Dataset/Viral Pneumonia/images/Viral Pneumonia-1148.png  \n",
            "  inflating: COVID-19_Radiography_Dataset/Viral Pneumonia/images/Viral Pneumonia-1149.png  \n",
            "  inflating: COVID-19_Radiography_Dataset/Viral Pneumonia/images/Viral Pneumonia-115.png  \n",
            "  inflating: COVID-19_Radiography_Dataset/Viral Pneumonia/images/Viral Pneumonia-1150.png  \n",
            "  inflating: COVID-19_Radiography_Dataset/Viral Pneumonia/images/Viral Pneumonia-1151.png  \n",
            "  inflating: COVID-19_Radiography_Dataset/Viral Pneumonia/images/Viral Pneumonia-1152.png  \n",
            "  inflating: COVID-19_Radiography_Dataset/Viral Pneumonia/images/Viral Pneumonia-1153.png  \n",
            "  inflating: COVID-19_Radiography_Dataset/Viral Pneumonia/images/Viral Pneumonia-1154.png  \n",
            "  inflating: COVID-19_Radiography_Dataset/Viral Pneumonia/images/Viral Pneumonia-1155.png  \n",
            "  inflating: COVID-19_Radiography_Dataset/Viral Pneumonia/images/Viral Pneumonia-1156.png  \n",
            "  inflating: COVID-19_Radiography_Dataset/Viral Pneumonia/images/Viral Pneumonia-1157.png  \n",
            "  inflating: COVID-19_Radiography_Dataset/Viral Pneumonia/images/Viral Pneumonia-1158.png  \n",
            "  inflating: COVID-19_Radiography_Dataset/Viral Pneumonia/images/Viral Pneumonia-1159.png  \n",
            "  inflating: COVID-19_Radiography_Dataset/Viral Pneumonia/images/Viral Pneumonia-116.png  \n",
            "  inflating: COVID-19_Radiography_Dataset/Viral Pneumonia/images/Viral Pneumonia-1160.png  \n",
            "  inflating: COVID-19_Radiography_Dataset/Viral Pneumonia/images/Viral Pneumonia-1161.png  \n",
            "  inflating: COVID-19_Radiography_Dataset/Viral Pneumonia/images/Viral Pneumonia-1162.png  \n",
            "  inflating: COVID-19_Radiography_Dataset/Viral Pneumonia/images/Viral Pneumonia-1163.png  \n",
            "  inflating: COVID-19_Radiography_Dataset/Viral Pneumonia/images/Viral Pneumonia-1164.png  \n",
            "  inflating: COVID-19_Radiography_Dataset/Viral Pneumonia/images/Viral Pneumonia-1165.png  \n",
            "  inflating: COVID-19_Radiography_Dataset/Viral Pneumonia/images/Viral Pneumonia-1166.png  \n",
            "  inflating: COVID-19_Radiography_Dataset/Viral Pneumonia/images/Viral Pneumonia-1167.png  \n",
            "  inflating: COVID-19_Radiography_Dataset/Viral Pneumonia/images/Viral Pneumonia-1168.png  \n",
            "  inflating: COVID-19_Radiography_Dataset/Viral Pneumonia/images/Viral Pneumonia-1169.png  \n",
            "  inflating: COVID-19_Radiography_Dataset/Viral Pneumonia/images/Viral Pneumonia-117.png  \n",
            "  inflating: COVID-19_Radiography_Dataset/Viral Pneumonia/images/Viral Pneumonia-1170.png  \n",
            "  inflating: COVID-19_Radiography_Dataset/Viral Pneumonia/images/Viral Pneumonia-1171.png  \n",
            "  inflating: COVID-19_Radiography_Dataset/Viral Pneumonia/images/Viral Pneumonia-1172.png  \n",
            "  inflating: COVID-19_Radiography_Dataset/Viral Pneumonia/images/Viral Pneumonia-1173.png  \n",
            "  inflating: COVID-19_Radiography_Dataset/Viral Pneumonia/images/Viral Pneumonia-1174.png  \n",
            "  inflating: COVID-19_Radiography_Dataset/Viral Pneumonia/images/Viral Pneumonia-1175.png  \n",
            "  inflating: COVID-19_Radiography_Dataset/Viral Pneumonia/images/Viral Pneumonia-1176.png  \n",
            "  inflating: COVID-19_Radiography_Dataset/Viral Pneumonia/images/Viral Pneumonia-1177.png  \n",
            "  inflating: COVID-19_Radiography_Dataset/Viral Pneumonia/images/Viral Pneumonia-1178.png  \n",
            "  inflating: COVID-19_Radiography_Dataset/Viral Pneumonia/images/Viral Pneumonia-1179.png  \n",
            "  inflating: COVID-19_Radiography_Dataset/Viral Pneumonia/images/Viral Pneumonia-118.png  \n",
            "  inflating: COVID-19_Radiography_Dataset/Viral Pneumonia/images/Viral Pneumonia-1180.png  \n",
            "  inflating: COVID-19_Radiography_Dataset/Viral Pneumonia/images/Viral Pneumonia-1181.png  \n",
            "  inflating: COVID-19_Radiography_Dataset/Viral Pneumonia/images/Viral Pneumonia-1182.png  \n",
            "  inflating: COVID-19_Radiography_Dataset/Viral Pneumonia/images/Viral Pneumonia-1183.png  \n",
            "  inflating: COVID-19_Radiography_Dataset/Viral Pneumonia/images/Viral Pneumonia-1184.png  \n",
            "  inflating: COVID-19_Radiography_Dataset/Viral Pneumonia/images/Viral Pneumonia-1185.png  \n",
            "  inflating: COVID-19_Radiography_Dataset/Viral Pneumonia/images/Viral Pneumonia-1186.png  \n",
            "  inflating: COVID-19_Radiography_Dataset/Viral Pneumonia/images/Viral Pneumonia-1187.png  \n",
            "  inflating: COVID-19_Radiography_Dataset/Viral Pneumonia/images/Viral Pneumonia-1188.png  \n",
            "  inflating: COVID-19_Radiography_Dataset/Viral Pneumonia/images/Viral Pneumonia-1189.png  \n",
            "  inflating: COVID-19_Radiography_Dataset/Viral Pneumonia/images/Viral Pneumonia-119.png  \n",
            "  inflating: COVID-19_Radiography_Dataset/Viral Pneumonia/images/Viral Pneumonia-1190.png  \n",
            "  inflating: COVID-19_Radiography_Dataset/Viral Pneumonia/images/Viral Pneumonia-1191.png  \n",
            "  inflating: COVID-19_Radiography_Dataset/Viral Pneumonia/images/Viral Pneumonia-1192.png  \n",
            "  inflating: COVID-19_Radiography_Dataset/Viral Pneumonia/images/Viral Pneumonia-1193.png  \n",
            "  inflating: COVID-19_Radiography_Dataset/Viral Pneumonia/images/Viral Pneumonia-1194.png  \n",
            "  inflating: COVID-19_Radiography_Dataset/Viral Pneumonia/images/Viral Pneumonia-1195.png  \n",
            "  inflating: COVID-19_Radiography_Dataset/Viral Pneumonia/images/Viral Pneumonia-1196.png  \n",
            "  inflating: COVID-19_Radiography_Dataset/Viral Pneumonia/images/Viral Pneumonia-1197.png  \n",
            "  inflating: COVID-19_Radiography_Dataset/Viral Pneumonia/images/Viral Pneumonia-1198.png  \n",
            "  inflating: COVID-19_Radiography_Dataset/Viral Pneumonia/images/Viral Pneumonia-1199.png  \n",
            "  inflating: COVID-19_Radiography_Dataset/Viral Pneumonia/images/Viral Pneumonia-12.png  \n",
            "  inflating: COVID-19_Radiography_Dataset/Viral Pneumonia/images/Viral Pneumonia-120.png  \n",
            "  inflating: COVID-19_Radiography_Dataset/Viral Pneumonia/images/Viral Pneumonia-1200.png  \n",
            "  inflating: COVID-19_Radiography_Dataset/Viral Pneumonia/images/Viral Pneumonia-1201.png  \n",
            "  inflating: COVID-19_Radiography_Dataset/Viral Pneumonia/images/Viral Pneumonia-1202.png  \n",
            "  inflating: COVID-19_Radiography_Dataset/Viral Pneumonia/images/Viral Pneumonia-1203.png  \n",
            "  inflating: COVID-19_Radiography_Dataset/Viral Pneumonia/images/Viral Pneumonia-1204.png  \n",
            "  inflating: COVID-19_Radiography_Dataset/Viral Pneumonia/images/Viral Pneumonia-1205.png  \n",
            "  inflating: COVID-19_Radiography_Dataset/Viral Pneumonia/images/Viral Pneumonia-1206.png  \n",
            "  inflating: COVID-19_Radiography_Dataset/Viral Pneumonia/images/Viral Pneumonia-1207.png  \n",
            "  inflating: COVID-19_Radiography_Dataset/Viral Pneumonia/images/Viral Pneumonia-1208.png  \n",
            "  inflating: COVID-19_Radiography_Dataset/Viral Pneumonia/images/Viral Pneumonia-1209.png  \n",
            "  inflating: COVID-19_Radiography_Dataset/Viral Pneumonia/images/Viral Pneumonia-121.png  \n",
            "  inflating: COVID-19_Radiography_Dataset/Viral Pneumonia/images/Viral Pneumonia-1210.png  \n",
            "  inflating: COVID-19_Radiography_Dataset/Viral Pneumonia/images/Viral Pneumonia-1211.png  \n",
            "  inflating: COVID-19_Radiography_Dataset/Viral Pneumonia/images/Viral Pneumonia-1212.png  \n",
            "  inflating: COVID-19_Radiography_Dataset/Viral Pneumonia/images/Viral Pneumonia-1213.png  \n",
            "  inflating: COVID-19_Radiography_Dataset/Viral Pneumonia/images/Viral Pneumonia-1214.png  \n",
            "  inflating: COVID-19_Radiography_Dataset/Viral Pneumonia/images/Viral Pneumonia-1215.png  \n",
            "  inflating: COVID-19_Radiography_Dataset/Viral Pneumonia/images/Viral Pneumonia-1216.png  \n",
            "  inflating: COVID-19_Radiography_Dataset/Viral Pneumonia/images/Viral Pneumonia-1217.png  \n",
            "  inflating: COVID-19_Radiography_Dataset/Viral Pneumonia/images/Viral Pneumonia-1218.png  \n",
            "  inflating: COVID-19_Radiography_Dataset/Viral Pneumonia/images/Viral Pneumonia-1219.png  \n",
            "  inflating: COVID-19_Radiography_Dataset/Viral Pneumonia/images/Viral Pneumonia-122.png  \n",
            "  inflating: COVID-19_Radiography_Dataset/Viral Pneumonia/images/Viral Pneumonia-1220.png  \n",
            "  inflating: COVID-19_Radiography_Dataset/Viral Pneumonia/images/Viral Pneumonia-1221.png  \n",
            "  inflating: COVID-19_Radiography_Dataset/Viral Pneumonia/images/Viral Pneumonia-1222.png  \n",
            "  inflating: COVID-19_Radiography_Dataset/Viral Pneumonia/images/Viral Pneumonia-1223.png  \n",
            "  inflating: COVID-19_Radiography_Dataset/Viral Pneumonia/images/Viral Pneumonia-1224.png  \n",
            "  inflating: COVID-19_Radiography_Dataset/Viral Pneumonia/images/Viral Pneumonia-1225.png  \n",
            "  inflating: COVID-19_Radiography_Dataset/Viral Pneumonia/images/Viral Pneumonia-1226.png  \n",
            "  inflating: COVID-19_Radiography_Dataset/Viral Pneumonia/images/Viral Pneumonia-1227.png  \n",
            "  inflating: COVID-19_Radiography_Dataset/Viral Pneumonia/images/Viral Pneumonia-1228.png  \n",
            "  inflating: COVID-19_Radiography_Dataset/Viral Pneumonia/images/Viral Pneumonia-1229.png  \n",
            "  inflating: COVID-19_Radiography_Dataset/Viral Pneumonia/images/Viral Pneumonia-123.png  \n",
            "  inflating: COVID-19_Radiography_Dataset/Viral Pneumonia/images/Viral Pneumonia-1230.png  \n",
            "  inflating: COVID-19_Radiography_Dataset/Viral Pneumonia/images/Viral Pneumonia-1231.png  \n",
            "  inflating: COVID-19_Radiography_Dataset/Viral Pneumonia/images/Viral Pneumonia-1232.png  \n",
            "  inflating: COVID-19_Radiography_Dataset/Viral Pneumonia/images/Viral Pneumonia-1233.png  \n",
            "  inflating: COVID-19_Radiography_Dataset/Viral Pneumonia/images/Viral Pneumonia-1234.png  \n",
            "  inflating: COVID-19_Radiography_Dataset/Viral Pneumonia/images/Viral Pneumonia-1235.png  \n",
            "  inflating: COVID-19_Radiography_Dataset/Viral Pneumonia/images/Viral Pneumonia-1236.png  \n",
            "  inflating: COVID-19_Radiography_Dataset/Viral Pneumonia/images/Viral Pneumonia-1237.png  \n",
            "  inflating: COVID-19_Radiography_Dataset/Viral Pneumonia/images/Viral Pneumonia-1238.png  \n",
            "  inflating: COVID-19_Radiography_Dataset/Viral Pneumonia/images/Viral Pneumonia-1239.png  \n",
            "  inflating: COVID-19_Radiography_Dataset/Viral Pneumonia/images/Viral Pneumonia-124.png  \n",
            "  inflating: COVID-19_Radiography_Dataset/Viral Pneumonia/images/Viral Pneumonia-1240.png  \n",
            "  inflating: COVID-19_Radiography_Dataset/Viral Pneumonia/images/Viral Pneumonia-1241.png  \n",
            "  inflating: COVID-19_Radiography_Dataset/Viral Pneumonia/images/Viral Pneumonia-1242.png  \n",
            "  inflating: COVID-19_Radiography_Dataset/Viral Pneumonia/images/Viral Pneumonia-1243.png  \n",
            "  inflating: COVID-19_Radiography_Dataset/Viral Pneumonia/images/Viral Pneumonia-1244.png  \n",
            "  inflating: COVID-19_Radiography_Dataset/Viral Pneumonia/images/Viral Pneumonia-1245.png  \n",
            "  inflating: COVID-19_Radiography_Dataset/Viral Pneumonia/images/Viral Pneumonia-1246.png  \n",
            "  inflating: COVID-19_Radiography_Dataset/Viral Pneumonia/images/Viral Pneumonia-1247.png  \n",
            "  inflating: COVID-19_Radiography_Dataset/Viral Pneumonia/images/Viral Pneumonia-1248.png  \n",
            "  inflating: COVID-19_Radiography_Dataset/Viral Pneumonia/images/Viral Pneumonia-1249.png  \n",
            "  inflating: COVID-19_Radiography_Dataset/Viral Pneumonia/images/Viral Pneumonia-125.png  \n",
            "  inflating: COVID-19_Radiography_Dataset/Viral Pneumonia/images/Viral Pneumonia-1250.png  \n",
            "  inflating: COVID-19_Radiography_Dataset/Viral Pneumonia/images/Viral Pneumonia-1251.png  \n",
            "  inflating: COVID-19_Radiography_Dataset/Viral Pneumonia/images/Viral Pneumonia-1252.png  \n",
            "  inflating: COVID-19_Radiography_Dataset/Viral Pneumonia/images/Viral Pneumonia-1253.png  \n",
            "  inflating: COVID-19_Radiography_Dataset/Viral Pneumonia/images/Viral Pneumonia-1254.png  \n",
            "  inflating: COVID-19_Radiography_Dataset/Viral Pneumonia/images/Viral Pneumonia-1255.png  \n",
            "  inflating: COVID-19_Radiography_Dataset/Viral Pneumonia/images/Viral Pneumonia-1256.png  \n",
            "  inflating: COVID-19_Radiography_Dataset/Viral Pneumonia/images/Viral Pneumonia-1257.png  \n",
            "  inflating: COVID-19_Radiography_Dataset/Viral Pneumonia/images/Viral Pneumonia-1258.png  \n",
            "  inflating: COVID-19_Radiography_Dataset/Viral Pneumonia/images/Viral Pneumonia-1259.png  \n",
            "  inflating: COVID-19_Radiography_Dataset/Viral Pneumonia/images/Viral Pneumonia-126.png  \n",
            "  inflating: COVID-19_Radiography_Dataset/Viral Pneumonia/images/Viral Pneumonia-1260.png  \n",
            "  inflating: COVID-19_Radiography_Dataset/Viral Pneumonia/images/Viral Pneumonia-1261.png  \n",
            "  inflating: COVID-19_Radiography_Dataset/Viral Pneumonia/images/Viral Pneumonia-1262.png  \n",
            "  inflating: COVID-19_Radiography_Dataset/Viral Pneumonia/images/Viral Pneumonia-1263.png  \n",
            "  inflating: COVID-19_Radiography_Dataset/Viral Pneumonia/images/Viral Pneumonia-1264.png  \n",
            "  inflating: COVID-19_Radiography_Dataset/Viral Pneumonia/images/Viral Pneumonia-1265.png  \n",
            "  inflating: COVID-19_Radiography_Dataset/Viral Pneumonia/images/Viral Pneumonia-1266.png  \n",
            "  inflating: COVID-19_Radiography_Dataset/Viral Pneumonia/images/Viral Pneumonia-1267.png  \n",
            "  inflating: COVID-19_Radiography_Dataset/Viral Pneumonia/images/Viral Pneumonia-1268.png  \n",
            "  inflating: COVID-19_Radiography_Dataset/Viral Pneumonia/images/Viral Pneumonia-1269.png  \n",
            "  inflating: COVID-19_Radiography_Dataset/Viral Pneumonia/images/Viral Pneumonia-127.png  \n",
            "  inflating: COVID-19_Radiography_Dataset/Viral Pneumonia/images/Viral Pneumonia-1270.png  \n",
            "  inflating: COVID-19_Radiography_Dataset/Viral Pneumonia/images/Viral Pneumonia-1271.png  \n",
            "  inflating: COVID-19_Radiography_Dataset/Viral Pneumonia/images/Viral Pneumonia-1272.png  \n",
            "  inflating: COVID-19_Radiography_Dataset/Viral Pneumonia/images/Viral Pneumonia-1273.png  \n",
            "  inflating: COVID-19_Radiography_Dataset/Viral Pneumonia/images/Viral Pneumonia-1274.png  \n",
            "  inflating: COVID-19_Radiography_Dataset/Viral Pneumonia/images/Viral Pneumonia-1275.png  \n",
            "  inflating: COVID-19_Radiography_Dataset/Viral Pneumonia/images/Viral Pneumonia-1276.png  \n",
            "  inflating: COVID-19_Radiography_Dataset/Viral Pneumonia/images/Viral Pneumonia-1277.png  \n",
            "  inflating: COVID-19_Radiography_Dataset/Viral Pneumonia/images/Viral Pneumonia-1278.png  \n",
            "  inflating: COVID-19_Radiography_Dataset/Viral Pneumonia/images/Viral Pneumonia-1279.png  \n",
            "  inflating: COVID-19_Radiography_Dataset/Viral Pneumonia/images/Viral Pneumonia-128.png  \n",
            "  inflating: COVID-19_Radiography_Dataset/Viral Pneumonia/images/Viral Pneumonia-1280.png  \n",
            "  inflating: COVID-19_Radiography_Dataset/Viral Pneumonia/images/Viral Pneumonia-1281.png  \n",
            "  inflating: COVID-19_Radiography_Dataset/Viral Pneumonia/images/Viral Pneumonia-1282.png  \n",
            "  inflating: COVID-19_Radiography_Dataset/Viral Pneumonia/images/Viral Pneumonia-1283.png  \n",
            "  inflating: COVID-19_Radiography_Dataset/Viral Pneumonia/images/Viral Pneumonia-1284.png  \n",
            "  inflating: COVID-19_Radiography_Dataset/Viral Pneumonia/images/Viral Pneumonia-1285.png  \n",
            "  inflating: COVID-19_Radiography_Dataset/Viral Pneumonia/images/Viral Pneumonia-1286.png  \n",
            "  inflating: COVID-19_Radiography_Dataset/Viral Pneumonia/images/Viral Pneumonia-1287.png  \n",
            "  inflating: COVID-19_Radiography_Dataset/Viral Pneumonia/images/Viral Pneumonia-1288.png  \n",
            "  inflating: COVID-19_Radiography_Dataset/Viral Pneumonia/images/Viral Pneumonia-1289.png  \n",
            "  inflating: COVID-19_Radiography_Dataset/Viral Pneumonia/images/Viral Pneumonia-129.png  \n",
            "  inflating: COVID-19_Radiography_Dataset/Viral Pneumonia/images/Viral Pneumonia-1290.png  \n",
            "  inflating: COVID-19_Radiography_Dataset/Viral Pneumonia/images/Viral Pneumonia-1291.png  \n",
            "  inflating: COVID-19_Radiography_Dataset/Viral Pneumonia/images/Viral Pneumonia-1292.png  \n",
            "  inflating: COVID-19_Radiography_Dataset/Viral Pneumonia/images/Viral Pneumonia-1293.png  \n",
            "  inflating: COVID-19_Radiography_Dataset/Viral Pneumonia/images/Viral Pneumonia-1294.png  \n",
            "  inflating: COVID-19_Radiography_Dataset/Viral Pneumonia/images/Viral Pneumonia-1295.png  \n",
            "  inflating: COVID-19_Radiography_Dataset/Viral Pneumonia/images/Viral Pneumonia-1296.png  \n",
            "  inflating: COVID-19_Radiography_Dataset/Viral Pneumonia/images/Viral Pneumonia-1297.png  \n",
            "  inflating: COVID-19_Radiography_Dataset/Viral Pneumonia/images/Viral Pneumonia-1298.png  \n",
            "  inflating: COVID-19_Radiography_Dataset/Viral Pneumonia/images/Viral Pneumonia-1299.png  \n",
            "  inflating: COVID-19_Radiography_Dataset/Viral Pneumonia/images/Viral Pneumonia-13.png  \n",
            "  inflating: COVID-19_Radiography_Dataset/Viral Pneumonia/images/Viral Pneumonia-130.png  \n",
            "  inflating: COVID-19_Radiography_Dataset/Viral Pneumonia/images/Viral Pneumonia-1300.png  \n",
            "  inflating: COVID-19_Radiography_Dataset/Viral Pneumonia/images/Viral Pneumonia-1301.png  \n",
            "  inflating: COVID-19_Radiography_Dataset/Viral Pneumonia/images/Viral Pneumonia-1302.png  \n",
            "  inflating: COVID-19_Radiography_Dataset/Viral Pneumonia/images/Viral Pneumonia-1303.png  \n",
            "  inflating: COVID-19_Radiography_Dataset/Viral Pneumonia/images/Viral Pneumonia-1304.png  \n",
            "  inflating: COVID-19_Radiography_Dataset/Viral Pneumonia/images/Viral Pneumonia-1305.png  \n",
            "  inflating: COVID-19_Radiography_Dataset/Viral Pneumonia/images/Viral Pneumonia-1306.png  \n",
            "  inflating: COVID-19_Radiography_Dataset/Viral Pneumonia/images/Viral Pneumonia-1307.png  \n",
            "  inflating: COVID-19_Radiography_Dataset/Viral Pneumonia/images/Viral Pneumonia-1308.png  \n",
            "  inflating: COVID-19_Radiography_Dataset/Viral Pneumonia/images/Viral Pneumonia-1309.png  \n",
            "  inflating: COVID-19_Radiography_Dataset/Viral Pneumonia/images/Viral Pneumonia-131.png  \n",
            "  inflating: COVID-19_Radiography_Dataset/Viral Pneumonia/images/Viral Pneumonia-1310.png  \n",
            "  inflating: COVID-19_Radiography_Dataset/Viral Pneumonia/images/Viral Pneumonia-1311.png  \n",
            "  inflating: COVID-19_Radiography_Dataset/Viral Pneumonia/images/Viral Pneumonia-1312.png  \n",
            "  inflating: COVID-19_Radiography_Dataset/Viral Pneumonia/images/Viral Pneumonia-1313.png  \n",
            "  inflating: COVID-19_Radiography_Dataset/Viral Pneumonia/images/Viral Pneumonia-1314.png  \n",
            "  inflating: COVID-19_Radiography_Dataset/Viral Pneumonia/images/Viral Pneumonia-1315.png  \n",
            "  inflating: COVID-19_Radiography_Dataset/Viral Pneumonia/images/Viral Pneumonia-1316.png  \n",
            "  inflating: COVID-19_Radiography_Dataset/Viral Pneumonia/images/Viral Pneumonia-1317.png  \n",
            "  inflating: COVID-19_Radiography_Dataset/Viral Pneumonia/images/Viral Pneumonia-1318.png  \n",
            "  inflating: COVID-19_Radiography_Dataset/Viral Pneumonia/images/Viral Pneumonia-1319.png  \n",
            "  inflating: COVID-19_Radiography_Dataset/Viral Pneumonia/images/Viral Pneumonia-132.png  \n",
            "  inflating: COVID-19_Radiography_Dataset/Viral Pneumonia/images/Viral Pneumonia-1320.png  \n",
            "  inflating: COVID-19_Radiography_Dataset/Viral Pneumonia/images/Viral Pneumonia-1321.png  \n",
            "  inflating: COVID-19_Radiography_Dataset/Viral Pneumonia/images/Viral Pneumonia-1322.png  \n",
            "  inflating: COVID-19_Radiography_Dataset/Viral Pneumonia/images/Viral Pneumonia-1323.png  \n",
            "  inflating: COVID-19_Radiography_Dataset/Viral Pneumonia/images/Viral Pneumonia-1324.png  \n",
            "  inflating: COVID-19_Radiography_Dataset/Viral Pneumonia/images/Viral Pneumonia-1325.png  \n",
            "  inflating: COVID-19_Radiography_Dataset/Viral Pneumonia/images/Viral Pneumonia-1326.png  \n",
            "  inflating: COVID-19_Radiography_Dataset/Viral Pneumonia/images/Viral Pneumonia-1327.png  \n",
            "  inflating: COVID-19_Radiography_Dataset/Viral Pneumonia/images/Viral Pneumonia-1328.png  \n",
            "  inflating: COVID-19_Radiography_Dataset/Viral Pneumonia/images/Viral Pneumonia-1329.png  \n",
            "  inflating: COVID-19_Radiography_Dataset/Viral Pneumonia/images/Viral Pneumonia-133.png  \n",
            "  inflating: COVID-19_Radiography_Dataset/Viral Pneumonia/images/Viral Pneumonia-1330.png  \n",
            "  inflating: COVID-19_Radiography_Dataset/Viral Pneumonia/images/Viral Pneumonia-1331.png  \n",
            "  inflating: COVID-19_Radiography_Dataset/Viral Pneumonia/images/Viral Pneumonia-1332.png  \n",
            "  inflating: COVID-19_Radiography_Dataset/Viral Pneumonia/images/Viral Pneumonia-1333.png  \n",
            "  inflating: COVID-19_Radiography_Dataset/Viral Pneumonia/images/Viral Pneumonia-1334.png  \n",
            "  inflating: COVID-19_Radiography_Dataset/Viral Pneumonia/images/Viral Pneumonia-1335.png  \n",
            "  inflating: COVID-19_Radiography_Dataset/Viral Pneumonia/images/Viral Pneumonia-1336.png  \n",
            "  inflating: COVID-19_Radiography_Dataset/Viral Pneumonia/images/Viral Pneumonia-1337.png  \n",
            "  inflating: COVID-19_Radiography_Dataset/Viral Pneumonia/images/Viral Pneumonia-1338.png  \n",
            "  inflating: COVID-19_Radiography_Dataset/Viral Pneumonia/images/Viral Pneumonia-1339.png  \n",
            "  inflating: COVID-19_Radiography_Dataset/Viral Pneumonia/images/Viral Pneumonia-134.png  \n",
            "  inflating: COVID-19_Radiography_Dataset/Viral Pneumonia/images/Viral Pneumonia-1340.png  \n",
            "  inflating: COVID-19_Radiography_Dataset/Viral Pneumonia/images/Viral Pneumonia-1341.png  \n",
            "  inflating: COVID-19_Radiography_Dataset/Viral Pneumonia/images/Viral Pneumonia-1342.png  \n",
            "  inflating: COVID-19_Radiography_Dataset/Viral Pneumonia/images/Viral Pneumonia-1343.png  \n",
            "  inflating: COVID-19_Radiography_Dataset/Viral Pneumonia/images/Viral Pneumonia-1344.png  \n",
            "  inflating: COVID-19_Radiography_Dataset/Viral Pneumonia/images/Viral Pneumonia-1345.png  \n",
            "  inflating: COVID-19_Radiography_Dataset/Viral Pneumonia/images/Viral Pneumonia-135.png  \n",
            "  inflating: COVID-19_Radiography_Dataset/Viral Pneumonia/images/Viral Pneumonia-136.png  \n",
            "  inflating: COVID-19_Radiography_Dataset/Viral Pneumonia/images/Viral Pneumonia-137.png  \n",
            "  inflating: COVID-19_Radiography_Dataset/Viral Pneumonia/images/Viral Pneumonia-138.png  \n",
            "  inflating: COVID-19_Radiography_Dataset/Viral Pneumonia/images/Viral Pneumonia-139.png  \n",
            "  inflating: COVID-19_Radiography_Dataset/Viral Pneumonia/images/Viral Pneumonia-14.png  \n",
            "  inflating: COVID-19_Radiography_Dataset/Viral Pneumonia/images/Viral Pneumonia-140.png  \n",
            "  inflating: COVID-19_Radiography_Dataset/Viral Pneumonia/images/Viral Pneumonia-141.png  \n",
            "  inflating: COVID-19_Radiography_Dataset/Viral Pneumonia/images/Viral Pneumonia-142.png  \n",
            "  inflating: COVID-19_Radiography_Dataset/Viral Pneumonia/images/Viral Pneumonia-143.png  \n",
            "  inflating: COVID-19_Radiography_Dataset/Viral Pneumonia/images/Viral Pneumonia-144.png  \n",
            "  inflating: COVID-19_Radiography_Dataset/Viral Pneumonia/images/Viral Pneumonia-145.png  \n",
            "  inflating: COVID-19_Radiography_Dataset/Viral Pneumonia/images/Viral Pneumonia-146.png  \n",
            "  inflating: COVID-19_Radiography_Dataset/Viral Pneumonia/images/Viral Pneumonia-147.png  \n",
            "  inflating: COVID-19_Radiography_Dataset/Viral Pneumonia/images/Viral Pneumonia-148.png  \n",
            "  inflating: COVID-19_Radiography_Dataset/Viral Pneumonia/images/Viral Pneumonia-149.png  \n",
            "  inflating: COVID-19_Radiography_Dataset/Viral Pneumonia/images/Viral Pneumonia-15.png  \n",
            "  inflating: COVID-19_Radiography_Dataset/Viral Pneumonia/images/Viral Pneumonia-150.png  \n",
            "  inflating: COVID-19_Radiography_Dataset/Viral Pneumonia/images/Viral Pneumonia-151.png  \n",
            "  inflating: COVID-19_Radiography_Dataset/Viral Pneumonia/images/Viral Pneumonia-152.png  \n",
            "  inflating: COVID-19_Radiography_Dataset/Viral Pneumonia/images/Viral Pneumonia-153.png  \n",
            "  inflating: COVID-19_Radiography_Dataset/Viral Pneumonia/images/Viral Pneumonia-154.png  \n",
            "  inflating: COVID-19_Radiography_Dataset/Viral Pneumonia/images/Viral Pneumonia-155.png  \n",
            "  inflating: COVID-19_Radiography_Dataset/Viral Pneumonia/images/Viral Pneumonia-156.png  \n",
            "  inflating: COVID-19_Radiography_Dataset/Viral Pneumonia/images/Viral Pneumonia-157.png  \n",
            "  inflating: COVID-19_Radiography_Dataset/Viral Pneumonia/images/Viral Pneumonia-158.png  \n",
            "  inflating: COVID-19_Radiography_Dataset/Viral Pneumonia/images/Viral Pneumonia-159.png  \n",
            "  inflating: COVID-19_Radiography_Dataset/Viral Pneumonia/images/Viral Pneumonia-16.png  \n",
            "  inflating: COVID-19_Radiography_Dataset/Viral Pneumonia/images/Viral Pneumonia-160.png  \n",
            "  inflating: COVID-19_Radiography_Dataset/Viral Pneumonia/images/Viral Pneumonia-161.png  \n",
            "  inflating: COVID-19_Radiography_Dataset/Viral Pneumonia/images/Viral Pneumonia-162.png  \n",
            "  inflating: COVID-19_Radiography_Dataset/Viral Pneumonia/images/Viral Pneumonia-163.png  \n",
            "  inflating: COVID-19_Radiography_Dataset/Viral Pneumonia/images/Viral Pneumonia-164.png  \n",
            "  inflating: COVID-19_Radiography_Dataset/Viral Pneumonia/images/Viral Pneumonia-165.png  \n",
            "  inflating: COVID-19_Radiography_Dataset/Viral Pneumonia/images/Viral Pneumonia-166.png  \n",
            "  inflating: COVID-19_Radiography_Dataset/Viral Pneumonia/images/Viral Pneumonia-167.png  \n",
            "  inflating: COVID-19_Radiography_Dataset/Viral Pneumonia/images/Viral Pneumonia-168.png  \n",
            "  inflating: COVID-19_Radiography_Dataset/Viral Pneumonia/images/Viral Pneumonia-169.png  \n",
            "  inflating: COVID-19_Radiography_Dataset/Viral Pneumonia/images/Viral Pneumonia-17.png  \n",
            "  inflating: COVID-19_Radiography_Dataset/Viral Pneumonia/images/Viral Pneumonia-170.png  \n",
            "  inflating: COVID-19_Radiography_Dataset/Viral Pneumonia/images/Viral Pneumonia-171.png  \n",
            "  inflating: COVID-19_Radiography_Dataset/Viral Pneumonia/images/Viral Pneumonia-172.png  \n",
            "  inflating: COVID-19_Radiography_Dataset/Viral Pneumonia/images/Viral Pneumonia-173.png  \n",
            "  inflating: COVID-19_Radiography_Dataset/Viral Pneumonia/images/Viral Pneumonia-174.png  \n",
            "  inflating: COVID-19_Radiography_Dataset/Viral Pneumonia/images/Viral Pneumonia-175.png  \n",
            "  inflating: COVID-19_Radiography_Dataset/Viral Pneumonia/images/Viral Pneumonia-176.png  \n",
            "  inflating: COVID-19_Radiography_Dataset/Viral Pneumonia/images/Viral Pneumonia-177.png  \n",
            "  inflating: COVID-19_Radiography_Dataset/Viral Pneumonia/images/Viral Pneumonia-178.png  \n",
            "  inflating: COVID-19_Radiography_Dataset/Viral Pneumonia/images/Viral Pneumonia-179.png  \n",
            "  inflating: COVID-19_Radiography_Dataset/Viral Pneumonia/images/Viral Pneumonia-18.png  \n",
            "  inflating: COVID-19_Radiography_Dataset/Viral Pneumonia/images/Viral Pneumonia-180.png  \n",
            "  inflating: COVID-19_Radiography_Dataset/Viral Pneumonia/images/Viral Pneumonia-181.png  \n",
            "  inflating: COVID-19_Radiography_Dataset/Viral Pneumonia/images/Viral Pneumonia-182.png  \n",
            "  inflating: COVID-19_Radiography_Dataset/Viral Pneumonia/images/Viral Pneumonia-183.png  \n",
            "  inflating: COVID-19_Radiography_Dataset/Viral Pneumonia/images/Viral Pneumonia-184.png  \n",
            "  inflating: COVID-19_Radiography_Dataset/Viral Pneumonia/images/Viral Pneumonia-185.png  \n",
            "  inflating: COVID-19_Radiography_Dataset/Viral Pneumonia/images/Viral Pneumonia-186.png  \n",
            "  inflating: COVID-19_Radiography_Dataset/Viral Pneumonia/images/Viral Pneumonia-187.png  \n",
            "  inflating: COVID-19_Radiography_Dataset/Viral Pneumonia/images/Viral Pneumonia-188.png  \n",
            "  inflating: COVID-19_Radiography_Dataset/Viral Pneumonia/images/Viral Pneumonia-189.png  \n",
            "  inflating: COVID-19_Radiography_Dataset/Viral Pneumonia/images/Viral Pneumonia-19.png  \n",
            "  inflating: COVID-19_Radiography_Dataset/Viral Pneumonia/images/Viral Pneumonia-190.png  \n",
            "  inflating: COVID-19_Radiography_Dataset/Viral Pneumonia/images/Viral Pneumonia-191.png  \n",
            "  inflating: COVID-19_Radiography_Dataset/Viral Pneumonia/images/Viral Pneumonia-192.png  \n",
            "  inflating: COVID-19_Radiography_Dataset/Viral Pneumonia/images/Viral Pneumonia-193.png  \n",
            "  inflating: COVID-19_Radiography_Dataset/Viral Pneumonia/images/Viral Pneumonia-194.png  \n",
            "  inflating: COVID-19_Radiography_Dataset/Viral Pneumonia/images/Viral Pneumonia-195.png  \n",
            "  inflating: COVID-19_Radiography_Dataset/Viral Pneumonia/images/Viral Pneumonia-196.png  \n",
            "  inflating: COVID-19_Radiography_Dataset/Viral Pneumonia/images/Viral Pneumonia-197.png  \n",
            "  inflating: COVID-19_Radiography_Dataset/Viral Pneumonia/images/Viral Pneumonia-198.png  \n",
            "  inflating: COVID-19_Radiography_Dataset/Viral Pneumonia/images/Viral Pneumonia-199.png  \n",
            "  inflating: COVID-19_Radiography_Dataset/Viral Pneumonia/images/Viral Pneumonia-2.png  \n",
            "  inflating: COVID-19_Radiography_Dataset/Viral Pneumonia/images/Viral Pneumonia-20.png  \n",
            "  inflating: COVID-19_Radiography_Dataset/Viral Pneumonia/images/Viral Pneumonia-200.png  \n",
            "  inflating: COVID-19_Radiography_Dataset/Viral Pneumonia/images/Viral Pneumonia-201.png  \n",
            "  inflating: COVID-19_Radiography_Dataset/Viral Pneumonia/images/Viral Pneumonia-202.png  \n",
            "  inflating: COVID-19_Radiography_Dataset/Viral Pneumonia/images/Viral Pneumonia-203.png  \n",
            "  inflating: COVID-19_Radiography_Dataset/Viral Pneumonia/images/Viral Pneumonia-204.png  \n",
            "  inflating: COVID-19_Radiography_Dataset/Viral Pneumonia/images/Viral Pneumonia-205.png  \n",
            "  inflating: COVID-19_Radiography_Dataset/Viral Pneumonia/images/Viral Pneumonia-206.png  \n",
            "  inflating: COVID-19_Radiography_Dataset/Viral Pneumonia/images/Viral Pneumonia-207.png  \n",
            "  inflating: COVID-19_Radiography_Dataset/Viral Pneumonia/images/Viral Pneumonia-208.png  \n",
            "  inflating: COVID-19_Radiography_Dataset/Viral Pneumonia/images/Viral Pneumonia-209.png  \n",
            "  inflating: COVID-19_Radiography_Dataset/Viral Pneumonia/images/Viral Pneumonia-21.png  \n",
            "  inflating: COVID-19_Radiography_Dataset/Viral Pneumonia/images/Viral Pneumonia-210.png  \n",
            "  inflating: COVID-19_Radiography_Dataset/Viral Pneumonia/images/Viral Pneumonia-211.png  \n",
            "  inflating: COVID-19_Radiography_Dataset/Viral Pneumonia/images/Viral Pneumonia-212.png  \n",
            "  inflating: COVID-19_Radiography_Dataset/Viral Pneumonia/images/Viral Pneumonia-213.png  \n",
            "  inflating: COVID-19_Radiography_Dataset/Viral Pneumonia/images/Viral Pneumonia-214.png  \n",
            "  inflating: COVID-19_Radiography_Dataset/Viral Pneumonia/images/Viral Pneumonia-215.png  \n",
            "  inflating: COVID-19_Radiography_Dataset/Viral Pneumonia/images/Viral Pneumonia-216.png  \n",
            "  inflating: COVID-19_Radiography_Dataset/Viral Pneumonia/images/Viral Pneumonia-217.png  \n",
            "  inflating: COVID-19_Radiography_Dataset/Viral Pneumonia/images/Viral Pneumonia-218.png  \n",
            "  inflating: COVID-19_Radiography_Dataset/Viral Pneumonia/images/Viral Pneumonia-219.png  \n",
            "  inflating: COVID-19_Radiography_Dataset/Viral Pneumonia/images/Viral Pneumonia-22.png  \n",
            "  inflating: COVID-19_Radiography_Dataset/Viral Pneumonia/images/Viral Pneumonia-220.png  \n",
            "  inflating: COVID-19_Radiography_Dataset/Viral Pneumonia/images/Viral Pneumonia-221.png  \n",
            "  inflating: COVID-19_Radiography_Dataset/Viral Pneumonia/images/Viral Pneumonia-222.png  \n",
            "  inflating: COVID-19_Radiography_Dataset/Viral Pneumonia/images/Viral Pneumonia-223.png  \n",
            "  inflating: COVID-19_Radiography_Dataset/Viral Pneumonia/images/Viral Pneumonia-224.png  \n",
            "  inflating: COVID-19_Radiography_Dataset/Viral Pneumonia/images/Viral Pneumonia-225.png  \n",
            "  inflating: COVID-19_Radiography_Dataset/Viral Pneumonia/images/Viral Pneumonia-226.png  \n",
            "  inflating: COVID-19_Radiography_Dataset/Viral Pneumonia/images/Viral Pneumonia-227.png  \n",
            "  inflating: COVID-19_Radiography_Dataset/Viral Pneumonia/images/Viral Pneumonia-228.png  \n",
            "  inflating: COVID-19_Radiography_Dataset/Viral Pneumonia/images/Viral Pneumonia-229.png  \n",
            "  inflating: COVID-19_Radiography_Dataset/Viral Pneumonia/images/Viral Pneumonia-23.png  \n",
            "  inflating: COVID-19_Radiography_Dataset/Viral Pneumonia/images/Viral Pneumonia-230.png  \n",
            "  inflating: COVID-19_Radiography_Dataset/Viral Pneumonia/images/Viral Pneumonia-231.png  \n",
            "  inflating: COVID-19_Radiography_Dataset/Viral Pneumonia/images/Viral Pneumonia-232.png  \n",
            "  inflating: COVID-19_Radiography_Dataset/Viral Pneumonia/images/Viral Pneumonia-233.png  \n",
            "  inflating: COVID-19_Radiography_Dataset/Viral Pneumonia/images/Viral Pneumonia-234.png  \n",
            "  inflating: COVID-19_Radiography_Dataset/Viral Pneumonia/images/Viral Pneumonia-235.png  \n",
            "  inflating: COVID-19_Radiography_Dataset/Viral Pneumonia/images/Viral Pneumonia-236.png  \n",
            "  inflating: COVID-19_Radiography_Dataset/Viral Pneumonia/images/Viral Pneumonia-237.png  \n",
            "  inflating: COVID-19_Radiography_Dataset/Viral Pneumonia/images/Viral Pneumonia-238.png  \n",
            "  inflating: COVID-19_Radiography_Dataset/Viral Pneumonia/images/Viral Pneumonia-239.png  \n",
            "  inflating: COVID-19_Radiography_Dataset/Viral Pneumonia/images/Viral Pneumonia-24.png  \n",
            "  inflating: COVID-19_Radiography_Dataset/Viral Pneumonia/images/Viral Pneumonia-240.png  \n",
            "  inflating: COVID-19_Radiography_Dataset/Viral Pneumonia/images/Viral Pneumonia-241.png  \n",
            "  inflating: COVID-19_Radiography_Dataset/Viral Pneumonia/images/Viral Pneumonia-242.png  \n",
            "  inflating: COVID-19_Radiography_Dataset/Viral Pneumonia/images/Viral Pneumonia-243.png  \n",
            "  inflating: COVID-19_Radiography_Dataset/Viral Pneumonia/images/Viral Pneumonia-244.png  \n",
            "  inflating: COVID-19_Radiography_Dataset/Viral Pneumonia/images/Viral Pneumonia-245.png  \n",
            "  inflating: COVID-19_Radiography_Dataset/Viral Pneumonia/images/Viral Pneumonia-246.png  \n",
            "  inflating: COVID-19_Radiography_Dataset/Viral Pneumonia/images/Viral Pneumonia-247.png  \n",
            "  inflating: COVID-19_Radiography_Dataset/Viral Pneumonia/images/Viral Pneumonia-248.png  \n",
            "  inflating: COVID-19_Radiography_Dataset/Viral Pneumonia/images/Viral Pneumonia-249.png  \n",
            "  inflating: COVID-19_Radiography_Dataset/Viral Pneumonia/images/Viral Pneumonia-25.png  \n",
            "  inflating: COVID-19_Radiography_Dataset/Viral Pneumonia/images/Viral Pneumonia-250.png  \n",
            "  inflating: COVID-19_Radiography_Dataset/Viral Pneumonia/images/Viral Pneumonia-251.png  \n",
            "  inflating: COVID-19_Radiography_Dataset/Viral Pneumonia/images/Viral Pneumonia-252.png  \n",
            "  inflating: COVID-19_Radiography_Dataset/Viral Pneumonia/images/Viral Pneumonia-253.png  \n",
            "  inflating: COVID-19_Radiography_Dataset/Viral Pneumonia/images/Viral Pneumonia-254.png  \n",
            "  inflating: COVID-19_Radiography_Dataset/Viral Pneumonia/images/Viral Pneumonia-255.png  \n",
            "  inflating: COVID-19_Radiography_Dataset/Viral Pneumonia/images/Viral Pneumonia-256.png  \n",
            "  inflating: COVID-19_Radiography_Dataset/Viral Pneumonia/images/Viral Pneumonia-257.png  \n",
            "  inflating: COVID-19_Radiography_Dataset/Viral Pneumonia/images/Viral Pneumonia-258.png  \n",
            "  inflating: COVID-19_Radiography_Dataset/Viral Pneumonia/images/Viral Pneumonia-259.png  \n",
            "  inflating: COVID-19_Radiography_Dataset/Viral Pneumonia/images/Viral Pneumonia-26.png  \n",
            "  inflating: COVID-19_Radiography_Dataset/Viral Pneumonia/images/Viral Pneumonia-260.png  \n",
            "  inflating: COVID-19_Radiography_Dataset/Viral Pneumonia/images/Viral Pneumonia-261.png  \n",
            "  inflating: COVID-19_Radiography_Dataset/Viral Pneumonia/images/Viral Pneumonia-262.png  \n",
            "  inflating: COVID-19_Radiography_Dataset/Viral Pneumonia/images/Viral Pneumonia-263.png  \n",
            "  inflating: COVID-19_Radiography_Dataset/Viral Pneumonia/images/Viral Pneumonia-264.png  \n",
            "  inflating: COVID-19_Radiography_Dataset/Viral Pneumonia/images/Viral Pneumonia-265.png  \n",
            "  inflating: COVID-19_Radiography_Dataset/Viral Pneumonia/images/Viral Pneumonia-266.png  \n",
            "  inflating: COVID-19_Radiography_Dataset/Viral Pneumonia/images/Viral Pneumonia-267.png  \n",
            "  inflating: COVID-19_Radiography_Dataset/Viral Pneumonia/images/Viral Pneumonia-268.png  \n",
            "  inflating: COVID-19_Radiography_Dataset/Viral Pneumonia/images/Viral Pneumonia-269.png  \n",
            "  inflating: COVID-19_Radiography_Dataset/Viral Pneumonia/images/Viral Pneumonia-27.png  \n",
            "  inflating: COVID-19_Radiography_Dataset/Viral Pneumonia/images/Viral Pneumonia-270.png  \n",
            "  inflating: COVID-19_Radiography_Dataset/Viral Pneumonia/images/Viral Pneumonia-271.png  \n",
            "  inflating: COVID-19_Radiography_Dataset/Viral Pneumonia/images/Viral Pneumonia-272.png  \n",
            "  inflating: COVID-19_Radiography_Dataset/Viral Pneumonia/images/Viral Pneumonia-273.png  \n",
            "  inflating: COVID-19_Radiography_Dataset/Viral Pneumonia/images/Viral Pneumonia-274.png  \n",
            "  inflating: COVID-19_Radiography_Dataset/Viral Pneumonia/images/Viral Pneumonia-275.png  \n",
            "  inflating: COVID-19_Radiography_Dataset/Viral Pneumonia/images/Viral Pneumonia-276.png  \n",
            "  inflating: COVID-19_Radiography_Dataset/Viral Pneumonia/images/Viral Pneumonia-277.png  \n",
            "  inflating: COVID-19_Radiography_Dataset/Viral Pneumonia/images/Viral Pneumonia-278.png  \n",
            "  inflating: COVID-19_Radiography_Dataset/Viral Pneumonia/images/Viral Pneumonia-279.png  \n",
            "  inflating: COVID-19_Radiography_Dataset/Viral Pneumonia/images/Viral Pneumonia-28.png  \n",
            "  inflating: COVID-19_Radiography_Dataset/Viral Pneumonia/images/Viral Pneumonia-280.png  \n",
            "  inflating: COVID-19_Radiography_Dataset/Viral Pneumonia/images/Viral Pneumonia-281.png  \n",
            "  inflating: COVID-19_Radiography_Dataset/Viral Pneumonia/images/Viral Pneumonia-282.png  \n",
            "  inflating: COVID-19_Radiography_Dataset/Viral Pneumonia/images/Viral Pneumonia-283.png  \n",
            "  inflating: COVID-19_Radiography_Dataset/Viral Pneumonia/images/Viral Pneumonia-284.png  \n",
            "  inflating: COVID-19_Radiography_Dataset/Viral Pneumonia/images/Viral Pneumonia-285.png  \n",
            "  inflating: COVID-19_Radiography_Dataset/Viral Pneumonia/images/Viral Pneumonia-286.png  \n",
            "  inflating: COVID-19_Radiography_Dataset/Viral Pneumonia/images/Viral Pneumonia-287.png  \n",
            "  inflating: COVID-19_Radiography_Dataset/Viral Pneumonia/images/Viral Pneumonia-288.png  \n",
            "  inflating: COVID-19_Radiography_Dataset/Viral Pneumonia/images/Viral Pneumonia-289.png  \n",
            "  inflating: COVID-19_Radiography_Dataset/Viral Pneumonia/images/Viral Pneumonia-29.png  \n",
            "  inflating: COVID-19_Radiography_Dataset/Viral Pneumonia/images/Viral Pneumonia-290.png  \n",
            "  inflating: COVID-19_Radiography_Dataset/Viral Pneumonia/images/Viral Pneumonia-291.png  \n",
            "  inflating: COVID-19_Radiography_Dataset/Viral Pneumonia/images/Viral Pneumonia-292.png  \n",
            "  inflating: COVID-19_Radiography_Dataset/Viral Pneumonia/images/Viral Pneumonia-293.png  \n",
            "  inflating: COVID-19_Radiography_Dataset/Viral Pneumonia/images/Viral Pneumonia-294.png  \n",
            "  inflating: COVID-19_Radiography_Dataset/Viral Pneumonia/images/Viral Pneumonia-295.png  \n",
            "  inflating: COVID-19_Radiography_Dataset/Viral Pneumonia/images/Viral Pneumonia-296.png  \n",
            "  inflating: COVID-19_Radiography_Dataset/Viral Pneumonia/images/Viral Pneumonia-297.png  \n",
            "  inflating: COVID-19_Radiography_Dataset/Viral Pneumonia/images/Viral Pneumonia-298.png  \n",
            "  inflating: COVID-19_Radiography_Dataset/Viral Pneumonia/images/Viral Pneumonia-299.png  \n",
            "  inflating: COVID-19_Radiography_Dataset/Viral Pneumonia/images/Viral Pneumonia-3.png  \n",
            "  inflating: COVID-19_Radiography_Dataset/Viral Pneumonia/images/Viral Pneumonia-30.png  \n",
            "  inflating: COVID-19_Radiography_Dataset/Viral Pneumonia/images/Viral Pneumonia-300.png  \n",
            "  inflating: COVID-19_Radiography_Dataset/Viral Pneumonia/images/Viral Pneumonia-301.png  \n",
            "  inflating: COVID-19_Radiography_Dataset/Viral Pneumonia/images/Viral Pneumonia-302.png  \n",
            "  inflating: COVID-19_Radiography_Dataset/Viral Pneumonia/images/Viral Pneumonia-303.png  \n",
            "  inflating: COVID-19_Radiography_Dataset/Viral Pneumonia/images/Viral Pneumonia-304.png  \n",
            "  inflating: COVID-19_Radiography_Dataset/Viral Pneumonia/images/Viral Pneumonia-305.png  \n",
            "  inflating: COVID-19_Radiography_Dataset/Viral Pneumonia/images/Viral Pneumonia-306.png  \n",
            "  inflating: COVID-19_Radiography_Dataset/Viral Pneumonia/images/Viral Pneumonia-307.png  \n",
            "  inflating: COVID-19_Radiography_Dataset/Viral Pneumonia/images/Viral Pneumonia-308.png  \n",
            "  inflating: COVID-19_Radiography_Dataset/Viral Pneumonia/images/Viral Pneumonia-309.png  \n",
            "  inflating: COVID-19_Radiography_Dataset/Viral Pneumonia/images/Viral Pneumonia-31.png  \n",
            "  inflating: COVID-19_Radiography_Dataset/Viral Pneumonia/images/Viral Pneumonia-310.png  \n",
            "  inflating: COVID-19_Radiography_Dataset/Viral Pneumonia/images/Viral Pneumonia-311.png  \n",
            "  inflating: COVID-19_Radiography_Dataset/Viral Pneumonia/images/Viral Pneumonia-312.png  \n",
            "  inflating: COVID-19_Radiography_Dataset/Viral Pneumonia/images/Viral Pneumonia-313.png  \n",
            "  inflating: COVID-19_Radiography_Dataset/Viral Pneumonia/images/Viral Pneumonia-314.png  \n",
            "  inflating: COVID-19_Radiography_Dataset/Viral Pneumonia/images/Viral Pneumonia-315.png  \n",
            "  inflating: COVID-19_Radiography_Dataset/Viral Pneumonia/images/Viral Pneumonia-316.png  \n",
            "  inflating: COVID-19_Radiography_Dataset/Viral Pneumonia/images/Viral Pneumonia-317.png  \n",
            "  inflating: COVID-19_Radiography_Dataset/Viral Pneumonia/images/Viral Pneumonia-318.png  \n",
            "  inflating: COVID-19_Radiography_Dataset/Viral Pneumonia/images/Viral Pneumonia-319.png  \n",
            "  inflating: COVID-19_Radiography_Dataset/Viral Pneumonia/images/Viral Pneumonia-32.png  \n",
            "  inflating: COVID-19_Radiography_Dataset/Viral Pneumonia/images/Viral Pneumonia-320.png  \n",
            "  inflating: COVID-19_Radiography_Dataset/Viral Pneumonia/images/Viral Pneumonia-321.png  \n",
            "  inflating: COVID-19_Radiography_Dataset/Viral Pneumonia/images/Viral Pneumonia-322.png  \n",
            "  inflating: COVID-19_Radiography_Dataset/Viral Pneumonia/images/Viral Pneumonia-323.png  \n",
            "  inflating: COVID-19_Radiography_Dataset/Viral Pneumonia/images/Viral Pneumonia-324.png  \n",
            "  inflating: COVID-19_Radiography_Dataset/Viral Pneumonia/images/Viral Pneumonia-325.png  \n",
            "  inflating: COVID-19_Radiography_Dataset/Viral Pneumonia/images/Viral Pneumonia-326.png  \n",
            "  inflating: COVID-19_Radiography_Dataset/Viral Pneumonia/images/Viral Pneumonia-327.png  \n",
            "  inflating: COVID-19_Radiography_Dataset/Viral Pneumonia/images/Viral Pneumonia-328.png  \n",
            "  inflating: COVID-19_Radiography_Dataset/Viral Pneumonia/images/Viral Pneumonia-329.png  \n",
            "  inflating: COVID-19_Radiography_Dataset/Viral Pneumonia/images/Viral Pneumonia-33.png  \n",
            "  inflating: COVID-19_Radiography_Dataset/Viral Pneumonia/images/Viral Pneumonia-330.png  \n",
            "  inflating: COVID-19_Radiography_Dataset/Viral Pneumonia/images/Viral Pneumonia-331.png  \n",
            "  inflating: COVID-19_Radiography_Dataset/Viral Pneumonia/images/Viral Pneumonia-332.png  \n",
            "  inflating: COVID-19_Radiography_Dataset/Viral Pneumonia/images/Viral Pneumonia-333.png  \n",
            "  inflating: COVID-19_Radiography_Dataset/Viral Pneumonia/images/Viral Pneumonia-334.png  \n",
            "  inflating: COVID-19_Radiography_Dataset/Viral Pneumonia/images/Viral Pneumonia-335.png  \n",
            "  inflating: COVID-19_Radiography_Dataset/Viral Pneumonia/images/Viral Pneumonia-336.png  \n",
            "  inflating: COVID-19_Radiography_Dataset/Viral Pneumonia/images/Viral Pneumonia-337.png  \n",
            "  inflating: COVID-19_Radiography_Dataset/Viral Pneumonia/images/Viral Pneumonia-338.png  \n",
            "  inflating: COVID-19_Radiography_Dataset/Viral Pneumonia/images/Viral Pneumonia-339.png  \n",
            "  inflating: COVID-19_Radiography_Dataset/Viral Pneumonia/images/Viral Pneumonia-34.png  \n",
            "  inflating: COVID-19_Radiography_Dataset/Viral Pneumonia/images/Viral Pneumonia-340.png  \n",
            "  inflating: COVID-19_Radiography_Dataset/Viral Pneumonia/images/Viral Pneumonia-341.png  \n",
            "  inflating: COVID-19_Radiography_Dataset/Viral Pneumonia/images/Viral Pneumonia-342.png  \n",
            "  inflating: COVID-19_Radiography_Dataset/Viral Pneumonia/images/Viral Pneumonia-343.png  \n",
            "  inflating: COVID-19_Radiography_Dataset/Viral Pneumonia/images/Viral Pneumonia-344.png  \n",
            "  inflating: COVID-19_Radiography_Dataset/Viral Pneumonia/images/Viral Pneumonia-345.png  \n",
            "  inflating: COVID-19_Radiography_Dataset/Viral Pneumonia/images/Viral Pneumonia-346.png  \n",
            "  inflating: COVID-19_Radiography_Dataset/Viral Pneumonia/images/Viral Pneumonia-347.png  \n",
            "  inflating: COVID-19_Radiography_Dataset/Viral Pneumonia/images/Viral Pneumonia-348.png  \n",
            "  inflating: COVID-19_Radiography_Dataset/Viral Pneumonia/images/Viral Pneumonia-349.png  \n",
            "  inflating: COVID-19_Radiography_Dataset/Viral Pneumonia/images/Viral Pneumonia-35.png  \n",
            "  inflating: COVID-19_Radiography_Dataset/Viral Pneumonia/images/Viral Pneumonia-350.png  \n",
            "  inflating: COVID-19_Radiography_Dataset/Viral Pneumonia/images/Viral Pneumonia-351.png  \n",
            "  inflating: COVID-19_Radiography_Dataset/Viral Pneumonia/images/Viral Pneumonia-352.png  \n",
            "  inflating: COVID-19_Radiography_Dataset/Viral Pneumonia/images/Viral Pneumonia-353.png  \n",
            "  inflating: COVID-19_Radiography_Dataset/Viral Pneumonia/images/Viral Pneumonia-354.png  \n",
            "  inflating: COVID-19_Radiography_Dataset/Viral Pneumonia/images/Viral Pneumonia-355.png  \n",
            "  inflating: COVID-19_Radiography_Dataset/Viral Pneumonia/images/Viral Pneumonia-356.png  \n",
            "  inflating: COVID-19_Radiography_Dataset/Viral Pneumonia/images/Viral Pneumonia-357.png  \n",
            "  inflating: COVID-19_Radiography_Dataset/Viral Pneumonia/images/Viral Pneumonia-358.png  \n",
            "  inflating: COVID-19_Radiography_Dataset/Viral Pneumonia/images/Viral Pneumonia-359.png  \n",
            "  inflating: COVID-19_Radiography_Dataset/Viral Pneumonia/images/Viral Pneumonia-36.png  \n",
            "  inflating: COVID-19_Radiography_Dataset/Viral Pneumonia/images/Viral Pneumonia-360.png  \n",
            "  inflating: COVID-19_Radiography_Dataset/Viral Pneumonia/images/Viral Pneumonia-361.png  \n",
            "  inflating: COVID-19_Radiography_Dataset/Viral Pneumonia/images/Viral Pneumonia-362.png  \n",
            "  inflating: COVID-19_Radiography_Dataset/Viral Pneumonia/images/Viral Pneumonia-363.png  \n",
            "  inflating: COVID-19_Radiography_Dataset/Viral Pneumonia/images/Viral Pneumonia-364.png  \n",
            "  inflating: COVID-19_Radiography_Dataset/Viral Pneumonia/images/Viral Pneumonia-365.png  \n",
            "  inflating: COVID-19_Radiography_Dataset/Viral Pneumonia/images/Viral Pneumonia-366.png  \n",
            "  inflating: COVID-19_Radiography_Dataset/Viral Pneumonia/images/Viral Pneumonia-367.png  \n",
            "  inflating: COVID-19_Radiography_Dataset/Viral Pneumonia/images/Viral Pneumonia-368.png  \n",
            "  inflating: COVID-19_Radiography_Dataset/Viral Pneumonia/images/Viral Pneumonia-369.png  \n",
            "  inflating: COVID-19_Radiography_Dataset/Viral Pneumonia/images/Viral Pneumonia-37.png  \n",
            "  inflating: COVID-19_Radiography_Dataset/Viral Pneumonia/images/Viral Pneumonia-370.png  \n",
            "  inflating: COVID-19_Radiography_Dataset/Viral Pneumonia/images/Viral Pneumonia-371.png  \n",
            "  inflating: COVID-19_Radiography_Dataset/Viral Pneumonia/images/Viral Pneumonia-372.png  \n",
            "  inflating: COVID-19_Radiography_Dataset/Viral Pneumonia/images/Viral Pneumonia-373.png  \n",
            "  inflating: COVID-19_Radiography_Dataset/Viral Pneumonia/images/Viral Pneumonia-374.png  \n",
            "  inflating: COVID-19_Radiography_Dataset/Viral Pneumonia/images/Viral Pneumonia-375.png  \n",
            "  inflating: COVID-19_Radiography_Dataset/Viral Pneumonia/images/Viral Pneumonia-376.png  \n",
            "  inflating: COVID-19_Radiography_Dataset/Viral Pneumonia/images/Viral Pneumonia-377.png  \n",
            "  inflating: COVID-19_Radiography_Dataset/Viral Pneumonia/images/Viral Pneumonia-378.png  \n",
            "  inflating: COVID-19_Radiography_Dataset/Viral Pneumonia/images/Viral Pneumonia-379.png  \n",
            "  inflating: COVID-19_Radiography_Dataset/Viral Pneumonia/images/Viral Pneumonia-38.png  \n",
            "  inflating: COVID-19_Radiography_Dataset/Viral Pneumonia/images/Viral Pneumonia-380.png  \n",
            "  inflating: COVID-19_Radiography_Dataset/Viral Pneumonia/images/Viral Pneumonia-381.png  \n",
            "  inflating: COVID-19_Radiography_Dataset/Viral Pneumonia/images/Viral Pneumonia-382.png  \n",
            "  inflating: COVID-19_Radiography_Dataset/Viral Pneumonia/images/Viral Pneumonia-383.png  \n",
            "  inflating: COVID-19_Radiography_Dataset/Viral Pneumonia/images/Viral Pneumonia-384.png  \n",
            "  inflating: COVID-19_Radiography_Dataset/Viral Pneumonia/images/Viral Pneumonia-385.png  \n",
            "  inflating: COVID-19_Radiography_Dataset/Viral Pneumonia/images/Viral Pneumonia-386.png  \n",
            "  inflating: COVID-19_Radiography_Dataset/Viral Pneumonia/images/Viral Pneumonia-387.png  \n",
            "  inflating: COVID-19_Radiography_Dataset/Viral Pneumonia/images/Viral Pneumonia-388.png  \n",
            "  inflating: COVID-19_Radiography_Dataset/Viral Pneumonia/images/Viral Pneumonia-389.png  \n",
            "  inflating: COVID-19_Radiography_Dataset/Viral Pneumonia/images/Viral Pneumonia-39.png  \n",
            "  inflating: COVID-19_Radiography_Dataset/Viral Pneumonia/images/Viral Pneumonia-390.png  \n",
            "  inflating: COVID-19_Radiography_Dataset/Viral Pneumonia/images/Viral Pneumonia-391.png  \n",
            "  inflating: COVID-19_Radiography_Dataset/Viral Pneumonia/images/Viral Pneumonia-392.png  \n",
            "  inflating: COVID-19_Radiography_Dataset/Viral Pneumonia/images/Viral Pneumonia-393.png  \n",
            "  inflating: COVID-19_Radiography_Dataset/Viral Pneumonia/images/Viral Pneumonia-394.png  \n",
            "  inflating: COVID-19_Radiography_Dataset/Viral Pneumonia/images/Viral Pneumonia-395.png  \n",
            "  inflating: COVID-19_Radiography_Dataset/Viral Pneumonia/images/Viral Pneumonia-396.png  \n",
            "  inflating: COVID-19_Radiography_Dataset/Viral Pneumonia/images/Viral Pneumonia-397.png  \n",
            "  inflating: COVID-19_Radiography_Dataset/Viral Pneumonia/images/Viral Pneumonia-398.png  \n",
            "  inflating: COVID-19_Radiography_Dataset/Viral Pneumonia/images/Viral Pneumonia-399.png  \n",
            "  inflating: COVID-19_Radiography_Dataset/Viral Pneumonia/images/Viral Pneumonia-4.png  \n",
            "  inflating: COVID-19_Radiography_Dataset/Viral Pneumonia/images/Viral Pneumonia-40.png  \n",
            "  inflating: COVID-19_Radiography_Dataset/Viral Pneumonia/images/Viral Pneumonia-400.png  \n",
            "  inflating: COVID-19_Radiography_Dataset/Viral Pneumonia/images/Viral Pneumonia-401.png  \n",
            "  inflating: COVID-19_Radiography_Dataset/Viral Pneumonia/images/Viral Pneumonia-402.png  \n",
            "  inflating: COVID-19_Radiography_Dataset/Viral Pneumonia/images/Viral Pneumonia-403.png  \n",
            "  inflating: COVID-19_Radiography_Dataset/Viral Pneumonia/images/Viral Pneumonia-404.png  \n",
            "  inflating: COVID-19_Radiography_Dataset/Viral Pneumonia/images/Viral Pneumonia-405.png  \n",
            "  inflating: COVID-19_Radiography_Dataset/Viral Pneumonia/images/Viral Pneumonia-406.png  \n",
            "  inflating: COVID-19_Radiography_Dataset/Viral Pneumonia/images/Viral Pneumonia-407.png  \n",
            "  inflating: COVID-19_Radiography_Dataset/Viral Pneumonia/images/Viral Pneumonia-408.png  \n",
            "  inflating: COVID-19_Radiography_Dataset/Viral Pneumonia/images/Viral Pneumonia-409.png  \n",
            "  inflating: COVID-19_Radiography_Dataset/Viral Pneumonia/images/Viral Pneumonia-41.png  \n",
            "  inflating: COVID-19_Radiography_Dataset/Viral Pneumonia/images/Viral Pneumonia-410.png  \n",
            "  inflating: COVID-19_Radiography_Dataset/Viral Pneumonia/images/Viral Pneumonia-411.png  \n",
            "  inflating: COVID-19_Radiography_Dataset/Viral Pneumonia/images/Viral Pneumonia-412.png  \n",
            "  inflating: COVID-19_Radiography_Dataset/Viral Pneumonia/images/Viral Pneumonia-413.png  \n",
            "  inflating: COVID-19_Radiography_Dataset/Viral Pneumonia/images/Viral Pneumonia-414.png  \n",
            "  inflating: COVID-19_Radiography_Dataset/Viral Pneumonia/images/Viral Pneumonia-415.png  \n",
            "  inflating: COVID-19_Radiography_Dataset/Viral Pneumonia/images/Viral Pneumonia-416.png  \n",
            "  inflating: COVID-19_Radiography_Dataset/Viral Pneumonia/images/Viral Pneumonia-417.png  \n",
            "  inflating: COVID-19_Radiography_Dataset/Viral Pneumonia/images/Viral Pneumonia-418.png  \n",
            "  inflating: COVID-19_Radiography_Dataset/Viral Pneumonia/images/Viral Pneumonia-419.png  \n",
            "  inflating: COVID-19_Radiography_Dataset/Viral Pneumonia/images/Viral Pneumonia-42.png  \n",
            "  inflating: COVID-19_Radiography_Dataset/Viral Pneumonia/images/Viral Pneumonia-420.png  \n",
            "  inflating: COVID-19_Radiography_Dataset/Viral Pneumonia/images/Viral Pneumonia-421.png  \n",
            "  inflating: COVID-19_Radiography_Dataset/Viral Pneumonia/images/Viral Pneumonia-422.png  \n",
            "  inflating: COVID-19_Radiography_Dataset/Viral Pneumonia/images/Viral Pneumonia-423.png  \n",
            "  inflating: COVID-19_Radiography_Dataset/Viral Pneumonia/images/Viral Pneumonia-424.png  \n",
            "  inflating: COVID-19_Radiography_Dataset/Viral Pneumonia/images/Viral Pneumonia-425.png  \n",
            "  inflating: COVID-19_Radiography_Dataset/Viral Pneumonia/images/Viral Pneumonia-426.png  \n",
            "  inflating: COVID-19_Radiography_Dataset/Viral Pneumonia/images/Viral Pneumonia-427.png  \n",
            "  inflating: COVID-19_Radiography_Dataset/Viral Pneumonia/images/Viral Pneumonia-428.png  \n",
            "  inflating: COVID-19_Radiography_Dataset/Viral Pneumonia/images/Viral Pneumonia-429.png  \n",
            "  inflating: COVID-19_Radiography_Dataset/Viral Pneumonia/images/Viral Pneumonia-43.png  \n",
            "  inflating: COVID-19_Radiography_Dataset/Viral Pneumonia/images/Viral Pneumonia-430.png  \n",
            "  inflating: COVID-19_Radiography_Dataset/Viral Pneumonia/images/Viral Pneumonia-431.png  \n",
            "  inflating: COVID-19_Radiography_Dataset/Viral Pneumonia/images/Viral Pneumonia-432.png  \n",
            "  inflating: COVID-19_Radiography_Dataset/Viral Pneumonia/images/Viral Pneumonia-433.png  \n",
            "  inflating: COVID-19_Radiography_Dataset/Viral Pneumonia/images/Viral Pneumonia-434.png  \n",
            "  inflating: COVID-19_Radiography_Dataset/Viral Pneumonia/images/Viral Pneumonia-435.png  \n",
            "  inflating: COVID-19_Radiography_Dataset/Viral Pneumonia/images/Viral Pneumonia-436.png  \n",
            "  inflating: COVID-19_Radiography_Dataset/Viral Pneumonia/images/Viral Pneumonia-437.png  \n",
            "  inflating: COVID-19_Radiography_Dataset/Viral Pneumonia/images/Viral Pneumonia-438.png  \n",
            "  inflating: COVID-19_Radiography_Dataset/Viral Pneumonia/images/Viral Pneumonia-439.png  \n",
            "  inflating: COVID-19_Radiography_Dataset/Viral Pneumonia/images/Viral Pneumonia-44.png  \n",
            "  inflating: COVID-19_Radiography_Dataset/Viral Pneumonia/images/Viral Pneumonia-440.png  \n",
            "  inflating: COVID-19_Radiography_Dataset/Viral Pneumonia/images/Viral Pneumonia-441.png  \n",
            "  inflating: COVID-19_Radiography_Dataset/Viral Pneumonia/images/Viral Pneumonia-442.png  \n",
            "  inflating: COVID-19_Radiography_Dataset/Viral Pneumonia/images/Viral Pneumonia-443.png  \n",
            "  inflating: COVID-19_Radiography_Dataset/Viral Pneumonia/images/Viral Pneumonia-444.png  \n",
            "  inflating: COVID-19_Radiography_Dataset/Viral Pneumonia/images/Viral Pneumonia-445.png  \n",
            "  inflating: COVID-19_Radiography_Dataset/Viral Pneumonia/images/Viral Pneumonia-446.png  \n",
            "  inflating: COVID-19_Radiography_Dataset/Viral Pneumonia/images/Viral Pneumonia-447.png  \n",
            "  inflating: COVID-19_Radiography_Dataset/Viral Pneumonia/images/Viral Pneumonia-448.png  \n",
            "  inflating: COVID-19_Radiography_Dataset/Viral Pneumonia/images/Viral Pneumonia-449.png  \n",
            "  inflating: COVID-19_Radiography_Dataset/Viral Pneumonia/images/Viral Pneumonia-45.png  \n",
            "  inflating: COVID-19_Radiography_Dataset/Viral Pneumonia/images/Viral Pneumonia-450.png  \n",
            "  inflating: COVID-19_Radiography_Dataset/Viral Pneumonia/images/Viral Pneumonia-451.png  \n",
            "  inflating: COVID-19_Radiography_Dataset/Viral Pneumonia/images/Viral Pneumonia-452.png  \n",
            "  inflating: COVID-19_Radiography_Dataset/Viral Pneumonia/images/Viral Pneumonia-453.png  \n",
            "  inflating: COVID-19_Radiography_Dataset/Viral Pneumonia/images/Viral Pneumonia-454.png  \n",
            "  inflating: COVID-19_Radiography_Dataset/Viral Pneumonia/images/Viral Pneumonia-455.png  \n",
            "  inflating: COVID-19_Radiography_Dataset/Viral Pneumonia/images/Viral Pneumonia-456.png  \n",
            "  inflating: COVID-19_Radiography_Dataset/Viral Pneumonia/images/Viral Pneumonia-457.png  \n",
            "  inflating: COVID-19_Radiography_Dataset/Viral Pneumonia/images/Viral Pneumonia-458.png  \n",
            "  inflating: COVID-19_Radiography_Dataset/Viral Pneumonia/images/Viral Pneumonia-459.png  \n",
            "  inflating: COVID-19_Radiography_Dataset/Viral Pneumonia/images/Viral Pneumonia-46.png  \n",
            "  inflating: COVID-19_Radiography_Dataset/Viral Pneumonia/images/Viral Pneumonia-460.png  \n",
            "  inflating: COVID-19_Radiography_Dataset/Viral Pneumonia/images/Viral Pneumonia-461.png  \n",
            "  inflating: COVID-19_Radiography_Dataset/Viral Pneumonia/images/Viral Pneumonia-462.png  \n",
            "  inflating: COVID-19_Radiography_Dataset/Viral Pneumonia/images/Viral Pneumonia-463.png  \n",
            "  inflating: COVID-19_Radiography_Dataset/Viral Pneumonia/images/Viral Pneumonia-464.png  \n",
            "  inflating: COVID-19_Radiography_Dataset/Viral Pneumonia/images/Viral Pneumonia-465.png  \n",
            "  inflating: COVID-19_Radiography_Dataset/Viral Pneumonia/images/Viral Pneumonia-466.png  \n",
            "  inflating: COVID-19_Radiography_Dataset/Viral Pneumonia/images/Viral Pneumonia-467.png  \n",
            "  inflating: COVID-19_Radiography_Dataset/Viral Pneumonia/images/Viral Pneumonia-468.png  \n",
            "  inflating: COVID-19_Radiography_Dataset/Viral Pneumonia/images/Viral Pneumonia-469.png  \n",
            "  inflating: COVID-19_Radiography_Dataset/Viral Pneumonia/images/Viral Pneumonia-47.png  \n",
            "  inflating: COVID-19_Radiography_Dataset/Viral Pneumonia/images/Viral Pneumonia-470.png  \n",
            "  inflating: COVID-19_Radiography_Dataset/Viral Pneumonia/images/Viral Pneumonia-471.png  \n",
            "  inflating: COVID-19_Radiography_Dataset/Viral Pneumonia/images/Viral Pneumonia-472.png  \n",
            "  inflating: COVID-19_Radiography_Dataset/Viral Pneumonia/images/Viral Pneumonia-473.png  \n",
            "  inflating: COVID-19_Radiography_Dataset/Viral Pneumonia/images/Viral Pneumonia-474.png  \n",
            "  inflating: COVID-19_Radiography_Dataset/Viral Pneumonia/images/Viral Pneumonia-475.png  \n",
            "  inflating: COVID-19_Radiography_Dataset/Viral Pneumonia/images/Viral Pneumonia-476.png  \n",
            "  inflating: COVID-19_Radiography_Dataset/Viral Pneumonia/images/Viral Pneumonia-477.png  \n",
            "  inflating: COVID-19_Radiography_Dataset/Viral Pneumonia/images/Viral Pneumonia-478.png  \n",
            "  inflating: COVID-19_Radiography_Dataset/Viral Pneumonia/images/Viral Pneumonia-479.png  \n",
            "  inflating: COVID-19_Radiography_Dataset/Viral Pneumonia/images/Viral Pneumonia-48.png  \n",
            "  inflating: COVID-19_Radiography_Dataset/Viral Pneumonia/images/Viral Pneumonia-480.png  \n",
            "  inflating: COVID-19_Radiography_Dataset/Viral Pneumonia/images/Viral Pneumonia-481.png  \n",
            "  inflating: COVID-19_Radiography_Dataset/Viral Pneumonia/images/Viral Pneumonia-482.png  \n",
            "  inflating: COVID-19_Radiography_Dataset/Viral Pneumonia/images/Viral Pneumonia-483.png  \n",
            "  inflating: COVID-19_Radiography_Dataset/Viral Pneumonia/images/Viral Pneumonia-484.png  \n",
            "  inflating: COVID-19_Radiography_Dataset/Viral Pneumonia/images/Viral Pneumonia-485.png  \n",
            "  inflating: COVID-19_Radiography_Dataset/Viral Pneumonia/images/Viral Pneumonia-486.png  \n",
            "  inflating: COVID-19_Radiography_Dataset/Viral Pneumonia/images/Viral Pneumonia-487.png  \n",
            "  inflating: COVID-19_Radiography_Dataset/Viral Pneumonia/images/Viral Pneumonia-488.png  \n",
            "  inflating: COVID-19_Radiography_Dataset/Viral Pneumonia/images/Viral Pneumonia-489.png  \n",
            "  inflating: COVID-19_Radiography_Dataset/Viral Pneumonia/images/Viral Pneumonia-49.png  \n",
            "  inflating: COVID-19_Radiography_Dataset/Viral Pneumonia/images/Viral Pneumonia-490.png  \n",
            "  inflating: COVID-19_Radiography_Dataset/Viral Pneumonia/images/Viral Pneumonia-491.png  \n",
            "  inflating: COVID-19_Radiography_Dataset/Viral Pneumonia/images/Viral Pneumonia-492.png  \n",
            "  inflating: COVID-19_Radiography_Dataset/Viral Pneumonia/images/Viral Pneumonia-493.png  \n",
            "  inflating: COVID-19_Radiography_Dataset/Viral Pneumonia/images/Viral Pneumonia-494.png  \n",
            "  inflating: COVID-19_Radiography_Dataset/Viral Pneumonia/images/Viral Pneumonia-495.png  \n",
            "  inflating: COVID-19_Radiography_Dataset/Viral Pneumonia/images/Viral Pneumonia-496.png  \n",
            "  inflating: COVID-19_Radiography_Dataset/Viral Pneumonia/images/Viral Pneumonia-497.png  \n",
            "  inflating: COVID-19_Radiography_Dataset/Viral Pneumonia/images/Viral Pneumonia-498.png  \n",
            "  inflating: COVID-19_Radiography_Dataset/Viral Pneumonia/images/Viral Pneumonia-499.png  \n",
            "  inflating: COVID-19_Radiography_Dataset/Viral Pneumonia/images/Viral Pneumonia-5.png  \n",
            "  inflating: COVID-19_Radiography_Dataset/Viral Pneumonia/images/Viral Pneumonia-50.png  \n",
            "  inflating: COVID-19_Radiography_Dataset/Viral Pneumonia/images/Viral Pneumonia-500.png  \n",
            "  inflating: COVID-19_Radiography_Dataset/Viral Pneumonia/images/Viral Pneumonia-501.png  \n",
            "  inflating: COVID-19_Radiography_Dataset/Viral Pneumonia/images/Viral Pneumonia-502.png  \n",
            "  inflating: COVID-19_Radiography_Dataset/Viral Pneumonia/images/Viral Pneumonia-503.png  \n",
            "  inflating: COVID-19_Radiography_Dataset/Viral Pneumonia/images/Viral Pneumonia-504.png  \n",
            "  inflating: COVID-19_Radiography_Dataset/Viral Pneumonia/images/Viral Pneumonia-505.png  \n",
            "  inflating: COVID-19_Radiography_Dataset/Viral Pneumonia/images/Viral Pneumonia-506.png  \n",
            "  inflating: COVID-19_Radiography_Dataset/Viral Pneumonia/images/Viral Pneumonia-507.png  \n",
            "  inflating: COVID-19_Radiography_Dataset/Viral Pneumonia/images/Viral Pneumonia-508.png  \n",
            "  inflating: COVID-19_Radiography_Dataset/Viral Pneumonia/images/Viral Pneumonia-509.png  \n",
            "  inflating: COVID-19_Radiography_Dataset/Viral Pneumonia/images/Viral Pneumonia-51.png  \n",
            "  inflating: COVID-19_Radiography_Dataset/Viral Pneumonia/images/Viral Pneumonia-510.png  \n",
            "  inflating: COVID-19_Radiography_Dataset/Viral Pneumonia/images/Viral Pneumonia-511.png  \n",
            "  inflating: COVID-19_Radiography_Dataset/Viral Pneumonia/images/Viral Pneumonia-512.png  \n",
            "  inflating: COVID-19_Radiography_Dataset/Viral Pneumonia/images/Viral Pneumonia-513.png  \n",
            "  inflating: COVID-19_Radiography_Dataset/Viral Pneumonia/images/Viral Pneumonia-514.png  \n",
            "  inflating: COVID-19_Radiography_Dataset/Viral Pneumonia/images/Viral Pneumonia-515.png  \n",
            "  inflating: COVID-19_Radiography_Dataset/Viral Pneumonia/images/Viral Pneumonia-516.png  \n",
            "  inflating: COVID-19_Radiography_Dataset/Viral Pneumonia/images/Viral Pneumonia-517.png  \n",
            "  inflating: COVID-19_Radiography_Dataset/Viral Pneumonia/images/Viral Pneumonia-518.png  \n",
            "  inflating: COVID-19_Radiography_Dataset/Viral Pneumonia/images/Viral Pneumonia-519.png  \n",
            "  inflating: COVID-19_Radiography_Dataset/Viral Pneumonia/images/Viral Pneumonia-52.png  \n",
            "  inflating: COVID-19_Radiography_Dataset/Viral Pneumonia/images/Viral Pneumonia-520.png  \n",
            "  inflating: COVID-19_Radiography_Dataset/Viral Pneumonia/images/Viral Pneumonia-521.png  \n",
            "  inflating: COVID-19_Radiography_Dataset/Viral Pneumonia/images/Viral Pneumonia-522.png  \n",
            "  inflating: COVID-19_Radiography_Dataset/Viral Pneumonia/images/Viral Pneumonia-523.png  \n",
            "  inflating: COVID-19_Radiography_Dataset/Viral Pneumonia/images/Viral Pneumonia-524.png  \n",
            "  inflating: COVID-19_Radiography_Dataset/Viral Pneumonia/images/Viral Pneumonia-525.png  \n",
            "  inflating: COVID-19_Radiography_Dataset/Viral Pneumonia/images/Viral Pneumonia-526.png  \n",
            "  inflating: COVID-19_Radiography_Dataset/Viral Pneumonia/images/Viral Pneumonia-527.png  \n",
            "  inflating: COVID-19_Radiography_Dataset/Viral Pneumonia/images/Viral Pneumonia-528.png  \n",
            "  inflating: COVID-19_Radiography_Dataset/Viral Pneumonia/images/Viral Pneumonia-529.png  \n",
            "  inflating: COVID-19_Radiography_Dataset/Viral Pneumonia/images/Viral Pneumonia-53.png  \n",
            "  inflating: COVID-19_Radiography_Dataset/Viral Pneumonia/images/Viral Pneumonia-530.png  \n",
            "  inflating: COVID-19_Radiography_Dataset/Viral Pneumonia/images/Viral Pneumonia-531.png  \n",
            "  inflating: COVID-19_Radiography_Dataset/Viral Pneumonia/images/Viral Pneumonia-532.png  \n",
            "  inflating: COVID-19_Radiography_Dataset/Viral Pneumonia/images/Viral Pneumonia-533.png  \n",
            "  inflating: COVID-19_Radiography_Dataset/Viral Pneumonia/images/Viral Pneumonia-534.png  \n",
            "  inflating: COVID-19_Radiography_Dataset/Viral Pneumonia/images/Viral Pneumonia-535.png  \n",
            "  inflating: COVID-19_Radiography_Dataset/Viral Pneumonia/images/Viral Pneumonia-536.png  \n",
            "  inflating: COVID-19_Radiography_Dataset/Viral Pneumonia/images/Viral Pneumonia-537.png  \n",
            "  inflating: COVID-19_Radiography_Dataset/Viral Pneumonia/images/Viral Pneumonia-538.png  \n",
            "  inflating: COVID-19_Radiography_Dataset/Viral Pneumonia/images/Viral Pneumonia-539.png  \n",
            "  inflating: COVID-19_Radiography_Dataset/Viral Pneumonia/images/Viral Pneumonia-54.png  \n",
            "  inflating: COVID-19_Radiography_Dataset/Viral Pneumonia/images/Viral Pneumonia-540.png  \n",
            "  inflating: COVID-19_Radiography_Dataset/Viral Pneumonia/images/Viral Pneumonia-541.png  \n",
            "  inflating: COVID-19_Radiography_Dataset/Viral Pneumonia/images/Viral Pneumonia-542.png  \n",
            "  inflating: COVID-19_Radiography_Dataset/Viral Pneumonia/images/Viral Pneumonia-543.png  \n",
            "  inflating: COVID-19_Radiography_Dataset/Viral Pneumonia/images/Viral Pneumonia-544.png  \n",
            "  inflating: COVID-19_Radiography_Dataset/Viral Pneumonia/images/Viral Pneumonia-545.png  \n",
            "  inflating: COVID-19_Radiography_Dataset/Viral Pneumonia/images/Viral Pneumonia-546.png  \n",
            "  inflating: COVID-19_Radiography_Dataset/Viral Pneumonia/images/Viral Pneumonia-547.png  \n",
            "  inflating: COVID-19_Radiography_Dataset/Viral Pneumonia/images/Viral Pneumonia-548.png  \n",
            "  inflating: COVID-19_Radiography_Dataset/Viral Pneumonia/images/Viral Pneumonia-549.png  \n",
            "  inflating: COVID-19_Radiography_Dataset/Viral Pneumonia/images/Viral Pneumonia-55.png  \n",
            "  inflating: COVID-19_Radiography_Dataset/Viral Pneumonia/images/Viral Pneumonia-550.png  \n",
            "  inflating: COVID-19_Radiography_Dataset/Viral Pneumonia/images/Viral Pneumonia-551.png  \n",
            "  inflating: COVID-19_Radiography_Dataset/Viral Pneumonia/images/Viral Pneumonia-552.png  \n",
            "  inflating: COVID-19_Radiography_Dataset/Viral Pneumonia/images/Viral Pneumonia-553.png  \n",
            "  inflating: COVID-19_Radiography_Dataset/Viral Pneumonia/images/Viral Pneumonia-554.png  \n",
            "  inflating: COVID-19_Radiography_Dataset/Viral Pneumonia/images/Viral Pneumonia-555.png  \n",
            "  inflating: COVID-19_Radiography_Dataset/Viral Pneumonia/images/Viral Pneumonia-556.png  \n",
            "  inflating: COVID-19_Radiography_Dataset/Viral Pneumonia/images/Viral Pneumonia-557.png  \n",
            "  inflating: COVID-19_Radiography_Dataset/Viral Pneumonia/images/Viral Pneumonia-558.png  \n",
            "  inflating: COVID-19_Radiography_Dataset/Viral Pneumonia/images/Viral Pneumonia-559.png  \n",
            "  inflating: COVID-19_Radiography_Dataset/Viral Pneumonia/images/Viral Pneumonia-56.png  \n",
            "  inflating: COVID-19_Radiography_Dataset/Viral Pneumonia/images/Viral Pneumonia-560.png  \n",
            "  inflating: COVID-19_Radiography_Dataset/Viral Pneumonia/images/Viral Pneumonia-561.png  \n",
            "  inflating: COVID-19_Radiography_Dataset/Viral Pneumonia/images/Viral Pneumonia-562.png  \n",
            "  inflating: COVID-19_Radiography_Dataset/Viral Pneumonia/images/Viral Pneumonia-563.png  \n",
            "  inflating: COVID-19_Radiography_Dataset/Viral Pneumonia/images/Viral Pneumonia-564.png  \n",
            "  inflating: COVID-19_Radiography_Dataset/Viral Pneumonia/images/Viral Pneumonia-565.png  \n",
            "  inflating: COVID-19_Radiography_Dataset/Viral Pneumonia/images/Viral Pneumonia-566.png  \n",
            "  inflating: COVID-19_Radiography_Dataset/Viral Pneumonia/images/Viral Pneumonia-567.png  \n",
            "  inflating: COVID-19_Radiography_Dataset/Viral Pneumonia/images/Viral Pneumonia-568.png  \n",
            "  inflating: COVID-19_Radiography_Dataset/Viral Pneumonia/images/Viral Pneumonia-569.png  \n",
            "  inflating: COVID-19_Radiography_Dataset/Viral Pneumonia/images/Viral Pneumonia-57.png  \n",
            "  inflating: COVID-19_Radiography_Dataset/Viral Pneumonia/images/Viral Pneumonia-570.png  \n",
            "  inflating: COVID-19_Radiography_Dataset/Viral Pneumonia/images/Viral Pneumonia-571.png  \n",
            "  inflating: COVID-19_Radiography_Dataset/Viral Pneumonia/images/Viral Pneumonia-572.png  \n",
            "  inflating: COVID-19_Radiography_Dataset/Viral Pneumonia/images/Viral Pneumonia-573.png  \n",
            "  inflating: COVID-19_Radiography_Dataset/Viral Pneumonia/images/Viral Pneumonia-574.png  \n",
            "  inflating: COVID-19_Radiography_Dataset/Viral Pneumonia/images/Viral Pneumonia-575.png  \n",
            "  inflating: COVID-19_Radiography_Dataset/Viral Pneumonia/images/Viral Pneumonia-576.png  \n",
            "  inflating: COVID-19_Radiography_Dataset/Viral Pneumonia/images/Viral Pneumonia-577.png  \n",
            "  inflating: COVID-19_Radiography_Dataset/Viral Pneumonia/images/Viral Pneumonia-578.png  \n",
            "  inflating: COVID-19_Radiography_Dataset/Viral Pneumonia/images/Viral Pneumonia-579.png  \n",
            "  inflating: COVID-19_Radiography_Dataset/Viral Pneumonia/images/Viral Pneumonia-58.png  \n",
            "  inflating: COVID-19_Radiography_Dataset/Viral Pneumonia/images/Viral Pneumonia-580.png  \n",
            "  inflating: COVID-19_Radiography_Dataset/Viral Pneumonia/images/Viral Pneumonia-581.png  \n",
            "  inflating: COVID-19_Radiography_Dataset/Viral Pneumonia/images/Viral Pneumonia-582.png  \n",
            "  inflating: COVID-19_Radiography_Dataset/Viral Pneumonia/images/Viral Pneumonia-583.png  \n",
            "  inflating: COVID-19_Radiography_Dataset/Viral Pneumonia/images/Viral Pneumonia-584.png  \n",
            "  inflating: COVID-19_Radiography_Dataset/Viral Pneumonia/images/Viral Pneumonia-585.png  \n",
            "  inflating: COVID-19_Radiography_Dataset/Viral Pneumonia/images/Viral Pneumonia-586.png  \n",
            "  inflating: COVID-19_Radiography_Dataset/Viral Pneumonia/images/Viral Pneumonia-587.png  \n",
            "  inflating: COVID-19_Radiography_Dataset/Viral Pneumonia/images/Viral Pneumonia-588.png  \n",
            "  inflating: COVID-19_Radiography_Dataset/Viral Pneumonia/images/Viral Pneumonia-589.png  \n",
            "  inflating: COVID-19_Radiography_Dataset/Viral Pneumonia/images/Viral Pneumonia-59.png  \n",
            "  inflating: COVID-19_Radiography_Dataset/Viral Pneumonia/images/Viral Pneumonia-590.png  \n",
            "  inflating: COVID-19_Radiography_Dataset/Viral Pneumonia/images/Viral Pneumonia-591.png  \n",
            "  inflating: COVID-19_Radiography_Dataset/Viral Pneumonia/images/Viral Pneumonia-592.png  \n",
            "  inflating: COVID-19_Radiography_Dataset/Viral Pneumonia/images/Viral Pneumonia-593.png  \n",
            "  inflating: COVID-19_Radiography_Dataset/Viral Pneumonia/images/Viral Pneumonia-594.png  \n",
            "  inflating: COVID-19_Radiography_Dataset/Viral Pneumonia/images/Viral Pneumonia-595.png  \n",
            "  inflating: COVID-19_Radiography_Dataset/Viral Pneumonia/images/Viral Pneumonia-596.png  \n",
            "  inflating: COVID-19_Radiography_Dataset/Viral Pneumonia/images/Viral Pneumonia-597.png  \n",
            "  inflating: COVID-19_Radiography_Dataset/Viral Pneumonia/images/Viral Pneumonia-598.png  \n",
            "  inflating: COVID-19_Radiography_Dataset/Viral Pneumonia/images/Viral Pneumonia-599.png  \n",
            "  inflating: COVID-19_Radiography_Dataset/Viral Pneumonia/images/Viral Pneumonia-6.png  \n",
            "  inflating: COVID-19_Radiography_Dataset/Viral Pneumonia/images/Viral Pneumonia-60.png  \n",
            "  inflating: COVID-19_Radiography_Dataset/Viral Pneumonia/images/Viral Pneumonia-600.png  \n",
            "  inflating: COVID-19_Radiography_Dataset/Viral Pneumonia/images/Viral Pneumonia-601.png  \n",
            "  inflating: COVID-19_Radiography_Dataset/Viral Pneumonia/images/Viral Pneumonia-602.png  \n",
            "  inflating: COVID-19_Radiography_Dataset/Viral Pneumonia/images/Viral Pneumonia-603.png  \n",
            "  inflating: COVID-19_Radiography_Dataset/Viral Pneumonia/images/Viral Pneumonia-604.png  \n",
            "  inflating: COVID-19_Radiography_Dataset/Viral Pneumonia/images/Viral Pneumonia-605.png  \n",
            "  inflating: COVID-19_Radiography_Dataset/Viral Pneumonia/images/Viral Pneumonia-606.png  \n",
            "  inflating: COVID-19_Radiography_Dataset/Viral Pneumonia/images/Viral Pneumonia-607.png  \n",
            "  inflating: COVID-19_Radiography_Dataset/Viral Pneumonia/images/Viral Pneumonia-608.png  \n",
            "  inflating: COVID-19_Radiography_Dataset/Viral Pneumonia/images/Viral Pneumonia-609.png  \n",
            "  inflating: COVID-19_Radiography_Dataset/Viral Pneumonia/images/Viral Pneumonia-61.png  \n",
            "  inflating: COVID-19_Radiography_Dataset/Viral Pneumonia/images/Viral Pneumonia-610.png  \n",
            "  inflating: COVID-19_Radiography_Dataset/Viral Pneumonia/images/Viral Pneumonia-611.png  \n",
            "  inflating: COVID-19_Radiography_Dataset/Viral Pneumonia/images/Viral Pneumonia-612.png  \n",
            "  inflating: COVID-19_Radiography_Dataset/Viral Pneumonia/images/Viral Pneumonia-613.png  \n",
            "  inflating: COVID-19_Radiography_Dataset/Viral Pneumonia/images/Viral Pneumonia-614.png  \n",
            "  inflating: COVID-19_Radiography_Dataset/Viral Pneumonia/images/Viral Pneumonia-615.png  \n",
            "  inflating: COVID-19_Radiography_Dataset/Viral Pneumonia/images/Viral Pneumonia-616.png  \n",
            "  inflating: COVID-19_Radiography_Dataset/Viral Pneumonia/images/Viral Pneumonia-617.png  \n",
            "  inflating: COVID-19_Radiography_Dataset/Viral Pneumonia/images/Viral Pneumonia-618.png  \n",
            "  inflating: COVID-19_Radiography_Dataset/Viral Pneumonia/images/Viral Pneumonia-619.png  \n",
            "  inflating: COVID-19_Radiography_Dataset/Viral Pneumonia/images/Viral Pneumonia-62.png  \n",
            "  inflating: COVID-19_Radiography_Dataset/Viral Pneumonia/images/Viral Pneumonia-620.png  \n",
            "  inflating: COVID-19_Radiography_Dataset/Viral Pneumonia/images/Viral Pneumonia-621.png  \n",
            "  inflating: COVID-19_Radiography_Dataset/Viral Pneumonia/images/Viral Pneumonia-622.png  \n",
            "  inflating: COVID-19_Radiography_Dataset/Viral Pneumonia/images/Viral Pneumonia-623.png  \n",
            "  inflating: COVID-19_Radiography_Dataset/Viral Pneumonia/images/Viral Pneumonia-624.png  \n",
            "  inflating: COVID-19_Radiography_Dataset/Viral Pneumonia/images/Viral Pneumonia-625.png  \n",
            "  inflating: COVID-19_Radiography_Dataset/Viral Pneumonia/images/Viral Pneumonia-626.png  \n",
            "  inflating: COVID-19_Radiography_Dataset/Viral Pneumonia/images/Viral Pneumonia-627.png  \n",
            "  inflating: COVID-19_Radiography_Dataset/Viral Pneumonia/images/Viral Pneumonia-628.png  \n",
            "  inflating: COVID-19_Radiography_Dataset/Viral Pneumonia/images/Viral Pneumonia-629.png  \n",
            "  inflating: COVID-19_Radiography_Dataset/Viral Pneumonia/images/Viral Pneumonia-63.png  \n",
            "  inflating: COVID-19_Radiography_Dataset/Viral Pneumonia/images/Viral Pneumonia-630.png  \n",
            "  inflating: COVID-19_Radiography_Dataset/Viral Pneumonia/images/Viral Pneumonia-631.png  \n",
            "  inflating: COVID-19_Radiography_Dataset/Viral Pneumonia/images/Viral Pneumonia-632.png  \n",
            "  inflating: COVID-19_Radiography_Dataset/Viral Pneumonia/images/Viral Pneumonia-633.png  \n",
            "  inflating: COVID-19_Radiography_Dataset/Viral Pneumonia/images/Viral Pneumonia-634.png  \n",
            "  inflating: COVID-19_Radiography_Dataset/Viral Pneumonia/images/Viral Pneumonia-635.png  \n",
            "  inflating: COVID-19_Radiography_Dataset/Viral Pneumonia/images/Viral Pneumonia-636.png  \n",
            "  inflating: COVID-19_Radiography_Dataset/Viral Pneumonia/images/Viral Pneumonia-637.png  \n",
            "  inflating: COVID-19_Radiography_Dataset/Viral Pneumonia/images/Viral Pneumonia-638.png  \n",
            "  inflating: COVID-19_Radiography_Dataset/Viral Pneumonia/images/Viral Pneumonia-639.png  \n",
            "  inflating: COVID-19_Radiography_Dataset/Viral Pneumonia/images/Viral Pneumonia-64.png  \n",
            "  inflating: COVID-19_Radiography_Dataset/Viral Pneumonia/images/Viral Pneumonia-640.png  \n",
            "  inflating: COVID-19_Radiography_Dataset/Viral Pneumonia/images/Viral Pneumonia-641.png  \n",
            "  inflating: COVID-19_Radiography_Dataset/Viral Pneumonia/images/Viral Pneumonia-642.png  \n",
            "  inflating: COVID-19_Radiography_Dataset/Viral Pneumonia/images/Viral Pneumonia-643.png  \n",
            "  inflating: COVID-19_Radiography_Dataset/Viral Pneumonia/images/Viral Pneumonia-644.png  \n",
            "  inflating: COVID-19_Radiography_Dataset/Viral Pneumonia/images/Viral Pneumonia-645.png  \n",
            "  inflating: COVID-19_Radiography_Dataset/Viral Pneumonia/images/Viral Pneumonia-646.png  \n",
            "  inflating: COVID-19_Radiography_Dataset/Viral Pneumonia/images/Viral Pneumonia-647.png  \n",
            "  inflating: COVID-19_Radiography_Dataset/Viral Pneumonia/images/Viral Pneumonia-648.png  \n",
            "  inflating: COVID-19_Radiography_Dataset/Viral Pneumonia/images/Viral Pneumonia-649.png  \n",
            "  inflating: COVID-19_Radiography_Dataset/Viral Pneumonia/images/Viral Pneumonia-65.png  \n",
            "  inflating: COVID-19_Radiography_Dataset/Viral Pneumonia/images/Viral Pneumonia-650.png  \n",
            "  inflating: COVID-19_Radiography_Dataset/Viral Pneumonia/images/Viral Pneumonia-651.png  \n",
            "  inflating: COVID-19_Radiography_Dataset/Viral Pneumonia/images/Viral Pneumonia-652.png  \n",
            "  inflating: COVID-19_Radiography_Dataset/Viral Pneumonia/images/Viral Pneumonia-653.png  \n",
            "  inflating: COVID-19_Radiography_Dataset/Viral Pneumonia/images/Viral Pneumonia-654.png  \n",
            "  inflating: COVID-19_Radiography_Dataset/Viral Pneumonia/images/Viral Pneumonia-655.png  \n",
            "  inflating: COVID-19_Radiography_Dataset/Viral Pneumonia/images/Viral Pneumonia-656.png  \n",
            "  inflating: COVID-19_Radiography_Dataset/Viral Pneumonia/images/Viral Pneumonia-657.png  \n",
            "  inflating: COVID-19_Radiography_Dataset/Viral Pneumonia/images/Viral Pneumonia-658.png  \n",
            "  inflating: COVID-19_Radiography_Dataset/Viral Pneumonia/images/Viral Pneumonia-659.png  \n",
            "  inflating: COVID-19_Radiography_Dataset/Viral Pneumonia/images/Viral Pneumonia-66.png  \n",
            "  inflating: COVID-19_Radiography_Dataset/Viral Pneumonia/images/Viral Pneumonia-660.png  \n",
            "  inflating: COVID-19_Radiography_Dataset/Viral Pneumonia/images/Viral Pneumonia-661.png  \n",
            "  inflating: COVID-19_Radiography_Dataset/Viral Pneumonia/images/Viral Pneumonia-662.png  \n",
            "  inflating: COVID-19_Radiography_Dataset/Viral Pneumonia/images/Viral Pneumonia-663.png  \n",
            "  inflating: COVID-19_Radiography_Dataset/Viral Pneumonia/images/Viral Pneumonia-664.png  \n",
            "  inflating: COVID-19_Radiography_Dataset/Viral Pneumonia/images/Viral Pneumonia-665.png  \n",
            "  inflating: COVID-19_Radiography_Dataset/Viral Pneumonia/images/Viral Pneumonia-666.png  \n",
            "  inflating: COVID-19_Radiography_Dataset/Viral Pneumonia/images/Viral Pneumonia-667.png  \n",
            "  inflating: COVID-19_Radiography_Dataset/Viral Pneumonia/images/Viral Pneumonia-668.png  \n",
            "  inflating: COVID-19_Radiography_Dataset/Viral Pneumonia/images/Viral Pneumonia-669.png  \n",
            "  inflating: COVID-19_Radiography_Dataset/Viral Pneumonia/images/Viral Pneumonia-67.png  \n",
            "  inflating: COVID-19_Radiography_Dataset/Viral Pneumonia/images/Viral Pneumonia-670.png  \n",
            "  inflating: COVID-19_Radiography_Dataset/Viral Pneumonia/images/Viral Pneumonia-671.png  \n",
            "  inflating: COVID-19_Radiography_Dataset/Viral Pneumonia/images/Viral Pneumonia-672.png  \n",
            "  inflating: COVID-19_Radiography_Dataset/Viral Pneumonia/images/Viral Pneumonia-673.png  \n",
            "  inflating: COVID-19_Radiography_Dataset/Viral Pneumonia/images/Viral Pneumonia-674.png  \n",
            "  inflating: COVID-19_Radiography_Dataset/Viral Pneumonia/images/Viral Pneumonia-675.png  \n",
            "  inflating: COVID-19_Radiography_Dataset/Viral Pneumonia/images/Viral Pneumonia-676.png  \n",
            "  inflating: COVID-19_Radiography_Dataset/Viral Pneumonia/images/Viral Pneumonia-677.png  \n",
            "  inflating: COVID-19_Radiography_Dataset/Viral Pneumonia/images/Viral Pneumonia-678.png  \n",
            "  inflating: COVID-19_Radiography_Dataset/Viral Pneumonia/images/Viral Pneumonia-679.png  \n",
            "  inflating: COVID-19_Radiography_Dataset/Viral Pneumonia/images/Viral Pneumonia-68.png  \n",
            "  inflating: COVID-19_Radiography_Dataset/Viral Pneumonia/images/Viral Pneumonia-680.png  \n",
            "  inflating: COVID-19_Radiography_Dataset/Viral Pneumonia/images/Viral Pneumonia-681.png  \n",
            "  inflating: COVID-19_Radiography_Dataset/Viral Pneumonia/images/Viral Pneumonia-682.png  \n",
            "  inflating: COVID-19_Radiography_Dataset/Viral Pneumonia/images/Viral Pneumonia-683.png  \n",
            "  inflating: COVID-19_Radiography_Dataset/Viral Pneumonia/images/Viral Pneumonia-684.png  \n",
            "  inflating: COVID-19_Radiography_Dataset/Viral Pneumonia/images/Viral Pneumonia-685.png  \n",
            "  inflating: COVID-19_Radiography_Dataset/Viral Pneumonia/images/Viral Pneumonia-686.png  \n",
            "  inflating: COVID-19_Radiography_Dataset/Viral Pneumonia/images/Viral Pneumonia-687.png  \n",
            "  inflating: COVID-19_Radiography_Dataset/Viral Pneumonia/images/Viral Pneumonia-688.png  \n",
            "  inflating: COVID-19_Radiography_Dataset/Viral Pneumonia/images/Viral Pneumonia-689.png  \n",
            "  inflating: COVID-19_Radiography_Dataset/Viral Pneumonia/images/Viral Pneumonia-69.png  \n",
            "  inflating: COVID-19_Radiography_Dataset/Viral Pneumonia/images/Viral Pneumonia-690.png  \n",
            "  inflating: COVID-19_Radiography_Dataset/Viral Pneumonia/images/Viral Pneumonia-691.png  \n",
            "  inflating: COVID-19_Radiography_Dataset/Viral Pneumonia/images/Viral Pneumonia-692.png  \n",
            "  inflating: COVID-19_Radiography_Dataset/Viral Pneumonia/images/Viral Pneumonia-693.png  \n",
            "  inflating: COVID-19_Radiography_Dataset/Viral Pneumonia/images/Viral Pneumonia-694.png  \n",
            "  inflating: COVID-19_Radiography_Dataset/Viral Pneumonia/images/Viral Pneumonia-695.png  \n",
            "  inflating: COVID-19_Radiography_Dataset/Viral Pneumonia/images/Viral Pneumonia-696.png  \n",
            "  inflating: COVID-19_Radiography_Dataset/Viral Pneumonia/images/Viral Pneumonia-697.png  \n",
            "  inflating: COVID-19_Radiography_Dataset/Viral Pneumonia/images/Viral Pneumonia-698.png  \n",
            "  inflating: COVID-19_Radiography_Dataset/Viral Pneumonia/images/Viral Pneumonia-699.png  \n",
            "  inflating: COVID-19_Radiography_Dataset/Viral Pneumonia/images/Viral Pneumonia-7.png  \n",
            "  inflating: COVID-19_Radiography_Dataset/Viral Pneumonia/images/Viral Pneumonia-70.png  \n",
            "  inflating: COVID-19_Radiography_Dataset/Viral Pneumonia/images/Viral Pneumonia-700.png  \n",
            "  inflating: COVID-19_Radiography_Dataset/Viral Pneumonia/images/Viral Pneumonia-701.png  \n",
            "  inflating: COVID-19_Radiography_Dataset/Viral Pneumonia/images/Viral Pneumonia-702.png  \n",
            "  inflating: COVID-19_Radiography_Dataset/Viral Pneumonia/images/Viral Pneumonia-703.png  \n",
            "  inflating: COVID-19_Radiography_Dataset/Viral Pneumonia/images/Viral Pneumonia-704.png  \n",
            "  inflating: COVID-19_Radiography_Dataset/Viral Pneumonia/images/Viral Pneumonia-705.png  \n",
            "  inflating: COVID-19_Radiography_Dataset/Viral Pneumonia/images/Viral Pneumonia-706.png  \n",
            "  inflating: COVID-19_Radiography_Dataset/Viral Pneumonia/images/Viral Pneumonia-707.png  \n",
            "  inflating: COVID-19_Radiography_Dataset/Viral Pneumonia/images/Viral Pneumonia-708.png  \n",
            "  inflating: COVID-19_Radiography_Dataset/Viral Pneumonia/images/Viral Pneumonia-709.png  \n",
            "  inflating: COVID-19_Radiography_Dataset/Viral Pneumonia/images/Viral Pneumonia-71.png  \n",
            "  inflating: COVID-19_Radiography_Dataset/Viral Pneumonia/images/Viral Pneumonia-710.png  \n",
            "  inflating: COVID-19_Radiography_Dataset/Viral Pneumonia/images/Viral Pneumonia-711.png  \n",
            "  inflating: COVID-19_Radiography_Dataset/Viral Pneumonia/images/Viral Pneumonia-712.png  \n",
            "  inflating: COVID-19_Radiography_Dataset/Viral Pneumonia/images/Viral Pneumonia-713.png  \n",
            "  inflating: COVID-19_Radiography_Dataset/Viral Pneumonia/images/Viral Pneumonia-714.png  \n",
            "  inflating: COVID-19_Radiography_Dataset/Viral Pneumonia/images/Viral Pneumonia-715.png  \n",
            "  inflating: COVID-19_Radiography_Dataset/Viral Pneumonia/images/Viral Pneumonia-716.png  \n",
            "  inflating: COVID-19_Radiography_Dataset/Viral Pneumonia/images/Viral Pneumonia-717.png  \n",
            "  inflating: COVID-19_Radiography_Dataset/Viral Pneumonia/images/Viral Pneumonia-718.png  \n",
            "  inflating: COVID-19_Radiography_Dataset/Viral Pneumonia/images/Viral Pneumonia-719.png  \n",
            "  inflating: COVID-19_Radiography_Dataset/Viral Pneumonia/images/Viral Pneumonia-72.png  \n",
            "  inflating: COVID-19_Radiography_Dataset/Viral Pneumonia/images/Viral Pneumonia-720.png  \n",
            "  inflating: COVID-19_Radiography_Dataset/Viral Pneumonia/images/Viral Pneumonia-721.png  \n",
            "  inflating: COVID-19_Radiography_Dataset/Viral Pneumonia/images/Viral Pneumonia-722.png  \n",
            "  inflating: COVID-19_Radiography_Dataset/Viral Pneumonia/images/Viral Pneumonia-723.png  \n",
            "  inflating: COVID-19_Radiography_Dataset/Viral Pneumonia/images/Viral Pneumonia-724.png  \n",
            "  inflating: COVID-19_Radiography_Dataset/Viral Pneumonia/images/Viral Pneumonia-725.png  \n",
            "  inflating: COVID-19_Radiography_Dataset/Viral Pneumonia/images/Viral Pneumonia-726.png  \n",
            "  inflating: COVID-19_Radiography_Dataset/Viral Pneumonia/images/Viral Pneumonia-727.png  \n",
            "  inflating: COVID-19_Radiography_Dataset/Viral Pneumonia/images/Viral Pneumonia-728.png  \n",
            "  inflating: COVID-19_Radiography_Dataset/Viral Pneumonia/images/Viral Pneumonia-729.png  \n",
            "  inflating: COVID-19_Radiography_Dataset/Viral Pneumonia/images/Viral Pneumonia-73.png  \n",
            "  inflating: COVID-19_Radiography_Dataset/Viral Pneumonia/images/Viral Pneumonia-730.png  \n",
            "  inflating: COVID-19_Radiography_Dataset/Viral Pneumonia/images/Viral Pneumonia-731.png  \n",
            "  inflating: COVID-19_Radiography_Dataset/Viral Pneumonia/images/Viral Pneumonia-732.png  \n",
            "  inflating: COVID-19_Radiography_Dataset/Viral Pneumonia/images/Viral Pneumonia-733.png  \n",
            "  inflating: COVID-19_Radiography_Dataset/Viral Pneumonia/images/Viral Pneumonia-734.png  \n",
            "  inflating: COVID-19_Radiography_Dataset/Viral Pneumonia/images/Viral Pneumonia-735.png  \n",
            "  inflating: COVID-19_Radiography_Dataset/Viral Pneumonia/images/Viral Pneumonia-736.png  \n",
            "  inflating: COVID-19_Radiography_Dataset/Viral Pneumonia/images/Viral Pneumonia-737.png  \n",
            "  inflating: COVID-19_Radiography_Dataset/Viral Pneumonia/images/Viral Pneumonia-738.png  \n",
            "  inflating: COVID-19_Radiography_Dataset/Viral Pneumonia/images/Viral Pneumonia-739.png  \n",
            "  inflating: COVID-19_Radiography_Dataset/Viral Pneumonia/images/Viral Pneumonia-74.png  \n",
            "  inflating: COVID-19_Radiography_Dataset/Viral Pneumonia/images/Viral Pneumonia-740.png  \n",
            "  inflating: COVID-19_Radiography_Dataset/Viral Pneumonia/images/Viral Pneumonia-741.png  \n",
            "  inflating: COVID-19_Radiography_Dataset/Viral Pneumonia/images/Viral Pneumonia-742.png  \n",
            "  inflating: COVID-19_Radiography_Dataset/Viral Pneumonia/images/Viral Pneumonia-743.png  \n",
            "  inflating: COVID-19_Radiography_Dataset/Viral Pneumonia/images/Viral Pneumonia-744.png  \n",
            "  inflating: COVID-19_Radiography_Dataset/Viral Pneumonia/images/Viral Pneumonia-745.png  \n",
            "  inflating: COVID-19_Radiography_Dataset/Viral Pneumonia/images/Viral Pneumonia-746.png  \n",
            "  inflating: COVID-19_Radiography_Dataset/Viral Pneumonia/images/Viral Pneumonia-747.png  \n",
            "  inflating: COVID-19_Radiography_Dataset/Viral Pneumonia/images/Viral Pneumonia-748.png  \n",
            "  inflating: COVID-19_Radiography_Dataset/Viral Pneumonia/images/Viral Pneumonia-749.png  \n",
            "  inflating: COVID-19_Radiography_Dataset/Viral Pneumonia/images/Viral Pneumonia-75.png  \n",
            "  inflating: COVID-19_Radiography_Dataset/Viral Pneumonia/images/Viral Pneumonia-750.png  \n",
            "  inflating: COVID-19_Radiography_Dataset/Viral Pneumonia/images/Viral Pneumonia-751.png  \n",
            "  inflating: COVID-19_Radiography_Dataset/Viral Pneumonia/images/Viral Pneumonia-752.png  \n",
            "  inflating: COVID-19_Radiography_Dataset/Viral Pneumonia/images/Viral Pneumonia-753.png  \n",
            "  inflating: COVID-19_Radiography_Dataset/Viral Pneumonia/images/Viral Pneumonia-754.png  \n",
            "  inflating: COVID-19_Radiography_Dataset/Viral Pneumonia/images/Viral Pneumonia-755.png  \n",
            "  inflating: COVID-19_Radiography_Dataset/Viral Pneumonia/images/Viral Pneumonia-756.png  \n",
            "  inflating: COVID-19_Radiography_Dataset/Viral Pneumonia/images/Viral Pneumonia-757.png  \n",
            "  inflating: COVID-19_Radiography_Dataset/Viral Pneumonia/images/Viral Pneumonia-758.png  \n",
            "  inflating: COVID-19_Radiography_Dataset/Viral Pneumonia/images/Viral Pneumonia-759.png  \n",
            "  inflating: COVID-19_Radiography_Dataset/Viral Pneumonia/images/Viral Pneumonia-76.png  \n",
            "  inflating: COVID-19_Radiography_Dataset/Viral Pneumonia/images/Viral Pneumonia-760.png  \n",
            "  inflating: COVID-19_Radiography_Dataset/Viral Pneumonia/images/Viral Pneumonia-761.png  \n",
            "  inflating: COVID-19_Radiography_Dataset/Viral Pneumonia/images/Viral Pneumonia-762.png  \n",
            "  inflating: COVID-19_Radiography_Dataset/Viral Pneumonia/images/Viral Pneumonia-763.png  \n",
            "  inflating: COVID-19_Radiography_Dataset/Viral Pneumonia/images/Viral Pneumonia-764.png  \n",
            "  inflating: COVID-19_Radiography_Dataset/Viral Pneumonia/images/Viral Pneumonia-765.png  \n",
            "  inflating: COVID-19_Radiography_Dataset/Viral Pneumonia/images/Viral Pneumonia-766.png  \n",
            "  inflating: COVID-19_Radiography_Dataset/Viral Pneumonia/images/Viral Pneumonia-767.png  \n",
            "  inflating: COVID-19_Radiography_Dataset/Viral Pneumonia/images/Viral Pneumonia-768.png  \n",
            "  inflating: COVID-19_Radiography_Dataset/Viral Pneumonia/images/Viral Pneumonia-769.png  \n",
            "  inflating: COVID-19_Radiography_Dataset/Viral Pneumonia/images/Viral Pneumonia-77.png  \n",
            "  inflating: COVID-19_Radiography_Dataset/Viral Pneumonia/images/Viral Pneumonia-770.png  \n",
            "  inflating: COVID-19_Radiography_Dataset/Viral Pneumonia/images/Viral Pneumonia-771.png  \n",
            "  inflating: COVID-19_Radiography_Dataset/Viral Pneumonia/images/Viral Pneumonia-772.png  \n",
            "  inflating: COVID-19_Radiography_Dataset/Viral Pneumonia/images/Viral Pneumonia-773.png  \n",
            "  inflating: COVID-19_Radiography_Dataset/Viral Pneumonia/images/Viral Pneumonia-774.png  \n",
            "  inflating: COVID-19_Radiography_Dataset/Viral Pneumonia/images/Viral Pneumonia-775.png  \n",
            "  inflating: COVID-19_Radiography_Dataset/Viral Pneumonia/images/Viral Pneumonia-776.png  \n",
            "  inflating: COVID-19_Radiography_Dataset/Viral Pneumonia/images/Viral Pneumonia-777.png  \n",
            "  inflating: COVID-19_Radiography_Dataset/Viral Pneumonia/images/Viral Pneumonia-778.png  \n",
            "  inflating: COVID-19_Radiography_Dataset/Viral Pneumonia/images/Viral Pneumonia-779.png  \n",
            "  inflating: COVID-19_Radiography_Dataset/Viral Pneumonia/images/Viral Pneumonia-78.png  \n",
            "  inflating: COVID-19_Radiography_Dataset/Viral Pneumonia/images/Viral Pneumonia-780.png  \n",
            "  inflating: COVID-19_Radiography_Dataset/Viral Pneumonia/images/Viral Pneumonia-781.png  \n",
            "  inflating: COVID-19_Radiography_Dataset/Viral Pneumonia/images/Viral Pneumonia-782.png  \n",
            "  inflating: COVID-19_Radiography_Dataset/Viral Pneumonia/images/Viral Pneumonia-783.png  \n",
            "  inflating: COVID-19_Radiography_Dataset/Viral Pneumonia/images/Viral Pneumonia-784.png  \n",
            "  inflating: COVID-19_Radiography_Dataset/Viral Pneumonia/images/Viral Pneumonia-785.png  \n",
            "  inflating: COVID-19_Radiography_Dataset/Viral Pneumonia/images/Viral Pneumonia-786.png  \n",
            "  inflating: COVID-19_Radiography_Dataset/Viral Pneumonia/images/Viral Pneumonia-787.png  \n",
            "  inflating: COVID-19_Radiography_Dataset/Viral Pneumonia/images/Viral Pneumonia-788.png  \n",
            "  inflating: COVID-19_Radiography_Dataset/Viral Pneumonia/images/Viral Pneumonia-789.png  \n",
            "  inflating: COVID-19_Radiography_Dataset/Viral Pneumonia/images/Viral Pneumonia-79.png  \n",
            "  inflating: COVID-19_Radiography_Dataset/Viral Pneumonia/images/Viral Pneumonia-790.png  \n",
            "  inflating: COVID-19_Radiography_Dataset/Viral Pneumonia/images/Viral Pneumonia-791.png  \n",
            "  inflating: COVID-19_Radiography_Dataset/Viral Pneumonia/images/Viral Pneumonia-792.png  \n",
            "  inflating: COVID-19_Radiography_Dataset/Viral Pneumonia/images/Viral Pneumonia-793.png  \n",
            "  inflating: COVID-19_Radiography_Dataset/Viral Pneumonia/images/Viral Pneumonia-794.png  \n",
            "  inflating: COVID-19_Radiography_Dataset/Viral Pneumonia/images/Viral Pneumonia-795.png  \n",
            "  inflating: COVID-19_Radiography_Dataset/Viral Pneumonia/images/Viral Pneumonia-796.png  \n",
            "  inflating: COVID-19_Radiography_Dataset/Viral Pneumonia/images/Viral Pneumonia-797.png  \n",
            "  inflating: COVID-19_Radiography_Dataset/Viral Pneumonia/images/Viral Pneumonia-798.png  \n",
            "  inflating: COVID-19_Radiography_Dataset/Viral Pneumonia/images/Viral Pneumonia-799.png  \n",
            "  inflating: COVID-19_Radiography_Dataset/Viral Pneumonia/images/Viral Pneumonia-8.png  \n",
            "  inflating: COVID-19_Radiography_Dataset/Viral Pneumonia/images/Viral Pneumonia-80.png  \n",
            "  inflating: COVID-19_Radiography_Dataset/Viral Pneumonia/images/Viral Pneumonia-800.png  \n",
            "  inflating: COVID-19_Radiography_Dataset/Viral Pneumonia/images/Viral Pneumonia-801.png  \n",
            "  inflating: COVID-19_Radiography_Dataset/Viral Pneumonia/images/Viral Pneumonia-802.png  \n",
            "  inflating: COVID-19_Radiography_Dataset/Viral Pneumonia/images/Viral Pneumonia-803.png  \n",
            "  inflating: COVID-19_Radiography_Dataset/Viral Pneumonia/images/Viral Pneumonia-804.png  \n",
            "  inflating: COVID-19_Radiography_Dataset/Viral Pneumonia/images/Viral Pneumonia-805.png  \n",
            "  inflating: COVID-19_Radiography_Dataset/Viral Pneumonia/images/Viral Pneumonia-806.png  \n",
            "  inflating: COVID-19_Radiography_Dataset/Viral Pneumonia/images/Viral Pneumonia-807.png  \n",
            "  inflating: COVID-19_Radiography_Dataset/Viral Pneumonia/images/Viral Pneumonia-808.png  \n",
            "  inflating: COVID-19_Radiography_Dataset/Viral Pneumonia/images/Viral Pneumonia-809.png  \n",
            "  inflating: COVID-19_Radiography_Dataset/Viral Pneumonia/images/Viral Pneumonia-81.png  \n",
            "  inflating: COVID-19_Radiography_Dataset/Viral Pneumonia/images/Viral Pneumonia-810.png  \n",
            "  inflating: COVID-19_Radiography_Dataset/Viral Pneumonia/images/Viral Pneumonia-811.png  \n",
            "  inflating: COVID-19_Radiography_Dataset/Viral Pneumonia/images/Viral Pneumonia-812.png  \n",
            "  inflating: COVID-19_Radiography_Dataset/Viral Pneumonia/images/Viral Pneumonia-813.png  \n",
            "  inflating: COVID-19_Radiography_Dataset/Viral Pneumonia/images/Viral Pneumonia-814.png  \n",
            "  inflating: COVID-19_Radiography_Dataset/Viral Pneumonia/images/Viral Pneumonia-815.png  \n",
            "  inflating: COVID-19_Radiography_Dataset/Viral Pneumonia/images/Viral Pneumonia-816.png  \n",
            "  inflating: COVID-19_Radiography_Dataset/Viral Pneumonia/images/Viral Pneumonia-817.png  \n",
            "  inflating: COVID-19_Radiography_Dataset/Viral Pneumonia/images/Viral Pneumonia-818.png  \n",
            "  inflating: COVID-19_Radiography_Dataset/Viral Pneumonia/images/Viral Pneumonia-819.png  \n",
            "  inflating: COVID-19_Radiography_Dataset/Viral Pneumonia/images/Viral Pneumonia-82.png  \n",
            "  inflating: COVID-19_Radiography_Dataset/Viral Pneumonia/images/Viral Pneumonia-820.png  \n",
            "  inflating: COVID-19_Radiography_Dataset/Viral Pneumonia/images/Viral Pneumonia-821.png  \n",
            "  inflating: COVID-19_Radiography_Dataset/Viral Pneumonia/images/Viral Pneumonia-822.png  \n",
            "  inflating: COVID-19_Radiography_Dataset/Viral Pneumonia/images/Viral Pneumonia-823.png  \n",
            "  inflating: COVID-19_Radiography_Dataset/Viral Pneumonia/images/Viral Pneumonia-824.png  \n",
            "  inflating: COVID-19_Radiography_Dataset/Viral Pneumonia/images/Viral Pneumonia-825.png  \n",
            "  inflating: COVID-19_Radiography_Dataset/Viral Pneumonia/images/Viral Pneumonia-826.png  \n",
            "  inflating: COVID-19_Radiography_Dataset/Viral Pneumonia/images/Viral Pneumonia-827.png  \n",
            "  inflating: COVID-19_Radiography_Dataset/Viral Pneumonia/images/Viral Pneumonia-828.png  \n",
            "  inflating: COVID-19_Radiography_Dataset/Viral Pneumonia/images/Viral Pneumonia-829.png  \n",
            "  inflating: COVID-19_Radiography_Dataset/Viral Pneumonia/images/Viral Pneumonia-83.png  \n",
            "  inflating: COVID-19_Radiography_Dataset/Viral Pneumonia/images/Viral Pneumonia-830.png  \n",
            "  inflating: COVID-19_Radiography_Dataset/Viral Pneumonia/images/Viral Pneumonia-831.png  \n",
            "  inflating: COVID-19_Radiography_Dataset/Viral Pneumonia/images/Viral Pneumonia-832.png  \n",
            "  inflating: COVID-19_Radiography_Dataset/Viral Pneumonia/images/Viral Pneumonia-833.png  \n",
            "  inflating: COVID-19_Radiography_Dataset/Viral Pneumonia/images/Viral Pneumonia-834.png  \n",
            "  inflating: COVID-19_Radiography_Dataset/Viral Pneumonia/images/Viral Pneumonia-835.png  \n",
            "  inflating: COVID-19_Radiography_Dataset/Viral Pneumonia/images/Viral Pneumonia-836.png  \n",
            "  inflating: COVID-19_Radiography_Dataset/Viral Pneumonia/images/Viral Pneumonia-837.png  \n",
            "  inflating: COVID-19_Radiography_Dataset/Viral Pneumonia/images/Viral Pneumonia-838.png  \n",
            "  inflating: COVID-19_Radiography_Dataset/Viral Pneumonia/images/Viral Pneumonia-839.png  \n",
            "  inflating: COVID-19_Radiography_Dataset/Viral Pneumonia/images/Viral Pneumonia-84.png  \n",
            "  inflating: COVID-19_Radiography_Dataset/Viral Pneumonia/images/Viral Pneumonia-840.png  \n",
            "  inflating: COVID-19_Radiography_Dataset/Viral Pneumonia/images/Viral Pneumonia-841.png  \n",
            "  inflating: COVID-19_Radiography_Dataset/Viral Pneumonia/images/Viral Pneumonia-842.png  \n",
            "  inflating: COVID-19_Radiography_Dataset/Viral Pneumonia/images/Viral Pneumonia-843.png  \n",
            "  inflating: COVID-19_Radiography_Dataset/Viral Pneumonia/images/Viral Pneumonia-844.png  \n",
            "  inflating: COVID-19_Radiography_Dataset/Viral Pneumonia/images/Viral Pneumonia-845.png  \n",
            "  inflating: COVID-19_Radiography_Dataset/Viral Pneumonia/images/Viral Pneumonia-846.png  \n",
            "  inflating: COVID-19_Radiography_Dataset/Viral Pneumonia/images/Viral Pneumonia-847.png  \n",
            "  inflating: COVID-19_Radiography_Dataset/Viral Pneumonia/images/Viral Pneumonia-848.png  \n",
            "  inflating: COVID-19_Radiography_Dataset/Viral Pneumonia/images/Viral Pneumonia-849.png  \n",
            "  inflating: COVID-19_Radiography_Dataset/Viral Pneumonia/images/Viral Pneumonia-85.png  \n",
            "  inflating: COVID-19_Radiography_Dataset/Viral Pneumonia/images/Viral Pneumonia-850.png  \n",
            "  inflating: COVID-19_Radiography_Dataset/Viral Pneumonia/images/Viral Pneumonia-851.png  \n",
            "  inflating: COVID-19_Radiography_Dataset/Viral Pneumonia/images/Viral Pneumonia-852.png  \n",
            "  inflating: COVID-19_Radiography_Dataset/Viral Pneumonia/images/Viral Pneumonia-853.png  \n",
            "  inflating: COVID-19_Radiography_Dataset/Viral Pneumonia/images/Viral Pneumonia-854.png  \n",
            "  inflating: COVID-19_Radiography_Dataset/Viral Pneumonia/images/Viral Pneumonia-855.png  \n",
            "  inflating: COVID-19_Radiography_Dataset/Viral Pneumonia/images/Viral Pneumonia-856.png  \n",
            "  inflating: COVID-19_Radiography_Dataset/Viral Pneumonia/images/Viral Pneumonia-857.png  \n",
            "  inflating: COVID-19_Radiography_Dataset/Viral Pneumonia/images/Viral Pneumonia-858.png  \n",
            "  inflating: COVID-19_Radiography_Dataset/Viral Pneumonia/images/Viral Pneumonia-859.png  \n",
            "  inflating: COVID-19_Radiography_Dataset/Viral Pneumonia/images/Viral Pneumonia-86.png  \n",
            "  inflating: COVID-19_Radiography_Dataset/Viral Pneumonia/images/Viral Pneumonia-860.png  \n",
            "  inflating: COVID-19_Radiography_Dataset/Viral Pneumonia/images/Viral Pneumonia-861.png  \n",
            "  inflating: COVID-19_Radiography_Dataset/Viral Pneumonia/images/Viral Pneumonia-862.png  \n",
            "  inflating: COVID-19_Radiography_Dataset/Viral Pneumonia/images/Viral Pneumonia-863.png  \n",
            "  inflating: COVID-19_Radiography_Dataset/Viral Pneumonia/images/Viral Pneumonia-864.png  \n",
            "  inflating: COVID-19_Radiography_Dataset/Viral Pneumonia/images/Viral Pneumonia-865.png  \n",
            "  inflating: COVID-19_Radiography_Dataset/Viral Pneumonia/images/Viral Pneumonia-866.png  \n",
            "  inflating: COVID-19_Radiography_Dataset/Viral Pneumonia/images/Viral Pneumonia-867.png  \n",
            "  inflating: COVID-19_Radiography_Dataset/Viral Pneumonia/images/Viral Pneumonia-868.png  \n",
            "  inflating: COVID-19_Radiography_Dataset/Viral Pneumonia/images/Viral Pneumonia-869.png  \n",
            "  inflating: COVID-19_Radiography_Dataset/Viral Pneumonia/images/Viral Pneumonia-87.png  \n",
            "  inflating: COVID-19_Radiography_Dataset/Viral Pneumonia/images/Viral Pneumonia-870.png  \n",
            "  inflating: COVID-19_Radiography_Dataset/Viral Pneumonia/images/Viral Pneumonia-871.png  \n",
            "  inflating: COVID-19_Radiography_Dataset/Viral Pneumonia/images/Viral Pneumonia-872.png  \n",
            "  inflating: COVID-19_Radiography_Dataset/Viral Pneumonia/images/Viral Pneumonia-873.png  \n",
            "  inflating: COVID-19_Radiography_Dataset/Viral Pneumonia/images/Viral Pneumonia-874.png  \n",
            "  inflating: COVID-19_Radiography_Dataset/Viral Pneumonia/images/Viral Pneumonia-875.png  \n",
            "  inflating: COVID-19_Radiography_Dataset/Viral Pneumonia/images/Viral Pneumonia-876.png  \n",
            "  inflating: COVID-19_Radiography_Dataset/Viral Pneumonia/images/Viral Pneumonia-877.png  \n",
            "  inflating: COVID-19_Radiography_Dataset/Viral Pneumonia/images/Viral Pneumonia-878.png  \n",
            "  inflating: COVID-19_Radiography_Dataset/Viral Pneumonia/images/Viral Pneumonia-879.png  \n",
            "  inflating: COVID-19_Radiography_Dataset/Viral Pneumonia/images/Viral Pneumonia-88.png  \n",
            "  inflating: COVID-19_Radiography_Dataset/Viral Pneumonia/images/Viral Pneumonia-880.png  \n",
            "  inflating: COVID-19_Radiography_Dataset/Viral Pneumonia/images/Viral Pneumonia-881.png  \n",
            "  inflating: COVID-19_Radiography_Dataset/Viral Pneumonia/images/Viral Pneumonia-882.png  \n",
            "  inflating: COVID-19_Radiography_Dataset/Viral Pneumonia/images/Viral Pneumonia-883.png  \n",
            "  inflating: COVID-19_Radiography_Dataset/Viral Pneumonia/images/Viral Pneumonia-884.png  \n",
            "  inflating: COVID-19_Radiography_Dataset/Viral Pneumonia/images/Viral Pneumonia-885.png  \n",
            "  inflating: COVID-19_Radiography_Dataset/Viral Pneumonia/images/Viral Pneumonia-886.png  \n",
            "  inflating: COVID-19_Radiography_Dataset/Viral Pneumonia/images/Viral Pneumonia-887.png  \n",
            "  inflating: COVID-19_Radiography_Dataset/Viral Pneumonia/images/Viral Pneumonia-888.png  \n",
            "  inflating: COVID-19_Radiography_Dataset/Viral Pneumonia/images/Viral Pneumonia-889.png  \n",
            "  inflating: COVID-19_Radiography_Dataset/Viral Pneumonia/images/Viral Pneumonia-89.png  \n",
            "  inflating: COVID-19_Radiography_Dataset/Viral Pneumonia/images/Viral Pneumonia-890.png  \n",
            "  inflating: COVID-19_Radiography_Dataset/Viral Pneumonia/images/Viral Pneumonia-891.png  \n",
            "  inflating: COVID-19_Radiography_Dataset/Viral Pneumonia/images/Viral Pneumonia-892.png  \n",
            "  inflating: COVID-19_Radiography_Dataset/Viral Pneumonia/images/Viral Pneumonia-893.png  \n",
            "  inflating: COVID-19_Radiography_Dataset/Viral Pneumonia/images/Viral Pneumonia-894.png  \n",
            "  inflating: COVID-19_Radiography_Dataset/Viral Pneumonia/images/Viral Pneumonia-895.png  \n",
            "  inflating: COVID-19_Radiography_Dataset/Viral Pneumonia/images/Viral Pneumonia-896.png  \n",
            "  inflating: COVID-19_Radiography_Dataset/Viral Pneumonia/images/Viral Pneumonia-897.png  \n",
            "  inflating: COVID-19_Radiography_Dataset/Viral Pneumonia/images/Viral Pneumonia-898.png  \n",
            "  inflating: COVID-19_Radiography_Dataset/Viral Pneumonia/images/Viral Pneumonia-899.png  \n",
            "  inflating: COVID-19_Radiography_Dataset/Viral Pneumonia/images/Viral Pneumonia-9.png  \n",
            "  inflating: COVID-19_Radiography_Dataset/Viral Pneumonia/images/Viral Pneumonia-90.png  \n",
            "  inflating: COVID-19_Radiography_Dataset/Viral Pneumonia/images/Viral Pneumonia-900.png  \n",
            "  inflating: COVID-19_Radiography_Dataset/Viral Pneumonia/images/Viral Pneumonia-901.png  \n",
            "  inflating: COVID-19_Radiography_Dataset/Viral Pneumonia/images/Viral Pneumonia-902.png  \n",
            "  inflating: COVID-19_Radiography_Dataset/Viral Pneumonia/images/Viral Pneumonia-903.png  \n",
            "  inflating: COVID-19_Radiography_Dataset/Viral Pneumonia/images/Viral Pneumonia-904.png  \n",
            "  inflating: COVID-19_Radiography_Dataset/Viral Pneumonia/images/Viral Pneumonia-905.png  \n",
            "  inflating: COVID-19_Radiography_Dataset/Viral Pneumonia/images/Viral Pneumonia-906.png  \n",
            "  inflating: COVID-19_Radiography_Dataset/Viral Pneumonia/images/Viral Pneumonia-907.png  \n",
            "  inflating: COVID-19_Radiography_Dataset/Viral Pneumonia/images/Viral Pneumonia-908.png  \n",
            "  inflating: COVID-19_Radiography_Dataset/Viral Pneumonia/images/Viral Pneumonia-909.png  \n",
            "  inflating: COVID-19_Radiography_Dataset/Viral Pneumonia/images/Viral Pneumonia-91.png  \n",
            "  inflating: COVID-19_Radiography_Dataset/Viral Pneumonia/images/Viral Pneumonia-910.png  \n",
            "  inflating: COVID-19_Radiography_Dataset/Viral Pneumonia/images/Viral Pneumonia-911.png  \n",
            "  inflating: COVID-19_Radiography_Dataset/Viral Pneumonia/images/Viral Pneumonia-912.png  \n",
            "  inflating: COVID-19_Radiography_Dataset/Viral Pneumonia/images/Viral Pneumonia-913.png  \n",
            "  inflating: COVID-19_Radiography_Dataset/Viral Pneumonia/images/Viral Pneumonia-914.png  \n",
            "  inflating: COVID-19_Radiography_Dataset/Viral Pneumonia/images/Viral Pneumonia-915.png  \n",
            "  inflating: COVID-19_Radiography_Dataset/Viral Pneumonia/images/Viral Pneumonia-916.png  \n",
            "  inflating: COVID-19_Radiography_Dataset/Viral Pneumonia/images/Viral Pneumonia-917.png  \n",
            "  inflating: COVID-19_Radiography_Dataset/Viral Pneumonia/images/Viral Pneumonia-918.png  \n",
            "  inflating: COVID-19_Radiography_Dataset/Viral Pneumonia/images/Viral Pneumonia-919.png  \n",
            "  inflating: COVID-19_Radiography_Dataset/Viral Pneumonia/images/Viral Pneumonia-92.png  \n",
            "  inflating: COVID-19_Radiography_Dataset/Viral Pneumonia/images/Viral Pneumonia-920.png  \n",
            "  inflating: COVID-19_Radiography_Dataset/Viral Pneumonia/images/Viral Pneumonia-921.png  \n",
            "  inflating: COVID-19_Radiography_Dataset/Viral Pneumonia/images/Viral Pneumonia-922.png  \n",
            "  inflating: COVID-19_Radiography_Dataset/Viral Pneumonia/images/Viral Pneumonia-923.png  \n",
            "  inflating: COVID-19_Radiography_Dataset/Viral Pneumonia/images/Viral Pneumonia-924.png  \n",
            "  inflating: COVID-19_Radiography_Dataset/Viral Pneumonia/images/Viral Pneumonia-925.png  \n",
            "  inflating: COVID-19_Radiography_Dataset/Viral Pneumonia/images/Viral Pneumonia-926.png  \n",
            "  inflating: COVID-19_Radiography_Dataset/Viral Pneumonia/images/Viral Pneumonia-927.png  \n",
            "  inflating: COVID-19_Radiography_Dataset/Viral Pneumonia/images/Viral Pneumonia-928.png  \n",
            "  inflating: COVID-19_Radiography_Dataset/Viral Pneumonia/images/Viral Pneumonia-929.png  \n",
            "  inflating: COVID-19_Radiography_Dataset/Viral Pneumonia/images/Viral Pneumonia-93.png  \n",
            "  inflating: COVID-19_Radiography_Dataset/Viral Pneumonia/images/Viral Pneumonia-930.png  \n",
            "  inflating: COVID-19_Radiography_Dataset/Viral Pneumonia/images/Viral Pneumonia-931.png  \n",
            "  inflating: COVID-19_Radiography_Dataset/Viral Pneumonia/images/Viral Pneumonia-932.png  \n",
            "  inflating: COVID-19_Radiography_Dataset/Viral Pneumonia/images/Viral Pneumonia-933.png  \n",
            "  inflating: COVID-19_Radiography_Dataset/Viral Pneumonia/images/Viral Pneumonia-934.png  \n",
            "  inflating: COVID-19_Radiography_Dataset/Viral Pneumonia/images/Viral Pneumonia-935.png  \n",
            "  inflating: COVID-19_Radiography_Dataset/Viral Pneumonia/images/Viral Pneumonia-936.png  \n",
            "  inflating: COVID-19_Radiography_Dataset/Viral Pneumonia/images/Viral Pneumonia-937.png  \n",
            "  inflating: COVID-19_Radiography_Dataset/Viral Pneumonia/images/Viral Pneumonia-938.png  \n",
            "  inflating: COVID-19_Radiography_Dataset/Viral Pneumonia/images/Viral Pneumonia-939.png  \n",
            "  inflating: COVID-19_Radiography_Dataset/Viral Pneumonia/images/Viral Pneumonia-94.png  \n",
            "  inflating: COVID-19_Radiography_Dataset/Viral Pneumonia/images/Viral Pneumonia-940.png  \n",
            "  inflating: COVID-19_Radiography_Dataset/Viral Pneumonia/images/Viral Pneumonia-941.png  \n",
            "  inflating: COVID-19_Radiography_Dataset/Viral Pneumonia/images/Viral Pneumonia-942.png  \n",
            "  inflating: COVID-19_Radiography_Dataset/Viral Pneumonia/images/Viral Pneumonia-943.png  \n",
            "  inflating: COVID-19_Radiography_Dataset/Viral Pneumonia/images/Viral Pneumonia-944.png  \n",
            "  inflating: COVID-19_Radiography_Dataset/Viral Pneumonia/images/Viral Pneumonia-945.png  \n",
            "  inflating: COVID-19_Radiography_Dataset/Viral Pneumonia/images/Viral Pneumonia-946.png  \n",
            "  inflating: COVID-19_Radiography_Dataset/Viral Pneumonia/images/Viral Pneumonia-947.png  \n",
            "  inflating: COVID-19_Radiography_Dataset/Viral Pneumonia/images/Viral Pneumonia-948.png  \n",
            "  inflating: COVID-19_Radiography_Dataset/Viral Pneumonia/images/Viral Pneumonia-949.png  \n",
            "  inflating: COVID-19_Radiography_Dataset/Viral Pneumonia/images/Viral Pneumonia-95.png  \n",
            "  inflating: COVID-19_Radiography_Dataset/Viral Pneumonia/images/Viral Pneumonia-950.png  \n",
            "  inflating: COVID-19_Radiography_Dataset/Viral Pneumonia/images/Viral Pneumonia-951.png  \n",
            "  inflating: COVID-19_Radiography_Dataset/Viral Pneumonia/images/Viral Pneumonia-952.png  \n",
            "  inflating: COVID-19_Radiography_Dataset/Viral Pneumonia/images/Viral Pneumonia-953.png  \n",
            "  inflating: COVID-19_Radiography_Dataset/Viral Pneumonia/images/Viral Pneumonia-954.png  \n",
            "  inflating: COVID-19_Radiography_Dataset/Viral Pneumonia/images/Viral Pneumonia-955.png  \n",
            "  inflating: COVID-19_Radiography_Dataset/Viral Pneumonia/images/Viral Pneumonia-956.png  \n",
            "  inflating: COVID-19_Radiography_Dataset/Viral Pneumonia/images/Viral Pneumonia-957.png  \n",
            "  inflating: COVID-19_Radiography_Dataset/Viral Pneumonia/images/Viral Pneumonia-958.png  \n",
            "  inflating: COVID-19_Radiography_Dataset/Viral Pneumonia/images/Viral Pneumonia-959.png  \n",
            "  inflating: COVID-19_Radiography_Dataset/Viral Pneumonia/images/Viral Pneumonia-96.png  \n",
            "  inflating: COVID-19_Radiography_Dataset/Viral Pneumonia/images/Viral Pneumonia-960.png  \n",
            "  inflating: COVID-19_Radiography_Dataset/Viral Pneumonia/images/Viral Pneumonia-961.png  \n",
            "  inflating: COVID-19_Radiography_Dataset/Viral Pneumonia/images/Viral Pneumonia-962.png  \n",
            "  inflating: COVID-19_Radiography_Dataset/Viral Pneumonia/images/Viral Pneumonia-963.png  \n",
            "  inflating: COVID-19_Radiography_Dataset/Viral Pneumonia/images/Viral Pneumonia-964.png  \n",
            "  inflating: COVID-19_Radiography_Dataset/Viral Pneumonia/images/Viral Pneumonia-965.png  \n",
            "  inflating: COVID-19_Radiography_Dataset/Viral Pneumonia/images/Viral Pneumonia-966.png  \n",
            "  inflating: COVID-19_Radiography_Dataset/Viral Pneumonia/images/Viral Pneumonia-967.png  \n",
            "  inflating: COVID-19_Radiography_Dataset/Viral Pneumonia/images/Viral Pneumonia-968.png  \n",
            "  inflating: COVID-19_Radiography_Dataset/Viral Pneumonia/images/Viral Pneumonia-969.png  \n",
            "  inflating: COVID-19_Radiography_Dataset/Viral Pneumonia/images/Viral Pneumonia-97.png  \n",
            "  inflating: COVID-19_Radiography_Dataset/Viral Pneumonia/images/Viral Pneumonia-970.png  \n",
            "  inflating: COVID-19_Radiography_Dataset/Viral Pneumonia/images/Viral Pneumonia-971.png  \n",
            "  inflating: COVID-19_Radiography_Dataset/Viral Pneumonia/images/Viral Pneumonia-972.png  \n",
            "  inflating: COVID-19_Radiography_Dataset/Viral Pneumonia/images/Viral Pneumonia-973.png  \n",
            "  inflating: COVID-19_Radiography_Dataset/Viral Pneumonia/images/Viral Pneumonia-974.png  \n",
            "  inflating: COVID-19_Radiography_Dataset/Viral Pneumonia/images/Viral Pneumonia-975.png  \n",
            "  inflating: COVID-19_Radiography_Dataset/Viral Pneumonia/images/Viral Pneumonia-976.png  \n",
            "  inflating: COVID-19_Radiography_Dataset/Viral Pneumonia/images/Viral Pneumonia-977.png  \n",
            "  inflating: COVID-19_Radiography_Dataset/Viral Pneumonia/images/Viral Pneumonia-978.png  \n",
            "  inflating: COVID-19_Radiography_Dataset/Viral Pneumonia/images/Viral Pneumonia-979.png  \n",
            "  inflating: COVID-19_Radiography_Dataset/Viral Pneumonia/images/Viral Pneumonia-98.png  \n",
            "  inflating: COVID-19_Radiography_Dataset/Viral Pneumonia/images/Viral Pneumonia-980.png  \n",
            "  inflating: COVID-19_Radiography_Dataset/Viral Pneumonia/images/Viral Pneumonia-981.png  \n",
            "  inflating: COVID-19_Radiography_Dataset/Viral Pneumonia/images/Viral Pneumonia-982.png  \n",
            "  inflating: COVID-19_Radiography_Dataset/Viral Pneumonia/images/Viral Pneumonia-983.png  \n",
            "  inflating: COVID-19_Radiography_Dataset/Viral Pneumonia/images/Viral Pneumonia-984.png  \n",
            "  inflating: COVID-19_Radiography_Dataset/Viral Pneumonia/images/Viral Pneumonia-985.png  \n",
            "  inflating: COVID-19_Radiography_Dataset/Viral Pneumonia/images/Viral Pneumonia-986.png  \n",
            "  inflating: COVID-19_Radiography_Dataset/Viral Pneumonia/images/Viral Pneumonia-987.png  \n",
            "  inflating: COVID-19_Radiography_Dataset/Viral Pneumonia/images/Viral Pneumonia-988.png  \n",
            "  inflating: COVID-19_Radiography_Dataset/Viral Pneumonia/images/Viral Pneumonia-989.png  \n",
            "  inflating: COVID-19_Radiography_Dataset/Viral Pneumonia/images/Viral Pneumonia-99.png  \n",
            "  inflating: COVID-19_Radiography_Dataset/Viral Pneumonia/images/Viral Pneumonia-990.png  \n",
            "  inflating: COVID-19_Radiography_Dataset/Viral Pneumonia/images/Viral Pneumonia-991.png  \n",
            "  inflating: COVID-19_Radiography_Dataset/Viral Pneumonia/images/Viral Pneumonia-992.png  \n",
            "  inflating: COVID-19_Radiography_Dataset/Viral Pneumonia/images/Viral Pneumonia-993.png  \n",
            "  inflating: COVID-19_Radiography_Dataset/Viral Pneumonia/images/Viral Pneumonia-994.png  \n",
            "  inflating: COVID-19_Radiography_Dataset/Viral Pneumonia/images/Viral Pneumonia-995.png  \n",
            "  inflating: COVID-19_Radiography_Dataset/Viral Pneumonia/images/Viral Pneumonia-996.png  \n",
            "  inflating: COVID-19_Radiography_Dataset/Viral Pneumonia/images/Viral Pneumonia-997.png  \n",
            "  inflating: COVID-19_Radiography_Dataset/Viral Pneumonia/images/Viral Pneumonia-998.png  \n",
            "  inflating: COVID-19_Radiography_Dataset/Viral Pneumonia/images/Viral Pneumonia-999.png  \n",
            "   creating: COVID-19_Radiography_Dataset/Viral Pneumonia/masks/\n",
            "  inflating: COVID-19_Radiography_Dataset/Viral Pneumonia/masks/Viral Pneumonia-1.png  \n",
            "  inflating: COVID-19_Radiography_Dataset/Viral Pneumonia/masks/Viral Pneumonia-10.png  \n",
            "  inflating: COVID-19_Radiography_Dataset/Viral Pneumonia/masks/Viral Pneumonia-100.png  \n",
            "  inflating: COVID-19_Radiography_Dataset/Viral Pneumonia/masks/Viral Pneumonia-1000.png  \n",
            "  inflating: COVID-19_Radiography_Dataset/Viral Pneumonia/masks/Viral Pneumonia-1001.png  \n",
            "  inflating: COVID-19_Radiography_Dataset/Viral Pneumonia/masks/Viral Pneumonia-1002.png  \n",
            "  inflating: COVID-19_Radiography_Dataset/Viral Pneumonia/masks/Viral Pneumonia-1003.png  \n",
            "  inflating: COVID-19_Radiography_Dataset/Viral Pneumonia/masks/Viral Pneumonia-1004.png  \n",
            "  inflating: COVID-19_Radiography_Dataset/Viral Pneumonia/masks/Viral Pneumonia-1005.png  \n",
            "  inflating: COVID-19_Radiography_Dataset/Viral Pneumonia/masks/Viral Pneumonia-1006.png  \n",
            "  inflating: COVID-19_Radiography_Dataset/Viral Pneumonia/masks/Viral Pneumonia-1007.png  \n",
            "  inflating: COVID-19_Radiography_Dataset/Viral Pneumonia/masks/Viral Pneumonia-1008.png  \n",
            "  inflating: COVID-19_Radiography_Dataset/Viral Pneumonia/masks/Viral Pneumonia-1009.png  \n",
            "  inflating: COVID-19_Radiography_Dataset/Viral Pneumonia/masks/Viral Pneumonia-101.png  \n",
            "  inflating: COVID-19_Radiography_Dataset/Viral Pneumonia/masks/Viral Pneumonia-1010.png  \n",
            "  inflating: COVID-19_Radiography_Dataset/Viral Pneumonia/masks/Viral Pneumonia-1011.png  \n",
            "  inflating: COVID-19_Radiography_Dataset/Viral Pneumonia/masks/Viral Pneumonia-1012.png  \n",
            "  inflating: COVID-19_Radiography_Dataset/Viral Pneumonia/masks/Viral Pneumonia-1013.png  \n",
            "  inflating: COVID-19_Radiography_Dataset/Viral Pneumonia/masks/Viral Pneumonia-1014.png  \n",
            "  inflating: COVID-19_Radiography_Dataset/Viral Pneumonia/masks/Viral Pneumonia-1015.png  \n",
            "  inflating: COVID-19_Radiography_Dataset/Viral Pneumonia/masks/Viral Pneumonia-1016.png  \n",
            "  inflating: COVID-19_Radiography_Dataset/Viral Pneumonia/masks/Viral Pneumonia-1017.png  \n",
            "  inflating: COVID-19_Radiography_Dataset/Viral Pneumonia/masks/Viral Pneumonia-1018.png  \n",
            "  inflating: COVID-19_Radiography_Dataset/Viral Pneumonia/masks/Viral Pneumonia-1019.png  \n",
            "  inflating: COVID-19_Radiography_Dataset/Viral Pneumonia/masks/Viral Pneumonia-102.png  \n",
            "  inflating: COVID-19_Radiography_Dataset/Viral Pneumonia/masks/Viral Pneumonia-1020.png  \n",
            "  inflating: COVID-19_Radiography_Dataset/Viral Pneumonia/masks/Viral Pneumonia-1021.png  \n",
            "  inflating: COVID-19_Radiography_Dataset/Viral Pneumonia/masks/Viral Pneumonia-1022.png  \n",
            "  inflating: COVID-19_Radiography_Dataset/Viral Pneumonia/masks/Viral Pneumonia-1023.png  \n",
            "  inflating: COVID-19_Radiography_Dataset/Viral Pneumonia/masks/Viral Pneumonia-1024.png  \n",
            "  inflating: COVID-19_Radiography_Dataset/Viral Pneumonia/masks/Viral Pneumonia-1025.png  \n",
            "  inflating: COVID-19_Radiography_Dataset/Viral Pneumonia/masks/Viral Pneumonia-1026.png  \n",
            "  inflating: COVID-19_Radiography_Dataset/Viral Pneumonia/masks/Viral Pneumonia-1027.png  \n",
            "  inflating: COVID-19_Radiography_Dataset/Viral Pneumonia/masks/Viral Pneumonia-1028.png  \n",
            "  inflating: COVID-19_Radiography_Dataset/Viral Pneumonia/masks/Viral Pneumonia-1029.png  \n",
            "  inflating: COVID-19_Radiography_Dataset/Viral Pneumonia/masks/Viral Pneumonia-103.png  \n",
            "  inflating: COVID-19_Radiography_Dataset/Viral Pneumonia/masks/Viral Pneumonia-1030.png  \n",
            "  inflating: COVID-19_Radiography_Dataset/Viral Pneumonia/masks/Viral Pneumonia-1031.png  \n",
            "  inflating: COVID-19_Radiography_Dataset/Viral Pneumonia/masks/Viral Pneumonia-1032.png  \n",
            "  inflating: COVID-19_Radiography_Dataset/Viral Pneumonia/masks/Viral Pneumonia-1033.png  \n",
            "  inflating: COVID-19_Radiography_Dataset/Viral Pneumonia/masks/Viral Pneumonia-1034.png  \n",
            "  inflating: COVID-19_Radiography_Dataset/Viral Pneumonia/masks/Viral Pneumonia-1035.png  \n",
            "  inflating: COVID-19_Radiography_Dataset/Viral Pneumonia/masks/Viral Pneumonia-1036.png  \n",
            "  inflating: COVID-19_Radiography_Dataset/Viral Pneumonia/masks/Viral Pneumonia-1037.png  \n",
            "  inflating: COVID-19_Radiography_Dataset/Viral Pneumonia/masks/Viral Pneumonia-1038.png  \n",
            "  inflating: COVID-19_Radiography_Dataset/Viral Pneumonia/masks/Viral Pneumonia-1039.png  \n",
            "  inflating: COVID-19_Radiography_Dataset/Viral Pneumonia/masks/Viral Pneumonia-104.png  \n",
            "  inflating: COVID-19_Radiography_Dataset/Viral Pneumonia/masks/Viral Pneumonia-1040.png  \n",
            "  inflating: COVID-19_Radiography_Dataset/Viral Pneumonia/masks/Viral Pneumonia-1041.png  \n",
            "  inflating: COVID-19_Radiography_Dataset/Viral Pneumonia/masks/Viral Pneumonia-1042.png  \n",
            "  inflating: COVID-19_Radiography_Dataset/Viral Pneumonia/masks/Viral Pneumonia-1043.png  \n",
            "  inflating: COVID-19_Radiography_Dataset/Viral Pneumonia/masks/Viral Pneumonia-1044.png  \n",
            "  inflating: COVID-19_Radiography_Dataset/Viral Pneumonia/masks/Viral Pneumonia-1045.png  \n",
            "  inflating: COVID-19_Radiography_Dataset/Viral Pneumonia/masks/Viral Pneumonia-1046.png  \n",
            "  inflating: COVID-19_Radiography_Dataset/Viral Pneumonia/masks/Viral Pneumonia-1047.png  \n",
            "  inflating: COVID-19_Radiography_Dataset/Viral Pneumonia/masks/Viral Pneumonia-1048.png  \n",
            "  inflating: COVID-19_Radiography_Dataset/Viral Pneumonia/masks/Viral Pneumonia-1049.png  \n",
            "  inflating: COVID-19_Radiography_Dataset/Viral Pneumonia/masks/Viral Pneumonia-105.png  \n",
            "  inflating: COVID-19_Radiography_Dataset/Viral Pneumonia/masks/Viral Pneumonia-1050.png  \n",
            "  inflating: COVID-19_Radiography_Dataset/Viral Pneumonia/masks/Viral Pneumonia-1051.png  \n",
            "  inflating: COVID-19_Radiography_Dataset/Viral Pneumonia/masks/Viral Pneumonia-1052.png  \n",
            "  inflating: COVID-19_Radiography_Dataset/Viral Pneumonia/masks/Viral Pneumonia-1053.png  \n",
            "  inflating: COVID-19_Radiography_Dataset/Viral Pneumonia/masks/Viral Pneumonia-1054.png  \n",
            "  inflating: COVID-19_Radiography_Dataset/Viral Pneumonia/masks/Viral Pneumonia-1055.png  \n",
            "  inflating: COVID-19_Radiography_Dataset/Viral Pneumonia/masks/Viral Pneumonia-1056.png  \n",
            "  inflating: COVID-19_Radiography_Dataset/Viral Pneumonia/masks/Viral Pneumonia-1057.png  \n",
            "  inflating: COVID-19_Radiography_Dataset/Viral Pneumonia/masks/Viral Pneumonia-1058.png  \n",
            "  inflating: COVID-19_Radiography_Dataset/Viral Pneumonia/masks/Viral Pneumonia-1059.png  \n",
            "  inflating: COVID-19_Radiography_Dataset/Viral Pneumonia/masks/Viral Pneumonia-106.png  \n",
            "  inflating: COVID-19_Radiography_Dataset/Viral Pneumonia/masks/Viral Pneumonia-1060.png  \n",
            "  inflating: COVID-19_Radiography_Dataset/Viral Pneumonia/masks/Viral Pneumonia-1061.png  \n",
            "  inflating: COVID-19_Radiography_Dataset/Viral Pneumonia/masks/Viral Pneumonia-1062.png  \n",
            "  inflating: COVID-19_Radiography_Dataset/Viral Pneumonia/masks/Viral Pneumonia-1063.png  \n",
            "  inflating: COVID-19_Radiography_Dataset/Viral Pneumonia/masks/Viral Pneumonia-1064.png  \n",
            "  inflating: COVID-19_Radiography_Dataset/Viral Pneumonia/masks/Viral Pneumonia-1065.png  \n",
            "  inflating: COVID-19_Radiography_Dataset/Viral Pneumonia/masks/Viral Pneumonia-1066.png  \n",
            "  inflating: COVID-19_Radiography_Dataset/Viral Pneumonia/masks/Viral Pneumonia-1067.png  \n",
            "  inflating: COVID-19_Radiography_Dataset/Viral Pneumonia/masks/Viral Pneumonia-1068.png  \n",
            "  inflating: COVID-19_Radiography_Dataset/Viral Pneumonia/masks/Viral Pneumonia-1069.png  \n",
            "  inflating: COVID-19_Radiography_Dataset/Viral Pneumonia/masks/Viral Pneumonia-107.png  \n",
            "  inflating: COVID-19_Radiography_Dataset/Viral Pneumonia/masks/Viral Pneumonia-1070.png  \n",
            "  inflating: COVID-19_Radiography_Dataset/Viral Pneumonia/masks/Viral Pneumonia-1071.png  \n",
            "  inflating: COVID-19_Radiography_Dataset/Viral Pneumonia/masks/Viral Pneumonia-1072.png  \n",
            "  inflating: COVID-19_Radiography_Dataset/Viral Pneumonia/masks/Viral Pneumonia-1073.png  \n",
            "  inflating: COVID-19_Radiography_Dataset/Viral Pneumonia/masks/Viral Pneumonia-1074.png  \n",
            "  inflating: COVID-19_Radiography_Dataset/Viral Pneumonia/masks/Viral Pneumonia-1075.png  \n",
            "  inflating: COVID-19_Radiography_Dataset/Viral Pneumonia/masks/Viral Pneumonia-1076.png  \n",
            "  inflating: COVID-19_Radiography_Dataset/Viral Pneumonia/masks/Viral Pneumonia-1077.png  \n",
            "  inflating: COVID-19_Radiography_Dataset/Viral Pneumonia/masks/Viral Pneumonia-1078.png  \n",
            "  inflating: COVID-19_Radiography_Dataset/Viral Pneumonia/masks/Viral Pneumonia-1079.png  \n",
            "  inflating: COVID-19_Radiography_Dataset/Viral Pneumonia/masks/Viral Pneumonia-108.png  \n",
            "  inflating: COVID-19_Radiography_Dataset/Viral Pneumonia/masks/Viral Pneumonia-1080.png  \n",
            "  inflating: COVID-19_Radiography_Dataset/Viral Pneumonia/masks/Viral Pneumonia-1081.png  \n",
            "  inflating: COVID-19_Radiography_Dataset/Viral Pneumonia/masks/Viral Pneumonia-1082.png  \n",
            "  inflating: COVID-19_Radiography_Dataset/Viral Pneumonia/masks/Viral Pneumonia-1083.png  \n",
            "  inflating: COVID-19_Radiography_Dataset/Viral Pneumonia/masks/Viral Pneumonia-1084.png  \n",
            "  inflating: COVID-19_Radiography_Dataset/Viral Pneumonia/masks/Viral Pneumonia-1085.png  \n",
            "  inflating: COVID-19_Radiography_Dataset/Viral Pneumonia/masks/Viral Pneumonia-1086.png  \n",
            "  inflating: COVID-19_Radiography_Dataset/Viral Pneumonia/masks/Viral Pneumonia-1087.png  \n",
            "  inflating: COVID-19_Radiography_Dataset/Viral Pneumonia/masks/Viral Pneumonia-1088.png  \n",
            "  inflating: COVID-19_Radiography_Dataset/Viral Pneumonia/masks/Viral Pneumonia-1089.png  \n",
            "  inflating: COVID-19_Radiography_Dataset/Viral Pneumonia/masks/Viral Pneumonia-109.png  \n",
            "  inflating: COVID-19_Radiography_Dataset/Viral Pneumonia/masks/Viral Pneumonia-1090.png  \n",
            "  inflating: COVID-19_Radiography_Dataset/Viral Pneumonia/masks/Viral Pneumonia-1091.png  \n",
            "  inflating: COVID-19_Radiography_Dataset/Viral Pneumonia/masks/Viral Pneumonia-1092.png  \n",
            "  inflating: COVID-19_Radiography_Dataset/Viral Pneumonia/masks/Viral Pneumonia-1093.png  \n",
            "  inflating: COVID-19_Radiography_Dataset/Viral Pneumonia/masks/Viral Pneumonia-1094.png  \n",
            "  inflating: COVID-19_Radiography_Dataset/Viral Pneumonia/masks/Viral Pneumonia-1095.png  \n",
            "  inflating: COVID-19_Radiography_Dataset/Viral Pneumonia/masks/Viral Pneumonia-1096.png  \n",
            "  inflating: COVID-19_Radiography_Dataset/Viral Pneumonia/masks/Viral Pneumonia-1097.png  \n",
            "  inflating: COVID-19_Radiography_Dataset/Viral Pneumonia/masks/Viral Pneumonia-1098.png  \n",
            "  inflating: COVID-19_Radiography_Dataset/Viral Pneumonia/masks/Viral Pneumonia-1099.png  \n",
            "  inflating: COVID-19_Radiography_Dataset/Viral Pneumonia/masks/Viral Pneumonia-11.png  \n",
            "  inflating: COVID-19_Radiography_Dataset/Viral Pneumonia/masks/Viral Pneumonia-110.png  \n",
            "  inflating: COVID-19_Radiography_Dataset/Viral Pneumonia/masks/Viral Pneumonia-1100.png  \n",
            "  inflating: COVID-19_Radiography_Dataset/Viral Pneumonia/masks/Viral Pneumonia-1101.png  \n",
            "  inflating: COVID-19_Radiography_Dataset/Viral Pneumonia/masks/Viral Pneumonia-1102.png  \n",
            "  inflating: COVID-19_Radiography_Dataset/Viral Pneumonia/masks/Viral Pneumonia-1103.png  \n",
            "  inflating: COVID-19_Radiography_Dataset/Viral Pneumonia/masks/Viral Pneumonia-1104.png  \n",
            "  inflating: COVID-19_Radiography_Dataset/Viral Pneumonia/masks/Viral Pneumonia-1105.png  \n",
            "  inflating: COVID-19_Radiography_Dataset/Viral Pneumonia/masks/Viral Pneumonia-1106.png  \n",
            "  inflating: COVID-19_Radiography_Dataset/Viral Pneumonia/masks/Viral Pneumonia-1107.png  \n",
            "  inflating: COVID-19_Radiography_Dataset/Viral Pneumonia/masks/Viral Pneumonia-1108.png  \n",
            "  inflating: COVID-19_Radiography_Dataset/Viral Pneumonia/masks/Viral Pneumonia-1109.png  \n",
            "  inflating: COVID-19_Radiography_Dataset/Viral Pneumonia/masks/Viral Pneumonia-111.png  \n",
            "  inflating: COVID-19_Radiography_Dataset/Viral Pneumonia/masks/Viral Pneumonia-1110.png  \n",
            "  inflating: COVID-19_Radiography_Dataset/Viral Pneumonia/masks/Viral Pneumonia-1111.png  \n",
            "  inflating: COVID-19_Radiography_Dataset/Viral Pneumonia/masks/Viral Pneumonia-1112.png  \n",
            "  inflating: COVID-19_Radiography_Dataset/Viral Pneumonia/masks/Viral Pneumonia-1113.png  \n",
            "  inflating: COVID-19_Radiography_Dataset/Viral Pneumonia/masks/Viral Pneumonia-1114.png  \n",
            "  inflating: COVID-19_Radiography_Dataset/Viral Pneumonia/masks/Viral Pneumonia-1115.png  \n",
            "  inflating: COVID-19_Radiography_Dataset/Viral Pneumonia/masks/Viral Pneumonia-1116.png  \n",
            "  inflating: COVID-19_Radiography_Dataset/Viral Pneumonia/masks/Viral Pneumonia-1117.png  \n",
            "  inflating: COVID-19_Radiography_Dataset/Viral Pneumonia/masks/Viral Pneumonia-1118.png  \n",
            "  inflating: COVID-19_Radiography_Dataset/Viral Pneumonia/masks/Viral Pneumonia-1119.png  \n",
            "  inflating: COVID-19_Radiography_Dataset/Viral Pneumonia/masks/Viral Pneumonia-112.png  \n",
            "  inflating: COVID-19_Radiography_Dataset/Viral Pneumonia/masks/Viral Pneumonia-1120.png  \n",
            "  inflating: COVID-19_Radiography_Dataset/Viral Pneumonia/masks/Viral Pneumonia-1121.png  \n",
            "  inflating: COVID-19_Radiography_Dataset/Viral Pneumonia/masks/Viral Pneumonia-1122.png  \n",
            "  inflating: COVID-19_Radiography_Dataset/Viral Pneumonia/masks/Viral Pneumonia-1123.png  \n",
            "  inflating: COVID-19_Radiography_Dataset/Viral Pneumonia/masks/Viral Pneumonia-1124.png  \n",
            "  inflating: COVID-19_Radiography_Dataset/Viral Pneumonia/masks/Viral Pneumonia-1125.png  \n",
            "  inflating: COVID-19_Radiography_Dataset/Viral Pneumonia/masks/Viral Pneumonia-1126.png  \n",
            "  inflating: COVID-19_Radiography_Dataset/Viral Pneumonia/masks/Viral Pneumonia-1127.png  \n",
            "  inflating: COVID-19_Radiography_Dataset/Viral Pneumonia/masks/Viral Pneumonia-1128.png  \n",
            "  inflating: COVID-19_Radiography_Dataset/Viral Pneumonia/masks/Viral Pneumonia-1129.png  \n",
            "  inflating: COVID-19_Radiography_Dataset/Viral Pneumonia/masks/Viral Pneumonia-113.png  \n",
            "  inflating: COVID-19_Radiography_Dataset/Viral Pneumonia/masks/Viral Pneumonia-1130.png  \n",
            "  inflating: COVID-19_Radiography_Dataset/Viral Pneumonia/masks/Viral Pneumonia-1131.png  \n",
            "  inflating: COVID-19_Radiography_Dataset/Viral Pneumonia/masks/Viral Pneumonia-1132.png  \n",
            "  inflating: COVID-19_Radiography_Dataset/Viral Pneumonia/masks/Viral Pneumonia-1133.png  \n",
            "  inflating: COVID-19_Radiography_Dataset/Viral Pneumonia/masks/Viral Pneumonia-1134.png  \n",
            "  inflating: COVID-19_Radiography_Dataset/Viral Pneumonia/masks/Viral Pneumonia-1135.png  \n",
            "  inflating: COVID-19_Radiography_Dataset/Viral Pneumonia/masks/Viral Pneumonia-1136.png  \n",
            "  inflating: COVID-19_Radiography_Dataset/Viral Pneumonia/masks/Viral Pneumonia-1137.png  \n",
            "  inflating: COVID-19_Radiography_Dataset/Viral Pneumonia/masks/Viral Pneumonia-1138.png  \n",
            "  inflating: COVID-19_Radiography_Dataset/Viral Pneumonia/masks/Viral Pneumonia-1139.png  \n",
            "  inflating: COVID-19_Radiography_Dataset/Viral Pneumonia/masks/Viral Pneumonia-114.png  \n",
            "  inflating: COVID-19_Radiography_Dataset/Viral Pneumonia/masks/Viral Pneumonia-1140.png  \n",
            "  inflating: COVID-19_Radiography_Dataset/Viral Pneumonia/masks/Viral Pneumonia-1141.png  \n",
            "  inflating: COVID-19_Radiography_Dataset/Viral Pneumonia/masks/Viral Pneumonia-1142.png  \n",
            "  inflating: COVID-19_Radiography_Dataset/Viral Pneumonia/masks/Viral Pneumonia-1143.png  \n",
            "  inflating: COVID-19_Radiography_Dataset/Viral Pneumonia/masks/Viral Pneumonia-1144.png  \n",
            "  inflating: COVID-19_Radiography_Dataset/Viral Pneumonia/masks/Viral Pneumonia-1145.png  \n",
            "  inflating: COVID-19_Radiography_Dataset/Viral Pneumonia/masks/Viral Pneumonia-1146.png  \n",
            "  inflating: COVID-19_Radiography_Dataset/Viral Pneumonia/masks/Viral Pneumonia-1147.png  \n",
            "  inflating: COVID-19_Radiography_Dataset/Viral Pneumonia/masks/Viral Pneumonia-1148.png  \n",
            "  inflating: COVID-19_Radiography_Dataset/Viral Pneumonia/masks/Viral Pneumonia-1149.png  \n",
            "  inflating: COVID-19_Radiography_Dataset/Viral Pneumonia/masks/Viral Pneumonia-115.png  \n",
            "  inflating: COVID-19_Radiography_Dataset/Viral Pneumonia/masks/Viral Pneumonia-1150.png  \n",
            "  inflating: COVID-19_Radiography_Dataset/Viral Pneumonia/masks/Viral Pneumonia-1151.png  \n",
            "  inflating: COVID-19_Radiography_Dataset/Viral Pneumonia/masks/Viral Pneumonia-1152.png  \n",
            "  inflating: COVID-19_Radiography_Dataset/Viral Pneumonia/masks/Viral Pneumonia-1153.png  \n",
            "  inflating: COVID-19_Radiography_Dataset/Viral Pneumonia/masks/Viral Pneumonia-1154.png  \n",
            "  inflating: COVID-19_Radiography_Dataset/Viral Pneumonia/masks/Viral Pneumonia-1155.png  \n",
            "  inflating: COVID-19_Radiography_Dataset/Viral Pneumonia/masks/Viral Pneumonia-1156.png  \n",
            "  inflating: COVID-19_Radiography_Dataset/Viral Pneumonia/masks/Viral Pneumonia-1157.png  \n",
            "  inflating: COVID-19_Radiography_Dataset/Viral Pneumonia/masks/Viral Pneumonia-1158.png  \n",
            "  inflating: COVID-19_Radiography_Dataset/Viral Pneumonia/masks/Viral Pneumonia-1159.png  \n",
            "  inflating: COVID-19_Radiography_Dataset/Viral Pneumonia/masks/Viral Pneumonia-116.png  \n",
            "  inflating: COVID-19_Radiography_Dataset/Viral Pneumonia/masks/Viral Pneumonia-1160.png  \n",
            "  inflating: COVID-19_Radiography_Dataset/Viral Pneumonia/masks/Viral Pneumonia-1161.png  \n",
            "  inflating: COVID-19_Radiography_Dataset/Viral Pneumonia/masks/Viral Pneumonia-1162.png  \n",
            "  inflating: COVID-19_Radiography_Dataset/Viral Pneumonia/masks/Viral Pneumonia-1163.png  \n",
            "  inflating: COVID-19_Radiography_Dataset/Viral Pneumonia/masks/Viral Pneumonia-1164.png  \n",
            "  inflating: COVID-19_Radiography_Dataset/Viral Pneumonia/masks/Viral Pneumonia-1165.png  \n",
            "  inflating: COVID-19_Radiography_Dataset/Viral Pneumonia/masks/Viral Pneumonia-1166.png  \n",
            "  inflating: COVID-19_Radiography_Dataset/Viral Pneumonia/masks/Viral Pneumonia-1167.png  \n",
            "  inflating: COVID-19_Radiography_Dataset/Viral Pneumonia/masks/Viral Pneumonia-1168.png  \n",
            "  inflating: COVID-19_Radiography_Dataset/Viral Pneumonia/masks/Viral Pneumonia-1169.png  \n",
            "  inflating: COVID-19_Radiography_Dataset/Viral Pneumonia/masks/Viral Pneumonia-117.png  \n",
            "  inflating: COVID-19_Radiography_Dataset/Viral Pneumonia/masks/Viral Pneumonia-1170.png  \n",
            "  inflating: COVID-19_Radiography_Dataset/Viral Pneumonia/masks/Viral Pneumonia-1171.png  \n",
            "  inflating: COVID-19_Radiography_Dataset/Viral Pneumonia/masks/Viral Pneumonia-1172.png  \n",
            "  inflating: COVID-19_Radiography_Dataset/Viral Pneumonia/masks/Viral Pneumonia-1173.png  \n",
            "  inflating: COVID-19_Radiography_Dataset/Viral Pneumonia/masks/Viral Pneumonia-1174.png  \n",
            "  inflating: COVID-19_Radiography_Dataset/Viral Pneumonia/masks/Viral Pneumonia-1175.png  \n",
            "  inflating: COVID-19_Radiography_Dataset/Viral Pneumonia/masks/Viral Pneumonia-1176.png  \n",
            "  inflating: COVID-19_Radiography_Dataset/Viral Pneumonia/masks/Viral Pneumonia-1177.png  \n",
            "  inflating: COVID-19_Radiography_Dataset/Viral Pneumonia/masks/Viral Pneumonia-1178.png  \n",
            "  inflating: COVID-19_Radiography_Dataset/Viral Pneumonia/masks/Viral Pneumonia-1179.png  \n",
            "  inflating: COVID-19_Radiography_Dataset/Viral Pneumonia/masks/Viral Pneumonia-118.png  \n",
            "  inflating: COVID-19_Radiography_Dataset/Viral Pneumonia/masks/Viral Pneumonia-1180.png  \n",
            "  inflating: COVID-19_Radiography_Dataset/Viral Pneumonia/masks/Viral Pneumonia-1181.png  \n",
            "  inflating: COVID-19_Radiography_Dataset/Viral Pneumonia/masks/Viral Pneumonia-1182.png  \n",
            "  inflating: COVID-19_Radiography_Dataset/Viral Pneumonia/masks/Viral Pneumonia-1183.png  \n",
            "  inflating: COVID-19_Radiography_Dataset/Viral Pneumonia/masks/Viral Pneumonia-1184.png  \n",
            "  inflating: COVID-19_Radiography_Dataset/Viral Pneumonia/masks/Viral Pneumonia-1185.png  \n",
            "  inflating: COVID-19_Radiography_Dataset/Viral Pneumonia/masks/Viral Pneumonia-1186.png  \n",
            "  inflating: COVID-19_Radiography_Dataset/Viral Pneumonia/masks/Viral Pneumonia-1187.png  \n",
            "  inflating: COVID-19_Radiography_Dataset/Viral Pneumonia/masks/Viral Pneumonia-1188.png  \n",
            "  inflating: COVID-19_Radiography_Dataset/Viral Pneumonia/masks/Viral Pneumonia-1189.png  \n",
            "  inflating: COVID-19_Radiography_Dataset/Viral Pneumonia/masks/Viral Pneumonia-119.png  \n",
            "  inflating: COVID-19_Radiography_Dataset/Viral Pneumonia/masks/Viral Pneumonia-1190.png  \n",
            "  inflating: COVID-19_Radiography_Dataset/Viral Pneumonia/masks/Viral Pneumonia-1191.png  \n",
            "  inflating: COVID-19_Radiography_Dataset/Viral Pneumonia/masks/Viral Pneumonia-1192.png  \n",
            "  inflating: COVID-19_Radiography_Dataset/Viral Pneumonia/masks/Viral Pneumonia-1193.png  \n",
            "  inflating: COVID-19_Radiography_Dataset/Viral Pneumonia/masks/Viral Pneumonia-1194.png  \n",
            "  inflating: COVID-19_Radiography_Dataset/Viral Pneumonia/masks/Viral Pneumonia-1195.png  \n",
            "  inflating: COVID-19_Radiography_Dataset/Viral Pneumonia/masks/Viral Pneumonia-1196.png  \n",
            "  inflating: COVID-19_Radiography_Dataset/Viral Pneumonia/masks/Viral Pneumonia-1197.png  \n",
            "  inflating: COVID-19_Radiography_Dataset/Viral Pneumonia/masks/Viral Pneumonia-1198.png  \n",
            "  inflating: COVID-19_Radiography_Dataset/Viral Pneumonia/masks/Viral Pneumonia-1199.png  \n",
            "  inflating: COVID-19_Radiography_Dataset/Viral Pneumonia/masks/Viral Pneumonia-12.png  \n",
            "  inflating: COVID-19_Radiography_Dataset/Viral Pneumonia/masks/Viral Pneumonia-120.png  \n",
            "  inflating: COVID-19_Radiography_Dataset/Viral Pneumonia/masks/Viral Pneumonia-1200.png  \n",
            "  inflating: COVID-19_Radiography_Dataset/Viral Pneumonia/masks/Viral Pneumonia-1201.png  \n",
            "  inflating: COVID-19_Radiography_Dataset/Viral Pneumonia/masks/Viral Pneumonia-1202.png  \n",
            "  inflating: COVID-19_Radiography_Dataset/Viral Pneumonia/masks/Viral Pneumonia-1203.png  \n",
            "  inflating: COVID-19_Radiography_Dataset/Viral Pneumonia/masks/Viral Pneumonia-1204.png  \n",
            "  inflating: COVID-19_Radiography_Dataset/Viral Pneumonia/masks/Viral Pneumonia-1205.png  \n",
            "  inflating: COVID-19_Radiography_Dataset/Viral Pneumonia/masks/Viral Pneumonia-1206.png  \n",
            "  inflating: COVID-19_Radiography_Dataset/Viral Pneumonia/masks/Viral Pneumonia-1207.png  \n",
            "  inflating: COVID-19_Radiography_Dataset/Viral Pneumonia/masks/Viral Pneumonia-1208.png  \n",
            "  inflating: COVID-19_Radiography_Dataset/Viral Pneumonia/masks/Viral Pneumonia-1209.png  \n",
            "  inflating: COVID-19_Radiography_Dataset/Viral Pneumonia/masks/Viral Pneumonia-121.png  \n",
            "  inflating: COVID-19_Radiography_Dataset/Viral Pneumonia/masks/Viral Pneumonia-1210.png  \n",
            "  inflating: COVID-19_Radiography_Dataset/Viral Pneumonia/masks/Viral Pneumonia-1211.png  \n",
            "  inflating: COVID-19_Radiography_Dataset/Viral Pneumonia/masks/Viral Pneumonia-1212.png  \n",
            "  inflating: COVID-19_Radiography_Dataset/Viral Pneumonia/masks/Viral Pneumonia-1213.png  \n",
            "  inflating: COVID-19_Radiography_Dataset/Viral Pneumonia/masks/Viral Pneumonia-1214.png  \n",
            "  inflating: COVID-19_Radiography_Dataset/Viral Pneumonia/masks/Viral Pneumonia-1215.png  \n",
            "  inflating: COVID-19_Radiography_Dataset/Viral Pneumonia/masks/Viral Pneumonia-1216.png  \n",
            "  inflating: COVID-19_Radiography_Dataset/Viral Pneumonia/masks/Viral Pneumonia-1217.png  \n",
            "  inflating: COVID-19_Radiography_Dataset/Viral Pneumonia/masks/Viral Pneumonia-1218.png  \n",
            "  inflating: COVID-19_Radiography_Dataset/Viral Pneumonia/masks/Viral Pneumonia-1219.png  \n",
            "  inflating: COVID-19_Radiography_Dataset/Viral Pneumonia/masks/Viral Pneumonia-122.png  \n",
            "  inflating: COVID-19_Radiography_Dataset/Viral Pneumonia/masks/Viral Pneumonia-1220.png  \n",
            "  inflating: COVID-19_Radiography_Dataset/Viral Pneumonia/masks/Viral Pneumonia-1221.png  \n",
            "  inflating: COVID-19_Radiography_Dataset/Viral Pneumonia/masks/Viral Pneumonia-1222.png  \n",
            "  inflating: COVID-19_Radiography_Dataset/Viral Pneumonia/masks/Viral Pneumonia-1223.png  \n",
            "  inflating: COVID-19_Radiography_Dataset/Viral Pneumonia/masks/Viral Pneumonia-1224.png  \n",
            "  inflating: COVID-19_Radiography_Dataset/Viral Pneumonia/masks/Viral Pneumonia-1225.png  \n",
            "  inflating: COVID-19_Radiography_Dataset/Viral Pneumonia/masks/Viral Pneumonia-1226.png  \n",
            "  inflating: COVID-19_Radiography_Dataset/Viral Pneumonia/masks/Viral Pneumonia-1227.png  \n",
            "  inflating: COVID-19_Radiography_Dataset/Viral Pneumonia/masks/Viral Pneumonia-1228.png  \n",
            "  inflating: COVID-19_Radiography_Dataset/Viral Pneumonia/masks/Viral Pneumonia-1229.png  \n",
            "  inflating: COVID-19_Radiography_Dataset/Viral Pneumonia/masks/Viral Pneumonia-123.png  \n",
            "  inflating: COVID-19_Radiography_Dataset/Viral Pneumonia/masks/Viral Pneumonia-1230.png  \n",
            "  inflating: COVID-19_Radiography_Dataset/Viral Pneumonia/masks/Viral Pneumonia-1231.png  \n",
            "  inflating: COVID-19_Radiography_Dataset/Viral Pneumonia/masks/Viral Pneumonia-1232.png  \n",
            "  inflating: COVID-19_Radiography_Dataset/Viral Pneumonia/masks/Viral Pneumonia-1233.png  \n",
            "  inflating: COVID-19_Radiography_Dataset/Viral Pneumonia/masks/Viral Pneumonia-1234.png  \n",
            "  inflating: COVID-19_Radiography_Dataset/Viral Pneumonia/masks/Viral Pneumonia-1235.png  \n",
            "  inflating: COVID-19_Radiography_Dataset/Viral Pneumonia/masks/Viral Pneumonia-1236.png  \n",
            "  inflating: COVID-19_Radiography_Dataset/Viral Pneumonia/masks/Viral Pneumonia-1237.png  \n",
            "  inflating: COVID-19_Radiography_Dataset/Viral Pneumonia/masks/Viral Pneumonia-1238.png  \n",
            "  inflating: COVID-19_Radiography_Dataset/Viral Pneumonia/masks/Viral Pneumonia-1239.png  \n",
            "  inflating: COVID-19_Radiography_Dataset/Viral Pneumonia/masks/Viral Pneumonia-124.png  \n",
            "  inflating: COVID-19_Radiography_Dataset/Viral Pneumonia/masks/Viral Pneumonia-1240.png  \n",
            "  inflating: COVID-19_Radiography_Dataset/Viral Pneumonia/masks/Viral Pneumonia-1241.png  \n",
            "  inflating: COVID-19_Radiography_Dataset/Viral Pneumonia/masks/Viral Pneumonia-1242.png  \n",
            "  inflating: COVID-19_Radiography_Dataset/Viral Pneumonia/masks/Viral Pneumonia-1243.png  \n",
            "  inflating: COVID-19_Radiography_Dataset/Viral Pneumonia/masks/Viral Pneumonia-1244.png  \n",
            "  inflating: COVID-19_Radiography_Dataset/Viral Pneumonia/masks/Viral Pneumonia-1245.png  \n",
            "  inflating: COVID-19_Radiography_Dataset/Viral Pneumonia/masks/Viral Pneumonia-1246.png  \n",
            "  inflating: COVID-19_Radiography_Dataset/Viral Pneumonia/masks/Viral Pneumonia-1247.png  \n",
            "  inflating: COVID-19_Radiography_Dataset/Viral Pneumonia/masks/Viral Pneumonia-1248.png  \n",
            "  inflating: COVID-19_Radiography_Dataset/Viral Pneumonia/masks/Viral Pneumonia-1249.png  \n",
            "  inflating: COVID-19_Radiography_Dataset/Viral Pneumonia/masks/Viral Pneumonia-125.png  \n",
            "  inflating: COVID-19_Radiography_Dataset/Viral Pneumonia/masks/Viral Pneumonia-1250.png  \n",
            "  inflating: COVID-19_Radiography_Dataset/Viral Pneumonia/masks/Viral Pneumonia-1251.png  \n",
            "  inflating: COVID-19_Radiography_Dataset/Viral Pneumonia/masks/Viral Pneumonia-1252.png  \n",
            "  inflating: COVID-19_Radiography_Dataset/Viral Pneumonia/masks/Viral Pneumonia-1253.png  \n",
            "  inflating: COVID-19_Radiography_Dataset/Viral Pneumonia/masks/Viral Pneumonia-1254.png  \n",
            "  inflating: COVID-19_Radiography_Dataset/Viral Pneumonia/masks/Viral Pneumonia-1255.png  \n",
            "  inflating: COVID-19_Radiography_Dataset/Viral Pneumonia/masks/Viral Pneumonia-1256.png  \n",
            "  inflating: COVID-19_Radiography_Dataset/Viral Pneumonia/masks/Viral Pneumonia-1257.png  \n",
            "  inflating: COVID-19_Radiography_Dataset/Viral Pneumonia/masks/Viral Pneumonia-1258.png  \n",
            "  inflating: COVID-19_Radiography_Dataset/Viral Pneumonia/masks/Viral Pneumonia-1259.png  \n",
            "  inflating: COVID-19_Radiography_Dataset/Viral Pneumonia/masks/Viral Pneumonia-126.png  \n",
            "  inflating: COVID-19_Radiography_Dataset/Viral Pneumonia/masks/Viral Pneumonia-1260.png  \n",
            "  inflating: COVID-19_Radiography_Dataset/Viral Pneumonia/masks/Viral Pneumonia-1261.png  \n",
            "  inflating: COVID-19_Radiography_Dataset/Viral Pneumonia/masks/Viral Pneumonia-1262.png  \n",
            "  inflating: COVID-19_Radiography_Dataset/Viral Pneumonia/masks/Viral Pneumonia-1263.png  \n",
            "  inflating: COVID-19_Radiography_Dataset/Viral Pneumonia/masks/Viral Pneumonia-1264.png  \n",
            "  inflating: COVID-19_Radiography_Dataset/Viral Pneumonia/masks/Viral Pneumonia-1265.png  \n",
            "  inflating: COVID-19_Radiography_Dataset/Viral Pneumonia/masks/Viral Pneumonia-1266.png  \n",
            "  inflating: COVID-19_Radiography_Dataset/Viral Pneumonia/masks/Viral Pneumonia-1267.png  \n",
            "  inflating: COVID-19_Radiography_Dataset/Viral Pneumonia/masks/Viral Pneumonia-1268.png  \n",
            "  inflating: COVID-19_Radiography_Dataset/Viral Pneumonia/masks/Viral Pneumonia-1269.png  \n",
            "  inflating: COVID-19_Radiography_Dataset/Viral Pneumonia/masks/Viral Pneumonia-127.png  \n",
            "  inflating: COVID-19_Radiography_Dataset/Viral Pneumonia/masks/Viral Pneumonia-1270.png  \n",
            "  inflating: COVID-19_Radiography_Dataset/Viral Pneumonia/masks/Viral Pneumonia-1271.png  \n",
            "  inflating: COVID-19_Radiography_Dataset/Viral Pneumonia/masks/Viral Pneumonia-1272.png  \n",
            "  inflating: COVID-19_Radiography_Dataset/Viral Pneumonia/masks/Viral Pneumonia-1273.png  \n",
            "  inflating: COVID-19_Radiography_Dataset/Viral Pneumonia/masks/Viral Pneumonia-1274.png  \n",
            "  inflating: COVID-19_Radiography_Dataset/Viral Pneumonia/masks/Viral Pneumonia-1275.png  \n",
            "  inflating: COVID-19_Radiography_Dataset/Viral Pneumonia/masks/Viral Pneumonia-1276.png  \n",
            "  inflating: COVID-19_Radiography_Dataset/Viral Pneumonia/masks/Viral Pneumonia-1277.png  \n",
            "  inflating: COVID-19_Radiography_Dataset/Viral Pneumonia/masks/Viral Pneumonia-1278.png  \n",
            "  inflating: COVID-19_Radiography_Dataset/Viral Pneumonia/masks/Viral Pneumonia-1279.png  \n",
            "  inflating: COVID-19_Radiography_Dataset/Viral Pneumonia/masks/Viral Pneumonia-128.png  \n",
            "  inflating: COVID-19_Radiography_Dataset/Viral Pneumonia/masks/Viral Pneumonia-1280.png  \n",
            "  inflating: COVID-19_Radiography_Dataset/Viral Pneumonia/masks/Viral Pneumonia-1281.png  \n",
            "  inflating: COVID-19_Radiography_Dataset/Viral Pneumonia/masks/Viral Pneumonia-1282.png  \n",
            "  inflating: COVID-19_Radiography_Dataset/Viral Pneumonia/masks/Viral Pneumonia-1283.png  \n",
            "  inflating: COVID-19_Radiography_Dataset/Viral Pneumonia/masks/Viral Pneumonia-1284.png  \n",
            "  inflating: COVID-19_Radiography_Dataset/Viral Pneumonia/masks/Viral Pneumonia-1285.png  \n",
            "  inflating: COVID-19_Radiography_Dataset/Viral Pneumonia/masks/Viral Pneumonia-1286.png  \n",
            "  inflating: COVID-19_Radiography_Dataset/Viral Pneumonia/masks/Viral Pneumonia-1287.png  \n",
            "  inflating: COVID-19_Radiography_Dataset/Viral Pneumonia/masks/Viral Pneumonia-1288.png  \n",
            "  inflating: COVID-19_Radiography_Dataset/Viral Pneumonia/masks/Viral Pneumonia-1289.png  \n",
            "  inflating: COVID-19_Radiography_Dataset/Viral Pneumonia/masks/Viral Pneumonia-129.png  \n",
            "  inflating: COVID-19_Radiography_Dataset/Viral Pneumonia/masks/Viral Pneumonia-1290.png  \n",
            "  inflating: COVID-19_Radiography_Dataset/Viral Pneumonia/masks/Viral Pneumonia-1291.png  \n",
            "  inflating: COVID-19_Radiography_Dataset/Viral Pneumonia/masks/Viral Pneumonia-1292.png  \n",
            "  inflating: COVID-19_Radiography_Dataset/Viral Pneumonia/masks/Viral Pneumonia-1293.png  \n",
            "  inflating: COVID-19_Radiography_Dataset/Viral Pneumonia/masks/Viral Pneumonia-1294.png  \n",
            "  inflating: COVID-19_Radiography_Dataset/Viral Pneumonia/masks/Viral Pneumonia-1295.png  \n",
            "  inflating: COVID-19_Radiography_Dataset/Viral Pneumonia/masks/Viral Pneumonia-1296.png  \n",
            "  inflating: COVID-19_Radiography_Dataset/Viral Pneumonia/masks/Viral Pneumonia-1297.png  \n",
            "  inflating: COVID-19_Radiography_Dataset/Viral Pneumonia/masks/Viral Pneumonia-1298.png  \n",
            "  inflating: COVID-19_Radiography_Dataset/Viral Pneumonia/masks/Viral Pneumonia-1299.png  \n",
            "  inflating: COVID-19_Radiography_Dataset/Viral Pneumonia/masks/Viral Pneumonia-13.png  \n",
            "  inflating: COVID-19_Radiography_Dataset/Viral Pneumonia/masks/Viral Pneumonia-130.png  \n",
            "  inflating: COVID-19_Radiography_Dataset/Viral Pneumonia/masks/Viral Pneumonia-1300.png  \n",
            "  inflating: COVID-19_Radiography_Dataset/Viral Pneumonia/masks/Viral Pneumonia-1301.png  \n",
            "  inflating: COVID-19_Radiography_Dataset/Viral Pneumonia/masks/Viral Pneumonia-1302.png  \n",
            "  inflating: COVID-19_Radiography_Dataset/Viral Pneumonia/masks/Viral Pneumonia-1303.png  \n",
            "  inflating: COVID-19_Radiography_Dataset/Viral Pneumonia/masks/Viral Pneumonia-1304.png  \n",
            "  inflating: COVID-19_Radiography_Dataset/Viral Pneumonia/masks/Viral Pneumonia-1305.png  \n",
            "  inflating: COVID-19_Radiography_Dataset/Viral Pneumonia/masks/Viral Pneumonia-1306.png  \n",
            "  inflating: COVID-19_Radiography_Dataset/Viral Pneumonia/masks/Viral Pneumonia-1307.png  \n",
            "  inflating: COVID-19_Radiography_Dataset/Viral Pneumonia/masks/Viral Pneumonia-1308.png  \n",
            "  inflating: COVID-19_Radiography_Dataset/Viral Pneumonia/masks/Viral Pneumonia-1309.png  \n",
            "  inflating: COVID-19_Radiography_Dataset/Viral Pneumonia/masks/Viral Pneumonia-131.png  \n",
            "  inflating: COVID-19_Radiography_Dataset/Viral Pneumonia/masks/Viral Pneumonia-1310.png  \n",
            "  inflating: COVID-19_Radiography_Dataset/Viral Pneumonia/masks/Viral Pneumonia-1311.png  \n",
            "  inflating: COVID-19_Radiography_Dataset/Viral Pneumonia/masks/Viral Pneumonia-1312.png  \n",
            "  inflating: COVID-19_Radiography_Dataset/Viral Pneumonia/masks/Viral Pneumonia-1313.png  \n",
            "  inflating: COVID-19_Radiography_Dataset/Viral Pneumonia/masks/Viral Pneumonia-1314.png  \n",
            "  inflating: COVID-19_Radiography_Dataset/Viral Pneumonia/masks/Viral Pneumonia-1315.png  \n",
            "  inflating: COVID-19_Radiography_Dataset/Viral Pneumonia/masks/Viral Pneumonia-1316.png  \n",
            "  inflating: COVID-19_Radiography_Dataset/Viral Pneumonia/masks/Viral Pneumonia-1317.png  \n",
            "  inflating: COVID-19_Radiography_Dataset/Viral Pneumonia/masks/Viral Pneumonia-1318.png  \n",
            "  inflating: COVID-19_Radiography_Dataset/Viral Pneumonia/masks/Viral Pneumonia-1319.png  \n",
            "  inflating: COVID-19_Radiography_Dataset/Viral Pneumonia/masks/Viral Pneumonia-132.png  \n",
            "  inflating: COVID-19_Radiography_Dataset/Viral Pneumonia/masks/Viral Pneumonia-1320.png  \n",
            "  inflating: COVID-19_Radiography_Dataset/Viral Pneumonia/masks/Viral Pneumonia-1321.png  \n",
            "  inflating: COVID-19_Radiography_Dataset/Viral Pneumonia/masks/Viral Pneumonia-1322.png  \n",
            "  inflating: COVID-19_Radiography_Dataset/Viral Pneumonia/masks/Viral Pneumonia-1323.png  \n",
            "  inflating: COVID-19_Radiography_Dataset/Viral Pneumonia/masks/Viral Pneumonia-1324.png  \n",
            "  inflating: COVID-19_Radiography_Dataset/Viral Pneumonia/masks/Viral Pneumonia-1325.png  \n",
            "  inflating: COVID-19_Radiography_Dataset/Viral Pneumonia/masks/Viral Pneumonia-1326.png  \n",
            "  inflating: COVID-19_Radiography_Dataset/Viral Pneumonia/masks/Viral Pneumonia-1327.png  \n",
            "  inflating: COVID-19_Radiography_Dataset/Viral Pneumonia/masks/Viral Pneumonia-1328.png  \n",
            "  inflating: COVID-19_Radiography_Dataset/Viral Pneumonia/masks/Viral Pneumonia-1329.png  \n",
            "  inflating: COVID-19_Radiography_Dataset/Viral Pneumonia/masks/Viral Pneumonia-133.png  \n",
            "  inflating: COVID-19_Radiography_Dataset/Viral Pneumonia/masks/Viral Pneumonia-1330.png  \n",
            "  inflating: COVID-19_Radiography_Dataset/Viral Pneumonia/masks/Viral Pneumonia-1331.png  \n",
            "  inflating: COVID-19_Radiography_Dataset/Viral Pneumonia/masks/Viral Pneumonia-1332.png  \n",
            "  inflating: COVID-19_Radiography_Dataset/Viral Pneumonia/masks/Viral Pneumonia-1333.png  \n",
            "  inflating: COVID-19_Radiography_Dataset/Viral Pneumonia/masks/Viral Pneumonia-1334.png  \n",
            "  inflating: COVID-19_Radiography_Dataset/Viral Pneumonia/masks/Viral Pneumonia-1335.png  \n",
            "  inflating: COVID-19_Radiography_Dataset/Viral Pneumonia/masks/Viral Pneumonia-1336.png  \n",
            "  inflating: COVID-19_Radiography_Dataset/Viral Pneumonia/masks/Viral Pneumonia-1337.png  \n",
            "  inflating: COVID-19_Radiography_Dataset/Viral Pneumonia/masks/Viral Pneumonia-1338.png  \n",
            "  inflating: COVID-19_Radiography_Dataset/Viral Pneumonia/masks/Viral Pneumonia-1339.png  \n",
            "  inflating: COVID-19_Radiography_Dataset/Viral Pneumonia/masks/Viral Pneumonia-134.png  \n",
            "  inflating: COVID-19_Radiography_Dataset/Viral Pneumonia/masks/Viral Pneumonia-1340.png  \n",
            "  inflating: COVID-19_Radiography_Dataset/Viral Pneumonia/masks/Viral Pneumonia-1341.png  \n",
            "  inflating: COVID-19_Radiography_Dataset/Viral Pneumonia/masks/Viral Pneumonia-1342.png  \n",
            "  inflating: COVID-19_Radiography_Dataset/Viral Pneumonia/masks/Viral Pneumonia-1343.png  \n",
            "  inflating: COVID-19_Radiography_Dataset/Viral Pneumonia/masks/Viral Pneumonia-1344.png  \n",
            "  inflating: COVID-19_Radiography_Dataset/Viral Pneumonia/masks/Viral Pneumonia-1345.png  \n",
            "  inflating: COVID-19_Radiography_Dataset/Viral Pneumonia/masks/Viral Pneumonia-135.png  \n",
            "  inflating: COVID-19_Radiography_Dataset/Viral Pneumonia/masks/Viral Pneumonia-136.png  \n",
            "  inflating: COVID-19_Radiography_Dataset/Viral Pneumonia/masks/Viral Pneumonia-137.png  \n",
            "  inflating: COVID-19_Radiography_Dataset/Viral Pneumonia/masks/Viral Pneumonia-138.png  \n",
            "  inflating: COVID-19_Radiography_Dataset/Viral Pneumonia/masks/Viral Pneumonia-139.png  \n",
            "  inflating: COVID-19_Radiography_Dataset/Viral Pneumonia/masks/Viral Pneumonia-14.png  \n",
            "  inflating: COVID-19_Radiography_Dataset/Viral Pneumonia/masks/Viral Pneumonia-140.png  \n",
            "  inflating: COVID-19_Radiography_Dataset/Viral Pneumonia/masks/Viral Pneumonia-141.png  \n",
            "  inflating: COVID-19_Radiography_Dataset/Viral Pneumonia/masks/Viral Pneumonia-142.png  \n",
            "  inflating: COVID-19_Radiography_Dataset/Viral Pneumonia/masks/Viral Pneumonia-143.png  \n",
            "  inflating: COVID-19_Radiography_Dataset/Viral Pneumonia/masks/Viral Pneumonia-144.png  \n",
            "  inflating: COVID-19_Radiography_Dataset/Viral Pneumonia/masks/Viral Pneumonia-145.png  \n",
            "  inflating: COVID-19_Radiography_Dataset/Viral Pneumonia/masks/Viral Pneumonia-146.png  \n",
            "  inflating: COVID-19_Radiography_Dataset/Viral Pneumonia/masks/Viral Pneumonia-147.png  \n",
            "  inflating: COVID-19_Radiography_Dataset/Viral Pneumonia/masks/Viral Pneumonia-148.png  \n",
            "  inflating: COVID-19_Radiography_Dataset/Viral Pneumonia/masks/Viral Pneumonia-149.png  \n",
            "  inflating: COVID-19_Radiography_Dataset/Viral Pneumonia/masks/Viral Pneumonia-15.png  \n",
            "  inflating: COVID-19_Radiography_Dataset/Viral Pneumonia/masks/Viral Pneumonia-150.png  \n",
            "  inflating: COVID-19_Radiography_Dataset/Viral Pneumonia/masks/Viral Pneumonia-151.png  \n",
            "  inflating: COVID-19_Radiography_Dataset/Viral Pneumonia/masks/Viral Pneumonia-152.png  \n",
            "  inflating: COVID-19_Radiography_Dataset/Viral Pneumonia/masks/Viral Pneumonia-153.png  \n",
            "  inflating: COVID-19_Radiography_Dataset/Viral Pneumonia/masks/Viral Pneumonia-154.png  \n",
            "  inflating: COVID-19_Radiography_Dataset/Viral Pneumonia/masks/Viral Pneumonia-155.png  \n",
            "  inflating: COVID-19_Radiography_Dataset/Viral Pneumonia/masks/Viral Pneumonia-156.png  \n",
            "  inflating: COVID-19_Radiography_Dataset/Viral Pneumonia/masks/Viral Pneumonia-157.png  \n",
            "  inflating: COVID-19_Radiography_Dataset/Viral Pneumonia/masks/Viral Pneumonia-158.png  \n",
            "  inflating: COVID-19_Radiography_Dataset/Viral Pneumonia/masks/Viral Pneumonia-159.png  \n",
            "  inflating: COVID-19_Radiography_Dataset/Viral Pneumonia/masks/Viral Pneumonia-16.png  \n",
            "  inflating: COVID-19_Radiography_Dataset/Viral Pneumonia/masks/Viral Pneumonia-160.png  \n",
            "  inflating: COVID-19_Radiography_Dataset/Viral Pneumonia/masks/Viral Pneumonia-161.png  \n",
            "  inflating: COVID-19_Radiography_Dataset/Viral Pneumonia/masks/Viral Pneumonia-162.png  \n",
            "  inflating: COVID-19_Radiography_Dataset/Viral Pneumonia/masks/Viral Pneumonia-163.png  \n",
            "  inflating: COVID-19_Radiography_Dataset/Viral Pneumonia/masks/Viral Pneumonia-164.png  \n",
            "  inflating: COVID-19_Radiography_Dataset/Viral Pneumonia/masks/Viral Pneumonia-165.png  \n",
            "  inflating: COVID-19_Radiography_Dataset/Viral Pneumonia/masks/Viral Pneumonia-166.png  \n",
            "  inflating: COVID-19_Radiography_Dataset/Viral Pneumonia/masks/Viral Pneumonia-167.png  \n",
            "  inflating: COVID-19_Radiography_Dataset/Viral Pneumonia/masks/Viral Pneumonia-168.png  \n",
            "  inflating: COVID-19_Radiography_Dataset/Viral Pneumonia/masks/Viral Pneumonia-169.png  \n",
            "  inflating: COVID-19_Radiography_Dataset/Viral Pneumonia/masks/Viral Pneumonia-17.png  \n",
            "  inflating: COVID-19_Radiography_Dataset/Viral Pneumonia/masks/Viral Pneumonia-170.png  \n",
            "  inflating: COVID-19_Radiography_Dataset/Viral Pneumonia/masks/Viral Pneumonia-171.png  \n",
            "  inflating: COVID-19_Radiography_Dataset/Viral Pneumonia/masks/Viral Pneumonia-172.png  \n",
            "  inflating: COVID-19_Radiography_Dataset/Viral Pneumonia/masks/Viral Pneumonia-173.png  \n",
            "  inflating: COVID-19_Radiography_Dataset/Viral Pneumonia/masks/Viral Pneumonia-174.png  \n",
            "  inflating: COVID-19_Radiography_Dataset/Viral Pneumonia/masks/Viral Pneumonia-175.png  \n",
            "  inflating: COVID-19_Radiography_Dataset/Viral Pneumonia/masks/Viral Pneumonia-176.png  \n",
            "  inflating: COVID-19_Radiography_Dataset/Viral Pneumonia/masks/Viral Pneumonia-177.png  \n",
            "  inflating: COVID-19_Radiography_Dataset/Viral Pneumonia/masks/Viral Pneumonia-178.png  \n",
            "  inflating: COVID-19_Radiography_Dataset/Viral Pneumonia/masks/Viral Pneumonia-179.png  \n",
            "  inflating: COVID-19_Radiography_Dataset/Viral Pneumonia/masks/Viral Pneumonia-18.png  \n",
            "  inflating: COVID-19_Radiography_Dataset/Viral Pneumonia/masks/Viral Pneumonia-180.png  \n",
            "  inflating: COVID-19_Radiography_Dataset/Viral Pneumonia/masks/Viral Pneumonia-181.png  \n",
            "  inflating: COVID-19_Radiography_Dataset/Viral Pneumonia/masks/Viral Pneumonia-182.png  \n",
            "  inflating: COVID-19_Radiography_Dataset/Viral Pneumonia/masks/Viral Pneumonia-183.png  \n",
            "  inflating: COVID-19_Radiography_Dataset/Viral Pneumonia/masks/Viral Pneumonia-184.png  \n",
            "  inflating: COVID-19_Radiography_Dataset/Viral Pneumonia/masks/Viral Pneumonia-185.png  \n",
            "  inflating: COVID-19_Radiography_Dataset/Viral Pneumonia/masks/Viral Pneumonia-186.png  \n",
            "  inflating: COVID-19_Radiography_Dataset/Viral Pneumonia/masks/Viral Pneumonia-187.png  \n",
            "  inflating: COVID-19_Radiography_Dataset/Viral Pneumonia/masks/Viral Pneumonia-188.png  \n",
            "  inflating: COVID-19_Radiography_Dataset/Viral Pneumonia/masks/Viral Pneumonia-189.png  \n",
            "  inflating: COVID-19_Radiography_Dataset/Viral Pneumonia/masks/Viral Pneumonia-19.png  \n",
            "  inflating: COVID-19_Radiography_Dataset/Viral Pneumonia/masks/Viral Pneumonia-190.png  \n",
            "  inflating: COVID-19_Radiography_Dataset/Viral Pneumonia/masks/Viral Pneumonia-191.png  \n",
            "  inflating: COVID-19_Radiography_Dataset/Viral Pneumonia/masks/Viral Pneumonia-192.png  \n",
            "  inflating: COVID-19_Radiography_Dataset/Viral Pneumonia/masks/Viral Pneumonia-193.png  \n",
            "  inflating: COVID-19_Radiography_Dataset/Viral Pneumonia/masks/Viral Pneumonia-194.png  \n",
            "  inflating: COVID-19_Radiography_Dataset/Viral Pneumonia/masks/Viral Pneumonia-195.png  \n",
            "  inflating: COVID-19_Radiography_Dataset/Viral Pneumonia/masks/Viral Pneumonia-196.png  \n",
            "  inflating: COVID-19_Radiography_Dataset/Viral Pneumonia/masks/Viral Pneumonia-197.png  \n",
            "  inflating: COVID-19_Radiography_Dataset/Viral Pneumonia/masks/Viral Pneumonia-198.png  \n",
            "  inflating: COVID-19_Radiography_Dataset/Viral Pneumonia/masks/Viral Pneumonia-199.png  \n",
            "  inflating: COVID-19_Radiography_Dataset/Viral Pneumonia/masks/Viral Pneumonia-2.png  \n",
            "  inflating: COVID-19_Radiography_Dataset/Viral Pneumonia/masks/Viral Pneumonia-20.png  \n",
            "  inflating: COVID-19_Radiography_Dataset/Viral Pneumonia/masks/Viral Pneumonia-200.png  \n",
            "  inflating: COVID-19_Radiography_Dataset/Viral Pneumonia/masks/Viral Pneumonia-201.png  \n",
            "  inflating: COVID-19_Radiography_Dataset/Viral Pneumonia/masks/Viral Pneumonia-202.png  \n",
            "  inflating: COVID-19_Radiography_Dataset/Viral Pneumonia/masks/Viral Pneumonia-203.png  \n",
            "  inflating: COVID-19_Radiography_Dataset/Viral Pneumonia/masks/Viral Pneumonia-204.png  \n",
            "  inflating: COVID-19_Radiography_Dataset/Viral Pneumonia/masks/Viral Pneumonia-205.png  \n",
            "  inflating: COVID-19_Radiography_Dataset/Viral Pneumonia/masks/Viral Pneumonia-206.png  \n",
            "  inflating: COVID-19_Radiography_Dataset/Viral Pneumonia/masks/Viral Pneumonia-207.png  \n",
            "  inflating: COVID-19_Radiography_Dataset/Viral Pneumonia/masks/Viral Pneumonia-208.png  \n",
            "  inflating: COVID-19_Radiography_Dataset/Viral Pneumonia/masks/Viral Pneumonia-209.png  \n",
            "  inflating: COVID-19_Radiography_Dataset/Viral Pneumonia/masks/Viral Pneumonia-21.png  \n",
            "  inflating: COVID-19_Radiography_Dataset/Viral Pneumonia/masks/Viral Pneumonia-210.png  \n",
            "  inflating: COVID-19_Radiography_Dataset/Viral Pneumonia/masks/Viral Pneumonia-211.png  \n",
            "  inflating: COVID-19_Radiography_Dataset/Viral Pneumonia/masks/Viral Pneumonia-212.png  \n",
            "  inflating: COVID-19_Radiography_Dataset/Viral Pneumonia/masks/Viral Pneumonia-213.png  \n",
            "  inflating: COVID-19_Radiography_Dataset/Viral Pneumonia/masks/Viral Pneumonia-214.png  \n",
            "  inflating: COVID-19_Radiography_Dataset/Viral Pneumonia/masks/Viral Pneumonia-215.png  \n",
            "  inflating: COVID-19_Radiography_Dataset/Viral Pneumonia/masks/Viral Pneumonia-216.png  \n",
            "  inflating: COVID-19_Radiography_Dataset/Viral Pneumonia/masks/Viral Pneumonia-217.png  \n",
            "  inflating: COVID-19_Radiography_Dataset/Viral Pneumonia/masks/Viral Pneumonia-218.png  \n",
            "  inflating: COVID-19_Radiography_Dataset/Viral Pneumonia/masks/Viral Pneumonia-219.png  \n",
            "  inflating: COVID-19_Radiography_Dataset/Viral Pneumonia/masks/Viral Pneumonia-22.png  \n",
            "  inflating: COVID-19_Radiography_Dataset/Viral Pneumonia/masks/Viral Pneumonia-220.png  \n",
            "  inflating: COVID-19_Radiography_Dataset/Viral Pneumonia/masks/Viral Pneumonia-221.png  \n",
            "  inflating: COVID-19_Radiography_Dataset/Viral Pneumonia/masks/Viral Pneumonia-222.png  \n",
            "  inflating: COVID-19_Radiography_Dataset/Viral Pneumonia/masks/Viral Pneumonia-223.png  \n",
            "  inflating: COVID-19_Radiography_Dataset/Viral Pneumonia/masks/Viral Pneumonia-224.png  \n",
            "  inflating: COVID-19_Radiography_Dataset/Viral Pneumonia/masks/Viral Pneumonia-225.png  \n",
            "  inflating: COVID-19_Radiography_Dataset/Viral Pneumonia/masks/Viral Pneumonia-226.png  \n",
            "  inflating: COVID-19_Radiography_Dataset/Viral Pneumonia/masks/Viral Pneumonia-227.png  \n",
            "  inflating: COVID-19_Radiography_Dataset/Viral Pneumonia/masks/Viral Pneumonia-228.png  \n",
            "  inflating: COVID-19_Radiography_Dataset/Viral Pneumonia/masks/Viral Pneumonia-229.png  \n",
            "  inflating: COVID-19_Radiography_Dataset/Viral Pneumonia/masks/Viral Pneumonia-23.png  \n",
            "  inflating: COVID-19_Radiography_Dataset/Viral Pneumonia/masks/Viral Pneumonia-230.png  \n",
            "  inflating: COVID-19_Radiography_Dataset/Viral Pneumonia/masks/Viral Pneumonia-231.png  \n",
            "  inflating: COVID-19_Radiography_Dataset/Viral Pneumonia/masks/Viral Pneumonia-232.png  \n",
            "  inflating: COVID-19_Radiography_Dataset/Viral Pneumonia/masks/Viral Pneumonia-233.png  \n",
            "  inflating: COVID-19_Radiography_Dataset/Viral Pneumonia/masks/Viral Pneumonia-234.png  \n",
            "  inflating: COVID-19_Radiography_Dataset/Viral Pneumonia/masks/Viral Pneumonia-235.png  \n",
            "  inflating: COVID-19_Radiography_Dataset/Viral Pneumonia/masks/Viral Pneumonia-236.png  \n",
            "  inflating: COVID-19_Radiography_Dataset/Viral Pneumonia/masks/Viral Pneumonia-237.png  \n",
            "  inflating: COVID-19_Radiography_Dataset/Viral Pneumonia/masks/Viral Pneumonia-238.png  \n",
            "  inflating: COVID-19_Radiography_Dataset/Viral Pneumonia/masks/Viral Pneumonia-239.png  \n",
            "  inflating: COVID-19_Radiography_Dataset/Viral Pneumonia/masks/Viral Pneumonia-24.png  \n",
            "  inflating: COVID-19_Radiography_Dataset/Viral Pneumonia/masks/Viral Pneumonia-240.png  \n",
            "  inflating: COVID-19_Radiography_Dataset/Viral Pneumonia/masks/Viral Pneumonia-241.png  \n",
            "  inflating: COVID-19_Radiography_Dataset/Viral Pneumonia/masks/Viral Pneumonia-242.png  \n",
            "  inflating: COVID-19_Radiography_Dataset/Viral Pneumonia/masks/Viral Pneumonia-243.png  \n",
            "  inflating: COVID-19_Radiography_Dataset/Viral Pneumonia/masks/Viral Pneumonia-244.png  \n",
            "  inflating: COVID-19_Radiography_Dataset/Viral Pneumonia/masks/Viral Pneumonia-245.png  \n",
            "  inflating: COVID-19_Radiography_Dataset/Viral Pneumonia/masks/Viral Pneumonia-246.png  \n",
            "  inflating: COVID-19_Radiography_Dataset/Viral Pneumonia/masks/Viral Pneumonia-247.png  \n",
            "  inflating: COVID-19_Radiography_Dataset/Viral Pneumonia/masks/Viral Pneumonia-248.png  \n",
            "  inflating: COVID-19_Radiography_Dataset/Viral Pneumonia/masks/Viral Pneumonia-249.png  \n",
            "  inflating: COVID-19_Radiography_Dataset/Viral Pneumonia/masks/Viral Pneumonia-25.png  \n",
            "  inflating: COVID-19_Radiography_Dataset/Viral Pneumonia/masks/Viral Pneumonia-250.png  \n",
            "  inflating: COVID-19_Radiography_Dataset/Viral Pneumonia/masks/Viral Pneumonia-251.png  \n",
            "  inflating: COVID-19_Radiography_Dataset/Viral Pneumonia/masks/Viral Pneumonia-252.png  \n",
            "  inflating: COVID-19_Radiography_Dataset/Viral Pneumonia/masks/Viral Pneumonia-253.png  \n",
            "  inflating: COVID-19_Radiography_Dataset/Viral Pneumonia/masks/Viral Pneumonia-254.png  \n",
            "  inflating: COVID-19_Radiography_Dataset/Viral Pneumonia/masks/Viral Pneumonia-255.png  \n",
            "  inflating: COVID-19_Radiography_Dataset/Viral Pneumonia/masks/Viral Pneumonia-256.png  \n",
            "  inflating: COVID-19_Radiography_Dataset/Viral Pneumonia/masks/Viral Pneumonia-257.png  \n",
            "  inflating: COVID-19_Radiography_Dataset/Viral Pneumonia/masks/Viral Pneumonia-258.png  \n",
            "  inflating: COVID-19_Radiography_Dataset/Viral Pneumonia/masks/Viral Pneumonia-259.png  \n",
            "  inflating: COVID-19_Radiography_Dataset/Viral Pneumonia/masks/Viral Pneumonia-26.png  \n",
            "  inflating: COVID-19_Radiography_Dataset/Viral Pneumonia/masks/Viral Pneumonia-260.png  \n",
            "  inflating: COVID-19_Radiography_Dataset/Viral Pneumonia/masks/Viral Pneumonia-261.png  \n",
            "  inflating: COVID-19_Radiography_Dataset/Viral Pneumonia/masks/Viral Pneumonia-262.png  \n",
            "  inflating: COVID-19_Radiography_Dataset/Viral Pneumonia/masks/Viral Pneumonia-263.png  \n",
            "  inflating: COVID-19_Radiography_Dataset/Viral Pneumonia/masks/Viral Pneumonia-264.png  \n",
            "  inflating: COVID-19_Radiography_Dataset/Viral Pneumonia/masks/Viral Pneumonia-265.png  \n",
            "  inflating: COVID-19_Radiography_Dataset/Viral Pneumonia/masks/Viral Pneumonia-266.png  \n",
            "  inflating: COVID-19_Radiography_Dataset/Viral Pneumonia/masks/Viral Pneumonia-267.png  \n",
            "  inflating: COVID-19_Radiography_Dataset/Viral Pneumonia/masks/Viral Pneumonia-268.png  \n",
            "  inflating: COVID-19_Radiography_Dataset/Viral Pneumonia/masks/Viral Pneumonia-269.png  \n",
            "  inflating: COVID-19_Radiography_Dataset/Viral Pneumonia/masks/Viral Pneumonia-27.png  \n",
            "  inflating: COVID-19_Radiography_Dataset/Viral Pneumonia/masks/Viral Pneumonia-270.png  \n",
            "  inflating: COVID-19_Radiography_Dataset/Viral Pneumonia/masks/Viral Pneumonia-271.png  \n",
            "  inflating: COVID-19_Radiography_Dataset/Viral Pneumonia/masks/Viral Pneumonia-272.png  \n",
            "  inflating: COVID-19_Radiography_Dataset/Viral Pneumonia/masks/Viral Pneumonia-273.png  \n",
            "  inflating: COVID-19_Radiography_Dataset/Viral Pneumonia/masks/Viral Pneumonia-274.png  \n",
            "  inflating: COVID-19_Radiography_Dataset/Viral Pneumonia/masks/Viral Pneumonia-275.png  \n",
            "  inflating: COVID-19_Radiography_Dataset/Viral Pneumonia/masks/Viral Pneumonia-276.png  \n",
            "  inflating: COVID-19_Radiography_Dataset/Viral Pneumonia/masks/Viral Pneumonia-277.png  \n",
            "  inflating: COVID-19_Radiography_Dataset/Viral Pneumonia/masks/Viral Pneumonia-278.png  \n",
            "  inflating: COVID-19_Radiography_Dataset/Viral Pneumonia/masks/Viral Pneumonia-279.png  \n",
            "  inflating: COVID-19_Radiography_Dataset/Viral Pneumonia/masks/Viral Pneumonia-28.png  \n",
            "  inflating: COVID-19_Radiography_Dataset/Viral Pneumonia/masks/Viral Pneumonia-280.png  \n",
            "  inflating: COVID-19_Radiography_Dataset/Viral Pneumonia/masks/Viral Pneumonia-281.png  \n",
            "  inflating: COVID-19_Radiography_Dataset/Viral Pneumonia/masks/Viral Pneumonia-282.png  \n",
            "  inflating: COVID-19_Radiography_Dataset/Viral Pneumonia/masks/Viral Pneumonia-283.png  \n",
            "  inflating: COVID-19_Radiography_Dataset/Viral Pneumonia/masks/Viral Pneumonia-284.png  \n",
            "  inflating: COVID-19_Radiography_Dataset/Viral Pneumonia/masks/Viral Pneumonia-285.png  \n",
            "  inflating: COVID-19_Radiography_Dataset/Viral Pneumonia/masks/Viral Pneumonia-286.png  \n",
            "  inflating: COVID-19_Radiography_Dataset/Viral Pneumonia/masks/Viral Pneumonia-287.png  \n",
            "  inflating: COVID-19_Radiography_Dataset/Viral Pneumonia/masks/Viral Pneumonia-288.png  \n",
            "  inflating: COVID-19_Radiography_Dataset/Viral Pneumonia/masks/Viral Pneumonia-289.png  \n",
            "  inflating: COVID-19_Radiography_Dataset/Viral Pneumonia/masks/Viral Pneumonia-29.png  \n",
            "  inflating: COVID-19_Radiography_Dataset/Viral Pneumonia/masks/Viral Pneumonia-290.png  \n",
            "  inflating: COVID-19_Radiography_Dataset/Viral Pneumonia/masks/Viral Pneumonia-291.png  \n",
            "  inflating: COVID-19_Radiography_Dataset/Viral Pneumonia/masks/Viral Pneumonia-292.png  \n",
            "  inflating: COVID-19_Radiography_Dataset/Viral Pneumonia/masks/Viral Pneumonia-293.png  \n",
            "  inflating: COVID-19_Radiography_Dataset/Viral Pneumonia/masks/Viral Pneumonia-294.png  \n",
            "  inflating: COVID-19_Radiography_Dataset/Viral Pneumonia/masks/Viral Pneumonia-295.png  \n",
            "  inflating: COVID-19_Radiography_Dataset/Viral Pneumonia/masks/Viral Pneumonia-296.png  \n",
            "  inflating: COVID-19_Radiography_Dataset/Viral Pneumonia/masks/Viral Pneumonia-297.png  \n",
            "  inflating: COVID-19_Radiography_Dataset/Viral Pneumonia/masks/Viral Pneumonia-298.png  \n",
            "  inflating: COVID-19_Radiography_Dataset/Viral Pneumonia/masks/Viral Pneumonia-299.png  \n",
            "  inflating: COVID-19_Radiography_Dataset/Viral Pneumonia/masks/Viral Pneumonia-3.png  \n",
            "  inflating: COVID-19_Radiography_Dataset/Viral Pneumonia/masks/Viral Pneumonia-30.png  \n",
            "  inflating: COVID-19_Radiography_Dataset/Viral Pneumonia/masks/Viral Pneumonia-300.png  \n",
            "  inflating: COVID-19_Radiography_Dataset/Viral Pneumonia/masks/Viral Pneumonia-301.png  \n",
            "  inflating: COVID-19_Radiography_Dataset/Viral Pneumonia/masks/Viral Pneumonia-302.png  \n",
            "  inflating: COVID-19_Radiography_Dataset/Viral Pneumonia/masks/Viral Pneumonia-303.png  \n",
            "  inflating: COVID-19_Radiography_Dataset/Viral Pneumonia/masks/Viral Pneumonia-304.png  \n",
            "  inflating: COVID-19_Radiography_Dataset/Viral Pneumonia/masks/Viral Pneumonia-305.png  \n",
            "  inflating: COVID-19_Radiography_Dataset/Viral Pneumonia/masks/Viral Pneumonia-306.png  \n",
            "  inflating: COVID-19_Radiography_Dataset/Viral Pneumonia/masks/Viral Pneumonia-307.png  \n",
            "  inflating: COVID-19_Radiography_Dataset/Viral Pneumonia/masks/Viral Pneumonia-308.png  \n",
            "  inflating: COVID-19_Radiography_Dataset/Viral Pneumonia/masks/Viral Pneumonia-309.png  \n",
            "  inflating: COVID-19_Radiography_Dataset/Viral Pneumonia/masks/Viral Pneumonia-31.png  \n",
            "  inflating: COVID-19_Radiography_Dataset/Viral Pneumonia/masks/Viral Pneumonia-310.png  \n",
            "  inflating: COVID-19_Radiography_Dataset/Viral Pneumonia/masks/Viral Pneumonia-311.png  \n",
            "  inflating: COVID-19_Radiography_Dataset/Viral Pneumonia/masks/Viral Pneumonia-312.png  \n",
            "  inflating: COVID-19_Radiography_Dataset/Viral Pneumonia/masks/Viral Pneumonia-313.png  \n",
            "  inflating: COVID-19_Radiography_Dataset/Viral Pneumonia/masks/Viral Pneumonia-314.png  \n",
            "  inflating: COVID-19_Radiography_Dataset/Viral Pneumonia/masks/Viral Pneumonia-315.png  \n",
            "  inflating: COVID-19_Radiography_Dataset/Viral Pneumonia/masks/Viral Pneumonia-316.png  \n",
            "  inflating: COVID-19_Radiography_Dataset/Viral Pneumonia/masks/Viral Pneumonia-317.png  \n",
            "  inflating: COVID-19_Radiography_Dataset/Viral Pneumonia/masks/Viral Pneumonia-318.png  \n",
            "  inflating: COVID-19_Radiography_Dataset/Viral Pneumonia/masks/Viral Pneumonia-319.png  \n",
            "  inflating: COVID-19_Radiography_Dataset/Viral Pneumonia/masks/Viral Pneumonia-32.png  \n",
            "  inflating: COVID-19_Radiography_Dataset/Viral Pneumonia/masks/Viral Pneumonia-320.png  \n",
            "  inflating: COVID-19_Radiography_Dataset/Viral Pneumonia/masks/Viral Pneumonia-321.png  \n",
            "  inflating: COVID-19_Radiography_Dataset/Viral Pneumonia/masks/Viral Pneumonia-322.png  \n",
            "  inflating: COVID-19_Radiography_Dataset/Viral Pneumonia/masks/Viral Pneumonia-323.png  \n",
            "  inflating: COVID-19_Radiography_Dataset/Viral Pneumonia/masks/Viral Pneumonia-324.png  \n",
            "  inflating: COVID-19_Radiography_Dataset/Viral Pneumonia/masks/Viral Pneumonia-325.png  \n",
            "  inflating: COVID-19_Radiography_Dataset/Viral Pneumonia/masks/Viral Pneumonia-326.png  \n",
            "  inflating: COVID-19_Radiography_Dataset/Viral Pneumonia/masks/Viral Pneumonia-327.png  \n",
            "  inflating: COVID-19_Radiography_Dataset/Viral Pneumonia/masks/Viral Pneumonia-328.png  \n",
            "  inflating: COVID-19_Radiography_Dataset/Viral Pneumonia/masks/Viral Pneumonia-329.png  \n",
            "  inflating: COVID-19_Radiography_Dataset/Viral Pneumonia/masks/Viral Pneumonia-33.png  \n",
            "  inflating: COVID-19_Radiography_Dataset/Viral Pneumonia/masks/Viral Pneumonia-330.png  \n",
            "  inflating: COVID-19_Radiography_Dataset/Viral Pneumonia/masks/Viral Pneumonia-331.png  \n",
            "  inflating: COVID-19_Radiography_Dataset/Viral Pneumonia/masks/Viral Pneumonia-332.png  \n",
            "  inflating: COVID-19_Radiography_Dataset/Viral Pneumonia/masks/Viral Pneumonia-333.png  \n",
            "  inflating: COVID-19_Radiography_Dataset/Viral Pneumonia/masks/Viral Pneumonia-334.png  \n",
            "  inflating: COVID-19_Radiography_Dataset/Viral Pneumonia/masks/Viral Pneumonia-335.png  \n",
            "  inflating: COVID-19_Radiography_Dataset/Viral Pneumonia/masks/Viral Pneumonia-336.png  \n",
            "  inflating: COVID-19_Radiography_Dataset/Viral Pneumonia/masks/Viral Pneumonia-337.png  \n",
            "  inflating: COVID-19_Radiography_Dataset/Viral Pneumonia/masks/Viral Pneumonia-338.png  \n",
            "  inflating: COVID-19_Radiography_Dataset/Viral Pneumonia/masks/Viral Pneumonia-339.png  \n",
            "  inflating: COVID-19_Radiography_Dataset/Viral Pneumonia/masks/Viral Pneumonia-34.png  \n",
            "  inflating: COVID-19_Radiography_Dataset/Viral Pneumonia/masks/Viral Pneumonia-340.png  \n",
            "  inflating: COVID-19_Radiography_Dataset/Viral Pneumonia/masks/Viral Pneumonia-341.png  \n",
            "  inflating: COVID-19_Radiography_Dataset/Viral Pneumonia/masks/Viral Pneumonia-342.png  \n",
            "  inflating: COVID-19_Radiography_Dataset/Viral Pneumonia/masks/Viral Pneumonia-343.png  \n",
            "  inflating: COVID-19_Radiography_Dataset/Viral Pneumonia/masks/Viral Pneumonia-344.png  \n",
            "  inflating: COVID-19_Radiography_Dataset/Viral Pneumonia/masks/Viral Pneumonia-345.png  \n",
            "  inflating: COVID-19_Radiography_Dataset/Viral Pneumonia/masks/Viral Pneumonia-346.png  \n",
            "  inflating: COVID-19_Radiography_Dataset/Viral Pneumonia/masks/Viral Pneumonia-347.png  \n",
            "  inflating: COVID-19_Radiography_Dataset/Viral Pneumonia/masks/Viral Pneumonia-348.png  \n",
            "  inflating: COVID-19_Radiography_Dataset/Viral Pneumonia/masks/Viral Pneumonia-349.png  \n",
            "  inflating: COVID-19_Radiography_Dataset/Viral Pneumonia/masks/Viral Pneumonia-35.png  \n",
            "  inflating: COVID-19_Radiography_Dataset/Viral Pneumonia/masks/Viral Pneumonia-350.png  \n",
            "  inflating: COVID-19_Radiography_Dataset/Viral Pneumonia/masks/Viral Pneumonia-351.png  \n",
            "  inflating: COVID-19_Radiography_Dataset/Viral Pneumonia/masks/Viral Pneumonia-352.png  \n",
            "  inflating: COVID-19_Radiography_Dataset/Viral Pneumonia/masks/Viral Pneumonia-353.png  \n",
            "  inflating: COVID-19_Radiography_Dataset/Viral Pneumonia/masks/Viral Pneumonia-354.png  \n",
            "  inflating: COVID-19_Radiography_Dataset/Viral Pneumonia/masks/Viral Pneumonia-355.png  \n",
            "  inflating: COVID-19_Radiography_Dataset/Viral Pneumonia/masks/Viral Pneumonia-356.png  \n",
            "  inflating: COVID-19_Radiography_Dataset/Viral Pneumonia/masks/Viral Pneumonia-357.png  \n",
            "  inflating: COVID-19_Radiography_Dataset/Viral Pneumonia/masks/Viral Pneumonia-358.png  \n",
            "  inflating: COVID-19_Radiography_Dataset/Viral Pneumonia/masks/Viral Pneumonia-359.png  \n",
            "  inflating: COVID-19_Radiography_Dataset/Viral Pneumonia/masks/Viral Pneumonia-36.png  \n",
            "  inflating: COVID-19_Radiography_Dataset/Viral Pneumonia/masks/Viral Pneumonia-360.png  \n",
            "  inflating: COVID-19_Radiography_Dataset/Viral Pneumonia/masks/Viral Pneumonia-361.png  \n",
            "  inflating: COVID-19_Radiography_Dataset/Viral Pneumonia/masks/Viral Pneumonia-362.png  \n",
            "  inflating: COVID-19_Radiography_Dataset/Viral Pneumonia/masks/Viral Pneumonia-363.png  \n",
            "  inflating: COVID-19_Radiography_Dataset/Viral Pneumonia/masks/Viral Pneumonia-364.png  \n",
            "  inflating: COVID-19_Radiography_Dataset/Viral Pneumonia/masks/Viral Pneumonia-365.png  \n",
            "  inflating: COVID-19_Radiography_Dataset/Viral Pneumonia/masks/Viral Pneumonia-366.png  \n",
            "  inflating: COVID-19_Radiography_Dataset/Viral Pneumonia/masks/Viral Pneumonia-367.png  \n",
            "  inflating: COVID-19_Radiography_Dataset/Viral Pneumonia/masks/Viral Pneumonia-368.png  \n",
            "  inflating: COVID-19_Radiography_Dataset/Viral Pneumonia/masks/Viral Pneumonia-369.png  \n",
            "  inflating: COVID-19_Radiography_Dataset/Viral Pneumonia/masks/Viral Pneumonia-37.png  \n",
            "  inflating: COVID-19_Radiography_Dataset/Viral Pneumonia/masks/Viral Pneumonia-370.png  \n",
            "  inflating: COVID-19_Radiography_Dataset/Viral Pneumonia/masks/Viral Pneumonia-371.png  \n",
            "  inflating: COVID-19_Radiography_Dataset/Viral Pneumonia/masks/Viral Pneumonia-372.png  \n",
            "  inflating: COVID-19_Radiography_Dataset/Viral Pneumonia/masks/Viral Pneumonia-373.png  \n",
            "  inflating: COVID-19_Radiography_Dataset/Viral Pneumonia/masks/Viral Pneumonia-374.png  \n",
            "  inflating: COVID-19_Radiography_Dataset/Viral Pneumonia/masks/Viral Pneumonia-375.png  \n",
            "  inflating: COVID-19_Radiography_Dataset/Viral Pneumonia/masks/Viral Pneumonia-376.png  \n",
            "  inflating: COVID-19_Radiography_Dataset/Viral Pneumonia/masks/Viral Pneumonia-377.png  \n",
            "  inflating: COVID-19_Radiography_Dataset/Viral Pneumonia/masks/Viral Pneumonia-378.png  \n",
            "  inflating: COVID-19_Radiography_Dataset/Viral Pneumonia/masks/Viral Pneumonia-379.png  \n",
            "  inflating: COVID-19_Radiography_Dataset/Viral Pneumonia/masks/Viral Pneumonia-38.png  \n",
            "  inflating: COVID-19_Radiography_Dataset/Viral Pneumonia/masks/Viral Pneumonia-380.png  \n",
            "  inflating: COVID-19_Radiography_Dataset/Viral Pneumonia/masks/Viral Pneumonia-381.png  \n",
            "  inflating: COVID-19_Radiography_Dataset/Viral Pneumonia/masks/Viral Pneumonia-382.png  \n",
            "  inflating: COVID-19_Radiography_Dataset/Viral Pneumonia/masks/Viral Pneumonia-383.png  \n",
            "  inflating: COVID-19_Radiography_Dataset/Viral Pneumonia/masks/Viral Pneumonia-384.png  \n",
            "  inflating: COVID-19_Radiography_Dataset/Viral Pneumonia/masks/Viral Pneumonia-385.png  \n",
            "  inflating: COVID-19_Radiography_Dataset/Viral Pneumonia/masks/Viral Pneumonia-386.png  \n",
            "  inflating: COVID-19_Radiography_Dataset/Viral Pneumonia/masks/Viral Pneumonia-387.png  \n",
            "  inflating: COVID-19_Radiography_Dataset/Viral Pneumonia/masks/Viral Pneumonia-388.png  \n",
            "  inflating: COVID-19_Radiography_Dataset/Viral Pneumonia/masks/Viral Pneumonia-389.png  \n",
            "  inflating: COVID-19_Radiography_Dataset/Viral Pneumonia/masks/Viral Pneumonia-39.png  \n",
            "  inflating: COVID-19_Radiography_Dataset/Viral Pneumonia/masks/Viral Pneumonia-390.png  \n",
            "  inflating: COVID-19_Radiography_Dataset/Viral Pneumonia/masks/Viral Pneumonia-391.png  \n",
            "  inflating: COVID-19_Radiography_Dataset/Viral Pneumonia/masks/Viral Pneumonia-392.png  \n",
            "  inflating: COVID-19_Radiography_Dataset/Viral Pneumonia/masks/Viral Pneumonia-393.png  \n",
            "  inflating: COVID-19_Radiography_Dataset/Viral Pneumonia/masks/Viral Pneumonia-394.png  \n",
            "  inflating: COVID-19_Radiography_Dataset/Viral Pneumonia/masks/Viral Pneumonia-395.png  \n",
            "  inflating: COVID-19_Radiography_Dataset/Viral Pneumonia/masks/Viral Pneumonia-396.png  \n",
            "  inflating: COVID-19_Radiography_Dataset/Viral Pneumonia/masks/Viral Pneumonia-397.png  \n",
            "  inflating: COVID-19_Radiography_Dataset/Viral Pneumonia/masks/Viral Pneumonia-398.png  \n",
            "  inflating: COVID-19_Radiography_Dataset/Viral Pneumonia/masks/Viral Pneumonia-399.png  \n",
            "  inflating: COVID-19_Radiography_Dataset/Viral Pneumonia/masks/Viral Pneumonia-4.png  \n",
            "  inflating: COVID-19_Radiography_Dataset/Viral Pneumonia/masks/Viral Pneumonia-40.png  \n",
            "  inflating: COVID-19_Radiography_Dataset/Viral Pneumonia/masks/Viral Pneumonia-400.png  \n",
            "  inflating: COVID-19_Radiography_Dataset/Viral Pneumonia/masks/Viral Pneumonia-401.png  \n",
            "  inflating: COVID-19_Radiography_Dataset/Viral Pneumonia/masks/Viral Pneumonia-402.png  \n",
            "  inflating: COVID-19_Radiography_Dataset/Viral Pneumonia/masks/Viral Pneumonia-403.png  \n",
            "  inflating: COVID-19_Radiography_Dataset/Viral Pneumonia/masks/Viral Pneumonia-404.png  \n",
            "  inflating: COVID-19_Radiography_Dataset/Viral Pneumonia/masks/Viral Pneumonia-405.png  \n",
            "  inflating: COVID-19_Radiography_Dataset/Viral Pneumonia/masks/Viral Pneumonia-406.png  \n",
            "  inflating: COVID-19_Radiography_Dataset/Viral Pneumonia/masks/Viral Pneumonia-407.png  \n",
            "  inflating: COVID-19_Radiography_Dataset/Viral Pneumonia/masks/Viral Pneumonia-408.png  \n",
            "  inflating: COVID-19_Radiography_Dataset/Viral Pneumonia/masks/Viral Pneumonia-409.png  \n",
            "  inflating: COVID-19_Radiography_Dataset/Viral Pneumonia/masks/Viral Pneumonia-41.png  \n",
            "  inflating: COVID-19_Radiography_Dataset/Viral Pneumonia/masks/Viral Pneumonia-410.png  \n",
            "  inflating: COVID-19_Radiography_Dataset/Viral Pneumonia/masks/Viral Pneumonia-411.png  \n",
            "  inflating: COVID-19_Radiography_Dataset/Viral Pneumonia/masks/Viral Pneumonia-412.png  \n",
            "  inflating: COVID-19_Radiography_Dataset/Viral Pneumonia/masks/Viral Pneumonia-413.png  \n",
            "  inflating: COVID-19_Radiography_Dataset/Viral Pneumonia/masks/Viral Pneumonia-414.png  \n",
            "  inflating: COVID-19_Radiography_Dataset/Viral Pneumonia/masks/Viral Pneumonia-415.png  \n",
            "  inflating: COVID-19_Radiography_Dataset/Viral Pneumonia/masks/Viral Pneumonia-416.png  \n",
            "  inflating: COVID-19_Radiography_Dataset/Viral Pneumonia/masks/Viral Pneumonia-417.png  \n",
            "  inflating: COVID-19_Radiography_Dataset/Viral Pneumonia/masks/Viral Pneumonia-418.png  \n",
            "  inflating: COVID-19_Radiography_Dataset/Viral Pneumonia/masks/Viral Pneumonia-419.png  \n",
            "  inflating: COVID-19_Radiography_Dataset/Viral Pneumonia/masks/Viral Pneumonia-42.png  \n",
            "  inflating: COVID-19_Radiography_Dataset/Viral Pneumonia/masks/Viral Pneumonia-420.png  \n",
            "  inflating: COVID-19_Radiography_Dataset/Viral Pneumonia/masks/Viral Pneumonia-421.png  \n",
            "  inflating: COVID-19_Radiography_Dataset/Viral Pneumonia/masks/Viral Pneumonia-422.png  \n",
            "  inflating: COVID-19_Radiography_Dataset/Viral Pneumonia/masks/Viral Pneumonia-423.png  \n",
            "  inflating: COVID-19_Radiography_Dataset/Viral Pneumonia/masks/Viral Pneumonia-424.png  \n",
            "  inflating: COVID-19_Radiography_Dataset/Viral Pneumonia/masks/Viral Pneumonia-425.png  \n",
            "  inflating: COVID-19_Radiography_Dataset/Viral Pneumonia/masks/Viral Pneumonia-426.png  \n",
            "  inflating: COVID-19_Radiography_Dataset/Viral Pneumonia/masks/Viral Pneumonia-427.png  \n",
            "  inflating: COVID-19_Radiography_Dataset/Viral Pneumonia/masks/Viral Pneumonia-428.png  \n",
            "  inflating: COVID-19_Radiography_Dataset/Viral Pneumonia/masks/Viral Pneumonia-429.png  \n",
            "  inflating: COVID-19_Radiography_Dataset/Viral Pneumonia/masks/Viral Pneumonia-43.png  \n",
            "  inflating: COVID-19_Radiography_Dataset/Viral Pneumonia/masks/Viral Pneumonia-430.png  \n",
            "  inflating: COVID-19_Radiography_Dataset/Viral Pneumonia/masks/Viral Pneumonia-431.png  \n",
            "  inflating: COVID-19_Radiography_Dataset/Viral Pneumonia/masks/Viral Pneumonia-432.png  \n",
            "  inflating: COVID-19_Radiography_Dataset/Viral Pneumonia/masks/Viral Pneumonia-433.png  \n",
            "  inflating: COVID-19_Radiography_Dataset/Viral Pneumonia/masks/Viral Pneumonia-434.png  \n",
            "  inflating: COVID-19_Radiography_Dataset/Viral Pneumonia/masks/Viral Pneumonia-435.png  \n",
            "  inflating: COVID-19_Radiography_Dataset/Viral Pneumonia/masks/Viral Pneumonia-436.png  \n",
            "  inflating: COVID-19_Radiography_Dataset/Viral Pneumonia/masks/Viral Pneumonia-437.png  \n",
            "  inflating: COVID-19_Radiography_Dataset/Viral Pneumonia/masks/Viral Pneumonia-438.png  \n",
            "  inflating: COVID-19_Radiography_Dataset/Viral Pneumonia/masks/Viral Pneumonia-439.png  \n",
            "  inflating: COVID-19_Radiography_Dataset/Viral Pneumonia/masks/Viral Pneumonia-44.png  \n",
            "  inflating: COVID-19_Radiography_Dataset/Viral Pneumonia/masks/Viral Pneumonia-440.png  \n",
            "  inflating: COVID-19_Radiography_Dataset/Viral Pneumonia/masks/Viral Pneumonia-441.png  \n",
            "  inflating: COVID-19_Radiography_Dataset/Viral Pneumonia/masks/Viral Pneumonia-442.png  \n",
            "  inflating: COVID-19_Radiography_Dataset/Viral Pneumonia/masks/Viral Pneumonia-443.png  \n",
            "  inflating: COVID-19_Radiography_Dataset/Viral Pneumonia/masks/Viral Pneumonia-444.png  \n",
            "  inflating: COVID-19_Radiography_Dataset/Viral Pneumonia/masks/Viral Pneumonia-445.png  \n",
            "  inflating: COVID-19_Radiography_Dataset/Viral Pneumonia/masks/Viral Pneumonia-446.png  \n",
            "  inflating: COVID-19_Radiography_Dataset/Viral Pneumonia/masks/Viral Pneumonia-447.png  \n",
            "  inflating: COVID-19_Radiography_Dataset/Viral Pneumonia/masks/Viral Pneumonia-448.png  \n",
            "  inflating: COVID-19_Radiography_Dataset/Viral Pneumonia/masks/Viral Pneumonia-449.png  \n",
            "  inflating: COVID-19_Radiography_Dataset/Viral Pneumonia/masks/Viral Pneumonia-45.png  \n",
            "  inflating: COVID-19_Radiography_Dataset/Viral Pneumonia/masks/Viral Pneumonia-450.png  \n",
            "  inflating: COVID-19_Radiography_Dataset/Viral Pneumonia/masks/Viral Pneumonia-451.png  \n",
            "  inflating: COVID-19_Radiography_Dataset/Viral Pneumonia/masks/Viral Pneumonia-452.png  \n",
            "  inflating: COVID-19_Radiography_Dataset/Viral Pneumonia/masks/Viral Pneumonia-453.png  \n",
            "  inflating: COVID-19_Radiography_Dataset/Viral Pneumonia/masks/Viral Pneumonia-454.png  \n",
            "  inflating: COVID-19_Radiography_Dataset/Viral Pneumonia/masks/Viral Pneumonia-455.png  \n",
            "  inflating: COVID-19_Radiography_Dataset/Viral Pneumonia/masks/Viral Pneumonia-456.png  \n",
            "  inflating: COVID-19_Radiography_Dataset/Viral Pneumonia/masks/Viral Pneumonia-457.png  \n",
            "  inflating: COVID-19_Radiography_Dataset/Viral Pneumonia/masks/Viral Pneumonia-458.png  \n",
            "  inflating: COVID-19_Radiography_Dataset/Viral Pneumonia/masks/Viral Pneumonia-459.png  \n",
            "  inflating: COVID-19_Radiography_Dataset/Viral Pneumonia/masks/Viral Pneumonia-46.png  \n",
            "  inflating: COVID-19_Radiography_Dataset/Viral Pneumonia/masks/Viral Pneumonia-460.png  \n",
            "  inflating: COVID-19_Radiography_Dataset/Viral Pneumonia/masks/Viral Pneumonia-461.png  \n",
            "  inflating: COVID-19_Radiography_Dataset/Viral Pneumonia/masks/Viral Pneumonia-462.png  \n",
            "  inflating: COVID-19_Radiography_Dataset/Viral Pneumonia/masks/Viral Pneumonia-463.png  \n",
            "  inflating: COVID-19_Radiography_Dataset/Viral Pneumonia/masks/Viral Pneumonia-464.png  \n",
            "  inflating: COVID-19_Radiography_Dataset/Viral Pneumonia/masks/Viral Pneumonia-465.png  \n",
            "  inflating: COVID-19_Radiography_Dataset/Viral Pneumonia/masks/Viral Pneumonia-466.png  \n",
            "  inflating: COVID-19_Radiography_Dataset/Viral Pneumonia/masks/Viral Pneumonia-467.png  \n",
            "  inflating: COVID-19_Radiography_Dataset/Viral Pneumonia/masks/Viral Pneumonia-468.png  \n",
            "  inflating: COVID-19_Radiography_Dataset/Viral Pneumonia/masks/Viral Pneumonia-469.png  \n",
            "  inflating: COVID-19_Radiography_Dataset/Viral Pneumonia/masks/Viral Pneumonia-47.png  \n",
            "  inflating: COVID-19_Radiography_Dataset/Viral Pneumonia/masks/Viral Pneumonia-470.png  \n",
            "  inflating: COVID-19_Radiography_Dataset/Viral Pneumonia/masks/Viral Pneumonia-471.png  \n",
            "  inflating: COVID-19_Radiography_Dataset/Viral Pneumonia/masks/Viral Pneumonia-472.png  \n",
            "  inflating: COVID-19_Radiography_Dataset/Viral Pneumonia/masks/Viral Pneumonia-473.png  \n",
            "  inflating: COVID-19_Radiography_Dataset/Viral Pneumonia/masks/Viral Pneumonia-474.png  \n",
            "  inflating: COVID-19_Radiography_Dataset/Viral Pneumonia/masks/Viral Pneumonia-475.png  \n",
            "  inflating: COVID-19_Radiography_Dataset/Viral Pneumonia/masks/Viral Pneumonia-476.png  \n",
            "  inflating: COVID-19_Radiography_Dataset/Viral Pneumonia/masks/Viral Pneumonia-477.png  \n",
            "  inflating: COVID-19_Radiography_Dataset/Viral Pneumonia/masks/Viral Pneumonia-478.png  \n",
            "  inflating: COVID-19_Radiography_Dataset/Viral Pneumonia/masks/Viral Pneumonia-479.png  \n",
            "  inflating: COVID-19_Radiography_Dataset/Viral Pneumonia/masks/Viral Pneumonia-48.png  \n",
            "  inflating: COVID-19_Radiography_Dataset/Viral Pneumonia/masks/Viral Pneumonia-480.png  \n",
            "  inflating: COVID-19_Radiography_Dataset/Viral Pneumonia/masks/Viral Pneumonia-481.png  \n",
            "  inflating: COVID-19_Radiography_Dataset/Viral Pneumonia/masks/Viral Pneumonia-482.png  \n",
            "  inflating: COVID-19_Radiography_Dataset/Viral Pneumonia/masks/Viral Pneumonia-483.png  \n",
            "  inflating: COVID-19_Radiography_Dataset/Viral Pneumonia/masks/Viral Pneumonia-484.png  \n",
            "  inflating: COVID-19_Radiography_Dataset/Viral Pneumonia/masks/Viral Pneumonia-485.png  \n",
            "  inflating: COVID-19_Radiography_Dataset/Viral Pneumonia/masks/Viral Pneumonia-486.png  \n",
            "  inflating: COVID-19_Radiography_Dataset/Viral Pneumonia/masks/Viral Pneumonia-487.png  \n",
            "  inflating: COVID-19_Radiography_Dataset/Viral Pneumonia/masks/Viral Pneumonia-488.png  \n",
            "  inflating: COVID-19_Radiography_Dataset/Viral Pneumonia/masks/Viral Pneumonia-489.png  \n",
            "  inflating: COVID-19_Radiography_Dataset/Viral Pneumonia/masks/Viral Pneumonia-49.png  \n",
            "  inflating: COVID-19_Radiography_Dataset/Viral Pneumonia/masks/Viral Pneumonia-490.png  \n",
            "  inflating: COVID-19_Radiography_Dataset/Viral Pneumonia/masks/Viral Pneumonia-491.png  \n",
            "  inflating: COVID-19_Radiography_Dataset/Viral Pneumonia/masks/Viral Pneumonia-492.png  \n",
            "  inflating: COVID-19_Radiography_Dataset/Viral Pneumonia/masks/Viral Pneumonia-493.png  \n",
            "  inflating: COVID-19_Radiography_Dataset/Viral Pneumonia/masks/Viral Pneumonia-494.png  \n",
            "  inflating: COVID-19_Radiography_Dataset/Viral Pneumonia/masks/Viral Pneumonia-495.png  \n",
            "  inflating: COVID-19_Radiography_Dataset/Viral Pneumonia/masks/Viral Pneumonia-496.png  \n",
            "  inflating: COVID-19_Radiography_Dataset/Viral Pneumonia/masks/Viral Pneumonia-497.png  \n",
            "  inflating: COVID-19_Radiography_Dataset/Viral Pneumonia/masks/Viral Pneumonia-498.png  \n",
            "  inflating: COVID-19_Radiography_Dataset/Viral Pneumonia/masks/Viral Pneumonia-499.png  \n",
            "  inflating: COVID-19_Radiography_Dataset/Viral Pneumonia/masks/Viral Pneumonia-5.png  \n",
            "  inflating: COVID-19_Radiography_Dataset/Viral Pneumonia/masks/Viral Pneumonia-50.png  \n",
            "  inflating: COVID-19_Radiography_Dataset/Viral Pneumonia/masks/Viral Pneumonia-500.png  \n",
            "  inflating: COVID-19_Radiography_Dataset/Viral Pneumonia/masks/Viral Pneumonia-501.png  \n",
            "  inflating: COVID-19_Radiography_Dataset/Viral Pneumonia/masks/Viral Pneumonia-502.png  \n",
            "  inflating: COVID-19_Radiography_Dataset/Viral Pneumonia/masks/Viral Pneumonia-503.png  \n",
            "  inflating: COVID-19_Radiography_Dataset/Viral Pneumonia/masks/Viral Pneumonia-504.png  \n",
            "  inflating: COVID-19_Radiography_Dataset/Viral Pneumonia/masks/Viral Pneumonia-505.png  \n",
            "  inflating: COVID-19_Radiography_Dataset/Viral Pneumonia/masks/Viral Pneumonia-506.png  \n",
            "  inflating: COVID-19_Radiography_Dataset/Viral Pneumonia/masks/Viral Pneumonia-507.png  \n",
            "  inflating: COVID-19_Radiography_Dataset/Viral Pneumonia/masks/Viral Pneumonia-508.png  \n",
            "  inflating: COVID-19_Radiography_Dataset/Viral Pneumonia/masks/Viral Pneumonia-509.png  \n",
            "  inflating: COVID-19_Radiography_Dataset/Viral Pneumonia/masks/Viral Pneumonia-51.png  \n",
            "  inflating: COVID-19_Radiography_Dataset/Viral Pneumonia/masks/Viral Pneumonia-510.png  \n",
            "  inflating: COVID-19_Radiography_Dataset/Viral Pneumonia/masks/Viral Pneumonia-511.png  \n",
            "  inflating: COVID-19_Radiography_Dataset/Viral Pneumonia/masks/Viral Pneumonia-512.png  \n",
            "  inflating: COVID-19_Radiography_Dataset/Viral Pneumonia/masks/Viral Pneumonia-513.png  \n",
            "  inflating: COVID-19_Radiography_Dataset/Viral Pneumonia/masks/Viral Pneumonia-514.png  \n",
            "  inflating: COVID-19_Radiography_Dataset/Viral Pneumonia/masks/Viral Pneumonia-515.png  \n",
            "  inflating: COVID-19_Radiography_Dataset/Viral Pneumonia/masks/Viral Pneumonia-516.png  \n",
            "  inflating: COVID-19_Radiography_Dataset/Viral Pneumonia/masks/Viral Pneumonia-517.png  \n",
            "  inflating: COVID-19_Radiography_Dataset/Viral Pneumonia/masks/Viral Pneumonia-518.png  \n",
            "  inflating: COVID-19_Radiography_Dataset/Viral Pneumonia/masks/Viral Pneumonia-519.png  \n",
            "  inflating: COVID-19_Radiography_Dataset/Viral Pneumonia/masks/Viral Pneumonia-52.png  \n",
            "  inflating: COVID-19_Radiography_Dataset/Viral Pneumonia/masks/Viral Pneumonia-520.png  \n",
            "  inflating: COVID-19_Radiography_Dataset/Viral Pneumonia/masks/Viral Pneumonia-521.png  \n",
            "  inflating: COVID-19_Radiography_Dataset/Viral Pneumonia/masks/Viral Pneumonia-522.png  \n",
            "  inflating: COVID-19_Radiography_Dataset/Viral Pneumonia/masks/Viral Pneumonia-523.png  \n",
            "  inflating: COVID-19_Radiography_Dataset/Viral Pneumonia/masks/Viral Pneumonia-524.png  \n",
            "  inflating: COVID-19_Radiography_Dataset/Viral Pneumonia/masks/Viral Pneumonia-525.png  \n",
            "  inflating: COVID-19_Radiography_Dataset/Viral Pneumonia/masks/Viral Pneumonia-526.png  \n",
            "  inflating: COVID-19_Radiography_Dataset/Viral Pneumonia/masks/Viral Pneumonia-527.png  \n",
            "  inflating: COVID-19_Radiography_Dataset/Viral Pneumonia/masks/Viral Pneumonia-528.png  \n",
            "  inflating: COVID-19_Radiography_Dataset/Viral Pneumonia/masks/Viral Pneumonia-529.png  \n",
            "  inflating: COVID-19_Radiography_Dataset/Viral Pneumonia/masks/Viral Pneumonia-53.png  \n",
            "  inflating: COVID-19_Radiography_Dataset/Viral Pneumonia/masks/Viral Pneumonia-530.png  \n",
            "  inflating: COVID-19_Radiography_Dataset/Viral Pneumonia/masks/Viral Pneumonia-531.png  \n",
            "  inflating: COVID-19_Radiography_Dataset/Viral Pneumonia/masks/Viral Pneumonia-532.png  \n",
            "  inflating: COVID-19_Radiography_Dataset/Viral Pneumonia/masks/Viral Pneumonia-533.png  \n",
            "  inflating: COVID-19_Radiography_Dataset/Viral Pneumonia/masks/Viral Pneumonia-534.png  \n",
            "  inflating: COVID-19_Radiography_Dataset/Viral Pneumonia/masks/Viral Pneumonia-535.png  \n",
            "  inflating: COVID-19_Radiography_Dataset/Viral Pneumonia/masks/Viral Pneumonia-536.png  \n",
            "  inflating: COVID-19_Radiography_Dataset/Viral Pneumonia/masks/Viral Pneumonia-537.png  \n",
            "  inflating: COVID-19_Radiography_Dataset/Viral Pneumonia/masks/Viral Pneumonia-538.png  \n",
            "  inflating: COVID-19_Radiography_Dataset/Viral Pneumonia/masks/Viral Pneumonia-539.png  \n",
            "  inflating: COVID-19_Radiography_Dataset/Viral Pneumonia/masks/Viral Pneumonia-54.png  \n",
            "  inflating: COVID-19_Radiography_Dataset/Viral Pneumonia/masks/Viral Pneumonia-540.png  \n",
            "  inflating: COVID-19_Radiography_Dataset/Viral Pneumonia/masks/Viral Pneumonia-541.png  \n",
            "  inflating: COVID-19_Radiography_Dataset/Viral Pneumonia/masks/Viral Pneumonia-542.png  \n",
            "  inflating: COVID-19_Radiography_Dataset/Viral Pneumonia/masks/Viral Pneumonia-543.png  \n",
            "  inflating: COVID-19_Radiography_Dataset/Viral Pneumonia/masks/Viral Pneumonia-544.png  \n",
            "  inflating: COVID-19_Radiography_Dataset/Viral Pneumonia/masks/Viral Pneumonia-545.png  \n",
            "  inflating: COVID-19_Radiography_Dataset/Viral Pneumonia/masks/Viral Pneumonia-546.png  \n",
            "  inflating: COVID-19_Radiography_Dataset/Viral Pneumonia/masks/Viral Pneumonia-547.png  \n",
            "  inflating: COVID-19_Radiography_Dataset/Viral Pneumonia/masks/Viral Pneumonia-548.png  \n",
            "  inflating: COVID-19_Radiography_Dataset/Viral Pneumonia/masks/Viral Pneumonia-549.png  \n",
            "  inflating: COVID-19_Radiography_Dataset/Viral Pneumonia/masks/Viral Pneumonia-55.png  \n",
            "  inflating: COVID-19_Radiography_Dataset/Viral Pneumonia/masks/Viral Pneumonia-550.png  \n",
            "  inflating: COVID-19_Radiography_Dataset/Viral Pneumonia/masks/Viral Pneumonia-551.png  \n",
            "  inflating: COVID-19_Radiography_Dataset/Viral Pneumonia/masks/Viral Pneumonia-552.png  \n",
            "  inflating: COVID-19_Radiography_Dataset/Viral Pneumonia/masks/Viral Pneumonia-553.png  \n",
            "  inflating: COVID-19_Radiography_Dataset/Viral Pneumonia/masks/Viral Pneumonia-554.png  \n",
            "  inflating: COVID-19_Radiography_Dataset/Viral Pneumonia/masks/Viral Pneumonia-555.png  \n",
            "  inflating: COVID-19_Radiography_Dataset/Viral Pneumonia/masks/Viral Pneumonia-556.png  \n",
            "  inflating: COVID-19_Radiography_Dataset/Viral Pneumonia/masks/Viral Pneumonia-557.png  \n",
            "  inflating: COVID-19_Radiography_Dataset/Viral Pneumonia/masks/Viral Pneumonia-558.png  \n",
            "  inflating: COVID-19_Radiography_Dataset/Viral Pneumonia/masks/Viral Pneumonia-559.png  \n",
            "  inflating: COVID-19_Radiography_Dataset/Viral Pneumonia/masks/Viral Pneumonia-56.png  \n",
            "  inflating: COVID-19_Radiography_Dataset/Viral Pneumonia/masks/Viral Pneumonia-560.png  \n",
            "  inflating: COVID-19_Radiography_Dataset/Viral Pneumonia/masks/Viral Pneumonia-561.png  \n",
            "  inflating: COVID-19_Radiography_Dataset/Viral Pneumonia/masks/Viral Pneumonia-562.png  \n",
            "  inflating: COVID-19_Radiography_Dataset/Viral Pneumonia/masks/Viral Pneumonia-563.png  \n",
            "  inflating: COVID-19_Radiography_Dataset/Viral Pneumonia/masks/Viral Pneumonia-564.png  \n",
            "  inflating: COVID-19_Radiography_Dataset/Viral Pneumonia/masks/Viral Pneumonia-565.png  \n",
            "  inflating: COVID-19_Radiography_Dataset/Viral Pneumonia/masks/Viral Pneumonia-566.png  \n",
            "  inflating: COVID-19_Radiography_Dataset/Viral Pneumonia/masks/Viral Pneumonia-567.png  \n",
            "  inflating: COVID-19_Radiography_Dataset/Viral Pneumonia/masks/Viral Pneumonia-568.png  \n",
            "  inflating: COVID-19_Radiography_Dataset/Viral Pneumonia/masks/Viral Pneumonia-569.png  \n",
            "  inflating: COVID-19_Radiography_Dataset/Viral Pneumonia/masks/Viral Pneumonia-57.png  \n",
            "  inflating: COVID-19_Radiography_Dataset/Viral Pneumonia/masks/Viral Pneumonia-570.png  \n",
            "  inflating: COVID-19_Radiography_Dataset/Viral Pneumonia/masks/Viral Pneumonia-571.png  \n",
            "  inflating: COVID-19_Radiography_Dataset/Viral Pneumonia/masks/Viral Pneumonia-572.png  \n",
            "  inflating: COVID-19_Radiography_Dataset/Viral Pneumonia/masks/Viral Pneumonia-573.png  \n",
            "  inflating: COVID-19_Radiography_Dataset/Viral Pneumonia/masks/Viral Pneumonia-574.png  \n",
            "  inflating: COVID-19_Radiography_Dataset/Viral Pneumonia/masks/Viral Pneumonia-575.png  \n",
            "  inflating: COVID-19_Radiography_Dataset/Viral Pneumonia/masks/Viral Pneumonia-576.png  \n",
            "  inflating: COVID-19_Radiography_Dataset/Viral Pneumonia/masks/Viral Pneumonia-577.png  \n",
            "  inflating: COVID-19_Radiography_Dataset/Viral Pneumonia/masks/Viral Pneumonia-578.png  \n",
            "  inflating: COVID-19_Radiography_Dataset/Viral Pneumonia/masks/Viral Pneumonia-579.png  \n",
            "  inflating: COVID-19_Radiography_Dataset/Viral Pneumonia/masks/Viral Pneumonia-58.png  \n",
            "  inflating: COVID-19_Radiography_Dataset/Viral Pneumonia/masks/Viral Pneumonia-580.png  \n",
            "  inflating: COVID-19_Radiography_Dataset/Viral Pneumonia/masks/Viral Pneumonia-581.png  \n",
            "  inflating: COVID-19_Radiography_Dataset/Viral Pneumonia/masks/Viral Pneumonia-582.png  \n",
            "  inflating: COVID-19_Radiography_Dataset/Viral Pneumonia/masks/Viral Pneumonia-583.png  \n",
            "  inflating: COVID-19_Radiography_Dataset/Viral Pneumonia/masks/Viral Pneumonia-584.png  \n",
            "  inflating: COVID-19_Radiography_Dataset/Viral Pneumonia/masks/Viral Pneumonia-585.png  \n",
            "  inflating: COVID-19_Radiography_Dataset/Viral Pneumonia/masks/Viral Pneumonia-586.png  \n",
            "  inflating: COVID-19_Radiography_Dataset/Viral Pneumonia/masks/Viral Pneumonia-587.png  \n",
            "  inflating: COVID-19_Radiography_Dataset/Viral Pneumonia/masks/Viral Pneumonia-588.png  \n",
            "  inflating: COVID-19_Radiography_Dataset/Viral Pneumonia/masks/Viral Pneumonia-589.png  \n",
            "  inflating: COVID-19_Radiography_Dataset/Viral Pneumonia/masks/Viral Pneumonia-59.png  \n",
            "  inflating: COVID-19_Radiography_Dataset/Viral Pneumonia/masks/Viral Pneumonia-590.png  \n",
            "  inflating: COVID-19_Radiography_Dataset/Viral Pneumonia/masks/Viral Pneumonia-591.png  \n",
            "  inflating: COVID-19_Radiography_Dataset/Viral Pneumonia/masks/Viral Pneumonia-592.png  \n",
            "  inflating: COVID-19_Radiography_Dataset/Viral Pneumonia/masks/Viral Pneumonia-593.png  \n",
            "  inflating: COVID-19_Radiography_Dataset/Viral Pneumonia/masks/Viral Pneumonia-594.png  \n",
            "  inflating: COVID-19_Radiography_Dataset/Viral Pneumonia/masks/Viral Pneumonia-595.png  \n",
            "  inflating: COVID-19_Radiography_Dataset/Viral Pneumonia/masks/Viral Pneumonia-596.png  \n",
            "  inflating: COVID-19_Radiography_Dataset/Viral Pneumonia/masks/Viral Pneumonia-597.png  \n",
            "  inflating: COVID-19_Radiography_Dataset/Viral Pneumonia/masks/Viral Pneumonia-598.png  \n",
            "  inflating: COVID-19_Radiography_Dataset/Viral Pneumonia/masks/Viral Pneumonia-599.png  \n",
            "  inflating: COVID-19_Radiography_Dataset/Viral Pneumonia/masks/Viral Pneumonia-6.png  \n",
            "  inflating: COVID-19_Radiography_Dataset/Viral Pneumonia/masks/Viral Pneumonia-60.png  \n",
            "  inflating: COVID-19_Radiography_Dataset/Viral Pneumonia/masks/Viral Pneumonia-600.png  \n",
            "  inflating: COVID-19_Radiography_Dataset/Viral Pneumonia/masks/Viral Pneumonia-601.png  \n",
            "  inflating: COVID-19_Radiography_Dataset/Viral Pneumonia/masks/Viral Pneumonia-602.png  \n",
            "  inflating: COVID-19_Radiography_Dataset/Viral Pneumonia/masks/Viral Pneumonia-603.png  \n",
            "  inflating: COVID-19_Radiography_Dataset/Viral Pneumonia/masks/Viral Pneumonia-604.png  \n",
            "  inflating: COVID-19_Radiography_Dataset/Viral Pneumonia/masks/Viral Pneumonia-605.png  \n",
            "  inflating: COVID-19_Radiography_Dataset/Viral Pneumonia/masks/Viral Pneumonia-606.png  \n",
            "  inflating: COVID-19_Radiography_Dataset/Viral Pneumonia/masks/Viral Pneumonia-607.png  \n",
            "  inflating: COVID-19_Radiography_Dataset/Viral Pneumonia/masks/Viral Pneumonia-608.png  \n",
            "  inflating: COVID-19_Radiography_Dataset/Viral Pneumonia/masks/Viral Pneumonia-609.png  \n",
            "  inflating: COVID-19_Radiography_Dataset/Viral Pneumonia/masks/Viral Pneumonia-61.png  \n",
            "  inflating: COVID-19_Radiography_Dataset/Viral Pneumonia/masks/Viral Pneumonia-610.png  \n",
            "  inflating: COVID-19_Radiography_Dataset/Viral Pneumonia/masks/Viral Pneumonia-611.png  \n",
            "  inflating: COVID-19_Radiography_Dataset/Viral Pneumonia/masks/Viral Pneumonia-612.png  \n",
            "  inflating: COVID-19_Radiography_Dataset/Viral Pneumonia/masks/Viral Pneumonia-613.png  \n",
            "  inflating: COVID-19_Radiography_Dataset/Viral Pneumonia/masks/Viral Pneumonia-614.png  \n",
            "  inflating: COVID-19_Radiography_Dataset/Viral Pneumonia/masks/Viral Pneumonia-615.png  \n",
            "  inflating: COVID-19_Radiography_Dataset/Viral Pneumonia/masks/Viral Pneumonia-616.png  \n",
            "  inflating: COVID-19_Radiography_Dataset/Viral Pneumonia/masks/Viral Pneumonia-617.png  \n",
            "  inflating: COVID-19_Radiography_Dataset/Viral Pneumonia/masks/Viral Pneumonia-618.png  \n",
            "  inflating: COVID-19_Radiography_Dataset/Viral Pneumonia/masks/Viral Pneumonia-619.png  \n",
            "  inflating: COVID-19_Radiography_Dataset/Viral Pneumonia/masks/Viral Pneumonia-62.png  \n",
            "  inflating: COVID-19_Radiography_Dataset/Viral Pneumonia/masks/Viral Pneumonia-620.png  \n",
            "  inflating: COVID-19_Radiography_Dataset/Viral Pneumonia/masks/Viral Pneumonia-621.png  \n",
            "  inflating: COVID-19_Radiography_Dataset/Viral Pneumonia/masks/Viral Pneumonia-622.png  \n",
            "  inflating: COVID-19_Radiography_Dataset/Viral Pneumonia/masks/Viral Pneumonia-623.png  \n",
            "  inflating: COVID-19_Radiography_Dataset/Viral Pneumonia/masks/Viral Pneumonia-624.png  \n",
            "  inflating: COVID-19_Radiography_Dataset/Viral Pneumonia/masks/Viral Pneumonia-625.png  \n",
            "  inflating: COVID-19_Radiography_Dataset/Viral Pneumonia/masks/Viral Pneumonia-626.png  \n",
            "  inflating: COVID-19_Radiography_Dataset/Viral Pneumonia/masks/Viral Pneumonia-627.png  \n",
            "  inflating: COVID-19_Radiography_Dataset/Viral Pneumonia/masks/Viral Pneumonia-628.png  \n",
            "  inflating: COVID-19_Radiography_Dataset/Viral Pneumonia/masks/Viral Pneumonia-629.png  \n",
            "  inflating: COVID-19_Radiography_Dataset/Viral Pneumonia/masks/Viral Pneumonia-63.png  \n",
            "  inflating: COVID-19_Radiography_Dataset/Viral Pneumonia/masks/Viral Pneumonia-630.png  \n",
            "  inflating: COVID-19_Radiography_Dataset/Viral Pneumonia/masks/Viral Pneumonia-631.png  \n",
            "  inflating: COVID-19_Radiography_Dataset/Viral Pneumonia/masks/Viral Pneumonia-632.png  \n",
            "  inflating: COVID-19_Radiography_Dataset/Viral Pneumonia/masks/Viral Pneumonia-633.png  \n",
            "  inflating: COVID-19_Radiography_Dataset/Viral Pneumonia/masks/Viral Pneumonia-634.png  \n",
            "  inflating: COVID-19_Radiography_Dataset/Viral Pneumonia/masks/Viral Pneumonia-635.png  \n",
            "  inflating: COVID-19_Radiography_Dataset/Viral Pneumonia/masks/Viral Pneumonia-636.png  \n",
            "  inflating: COVID-19_Radiography_Dataset/Viral Pneumonia/masks/Viral Pneumonia-637.png  \n",
            "  inflating: COVID-19_Radiography_Dataset/Viral Pneumonia/masks/Viral Pneumonia-638.png  \n",
            "  inflating: COVID-19_Radiography_Dataset/Viral Pneumonia/masks/Viral Pneumonia-639.png  \n",
            "  inflating: COVID-19_Radiography_Dataset/Viral Pneumonia/masks/Viral Pneumonia-64.png  \n",
            "  inflating: COVID-19_Radiography_Dataset/Viral Pneumonia/masks/Viral Pneumonia-640.png  \n",
            "  inflating: COVID-19_Radiography_Dataset/Viral Pneumonia/masks/Viral Pneumonia-641.png  \n",
            "  inflating: COVID-19_Radiography_Dataset/Viral Pneumonia/masks/Viral Pneumonia-642.png  \n",
            "  inflating: COVID-19_Radiography_Dataset/Viral Pneumonia/masks/Viral Pneumonia-643.png  \n",
            "  inflating: COVID-19_Radiography_Dataset/Viral Pneumonia/masks/Viral Pneumonia-644.png  \n",
            "  inflating: COVID-19_Radiography_Dataset/Viral Pneumonia/masks/Viral Pneumonia-645.png  \n",
            "  inflating: COVID-19_Radiography_Dataset/Viral Pneumonia/masks/Viral Pneumonia-646.png  \n",
            "  inflating: COVID-19_Radiography_Dataset/Viral Pneumonia/masks/Viral Pneumonia-647.png  \n",
            "  inflating: COVID-19_Radiography_Dataset/Viral Pneumonia/masks/Viral Pneumonia-648.png  \n",
            "  inflating: COVID-19_Radiography_Dataset/Viral Pneumonia/masks/Viral Pneumonia-649.png  \n",
            "  inflating: COVID-19_Radiography_Dataset/Viral Pneumonia/masks/Viral Pneumonia-65.png  \n",
            "  inflating: COVID-19_Radiography_Dataset/Viral Pneumonia/masks/Viral Pneumonia-650.png  \n",
            "  inflating: COVID-19_Radiography_Dataset/Viral Pneumonia/masks/Viral Pneumonia-651.png  \n",
            "  inflating: COVID-19_Radiography_Dataset/Viral Pneumonia/masks/Viral Pneumonia-652.png  \n",
            "  inflating: COVID-19_Radiography_Dataset/Viral Pneumonia/masks/Viral Pneumonia-653.png  \n",
            "  inflating: COVID-19_Radiography_Dataset/Viral Pneumonia/masks/Viral Pneumonia-654.png  \n",
            "  inflating: COVID-19_Radiography_Dataset/Viral Pneumonia/masks/Viral Pneumonia-655.png  \n",
            "  inflating: COVID-19_Radiography_Dataset/Viral Pneumonia/masks/Viral Pneumonia-656.png  \n",
            "  inflating: COVID-19_Radiography_Dataset/Viral Pneumonia/masks/Viral Pneumonia-657.png  \n",
            "  inflating: COVID-19_Radiography_Dataset/Viral Pneumonia/masks/Viral Pneumonia-658.png  \n",
            "  inflating: COVID-19_Radiography_Dataset/Viral Pneumonia/masks/Viral Pneumonia-659.png  \n",
            "  inflating: COVID-19_Radiography_Dataset/Viral Pneumonia/masks/Viral Pneumonia-66.png  \n",
            "  inflating: COVID-19_Radiography_Dataset/Viral Pneumonia/masks/Viral Pneumonia-660.png  \n",
            "  inflating: COVID-19_Radiography_Dataset/Viral Pneumonia/masks/Viral Pneumonia-661.png  \n",
            "  inflating: COVID-19_Radiography_Dataset/Viral Pneumonia/masks/Viral Pneumonia-662.png  \n",
            "  inflating: COVID-19_Radiography_Dataset/Viral Pneumonia/masks/Viral Pneumonia-663.png  \n",
            "  inflating: COVID-19_Radiography_Dataset/Viral Pneumonia/masks/Viral Pneumonia-664.png  \n",
            "  inflating: COVID-19_Radiography_Dataset/Viral Pneumonia/masks/Viral Pneumonia-665.png  \n",
            "  inflating: COVID-19_Radiography_Dataset/Viral Pneumonia/masks/Viral Pneumonia-666.png  \n",
            "  inflating: COVID-19_Radiography_Dataset/Viral Pneumonia/masks/Viral Pneumonia-667.png  \n",
            "  inflating: COVID-19_Radiography_Dataset/Viral Pneumonia/masks/Viral Pneumonia-668.png  \n",
            "  inflating: COVID-19_Radiography_Dataset/Viral Pneumonia/masks/Viral Pneumonia-669.png  \n",
            "  inflating: COVID-19_Radiography_Dataset/Viral Pneumonia/masks/Viral Pneumonia-67.png  \n",
            "  inflating: COVID-19_Radiography_Dataset/Viral Pneumonia/masks/Viral Pneumonia-670.png  \n",
            "  inflating: COVID-19_Radiography_Dataset/Viral Pneumonia/masks/Viral Pneumonia-671.png  \n",
            "  inflating: COVID-19_Radiography_Dataset/Viral Pneumonia/masks/Viral Pneumonia-672.png  \n",
            "  inflating: COVID-19_Radiography_Dataset/Viral Pneumonia/masks/Viral Pneumonia-673.png  \n",
            "  inflating: COVID-19_Radiography_Dataset/Viral Pneumonia/masks/Viral Pneumonia-674.png  \n",
            "  inflating: COVID-19_Radiography_Dataset/Viral Pneumonia/masks/Viral Pneumonia-675.png  \n",
            "  inflating: COVID-19_Radiography_Dataset/Viral Pneumonia/masks/Viral Pneumonia-676.png  \n",
            "  inflating: COVID-19_Radiography_Dataset/Viral Pneumonia/masks/Viral Pneumonia-677.png  \n",
            "  inflating: COVID-19_Radiography_Dataset/Viral Pneumonia/masks/Viral Pneumonia-678.png  \n",
            "  inflating: COVID-19_Radiography_Dataset/Viral Pneumonia/masks/Viral Pneumonia-679.png  \n",
            "  inflating: COVID-19_Radiography_Dataset/Viral Pneumonia/masks/Viral Pneumonia-68.png  \n",
            "  inflating: COVID-19_Radiography_Dataset/Viral Pneumonia/masks/Viral Pneumonia-680.png  \n",
            "  inflating: COVID-19_Radiography_Dataset/Viral Pneumonia/masks/Viral Pneumonia-681.png  \n",
            "  inflating: COVID-19_Radiography_Dataset/Viral Pneumonia/masks/Viral Pneumonia-682.png  \n",
            "  inflating: COVID-19_Radiography_Dataset/Viral Pneumonia/masks/Viral Pneumonia-683.png  \n",
            "  inflating: COVID-19_Radiography_Dataset/Viral Pneumonia/masks/Viral Pneumonia-684.png  \n",
            "  inflating: COVID-19_Radiography_Dataset/Viral Pneumonia/masks/Viral Pneumonia-685.png  \n",
            "  inflating: COVID-19_Radiography_Dataset/Viral Pneumonia/masks/Viral Pneumonia-686.png  \n",
            "  inflating: COVID-19_Radiography_Dataset/Viral Pneumonia/masks/Viral Pneumonia-687.png  \n",
            "  inflating: COVID-19_Radiography_Dataset/Viral Pneumonia/masks/Viral Pneumonia-688.png  \n",
            "  inflating: COVID-19_Radiography_Dataset/Viral Pneumonia/masks/Viral Pneumonia-689.png  \n",
            "  inflating: COVID-19_Radiography_Dataset/Viral Pneumonia/masks/Viral Pneumonia-69.png  \n",
            "  inflating: COVID-19_Radiography_Dataset/Viral Pneumonia/masks/Viral Pneumonia-690.png  \n",
            "  inflating: COVID-19_Radiography_Dataset/Viral Pneumonia/masks/Viral Pneumonia-691.png  \n",
            "  inflating: COVID-19_Radiography_Dataset/Viral Pneumonia/masks/Viral Pneumonia-692.png  \n",
            "  inflating: COVID-19_Radiography_Dataset/Viral Pneumonia/masks/Viral Pneumonia-693.png  \n",
            "  inflating: COVID-19_Radiography_Dataset/Viral Pneumonia/masks/Viral Pneumonia-694.png  \n",
            "  inflating: COVID-19_Radiography_Dataset/Viral Pneumonia/masks/Viral Pneumonia-695.png  \n",
            "  inflating: COVID-19_Radiography_Dataset/Viral Pneumonia/masks/Viral Pneumonia-696.png  \n",
            "  inflating: COVID-19_Radiography_Dataset/Viral Pneumonia/masks/Viral Pneumonia-697.png  \n",
            "  inflating: COVID-19_Radiography_Dataset/Viral Pneumonia/masks/Viral Pneumonia-698.png  \n",
            "  inflating: COVID-19_Radiography_Dataset/Viral Pneumonia/masks/Viral Pneumonia-699.png  \n",
            "  inflating: COVID-19_Radiography_Dataset/Viral Pneumonia/masks/Viral Pneumonia-7.png  \n",
            "  inflating: COVID-19_Radiography_Dataset/Viral Pneumonia/masks/Viral Pneumonia-70.png  \n",
            "  inflating: COVID-19_Radiography_Dataset/Viral Pneumonia/masks/Viral Pneumonia-700.png  \n",
            "  inflating: COVID-19_Radiography_Dataset/Viral Pneumonia/masks/Viral Pneumonia-701.png  \n",
            "  inflating: COVID-19_Radiography_Dataset/Viral Pneumonia/masks/Viral Pneumonia-702.png  \n",
            "  inflating: COVID-19_Radiography_Dataset/Viral Pneumonia/masks/Viral Pneumonia-703.png  \n",
            "  inflating: COVID-19_Radiography_Dataset/Viral Pneumonia/masks/Viral Pneumonia-704.png  \n",
            "  inflating: COVID-19_Radiography_Dataset/Viral Pneumonia/masks/Viral Pneumonia-705.png  \n",
            "  inflating: COVID-19_Radiography_Dataset/Viral Pneumonia/masks/Viral Pneumonia-706.png  \n",
            "  inflating: COVID-19_Radiography_Dataset/Viral Pneumonia/masks/Viral Pneumonia-707.png  \n",
            "  inflating: COVID-19_Radiography_Dataset/Viral Pneumonia/masks/Viral Pneumonia-708.png  \n",
            "  inflating: COVID-19_Radiography_Dataset/Viral Pneumonia/masks/Viral Pneumonia-709.png  \n",
            "  inflating: COVID-19_Radiography_Dataset/Viral Pneumonia/masks/Viral Pneumonia-71.png  \n",
            "  inflating: COVID-19_Radiography_Dataset/Viral Pneumonia/masks/Viral Pneumonia-710.png  \n",
            "  inflating: COVID-19_Radiography_Dataset/Viral Pneumonia/masks/Viral Pneumonia-711.png  \n",
            "  inflating: COVID-19_Radiography_Dataset/Viral Pneumonia/masks/Viral Pneumonia-712.png  \n",
            "  inflating: COVID-19_Radiography_Dataset/Viral Pneumonia/masks/Viral Pneumonia-713.png  \n",
            "  inflating: COVID-19_Radiography_Dataset/Viral Pneumonia/masks/Viral Pneumonia-714.png  \n",
            "  inflating: COVID-19_Radiography_Dataset/Viral Pneumonia/masks/Viral Pneumonia-715.png  \n",
            "  inflating: COVID-19_Radiography_Dataset/Viral Pneumonia/masks/Viral Pneumonia-716.png  \n",
            "  inflating: COVID-19_Radiography_Dataset/Viral Pneumonia/masks/Viral Pneumonia-717.png  \n",
            "  inflating: COVID-19_Radiography_Dataset/Viral Pneumonia/masks/Viral Pneumonia-718.png  \n",
            "  inflating: COVID-19_Radiography_Dataset/Viral Pneumonia/masks/Viral Pneumonia-719.png  \n",
            "  inflating: COVID-19_Radiography_Dataset/Viral Pneumonia/masks/Viral Pneumonia-72.png  \n",
            "  inflating: COVID-19_Radiography_Dataset/Viral Pneumonia/masks/Viral Pneumonia-720.png  \n",
            "  inflating: COVID-19_Radiography_Dataset/Viral Pneumonia/masks/Viral Pneumonia-721.png  \n",
            "  inflating: COVID-19_Radiography_Dataset/Viral Pneumonia/masks/Viral Pneumonia-722.png  \n",
            "  inflating: COVID-19_Radiography_Dataset/Viral Pneumonia/masks/Viral Pneumonia-723.png  \n",
            "  inflating: COVID-19_Radiography_Dataset/Viral Pneumonia/masks/Viral Pneumonia-724.png  \n",
            "  inflating: COVID-19_Radiography_Dataset/Viral Pneumonia/masks/Viral Pneumonia-725.png  \n",
            "  inflating: COVID-19_Radiography_Dataset/Viral Pneumonia/masks/Viral Pneumonia-726.png  \n",
            "  inflating: COVID-19_Radiography_Dataset/Viral Pneumonia/masks/Viral Pneumonia-727.png  \n",
            "  inflating: COVID-19_Radiography_Dataset/Viral Pneumonia/masks/Viral Pneumonia-728.png  \n",
            "  inflating: COVID-19_Radiography_Dataset/Viral Pneumonia/masks/Viral Pneumonia-729.png  \n",
            "  inflating: COVID-19_Radiography_Dataset/Viral Pneumonia/masks/Viral Pneumonia-73.png  \n",
            "  inflating: COVID-19_Radiography_Dataset/Viral Pneumonia/masks/Viral Pneumonia-730.png  \n",
            "  inflating: COVID-19_Radiography_Dataset/Viral Pneumonia/masks/Viral Pneumonia-731.png  \n",
            "  inflating: COVID-19_Radiography_Dataset/Viral Pneumonia/masks/Viral Pneumonia-732.png  \n",
            "  inflating: COVID-19_Radiography_Dataset/Viral Pneumonia/masks/Viral Pneumonia-733.png  \n",
            "  inflating: COVID-19_Radiography_Dataset/Viral Pneumonia/masks/Viral Pneumonia-734.png  \n",
            "  inflating: COVID-19_Radiography_Dataset/Viral Pneumonia/masks/Viral Pneumonia-735.png  \n",
            "  inflating: COVID-19_Radiography_Dataset/Viral Pneumonia/masks/Viral Pneumonia-736.png  \n",
            "  inflating: COVID-19_Radiography_Dataset/Viral Pneumonia/masks/Viral Pneumonia-737.png  \n",
            "  inflating: COVID-19_Radiography_Dataset/Viral Pneumonia/masks/Viral Pneumonia-738.png  \n",
            "  inflating: COVID-19_Radiography_Dataset/Viral Pneumonia/masks/Viral Pneumonia-739.png  \n",
            "  inflating: COVID-19_Radiography_Dataset/Viral Pneumonia/masks/Viral Pneumonia-74.png  \n",
            "  inflating: COVID-19_Radiography_Dataset/Viral Pneumonia/masks/Viral Pneumonia-740.png  \n",
            "  inflating: COVID-19_Radiography_Dataset/Viral Pneumonia/masks/Viral Pneumonia-741.png  \n",
            "  inflating: COVID-19_Radiography_Dataset/Viral Pneumonia/masks/Viral Pneumonia-742.png  \n",
            "  inflating: COVID-19_Radiography_Dataset/Viral Pneumonia/masks/Viral Pneumonia-743.png  \n",
            "  inflating: COVID-19_Radiography_Dataset/Viral Pneumonia/masks/Viral Pneumonia-744.png  \n",
            "  inflating: COVID-19_Radiography_Dataset/Viral Pneumonia/masks/Viral Pneumonia-745.png  \n",
            "  inflating: COVID-19_Radiography_Dataset/Viral Pneumonia/masks/Viral Pneumonia-746.png  \n",
            "  inflating: COVID-19_Radiography_Dataset/Viral Pneumonia/masks/Viral Pneumonia-747.png  \n",
            "  inflating: COVID-19_Radiography_Dataset/Viral Pneumonia/masks/Viral Pneumonia-748.png  \n",
            "  inflating: COVID-19_Radiography_Dataset/Viral Pneumonia/masks/Viral Pneumonia-749.png  \n",
            "  inflating: COVID-19_Radiography_Dataset/Viral Pneumonia/masks/Viral Pneumonia-75.png  \n",
            "  inflating: COVID-19_Radiography_Dataset/Viral Pneumonia/masks/Viral Pneumonia-750.png  \n",
            "  inflating: COVID-19_Radiography_Dataset/Viral Pneumonia/masks/Viral Pneumonia-751.png  \n",
            "  inflating: COVID-19_Radiography_Dataset/Viral Pneumonia/masks/Viral Pneumonia-752.png  \n",
            "  inflating: COVID-19_Radiography_Dataset/Viral Pneumonia/masks/Viral Pneumonia-753.png  \n",
            "  inflating: COVID-19_Radiography_Dataset/Viral Pneumonia/masks/Viral Pneumonia-754.png  \n",
            "  inflating: COVID-19_Radiography_Dataset/Viral Pneumonia/masks/Viral Pneumonia-755.png  \n",
            "  inflating: COVID-19_Radiography_Dataset/Viral Pneumonia/masks/Viral Pneumonia-756.png  \n",
            "  inflating: COVID-19_Radiography_Dataset/Viral Pneumonia/masks/Viral Pneumonia-757.png  \n",
            "  inflating: COVID-19_Radiography_Dataset/Viral Pneumonia/masks/Viral Pneumonia-758.png  \n",
            "  inflating: COVID-19_Radiography_Dataset/Viral Pneumonia/masks/Viral Pneumonia-759.png  \n",
            "  inflating: COVID-19_Radiography_Dataset/Viral Pneumonia/masks/Viral Pneumonia-76.png  \n",
            "  inflating: COVID-19_Radiography_Dataset/Viral Pneumonia/masks/Viral Pneumonia-760.png  \n",
            "  inflating: COVID-19_Radiography_Dataset/Viral Pneumonia/masks/Viral Pneumonia-761.png  \n",
            "  inflating: COVID-19_Radiography_Dataset/Viral Pneumonia/masks/Viral Pneumonia-762.png  \n",
            "  inflating: COVID-19_Radiography_Dataset/Viral Pneumonia/masks/Viral Pneumonia-763.png  \n",
            "  inflating: COVID-19_Radiography_Dataset/Viral Pneumonia/masks/Viral Pneumonia-764.png  \n",
            "  inflating: COVID-19_Radiography_Dataset/Viral Pneumonia/masks/Viral Pneumonia-765.png  \n",
            "  inflating: COVID-19_Radiography_Dataset/Viral Pneumonia/masks/Viral Pneumonia-766.png  \n",
            "  inflating: COVID-19_Radiography_Dataset/Viral Pneumonia/masks/Viral Pneumonia-767.png  \n",
            "  inflating: COVID-19_Radiography_Dataset/Viral Pneumonia/masks/Viral Pneumonia-768.png  \n",
            "  inflating: COVID-19_Radiography_Dataset/Viral Pneumonia/masks/Viral Pneumonia-769.png  \n",
            "  inflating: COVID-19_Radiography_Dataset/Viral Pneumonia/masks/Viral Pneumonia-77.png  \n",
            "  inflating: COVID-19_Radiography_Dataset/Viral Pneumonia/masks/Viral Pneumonia-770.png  \n",
            "  inflating: COVID-19_Radiography_Dataset/Viral Pneumonia/masks/Viral Pneumonia-771.png  \n",
            "  inflating: COVID-19_Radiography_Dataset/Viral Pneumonia/masks/Viral Pneumonia-772.png  \n",
            "  inflating: COVID-19_Radiography_Dataset/Viral Pneumonia/masks/Viral Pneumonia-773.png  \n",
            "  inflating: COVID-19_Radiography_Dataset/Viral Pneumonia/masks/Viral Pneumonia-774.png  \n",
            "  inflating: COVID-19_Radiography_Dataset/Viral Pneumonia/masks/Viral Pneumonia-775.png  \n",
            "  inflating: COVID-19_Radiography_Dataset/Viral Pneumonia/masks/Viral Pneumonia-776.png  \n",
            "  inflating: COVID-19_Radiography_Dataset/Viral Pneumonia/masks/Viral Pneumonia-777.png  \n",
            "  inflating: COVID-19_Radiography_Dataset/Viral Pneumonia/masks/Viral Pneumonia-778.png  \n",
            "  inflating: COVID-19_Radiography_Dataset/Viral Pneumonia/masks/Viral Pneumonia-779.png  \n",
            "  inflating: COVID-19_Radiography_Dataset/Viral Pneumonia/masks/Viral Pneumonia-78.png  \n",
            "  inflating: COVID-19_Radiography_Dataset/Viral Pneumonia/masks/Viral Pneumonia-780.png  \n",
            "  inflating: COVID-19_Radiography_Dataset/Viral Pneumonia/masks/Viral Pneumonia-781.png  \n",
            "  inflating: COVID-19_Radiography_Dataset/Viral Pneumonia/masks/Viral Pneumonia-782.png  \n",
            "  inflating: COVID-19_Radiography_Dataset/Viral Pneumonia/masks/Viral Pneumonia-783.png  \n",
            "  inflating: COVID-19_Radiography_Dataset/Viral Pneumonia/masks/Viral Pneumonia-784.png  \n",
            "  inflating: COVID-19_Radiography_Dataset/Viral Pneumonia/masks/Viral Pneumonia-785.png  \n",
            "  inflating: COVID-19_Radiography_Dataset/Viral Pneumonia/masks/Viral Pneumonia-786.png  \n",
            "  inflating: COVID-19_Radiography_Dataset/Viral Pneumonia/masks/Viral Pneumonia-787.png  \n",
            "  inflating: COVID-19_Radiography_Dataset/Viral Pneumonia/masks/Viral Pneumonia-788.png  \n",
            "  inflating: COVID-19_Radiography_Dataset/Viral Pneumonia/masks/Viral Pneumonia-789.png  \n",
            "  inflating: COVID-19_Radiography_Dataset/Viral Pneumonia/masks/Viral Pneumonia-79.png  \n",
            "  inflating: COVID-19_Radiography_Dataset/Viral Pneumonia/masks/Viral Pneumonia-790.png  \n",
            "  inflating: COVID-19_Radiography_Dataset/Viral Pneumonia/masks/Viral Pneumonia-791.png  \n",
            "  inflating: COVID-19_Radiography_Dataset/Viral Pneumonia/masks/Viral Pneumonia-792.png  \n",
            "  inflating: COVID-19_Radiography_Dataset/Viral Pneumonia/masks/Viral Pneumonia-793.png  \n",
            "  inflating: COVID-19_Radiography_Dataset/Viral Pneumonia/masks/Viral Pneumonia-794.png  \n",
            "  inflating: COVID-19_Radiography_Dataset/Viral Pneumonia/masks/Viral Pneumonia-795.png  \n",
            "  inflating: COVID-19_Radiography_Dataset/Viral Pneumonia/masks/Viral Pneumonia-796.png  \n",
            "  inflating: COVID-19_Radiography_Dataset/Viral Pneumonia/masks/Viral Pneumonia-797.png  \n",
            "  inflating: COVID-19_Radiography_Dataset/Viral Pneumonia/masks/Viral Pneumonia-798.png  \n",
            "  inflating: COVID-19_Radiography_Dataset/Viral Pneumonia/masks/Viral Pneumonia-799.png  \n",
            "  inflating: COVID-19_Radiography_Dataset/Viral Pneumonia/masks/Viral Pneumonia-8.png  \n",
            "  inflating: COVID-19_Radiography_Dataset/Viral Pneumonia/masks/Viral Pneumonia-80.png  \n",
            "  inflating: COVID-19_Radiography_Dataset/Viral Pneumonia/masks/Viral Pneumonia-800.png  \n",
            "  inflating: COVID-19_Radiography_Dataset/Viral Pneumonia/masks/Viral Pneumonia-801.png  \n",
            "  inflating: COVID-19_Radiography_Dataset/Viral Pneumonia/masks/Viral Pneumonia-802.png  \n",
            "  inflating: COVID-19_Radiography_Dataset/Viral Pneumonia/masks/Viral Pneumonia-803.png  \n",
            "  inflating: COVID-19_Radiography_Dataset/Viral Pneumonia/masks/Viral Pneumonia-804.png  \n",
            "  inflating: COVID-19_Radiography_Dataset/Viral Pneumonia/masks/Viral Pneumonia-805.png  \n",
            "  inflating: COVID-19_Radiography_Dataset/Viral Pneumonia/masks/Viral Pneumonia-806.png  \n",
            "  inflating: COVID-19_Radiography_Dataset/Viral Pneumonia/masks/Viral Pneumonia-807.png  \n",
            "  inflating: COVID-19_Radiography_Dataset/Viral Pneumonia/masks/Viral Pneumonia-808.png  \n",
            "  inflating: COVID-19_Radiography_Dataset/Viral Pneumonia/masks/Viral Pneumonia-809.png  \n",
            "  inflating: COVID-19_Radiography_Dataset/Viral Pneumonia/masks/Viral Pneumonia-81.png  \n",
            "  inflating: COVID-19_Radiography_Dataset/Viral Pneumonia/masks/Viral Pneumonia-810.png  \n",
            "  inflating: COVID-19_Radiography_Dataset/Viral Pneumonia/masks/Viral Pneumonia-811.png  \n",
            "  inflating: COVID-19_Radiography_Dataset/Viral Pneumonia/masks/Viral Pneumonia-812.png  \n",
            "  inflating: COVID-19_Radiography_Dataset/Viral Pneumonia/masks/Viral Pneumonia-813.png  \n",
            "  inflating: COVID-19_Radiography_Dataset/Viral Pneumonia/masks/Viral Pneumonia-814.png  \n",
            "  inflating: COVID-19_Radiography_Dataset/Viral Pneumonia/masks/Viral Pneumonia-815.png  \n",
            "  inflating: COVID-19_Radiography_Dataset/Viral Pneumonia/masks/Viral Pneumonia-816.png  \n",
            "  inflating: COVID-19_Radiography_Dataset/Viral Pneumonia/masks/Viral Pneumonia-817.png  \n",
            "  inflating: COVID-19_Radiography_Dataset/Viral Pneumonia/masks/Viral Pneumonia-818.png  \n",
            "  inflating: COVID-19_Radiography_Dataset/Viral Pneumonia/masks/Viral Pneumonia-819.png  \n",
            "  inflating: COVID-19_Radiography_Dataset/Viral Pneumonia/masks/Viral Pneumonia-82.png  \n",
            "  inflating: COVID-19_Radiography_Dataset/Viral Pneumonia/masks/Viral Pneumonia-820.png  \n",
            "  inflating: COVID-19_Radiography_Dataset/Viral Pneumonia/masks/Viral Pneumonia-821.png  \n",
            "  inflating: COVID-19_Radiography_Dataset/Viral Pneumonia/masks/Viral Pneumonia-822.png  \n",
            "  inflating: COVID-19_Radiography_Dataset/Viral Pneumonia/masks/Viral Pneumonia-823.png  \n",
            "  inflating: COVID-19_Radiography_Dataset/Viral Pneumonia/masks/Viral Pneumonia-824.png  \n",
            "  inflating: COVID-19_Radiography_Dataset/Viral Pneumonia/masks/Viral Pneumonia-825.png  \n",
            "  inflating: COVID-19_Radiography_Dataset/Viral Pneumonia/masks/Viral Pneumonia-826.png  \n",
            "  inflating: COVID-19_Radiography_Dataset/Viral Pneumonia/masks/Viral Pneumonia-827.png  \n",
            "  inflating: COVID-19_Radiography_Dataset/Viral Pneumonia/masks/Viral Pneumonia-828.png  \n",
            "  inflating: COVID-19_Radiography_Dataset/Viral Pneumonia/masks/Viral Pneumonia-829.png  \n",
            "  inflating: COVID-19_Radiography_Dataset/Viral Pneumonia/masks/Viral Pneumonia-83.png  \n",
            "  inflating: COVID-19_Radiography_Dataset/Viral Pneumonia/masks/Viral Pneumonia-830.png  \n",
            "  inflating: COVID-19_Radiography_Dataset/Viral Pneumonia/masks/Viral Pneumonia-831.png  \n",
            "  inflating: COVID-19_Radiography_Dataset/Viral Pneumonia/masks/Viral Pneumonia-832.png  \n",
            "  inflating: COVID-19_Radiography_Dataset/Viral Pneumonia/masks/Viral Pneumonia-833.png  \n",
            "  inflating: COVID-19_Radiography_Dataset/Viral Pneumonia/masks/Viral Pneumonia-834.png  \n",
            "  inflating: COVID-19_Radiography_Dataset/Viral Pneumonia/masks/Viral Pneumonia-835.png  \n",
            "  inflating: COVID-19_Radiography_Dataset/Viral Pneumonia/masks/Viral Pneumonia-836.png  \n",
            "  inflating: COVID-19_Radiography_Dataset/Viral Pneumonia/masks/Viral Pneumonia-837.png  \n",
            "  inflating: COVID-19_Radiography_Dataset/Viral Pneumonia/masks/Viral Pneumonia-838.png  \n",
            "  inflating: COVID-19_Radiography_Dataset/Viral Pneumonia/masks/Viral Pneumonia-839.png  \n",
            "  inflating: COVID-19_Radiography_Dataset/Viral Pneumonia/masks/Viral Pneumonia-84.png  \n",
            "  inflating: COVID-19_Radiography_Dataset/Viral Pneumonia/masks/Viral Pneumonia-840.png  \n",
            "  inflating: COVID-19_Radiography_Dataset/Viral Pneumonia/masks/Viral Pneumonia-841.png  \n",
            "  inflating: COVID-19_Radiography_Dataset/Viral Pneumonia/masks/Viral Pneumonia-842.png  \n",
            "  inflating: COVID-19_Radiography_Dataset/Viral Pneumonia/masks/Viral Pneumonia-843.png  \n",
            "  inflating: COVID-19_Radiography_Dataset/Viral Pneumonia/masks/Viral Pneumonia-844.png  \n",
            "  inflating: COVID-19_Radiography_Dataset/Viral Pneumonia/masks/Viral Pneumonia-845.png  \n",
            "  inflating: COVID-19_Radiography_Dataset/Viral Pneumonia/masks/Viral Pneumonia-846.png  \n",
            "  inflating: COVID-19_Radiography_Dataset/Viral Pneumonia/masks/Viral Pneumonia-847.png  \n",
            "  inflating: COVID-19_Radiography_Dataset/Viral Pneumonia/masks/Viral Pneumonia-848.png  \n",
            "  inflating: COVID-19_Radiography_Dataset/Viral Pneumonia/masks/Viral Pneumonia-849.png  \n",
            "  inflating: COVID-19_Radiography_Dataset/Viral Pneumonia/masks/Viral Pneumonia-85.png  \n",
            "  inflating: COVID-19_Radiography_Dataset/Viral Pneumonia/masks/Viral Pneumonia-850.png  \n",
            "  inflating: COVID-19_Radiography_Dataset/Viral Pneumonia/masks/Viral Pneumonia-851.png  \n",
            "  inflating: COVID-19_Radiography_Dataset/Viral Pneumonia/masks/Viral Pneumonia-852.png  \n",
            "  inflating: COVID-19_Radiography_Dataset/Viral Pneumonia/masks/Viral Pneumonia-853.png  \n",
            "  inflating: COVID-19_Radiography_Dataset/Viral Pneumonia/masks/Viral Pneumonia-854.png  \n",
            "  inflating: COVID-19_Radiography_Dataset/Viral Pneumonia/masks/Viral Pneumonia-855.png  \n",
            "  inflating: COVID-19_Radiography_Dataset/Viral Pneumonia/masks/Viral Pneumonia-856.png  \n",
            "  inflating: COVID-19_Radiography_Dataset/Viral Pneumonia/masks/Viral Pneumonia-857.png  \n",
            "  inflating: COVID-19_Radiography_Dataset/Viral Pneumonia/masks/Viral Pneumonia-858.png  \n",
            "  inflating: COVID-19_Radiography_Dataset/Viral Pneumonia/masks/Viral Pneumonia-859.png  \n",
            "  inflating: COVID-19_Radiography_Dataset/Viral Pneumonia/masks/Viral Pneumonia-86.png  \n",
            "  inflating: COVID-19_Radiography_Dataset/Viral Pneumonia/masks/Viral Pneumonia-860.png  \n",
            "  inflating: COVID-19_Radiography_Dataset/Viral Pneumonia/masks/Viral Pneumonia-861.png  \n",
            "  inflating: COVID-19_Radiography_Dataset/Viral Pneumonia/masks/Viral Pneumonia-862.png  \n",
            "  inflating: COVID-19_Radiography_Dataset/Viral Pneumonia/masks/Viral Pneumonia-863.png  \n",
            "  inflating: COVID-19_Radiography_Dataset/Viral Pneumonia/masks/Viral Pneumonia-864.png  \n",
            "  inflating: COVID-19_Radiography_Dataset/Viral Pneumonia/masks/Viral Pneumonia-865.png  \n",
            "  inflating: COVID-19_Radiography_Dataset/Viral Pneumonia/masks/Viral Pneumonia-866.png  \n",
            "  inflating: COVID-19_Radiography_Dataset/Viral Pneumonia/masks/Viral Pneumonia-867.png  \n",
            "  inflating: COVID-19_Radiography_Dataset/Viral Pneumonia/masks/Viral Pneumonia-868.png  \n",
            "  inflating: COVID-19_Radiography_Dataset/Viral Pneumonia/masks/Viral Pneumonia-869.png  \n",
            "  inflating: COVID-19_Radiography_Dataset/Viral Pneumonia/masks/Viral Pneumonia-87.png  \n",
            "  inflating: COVID-19_Radiography_Dataset/Viral Pneumonia/masks/Viral Pneumonia-870.png  \n",
            "  inflating: COVID-19_Radiography_Dataset/Viral Pneumonia/masks/Viral Pneumonia-871.png  \n",
            "  inflating: COVID-19_Radiography_Dataset/Viral Pneumonia/masks/Viral Pneumonia-872.png  \n",
            "  inflating: COVID-19_Radiography_Dataset/Viral Pneumonia/masks/Viral Pneumonia-873.png  \n",
            "  inflating: COVID-19_Radiography_Dataset/Viral Pneumonia/masks/Viral Pneumonia-874.png  \n",
            "  inflating: COVID-19_Radiography_Dataset/Viral Pneumonia/masks/Viral Pneumonia-875.png  \n",
            "  inflating: COVID-19_Radiography_Dataset/Viral Pneumonia/masks/Viral Pneumonia-876.png  \n",
            "  inflating: COVID-19_Radiography_Dataset/Viral Pneumonia/masks/Viral Pneumonia-877.png  \n",
            "  inflating: COVID-19_Radiography_Dataset/Viral Pneumonia/masks/Viral Pneumonia-878.png  \n",
            "  inflating: COVID-19_Radiography_Dataset/Viral Pneumonia/masks/Viral Pneumonia-879.png  \n",
            "  inflating: COVID-19_Radiography_Dataset/Viral Pneumonia/masks/Viral Pneumonia-88.png  \n",
            "  inflating: COVID-19_Radiography_Dataset/Viral Pneumonia/masks/Viral Pneumonia-880.png  \n",
            "  inflating: COVID-19_Radiography_Dataset/Viral Pneumonia/masks/Viral Pneumonia-881.png  \n",
            "  inflating: COVID-19_Radiography_Dataset/Viral Pneumonia/masks/Viral Pneumonia-882.png  \n",
            "  inflating: COVID-19_Radiography_Dataset/Viral Pneumonia/masks/Viral Pneumonia-883.png  \n",
            "  inflating: COVID-19_Radiography_Dataset/Viral Pneumonia/masks/Viral Pneumonia-884.png  \n",
            "  inflating: COVID-19_Radiography_Dataset/Viral Pneumonia/masks/Viral Pneumonia-885.png  \n",
            "  inflating: COVID-19_Radiography_Dataset/Viral Pneumonia/masks/Viral Pneumonia-886.png  \n",
            "  inflating: COVID-19_Radiography_Dataset/Viral Pneumonia/masks/Viral Pneumonia-887.png  \n",
            "  inflating: COVID-19_Radiography_Dataset/Viral Pneumonia/masks/Viral Pneumonia-888.png  \n",
            "  inflating: COVID-19_Radiography_Dataset/Viral Pneumonia/masks/Viral Pneumonia-889.png  \n",
            "  inflating: COVID-19_Radiography_Dataset/Viral Pneumonia/masks/Viral Pneumonia-89.png  \n",
            "  inflating: COVID-19_Radiography_Dataset/Viral Pneumonia/masks/Viral Pneumonia-890.png  \n",
            "  inflating: COVID-19_Radiography_Dataset/Viral Pneumonia/masks/Viral Pneumonia-891.png  \n",
            "  inflating: COVID-19_Radiography_Dataset/Viral Pneumonia/masks/Viral Pneumonia-892.png  \n",
            "  inflating: COVID-19_Radiography_Dataset/Viral Pneumonia/masks/Viral Pneumonia-893.png  \n",
            "  inflating: COVID-19_Radiography_Dataset/Viral Pneumonia/masks/Viral Pneumonia-894.png  \n",
            "  inflating: COVID-19_Radiography_Dataset/Viral Pneumonia/masks/Viral Pneumonia-895.png  \n",
            "  inflating: COVID-19_Radiography_Dataset/Viral Pneumonia/masks/Viral Pneumonia-896.png  \n",
            "  inflating: COVID-19_Radiography_Dataset/Viral Pneumonia/masks/Viral Pneumonia-897.png  \n",
            "  inflating: COVID-19_Radiography_Dataset/Viral Pneumonia/masks/Viral Pneumonia-898.png  \n",
            "  inflating: COVID-19_Radiography_Dataset/Viral Pneumonia/masks/Viral Pneumonia-899.png  \n",
            "  inflating: COVID-19_Radiography_Dataset/Viral Pneumonia/masks/Viral Pneumonia-9.png  \n",
            "  inflating: COVID-19_Radiography_Dataset/Viral Pneumonia/masks/Viral Pneumonia-90.png  \n",
            "  inflating: COVID-19_Radiography_Dataset/Viral Pneumonia/masks/Viral Pneumonia-900.png  \n",
            "  inflating: COVID-19_Radiography_Dataset/Viral Pneumonia/masks/Viral Pneumonia-901.png  \n",
            "  inflating: COVID-19_Radiography_Dataset/Viral Pneumonia/masks/Viral Pneumonia-902.png  \n",
            "  inflating: COVID-19_Radiography_Dataset/Viral Pneumonia/masks/Viral Pneumonia-903.png  \n",
            "  inflating: COVID-19_Radiography_Dataset/Viral Pneumonia/masks/Viral Pneumonia-904.png  \n",
            "  inflating: COVID-19_Radiography_Dataset/Viral Pneumonia/masks/Viral Pneumonia-905.png  \n",
            "  inflating: COVID-19_Radiography_Dataset/Viral Pneumonia/masks/Viral Pneumonia-906.png  \n",
            "  inflating: COVID-19_Radiography_Dataset/Viral Pneumonia/masks/Viral Pneumonia-907.png  \n",
            "  inflating: COVID-19_Radiography_Dataset/Viral Pneumonia/masks/Viral Pneumonia-908.png  \n",
            "  inflating: COVID-19_Radiography_Dataset/Viral Pneumonia/masks/Viral Pneumonia-909.png  \n",
            "  inflating: COVID-19_Radiography_Dataset/Viral Pneumonia/masks/Viral Pneumonia-91.png  \n",
            "  inflating: COVID-19_Radiography_Dataset/Viral Pneumonia/masks/Viral Pneumonia-910.png  \n",
            "  inflating: COVID-19_Radiography_Dataset/Viral Pneumonia/masks/Viral Pneumonia-911.png  \n",
            "  inflating: COVID-19_Radiography_Dataset/Viral Pneumonia/masks/Viral Pneumonia-912.png  \n",
            "  inflating: COVID-19_Radiography_Dataset/Viral Pneumonia/masks/Viral Pneumonia-913.png  \n",
            "  inflating: COVID-19_Radiography_Dataset/Viral Pneumonia/masks/Viral Pneumonia-914.png  \n",
            "  inflating: COVID-19_Radiography_Dataset/Viral Pneumonia/masks/Viral Pneumonia-915.png  \n",
            "  inflating: COVID-19_Radiography_Dataset/Viral Pneumonia/masks/Viral Pneumonia-916.png  \n",
            "  inflating: COVID-19_Radiography_Dataset/Viral Pneumonia/masks/Viral Pneumonia-917.png  \n",
            "  inflating: COVID-19_Radiography_Dataset/Viral Pneumonia/masks/Viral Pneumonia-918.png  \n",
            "  inflating: COVID-19_Radiography_Dataset/Viral Pneumonia/masks/Viral Pneumonia-919.png  \n",
            "  inflating: COVID-19_Radiography_Dataset/Viral Pneumonia/masks/Viral Pneumonia-92.png  \n",
            "  inflating: COVID-19_Radiography_Dataset/Viral Pneumonia/masks/Viral Pneumonia-920.png  \n",
            "  inflating: COVID-19_Radiography_Dataset/Viral Pneumonia/masks/Viral Pneumonia-921.png  \n",
            "  inflating: COVID-19_Radiography_Dataset/Viral Pneumonia/masks/Viral Pneumonia-922.png  \n",
            "  inflating: COVID-19_Radiography_Dataset/Viral Pneumonia/masks/Viral Pneumonia-923.png  \n",
            "  inflating: COVID-19_Radiography_Dataset/Viral Pneumonia/masks/Viral Pneumonia-924.png  \n",
            "  inflating: COVID-19_Radiography_Dataset/Viral Pneumonia/masks/Viral Pneumonia-925.png  \n",
            "  inflating: COVID-19_Radiography_Dataset/Viral Pneumonia/masks/Viral Pneumonia-926.png  \n",
            "  inflating: COVID-19_Radiography_Dataset/Viral Pneumonia/masks/Viral Pneumonia-927.png  \n",
            "  inflating: COVID-19_Radiography_Dataset/Viral Pneumonia/masks/Viral Pneumonia-928.png  \n",
            "  inflating: COVID-19_Radiography_Dataset/Viral Pneumonia/masks/Viral Pneumonia-929.png  \n",
            "  inflating: COVID-19_Radiography_Dataset/Viral Pneumonia/masks/Viral Pneumonia-93.png  \n",
            "  inflating: COVID-19_Radiography_Dataset/Viral Pneumonia/masks/Viral Pneumonia-930.png  \n",
            "  inflating: COVID-19_Radiography_Dataset/Viral Pneumonia/masks/Viral Pneumonia-931.png  \n",
            "  inflating: COVID-19_Radiography_Dataset/Viral Pneumonia/masks/Viral Pneumonia-932.png  \n",
            "  inflating: COVID-19_Radiography_Dataset/Viral Pneumonia/masks/Viral Pneumonia-933.png  \n",
            "  inflating: COVID-19_Radiography_Dataset/Viral Pneumonia/masks/Viral Pneumonia-934.png  \n",
            "  inflating: COVID-19_Radiography_Dataset/Viral Pneumonia/masks/Viral Pneumonia-935.png  \n",
            "  inflating: COVID-19_Radiography_Dataset/Viral Pneumonia/masks/Viral Pneumonia-936.png  \n",
            "  inflating: COVID-19_Radiography_Dataset/Viral Pneumonia/masks/Viral Pneumonia-937.png  \n",
            "  inflating: COVID-19_Radiography_Dataset/Viral Pneumonia/masks/Viral Pneumonia-938.png  \n",
            "  inflating: COVID-19_Radiography_Dataset/Viral Pneumonia/masks/Viral Pneumonia-939.png  \n",
            "  inflating: COVID-19_Radiography_Dataset/Viral Pneumonia/masks/Viral Pneumonia-94.png  \n",
            "  inflating: COVID-19_Radiography_Dataset/Viral Pneumonia/masks/Viral Pneumonia-940.png  \n",
            "  inflating: COVID-19_Radiography_Dataset/Viral Pneumonia/masks/Viral Pneumonia-941.png  \n",
            "  inflating: COVID-19_Radiography_Dataset/Viral Pneumonia/masks/Viral Pneumonia-942.png  \n",
            "  inflating: COVID-19_Radiography_Dataset/Viral Pneumonia/masks/Viral Pneumonia-943.png  \n",
            "  inflating: COVID-19_Radiography_Dataset/Viral Pneumonia/masks/Viral Pneumonia-944.png  \n",
            "  inflating: COVID-19_Radiography_Dataset/Viral Pneumonia/masks/Viral Pneumonia-945.png  \n",
            "  inflating: COVID-19_Radiography_Dataset/Viral Pneumonia/masks/Viral Pneumonia-946.png  \n",
            "  inflating: COVID-19_Radiography_Dataset/Viral Pneumonia/masks/Viral Pneumonia-947.png  \n",
            "  inflating: COVID-19_Radiography_Dataset/Viral Pneumonia/masks/Viral Pneumonia-948.png  \n",
            "  inflating: COVID-19_Radiography_Dataset/Viral Pneumonia/masks/Viral Pneumonia-949.png  \n",
            "  inflating: COVID-19_Radiography_Dataset/Viral Pneumonia/masks/Viral Pneumonia-95.png  \n",
            "  inflating: COVID-19_Radiography_Dataset/Viral Pneumonia/masks/Viral Pneumonia-950.png  \n",
            "  inflating: COVID-19_Radiography_Dataset/Viral Pneumonia/masks/Viral Pneumonia-951.png  \n",
            "  inflating: COVID-19_Radiography_Dataset/Viral Pneumonia/masks/Viral Pneumonia-952.png  \n",
            "  inflating: COVID-19_Radiography_Dataset/Viral Pneumonia/masks/Viral Pneumonia-953.png  \n",
            "  inflating: COVID-19_Radiography_Dataset/Viral Pneumonia/masks/Viral Pneumonia-954.png  \n",
            "  inflating: COVID-19_Radiography_Dataset/Viral Pneumonia/masks/Viral Pneumonia-955.png  \n",
            "  inflating: COVID-19_Radiography_Dataset/Viral Pneumonia/masks/Viral Pneumonia-956.png  \n",
            "  inflating: COVID-19_Radiography_Dataset/Viral Pneumonia/masks/Viral Pneumonia-957.png  \n",
            "  inflating: COVID-19_Radiography_Dataset/Viral Pneumonia/masks/Viral Pneumonia-958.png  \n",
            "  inflating: COVID-19_Radiography_Dataset/Viral Pneumonia/masks/Viral Pneumonia-959.png  \n",
            "  inflating: COVID-19_Radiography_Dataset/Viral Pneumonia/masks/Viral Pneumonia-96.png  \n",
            "  inflating: COVID-19_Radiography_Dataset/Viral Pneumonia/masks/Viral Pneumonia-960.png  \n",
            "  inflating: COVID-19_Radiography_Dataset/Viral Pneumonia/masks/Viral Pneumonia-961.png  \n",
            "  inflating: COVID-19_Radiography_Dataset/Viral Pneumonia/masks/Viral Pneumonia-962.png  \n",
            "  inflating: COVID-19_Radiography_Dataset/Viral Pneumonia/masks/Viral Pneumonia-963.png  \n",
            "  inflating: COVID-19_Radiography_Dataset/Viral Pneumonia/masks/Viral Pneumonia-964.png  \n",
            "  inflating: COVID-19_Radiography_Dataset/Viral Pneumonia/masks/Viral Pneumonia-965.png  \n",
            "  inflating: COVID-19_Radiography_Dataset/Viral Pneumonia/masks/Viral Pneumonia-966.png  \n",
            "  inflating: COVID-19_Radiography_Dataset/Viral Pneumonia/masks/Viral Pneumonia-967.png  \n",
            "  inflating: COVID-19_Radiography_Dataset/Viral Pneumonia/masks/Viral Pneumonia-968.png  \n",
            "  inflating: COVID-19_Radiography_Dataset/Viral Pneumonia/masks/Viral Pneumonia-969.png  \n",
            "  inflating: COVID-19_Radiography_Dataset/Viral Pneumonia/masks/Viral Pneumonia-97.png  \n",
            "  inflating: COVID-19_Radiography_Dataset/Viral Pneumonia/masks/Viral Pneumonia-970.png  \n",
            "  inflating: COVID-19_Radiography_Dataset/Viral Pneumonia/masks/Viral Pneumonia-971.png  \n",
            "  inflating: COVID-19_Radiography_Dataset/Viral Pneumonia/masks/Viral Pneumonia-972.png  \n",
            "  inflating: COVID-19_Radiography_Dataset/Viral Pneumonia/masks/Viral Pneumonia-973.png  \n",
            "  inflating: COVID-19_Radiography_Dataset/Viral Pneumonia/masks/Viral Pneumonia-974.png  \n",
            "  inflating: COVID-19_Radiography_Dataset/Viral Pneumonia/masks/Viral Pneumonia-975.png  \n",
            "  inflating: COVID-19_Radiography_Dataset/Viral Pneumonia/masks/Viral Pneumonia-976.png  \n",
            "  inflating: COVID-19_Radiography_Dataset/Viral Pneumonia/masks/Viral Pneumonia-977.png  \n",
            "  inflating: COVID-19_Radiography_Dataset/Viral Pneumonia/masks/Viral Pneumonia-978.png  \n",
            "  inflating: COVID-19_Radiography_Dataset/Viral Pneumonia/masks/Viral Pneumonia-979.png  \n",
            "  inflating: COVID-19_Radiography_Dataset/Viral Pneumonia/masks/Viral Pneumonia-98.png  \n",
            "  inflating: COVID-19_Radiography_Dataset/Viral Pneumonia/masks/Viral Pneumonia-980.png  \n",
            "  inflating: COVID-19_Radiography_Dataset/Viral Pneumonia/masks/Viral Pneumonia-981.png  \n",
            "  inflating: COVID-19_Radiography_Dataset/Viral Pneumonia/masks/Viral Pneumonia-982.png  \n",
            "  inflating: COVID-19_Radiography_Dataset/Viral Pneumonia/masks/Viral Pneumonia-983.png  \n",
            "  inflating: COVID-19_Radiography_Dataset/Viral Pneumonia/masks/Viral Pneumonia-984.png  \n",
            "  inflating: COVID-19_Radiography_Dataset/Viral Pneumonia/masks/Viral Pneumonia-985.png  \n",
            "  inflating: COVID-19_Radiography_Dataset/Viral Pneumonia/masks/Viral Pneumonia-986.png  \n",
            "  inflating: COVID-19_Radiography_Dataset/Viral Pneumonia/masks/Viral Pneumonia-987.png  \n",
            "  inflating: COVID-19_Radiography_Dataset/Viral Pneumonia/masks/Viral Pneumonia-988.png  \n",
            "  inflating: COVID-19_Radiography_Dataset/Viral Pneumonia/masks/Viral Pneumonia-989.png  \n",
            "  inflating: COVID-19_Radiography_Dataset/Viral Pneumonia/masks/Viral Pneumonia-99.png  \n",
            "  inflating: COVID-19_Radiography_Dataset/Viral Pneumonia/masks/Viral Pneumonia-990.png  \n",
            "  inflating: COVID-19_Radiography_Dataset/Viral Pneumonia/masks/Viral Pneumonia-991.png  \n",
            "  inflating: COVID-19_Radiography_Dataset/Viral Pneumonia/masks/Viral Pneumonia-992.png  \n",
            "  inflating: COVID-19_Radiography_Dataset/Viral Pneumonia/masks/Viral Pneumonia-993.png  \n",
            "  inflating: COVID-19_Radiography_Dataset/Viral Pneumonia/masks/Viral Pneumonia-994.png  \n",
            "  inflating: COVID-19_Radiography_Dataset/Viral Pneumonia/masks/Viral Pneumonia-995.png  \n",
            "  inflating: COVID-19_Radiography_Dataset/Viral Pneumonia/masks/Viral Pneumonia-996.png  \n",
            "  inflating: COVID-19_Radiography_Dataset/Viral Pneumonia/masks/Viral Pneumonia-997.png  \n",
            "  inflating: COVID-19_Radiography_Dataset/Viral Pneumonia/masks/Viral Pneumonia-998.png  \n",
            "  inflating: COVID-19_Radiography_Dataset/Viral Pneumonia/masks/Viral Pneumonia-999.png  \n"
          ]
        }
      ],
      "source": [
        "!unzip COVID-19_Radiography_Dataset.zip"
      ]
    },
    {
      "cell_type": "code",
      "execution_count": 9,
      "metadata": {
        "id": "rCPkmBvu18en",
        "pycharm": {
          "name": "#%%\n"
        }
      },
      "outputs": [],
      "source": [
        "from pathlib import Path\n",
        "\n",
        "kaggle_dataset = Path('COVID-19_Radiography_Dataset')"
      ]
    },
    {
      "cell_type": "code",
      "execution_count": 10,
      "metadata": {
        "id": "AZpr1hw118eo",
        "pycharm": {
          "name": "#%%\n"
        }
      },
      "outputs": [],
      "source": [
        "# add other sources of images here:\n",
        "data = {'covid': [our_covid_dataset, kaggle_dataset / \"COVID/images\"],\n",
        "        'normal': [kaggle_dataset / \"Normal/images\"],\n",
        "        'pneumonia': [kaggle_dataset / \"Viral Pneumonia/images\"], }"
      ]
    },
    {
      "cell_type": "code",
      "execution_count": 11,
      "metadata": {
        "id": "NvqjF_jK18ep",
        "pycharm": {
          "name": "#%%\n"
        },
        "colab": {
          "base_uri": "https://localhost:8080/"
        },
        "outputId": "8ff6748f-578d-43da-8cb6-d9dfe31a1bc5"
      },
      "outputs": [
        {
          "output_type": "stream",
          "name": "stdout",
          "text": [
            "rm: cannot remove 'dataset': No such file or directory\n",
            "dataset/covid\n",
            "dataset/normal\n",
            "dataset/pneumonia\n"
          ]
        }
      ],
      "source": [
        "!rm -r dataset\n",
        "\n",
        "# create gathered dataset\n",
        "import os\n",
        "from distutils.dir_util import copy_tree\n",
        "from shutil import rmtree\n",
        "\n",
        "DATASET_ROOT = Path('dataset')\n",
        "os.mkdir(DATASET_ROOT)\n",
        "for image_class, image_sources in data.items():\n",
        "    class_path = DATASET_ROOT / image_class\n",
        "    print(str(class_path))\n",
        "    os.mkdir(class_path)\n",
        "    if not isinstance(image_sources, list):\n",
        "        image_sources = [image_sources]\n",
        "    for source in image_sources:\n",
        "        copy_tree(source, str(class_path))\n",
        "    for item in class_path.iterdir():\n",
        "        if item.is_dir():\n",
        "            rmtree(item)"
      ]
    },
    {
      "cell_type": "markdown",
      "metadata": {
        "collapsed": false,
        "id": "s5N75agq18er",
        "pycharm": {
          "name": "#%% md\n"
        }
      },
      "source": [
        "Loading pretrained model:"
      ]
    },
    {
      "cell_type": "code",
      "execution_count": 12,
      "metadata": {
        "id": "I6GTWtQz18es",
        "pycharm": {
          "name": "#%%\n"
        },
        "colab": {
          "base_uri": "https://localhost:8080/"
        },
        "outputId": "38843e52-0b00-4c97-fa8b-7796c681240d"
      },
      "outputs": [
        {
          "output_type": "stream",
          "name": "stdout",
          "text": [
            "Cloning into 'CheXNet'...\n",
            "remote: Enumerating objects: 62, done.\u001b[K\n",
            "remote: Counting objects: 100% (10/10), done.\u001b[K\n",
            "remote: Compressing objects: 100% (5/5), done.\u001b[K\n",
            "remote: Total 62 (delta 6), reused 5 (delta 5), pack-reused 52\u001b[K\n",
            "Unpacking objects: 100% (62/62), done.\n"
          ]
        }
      ],
      "source": [
        "!git clone \"https://github.com/arnoweng/CheXNet.git\"\n",
        "!mv \"./CheXNet/model.pth.tar\" \".\""
      ]
    },
    {
      "cell_type": "code",
      "execution_count": 13,
      "metadata": {
        "id": "Twjv-sqkpOfK",
        "pycharm": {
          "name": "#%%\n"
        }
      },
      "outputs": [],
      "source": [
        "DATASET_ROOT = 'dataset'\n",
        "PRETRAINED_MODEL = 'model.pth.tar'"
      ]
    },
    {
      "cell_type": "markdown",
      "metadata": {
        "collapsed": false,
        "id": "cAOHp7gJmt_p",
        "pycharm": {
          "name": "#%% md\n"
        }
      },
      "source": [
        "# Importing from libraries:"
      ]
    },
    {
      "cell_type": "code",
      "execution_count": 14,
      "metadata": {
        "id": "f_ywkSuL_bfL",
        "pycharm": {
          "name": "#%%\n"
        }
      },
      "outputs": [],
      "source": [
        "import os\n",
        "from pathlib import Path\n",
        "from PIL import Image\n",
        "import matplotlib.pyplot as plt\n",
        "import re\n",
        "\n",
        "import numpy as np\n",
        "import pandas as pd\n",
        "import time\n",
        "\n",
        "import torch\n",
        "from torch import nn\n",
        "from torch.nn import functional as F\n",
        "from torch.utils.data import random_split\n",
        "from torch.utils.data import Dataset, DataLoader\n",
        "import torchvision\n",
        "from torchvision import transforms as T\n",
        "from torchvision.transforms import functional as TF\n",
        "from torchvision.transforms.functional import InterpolationMode\n",
        "from torchvision.datasets import VOCSegmentation\n",
        "from torchvision import models\n",
        "\n",
        "from sklearn.metrics import accuracy_score, precision_score, recall_score, f1_score, confusion_matrix, ConfusionMatrixDisplay"
      ]
    },
    {
      "cell_type": "markdown",
      "metadata": {
        "collapsed": false,
        "id": "is-fG1Esmt_v",
        "pycharm": {
          "name": "#%% md\n"
        }
      },
      "source": [
        "Imports from my code:"
      ]
    },
    {
      "cell_type": "code",
      "execution_count": 15,
      "metadata": {
        "id": "-1wbjDZbmt_v",
        "pycharm": {
          "name": "#%%\n"
        }
      },
      "outputs": [],
      "source": [
        "%load_ext autoreload\n",
        "%autoreload 2"
      ]
    },
    {
      "cell_type": "markdown",
      "metadata": {
        "collapsed": false,
        "id": "psPtcNwQmt_w",
        "pycharm": {
          "name": "#%% md\n"
        }
      },
      "source": [
        "Setting seed:"
      ]
    },
    {
      "cell_type": "code",
      "execution_count": 16,
      "metadata": {
        "id": "4vsNHPlBBL-3",
        "pycharm": {
          "name": "#%%\n"
        }
      },
      "outputs": [],
      "source": [
        "torch.manual_seed(24)\n",
        "np.random.seed(24)"
      ]
    },
    {
      "cell_type": "code",
      "execution_count": 17,
      "metadata": {
        "id": "5-19Hanbmt_x",
        "pycharm": {
          "name": "#%%\n"
        }
      },
      "outputs": [],
      "source": [
        "device = torch.device(\"cuda\" if torch.cuda.is_available() else \"cpu\")"
      ]
    },
    {
      "cell_type": "markdown",
      "metadata": {
        "collapsed": false,
        "id": "nZNJtgftmt_y",
        "pycharm": {
          "name": "#%% md\n"
        }
      },
      "source": [
        "# Model:"
      ]
    },
    {
      "cell_type": "code",
      "execution_count": 18,
      "metadata": {
        "id": "SBRzn70jmt_y",
        "pycharm": {
          "name": "#%%\n"
        }
      },
      "outputs": [],
      "source": [
        "class DenseNet121(nn.Module):\n",
        "    def __init__(self, num_classes, drop_rate=0, weights=True):\n",
        "        super(DenseNet121, self).__init__()\n",
        "        self.densenet121 = torchvision.models.densenet121(drop_rate=drop_rate)\n",
        "        num_features = self.densenet121.classifier.in_features\n",
        "        if weights:\n",
        "            self.densenet121.classifier = nn.Sequential(\n",
        "                nn.Linear(num_features, 14)\n",
        "            )\n",
        "            load_weights(self)\n",
        "        self.densenet121.classifier = nn.Linear(num_features, num_classes)\n",
        "\n",
        "    def forward(self, x):\n",
        "        x = self.densenet121(x)\n",
        "        return x\n",
        "\n",
        "\n",
        "def load_weights(model, device='cpu'):\n",
        "    # Code modified from torchvision densenet source for loading from pre .4 densenet weights.\n",
        "    checkpoint = torch.load(PRETRAINED_MODEL, map_location=torch.device(device))\n",
        "    state_dict = checkpoint['state_dict']\n",
        "    remove_data_parallel = True  # Change if you don't want to use nn.DataParallel(model)\n",
        "\n",
        "    pattern = re.compile(\n",
        "        r'^(.*denselayer\\d+\\.(?:norm|relu|conv))\\.((?:[12])\\.(?:weight|bias|running_mean|running_var))$')\n",
        "    for key in list(state_dict.keys()):\n",
        "        match = pattern.match(key)\n",
        "        new_key = match.group(1) + match.group(2) if match else key\n",
        "        new_key = new_key[7:] if remove_data_parallel else new_key\n",
        "        state_dict[new_key] = state_dict[key]\n",
        "        # Delete old key only if modified.\n",
        "        if match or remove_data_parallel:\n",
        "            del state_dict[key]\n",
        "\n",
        "    model.load_state_dict(state_dict)"
      ]
    },
    {
      "cell_type": "markdown",
      "metadata": {
        "collapsed": false,
        "id": "KIQ6CljEmt_z",
        "pycharm": {
          "name": "#%% md\n"
        }
      },
      "source": [
        "Loading pretrained model:"
      ]
    },
    {
      "cell_type": "code",
      "execution_count": 19,
      "metadata": {
        "id": "C09CteYFmt_0",
        "colab": {
          "base_uri": "https://localhost:8080/"
        },
        "outputId": "ba418bf3-9488-4d6f-bb1a-fa41113b84de",
        "pycharm": {
          "name": "#%%\n"
        }
      },
      "outputs": [
        {
          "output_type": "execute_result",
          "data": {
            "text/plain": [
              "DenseNet121(\n",
              "  (densenet121): DenseNet(\n",
              "    (features): Sequential(\n",
              "      (conv0): Conv2d(3, 64, kernel_size=(7, 7), stride=(2, 2), padding=(3, 3), bias=False)\n",
              "      (norm0): BatchNorm2d(64, eps=1e-05, momentum=0.1, affine=True, track_running_stats=True)\n",
              "      (relu0): ReLU(inplace=True)\n",
              "      (pool0): MaxPool2d(kernel_size=3, stride=2, padding=1, dilation=1, ceil_mode=False)\n",
              "      (denseblock1): _DenseBlock(\n",
              "        (denselayer1): _DenseLayer(\n",
              "          (norm1): BatchNorm2d(64, eps=1e-05, momentum=0.1, affine=True, track_running_stats=True)\n",
              "          (relu1): ReLU(inplace=True)\n",
              "          (conv1): Conv2d(64, 128, kernel_size=(1, 1), stride=(1, 1), bias=False)\n",
              "          (norm2): BatchNorm2d(128, eps=1e-05, momentum=0.1, affine=True, track_running_stats=True)\n",
              "          (relu2): ReLU(inplace=True)\n",
              "          (conv2): Conv2d(128, 32, kernel_size=(3, 3), stride=(1, 1), padding=(1, 1), bias=False)\n",
              "        )\n",
              "        (denselayer2): _DenseLayer(\n",
              "          (norm1): BatchNorm2d(96, eps=1e-05, momentum=0.1, affine=True, track_running_stats=True)\n",
              "          (relu1): ReLU(inplace=True)\n",
              "          (conv1): Conv2d(96, 128, kernel_size=(1, 1), stride=(1, 1), bias=False)\n",
              "          (norm2): BatchNorm2d(128, eps=1e-05, momentum=0.1, affine=True, track_running_stats=True)\n",
              "          (relu2): ReLU(inplace=True)\n",
              "          (conv2): Conv2d(128, 32, kernel_size=(3, 3), stride=(1, 1), padding=(1, 1), bias=False)\n",
              "        )\n",
              "        (denselayer3): _DenseLayer(\n",
              "          (norm1): BatchNorm2d(128, eps=1e-05, momentum=0.1, affine=True, track_running_stats=True)\n",
              "          (relu1): ReLU(inplace=True)\n",
              "          (conv1): Conv2d(128, 128, kernel_size=(1, 1), stride=(1, 1), bias=False)\n",
              "          (norm2): BatchNorm2d(128, eps=1e-05, momentum=0.1, affine=True, track_running_stats=True)\n",
              "          (relu2): ReLU(inplace=True)\n",
              "          (conv2): Conv2d(128, 32, kernel_size=(3, 3), stride=(1, 1), padding=(1, 1), bias=False)\n",
              "        )\n",
              "        (denselayer4): _DenseLayer(\n",
              "          (norm1): BatchNorm2d(160, eps=1e-05, momentum=0.1, affine=True, track_running_stats=True)\n",
              "          (relu1): ReLU(inplace=True)\n",
              "          (conv1): Conv2d(160, 128, kernel_size=(1, 1), stride=(1, 1), bias=False)\n",
              "          (norm2): BatchNorm2d(128, eps=1e-05, momentum=0.1, affine=True, track_running_stats=True)\n",
              "          (relu2): ReLU(inplace=True)\n",
              "          (conv2): Conv2d(128, 32, kernel_size=(3, 3), stride=(1, 1), padding=(1, 1), bias=False)\n",
              "        )\n",
              "        (denselayer5): _DenseLayer(\n",
              "          (norm1): BatchNorm2d(192, eps=1e-05, momentum=0.1, affine=True, track_running_stats=True)\n",
              "          (relu1): ReLU(inplace=True)\n",
              "          (conv1): Conv2d(192, 128, kernel_size=(1, 1), stride=(1, 1), bias=False)\n",
              "          (norm2): BatchNorm2d(128, eps=1e-05, momentum=0.1, affine=True, track_running_stats=True)\n",
              "          (relu2): ReLU(inplace=True)\n",
              "          (conv2): Conv2d(128, 32, kernel_size=(3, 3), stride=(1, 1), padding=(1, 1), bias=False)\n",
              "        )\n",
              "        (denselayer6): _DenseLayer(\n",
              "          (norm1): BatchNorm2d(224, eps=1e-05, momentum=0.1, affine=True, track_running_stats=True)\n",
              "          (relu1): ReLU(inplace=True)\n",
              "          (conv1): Conv2d(224, 128, kernel_size=(1, 1), stride=(1, 1), bias=False)\n",
              "          (norm2): BatchNorm2d(128, eps=1e-05, momentum=0.1, affine=True, track_running_stats=True)\n",
              "          (relu2): ReLU(inplace=True)\n",
              "          (conv2): Conv2d(128, 32, kernel_size=(3, 3), stride=(1, 1), padding=(1, 1), bias=False)\n",
              "        )\n",
              "      )\n",
              "      (transition1): _Transition(\n",
              "        (norm): BatchNorm2d(256, eps=1e-05, momentum=0.1, affine=True, track_running_stats=True)\n",
              "        (relu): ReLU(inplace=True)\n",
              "        (conv): Conv2d(256, 128, kernel_size=(1, 1), stride=(1, 1), bias=False)\n",
              "        (pool): AvgPool2d(kernel_size=2, stride=2, padding=0)\n",
              "      )\n",
              "      (denseblock2): _DenseBlock(\n",
              "        (denselayer1): _DenseLayer(\n",
              "          (norm1): BatchNorm2d(128, eps=1e-05, momentum=0.1, affine=True, track_running_stats=True)\n",
              "          (relu1): ReLU(inplace=True)\n",
              "          (conv1): Conv2d(128, 128, kernel_size=(1, 1), stride=(1, 1), bias=False)\n",
              "          (norm2): BatchNorm2d(128, eps=1e-05, momentum=0.1, affine=True, track_running_stats=True)\n",
              "          (relu2): ReLU(inplace=True)\n",
              "          (conv2): Conv2d(128, 32, kernel_size=(3, 3), stride=(1, 1), padding=(1, 1), bias=False)\n",
              "        )\n",
              "        (denselayer2): _DenseLayer(\n",
              "          (norm1): BatchNorm2d(160, eps=1e-05, momentum=0.1, affine=True, track_running_stats=True)\n",
              "          (relu1): ReLU(inplace=True)\n",
              "          (conv1): Conv2d(160, 128, kernel_size=(1, 1), stride=(1, 1), bias=False)\n",
              "          (norm2): BatchNorm2d(128, eps=1e-05, momentum=0.1, affine=True, track_running_stats=True)\n",
              "          (relu2): ReLU(inplace=True)\n",
              "          (conv2): Conv2d(128, 32, kernel_size=(3, 3), stride=(1, 1), padding=(1, 1), bias=False)\n",
              "        )\n",
              "        (denselayer3): _DenseLayer(\n",
              "          (norm1): BatchNorm2d(192, eps=1e-05, momentum=0.1, affine=True, track_running_stats=True)\n",
              "          (relu1): ReLU(inplace=True)\n",
              "          (conv1): Conv2d(192, 128, kernel_size=(1, 1), stride=(1, 1), bias=False)\n",
              "          (norm2): BatchNorm2d(128, eps=1e-05, momentum=0.1, affine=True, track_running_stats=True)\n",
              "          (relu2): ReLU(inplace=True)\n",
              "          (conv2): Conv2d(128, 32, kernel_size=(3, 3), stride=(1, 1), padding=(1, 1), bias=False)\n",
              "        )\n",
              "        (denselayer4): _DenseLayer(\n",
              "          (norm1): BatchNorm2d(224, eps=1e-05, momentum=0.1, affine=True, track_running_stats=True)\n",
              "          (relu1): ReLU(inplace=True)\n",
              "          (conv1): Conv2d(224, 128, kernel_size=(1, 1), stride=(1, 1), bias=False)\n",
              "          (norm2): BatchNorm2d(128, eps=1e-05, momentum=0.1, affine=True, track_running_stats=True)\n",
              "          (relu2): ReLU(inplace=True)\n",
              "          (conv2): Conv2d(128, 32, kernel_size=(3, 3), stride=(1, 1), padding=(1, 1), bias=False)\n",
              "        )\n",
              "        (denselayer5): _DenseLayer(\n",
              "          (norm1): BatchNorm2d(256, eps=1e-05, momentum=0.1, affine=True, track_running_stats=True)\n",
              "          (relu1): ReLU(inplace=True)\n",
              "          (conv1): Conv2d(256, 128, kernel_size=(1, 1), stride=(1, 1), bias=False)\n",
              "          (norm2): BatchNorm2d(128, eps=1e-05, momentum=0.1, affine=True, track_running_stats=True)\n",
              "          (relu2): ReLU(inplace=True)\n",
              "          (conv2): Conv2d(128, 32, kernel_size=(3, 3), stride=(1, 1), padding=(1, 1), bias=False)\n",
              "        )\n",
              "        (denselayer6): _DenseLayer(\n",
              "          (norm1): BatchNorm2d(288, eps=1e-05, momentum=0.1, affine=True, track_running_stats=True)\n",
              "          (relu1): ReLU(inplace=True)\n",
              "          (conv1): Conv2d(288, 128, kernel_size=(1, 1), stride=(1, 1), bias=False)\n",
              "          (norm2): BatchNorm2d(128, eps=1e-05, momentum=0.1, affine=True, track_running_stats=True)\n",
              "          (relu2): ReLU(inplace=True)\n",
              "          (conv2): Conv2d(128, 32, kernel_size=(3, 3), stride=(1, 1), padding=(1, 1), bias=False)\n",
              "        )\n",
              "        (denselayer7): _DenseLayer(\n",
              "          (norm1): BatchNorm2d(320, eps=1e-05, momentum=0.1, affine=True, track_running_stats=True)\n",
              "          (relu1): ReLU(inplace=True)\n",
              "          (conv1): Conv2d(320, 128, kernel_size=(1, 1), stride=(1, 1), bias=False)\n",
              "          (norm2): BatchNorm2d(128, eps=1e-05, momentum=0.1, affine=True, track_running_stats=True)\n",
              "          (relu2): ReLU(inplace=True)\n",
              "          (conv2): Conv2d(128, 32, kernel_size=(3, 3), stride=(1, 1), padding=(1, 1), bias=False)\n",
              "        )\n",
              "        (denselayer8): _DenseLayer(\n",
              "          (norm1): BatchNorm2d(352, eps=1e-05, momentum=0.1, affine=True, track_running_stats=True)\n",
              "          (relu1): ReLU(inplace=True)\n",
              "          (conv1): Conv2d(352, 128, kernel_size=(1, 1), stride=(1, 1), bias=False)\n",
              "          (norm2): BatchNorm2d(128, eps=1e-05, momentum=0.1, affine=True, track_running_stats=True)\n",
              "          (relu2): ReLU(inplace=True)\n",
              "          (conv2): Conv2d(128, 32, kernel_size=(3, 3), stride=(1, 1), padding=(1, 1), bias=False)\n",
              "        )\n",
              "        (denselayer9): _DenseLayer(\n",
              "          (norm1): BatchNorm2d(384, eps=1e-05, momentum=0.1, affine=True, track_running_stats=True)\n",
              "          (relu1): ReLU(inplace=True)\n",
              "          (conv1): Conv2d(384, 128, kernel_size=(1, 1), stride=(1, 1), bias=False)\n",
              "          (norm2): BatchNorm2d(128, eps=1e-05, momentum=0.1, affine=True, track_running_stats=True)\n",
              "          (relu2): ReLU(inplace=True)\n",
              "          (conv2): Conv2d(128, 32, kernel_size=(3, 3), stride=(1, 1), padding=(1, 1), bias=False)\n",
              "        )\n",
              "        (denselayer10): _DenseLayer(\n",
              "          (norm1): BatchNorm2d(416, eps=1e-05, momentum=0.1, affine=True, track_running_stats=True)\n",
              "          (relu1): ReLU(inplace=True)\n",
              "          (conv1): Conv2d(416, 128, kernel_size=(1, 1), stride=(1, 1), bias=False)\n",
              "          (norm2): BatchNorm2d(128, eps=1e-05, momentum=0.1, affine=True, track_running_stats=True)\n",
              "          (relu2): ReLU(inplace=True)\n",
              "          (conv2): Conv2d(128, 32, kernel_size=(3, 3), stride=(1, 1), padding=(1, 1), bias=False)\n",
              "        )\n",
              "        (denselayer11): _DenseLayer(\n",
              "          (norm1): BatchNorm2d(448, eps=1e-05, momentum=0.1, affine=True, track_running_stats=True)\n",
              "          (relu1): ReLU(inplace=True)\n",
              "          (conv1): Conv2d(448, 128, kernel_size=(1, 1), stride=(1, 1), bias=False)\n",
              "          (norm2): BatchNorm2d(128, eps=1e-05, momentum=0.1, affine=True, track_running_stats=True)\n",
              "          (relu2): ReLU(inplace=True)\n",
              "          (conv2): Conv2d(128, 32, kernel_size=(3, 3), stride=(1, 1), padding=(1, 1), bias=False)\n",
              "        )\n",
              "        (denselayer12): _DenseLayer(\n",
              "          (norm1): BatchNorm2d(480, eps=1e-05, momentum=0.1, affine=True, track_running_stats=True)\n",
              "          (relu1): ReLU(inplace=True)\n",
              "          (conv1): Conv2d(480, 128, kernel_size=(1, 1), stride=(1, 1), bias=False)\n",
              "          (norm2): BatchNorm2d(128, eps=1e-05, momentum=0.1, affine=True, track_running_stats=True)\n",
              "          (relu2): ReLU(inplace=True)\n",
              "          (conv2): Conv2d(128, 32, kernel_size=(3, 3), stride=(1, 1), padding=(1, 1), bias=False)\n",
              "        )\n",
              "      )\n",
              "      (transition2): _Transition(\n",
              "        (norm): BatchNorm2d(512, eps=1e-05, momentum=0.1, affine=True, track_running_stats=True)\n",
              "        (relu): ReLU(inplace=True)\n",
              "        (conv): Conv2d(512, 256, kernel_size=(1, 1), stride=(1, 1), bias=False)\n",
              "        (pool): AvgPool2d(kernel_size=2, stride=2, padding=0)\n",
              "      )\n",
              "      (denseblock3): _DenseBlock(\n",
              "        (denselayer1): _DenseLayer(\n",
              "          (norm1): BatchNorm2d(256, eps=1e-05, momentum=0.1, affine=True, track_running_stats=True)\n",
              "          (relu1): ReLU(inplace=True)\n",
              "          (conv1): Conv2d(256, 128, kernel_size=(1, 1), stride=(1, 1), bias=False)\n",
              "          (norm2): BatchNorm2d(128, eps=1e-05, momentum=0.1, affine=True, track_running_stats=True)\n",
              "          (relu2): ReLU(inplace=True)\n",
              "          (conv2): Conv2d(128, 32, kernel_size=(3, 3), stride=(1, 1), padding=(1, 1), bias=False)\n",
              "        )\n",
              "        (denselayer2): _DenseLayer(\n",
              "          (norm1): BatchNorm2d(288, eps=1e-05, momentum=0.1, affine=True, track_running_stats=True)\n",
              "          (relu1): ReLU(inplace=True)\n",
              "          (conv1): Conv2d(288, 128, kernel_size=(1, 1), stride=(1, 1), bias=False)\n",
              "          (norm2): BatchNorm2d(128, eps=1e-05, momentum=0.1, affine=True, track_running_stats=True)\n",
              "          (relu2): ReLU(inplace=True)\n",
              "          (conv2): Conv2d(128, 32, kernel_size=(3, 3), stride=(1, 1), padding=(1, 1), bias=False)\n",
              "        )\n",
              "        (denselayer3): _DenseLayer(\n",
              "          (norm1): BatchNorm2d(320, eps=1e-05, momentum=0.1, affine=True, track_running_stats=True)\n",
              "          (relu1): ReLU(inplace=True)\n",
              "          (conv1): Conv2d(320, 128, kernel_size=(1, 1), stride=(1, 1), bias=False)\n",
              "          (norm2): BatchNorm2d(128, eps=1e-05, momentum=0.1, affine=True, track_running_stats=True)\n",
              "          (relu2): ReLU(inplace=True)\n",
              "          (conv2): Conv2d(128, 32, kernel_size=(3, 3), stride=(1, 1), padding=(1, 1), bias=False)\n",
              "        )\n",
              "        (denselayer4): _DenseLayer(\n",
              "          (norm1): BatchNorm2d(352, eps=1e-05, momentum=0.1, affine=True, track_running_stats=True)\n",
              "          (relu1): ReLU(inplace=True)\n",
              "          (conv1): Conv2d(352, 128, kernel_size=(1, 1), stride=(1, 1), bias=False)\n",
              "          (norm2): BatchNorm2d(128, eps=1e-05, momentum=0.1, affine=True, track_running_stats=True)\n",
              "          (relu2): ReLU(inplace=True)\n",
              "          (conv2): Conv2d(128, 32, kernel_size=(3, 3), stride=(1, 1), padding=(1, 1), bias=False)\n",
              "        )\n",
              "        (denselayer5): _DenseLayer(\n",
              "          (norm1): BatchNorm2d(384, eps=1e-05, momentum=0.1, affine=True, track_running_stats=True)\n",
              "          (relu1): ReLU(inplace=True)\n",
              "          (conv1): Conv2d(384, 128, kernel_size=(1, 1), stride=(1, 1), bias=False)\n",
              "          (norm2): BatchNorm2d(128, eps=1e-05, momentum=0.1, affine=True, track_running_stats=True)\n",
              "          (relu2): ReLU(inplace=True)\n",
              "          (conv2): Conv2d(128, 32, kernel_size=(3, 3), stride=(1, 1), padding=(1, 1), bias=False)\n",
              "        )\n",
              "        (denselayer6): _DenseLayer(\n",
              "          (norm1): BatchNorm2d(416, eps=1e-05, momentum=0.1, affine=True, track_running_stats=True)\n",
              "          (relu1): ReLU(inplace=True)\n",
              "          (conv1): Conv2d(416, 128, kernel_size=(1, 1), stride=(1, 1), bias=False)\n",
              "          (norm2): BatchNorm2d(128, eps=1e-05, momentum=0.1, affine=True, track_running_stats=True)\n",
              "          (relu2): ReLU(inplace=True)\n",
              "          (conv2): Conv2d(128, 32, kernel_size=(3, 3), stride=(1, 1), padding=(1, 1), bias=False)\n",
              "        )\n",
              "        (denselayer7): _DenseLayer(\n",
              "          (norm1): BatchNorm2d(448, eps=1e-05, momentum=0.1, affine=True, track_running_stats=True)\n",
              "          (relu1): ReLU(inplace=True)\n",
              "          (conv1): Conv2d(448, 128, kernel_size=(1, 1), stride=(1, 1), bias=False)\n",
              "          (norm2): BatchNorm2d(128, eps=1e-05, momentum=0.1, affine=True, track_running_stats=True)\n",
              "          (relu2): ReLU(inplace=True)\n",
              "          (conv2): Conv2d(128, 32, kernel_size=(3, 3), stride=(1, 1), padding=(1, 1), bias=False)\n",
              "        )\n",
              "        (denselayer8): _DenseLayer(\n",
              "          (norm1): BatchNorm2d(480, eps=1e-05, momentum=0.1, affine=True, track_running_stats=True)\n",
              "          (relu1): ReLU(inplace=True)\n",
              "          (conv1): Conv2d(480, 128, kernel_size=(1, 1), stride=(1, 1), bias=False)\n",
              "          (norm2): BatchNorm2d(128, eps=1e-05, momentum=0.1, affine=True, track_running_stats=True)\n",
              "          (relu2): ReLU(inplace=True)\n",
              "          (conv2): Conv2d(128, 32, kernel_size=(3, 3), stride=(1, 1), padding=(1, 1), bias=False)\n",
              "        )\n",
              "        (denselayer9): _DenseLayer(\n",
              "          (norm1): BatchNorm2d(512, eps=1e-05, momentum=0.1, affine=True, track_running_stats=True)\n",
              "          (relu1): ReLU(inplace=True)\n",
              "          (conv1): Conv2d(512, 128, kernel_size=(1, 1), stride=(1, 1), bias=False)\n",
              "          (norm2): BatchNorm2d(128, eps=1e-05, momentum=0.1, affine=True, track_running_stats=True)\n",
              "          (relu2): ReLU(inplace=True)\n",
              "          (conv2): Conv2d(128, 32, kernel_size=(3, 3), stride=(1, 1), padding=(1, 1), bias=False)\n",
              "        )\n",
              "        (denselayer10): _DenseLayer(\n",
              "          (norm1): BatchNorm2d(544, eps=1e-05, momentum=0.1, affine=True, track_running_stats=True)\n",
              "          (relu1): ReLU(inplace=True)\n",
              "          (conv1): Conv2d(544, 128, kernel_size=(1, 1), stride=(1, 1), bias=False)\n",
              "          (norm2): BatchNorm2d(128, eps=1e-05, momentum=0.1, affine=True, track_running_stats=True)\n",
              "          (relu2): ReLU(inplace=True)\n",
              "          (conv2): Conv2d(128, 32, kernel_size=(3, 3), stride=(1, 1), padding=(1, 1), bias=False)\n",
              "        )\n",
              "        (denselayer11): _DenseLayer(\n",
              "          (norm1): BatchNorm2d(576, eps=1e-05, momentum=0.1, affine=True, track_running_stats=True)\n",
              "          (relu1): ReLU(inplace=True)\n",
              "          (conv1): Conv2d(576, 128, kernel_size=(1, 1), stride=(1, 1), bias=False)\n",
              "          (norm2): BatchNorm2d(128, eps=1e-05, momentum=0.1, affine=True, track_running_stats=True)\n",
              "          (relu2): ReLU(inplace=True)\n",
              "          (conv2): Conv2d(128, 32, kernel_size=(3, 3), stride=(1, 1), padding=(1, 1), bias=False)\n",
              "        )\n",
              "        (denselayer12): _DenseLayer(\n",
              "          (norm1): BatchNorm2d(608, eps=1e-05, momentum=0.1, affine=True, track_running_stats=True)\n",
              "          (relu1): ReLU(inplace=True)\n",
              "          (conv1): Conv2d(608, 128, kernel_size=(1, 1), stride=(1, 1), bias=False)\n",
              "          (norm2): BatchNorm2d(128, eps=1e-05, momentum=0.1, affine=True, track_running_stats=True)\n",
              "          (relu2): ReLU(inplace=True)\n",
              "          (conv2): Conv2d(128, 32, kernel_size=(3, 3), stride=(1, 1), padding=(1, 1), bias=False)\n",
              "        )\n",
              "        (denselayer13): _DenseLayer(\n",
              "          (norm1): BatchNorm2d(640, eps=1e-05, momentum=0.1, affine=True, track_running_stats=True)\n",
              "          (relu1): ReLU(inplace=True)\n",
              "          (conv1): Conv2d(640, 128, kernel_size=(1, 1), stride=(1, 1), bias=False)\n",
              "          (norm2): BatchNorm2d(128, eps=1e-05, momentum=0.1, affine=True, track_running_stats=True)\n",
              "          (relu2): ReLU(inplace=True)\n",
              "          (conv2): Conv2d(128, 32, kernel_size=(3, 3), stride=(1, 1), padding=(1, 1), bias=False)\n",
              "        )\n",
              "        (denselayer14): _DenseLayer(\n",
              "          (norm1): BatchNorm2d(672, eps=1e-05, momentum=0.1, affine=True, track_running_stats=True)\n",
              "          (relu1): ReLU(inplace=True)\n",
              "          (conv1): Conv2d(672, 128, kernel_size=(1, 1), stride=(1, 1), bias=False)\n",
              "          (norm2): BatchNorm2d(128, eps=1e-05, momentum=0.1, affine=True, track_running_stats=True)\n",
              "          (relu2): ReLU(inplace=True)\n",
              "          (conv2): Conv2d(128, 32, kernel_size=(3, 3), stride=(1, 1), padding=(1, 1), bias=False)\n",
              "        )\n",
              "        (denselayer15): _DenseLayer(\n",
              "          (norm1): BatchNorm2d(704, eps=1e-05, momentum=0.1, affine=True, track_running_stats=True)\n",
              "          (relu1): ReLU(inplace=True)\n",
              "          (conv1): Conv2d(704, 128, kernel_size=(1, 1), stride=(1, 1), bias=False)\n",
              "          (norm2): BatchNorm2d(128, eps=1e-05, momentum=0.1, affine=True, track_running_stats=True)\n",
              "          (relu2): ReLU(inplace=True)\n",
              "          (conv2): Conv2d(128, 32, kernel_size=(3, 3), stride=(1, 1), padding=(1, 1), bias=False)\n",
              "        )\n",
              "        (denselayer16): _DenseLayer(\n",
              "          (norm1): BatchNorm2d(736, eps=1e-05, momentum=0.1, affine=True, track_running_stats=True)\n",
              "          (relu1): ReLU(inplace=True)\n",
              "          (conv1): Conv2d(736, 128, kernel_size=(1, 1), stride=(1, 1), bias=False)\n",
              "          (norm2): BatchNorm2d(128, eps=1e-05, momentum=0.1, affine=True, track_running_stats=True)\n",
              "          (relu2): ReLU(inplace=True)\n",
              "          (conv2): Conv2d(128, 32, kernel_size=(3, 3), stride=(1, 1), padding=(1, 1), bias=False)\n",
              "        )\n",
              "        (denselayer17): _DenseLayer(\n",
              "          (norm1): BatchNorm2d(768, eps=1e-05, momentum=0.1, affine=True, track_running_stats=True)\n",
              "          (relu1): ReLU(inplace=True)\n",
              "          (conv1): Conv2d(768, 128, kernel_size=(1, 1), stride=(1, 1), bias=False)\n",
              "          (norm2): BatchNorm2d(128, eps=1e-05, momentum=0.1, affine=True, track_running_stats=True)\n",
              "          (relu2): ReLU(inplace=True)\n",
              "          (conv2): Conv2d(128, 32, kernel_size=(3, 3), stride=(1, 1), padding=(1, 1), bias=False)\n",
              "        )\n",
              "        (denselayer18): _DenseLayer(\n",
              "          (norm1): BatchNorm2d(800, eps=1e-05, momentum=0.1, affine=True, track_running_stats=True)\n",
              "          (relu1): ReLU(inplace=True)\n",
              "          (conv1): Conv2d(800, 128, kernel_size=(1, 1), stride=(1, 1), bias=False)\n",
              "          (norm2): BatchNorm2d(128, eps=1e-05, momentum=0.1, affine=True, track_running_stats=True)\n",
              "          (relu2): ReLU(inplace=True)\n",
              "          (conv2): Conv2d(128, 32, kernel_size=(3, 3), stride=(1, 1), padding=(1, 1), bias=False)\n",
              "        )\n",
              "        (denselayer19): _DenseLayer(\n",
              "          (norm1): BatchNorm2d(832, eps=1e-05, momentum=0.1, affine=True, track_running_stats=True)\n",
              "          (relu1): ReLU(inplace=True)\n",
              "          (conv1): Conv2d(832, 128, kernel_size=(1, 1), stride=(1, 1), bias=False)\n",
              "          (norm2): BatchNorm2d(128, eps=1e-05, momentum=0.1, affine=True, track_running_stats=True)\n",
              "          (relu2): ReLU(inplace=True)\n",
              "          (conv2): Conv2d(128, 32, kernel_size=(3, 3), stride=(1, 1), padding=(1, 1), bias=False)\n",
              "        )\n",
              "        (denselayer20): _DenseLayer(\n",
              "          (norm1): BatchNorm2d(864, eps=1e-05, momentum=0.1, affine=True, track_running_stats=True)\n",
              "          (relu1): ReLU(inplace=True)\n",
              "          (conv1): Conv2d(864, 128, kernel_size=(1, 1), stride=(1, 1), bias=False)\n",
              "          (norm2): BatchNorm2d(128, eps=1e-05, momentum=0.1, affine=True, track_running_stats=True)\n",
              "          (relu2): ReLU(inplace=True)\n",
              "          (conv2): Conv2d(128, 32, kernel_size=(3, 3), stride=(1, 1), padding=(1, 1), bias=False)\n",
              "        )\n",
              "        (denselayer21): _DenseLayer(\n",
              "          (norm1): BatchNorm2d(896, eps=1e-05, momentum=0.1, affine=True, track_running_stats=True)\n",
              "          (relu1): ReLU(inplace=True)\n",
              "          (conv1): Conv2d(896, 128, kernel_size=(1, 1), stride=(1, 1), bias=False)\n",
              "          (norm2): BatchNorm2d(128, eps=1e-05, momentum=0.1, affine=True, track_running_stats=True)\n",
              "          (relu2): ReLU(inplace=True)\n",
              "          (conv2): Conv2d(128, 32, kernel_size=(3, 3), stride=(1, 1), padding=(1, 1), bias=False)\n",
              "        )\n",
              "        (denselayer22): _DenseLayer(\n",
              "          (norm1): BatchNorm2d(928, eps=1e-05, momentum=0.1, affine=True, track_running_stats=True)\n",
              "          (relu1): ReLU(inplace=True)\n",
              "          (conv1): Conv2d(928, 128, kernel_size=(1, 1), stride=(1, 1), bias=False)\n",
              "          (norm2): BatchNorm2d(128, eps=1e-05, momentum=0.1, affine=True, track_running_stats=True)\n",
              "          (relu2): ReLU(inplace=True)\n",
              "          (conv2): Conv2d(128, 32, kernel_size=(3, 3), stride=(1, 1), padding=(1, 1), bias=False)\n",
              "        )\n",
              "        (denselayer23): _DenseLayer(\n",
              "          (norm1): BatchNorm2d(960, eps=1e-05, momentum=0.1, affine=True, track_running_stats=True)\n",
              "          (relu1): ReLU(inplace=True)\n",
              "          (conv1): Conv2d(960, 128, kernel_size=(1, 1), stride=(1, 1), bias=False)\n",
              "          (norm2): BatchNorm2d(128, eps=1e-05, momentum=0.1, affine=True, track_running_stats=True)\n",
              "          (relu2): ReLU(inplace=True)\n",
              "          (conv2): Conv2d(128, 32, kernel_size=(3, 3), stride=(1, 1), padding=(1, 1), bias=False)\n",
              "        )\n",
              "        (denselayer24): _DenseLayer(\n",
              "          (norm1): BatchNorm2d(992, eps=1e-05, momentum=0.1, affine=True, track_running_stats=True)\n",
              "          (relu1): ReLU(inplace=True)\n",
              "          (conv1): Conv2d(992, 128, kernel_size=(1, 1), stride=(1, 1), bias=False)\n",
              "          (norm2): BatchNorm2d(128, eps=1e-05, momentum=0.1, affine=True, track_running_stats=True)\n",
              "          (relu2): ReLU(inplace=True)\n",
              "          (conv2): Conv2d(128, 32, kernel_size=(3, 3), stride=(1, 1), padding=(1, 1), bias=False)\n",
              "        )\n",
              "      )\n",
              "      (transition3): _Transition(\n",
              "        (norm): BatchNorm2d(1024, eps=1e-05, momentum=0.1, affine=True, track_running_stats=True)\n",
              "        (relu): ReLU(inplace=True)\n",
              "        (conv): Conv2d(1024, 512, kernel_size=(1, 1), stride=(1, 1), bias=False)\n",
              "        (pool): AvgPool2d(kernel_size=2, stride=2, padding=0)\n",
              "      )\n",
              "      (denseblock4): _DenseBlock(\n",
              "        (denselayer1): _DenseLayer(\n",
              "          (norm1): BatchNorm2d(512, eps=1e-05, momentum=0.1, affine=True, track_running_stats=True)\n",
              "          (relu1): ReLU(inplace=True)\n",
              "          (conv1): Conv2d(512, 128, kernel_size=(1, 1), stride=(1, 1), bias=False)\n",
              "          (norm2): BatchNorm2d(128, eps=1e-05, momentum=0.1, affine=True, track_running_stats=True)\n",
              "          (relu2): ReLU(inplace=True)\n",
              "          (conv2): Conv2d(128, 32, kernel_size=(3, 3), stride=(1, 1), padding=(1, 1), bias=False)\n",
              "        )\n",
              "        (denselayer2): _DenseLayer(\n",
              "          (norm1): BatchNorm2d(544, eps=1e-05, momentum=0.1, affine=True, track_running_stats=True)\n",
              "          (relu1): ReLU(inplace=True)\n",
              "          (conv1): Conv2d(544, 128, kernel_size=(1, 1), stride=(1, 1), bias=False)\n",
              "          (norm2): BatchNorm2d(128, eps=1e-05, momentum=0.1, affine=True, track_running_stats=True)\n",
              "          (relu2): ReLU(inplace=True)\n",
              "          (conv2): Conv2d(128, 32, kernel_size=(3, 3), stride=(1, 1), padding=(1, 1), bias=False)\n",
              "        )\n",
              "        (denselayer3): _DenseLayer(\n",
              "          (norm1): BatchNorm2d(576, eps=1e-05, momentum=0.1, affine=True, track_running_stats=True)\n",
              "          (relu1): ReLU(inplace=True)\n",
              "          (conv1): Conv2d(576, 128, kernel_size=(1, 1), stride=(1, 1), bias=False)\n",
              "          (norm2): BatchNorm2d(128, eps=1e-05, momentum=0.1, affine=True, track_running_stats=True)\n",
              "          (relu2): ReLU(inplace=True)\n",
              "          (conv2): Conv2d(128, 32, kernel_size=(3, 3), stride=(1, 1), padding=(1, 1), bias=False)\n",
              "        )\n",
              "        (denselayer4): _DenseLayer(\n",
              "          (norm1): BatchNorm2d(608, eps=1e-05, momentum=0.1, affine=True, track_running_stats=True)\n",
              "          (relu1): ReLU(inplace=True)\n",
              "          (conv1): Conv2d(608, 128, kernel_size=(1, 1), stride=(1, 1), bias=False)\n",
              "          (norm2): BatchNorm2d(128, eps=1e-05, momentum=0.1, affine=True, track_running_stats=True)\n",
              "          (relu2): ReLU(inplace=True)\n",
              "          (conv2): Conv2d(128, 32, kernel_size=(3, 3), stride=(1, 1), padding=(1, 1), bias=False)\n",
              "        )\n",
              "        (denselayer5): _DenseLayer(\n",
              "          (norm1): BatchNorm2d(640, eps=1e-05, momentum=0.1, affine=True, track_running_stats=True)\n",
              "          (relu1): ReLU(inplace=True)\n",
              "          (conv1): Conv2d(640, 128, kernel_size=(1, 1), stride=(1, 1), bias=False)\n",
              "          (norm2): BatchNorm2d(128, eps=1e-05, momentum=0.1, affine=True, track_running_stats=True)\n",
              "          (relu2): ReLU(inplace=True)\n",
              "          (conv2): Conv2d(128, 32, kernel_size=(3, 3), stride=(1, 1), padding=(1, 1), bias=False)\n",
              "        )\n",
              "        (denselayer6): _DenseLayer(\n",
              "          (norm1): BatchNorm2d(672, eps=1e-05, momentum=0.1, affine=True, track_running_stats=True)\n",
              "          (relu1): ReLU(inplace=True)\n",
              "          (conv1): Conv2d(672, 128, kernel_size=(1, 1), stride=(1, 1), bias=False)\n",
              "          (norm2): BatchNorm2d(128, eps=1e-05, momentum=0.1, affine=True, track_running_stats=True)\n",
              "          (relu2): ReLU(inplace=True)\n",
              "          (conv2): Conv2d(128, 32, kernel_size=(3, 3), stride=(1, 1), padding=(1, 1), bias=False)\n",
              "        )\n",
              "        (denselayer7): _DenseLayer(\n",
              "          (norm1): BatchNorm2d(704, eps=1e-05, momentum=0.1, affine=True, track_running_stats=True)\n",
              "          (relu1): ReLU(inplace=True)\n",
              "          (conv1): Conv2d(704, 128, kernel_size=(1, 1), stride=(1, 1), bias=False)\n",
              "          (norm2): BatchNorm2d(128, eps=1e-05, momentum=0.1, affine=True, track_running_stats=True)\n",
              "          (relu2): ReLU(inplace=True)\n",
              "          (conv2): Conv2d(128, 32, kernel_size=(3, 3), stride=(1, 1), padding=(1, 1), bias=False)\n",
              "        )\n",
              "        (denselayer8): _DenseLayer(\n",
              "          (norm1): BatchNorm2d(736, eps=1e-05, momentum=0.1, affine=True, track_running_stats=True)\n",
              "          (relu1): ReLU(inplace=True)\n",
              "          (conv1): Conv2d(736, 128, kernel_size=(1, 1), stride=(1, 1), bias=False)\n",
              "          (norm2): BatchNorm2d(128, eps=1e-05, momentum=0.1, affine=True, track_running_stats=True)\n",
              "          (relu2): ReLU(inplace=True)\n",
              "          (conv2): Conv2d(128, 32, kernel_size=(3, 3), stride=(1, 1), padding=(1, 1), bias=False)\n",
              "        )\n",
              "        (denselayer9): _DenseLayer(\n",
              "          (norm1): BatchNorm2d(768, eps=1e-05, momentum=0.1, affine=True, track_running_stats=True)\n",
              "          (relu1): ReLU(inplace=True)\n",
              "          (conv1): Conv2d(768, 128, kernel_size=(1, 1), stride=(1, 1), bias=False)\n",
              "          (norm2): BatchNorm2d(128, eps=1e-05, momentum=0.1, affine=True, track_running_stats=True)\n",
              "          (relu2): ReLU(inplace=True)\n",
              "          (conv2): Conv2d(128, 32, kernel_size=(3, 3), stride=(1, 1), padding=(1, 1), bias=False)\n",
              "        )\n",
              "        (denselayer10): _DenseLayer(\n",
              "          (norm1): BatchNorm2d(800, eps=1e-05, momentum=0.1, affine=True, track_running_stats=True)\n",
              "          (relu1): ReLU(inplace=True)\n",
              "          (conv1): Conv2d(800, 128, kernel_size=(1, 1), stride=(1, 1), bias=False)\n",
              "          (norm2): BatchNorm2d(128, eps=1e-05, momentum=0.1, affine=True, track_running_stats=True)\n",
              "          (relu2): ReLU(inplace=True)\n",
              "          (conv2): Conv2d(128, 32, kernel_size=(3, 3), stride=(1, 1), padding=(1, 1), bias=False)\n",
              "        )\n",
              "        (denselayer11): _DenseLayer(\n",
              "          (norm1): BatchNorm2d(832, eps=1e-05, momentum=0.1, affine=True, track_running_stats=True)\n",
              "          (relu1): ReLU(inplace=True)\n",
              "          (conv1): Conv2d(832, 128, kernel_size=(1, 1), stride=(1, 1), bias=False)\n",
              "          (norm2): BatchNorm2d(128, eps=1e-05, momentum=0.1, affine=True, track_running_stats=True)\n",
              "          (relu2): ReLU(inplace=True)\n",
              "          (conv2): Conv2d(128, 32, kernel_size=(3, 3), stride=(1, 1), padding=(1, 1), bias=False)\n",
              "        )\n",
              "        (denselayer12): _DenseLayer(\n",
              "          (norm1): BatchNorm2d(864, eps=1e-05, momentum=0.1, affine=True, track_running_stats=True)\n",
              "          (relu1): ReLU(inplace=True)\n",
              "          (conv1): Conv2d(864, 128, kernel_size=(1, 1), stride=(1, 1), bias=False)\n",
              "          (norm2): BatchNorm2d(128, eps=1e-05, momentum=0.1, affine=True, track_running_stats=True)\n",
              "          (relu2): ReLU(inplace=True)\n",
              "          (conv2): Conv2d(128, 32, kernel_size=(3, 3), stride=(1, 1), padding=(1, 1), bias=False)\n",
              "        )\n",
              "        (denselayer13): _DenseLayer(\n",
              "          (norm1): BatchNorm2d(896, eps=1e-05, momentum=0.1, affine=True, track_running_stats=True)\n",
              "          (relu1): ReLU(inplace=True)\n",
              "          (conv1): Conv2d(896, 128, kernel_size=(1, 1), stride=(1, 1), bias=False)\n",
              "          (norm2): BatchNorm2d(128, eps=1e-05, momentum=0.1, affine=True, track_running_stats=True)\n",
              "          (relu2): ReLU(inplace=True)\n",
              "          (conv2): Conv2d(128, 32, kernel_size=(3, 3), stride=(1, 1), padding=(1, 1), bias=False)\n",
              "        )\n",
              "        (denselayer14): _DenseLayer(\n",
              "          (norm1): BatchNorm2d(928, eps=1e-05, momentum=0.1, affine=True, track_running_stats=True)\n",
              "          (relu1): ReLU(inplace=True)\n",
              "          (conv1): Conv2d(928, 128, kernel_size=(1, 1), stride=(1, 1), bias=False)\n",
              "          (norm2): BatchNorm2d(128, eps=1e-05, momentum=0.1, affine=True, track_running_stats=True)\n",
              "          (relu2): ReLU(inplace=True)\n",
              "          (conv2): Conv2d(128, 32, kernel_size=(3, 3), stride=(1, 1), padding=(1, 1), bias=False)\n",
              "        )\n",
              "        (denselayer15): _DenseLayer(\n",
              "          (norm1): BatchNorm2d(960, eps=1e-05, momentum=0.1, affine=True, track_running_stats=True)\n",
              "          (relu1): ReLU(inplace=True)\n",
              "          (conv1): Conv2d(960, 128, kernel_size=(1, 1), stride=(1, 1), bias=False)\n",
              "          (norm2): BatchNorm2d(128, eps=1e-05, momentum=0.1, affine=True, track_running_stats=True)\n",
              "          (relu2): ReLU(inplace=True)\n",
              "          (conv2): Conv2d(128, 32, kernel_size=(3, 3), stride=(1, 1), padding=(1, 1), bias=False)\n",
              "        )\n",
              "        (denselayer16): _DenseLayer(\n",
              "          (norm1): BatchNorm2d(992, eps=1e-05, momentum=0.1, affine=True, track_running_stats=True)\n",
              "          (relu1): ReLU(inplace=True)\n",
              "          (conv1): Conv2d(992, 128, kernel_size=(1, 1), stride=(1, 1), bias=False)\n",
              "          (norm2): BatchNorm2d(128, eps=1e-05, momentum=0.1, affine=True, track_running_stats=True)\n",
              "          (relu2): ReLU(inplace=True)\n",
              "          (conv2): Conv2d(128, 32, kernel_size=(3, 3), stride=(1, 1), padding=(1, 1), bias=False)\n",
              "        )\n",
              "      )\n",
              "      (norm5): BatchNorm2d(1024, eps=1e-05, momentum=0.1, affine=True, track_running_stats=True)\n",
              "    )\n",
              "    (classifier): Linear(in_features=1024, out_features=3, bias=True)\n",
              "  )\n",
              ")"
            ]
          },
          "metadata": {},
          "execution_count": 19
        }
      ],
      "source": [
        "model = DenseNet121(3).to(device)\n",
        "model"
      ]
    },
    {
      "cell_type": "markdown",
      "metadata": {
        "collapsed": false,
        "id": "UDQRTCAA18e5",
        "pycharm": {
          "name": "#%% md\n"
        }
      },
      "source": [
        "# Dataset:"
      ]
    },
    {
      "cell_type": "markdown",
      "metadata": {
        "collapsed": false,
        "id": "uLrd96Axmt_1",
        "pycharm": {
          "name": "#%% md\n"
        }
      },
      "source": [
        "Dataset for loading images:"
      ]
    },
    {
      "cell_type": "code",
      "execution_count": 20,
      "metadata": {
        "id": "mWbxLB9Dmt_1",
        "pycharm": {
          "name": "#%%\n"
        }
      },
      "outputs": [],
      "source": [
        "class CovidDataset(Dataset):\n",
        "    def __init__(self, root, transform=None, shuffle=True, balanced=False, clamp=None):\n",
        "        if not isinstance(root, Path):\n",
        "            root = Path(root)\n",
        "        self.root = root\n",
        "        self.transform = transform\n",
        "        data = []\n",
        "        for y in os.listdir(self.root):\n",
        "            for x in os.listdir(os.path.join(self.root, y)):\n",
        "                data.append({'image': x, 'label': y})\n",
        "        self.dataframe = pd.DataFrame(data)\n",
        "        self.label_names, labels = np.unique(self.dataframe['label'], return_inverse=True)\n",
        "        self.label_to_index = {label_name: index for index, label_name in enumerate(self.label_names)}\n",
        "        self.dataframe['label'] = labels\n",
        "        self.original_label_counts = self.dataframe['label'].value_counts()\n",
        "        if balanced:\n",
        "            grouped_df = self.dataframe.groupby('label')\n",
        "            self.dataframe = grouped_df.apply(lambda class_df: class_df.sample(grouped_df.size().min()).reset_index(drop=True))\n",
        "        elif clamp is not None:\n",
        "            clamp_count = self.original_label_counts[self.label_to_index[clamp]]\n",
        "            grouped_df = self.dataframe.groupby('label')\n",
        "            self.dataframe = pd.concat([class_df.sample(n=clamp_count) if len(class_df) > clamp_count else class_df for key, class_df in grouped_df])\n",
        "        if shuffle:\n",
        "            self.dataframe = self.dataframe.sample(frac=1).reset_index(drop=True)\n",
        "        self.label_counts = self.dataframe['label'].value_counts()\n",
        "        self.label_weights = len(self.dataframe) / self.label_counts\n",
        "        self.label_weights = self.label_weights / self.label_weights.sum()\n",
        "\n",
        "    def __len__(self):\n",
        "        return len(self.dataframe)\n",
        "\n",
        "    def __getitem__(self, index):\n",
        "        item = self.dataframe.loc[index]\n",
        "        image_name, label = item['image'], item['label']\n",
        "        label_name = self.label_names[label]\n",
        "        image_path = self.root / label_name / image_name\n",
        "        image = Image.open(image_path).convert('RGB')\n",
        "        if self.transform:\n",
        "            image = self.transform(image)\n",
        "        return image, label"
      ]
    },
    {
      "cell_type": "code",
      "execution_count": 21,
      "metadata": {
        "id": "uYtL_1CEmt_2",
        "pycharm": {
          "name": "#%%\n"
        }
      },
      "outputs": [],
      "source": [
        "normalize = T.Normalize([0.485, 0.456, 0.406],\n",
        "                        [0.229, 0.224, 0.225])\n",
        "\n",
        "# dataset = CovidDataset(DATASET_ROOT, transform=T.Compose([\n",
        "#                                     T.Resize(256),\n",
        "#                                     T.TenCrop(224),\n",
        "#                                     T.Lambda\n",
        "#                                     (lambda crops: torch.stack([T.ToTensor()(crop) for crop in crops])),\n",
        "#                                     T.Lambda\n",
        "#                                     (lambda crops: torch.stack([normalize(crop) for crop in crops]))\n",
        "#                                 ]))\n",
        "dataset = CovidDataset(DATASET_ROOT, clamp='covid',\n",
        "                       transform=T.Compose([\n",
        "                           T.Resize((256, 256)),\n",
        "                           T.ToTensor(),\n",
        "                           normalize\n",
        "                       ]))"
      ]
    },
    {
      "cell_type": "code",
      "execution_count": 22,
      "metadata": {
        "id": "L5SuHp5i23ur",
        "colab": {
          "base_uri": "https://localhost:8080/"
        },
        "outputId": "5154a8fc-71ea-44df-9866-d6800666c667",
        "pycharm": {
          "name": "#%%\n"
        }
      },
      "outputs": [
        {
          "output_type": "execute_result",
          "data": {
            "text/plain": [
              "array(['covid', 'normal', 'pneumonia'], dtype=object)"
            ]
          },
          "metadata": {},
          "execution_count": 22
        }
      ],
      "source": [
        "dataset.label_names"
      ]
    },
    {
      "cell_type": "code",
      "execution_count": 23,
      "metadata": {
        "id": "sIjqOgTY3bZk",
        "colab": {
          "base_uri": "https://localhost:8080/"
        },
        "outputId": "1684d2bc-c3b6-48d1-9246-aca813552da4",
        "pycharm": {
          "name": "#%%\n"
        }
      },
      "outputs": [
        {
          "output_type": "execute_result",
          "data": {
            "text/plain": [
              "{'covid': 0, 'normal': 1, 'pneumonia': 2}"
            ]
          },
          "metadata": {},
          "execution_count": 23
        }
      ],
      "source": [
        "dataset.label_to_index"
      ]
    },
    {
      "cell_type": "code",
      "execution_count": 24,
      "metadata": {
        "id": "2Yg1J3nu2yi1",
        "colab": {
          "base_uri": "https://localhost:8080/"
        },
        "outputId": "d1123908-5062-4ba2-cecc-b92f987572b0",
        "pycharm": {
          "name": "#%%\n"
        }
      },
      "outputs": [
        {
          "output_type": "execute_result",
          "data": {
            "text/plain": [
              "1    10192\n",
              "0     4187\n",
              "2     1345\n",
              "Name: label, dtype: int64"
            ]
          },
          "metadata": {},
          "execution_count": 24
        }
      ],
      "source": [
        "dataset.original_label_counts"
      ]
    },
    {
      "cell_type": "code",
      "execution_count": 25,
      "metadata": {
        "id": "1Pl5XBVf27AG",
        "colab": {
          "base_uri": "https://localhost:8080/"
        },
        "outputId": "9ab5fb05-66dd-45a4-ae9d-f7b6e90aabf2",
        "pycharm": {
          "name": "#%%\n"
        }
      },
      "outputs": [
        {
          "output_type": "execute_result",
          "data": {
            "text/plain": [
              "0    4187\n",
              "1    4187\n",
              "2    1345\n",
              "Name: label, dtype: int64"
            ]
          },
          "metadata": {},
          "execution_count": 25
        }
      ],
      "source": [
        "#after clamping:\n",
        "dataset.label_counts"
      ]
    },
    {
      "cell_type": "code",
      "execution_count": 26,
      "metadata": {
        "id": "u_qqHmVi5bNd",
        "colab": {
          "base_uri": "https://localhost:8080/"
        },
        "outputId": "ad52e00f-2e04-4f67-e374-b3925c9e7ddc",
        "pycharm": {
          "name": "#%%\n"
        }
      },
      "outputs": [
        {
          "output_type": "execute_result",
          "data": {
            "text/plain": [
              "0    0.195579\n",
              "1    0.195579\n",
              "2    0.608841\n",
              "Name: label, dtype: float64"
            ]
          },
          "metadata": {},
          "execution_count": 26
        }
      ],
      "source": [
        "dataset.label_weights"
      ]
    },
    {
      "cell_type": "code",
      "execution_count": 27,
      "metadata": {
        "id": "VNXvOCger48r",
        "colab": {
          "base_uri": "https://localhost:8080/"
        },
        "outputId": "13ef8a10-f96a-4450-843d-f9af5f444b03",
        "pycharm": {
          "name": "#%%\n"
        }
      },
      "outputs": [
        {
          "output_type": "execute_result",
          "data": {
            "text/plain": [
              "torch.Size([3, 256, 256])"
            ]
          },
          "metadata": {},
          "execution_count": 27
        }
      ],
      "source": [
        "dataset[0][0].shape"
      ]
    },
    {
      "cell_type": "code",
      "execution_count": 28,
      "metadata": {
        "colab": {
          "base_uri": "https://localhost:8080/"
        },
        "id": "iZOzxny9suKL",
        "outputId": "6571a6ee-0c1a-497a-f2e3-6c15e143e618",
        "pycharm": {
          "name": "#%%\n"
        }
      },
      "outputs": [
        {
          "output_type": "execute_result",
          "data": {
            "text/plain": [
              "tensor([[-0.2267,  0.0372,  0.0988]], device='cuda:0',\n",
              "       grad_fn=<AddmmBackward0>)"
            ]
          },
          "metadata": {},
          "execution_count": 28
        }
      ],
      "source": [
        "model(dataset[0][0].to(device).unsqueeze(0))"
      ]
    },
    {
      "cell_type": "markdown",
      "metadata": {
        "collapsed": false,
        "id": "aDn08H9Nmt_2",
        "pycharm": {
          "name": "#%% md\n"
        }
      },
      "source": [
        "Dataloaders:"
      ]
    },
    {
      "cell_type": "code",
      "execution_count": 29,
      "metadata": {
        "id": "xcsDe4m2mt_2",
        "pycharm": {
          "name": "#%%\n"
        }
      },
      "outputs": [],
      "source": [
        "# splitting train and test sets\n",
        "dataset_len = len(dataset)\n",
        "train_len = int(0.8 * dataset_len)\n",
        "test_len = dataset_len - train_len\n",
        "train_set, test_set = random_split(dataset, [train_len, test_len])"
      ]
    },
    {
      "cell_type": "code",
      "execution_count": 30,
      "metadata": {
        "id": "CiE1edLE5bNh",
        "pycharm": {
          "name": "#%%\n"
        }
      },
      "outputs": [],
      "source": [
        "# splitting train and val sets\n",
        "train_len = int(0.8 * len(train_set))\n",
        "val_len = len(train_set) - train_len\n",
        "train_set, val_set = random_split(train_set, [train_len, val_len])"
      ]
    },
    {
      "cell_type": "code",
      "execution_count": 31,
      "metadata": {
        "id": "oXW8x8TJmt_2",
        "pycharm": {
          "name": "#%%\n"
        }
      },
      "outputs": [],
      "source": [
        "train_loader = DataLoader(train_set, 64, shuffle=True)\n",
        "val_loader = DataLoader(val_set, 64, shuffle=True)\n",
        "test_loader = DataLoader(test_set, 64, shuffle=True)"
      ]
    },
    {
      "cell_type": "markdown",
      "metadata": {
        "collapsed": false,
        "id": "nfjuKFav18fD",
        "pycharm": {
          "name": "#%% md\n"
        }
      },
      "source": [
        "# Training:"
      ]
    },
    {
      "cell_type": "markdown",
      "source": [
        "Metrics:"
      ],
      "metadata": {
        "id": "LXHKOPWzYBpi"
      }
    },
    {
      "cell_type": "code",
      "source": [
        "average_policy = 'macro'\n",
        "metrics = {'accuracy': accuracy_score, 'precision': lambda y1, y2: precision_score(y1, y2, average=average_policy),\n",
        "           'recall': lambda y1, y2: recall_score(y1, y2, average=average_policy),\n",
        "           'f1': lambda y1, y2: f1_score(y1, y2, average=average_policy),\n",
        "           'confusion_matrix': confusion_matrix}"
      ],
      "metadata": {
        "id": "ypPndKyRYAiH"
      },
      "execution_count": 32,
      "outputs": []
    },
    {
      "cell_type": "markdown",
      "metadata": {
        "collapsed": false,
        "id": "LWOuPnL35bNi",
        "pycharm": {
          "name": "#%% md\n"
        }
      },
      "source": [
        "## Training functions:"
      ]
    },
    {
      "cell_type": "code",
      "execution_count": 33,
      "metadata": {
        "id": "m3l4cK-_KuvG",
        "pycharm": {
          "name": "#%%\n"
        }
      },
      "outputs": [],
      "source": [
        "import time, tqdm\n",
        "\n",
        "\n",
        "def train(model, train_loader, criterion, optimizer, epoch):\n",
        "    train_loss = 0\n",
        "    N_train = len(train_loader.dataset)\n",
        "\n",
        "    model.train()\n",
        "    with tqdm.tqdm(enumerate(train_loader), total=len(train_loader)) as pbar:\n",
        "        for i, (x, y) in pbar:\n",
        "            optimizer.zero_grad()\n",
        "\n",
        "            x = x.to(device)\n",
        "            y = y.to(device)\n",
        "            p = model(x)\n",
        "\n",
        "            loss = criterion(p, y)\n",
        "            train_loss += loss.item() * len(x)\n",
        "\n",
        "            pbar.set_description(f'Epoch:{epoch}, Train Loss: {train_loss / N_train:.3e}')\n",
        "\n",
        "            loss.backward()\n",
        "            optimizer.step()\n",
        "\n",
        "    train_loss /= N_train\n",
        "    return train_loss\n",
        "\n",
        "\n",
        "def validate(model, val_loader, criterion, epoch=0, metrics=None):\n",
        "    val_loss = 0\n",
        "    N_val = len(val_loader.dataset)\n",
        "    Y = []\n",
        "    Y_pred = []\n",
        "    model.eval()\n",
        "    with torch.no_grad(), tqdm.tqdm(enumerate(val_loader), total=len(val_loader)) as pbar:\n",
        "        for i, (x, y) in pbar:\n",
        "            x = x.to(device)\n",
        "            y = y.to(device)\n",
        "            p = model(x)\n",
        "            y_pred = p.argmax(dim=-1)\n",
        "            loss = criterion(p, y)\n",
        "            val_loss += loss.item() * len(x)\n",
        "\n",
        "            pbar.set_description(f'Epoch:{epoch}, Val Loss: {val_loss / N_val:.3e}')\n",
        "            Y.append(y.cpu().numpy())\n",
        "            Y_pred.append(y_pred.cpu().numpy())\n",
        "    Y = np.concatenate(Y)\n",
        "    Y_pred = np.concatenate(Y_pred)\n",
        "    val_loss /= N_val\n",
        "    result = {'loss': val_loss}\n",
        "    if metrics is not None:\n",
        "        result.update({metric: metric_func(Y, Y_pred) for metric, metric_func in metrics.items()})\n",
        "    return result"
      ]
    },
    {
      "cell_type": "code",
      "execution_count": 34,
      "metadata": {
        "id": "yFdNnS7Zk1oy",
        "pycharm": {
          "name": "#%%\n"
        }
      },
      "outputs": [],
      "source": [
        "train_losses, val_losses = list(), list()"
      ]
    },
    {
      "cell_type": "code",
      "execution_count": 35,
      "metadata": {
        "id": "KmeKLMBIMsSF",
        "pycharm": {
          "name": "#%%\n"
        }
      },
      "outputs": [],
      "source": [
        "def train_model(model, criterion, dataloaders, optimizer, num_epochs,\n",
        "                model_name='pytorch_model', validation_metrics=None,\n",
        "                scheduler=None, plateau_scheduler=False):\n",
        "    val = len(dataloaders) == 2\n",
        "    if val:\n",
        "        train_loader, val_loader = dataloaders\n",
        "    else:\n",
        "        train_loader, = dataloaders\n",
        "\n",
        "    if validation_metrics is None:\n",
        "        validation_metrics = dict()\n",
        "\n",
        "    metrics_history = {metric: [] for metric in validation_metrics}\n",
        "    val_loss_min = np.inf\n",
        "\n",
        "    for epoch in range(num_epochs):\n",
        "        train_loss = train(model, train_loader, criterion, optimizer, epoch)\n",
        "        train_losses.append(train_loss)\n",
        "        if val:\n",
        "            result = validate(model, val_loader, criterion, epoch, metrics=validation_metrics)\n",
        "            val_loss = result['loss']\n",
        "            val_losses.append(val_loss)\n",
        "            for metric, metric_history in metrics_history:\n",
        "                metric_history.append(result[metric])\n",
        "\n",
        "            if val_loss <= val_loss_min:\n",
        "                torch.save(model.state_dict(), f'{model_name}.pt')\n",
        "                val_loss_min = val_loss\n",
        "        if scheduler is not None:\n",
        "            if plateau_scheduler:\n",
        "                scheduler.step(val_loss)\n",
        "            else:\n",
        "                scheduler.step()\n",
        "        print('\\n', '---' * 20)\n",
        "    plt.plot(train_losses, label='train')\n",
        "    if val:\n",
        "        # load best model during different epochs\n",
        "        model.load_state_dict(torch.load(f'{model_name}.pt'))\n",
        "        plt.plot(val_losses, label='val')\n",
        "        if len(metrics_history):\n",
        "            plt.legend()\n",
        "            plt.show()\n",
        "            for metric, metric_history in metrics_history:\n",
        "                plt.plot(metric_history, label=metric)\n",
        "    plt.legend()\n",
        "    plt.show()\n",
        "\n",
        "    return model, val_loss_min"
      ]
    },
    {
      "cell_type": "markdown",
      "metadata": {
        "collapsed": false,
        "id": "PpcRjwfl5bNn",
        "pycharm": {
          "name": "#%% md\n"
        }
      },
      "source": [
        "Freezing pretrained layers:"
      ]
    },
    {
      "cell_type": "code",
      "execution_count": 36,
      "metadata": {
        "id": "nwDNVJS4mt_4",
        "pycharm": {
          "name": "#%%\n"
        }
      },
      "outputs": [],
      "source": [
        "# model = model.to(device)\n",
        "# for param in model.parameters():\n",
        "#     param.requires_grad = False\n",
        "# for param in model.densenet121.classifier.parameters():\n",
        "#     param.requires_grad = True"
      ]
    },
    {
      "cell_type": "markdown",
      "metadata": {
        "collapsed": false,
        "id": "XChGUM0a5bNo",
        "pycharm": {
          "name": "#%% md\n"
        }
      },
      "source": [
        "Learning Config:"
      ]
    },
    {
      "cell_type": "code",
      "execution_count": 37,
      "metadata": {
        "id": "hDpzasmdmt_4",
        "pycharm": {
          "name": "#%%\n"
        }
      },
      "outputs": [],
      "source": [
        "weighted_loss = False\n",
        "if weighted_loss:\n",
        "    criterion = nn.CrossEntropyLoss(weight=torch.tensor(dataset.label_weights.sort_index().tolist())).to(device)\n",
        "else:\n",
        "    criterion = nn.CrossEntropyLoss().to(device)"
      ]
    },
    {
      "cell_type": "markdown",
      "metadata": {
        "collapsed": false,
        "id": "-KTL9VPA5bNp",
        "pycharm": {
          "name": "#%% md\n"
        }
      },
      "source": [
        "## Overfitting on a small dataset:"
      ]
    },
    {
      "cell_type": "code",
      "execution_count": 38,
      "metadata": {
        "id": "8iufSc0B5bNq",
        "pycharm": {
          "name": "#%%\n"
        },
        "colab": {
          "base_uri": "https://localhost:8080/"
        },
        "outputId": "580e8e80-ea46-4dc3-f999-d64cfeb7e3ce"
      },
      "outputs": [
        {
          "output_type": "stream",
          "name": "stdout",
          "text": [
            "311\n"
          ]
        }
      ],
      "source": [
        "small_len = int(0.05 * len(train_set))\n",
        "print(small_len)\n",
        "other_len = len(train_set) - small_len\n",
        "_, small_set = random_split(train_set, [other_len, small_len])\n",
        "small_loader = DataLoader(small_set, 64, shuffle=True)"
      ]
    },
    {
      "cell_type": "code",
      "source": [
        "# reinitialize model and losses\n",
        "train_losses.clear()\n",
        "val_losses.clear()\n",
        "model = DenseNet121(3, drop_rate=0.2).to(device)"
      ],
      "metadata": {
        "id": "b-4hLrmFMoQB"
      },
      "execution_count": 39,
      "outputs": []
    },
    {
      "cell_type": "code",
      "execution_count": 40,
      "metadata": {
        "id": "l7XZHtw95bNq",
        "pycharm": {
          "name": "#%%\n"
        }
      },
      "outputs": [],
      "source": [
        "# lr = 1e-3\n",
        "# optimizer = torch.optim.Adam(filter(lambda p: p.requires_grad, model.parameters()), lr=lr)\n",
        "# scheduler = torch.optim.lr_scheduler.StepLR(optimizer, 20, gamma=0.1, verbose=True)\n",
        "# train_model(model, criterion, [small_loader], optimizer, 30, scheduler=scheduler);"
      ]
    },
    {
      "cell_type": "code",
      "execution_count": 41,
      "metadata": {
        "id": "RTJUhdvy7Jja",
        "pycharm": {
          "name": "#%%\n"
        }
      },
      "outputs": [],
      "source": [
        "# validate(model, small_loader, criterion, metrics={'accuracy': lambda y1, y2: (y1 == y2).mean()})"
      ]
    },
    {
      "cell_type": "markdown",
      "metadata": {
        "collapsed": false,
        "id": "AJFneV-Z5bNr",
        "pycharm": {
          "name": "#%% md\n"
        }
      },
      "source": [
        "## Tuning hyper-parameters:"
      ]
    },
    {
      "cell_type": "code",
      "source": [
        "best_val_loss = np.inf\n",
        "best_model = None\n",
        "best_params = None"
      ],
      "metadata": {
        "id": "6VcvyTMRqaiq"
      },
      "execution_count": null,
      "outputs": []
    },
    {
      "cell_type": "code",
      "execution_count": null,
      "metadata": {
        "id": "TKk8jiN45bNr",
        "pycharm": {
          "name": "#%%\n"
        },
        "colab": {
          "base_uri": "https://localhost:8080/",
          "height": 1000
        },
        "outputId": "2b13e4a3-3167-4805-e45f-160f0857b858"
      },
      "outputs": [
        {
          "metadata": {
            "tags": null
          },
          "name": "stdout",
          "output_type": "stream",
          "text": [
            "0.5691572601133152 0.00023681672925673274\n"
          ]
        },
        {
          "metadata": {
            "tags": null
          },
          "name": "stderr",
          "output_type": "stream",
          "text": [
            "Epoch:0, Train Loss: 4.148e-01: 100%|██████████| 98/98 [01:57<00:00,  1.20s/it]\n",
            "Epoch:0, Val Loss: 5.949e-01: 100%|██████████| 25/25 [00:15<00:00,  1.57it/s]\n"
          ]
        },
        {
          "metadata": {
            "tags": null
          },
          "name": "stdout",
          "output_type": "stream",
          "text": [
            "\n",
            " ------------------------------------------------------------\n"
          ]
        },
        {
          "metadata": {
            "tags": null
          },
          "name": "stderr",
          "output_type": "stream",
          "text": [
            "Epoch:1, Train Loss: 1.553e-01: 100%|██████████| 98/98 [01:52<00:00,  1.15s/it]\n",
            "Epoch:1, Val Loss: 4.156e-01: 100%|██████████| 25/25 [00:14<00:00,  1.72it/s]\n"
          ]
        },
        {
          "metadata": {
            "tags": null
          },
          "name": "stdout",
          "output_type": "stream",
          "text": [
            "\n",
            " ------------------------------------------------------------\n"
          ]
        },
        {
          "metadata": {
            "tags": null
          },
          "name": "stderr",
          "output_type": "stream",
          "text": [
            "Epoch:2, Train Loss: 1.160e-01: 100%|██████████| 98/98 [01:51<00:00,  1.14s/it]\n",
            "Epoch:2, Val Loss: 4.419e-01: 100%|██████████| 25/25 [00:13<00:00,  1.89it/s]\n"
          ]
        },
        {
          "metadata": {
            "tags": null
          },
          "name": "stdout",
          "output_type": "stream",
          "text": [
            "\n",
            " ------------------------------------------------------------\n"
          ]
        },
        {
          "metadata": {
            "tags": null
          },
          "name": "stderr",
          "output_type": "stream",
          "text": [
            "Epoch:3, Train Loss: 9.082e-02: 100%|██████████| 98/98 [01:50<00:00,  1.13s/it]\n",
            "Epoch:3, Val Loss: 2.682e-01: 100%|██████████| 25/25 [00:13<00:00,  1.88it/s]\n"
          ]
        },
        {
          "metadata": {
            "tags": null
          },
          "name": "stdout",
          "output_type": "stream",
          "text": [
            "\n",
            " ------------------------------------------------------------\n"
          ]
        },
        {
          "metadata": {
            "tags": null
          },
          "name": "stderr",
          "output_type": "stream",
          "text": [
            "Epoch:4, Train Loss: 7.731e-02: 100%|██████████| 98/98 [01:51<00:00,  1.13s/it]\n",
            "Epoch:4, Val Loss: 3.323e-01: 100%|██████████| 25/25 [00:13<00:00,  1.88it/s]\n"
          ]
        },
        {
          "metadata": {
            "tags": null
          },
          "name": "stdout",
          "output_type": "stream",
          "text": [
            "\n",
            " ------------------------------------------------------------\n"
          ]
        },
        {
          "metadata": {
            "tags": null
          },
          "name": "stderr",
          "output_type": "stream",
          "text": [
            "Epoch:5, Train Loss: 6.465e-02: 100%|██████████| 98/98 [01:51<00:00,  1.14s/it]\n",
            "Epoch:5, Val Loss: 2.930e-01: 100%|██████████| 25/25 [00:13<00:00,  1.86it/s]\n"
          ]
        },
        {
          "metadata": {
            "tags": null
          },
          "name": "stdout",
          "output_type": "stream",
          "text": [
            "\n",
            " ------------------------------------------------------------\n"
          ]
        },
        {
          "metadata": {
            "tags": null
          },
          "name": "stderr",
          "output_type": "stream",
          "text": [
            "Epoch:6, Train Loss: 5.609e-02: 100%|██████████| 98/98 [01:51<00:00,  1.14s/it]\n",
            "Epoch:6, Val Loss: 2.314e-01: 100%|██████████| 25/25 [00:13<00:00,  1.88it/s]\n"
          ]
        },
        {
          "metadata": {
            "tags": null
          },
          "name": "stdout",
          "output_type": "stream",
          "text": [
            "\n",
            " ------------------------------------------------------------\n"
          ]
        },
        {
          "metadata": {
            "tags": null
          },
          "name": "stderr",
          "output_type": "stream",
          "text": [
            "Epoch:7, Train Loss: 5.505e-02: 100%|██████████| 98/98 [01:51<00:00,  1.14s/it]\n",
            "Epoch:7, Val Loss: 2.871e-01: 100%|██████████| 25/25 [00:13<00:00,  1.88it/s]\n"
          ]
        },
        {
          "metadata": {
            "tags": null
          },
          "name": "stdout",
          "output_type": "stream",
          "text": [
            "\n",
            " ------------------------------------------------------------\n"
          ]
        },
        {
          "metadata": {
            "tags": null
          },
          "name": "stderr",
          "output_type": "stream",
          "text": [
            "Epoch:8, Train Loss: 4.138e-02: 100%|██████████| 98/98 [01:51<00:00,  1.13s/it]\n",
            "Epoch:8, Val Loss: 6.491e-01: 100%|██████████| 25/25 [00:13<00:00,  1.88it/s]\n"
          ]
        },
        {
          "metadata": {
            "tags": null
          },
          "name": "stdout",
          "output_type": "stream",
          "text": [
            "\n",
            " ------------------------------------------------------------\n"
          ]
        },
        {
          "metadata": {
            "tags": null
          },
          "name": "stderr",
          "output_type": "stream",
          "text": [
            "Epoch:9, Train Loss: 3.857e-02: 100%|██████████| 98/98 [01:50<00:00,  1.13s/it]\n",
            "Epoch:9, Val Loss: 6.874e-01: 100%|██████████| 25/25 [00:13<00:00,  1.90it/s]\n"
          ]
        },
        {
          "metadata": {
            "tags": null
          },
          "name": "stdout",
          "output_type": "stream",
          "text": [
            "\n",
            " ------------------------------------------------------------\n"
          ]
        },
        {
          "metadata": {
            "tags": null
          },
          "name": "stderr",
          "output_type": "stream",
          "text": [
            "Epoch:10, Train Loss: 3.458e-02: 100%|██████████| 98/98 [01:50<00:00,  1.13s/it]\n",
            "Epoch:10, Val Loss: 6.117e-01: 100%|██████████| 25/25 [00:13<00:00,  1.87it/s]\n"
          ]
        },
        {
          "metadata": {
            "tags": null
          },
          "name": "stdout",
          "output_type": "stream",
          "text": [
            "\n",
            " ------------------------------------------------------------\n"
          ]
        },
        {
          "metadata": {
            "tags": null
          },
          "name": "stderr",
          "output_type": "stream",
          "text": [
            "Epoch:11, Train Loss: 4.494e-02: 100%|██████████| 98/98 [01:51<00:00,  1.13s/it]\n",
            "Epoch:11, Val Loss: 5.686e-01: 100%|██████████| 25/25 [00:13<00:00,  1.82it/s]\n"
          ]
        },
        {
          "metadata": {
            "tags": null
          },
          "name": "stdout",
          "output_type": "stream",
          "text": [
            "\n",
            " ------------------------------------------------------------\n"
          ]
        },
        {
          "metadata": {
            "tags": null
          },
          "name": "stderr",
          "output_type": "stream",
          "text": [
            "Epoch:12, Train Loss: 2.774e-02: 100%|██████████| 98/98 [01:52<00:00,  1.14s/it]\n",
            "Epoch:12, Val Loss: 1.429e-01: 100%|██████████| 25/25 [00:13<00:00,  1.89it/s]\n"
          ]
        },
        {
          "metadata": {
            "tags": null
          },
          "name": "stdout",
          "output_type": "stream",
          "text": [
            "\n",
            " ------------------------------------------------------------\n"
          ]
        },
        {
          "metadata": {
            "tags": null
          },
          "name": "stderr",
          "output_type": "stream",
          "text": [
            "Epoch:13, Train Loss: 2.257e-02: 100%|██████████| 98/98 [01:51<00:00,  1.13s/it]\n",
            "Epoch:13, Val Loss: 1.896e-01: 100%|██████████| 25/25 [00:13<00:00,  1.89it/s]\n"
          ]
        },
        {
          "metadata": {
            "tags": null
          },
          "name": "stdout",
          "output_type": "stream",
          "text": [
            "\n",
            " ------------------------------------------------------------\n"
          ]
        },
        {
          "metadata": {
            "tags": null
          },
          "name": "stderr",
          "output_type": "stream",
          "text": [
            "Epoch:14, Train Loss: 2.607e-02: 100%|██████████| 98/98 [01:52<00:00,  1.15s/it]\n",
            "Epoch:14, Val Loss: 2.446e-01: 100%|██████████| 25/25 [00:13<00:00,  1.82it/s]\n"
          ]
        },
        {
          "metadata": {
            "tags": null
          },
          "name": "stdout",
          "output_type": "stream",
          "text": [
            "\n",
            " ------------------------------------------------------------\n"
          ]
        },
        {
          "data": {
            "image/png": "[encoded data removed]",
            "text/plain": [
              "<Figure size 432x288 with 1 Axes>"
            ]
          },
          "metadata": {},
          "output_type": "display_data"
        },
        {
          "metadata": {
            "tags": null
          },
          "name": "stderr",
          "output_type": "stream",
          "text": [
            "Epoch:0, Val Loss: 1.429e-01: 100%|██████████| 25/25 [00:14<00:00,  1.78it/s]\n"
          ]
        },
        {
          "metadata": {
            "tags": null
          },
          "name": "stdout",
          "output_type": "stream",
          "text": [
            "{'loss': 0.1428540659573534, 'accuracy': 0.9691318327974277, 'precision': 0.9676516477496419, 'recall': 0.9679226059993936, 'f1': 0.9674675947449559}\n",
            "0.24549424358112215 0.000361901922566984\n"
          ]
        },
        {
          "metadata": {
            "tags": null
          },
          "name": "stderr",
          "output_type": "stream",
          "text": [
            "Epoch:0, Train Loss: 2.780e-01: 100%|██████████| 98/98 [01:52<00:00,  1.15s/it]\n",
            "Epoch:0, Val Loss: 3.801e-01: 100%|██████████| 25/25 [00:13<00:00,  1.91it/s]\n"
          ]
        },
        {
          "metadata": {
            "tags": null
          },
          "name": "stdout",
          "output_type": "stream",
          "text": [
            "\n",
            " ------------------------------------------------------------\n"
          ]
        },
        {
          "metadata": {
            "tags": null
          },
          "name": "stderr",
          "output_type": "stream",
          "text": [
            "Epoch:1, Train Loss: 8.716e-02: 100%|██████████| 98/98 [01:51<00:00,  1.14s/it]\n",
            "Epoch:1, Val Loss: 2.875e-01: 100%|██████████| 25/25 [00:13<00:00,  1.83it/s]\n"
          ]
        },
        {
          "metadata": {
            "tags": null
          },
          "name": "stdout",
          "output_type": "stream",
          "text": [
            "\n",
            " ------------------------------------------------------------\n"
          ]
        },
        {
          "metadata": {
            "tags": null
          },
          "name": "stderr",
          "output_type": "stream",
          "text": [
            "Epoch:2, Train Loss: 6.039e-02: 100%|██████████| 98/98 [01:52<00:00,  1.15s/it]\n",
            "Epoch:2, Val Loss: 2.530e-01: 100%|██████████| 25/25 [00:13<00:00,  1.92it/s]\n"
          ]
        },
        {
          "metadata": {
            "tags": null
          },
          "name": "stdout",
          "output_type": "stream",
          "text": [
            "\n",
            " ------------------------------------------------------------\n"
          ]
        },
        {
          "metadata": {
            "tags": null
          },
          "name": "stderr",
          "output_type": "stream",
          "text": [
            "Epoch:3, Train Loss: 4.083e-02: 100%|██████████| 98/98 [01:50<00:00,  1.13s/it]\n",
            "Epoch:3, Val Loss: 2.675e-01: 100%|██████████| 25/25 [00:12<00:00,  1.93it/s]\n"
          ]
        },
        {
          "metadata": {
            "tags": null
          },
          "name": "stdout",
          "output_type": "stream",
          "text": [
            "\n",
            " ------------------------------------------------------------\n"
          ]
        },
        {
          "metadata": {
            "tags": null
          },
          "name": "stderr",
          "output_type": "stream",
          "text": [
            "Epoch:4, Train Loss: 3.490e-02: 100%|██████████| 98/98 [01:50<00:00,  1.13s/it]\n",
            "Epoch:4, Val Loss: 1.642e-01: 100%|██████████| 25/25 [00:13<00:00,  1.91it/s]\n"
          ]
        },
        {
          "metadata": {
            "tags": null
          },
          "name": "stdout",
          "output_type": "stream",
          "text": [
            "\n",
            " ------------------------------------------------------------\n"
          ]
        },
        {
          "metadata": {
            "tags": null
          },
          "name": "stderr",
          "output_type": "stream",
          "text": [
            "Epoch:5, Train Loss: 4.497e-02: 100%|██████████| 98/98 [01:50<00:00,  1.13s/it]\n",
            "Epoch:5, Val Loss: 4.064e-01: 100%|██████████| 25/25 [00:12<00:00,  1.93it/s]\n"
          ]
        },
        {
          "metadata": {
            "tags": null
          },
          "name": "stdout",
          "output_type": "stream",
          "text": [
            "\n",
            " ------------------------------------------------------------\n"
          ]
        },
        {
          "metadata": {
            "tags": null
          },
          "name": "stderr",
          "output_type": "stream",
          "text": [
            "Epoch:6, Train Loss: 1.868e-02: 100%|██████████| 98/98 [01:50<00:00,  1.13s/it]\n",
            "Epoch:6, Val Loss: 1.791e-01: 100%|██████████| 25/25 [00:13<00:00,  1.90it/s]\n"
          ]
        },
        {
          "metadata": {
            "tags": null
          },
          "name": "stdout",
          "output_type": "stream",
          "text": [
            "\n",
            " ------------------------------------------------------------\n"
          ]
        },
        {
          "metadata": {
            "tags": null
          },
          "name": "stderr",
          "output_type": "stream",
          "text": [
            "Epoch:7, Train Loss: 1.382e-02: 100%|██████████| 98/98 [01:50<00:00,  1.13s/it]\n",
            "Epoch:7, Val Loss: 1.287e-01: 100%|██████████| 25/25 [00:13<00:00,  1.92it/s]\n"
          ]
        },
        {
          "metadata": {
            "tags": null
          },
          "name": "stdout",
          "output_type": "stream",
          "text": [
            "\n",
            " ------------------------------------------------------------\n"
          ]
        },
        {
          "metadata": {
            "tags": null
          },
          "name": "stderr",
          "output_type": "stream",
          "text": [
            "Epoch:8, Train Loss: 3.701e-02: 100%|██████████| 98/98 [01:50<00:00,  1.13s/it]\n",
            "Epoch:8, Val Loss: 1.237e-01: 100%|██████████| 25/25 [00:13<00:00,  1.92it/s]\n"
          ]
        },
        {
          "metadata": {
            "tags": null
          },
          "name": "stdout",
          "output_type": "stream",
          "text": [
            "\n",
            " ------------------------------------------------------------\n"
          ]
        },
        {
          "metadata": {
            "tags": null
          },
          "name": "stderr",
          "output_type": "stream",
          "text": [
            "Epoch:9, Train Loss: 1.593e-02: 100%|██████████| 98/98 [01:50<00:00,  1.12s/it]\n",
            "Epoch:9, Val Loss: 1.428e-01: 100%|██████████| 25/25 [00:13<00:00,  1.92it/s]\n"
          ]
        },
        {
          "metadata": {
            "tags": null
          },
          "name": "stdout",
          "output_type": "stream",
          "text": [
            "\n",
            " ------------------------------------------------------------\n"
          ]
        },
        {
          "metadata": {
            "tags": null
          },
          "name": "stderr",
          "output_type": "stream",
          "text": [
            "Epoch:10, Train Loss: 6.963e-03: 100%|██████████| 98/98 [01:50<00:00,  1.12s/it]\n",
            "Epoch:10, Val Loss: 1.221e-01: 100%|██████████| 25/25 [00:12<00:00,  1.93it/s]\n"
          ]
        },
        {
          "metadata": {
            "tags": null
          },
          "name": "stdout",
          "output_type": "stream",
          "text": [
            "\n",
            " ------------------------------------------------------------\n"
          ]
        },
        {
          "metadata": {
            "tags": null
          },
          "name": "stderr",
          "output_type": "stream",
          "text": [
            "Epoch:11, Train Loss: 1.421e-02: 100%|██████████| 98/98 [01:50<00:00,  1.12s/it]\n",
            "Epoch:11, Val Loss: 1.465e-01: 100%|██████████| 25/25 [00:12<00:00,  1.92it/s]\n"
          ]
        },
        {
          "metadata": {
            "tags": null
          },
          "name": "stdout",
          "output_type": "stream",
          "text": [
            "\n",
            " ------------------------------------------------------------\n"
          ]
        },
        {
          "metadata": {
            "tags": null
          },
          "name": "stderr",
          "output_type": "stream",
          "text": [
            "Epoch:12, Train Loss: 1.013e-02: 100%|██████████| 98/98 [01:50<00:00,  1.12s/it]\n",
            "Epoch:12, Val Loss: 1.139e-01: 100%|██████████| 25/25 [00:12<00:00,  1.93it/s]\n"
          ]
        },
        {
          "metadata": {
            "tags": null
          },
          "name": "stdout",
          "output_type": "stream",
          "text": [
            "\n",
            " ------------------------------------------------------------\n"
          ]
        },
        {
          "metadata": {
            "tags": null
          },
          "name": "stderr",
          "output_type": "stream",
          "text": [
            "Epoch:13, Train Loss: 1.284e-02: 100%|██████████| 98/98 [01:50<00:00,  1.12s/it]\n",
            "Epoch:13, Val Loss: 1.120e-01: 100%|██████████| 25/25 [00:13<00:00,  1.92it/s]\n"
          ]
        },
        {
          "metadata": {
            "tags": null
          },
          "name": "stdout",
          "output_type": "stream",
          "text": [
            "\n",
            " ------------------------------------------------------------\n"
          ]
        },
        {
          "metadata": {
            "tags": null
          },
          "name": "stderr",
          "output_type": "stream",
          "text": [
            "Epoch:14, Train Loss: 5.846e-03: 100%|██████████| 98/98 [01:50<00:00,  1.12s/it]\n",
            "Epoch:14, Val Loss: 1.938e-01: 100%|██████████| 25/25 [00:12<00:00,  1.92it/s]\n"
          ]
        },
        {
          "metadata": {
            "tags": null
          },
          "name": "stdout",
          "output_type": "stream",
          "text": [
            "\n",
            " ------------------------------------------------------------\n"
          ]
        },
        {
          "data": {
            "image/png": "[encoded data removed]",
            "text/plain": [
              "<Figure size 432x288 with 1 Axes>"
            ]
          },
          "metadata": {},
          "output_type": "display_data"
        },
        {
          "metadata": {
            "tags": null
          },
          "name": "stderr",
          "output_type": "stream",
          "text": [
            "Epoch:0, Val Loss: 1.120e-01: 100%|██████████| 25/25 [00:13<00:00,  1.91it/s]\n"
          ]
        },
        {
          "metadata": {
            "tags": null
          },
          "name": "stdout",
          "output_type": "stream",
          "text": [
            "{'loss': 0.1119808334282261, 'accuracy': 0.9787781350482315, 'precision': 0.9759455987779687, 'recall': 0.9764304161098808, 'f1': 0.9759648447557628}\n",
            "0.22171511919885897 0.000494237378588579\n"
          ]
        },
        {
          "metadata": {
            "tags": null
          },
          "name": "stderr",
          "output_type": "stream",
          "text": [
            "Epoch:0, Train Loss: 2.455e-01: 100%|██████████| 98/98 [01:50<00:00,  1.13s/it]\n",
            "Epoch:0, Val Loss: 7.295e-01: 100%|██████████| 25/25 [00:13<00:00,  1.92it/s]\n"
          ]
        },
        {
          "metadata": {
            "tags": null
          },
          "name": "stdout",
          "output_type": "stream",
          "text": [
            "\n",
            " ------------------------------------------------------------\n"
          ]
        },
        {
          "metadata": {
            "tags": null
          },
          "name": "stderr",
          "output_type": "stream",
          "text": [
            "Epoch:1, Train Loss: 9.039e-02: 100%|██████████| 98/98 [01:50<00:00,  1.13s/it]\n",
            "Epoch:1, Val Loss: 1.820e-01: 100%|██████████| 25/25 [00:13<00:00,  1.92it/s]\n"
          ]
        },
        {
          "metadata": {
            "tags": null
          },
          "name": "stdout",
          "output_type": "stream",
          "text": [
            "\n",
            " ------------------------------------------------------------\n"
          ]
        },
        {
          "metadata": {
            "tags": null
          },
          "name": "stderr",
          "output_type": "stream",
          "text": [
            "Epoch:2, Train Loss: 5.580e-02: 100%|██████████| 98/98 [01:49<00:00,  1.12s/it]\n",
            "Epoch:2, Val Loss: 2.645e-01: 100%|██████████| 25/25 [00:13<00:00,  1.92it/s]\n"
          ]
        },
        {
          "metadata": {
            "tags": null
          },
          "name": "stdout",
          "output_type": "stream",
          "text": [
            "\n",
            " ------------------------------------------------------------\n"
          ]
        },
        {
          "metadata": {
            "tags": null
          },
          "name": "stderr",
          "output_type": "stream",
          "text": [
            "Epoch:3, Train Loss: 2.885e-02: 100%|██████████| 98/98 [01:50<00:00,  1.13s/it]\n",
            "Epoch:3, Val Loss: 3.313e-01: 100%|██████████| 25/25 [00:13<00:00,  1.87it/s]\n"
          ]
        },
        {
          "metadata": {
            "tags": null
          },
          "name": "stdout",
          "output_type": "stream",
          "text": [
            "\n",
            " ------------------------------------------------------------\n"
          ]
        },
        {
          "metadata": {
            "tags": null
          },
          "name": "stderr",
          "output_type": "stream",
          "text": [
            "Epoch:4, Train Loss: 4.185e-02: 100%|██████████| 98/98 [01:53<00:00,  1.15s/it]\n",
            "Epoch:4, Val Loss: 2.412e-01: 100%|██████████| 25/25 [00:14<00:00,  1.78it/s]\n"
          ]
        },
        {
          "metadata": {
            "tags": null
          },
          "name": "stdout",
          "output_type": "stream",
          "text": [
            "\n",
            " ------------------------------------------------------------\n"
          ]
        },
        {
          "metadata": {
            "tags": null
          },
          "name": "stderr",
          "output_type": "stream",
          "text": [
            "Epoch:5, Train Loss: 2.527e-02: 100%|██████████| 98/98 [01:53<00:00,  1.16s/it]\n",
            "Epoch:5, Val Loss: 1.025e-01: 100%|██████████| 25/25 [00:13<00:00,  1.83it/s]\n"
          ]
        },
        {
          "metadata": {
            "tags": null
          },
          "name": "stdout",
          "output_type": "stream",
          "text": [
            "\n",
            " ------------------------------------------------------------\n"
          ]
        },
        {
          "metadata": {
            "tags": null
          },
          "name": "stderr",
          "output_type": "stream",
          "text": [
            "Epoch:6, Train Loss: 2.198e-02: 100%|██████████| 98/98 [01:53<00:00,  1.16s/it]\n",
            "Epoch:6, Val Loss: 9.056e-02: 100%|██████████| 25/25 [00:13<00:00,  1.87it/s]\n"
          ]
        },
        {
          "metadata": {
            "tags": null
          },
          "name": "stdout",
          "output_type": "stream",
          "text": [
            "\n",
            " ------------------------------------------------------------\n"
          ]
        },
        {
          "metadata": {
            "tags": null
          },
          "name": "stderr",
          "output_type": "stream",
          "text": [
            "Epoch:7, Train Loss: 2.252e-02: 100%|██████████| 98/98 [01:52<00:00,  1.15s/it]\n",
            "Epoch:7, Val Loss: 1.346e-01: 100%|██████████| 25/25 [00:13<00:00,  1.82it/s]\n"
          ]
        },
        {
          "metadata": {
            "tags": null
          },
          "name": "stdout",
          "output_type": "stream",
          "text": [
            "\n",
            " ------------------------------------------------------------\n"
          ]
        },
        {
          "metadata": {
            "tags": null
          },
          "name": "stderr",
          "output_type": "stream",
          "text": [
            "Epoch:8, Train Loss: 1.694e-02: 100%|██████████| 98/98 [01:53<00:00,  1.15s/it]\n",
            "Epoch:8, Val Loss: 2.507e-01: 100%|██████████| 25/25 [00:13<00:00,  1.82it/s]\n"
          ]
        },
        {
          "metadata": {
            "tags": null
          },
          "name": "stdout",
          "output_type": "stream",
          "text": [
            "\n",
            " ------------------------------------------------------------\n"
          ]
        },
        {
          "metadata": {
            "tags": null
          },
          "name": "stderr",
          "output_type": "stream",
          "text": [
            "Epoch:9, Train Loss: 2.008e-02: 100%|██████████| 98/98 [01:53<00:00,  1.15s/it]\n",
            "Epoch:9, Val Loss: 1.555e-01: 100%|██████████| 25/25 [00:13<00:00,  1.82it/s]\n"
          ]
        },
        {
          "metadata": {
            "tags": null
          },
          "name": "stdout",
          "output_type": "stream",
          "text": [
            "\n",
            " ------------------------------------------------------------\n"
          ]
        },
        {
          "metadata": {
            "tags": null
          },
          "name": "stderr",
          "output_type": "stream",
          "text": [
            "Epoch:10, Train Loss: 4.507e-02: 100%|██████████| 98/98 [01:52<00:00,  1.15s/it]\n",
            "Epoch:10, Val Loss: 3.679e-01: 100%|██████████| 25/25 [00:13<00:00,  1.84it/s]\n"
          ]
        },
        {
          "metadata": {
            "tags": null
          },
          "name": "stdout",
          "output_type": "stream",
          "text": [
            "\n",
            " ------------------------------------------------------------\n"
          ]
        },
        {
          "metadata": {
            "tags": null
          },
          "name": "stderr",
          "output_type": "stream",
          "text": [
            "Epoch:11, Train Loss: 1.516e-02: 100%|██████████| 98/98 [01:52<00:00,  1.15s/it]\n",
            "Epoch:11, Val Loss: 1.470e-01: 100%|██████████| 25/25 [00:13<00:00,  1.84it/s]\n"
          ]
        },
        {
          "metadata": {
            "tags": null
          },
          "name": "stdout",
          "output_type": "stream",
          "text": [
            "\n",
            " ------------------------------------------------------------\n"
          ]
        },
        {
          "metadata": {
            "tags": null
          },
          "name": "stderr",
          "output_type": "stream",
          "text": [
            "Epoch:12, Train Loss: 6.516e-03: 100%|██████████| 98/98 [01:50<00:00,  1.13s/it]\n",
            "Epoch:12, Val Loss: 4.262e-01: 100%|██████████| 25/25 [00:13<00:00,  1.91it/s]\n"
          ]
        },
        {
          "metadata": {
            "tags": null
          },
          "name": "stdout",
          "output_type": "stream",
          "text": [
            "\n",
            " ------------------------------------------------------------\n"
          ]
        },
        {
          "metadata": {
            "tags": null
          },
          "name": "stderr",
          "output_type": "stream",
          "text": [
            "Epoch:13, Train Loss: 8.949e-03: 100%|██████████| 98/98 [01:50<00:00,  1.13s/it]\n",
            "Epoch:13, Val Loss: 2.241e-01: 100%|██████████| 25/25 [00:12<00:00,  1.93it/s]\n"
          ]
        },
        {
          "metadata": {
            "tags": null
          },
          "name": "stdout",
          "output_type": "stream",
          "text": [
            "\n",
            " ------------------------------------------------------------\n"
          ]
        },
        {
          "metadata": {
            "tags": null
          },
          "name": "stderr",
          "output_type": "stream",
          "text": [
            "Epoch:14, Train Loss: 1.204e-02: 100%|██████████| 98/98 [01:49<00:00,  1.12s/it]\n",
            "Epoch:14, Val Loss: 2.704e-01: 100%|██████████| 25/25 [00:12<00:00,  1.94it/s]\n"
          ]
        },
        {
          "metadata": {
            "tags": null
          },
          "name": "stdout",
          "output_type": "stream",
          "text": [
            "\n",
            " ------------------------------------------------------------\n"
          ]
        },
        {
          "data": {
            "image/png": "[encoded data removed]",
            "text/plain": [
              "<Figure size 432x288 with 1 Axes>"
            ]
          },
          "metadata": {},
          "output_type": "display_data"
        },
        {
          "metadata": {
            "tags": null
          },
          "name": "stderr",
          "output_type": "stream",
          "text": [
            "Epoch:0, Val Loss: 9.056e-02: 100%|██████████| 25/25 [00:12<00:00,  1.93it/s]\n"
          ]
        },
        {
          "metadata": {
            "tags": null
          },
          "name": "stdout",
          "output_type": "stream",
          "text": [
            "{'loss': 0.0905579933788855, 'accuracy': 0.9781350482315112, 'precision': 0.9763986350403965, 'recall': 0.9759314141138727, 'f1': 0.9759532935733691}\n",
            "0.17967889476539203 0.00026809399283218773\n"
          ]
        },
        {
          "metadata": {
            "tags": null
          },
          "name": "stderr",
          "output_type": "stream",
          "text": [
            "Epoch:0, Train Loss: 2.886e-01: 100%|██████████| 98/98 [01:50<00:00,  1.12s/it]\n",
            "Epoch:0, Val Loss: 1.824e-01: 100%|██████████| 25/25 [00:13<00:00,  1.91it/s]\n"
          ]
        },
        {
          "metadata": {
            "tags": null
          },
          "name": "stdout",
          "output_type": "stream",
          "text": [
            "\n",
            " ------------------------------------------------------------\n"
          ]
        },
        {
          "metadata": {
            "tags": null
          },
          "name": "stderr",
          "output_type": "stream",
          "text": [
            "Epoch:1, Train Loss: 7.725e-02: 100%|██████████| 98/98 [01:50<00:00,  1.12s/it]\n",
            "Epoch:1, Val Loss: 1.488e-01: 100%|██████████| 25/25 [00:13<00:00,  1.92it/s]\n"
          ]
        },
        {
          "metadata": {
            "tags": null
          },
          "name": "stdout",
          "output_type": "stream",
          "text": [
            "\n",
            " ------------------------------------------------------------\n"
          ]
        },
        {
          "metadata": {
            "tags": null
          },
          "name": "stderr",
          "output_type": "stream",
          "text": [
            "Epoch:2, Train Loss: 5.295e-02: 100%|██████████| 98/98 [01:50<00:00,  1.13s/it]\n",
            "Epoch:2, Val Loss: 1.942e-01: 100%|██████████| 25/25 [00:13<00:00,  1.89it/s]\n"
          ]
        },
        {
          "metadata": {
            "tags": null
          },
          "name": "stdout",
          "output_type": "stream",
          "text": [
            "\n",
            " ------------------------------------------------------------\n"
          ]
        },
        {
          "metadata": {
            "tags": null
          },
          "name": "stderr",
          "output_type": "stream",
          "text": [
            "Epoch:3, Train Loss: 4.045e-02: 100%|██████████| 98/98 [01:50<00:00,  1.13s/it]\n",
            "Epoch:3, Val Loss: 1.695e-01: 100%|██████████| 25/25 [00:13<00:00,  1.88it/s]\n"
          ]
        },
        {
          "metadata": {
            "tags": null
          },
          "name": "stdout",
          "output_type": "stream",
          "text": [
            "\n",
            " ------------------------------------------------------------\n"
          ]
        },
        {
          "metadata": {
            "tags": null
          },
          "name": "stderr",
          "output_type": "stream",
          "text": [
            "Epoch:4, Train Loss: 2.005e-02: 100%|██████████| 98/98 [01:52<00:00,  1.15s/it]\n",
            "Epoch:4, Val Loss: 1.337e-01: 100%|██████████| 25/25 [00:13<00:00,  1.88it/s]\n"
          ]
        },
        {
          "metadata": {
            "tags": null
          },
          "name": "stdout",
          "output_type": "stream",
          "text": [
            "\n",
            " ------------------------------------------------------------\n"
          ]
        },
        {
          "metadata": {
            "tags": null
          },
          "name": "stderr",
          "output_type": "stream",
          "text": [
            "Epoch:5, Train Loss: 1.797e-02: 100%|██████████| 98/98 [01:52<00:00,  1.14s/it]\n",
            "Epoch:5, Val Loss: 3.222e-01: 100%|██████████| 25/25 [00:13<00:00,  1.86it/s]\n"
          ]
        },
        {
          "metadata": {
            "tags": null
          },
          "name": "stdout",
          "output_type": "stream",
          "text": [
            "\n",
            " ------------------------------------------------------------\n"
          ]
        },
        {
          "metadata": {
            "tags": null
          },
          "name": "stderr",
          "output_type": "stream",
          "text": [
            "Epoch:6, Train Loss: 2.786e-02: 100%|██████████| 98/98 [01:51<00:00,  1.14s/it]\n",
            "Epoch:6, Val Loss: 2.224e-01: 100%|██████████| 25/25 [00:13<00:00,  1.89it/s]\n"
          ]
        },
        {
          "metadata": {
            "tags": null
          },
          "name": "stdout",
          "output_type": "stream",
          "text": [
            "\n",
            " ------------------------------------------------------------\n"
          ]
        },
        {
          "metadata": {
            "tags": null
          },
          "name": "stderr",
          "output_type": "stream",
          "text": [
            "Epoch:7, Train Loss: 1.956e-02: 100%|██████████| 98/98 [01:51<00:00,  1.14s/it]\n",
            "Epoch:7, Val Loss: 2.353e-01: 100%|██████████| 25/25 [00:13<00:00,  1.87it/s]\n"
          ]
        },
        {
          "metadata": {
            "tags": null
          },
          "name": "stdout",
          "output_type": "stream",
          "text": [
            "\n",
            " ------------------------------------------------------------\n"
          ]
        },
        {
          "metadata": {
            "tags": null
          },
          "name": "stderr",
          "output_type": "stream",
          "text": [
            "Epoch:8, Train Loss: 1.494e-02: 100%|██████████| 98/98 [01:50<00:00,  1.13s/it]\n",
            "Epoch:8, Val Loss: 2.075e-01: 100%|██████████| 25/25 [00:12<00:00,  1.92it/s]\n"
          ]
        },
        {
          "metadata": {
            "tags": null
          },
          "name": "stdout",
          "output_type": "stream",
          "text": [
            "\n",
            " ------------------------------------------------------------\n"
          ]
        },
        {
          "metadata": {
            "tags": null
          },
          "name": "stderr",
          "output_type": "stream",
          "text": [
            "Epoch:9, Train Loss: 9.957e-03: 100%|██████████| 98/98 [01:50<00:00,  1.12s/it]\n",
            "Epoch:9, Val Loss: 1.868e-01: 100%|██████████| 25/25 [00:13<00:00,  1.92it/s]\n"
          ]
        },
        {
          "metadata": {
            "tags": null
          },
          "name": "stdout",
          "output_type": "stream",
          "text": [
            "\n",
            " ------------------------------------------------------------\n"
          ]
        },
        {
          "metadata": {
            "tags": null
          },
          "name": "stderr",
          "output_type": "stream",
          "text": [
            "Epoch:10, Train Loss: 1.397e-02: 100%|██████████| 98/98 [01:50<00:00,  1.13s/it]\n",
            "Epoch:10, Val Loss: 1.872e-01: 100%|██████████| 25/25 [00:13<00:00,  1.91it/s]\n"
          ]
        },
        {
          "metadata": {
            "tags": null
          },
          "name": "stdout",
          "output_type": "stream",
          "text": [
            "\n",
            " ------------------------------------------------------------\n"
          ]
        },
        {
          "metadata": {
            "tags": null
          },
          "name": "stderr",
          "output_type": "stream",
          "text": [
            "Epoch:11, Train Loss: 6.756e-03: 100%|██████████| 98/98 [01:50<00:00,  1.13s/it]\n",
            "Epoch:11, Val Loss: 4.085e-01: 100%|██████████| 25/25 [00:13<00:00,  1.91it/s]\n"
          ]
        },
        {
          "metadata": {
            "tags": null
          },
          "name": "stdout",
          "output_type": "stream",
          "text": [
            "\n",
            " ------------------------------------------------------------\n"
          ]
        },
        {
          "metadata": {
            "tags": null
          },
          "name": "stderr",
          "output_type": "stream",
          "text": [
            "Epoch:12, Train Loss: 3.977e-02: 100%|██████████| 98/98 [01:50<00:00,  1.13s/it]\n",
            "Epoch:12, Val Loss: 3.228e-01: 100%|██████████| 25/25 [00:13<00:00,  1.89it/s]\n"
          ]
        },
        {
          "metadata": {
            "tags": null
          },
          "name": "stdout",
          "output_type": "stream",
          "text": [
            "\n",
            " ------------------------------------------------------------\n"
          ]
        },
        {
          "metadata": {
            "tags": null
          },
          "name": "stderr",
          "output_type": "stream",
          "text": [
            "Epoch:13, Train Loss: 9.051e-03: 100%|██████████| 98/98 [01:50<00:00,  1.13s/it]\n",
            "Epoch:13, Val Loss: 1.145e-01: 100%|██████████| 25/25 [00:13<00:00,  1.90it/s]\n"
          ]
        },
        {
          "metadata": {
            "tags": null
          },
          "name": "stdout",
          "output_type": "stream",
          "text": [
            "\n",
            " ------------------------------------------------------------\n"
          ]
        },
        {
          "metadata": {
            "tags": null
          },
          "name": "stderr",
          "output_type": "stream",
          "text": [
            "Epoch:14, Train Loss: 8.849e-03: 100%|██████████| 98/98 [01:50<00:00,  1.13s/it]\n",
            "Epoch:14, Val Loss: 2.801e-01: 100%|██████████| 25/25 [00:13<00:00,  1.91it/s]\n"
          ]
        },
        {
          "metadata": {
            "tags": null
          },
          "name": "stdout",
          "output_type": "stream",
          "text": [
            "\n",
            " ------------------------------------------------------------\n"
          ]
        },
        {
          "data": {
            "image/png": "[encoded data removed]",
            "text/plain": [
              "<Figure size 432x288 with 1 Axes>"
            ]
          },
          "metadata": {},
          "output_type": "display_data"
        },
        {
          "metadata": {
            "tags": null
          },
          "name": "stderr",
          "output_type": "stream",
          "text": [
            "Epoch:0, Val Loss: 1.145e-01: 100%|██████████| 25/25 [00:13<00:00,  1.90it/s]\n"
          ]
        },
        {
          "metadata": {
            "tags": null
          },
          "name": "stdout",
          "output_type": "stream",
          "text": [
            "{'loss': 0.11445968591898584, 'accuracy': 0.9781350482315112, 'precision': 0.9803453393818837, 'recall': 0.9708924384866618, 'f1': 0.9752904167748868}\n",
            "0.2013743757886345 0.0022886438037852267\n"
          ]
        },
        {
          "metadata": {
            "tags": null
          },
          "name": "stderr",
          "output_type": "stream",
          "text": [
            "Epoch:0, Train Loss: 2.427e-01: 100%|██████████| 98/98 [01:50<00:00,  1.13s/it]\n",
            "Epoch:0, Val Loss: 3.274e-01: 100%|██████████| 25/25 [00:13<00:00,  1.90it/s]\n"
          ]
        },
        {
          "metadata": {
            "tags": null
          },
          "name": "stdout",
          "output_type": "stream",
          "text": [
            "\n",
            " ------------------------------------------------------------\n"
          ]
        },
        {
          "metadata": {
            "tags": null
          },
          "name": "stderr",
          "output_type": "stream",
          "text": [
            "Epoch:1, Train Loss: 1.343e-01: 100%|██████████| 98/98 [01:50<00:00,  1.12s/it]\n",
            "Epoch:1, Val Loss: 2.103e-01: 100%|██████████| 25/25 [00:13<00:00,  1.91it/s]\n"
          ]
        },
        {
          "metadata": {
            "tags": null
          },
          "name": "stdout",
          "output_type": "stream",
          "text": [
            "\n",
            " ------------------------------------------------------------\n"
          ]
        },
        {
          "metadata": {
            "tags": null
          },
          "name": "stderr",
          "output_type": "stream",
          "text": [
            "Epoch:2, Train Loss: 9.285e-02: 100%|██████████| 98/98 [01:50<00:00,  1.12s/it]\n",
            "Epoch:2, Val Loss: 5.106e-01: 100%|██████████| 25/25 [00:13<00:00,  1.89it/s]\n"
          ]
        },
        {
          "metadata": {
            "tags": null
          },
          "name": "stdout",
          "output_type": "stream",
          "text": [
            "\n",
            " ------------------------------------------------------------\n"
          ]
        },
        {
          "output_type": "stream",
          "name": "stderr",
          "text": [
            "Epoch:3, Train Loss: 1.083e-01: 100%|██████████| 98/98 [01:50<00:00,  1.12s/it]\n",
            "Epoch:3, Val Loss: 3.650e-01: 100%|██████████| 25/25 [00:13<00:00,  1.89it/s]\n"
          ]
        },
        {
          "output_type": "stream",
          "name": "stdout",
          "text": [
            "\n",
            " ------------------------------------------------------------\n"
          ]
        },
        {
          "output_type": "stream",
          "name": "stderr",
          "text": [
            "Epoch:4, Train Loss: 8.207e-02: 100%|██████████| 98/98 [01:50<00:00,  1.12s/it]\n",
            "Epoch:4, Val Loss: 2.204e-01: 100%|██████████| 25/25 [00:13<00:00,  1.92it/s]\n"
          ]
        },
        {
          "output_type": "stream",
          "name": "stdout",
          "text": [
            "\n",
            " ------------------------------------------------------------\n"
          ]
        },
        {
          "output_type": "stream",
          "name": "stderr",
          "text": [
            "Epoch:5, Train Loss: 6.644e-02: 100%|██████████| 98/98 [01:50<00:00,  1.13s/it]\n",
            "Epoch:5, Val Loss: 3.744e-01: 100%|██████████| 25/25 [00:13<00:00,  1.92it/s]\n"
          ]
        },
        {
          "output_type": "stream",
          "name": "stdout",
          "text": [
            "\n",
            " ------------------------------------------------------------\n"
          ]
        },
        {
          "output_type": "stream",
          "name": "stderr",
          "text": [
            "Epoch:6, Train Loss: 5.607e-02: 100%|██████████| 98/98 [01:50<00:00,  1.12s/it]\n",
            "Epoch:6, Val Loss: 8.549e-01: 100%|██████████| 25/25 [00:13<00:00,  1.92it/s]\n"
          ]
        },
        {
          "output_type": "stream",
          "name": "stdout",
          "text": [
            "\n",
            " ------------------------------------------------------------\n"
          ]
        },
        {
          "output_type": "stream",
          "name": "stderr",
          "text": [
            "Epoch:7, Train Loss: 5.333e-02: 100%|██████████| 98/98 [01:49<00:00,  1.12s/it]\n",
            "Epoch:7, Val Loss: 3.863e-01: 100%|██████████| 25/25 [00:13<00:00,  1.91it/s]\n"
          ]
        },
        {
          "output_type": "stream",
          "name": "stdout",
          "text": [
            "\n",
            " ------------------------------------------------------------\n"
          ]
        },
        {
          "output_type": "stream",
          "name": "stderr",
          "text": [
            "Epoch:8, Train Loss: 4.230e-02: 100%|██████████| 98/98 [01:49<00:00,  1.11s/it]\n",
            "Epoch:8, Val Loss: 2.293e-01: 100%|██████████| 25/25 [00:12<00:00,  1.93it/s]\n"
          ]
        },
        {
          "output_type": "stream",
          "name": "stdout",
          "text": [
            "\n",
            " ------------------------------------------------------------\n"
          ]
        },
        {
          "output_type": "stream",
          "name": "stderr",
          "text": [
            "Epoch:9, Train Loss: 4.012e-02: 100%|██████████| 98/98 [01:49<00:00,  1.11s/it]\n",
            "Epoch:9, Val Loss: 2.126e-01: 100%|██████████| 25/25 [00:13<00:00,  1.91it/s]\n"
          ]
        },
        {
          "output_type": "stream",
          "name": "stdout",
          "text": [
            "\n",
            " ------------------------------------------------------------\n"
          ]
        },
        {
          "output_type": "stream",
          "name": "stderr",
          "text": [
            "Epoch:10, Train Loss: 7.889e-02: 100%|██████████| 98/98 [01:49<00:00,  1.11s/it]\n",
            "Epoch:10, Val Loss: 1.320e-01: 100%|██████████| 25/25 [00:12<00:00,  1.93it/s]\n"
          ]
        },
        {
          "output_type": "stream",
          "name": "stdout",
          "text": [
            "\n",
            " ------------------------------------------------------------\n"
          ]
        },
        {
          "output_type": "stream",
          "name": "stderr",
          "text": [
            "Epoch:11, Train Loss: 3.893e-02: 100%|██████████| 98/98 [01:48<00:00,  1.11s/it]\n",
            "Epoch:11, Val Loss: 4.993e-01: 100%|██████████| 25/25 [00:12<00:00,  1.92it/s]\n"
          ]
        },
        {
          "output_type": "stream",
          "name": "stdout",
          "text": [
            "\n",
            " ------------------------------------------------------------\n"
          ]
        },
        {
          "output_type": "stream",
          "name": "stderr",
          "text": [
            "Epoch:12, Train Loss: 5.533e-02: 100%|██████████| 98/98 [01:48<00:00,  1.11s/it]\n",
            "Epoch:12, Val Loss: 1.459e-01: 100%|██████████| 25/25 [00:12<00:00,  1.92it/s]\n"
          ]
        },
        {
          "output_type": "stream",
          "name": "stdout",
          "text": [
            "\n",
            " ------------------------------------------------------------\n"
          ]
        },
        {
          "output_type": "stream",
          "name": "stderr",
          "text": [
            "Epoch:13, Train Loss: 3.933e-02: 100%|██████████| 98/98 [01:48<00:00,  1.11s/it]\n",
            "Epoch:13, Val Loss: 3.496e-01: 100%|██████████| 25/25 [00:12<00:00,  1.93it/s]\n"
          ]
        },
        {
          "output_type": "stream",
          "name": "stdout",
          "text": [
            "\n",
            " ------------------------------------------------------------\n"
          ]
        },
        {
          "output_type": "stream",
          "name": "stderr",
          "text": [
            "Epoch:14, Train Loss: 6.269e-02: 100%|██████████| 98/98 [01:48<00:00,  1.11s/it]\n",
            "Epoch:14, Val Loss: 2.170e-01: 100%|██████████| 25/25 [00:12<00:00,  1.94it/s]\n"
          ]
        },
        {
          "output_type": "stream",
          "name": "stdout",
          "text": [
            "\n",
            " ------------------------------------------------------------\n"
          ]
        },
        {
          "output_type": "display_data",
          "data": {
            "text/plain": [
              "<Figure size 432x288 with 1 Axes>"
            ],
            "image/png": "[encoded data removed]"
          },
          "metadata": {
            "needs_background": "light"
          }
        },
        {
          "output_type": "stream",
          "name": "stderr",
          "text": [
            "Epoch:0, Val Loss: 1.320e-01: 100%|██████████| 25/25 [00:12<00:00,  1.93it/s]"
          ]
        },
        {
          "output_type": "stream",
          "name": "stdout",
          "text": [
            "{'loss': 0.13200836610947392, 'accuracy': 0.962700964630225, 'precision': 0.9509917105684442, 'recall': 0.9689763597829818, 'f1': 0.9590463357552664}\n"
          ]
        },
        {
          "output_type": "stream",
          "name": "stderr",
          "text": [
            "\n"
          ]
        }
      ],
      "source": [
        "num_epochs = 15\n",
        "\n",
        "for i in range(5):\n",
        "    lr = 10 ** -np.random.uniform(2.5, 4.5)\n",
        "    drop_rate = np.random.uniform(0, 0.6)\n",
        "    print(drop_rate, lr)\n",
        "\n",
        "    train_losses.clear()\n",
        "    val_losses.clear()\n",
        "\n",
        "    model = DenseNet121(3, drop_rate=drop_rate).to(device)\n",
        "    optimizer = torch.optim.Adam(filter(lambda p: p.requires_grad, model.parameters()), lr=lr)\n",
        "    model, val_loss_min = train_model(model, criterion, [train_loader, val_loader], optimizer, num_epochs, 'covid-classification');\n",
        "    val_results = validate(model, val_loader, criterion, metrics=metrics)\n",
        "    val_results.pop('confusion_matrix')\n",
        "    print(val_results)\n",
        "    if val_loss_min < best_val_loss:\n",
        "        best_model = model\n",
        "        best_params = drop_rate, lr\n",
        "        best_val_loss = val_loss_min"
      ]
    },
    {
      "cell_type": "code",
      "source": [
        "best_val_loss, best_params"
      ],
      "metadata": {
        "id": "nU89bKJrRhvg",
        "colab": {
          "base_uri": "https://localhost:8080/"
        },
        "outputId": "a9666f4c-f098-4518-c776-413e004f16a8"
      },
      "execution_count": null,
      "outputs": [
        {
          "output_type": "execute_result",
          "data": {
            "text/plain": [
              "(0.0905579933788855, (0.22171511919885897, 0.000494237378588579))"
            ]
          },
          "metadata": {},
          "execution_count": 41
        }
      ]
    },
    {
      "cell_type": "code",
      "source": [
        "drop_rate, lr = 0.22171511919885897, 0.000494237378588579"
      ],
      "metadata": {
        "id": "gCjE2rKNHXV7"
      },
      "execution_count": 42,
      "outputs": []
    },
    {
      "cell_type": "markdown",
      "source": [
        "Training longer with `best_params`:"
      ],
      "metadata": {
        "id": "cCWzWaOu2BSz"
      }
    },
    {
      "cell_type": "code",
      "source": [
        "best_model = DenseNet121(3, drop_rate=drop_rate).to(device)\n",
        "optimizer = torch.optim.Adam(filter(lambda p: p.requires_grad, model.parameters()), lr=lr)\n",
        "best_model, val_loss_min = train_model(model, criterion, [train_loader, val_loader], optimizer, 25, 'covid-classification');\n",
        "val_results = validate(model, val_loader, criterion, metrics=metrics)\n",
        "val_results.pop('confusion_matrix')\n",
        "print(val_results)"
      ],
      "metadata": {
        "colab": {
          "base_uri": "https://localhost:8080/",
          "height": 1000
        },
        "id": "EXXhkgwPwZNx",
        "outputId": "f5bdd1d3-3ec0-41b5-ad0e-b2a76f008054"
      },
      "execution_count": 43,
      "outputs": [
        {
          "metadata": {
            "tags": null
          },
          "name": "stderr",
          "output_type": "stream",
          "text": [
            "Epoch:0, Train Loss: 2.516e-01: 100%|██████████| 98/98 [01:51<00:00,  1.14s/it]\n",
            "Epoch:0, Val Loss: 4.571e-01: 100%|██████████| 25/25 [00:13<00:00,  1.86it/s]\n"
          ]
        },
        {
          "metadata": {
            "tags": null
          },
          "name": "stdout",
          "output_type": "stream",
          "text": [
            "\n",
            " ------------------------------------------------------------\n"
          ]
        },
        {
          "metadata": {
            "tags": null
          },
          "name": "stderr",
          "output_type": "stream",
          "text": [
            "Epoch:1, Train Loss: 7.507e-02: 100%|██████████| 98/98 [01:52<00:00,  1.15s/it]\n",
            "Epoch:1, Val Loss: 3.215e-01: 100%|██████████| 25/25 [00:13<00:00,  1.87it/s]\n"
          ]
        },
        {
          "metadata": {
            "tags": null
          },
          "name": "stdout",
          "output_type": "stream",
          "text": [
            "\n",
            " ------------------------------------------------------------\n"
          ]
        },
        {
          "metadata": {
            "tags": null
          },
          "name": "stderr",
          "output_type": "stream",
          "text": [
            "Epoch:2, Train Loss: 5.410e-02: 100%|██████████| 98/98 [01:52<00:00,  1.15s/it]\n",
            "Epoch:2, Val Loss: 1.132e-01: 100%|██████████| 25/25 [00:13<00:00,  1.87it/s]\n"
          ]
        },
        {
          "metadata": {
            "tags": null
          },
          "name": "stdout",
          "output_type": "stream",
          "text": [
            "\n",
            " ------------------------------------------------------------\n"
          ]
        },
        {
          "metadata": {
            "tags": null
          },
          "name": "stderr",
          "output_type": "stream",
          "text": [
            "Epoch:3, Train Loss: 3.577e-02: 100%|██████████| 98/98 [01:52<00:00,  1.15s/it]\n",
            "Epoch:3, Val Loss: 8.080e-02: 100%|██████████| 25/25 [00:13<00:00,  1.86it/s]\n"
          ]
        },
        {
          "metadata": {
            "tags": null
          },
          "name": "stdout",
          "output_type": "stream",
          "text": [
            "\n",
            " ------------------------------------------------------------\n"
          ]
        },
        {
          "metadata": {
            "tags": null
          },
          "name": "stderr",
          "output_type": "stream",
          "text": [
            "Epoch:4, Train Loss: 2.931e-02: 100%|██████████| 98/98 [01:52<00:00,  1.15s/it]\n",
            "Epoch:4, Val Loss: 1.290e-01: 100%|██████████| 25/25 [00:13<00:00,  1.86it/s]\n"
          ]
        },
        {
          "metadata": {
            "tags": null
          },
          "name": "stdout",
          "output_type": "stream",
          "text": [
            "\n",
            " ------------------------------------------------------------\n"
          ]
        },
        {
          "metadata": {
            "tags": null
          },
          "name": "stderr",
          "output_type": "stream",
          "text": [
            "Epoch:5, Train Loss: 1.701e-02: 100%|██████████| 98/98 [01:52<00:00,  1.15s/it]\n",
            "Epoch:5, Val Loss: 8.753e-02: 100%|██████████| 25/25 [00:13<00:00,  1.86it/s]\n"
          ]
        },
        {
          "metadata": {
            "tags": null
          },
          "name": "stdout",
          "output_type": "stream",
          "text": [
            "\n",
            " ------------------------------------------------------------\n"
          ]
        },
        {
          "metadata": {
            "tags": null
          },
          "name": "stderr",
          "output_type": "stream",
          "text": [
            "Epoch:6, Train Loss: 2.180e-02: 100%|██████████| 98/98 [01:52<00:00,  1.15s/it]\n",
            "Epoch:6, Val Loss: 8.200e-02: 100%|██████████| 25/25 [00:13<00:00,  1.87it/s]\n"
          ]
        },
        {
          "metadata": {
            "tags": null
          },
          "name": "stdout",
          "output_type": "stream",
          "text": [
            "\n",
            " ------------------------------------------------------------\n"
          ]
        },
        {
          "metadata": {
            "tags": null
          },
          "name": "stderr",
          "output_type": "stream",
          "text": [
            "Epoch:7, Train Loss: 2.524e-02: 100%|██████████| 98/98 [01:52<00:00,  1.15s/it]\n",
            "Epoch:7, Val Loss: 5.551e-02: 100%|██████████| 25/25 [00:13<00:00,  1.88it/s]\n"
          ]
        },
        {
          "metadata": {
            "tags": null
          },
          "name": "stdout",
          "output_type": "stream",
          "text": [
            "\n",
            " ------------------------------------------------------------\n"
          ]
        },
        {
          "metadata": {
            "tags": null
          },
          "name": "stderr",
          "output_type": "stream",
          "text": [
            "Epoch:8, Train Loss: 1.755e-02: 100%|██████████| 98/98 [01:52<00:00,  1.15s/it]\n",
            "Epoch:8, Val Loss: 8.971e-02: 100%|██████████| 25/25 [00:13<00:00,  1.86it/s]\n"
          ]
        },
        {
          "metadata": {
            "tags": null
          },
          "name": "stdout",
          "output_type": "stream",
          "text": [
            "\n",
            " ------------------------------------------------------------\n"
          ]
        },
        {
          "metadata": {
            "tags": null
          },
          "name": "stderr",
          "output_type": "stream",
          "text": [
            "Epoch:9, Train Loss: 1.554e-02: 100%|██████████| 98/98 [01:52<00:00,  1.15s/it]\n",
            "Epoch:9, Val Loss: 9.430e-02: 100%|██████████| 25/25 [00:13<00:00,  1.88it/s]\n"
          ]
        },
        {
          "metadata": {
            "tags": null
          },
          "name": "stdout",
          "output_type": "stream",
          "text": [
            "\n",
            " ------------------------------------------------------------\n"
          ]
        },
        {
          "metadata": {
            "tags": null
          },
          "name": "stderr",
          "output_type": "stream",
          "text": [
            "Epoch:10, Train Loss: 8.366e-03: 100%|██████████| 98/98 [01:52<00:00,  1.15s/it]\n",
            "Epoch:10, Val Loss: 1.618e-01: 100%|██████████| 25/25 [00:13<00:00,  1.87it/s]\n"
          ]
        },
        {
          "metadata": {
            "tags": null
          },
          "name": "stdout",
          "output_type": "stream",
          "text": [
            "\n",
            " ------------------------------------------------------------\n"
          ]
        },
        {
          "metadata": {
            "tags": null
          },
          "name": "stderr",
          "output_type": "stream",
          "text": [
            "Epoch:11, Train Loss: 4.658e-02: 100%|██████████| 98/98 [01:52<00:00,  1.15s/it]\n",
            "Epoch:11, Val Loss: 1.744e-01: 100%|██████████| 25/25 [00:13<00:00,  1.89it/s]\n"
          ]
        },
        {
          "metadata": {
            "tags": null
          },
          "name": "stdout",
          "output_type": "stream",
          "text": [
            "\n",
            " ------------------------------------------------------------\n"
          ]
        },
        {
          "metadata": {
            "tags": null
          },
          "name": "stderr",
          "output_type": "stream",
          "text": [
            "Epoch:12, Train Loss: 1.819e-02: 100%|██████████| 98/98 [01:52<00:00,  1.14s/it]\n",
            "Epoch:12, Val Loss: 9.164e-02: 100%|██████████| 25/25 [00:13<00:00,  1.88it/s]\n"
          ]
        },
        {
          "metadata": {
            "tags": null
          },
          "name": "stdout",
          "output_type": "stream",
          "text": [
            "\n",
            " ------------------------------------------------------------\n"
          ]
        },
        {
          "metadata": {
            "tags": null
          },
          "name": "stderr",
          "output_type": "stream",
          "text": [
            "Epoch:13, Train Loss: 5.514e-03: 100%|██████████| 98/98 [01:52<00:00,  1.15s/it]\n",
            "Epoch:13, Val Loss: 6.354e-02: 100%|██████████| 25/25 [00:13<00:00,  1.87it/s]\n"
          ]
        },
        {
          "metadata": {
            "tags": null
          },
          "name": "stdout",
          "output_type": "stream",
          "text": [
            "\n",
            " ------------------------------------------------------------\n"
          ]
        },
        {
          "metadata": {
            "tags": null
          },
          "name": "stderr",
          "output_type": "stream",
          "text": [
            "Epoch:14, Train Loss: 1.466e-02: 100%|██████████| 98/98 [01:52<00:00,  1.15s/it]\n",
            "Epoch:14, Val Loss: 1.452e-01: 100%|██████████| 25/25 [00:13<00:00,  1.87it/s]\n"
          ]
        },
        {
          "metadata": {
            "tags": null
          },
          "name": "stdout",
          "output_type": "stream",
          "text": [
            "\n",
            " ------------------------------------------------------------\n"
          ]
        },
        {
          "metadata": {
            "tags": null
          },
          "name": "stderr",
          "output_type": "stream",
          "text": [
            "Epoch:15, Train Loss: 1.175e-02: 100%|██████████| 98/98 [01:52<00:00,  1.15s/it]\n",
            "Epoch:15, Val Loss: 9.772e-02: 100%|██████████| 25/25 [00:13<00:00,  1.85it/s]\n"
          ]
        },
        {
          "metadata": {
            "tags": null
          },
          "name": "stdout",
          "output_type": "stream",
          "text": [
            "\n",
            " ------------------------------------------------------------\n"
          ]
        },
        {
          "metadata": {
            "tags": null
          },
          "name": "stderr",
          "output_type": "stream",
          "text": [
            "Epoch:16, Train Loss: 6.126e-03: 100%|██████████| 98/98 [01:52<00:00,  1.15s/it]\n",
            "Epoch:16, Val Loss: 5.846e-02: 100%|██████████| 25/25 [00:13<00:00,  1.84it/s]\n"
          ]
        },
        {
          "metadata": {
            "tags": null
          },
          "name": "stdout",
          "output_type": "stream",
          "text": [
            "\n",
            " ------------------------------------------------------------\n"
          ]
        },
        {
          "metadata": {
            "tags": null
          },
          "name": "stderr",
          "output_type": "stream",
          "text": [
            "Epoch:17, Train Loss: 2.264e-03: 100%|██████████| 98/98 [01:53<00:00,  1.15s/it]\n",
            "Epoch:17, Val Loss: 5.563e-02: 100%|██████████| 25/25 [00:13<00:00,  1.85it/s]\n"
          ]
        },
        {
          "metadata": {
            "tags": null
          },
          "name": "stdout",
          "output_type": "stream",
          "text": [
            "\n",
            " ------------------------------------------------------------\n"
          ]
        },
        {
          "metadata": {
            "tags": null
          },
          "name": "stderr",
          "output_type": "stream",
          "text": [
            "Epoch:18, Train Loss: 2.923e-03: 100%|██████████| 98/98 [01:52<00:00,  1.15s/it]\n",
            "Epoch:18, Val Loss: 5.910e-02: 100%|██████████| 25/25 [00:13<00:00,  1.85it/s]\n"
          ]
        },
        {
          "metadata": {
            "tags": null
          },
          "name": "stdout",
          "output_type": "stream",
          "text": [
            "\n",
            " ------------------------------------------------------------\n"
          ]
        },
        {
          "metadata": {
            "tags": null
          },
          "name": "stderr",
          "output_type": "stream",
          "text": [
            "Epoch:19, Train Loss: 5.318e-02: 100%|██████████| 98/98 [01:53<00:00,  1.15s/it]\n",
            "Epoch:19, Val Loss: 7.978e-02: 100%|██████████| 25/25 [00:13<00:00,  1.84it/s]\n"
          ]
        },
        {
          "metadata": {
            "tags": null
          },
          "name": "stdout",
          "output_type": "stream",
          "text": [
            "\n",
            " ------------------------------------------------------------\n"
          ]
        },
        {
          "metadata": {
            "tags": null
          },
          "name": "stderr",
          "output_type": "stream",
          "text": [
            "Epoch:20, Train Loss: 1.142e-02: 100%|██████████| 98/98 [01:53<00:00,  1.15s/it]\n",
            "Epoch:20, Val Loss: 5.952e-02: 100%|██████████| 25/25 [00:13<00:00,  1.85it/s]\n"
          ]
        },
        {
          "metadata": {
            "tags": null
          },
          "name": "stdout",
          "output_type": "stream",
          "text": [
            "\n",
            " ------------------------------------------------------------\n"
          ]
        },
        {
          "metadata": {
            "tags": null
          },
          "name": "stderr",
          "output_type": "stream",
          "text": [
            "Epoch:21, Train Loss: 1.982e-02: 100%|██████████| 98/98 [01:53<00:00,  1.15s/it]\n",
            "Epoch:21, Val Loss: 2.052e-01: 100%|██████████| 25/25 [00:13<00:00,  1.86it/s]\n"
          ]
        },
        {
          "metadata": {
            "tags": null
          },
          "name": "stdout",
          "output_type": "stream",
          "text": [
            "\n",
            " ------------------------------------------------------------\n"
          ]
        },
        {
          "metadata": {
            "tags": null
          },
          "name": "stderr",
          "output_type": "stream",
          "text": [
            "Epoch:22, Train Loss: 2.720e-02: 100%|██████████| 98/98 [01:52<00:00,  1.15s/it]\n",
            "Epoch:22, Val Loss: 7.119e-02: 100%|██████████| 25/25 [00:13<00:00,  1.86it/s]\n"
          ]
        },
        {
          "metadata": {
            "tags": null
          },
          "name": "stdout",
          "output_type": "stream",
          "text": [
            "\n",
            " ------------------------------------------------------------\n"
          ]
        },
        {
          "output_type": "stream",
          "name": "stderr",
          "text": [
            "Epoch:23, Train Loss: 1.288e-02: 100%|██████████| 98/98 [01:52<00:00,  1.15s/it]\n",
            "Epoch:23, Val Loss: 8.389e-02: 100%|██████████| 25/25 [00:13<00:00,  1.84it/s]\n"
          ]
        },
        {
          "output_type": "stream",
          "name": "stdout",
          "text": [
            "\n",
            " ------------------------------------------------------------\n"
          ]
        },
        {
          "output_type": "stream",
          "name": "stderr",
          "text": [
            "Epoch:24, Train Loss: 3.866e-03: 100%|██████████| 98/98 [01:52<00:00,  1.15s/it]\n",
            "Epoch:24, Val Loss: 8.830e-02: 100%|██████████| 25/25 [00:13<00:00,  1.85it/s]\n"
          ]
        },
        {
          "output_type": "stream",
          "name": "stdout",
          "text": [
            "\n",
            " ------------------------------------------------------------\n"
          ]
        },
        {
          "output_type": "display_data",
          "data": {
            "text/plain": [
              "<Figure size 432x288 with 1 Axes>"
            ],
            "image/png": "[encoded data removed]"
          },
          "metadata": {
            "needs_background": "light"
          }
        },
        {
          "output_type": "stream",
          "name": "stderr",
          "text": [
            "Epoch:0, Val Loss: 5.551e-02: 100%|██████████| 25/25 [00:13<00:00,  1.85it/s]"
          ]
        },
        {
          "output_type": "stream",
          "name": "stdout",
          "text": [
            "{'loss': 0.05551098557338837, 'accuracy': 0.9819935691318328, 'precision': 0.980232918085341, 'recall': 0.9829715916366145, 'f1': 0.9815085698542282}\n"
          ]
        },
        {
          "output_type": "stream",
          "name": "stderr",
          "text": [
            "\n"
          ]
        }
      ]
    },
    {
      "cell_type": "code",
      "source": [
        "test_results = validate(best_model, test_loader, criterion, metrics=metrics)\n",
        "disp = ConfusionMatrixDisplay(test_results.pop('confusion_matrix'), display_labels=dataset.label_names)\n",
        "disp.plot()\n",
        "test_results"
      ],
      "metadata": {
        "colab": {
          "base_uri": "https://localhost:8080/",
          "height": 383
        },
        "id": "7QuQo3sEC5fN",
        "outputId": "7263a051-21b9-49da-c686-d628e10f1b15"
      },
      "execution_count": 46,
      "outputs": [
        {
          "output_type": "stream",
          "name": "stderr",
          "text": [
            "Epoch:0, Val Loss: 7.203e-02: 100%|██████████| 31/31 [00:18<00:00,  1.69it/s]\n"
          ]
        },
        {
          "output_type": "execute_result",
          "data": {
            "text/plain": [
              "{'loss': 0.07203216559671387,\n",
              " 'accuracy': 0.9783950617283951,\n",
              " 'precision': 0.9747457436313294,\n",
              " 'recall': 0.9801659314719046,\n",
              " 'f1': 0.9773046889880743}"
            ]
          },
          "metadata": {},
          "execution_count": 46
        },
        {
          "output_type": "display_data",
          "data": {
            "text/plain": [
              "<Figure size 432x288 with 2 Axes>"
            ],
            "image/png": "[encoded data removed]"
          },
          "metadata": {
            "needs_background": "light"
          }
        }
      ]
    },
    {
      "cell_type": "markdown",
      "metadata": {
        "collapsed": false,
        "id": "KLHCZL6D5bNr",
        "pycharm": {
          "name": "#%% md\n"
        }
      },
      "source": [
        "## Training model:"
      ]
    },
    {
      "cell_type": "code",
      "execution_count": null,
      "metadata": {
        "id": "gEfHhJrC7duW",
        "pycharm": {
          "name": "#%%\n"
        }
      },
      "outputs": [],
      "source": [
        "# reinitialize model and losses\n",
        "train_losses.clear()\n",
        "val_losses.clear()\n",
        "model = DenseNet121(3, ).to(device)"
      ]
    },
    {
      "cell_type": "code",
      "execution_count": null,
      "metadata": {
        "id": "Nb2jEF6k9Nf0",
        "pycharm": {
          "name": "#%%\n"
        }
      },
      "outputs": [],
      "source": [
        "# # freeze first layers:\n",
        "# model = model.to(device)\n",
        "# for param in model.parameters():\n",
        "#     param.requires_grad = False\n",
        "# for param in model.densenet121.classifier.parameters():\n",
        "#     param.requires_grad = True"
      ]
    },
    {
      "cell_type": "code",
      "execution_count": null,
      "metadata": {
        "id": "EWm5IqxdBp8H",
        "pycharm": {
          "name": "#%%\n"
        },
        "colab": {
          "base_uri": "https://localhost:8080/"
        },
        "outputId": "a72c4362-3187-43b8-f805-c69758bdb362"
      },
      "outputs": [
        {
          "output_type": "stream",
          "name": "stdout",
          "text": [
            "Adjusting learning rate of group 0 to 1.0000e-03.\n"
          ]
        }
      ],
      "source": [
        "lr = 1e-3\n",
        "optimizer = torch.optim.Adam(filter(lambda p: p.requires_grad, model.parameters()), lr=lr)\n",
        "# scheduler = torch.optim.lr_scheduler.ReduceLROnPlateau(optimizer, mode='min', factor=0.2, patience=4, verbose=True)\n",
        "scheduler = torch.optim.lr_scheduler.StepLR(optimizer, 10, gamma=0.2, verbose=True)"
      ]
    },
    {
      "cell_type": "code",
      "execution_count": null,
      "metadata": {
        "id": "sX25ESEW5bNs",
        "pycharm": {
          "name": "#%%\n"
        }
      },
      "outputs": [],
      "source": [
        "model = train_model(model, criterion, [train_loader, val_loader], optimizer, 30, 'covid-classification', scheduler=scheduler);"
      ]
    },
    {
      "cell_type": "markdown",
      "metadata": {
        "collapsed": false,
        "id": "Q1HfhIPj18fP",
        "pycharm": {
          "name": "#%% md\n"
        }
      },
      "source": [
        "# Evaluation:"
      ]
    },
    {
      "cell_type": "code",
      "execution_count": null,
      "metadata": {
        "id": "vZztlzk4yEn7",
        "pycharm": {
          "name": "#%%\n"
        }
      },
      "outputs": [],
      "source": [
        "test_results = validate(model, test_loader, criterion, metrics=metrics)\n",
        "disp = ConfusionMatrixDisplay(test_results.pop('confusion_matrix'), display_labels=dataset.label_names)\n",
        "disp.plot()\n",
        "test_results"
      ]
    },
    {
      "cell_type": "code",
      "source": [
        "# on training set:\n",
        "train_results = validate(model, train_loader, criterion, metrics=metrics)\n",
        "disp = ConfusionMatrixDisplay(train_results.pop('confusion_matrix'), display_labels=dataset.label_names)\n",
        "disp.plot()\n",
        "train_results"
      ],
      "metadata": {
        "id": "z3XSaq27XGfo",
        "pycharm": {
          "name": "#%%\n"
        }
      },
      "execution_count": null,
      "outputs": []
    },
    {
      "cell_type": "code",
      "source": [
        "# on val set:\n",
        "val_results = validate(model, val_loader, criterion, metrics=metrics)\n",
        "disp = ConfusionMatrixDisplay(val_results.pop('confusion_matrix'), display_labels=dataset.label_names)\n",
        "disp.plot()\n",
        "val_results"
      ],
      "metadata": {
        "id": "XtcOoXRaXSa2",
        "pycharm": {
          "name": "#%%\n"
        }
      },
      "execution_count": null,
      "outputs": []
    },
    {
      "cell_type": "code",
      "execution_count": null,
      "metadata": {
        "id": "AETOkCA08Aag",
        "pycharm": {
          "name": "#%%\n"
        }
      },
      "outputs": [],
      "source": [
        "# from google.colab import files\n",
        "\n",
        "# files.download('covid-classification.pt')"
      ]
    },
    {
      "cell_type": "code",
      "execution_count": null,
      "metadata": {
        "id": "oxTXUgAv-Hag",
        "pycharm": {
          "name": "#%%\n"
        }
      },
      "outputs": [],
      "source": []
    }
  ],
  "metadata": {
    "accelerator": "GPU",
    "colab": {
      "collapsed_sections": [
        "mVnaaG1KooyN",
        "cAOHp7gJmt_p",
        "nZNJtgftmt_y",
        "UDQRTCAA18e5",
        "LWOuPnL35bNi",
        "-KTL9VPA5bNp"
      ],
      "provenance": []
    },
    "gpuClass": "standard",
    "kernelspec": {
      "display_name": "Python 3.9.7 64-bit",
      "language": "python",
      "name": "python3"
    },
    "language_info": {
      "name": "python",
      "version": "3.9.7"
    },
    "vscode": {
      "interpreter": {
        "hash": "11938c6bc6919ae2720b4d5011047913343b08a43b18698fd82dedb0d4417594"
      }
    }
  },
  "nbformat": 4,
  "nbformat_minor": 0
}