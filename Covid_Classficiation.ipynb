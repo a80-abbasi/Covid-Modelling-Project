{
  "cells": [
    {
      "cell_type": "markdown",
      "metadata": {
        "id": "mVnaaG1KooyN",
        "pycharm": {
          "name": "#%% md\n"
        }
      },
      "source": [
        "Loading Dataset:"
      ]
    },
    {
      "cell_type": "code",
      "execution_count": 1,
      "metadata": {
        "colab": {
          "base_uri": "https://localhost:8080/"
        },
        "id": "s3GUv19Mmvzl",
        "outputId": "2f3a38fb-ac71-465a-ea4a-824a18de0302",
        "pycharm": {
          "name": "#%%\n"
        }
      },
      "outputs": [
        {
          "name": "stdout",
          "output_type": "stream",
          "text": [
            "Cloning into 'COVID-19'...\n",
            "remote: Enumerating objects: 1237, done.\u001b[K\n",
            "remote: Counting objects: 100% (81/81), done.\u001b[K\n",
            "remote: Compressing objects: 100% (59/59), done.\u001b[K\n",
            "remote: Total 1237 (delta 27), reused 75 (delta 22), pack-reused 1156\u001b[K\n",
            "Receiving objects: 100% (1237/1237), 400.89 MiB | 41.99 MiB/s, done.\n",
            "Resolving deltas: 100% (29/29), done.\n",
            "Checking out files: 100% (1129/1129), done.\n"
          ]
        }
      ],
      "source": [
        "!git clone \"https://github.com/muhammedtalo/COVID-19.git\""
      ]
    },
    {
      "cell_type": "code",
      "execution_count": 2,
      "metadata": {
        "id": "98hjBuBSnQ6k",
        "pycharm": {
          "name": "#%%\n"
        }
      },
      "outputs": [],
      "source": [
        "!mv \"COVID-19/X-Ray Image DataSet\" \".\""
      ]
    },
    {
      "cell_type": "code",
      "execution_count": 3,
      "metadata": {
        "colab": {
          "base_uri": "https://localhost:8080/"
        },
        "id": "9KMTFnwjn_Ey",
        "outputId": "93cae3de-f1f5-4c67-c682-021dae46f47c",
        "pycharm": {
          "name": "#%%\n"
        }
      },
      "outputs": [
        {
          "name": "stdout",
          "output_type": "stream",
          "text": [
            " COVID-19   sample_data  'X-Ray Image DataSet'\n"
          ]
        }
      ],
      "source": [
        "!ls"
      ]
    },
    {
      "cell_type": "markdown",
      "metadata": {
        "id": "EZ1Nb8G4or2T",
        "pycharm": {
          "name": "#%% md\n"
        }
      },
      "source": [
        "Loading pretrained weights:"
      ]
    },
    {
      "cell_type": "code",
      "execution_count": 4,
      "metadata": {
        "colab": {
          "base_uri": "https://localhost:8080/"
        },
        "id": "m9xk6jc7ou4T",
        "outputId": "26e892ca-d6cd-47b4-a0ce-27c1d870a060",
        "pycharm": {
          "name": "#%%\n"
        }
      },
      "outputs": [
        {
          "name": "stdout",
          "output_type": "stream",
          "text": [
            "Cloning into 'CheXNet'...\n",
            "remote: Enumerating objects: 62, done.\u001b[K\n",
            "remote: Counting objects: 100% (10/10), done.\u001b[K\n",
            "remote: Compressing objects: 100% (5/5), done.\u001b[K\n",
            "remote: Total 62 (delta 6), reused 5 (delta 5), pack-reused 52\u001b[K\n",
            "Unpacking objects: 100% (62/62), done.\n"
          ]
        }
      ],
      "source": [
        "!git clone \"https://github.com/arnoweng/CheXNet.git\""
      ]
    },
    {
      "cell_type": "code",
      "execution_count": 5,
      "metadata": {
        "id": "XsG5zWdto8HT",
        "pycharm": {
          "name": "#%%\n"
        }
      },
      "outputs": [],
      "source": [
        "!mv \"./CheXNet/model.pth.tar\" \".\""
      ]
    },
    {
      "cell_type": "code",
      "execution_count": 6,
      "metadata": {
        "colab": {
          "base_uri": "https://localhost:8080/"
        },
        "id": "q1RLr4oXpKCq",
        "outputId": "af4d79ee-4e6b-42f4-bb0b-444e8bb4bb50",
        "pycharm": {
          "name": "#%%\n"
        }
      },
      "outputs": [
        {
          "name": "stdout",
          "output_type": "stream",
          "text": [
            " CheXNet   COVID-19   model.pth.tar   sample_data  'X-Ray Image DataSet'\n"
          ]
        }
      ],
      "source": [
        "!ls"
      ]
    },
    {
      "cell_type": "code",
      "execution_count": 21,
      "metadata": {
        "id": "Twjv-sqkpOfK",
        "pycharm": {
          "name": "#%%\n"
        }
      },
      "outputs": [],
      "source": [
        "DATASET_ROOT = 'X-Ray Image DataSet'\n",
        "CKPT_PATH = 'model.pth.tar'"
      ]
    },
    {
      "cell_type": "markdown",
      "metadata": {
        "collapsed": false,
        "id": "cAOHp7gJmt_p",
        "pycharm": {
          "name": "#%% md\n"
        }
      },
      "source": [
        "Importing from libraries:"
      ]
    },
    {
      "cell_type": "code",
      "execution_count": 22,
      "metadata": {
        "id": "f_ywkSuL_bfL",
        "pycharm": {
          "name": "#%%\n"
        }
      },
      "outputs": [],
      "source": [
        "import os\n",
        "from pathlib import Path\n",
        "from PIL import Image\n",
        "import matplotlib.pyplot as plt\n",
        "import re\n",
        "\n",
        "import numpy as np\n",
        "import pandas as pd\n",
        "import time\n",
        "\n",
        "import torch\n",
        "from torch import nn\n",
        "from torch.nn import functional as F\n",
        "from torch.utils.data import random_split\n",
        "from torch.utils.data import Dataset, DataLoader\n",
        "import torchvision\n",
        "from torchvision import transforms as T\n",
        "from torchvision.transforms import functional as TF\n",
        "from torchvision.transforms.functional import InterpolationMode\n",
        "from torchvision.datasets import VOCSegmentation\n",
        "from torchvision import models"
      ]
    },
    {
      "cell_type": "markdown",
      "metadata": {
        "collapsed": false,
        "id": "is-fG1Esmt_v",
        "pycharm": {
          "name": "#%% md\n"
        }
      },
      "source": [
        "Imports from my code:"
      ]
    },
    {
      "cell_type": "code",
      "execution_count": 23,
      "metadata": {
        "colab": {
          "base_uri": "https://localhost:8080/"
        },
        "id": "-1wbjDZbmt_v",
        "outputId": "5fa89756-4553-48b1-8380-9cd2fe4babf9",
        "pycharm": {
          "name": "#%%\n"
        }
      },
      "outputs": [
        {
          "name": "stdout",
          "output_type": "stream",
          "text": [
            "The autoreload extension is already loaded. To reload it, use:\n",
            "  %reload_ext autoreload\n"
          ]
        }
      ],
      "source": [
        "%load_ext autoreload\n",
        "%autoreload 2"
      ]
    },
    {
      "cell_type": "markdown",
      "metadata": {
        "collapsed": false,
        "id": "psPtcNwQmt_w",
        "pycharm": {
          "name": "#%% md\n"
        }
      },
      "source": [
        "Setting seed:"
      ]
    },
    {
      "cell_type": "code",
      "execution_count": 24,
      "metadata": {
        "id": "4vsNHPlBBL-3",
        "pycharm": {
          "name": "#%%\n"
        }
      },
      "outputs": [],
      "source": [
        "torch.manual_seed(24)\n",
        "np.random.seed(24)"
      ]
    },
    {
      "cell_type": "code",
      "execution_count": 25,
      "metadata": {
        "id": "5-19Hanbmt_x",
        "pycharm": {
          "name": "#%%\n"
        }
      },
      "outputs": [],
      "source": [
        "device = torch.device(\"cuda\" if torch.cuda.is_available() else \"cpu\")"
      ]
    },
    {
      "cell_type": "markdown",
      "metadata": {
        "collapsed": false,
        "id": "nZNJtgftmt_y",
        "pycharm": {
          "name": "#%% md\n"
        }
      },
      "source": [
        "Class for loading pretrained model:"
      ]
    },
    {
      "cell_type": "code",
      "execution_count": 26,
      "metadata": {
        "id": "SBRzn70jmt_y",
        "pycharm": {
          "name": "#%%\n"
        }
      },
      "outputs": [],
      "source": [
        "class DenseNet121(nn.Module):\n",
        "    def __init__(self, num_classes, weights=True):\n",
        "        super(DenseNet121, self).__init__()\n",
        "        self.densenet121 = torchvision.models.densenet121()\n",
        "        num_features = self.densenet121.classifier.in_features\n",
        "        if weights:\n",
        "            self.densenet121.classifier = nn.Sequential(\n",
        "                nn.Linear(num_features, 14)\n",
        "            )\n",
        "            load_weights(self)\n",
        "        self.densenet121.classifier = nn.Linear(num_features, num_classes)\n",
        "\n",
        "    def forward(self, x):\n",
        "        x = self.densenet121(x)\n",
        "        return x\n",
        "\n",
        "\n",
        "def load_weights(model, device='cpu'):\n",
        "    # Code modified from torchvision densenet source for loading from pre .4 densenet weights.\n",
        "    checkpoint = torch.load(CKPT_PATH, map_location=torch.device(device))\n",
        "    state_dict = checkpoint['state_dict']\n",
        "    remove_data_parallel = True  # Change if you don't want to use nn.DataParallel(model)\n",
        "\n",
        "    pattern = re.compile(\n",
        "        r'^(.*denselayer\\d+\\.(?:norm|relu|conv))\\.((?:[12])\\.(?:weight|bias|running_mean|running_var))$')\n",
        "    for key in list(state_dict.keys()):\n",
        "        match = pattern.match(key)\n",
        "        new_key = match.group(1) + match.group(2) if match else key\n",
        "        new_key = new_key[7:] if remove_data_parallel else new_key\n",
        "        state_dict[new_key] = state_dict[key]\n",
        "        # Delete old key only if modified.\n",
        "        if match or remove_data_parallel:\n",
        "            del state_dict[key]\n",
        "\n",
        "    model.load_state_dict(state_dict)"
      ]
    },
    {
      "cell_type": "markdown",
      "metadata": {
        "collapsed": false,
        "id": "KIQ6CljEmt_z",
        "pycharm": {
          "name": "#%% md\n"
        }
      },
      "source": [
        "Loading pretrained model:"
      ]
    },
    {
      "cell_type": "code",
      "execution_count": 27,
      "metadata": {
        "colab": {
          "base_uri": "https://localhost:8080/"
        },
        "id": "C09CteYFmt_0",
        "outputId": "2d2d1c09-8235-4e1e-a45c-bb53ca9c9688",
        "pycharm": {
          "name": "#%%\n"
        }
      },
      "outputs": [
        {
          "data": {
            "text/plain": [
              "DenseNet121(\n",
              "  (densenet121): DenseNet(\n",
              "    (features): Sequential(\n",
              "      (conv0): Conv2d(3, 64, kernel_size=(7, 7), stride=(2, 2), padding=(3, 3), bias=False)\n",
              "      (norm0): BatchNorm2d(64, eps=1e-05, momentum=0.1, affine=True, track_running_stats=True)\n",
              "      (relu0): ReLU(inplace=True)\n",
              "      (pool0): MaxPool2d(kernel_size=3, stride=2, padding=1, dilation=1, ceil_mode=False)\n",
              "      (denseblock1): _DenseBlock(\n",
              "        (denselayer1): _DenseLayer(\n",
              "          (norm1): BatchNorm2d(64, eps=1e-05, momentum=0.1, affine=True, track_running_stats=True)\n",
              "          (relu1): ReLU(inplace=True)\n",
              "          (conv1): Conv2d(64, 128, kernel_size=(1, 1), stride=(1, 1), bias=False)\n",
              "          (norm2): BatchNorm2d(128, eps=1e-05, momentum=0.1, affine=True, track_running_stats=True)\n",
              "          (relu2): ReLU(inplace=True)\n",
              "          (conv2): Conv2d(128, 32, kernel_size=(3, 3), stride=(1, 1), padding=(1, 1), bias=False)\n",
              "        )\n",
              "        (denselayer2): _DenseLayer(\n",
              "          (norm1): BatchNorm2d(96, eps=1e-05, momentum=0.1, affine=True, track_running_stats=True)\n",
              "          (relu1): ReLU(inplace=True)\n",
              "          (conv1): Conv2d(96, 128, kernel_size=(1, 1), stride=(1, 1), bias=False)\n",
              "          (norm2): BatchNorm2d(128, eps=1e-05, momentum=0.1, affine=True, track_running_stats=True)\n",
              "          (relu2): ReLU(inplace=True)\n",
              "          (conv2): Conv2d(128, 32, kernel_size=(3, 3), stride=(1, 1), padding=(1, 1), bias=False)\n",
              "        )\n",
              "        (denselayer3): _DenseLayer(\n",
              "          (norm1): BatchNorm2d(128, eps=1e-05, momentum=0.1, affine=True, track_running_stats=True)\n",
              "          (relu1): ReLU(inplace=True)\n",
              "          (conv1): Conv2d(128, 128, kernel_size=(1, 1), stride=(1, 1), bias=False)\n",
              "          (norm2): BatchNorm2d(128, eps=1e-05, momentum=0.1, affine=True, track_running_stats=True)\n",
              "          (relu2): ReLU(inplace=True)\n",
              "          (conv2): Conv2d(128, 32, kernel_size=(3, 3), stride=(1, 1), padding=(1, 1), bias=False)\n",
              "        )\n",
              "        (denselayer4): _DenseLayer(\n",
              "          (norm1): BatchNorm2d(160, eps=1e-05, momentum=0.1, affine=True, track_running_stats=True)\n",
              "          (relu1): ReLU(inplace=True)\n",
              "          (conv1): Conv2d(160, 128, kernel_size=(1, 1), stride=(1, 1), bias=False)\n",
              "          (norm2): BatchNorm2d(128, eps=1e-05, momentum=0.1, affine=True, track_running_stats=True)\n",
              "          (relu2): ReLU(inplace=True)\n",
              "          (conv2): Conv2d(128, 32, kernel_size=(3, 3), stride=(1, 1), padding=(1, 1), bias=False)\n",
              "        )\n",
              "        (denselayer5): _DenseLayer(\n",
              "          (norm1): BatchNorm2d(192, eps=1e-05, momentum=0.1, affine=True, track_running_stats=True)\n",
              "          (relu1): ReLU(inplace=True)\n",
              "          (conv1): Conv2d(192, 128, kernel_size=(1, 1), stride=(1, 1), bias=False)\n",
              "          (norm2): BatchNorm2d(128, eps=1e-05, momentum=0.1, affine=True, track_running_stats=True)\n",
              "          (relu2): ReLU(inplace=True)\n",
              "          (conv2): Conv2d(128, 32, kernel_size=(3, 3), stride=(1, 1), padding=(1, 1), bias=False)\n",
              "        )\n",
              "        (denselayer6): _DenseLayer(\n",
              "          (norm1): BatchNorm2d(224, eps=1e-05, momentum=0.1, affine=True, track_running_stats=True)\n",
              "          (relu1): ReLU(inplace=True)\n",
              "          (conv1): Conv2d(224, 128, kernel_size=(1, 1), stride=(1, 1), bias=False)\n",
              "          (norm2): BatchNorm2d(128, eps=1e-05, momentum=0.1, affine=True, track_running_stats=True)\n",
              "          (relu2): ReLU(inplace=True)\n",
              "          (conv2): Conv2d(128, 32, kernel_size=(3, 3), stride=(1, 1), padding=(1, 1), bias=False)\n",
              "        )\n",
              "      )\n",
              "      (transition1): _Transition(\n",
              "        (norm): BatchNorm2d(256, eps=1e-05, momentum=0.1, affine=True, track_running_stats=True)\n",
              "        (relu): ReLU(inplace=True)\n",
              "        (conv): Conv2d(256, 128, kernel_size=(1, 1), stride=(1, 1), bias=False)\n",
              "        (pool): AvgPool2d(kernel_size=2, stride=2, padding=0)\n",
              "      )\n",
              "      (denseblock2): _DenseBlock(\n",
              "        (denselayer1): _DenseLayer(\n",
              "          (norm1): BatchNorm2d(128, eps=1e-05, momentum=0.1, affine=True, track_running_stats=True)\n",
              "          (relu1): ReLU(inplace=True)\n",
              "          (conv1): Conv2d(128, 128, kernel_size=(1, 1), stride=(1, 1), bias=False)\n",
              "          (norm2): BatchNorm2d(128, eps=1e-05, momentum=0.1, affine=True, track_running_stats=True)\n",
              "          (relu2): ReLU(inplace=True)\n",
              "          (conv2): Conv2d(128, 32, kernel_size=(3, 3), stride=(1, 1), padding=(1, 1), bias=False)\n",
              "        )\n",
              "        (denselayer2): _DenseLayer(\n",
              "          (norm1): BatchNorm2d(160, eps=1e-05, momentum=0.1, affine=True, track_running_stats=True)\n",
              "          (relu1): ReLU(inplace=True)\n",
              "          (conv1): Conv2d(160, 128, kernel_size=(1, 1), stride=(1, 1), bias=False)\n",
              "          (norm2): BatchNorm2d(128, eps=1e-05, momentum=0.1, affine=True, track_running_stats=True)\n",
              "          (relu2): ReLU(inplace=True)\n",
              "          (conv2): Conv2d(128, 32, kernel_size=(3, 3), stride=(1, 1), padding=(1, 1), bias=False)\n",
              "        )\n",
              "        (denselayer3): _DenseLayer(\n",
              "          (norm1): BatchNorm2d(192, eps=1e-05, momentum=0.1, affine=True, track_running_stats=True)\n",
              "          (relu1): ReLU(inplace=True)\n",
              "          (conv1): Conv2d(192, 128, kernel_size=(1, 1), stride=(1, 1), bias=False)\n",
              "          (norm2): BatchNorm2d(128, eps=1e-05, momentum=0.1, affine=True, track_running_stats=True)\n",
              "          (relu2): ReLU(inplace=True)\n",
              "          (conv2): Conv2d(128, 32, kernel_size=(3, 3), stride=(1, 1), padding=(1, 1), bias=False)\n",
              "        )\n",
              "        (denselayer4): _DenseLayer(\n",
              "          (norm1): BatchNorm2d(224, eps=1e-05, momentum=0.1, affine=True, track_running_stats=True)\n",
              "          (relu1): ReLU(inplace=True)\n",
              "          (conv1): Conv2d(224, 128, kernel_size=(1, 1), stride=(1, 1), bias=False)\n",
              "          (norm2): BatchNorm2d(128, eps=1e-05, momentum=0.1, affine=True, track_running_stats=True)\n",
              "          (relu2): ReLU(inplace=True)\n",
              "          (conv2): Conv2d(128, 32, kernel_size=(3, 3), stride=(1, 1), padding=(1, 1), bias=False)\n",
              "        )\n",
              "        (denselayer5): _DenseLayer(\n",
              "          (norm1): BatchNorm2d(256, eps=1e-05, momentum=0.1, affine=True, track_running_stats=True)\n",
              "          (relu1): ReLU(inplace=True)\n",
              "          (conv1): Conv2d(256, 128, kernel_size=(1, 1), stride=(1, 1), bias=False)\n",
              "          (norm2): BatchNorm2d(128, eps=1e-05, momentum=0.1, affine=True, track_running_stats=True)\n",
              "          (relu2): ReLU(inplace=True)\n",
              "          (conv2): Conv2d(128, 32, kernel_size=(3, 3), stride=(1, 1), padding=(1, 1), bias=False)\n",
              "        )\n",
              "        (denselayer6): _DenseLayer(\n",
              "          (norm1): BatchNorm2d(288, eps=1e-05, momentum=0.1, affine=True, track_running_stats=True)\n",
              "          (relu1): ReLU(inplace=True)\n",
              "          (conv1): Conv2d(288, 128, kernel_size=(1, 1), stride=(1, 1), bias=False)\n",
              "          (norm2): BatchNorm2d(128, eps=1e-05, momentum=0.1, affine=True, track_running_stats=True)\n",
              "          (relu2): ReLU(inplace=True)\n",
              "          (conv2): Conv2d(128, 32, kernel_size=(3, 3), stride=(1, 1), padding=(1, 1), bias=False)\n",
              "        )\n",
              "        (denselayer7): _DenseLayer(\n",
              "          (norm1): BatchNorm2d(320, eps=1e-05, momentum=0.1, affine=True, track_running_stats=True)\n",
              "          (relu1): ReLU(inplace=True)\n",
              "          (conv1): Conv2d(320, 128, kernel_size=(1, 1), stride=(1, 1), bias=False)\n",
              "          (norm2): BatchNorm2d(128, eps=1e-05, momentum=0.1, affine=True, track_running_stats=True)\n",
              "          (relu2): ReLU(inplace=True)\n",
              "          (conv2): Conv2d(128, 32, kernel_size=(3, 3), stride=(1, 1), padding=(1, 1), bias=False)\n",
              "        )\n",
              "        (denselayer8): _DenseLayer(\n",
              "          (norm1): BatchNorm2d(352, eps=1e-05, momentum=0.1, affine=True, track_running_stats=True)\n",
              "          (relu1): ReLU(inplace=True)\n",
              "          (conv1): Conv2d(352, 128, kernel_size=(1, 1), stride=(1, 1), bias=False)\n",
              "          (norm2): BatchNorm2d(128, eps=1e-05, momentum=0.1, affine=True, track_running_stats=True)\n",
              "          (relu2): ReLU(inplace=True)\n",
              "          (conv2): Conv2d(128, 32, kernel_size=(3, 3), stride=(1, 1), padding=(1, 1), bias=False)\n",
              "        )\n",
              "        (denselayer9): _DenseLayer(\n",
              "          (norm1): BatchNorm2d(384, eps=1e-05, momentum=0.1, affine=True, track_running_stats=True)\n",
              "          (relu1): ReLU(inplace=True)\n",
              "          (conv1): Conv2d(384, 128, kernel_size=(1, 1), stride=(1, 1), bias=False)\n",
              "          (norm2): BatchNorm2d(128, eps=1e-05, momentum=0.1, affine=True, track_running_stats=True)\n",
              "          (relu2): ReLU(inplace=True)\n",
              "          (conv2): Conv2d(128, 32, kernel_size=(3, 3), stride=(1, 1), padding=(1, 1), bias=False)\n",
              "        )\n",
              "        (denselayer10): _DenseLayer(\n",
              "          (norm1): BatchNorm2d(416, eps=1e-05, momentum=0.1, affine=True, track_running_stats=True)\n",
              "          (relu1): ReLU(inplace=True)\n",
              "          (conv1): Conv2d(416, 128, kernel_size=(1, 1), stride=(1, 1), bias=False)\n",
              "          (norm2): BatchNorm2d(128, eps=1e-05, momentum=0.1, affine=True, track_running_stats=True)\n",
              "          (relu2): ReLU(inplace=True)\n",
              "          (conv2): Conv2d(128, 32, kernel_size=(3, 3), stride=(1, 1), padding=(1, 1), bias=False)\n",
              "        )\n",
              "        (denselayer11): _DenseLayer(\n",
              "          (norm1): BatchNorm2d(448, eps=1e-05, momentum=0.1, affine=True, track_running_stats=True)\n",
              "          (relu1): ReLU(inplace=True)\n",
              "          (conv1): Conv2d(448, 128, kernel_size=(1, 1), stride=(1, 1), bias=False)\n",
              "          (norm2): BatchNorm2d(128, eps=1e-05, momentum=0.1, affine=True, track_running_stats=True)\n",
              "          (relu2): ReLU(inplace=True)\n",
              "          (conv2): Conv2d(128, 32, kernel_size=(3, 3), stride=(1, 1), padding=(1, 1), bias=False)\n",
              "        )\n",
              "        (denselayer12): _DenseLayer(\n",
              "          (norm1): BatchNorm2d(480, eps=1e-05, momentum=0.1, affine=True, track_running_stats=True)\n",
              "          (relu1): ReLU(inplace=True)\n",
              "          (conv1): Conv2d(480, 128, kernel_size=(1, 1), stride=(1, 1), bias=False)\n",
              "          (norm2): BatchNorm2d(128, eps=1e-05, momentum=0.1, affine=True, track_running_stats=True)\n",
              "          (relu2): ReLU(inplace=True)\n",
              "          (conv2): Conv2d(128, 32, kernel_size=(3, 3), stride=(1, 1), padding=(1, 1), bias=False)\n",
              "        )\n",
              "      )\n",
              "      (transition2): _Transition(\n",
              "        (norm): BatchNorm2d(512, eps=1e-05, momentum=0.1, affine=True, track_running_stats=True)\n",
              "        (relu): ReLU(inplace=True)\n",
              "        (conv): Conv2d(512, 256, kernel_size=(1, 1), stride=(1, 1), bias=False)\n",
              "        (pool): AvgPool2d(kernel_size=2, stride=2, padding=0)\n",
              "      )\n",
              "      (denseblock3): _DenseBlock(\n",
              "        (denselayer1): _DenseLayer(\n",
              "          (norm1): BatchNorm2d(256, eps=1e-05, momentum=0.1, affine=True, track_running_stats=True)\n",
              "          (relu1): ReLU(inplace=True)\n",
              "          (conv1): Conv2d(256, 128, kernel_size=(1, 1), stride=(1, 1), bias=False)\n",
              "          (norm2): BatchNorm2d(128, eps=1e-05, momentum=0.1, affine=True, track_running_stats=True)\n",
              "          (relu2): ReLU(inplace=True)\n",
              "          (conv2): Conv2d(128, 32, kernel_size=(3, 3), stride=(1, 1), padding=(1, 1), bias=False)\n",
              "        )\n",
              "        (denselayer2): _DenseLayer(\n",
              "          (norm1): BatchNorm2d(288, eps=1e-05, momentum=0.1, affine=True, track_running_stats=True)\n",
              "          (relu1): ReLU(inplace=True)\n",
              "          (conv1): Conv2d(288, 128, kernel_size=(1, 1), stride=(1, 1), bias=False)\n",
              "          (norm2): BatchNorm2d(128, eps=1e-05, momentum=0.1, affine=True, track_running_stats=True)\n",
              "          (relu2): ReLU(inplace=True)\n",
              "          (conv2): Conv2d(128, 32, kernel_size=(3, 3), stride=(1, 1), padding=(1, 1), bias=False)\n",
              "        )\n",
              "        (denselayer3): _DenseLayer(\n",
              "          (norm1): BatchNorm2d(320, eps=1e-05, momentum=0.1, affine=True, track_running_stats=True)\n",
              "          (relu1): ReLU(inplace=True)\n",
              "          (conv1): Conv2d(320, 128, kernel_size=(1, 1), stride=(1, 1), bias=False)\n",
              "          (norm2): BatchNorm2d(128, eps=1e-05, momentum=0.1, affine=True, track_running_stats=True)\n",
              "          (relu2): ReLU(inplace=True)\n",
              "          (conv2): Conv2d(128, 32, kernel_size=(3, 3), stride=(1, 1), padding=(1, 1), bias=False)\n",
              "        )\n",
              "        (denselayer4): _DenseLayer(\n",
              "          (norm1): BatchNorm2d(352, eps=1e-05, momentum=0.1, affine=True, track_running_stats=True)\n",
              "          (relu1): ReLU(inplace=True)\n",
              "          (conv1): Conv2d(352, 128, kernel_size=(1, 1), stride=(1, 1), bias=False)\n",
              "          (norm2): BatchNorm2d(128, eps=1e-05, momentum=0.1, affine=True, track_running_stats=True)\n",
              "          (relu2): ReLU(inplace=True)\n",
              "          (conv2): Conv2d(128, 32, kernel_size=(3, 3), stride=(1, 1), padding=(1, 1), bias=False)\n",
              "        )\n",
              "        (denselayer5): _DenseLayer(\n",
              "          (norm1): BatchNorm2d(384, eps=1e-05, momentum=0.1, affine=True, track_running_stats=True)\n",
              "          (relu1): ReLU(inplace=True)\n",
              "          (conv1): Conv2d(384, 128, kernel_size=(1, 1), stride=(1, 1), bias=False)\n",
              "          (norm2): BatchNorm2d(128, eps=1e-05, momentum=0.1, affine=True, track_running_stats=True)\n",
              "          (relu2): ReLU(inplace=True)\n",
              "          (conv2): Conv2d(128, 32, kernel_size=(3, 3), stride=(1, 1), padding=(1, 1), bias=False)\n",
              "        )\n",
              "        (denselayer6): _DenseLayer(\n",
              "          (norm1): BatchNorm2d(416, eps=1e-05, momentum=0.1, affine=True, track_running_stats=True)\n",
              "          (relu1): ReLU(inplace=True)\n",
              "          (conv1): Conv2d(416, 128, kernel_size=(1, 1), stride=(1, 1), bias=False)\n",
              "          (norm2): BatchNorm2d(128, eps=1e-05, momentum=0.1, affine=True, track_running_stats=True)\n",
              "          (relu2): ReLU(inplace=True)\n",
              "          (conv2): Conv2d(128, 32, kernel_size=(3, 3), stride=(1, 1), padding=(1, 1), bias=False)\n",
              "        )\n",
              "        (denselayer7): _DenseLayer(\n",
              "          (norm1): BatchNorm2d(448, eps=1e-05, momentum=0.1, affine=True, track_running_stats=True)\n",
              "          (relu1): ReLU(inplace=True)\n",
              "          (conv1): Conv2d(448, 128, kernel_size=(1, 1), stride=(1, 1), bias=False)\n",
              "          (norm2): BatchNorm2d(128, eps=1e-05, momentum=0.1, affine=True, track_running_stats=True)\n",
              "          (relu2): ReLU(inplace=True)\n",
              "          (conv2): Conv2d(128, 32, kernel_size=(3, 3), stride=(1, 1), padding=(1, 1), bias=False)\n",
              "        )\n",
              "        (denselayer8): _DenseLayer(\n",
              "          (norm1): BatchNorm2d(480, eps=1e-05, momentum=0.1, affine=True, track_running_stats=True)\n",
              "          (relu1): ReLU(inplace=True)\n",
              "          (conv1): Conv2d(480, 128, kernel_size=(1, 1), stride=(1, 1), bias=False)\n",
              "          (norm2): BatchNorm2d(128, eps=1e-05, momentum=0.1, affine=True, track_running_stats=True)\n",
              "          (relu2): ReLU(inplace=True)\n",
              "          (conv2): Conv2d(128, 32, kernel_size=(3, 3), stride=(1, 1), padding=(1, 1), bias=False)\n",
              "        )\n",
              "        (denselayer9): _DenseLayer(\n",
              "          (norm1): BatchNorm2d(512, eps=1e-05, momentum=0.1, affine=True, track_running_stats=True)\n",
              "          (relu1): ReLU(inplace=True)\n",
              "          (conv1): Conv2d(512, 128, kernel_size=(1, 1), stride=(1, 1), bias=False)\n",
              "          (norm2): BatchNorm2d(128, eps=1e-05, momentum=0.1, affine=True, track_running_stats=True)\n",
              "          (relu2): ReLU(inplace=True)\n",
              "          (conv2): Conv2d(128, 32, kernel_size=(3, 3), stride=(1, 1), padding=(1, 1), bias=False)\n",
              "        )\n",
              "        (denselayer10): _DenseLayer(\n",
              "          (norm1): BatchNorm2d(544, eps=1e-05, momentum=0.1, affine=True, track_running_stats=True)\n",
              "          (relu1): ReLU(inplace=True)\n",
              "          (conv1): Conv2d(544, 128, kernel_size=(1, 1), stride=(1, 1), bias=False)\n",
              "          (norm2): BatchNorm2d(128, eps=1e-05, momentum=0.1, affine=True, track_running_stats=True)\n",
              "          (relu2): ReLU(inplace=True)\n",
              "          (conv2): Conv2d(128, 32, kernel_size=(3, 3), stride=(1, 1), padding=(1, 1), bias=False)\n",
              "        )\n",
              "        (denselayer11): _DenseLayer(\n",
              "          (norm1): BatchNorm2d(576, eps=1e-05, momentum=0.1, affine=True, track_running_stats=True)\n",
              "          (relu1): ReLU(inplace=True)\n",
              "          (conv1): Conv2d(576, 128, kernel_size=(1, 1), stride=(1, 1), bias=False)\n",
              "          (norm2): BatchNorm2d(128, eps=1e-05, momentum=0.1, affine=True, track_running_stats=True)\n",
              "          (relu2): ReLU(inplace=True)\n",
              "          (conv2): Conv2d(128, 32, kernel_size=(3, 3), stride=(1, 1), padding=(1, 1), bias=False)\n",
              "        )\n",
              "        (denselayer12): _DenseLayer(\n",
              "          (norm1): BatchNorm2d(608, eps=1e-05, momentum=0.1, affine=True, track_running_stats=True)\n",
              "          (relu1): ReLU(inplace=True)\n",
              "          (conv1): Conv2d(608, 128, kernel_size=(1, 1), stride=(1, 1), bias=False)\n",
              "          (norm2): BatchNorm2d(128, eps=1e-05, momentum=0.1, affine=True, track_running_stats=True)\n",
              "          (relu2): ReLU(inplace=True)\n",
              "          (conv2): Conv2d(128, 32, kernel_size=(3, 3), stride=(1, 1), padding=(1, 1), bias=False)\n",
              "        )\n",
              "        (denselayer13): _DenseLayer(\n",
              "          (norm1): BatchNorm2d(640, eps=1e-05, momentum=0.1, affine=True, track_running_stats=True)\n",
              "          (relu1): ReLU(inplace=True)\n",
              "          (conv1): Conv2d(640, 128, kernel_size=(1, 1), stride=(1, 1), bias=False)\n",
              "          (norm2): BatchNorm2d(128, eps=1e-05, momentum=0.1, affine=True, track_running_stats=True)\n",
              "          (relu2): ReLU(inplace=True)\n",
              "          (conv2): Conv2d(128, 32, kernel_size=(3, 3), stride=(1, 1), padding=(1, 1), bias=False)\n",
              "        )\n",
              "        (denselayer14): _DenseLayer(\n",
              "          (norm1): BatchNorm2d(672, eps=1e-05, momentum=0.1, affine=True, track_running_stats=True)\n",
              "          (relu1): ReLU(inplace=True)\n",
              "          (conv1): Conv2d(672, 128, kernel_size=(1, 1), stride=(1, 1), bias=False)\n",
              "          (norm2): BatchNorm2d(128, eps=1e-05, momentum=0.1, affine=True, track_running_stats=True)\n",
              "          (relu2): ReLU(inplace=True)\n",
              "          (conv2): Conv2d(128, 32, kernel_size=(3, 3), stride=(1, 1), padding=(1, 1), bias=False)\n",
              "        )\n",
              "        (denselayer15): _DenseLayer(\n",
              "          (norm1): BatchNorm2d(704, eps=1e-05, momentum=0.1, affine=True, track_running_stats=True)\n",
              "          (relu1): ReLU(inplace=True)\n",
              "          (conv1): Conv2d(704, 128, kernel_size=(1, 1), stride=(1, 1), bias=False)\n",
              "          (norm2): BatchNorm2d(128, eps=1e-05, momentum=0.1, affine=True, track_running_stats=True)\n",
              "          (relu2): ReLU(inplace=True)\n",
              "          (conv2): Conv2d(128, 32, kernel_size=(3, 3), stride=(1, 1), padding=(1, 1), bias=False)\n",
              "        )\n",
              "        (denselayer16): _DenseLayer(\n",
              "          (norm1): BatchNorm2d(736, eps=1e-05, momentum=0.1, affine=True, track_running_stats=True)\n",
              "          (relu1): ReLU(inplace=True)\n",
              "          (conv1): Conv2d(736, 128, kernel_size=(1, 1), stride=(1, 1), bias=False)\n",
              "          (norm2): BatchNorm2d(128, eps=1e-05, momentum=0.1, affine=True, track_running_stats=True)\n",
              "          (relu2): ReLU(inplace=True)\n",
              "          (conv2): Conv2d(128, 32, kernel_size=(3, 3), stride=(1, 1), padding=(1, 1), bias=False)\n",
              "        )\n",
              "        (denselayer17): _DenseLayer(\n",
              "          (norm1): BatchNorm2d(768, eps=1e-05, momentum=0.1, affine=True, track_running_stats=True)\n",
              "          (relu1): ReLU(inplace=True)\n",
              "          (conv1): Conv2d(768, 128, kernel_size=(1, 1), stride=(1, 1), bias=False)\n",
              "          (norm2): BatchNorm2d(128, eps=1e-05, momentum=0.1, affine=True, track_running_stats=True)\n",
              "          (relu2): ReLU(inplace=True)\n",
              "          (conv2): Conv2d(128, 32, kernel_size=(3, 3), stride=(1, 1), padding=(1, 1), bias=False)\n",
              "        )\n",
              "        (denselayer18): _DenseLayer(\n",
              "          (norm1): BatchNorm2d(800, eps=1e-05, momentum=0.1, affine=True, track_running_stats=True)\n",
              "          (relu1): ReLU(inplace=True)\n",
              "          (conv1): Conv2d(800, 128, kernel_size=(1, 1), stride=(1, 1), bias=False)\n",
              "          (norm2): BatchNorm2d(128, eps=1e-05, momentum=0.1, affine=True, track_running_stats=True)\n",
              "          (relu2): ReLU(inplace=True)\n",
              "          (conv2): Conv2d(128, 32, kernel_size=(3, 3), stride=(1, 1), padding=(1, 1), bias=False)\n",
              "        )\n",
              "        (denselayer19): _DenseLayer(\n",
              "          (norm1): BatchNorm2d(832, eps=1e-05, momentum=0.1, affine=True, track_running_stats=True)\n",
              "          (relu1): ReLU(inplace=True)\n",
              "          (conv1): Conv2d(832, 128, kernel_size=(1, 1), stride=(1, 1), bias=False)\n",
              "          (norm2): BatchNorm2d(128, eps=1e-05, momentum=0.1, affine=True, track_running_stats=True)\n",
              "          (relu2): ReLU(inplace=True)\n",
              "          (conv2): Conv2d(128, 32, kernel_size=(3, 3), stride=(1, 1), padding=(1, 1), bias=False)\n",
              "        )\n",
              "        (denselayer20): _DenseLayer(\n",
              "          (norm1): BatchNorm2d(864, eps=1e-05, momentum=0.1, affine=True, track_running_stats=True)\n",
              "          (relu1): ReLU(inplace=True)\n",
              "          (conv1): Conv2d(864, 128, kernel_size=(1, 1), stride=(1, 1), bias=False)\n",
              "          (norm2): BatchNorm2d(128, eps=1e-05, momentum=0.1, affine=True, track_running_stats=True)\n",
              "          (relu2): ReLU(inplace=True)\n",
              "          (conv2): Conv2d(128, 32, kernel_size=(3, 3), stride=(1, 1), padding=(1, 1), bias=False)\n",
              "        )\n",
              "        (denselayer21): _DenseLayer(\n",
              "          (norm1): BatchNorm2d(896, eps=1e-05, momentum=0.1, affine=True, track_running_stats=True)\n",
              "          (relu1): ReLU(inplace=True)\n",
              "          (conv1): Conv2d(896, 128, kernel_size=(1, 1), stride=(1, 1), bias=False)\n",
              "          (norm2): BatchNorm2d(128, eps=1e-05, momentum=0.1, affine=True, track_running_stats=True)\n",
              "          (relu2): ReLU(inplace=True)\n",
              "          (conv2): Conv2d(128, 32, kernel_size=(3, 3), stride=(1, 1), padding=(1, 1), bias=False)\n",
              "        )\n",
              "        (denselayer22): _DenseLayer(\n",
              "          (norm1): BatchNorm2d(928, eps=1e-05, momentum=0.1, affine=True, track_running_stats=True)\n",
              "          (relu1): ReLU(inplace=True)\n",
              "          (conv1): Conv2d(928, 128, kernel_size=(1, 1), stride=(1, 1), bias=False)\n",
              "          (norm2): BatchNorm2d(128, eps=1e-05, momentum=0.1, affine=True, track_running_stats=True)\n",
              "          (relu2): ReLU(inplace=True)\n",
              "          (conv2): Conv2d(128, 32, kernel_size=(3, 3), stride=(1, 1), padding=(1, 1), bias=False)\n",
              "        )\n",
              "        (denselayer23): _DenseLayer(\n",
              "          (norm1): BatchNorm2d(960, eps=1e-05, momentum=0.1, affine=True, track_running_stats=True)\n",
              "          (relu1): ReLU(inplace=True)\n",
              "          (conv1): Conv2d(960, 128, kernel_size=(1, 1), stride=(1, 1), bias=False)\n",
              "          (norm2): BatchNorm2d(128, eps=1e-05, momentum=0.1, affine=True, track_running_stats=True)\n",
              "          (relu2): ReLU(inplace=True)\n",
              "          (conv2): Conv2d(128, 32, kernel_size=(3, 3), stride=(1, 1), padding=(1, 1), bias=False)\n",
              "        )\n",
              "        (denselayer24): _DenseLayer(\n",
              "          (norm1): BatchNorm2d(992, eps=1e-05, momentum=0.1, affine=True, track_running_stats=True)\n",
              "          (relu1): ReLU(inplace=True)\n",
              "          (conv1): Conv2d(992, 128, kernel_size=(1, 1), stride=(1, 1), bias=False)\n",
              "          (norm2): BatchNorm2d(128, eps=1e-05, momentum=0.1, affine=True, track_running_stats=True)\n",
              "          (relu2): ReLU(inplace=True)\n",
              "          (conv2): Conv2d(128, 32, kernel_size=(3, 3), stride=(1, 1), padding=(1, 1), bias=False)\n",
              "        )\n",
              "      )\n",
              "      (transition3): _Transition(\n",
              "        (norm): BatchNorm2d(1024, eps=1e-05, momentum=0.1, affine=True, track_running_stats=True)\n",
              "        (relu): ReLU(inplace=True)\n",
              "        (conv): Conv2d(1024, 512, kernel_size=(1, 1), stride=(1, 1), bias=False)\n",
              "        (pool): AvgPool2d(kernel_size=2, stride=2, padding=0)\n",
              "      )\n",
              "      (denseblock4): _DenseBlock(\n",
              "        (denselayer1): _DenseLayer(\n",
              "          (norm1): BatchNorm2d(512, eps=1e-05, momentum=0.1, affine=True, track_running_stats=True)\n",
              "          (relu1): ReLU(inplace=True)\n",
              "          (conv1): Conv2d(512, 128, kernel_size=(1, 1), stride=(1, 1), bias=False)\n",
              "          (norm2): BatchNorm2d(128, eps=1e-05, momentum=0.1, affine=True, track_running_stats=True)\n",
              "          (relu2): ReLU(inplace=True)\n",
              "          (conv2): Conv2d(128, 32, kernel_size=(3, 3), stride=(1, 1), padding=(1, 1), bias=False)\n",
              "        )\n",
              "        (denselayer2): _DenseLayer(\n",
              "          (norm1): BatchNorm2d(544, eps=1e-05, momentum=0.1, affine=True, track_running_stats=True)\n",
              "          (relu1): ReLU(inplace=True)\n",
              "          (conv1): Conv2d(544, 128, kernel_size=(1, 1), stride=(1, 1), bias=False)\n",
              "          (norm2): BatchNorm2d(128, eps=1e-05, momentum=0.1, affine=True, track_running_stats=True)\n",
              "          (relu2): ReLU(inplace=True)\n",
              "          (conv2): Conv2d(128, 32, kernel_size=(3, 3), stride=(1, 1), padding=(1, 1), bias=False)\n",
              "        )\n",
              "        (denselayer3): _DenseLayer(\n",
              "          (norm1): BatchNorm2d(576, eps=1e-05, momentum=0.1, affine=True, track_running_stats=True)\n",
              "          (relu1): ReLU(inplace=True)\n",
              "          (conv1): Conv2d(576, 128, kernel_size=(1, 1), stride=(1, 1), bias=False)\n",
              "          (norm2): BatchNorm2d(128, eps=1e-05, momentum=0.1, affine=True, track_running_stats=True)\n",
              "          (relu2): ReLU(inplace=True)\n",
              "          (conv2): Conv2d(128, 32, kernel_size=(3, 3), stride=(1, 1), padding=(1, 1), bias=False)\n",
              "        )\n",
              "        (denselayer4): _DenseLayer(\n",
              "          (norm1): BatchNorm2d(608, eps=1e-05, momentum=0.1, affine=True, track_running_stats=True)\n",
              "          (relu1): ReLU(inplace=True)\n",
              "          (conv1): Conv2d(608, 128, kernel_size=(1, 1), stride=(1, 1), bias=False)\n",
              "          (norm2): BatchNorm2d(128, eps=1e-05, momentum=0.1, affine=True, track_running_stats=True)\n",
              "          (relu2): ReLU(inplace=True)\n",
              "          (conv2): Conv2d(128, 32, kernel_size=(3, 3), stride=(1, 1), padding=(1, 1), bias=False)\n",
              "        )\n",
              "        (denselayer5): _DenseLayer(\n",
              "          (norm1): BatchNorm2d(640, eps=1e-05, momentum=0.1, affine=True, track_running_stats=True)\n",
              "          (relu1): ReLU(inplace=True)\n",
              "          (conv1): Conv2d(640, 128, kernel_size=(1, 1), stride=(1, 1), bias=False)\n",
              "          (norm2): BatchNorm2d(128, eps=1e-05, momentum=0.1, affine=True, track_running_stats=True)\n",
              "          (relu2): ReLU(inplace=True)\n",
              "          (conv2): Conv2d(128, 32, kernel_size=(3, 3), stride=(1, 1), padding=(1, 1), bias=False)\n",
              "        )\n",
              "        (denselayer6): _DenseLayer(\n",
              "          (norm1): BatchNorm2d(672, eps=1e-05, momentum=0.1, affine=True, track_running_stats=True)\n",
              "          (relu1): ReLU(inplace=True)\n",
              "          (conv1): Conv2d(672, 128, kernel_size=(1, 1), stride=(1, 1), bias=False)\n",
              "          (norm2): BatchNorm2d(128, eps=1e-05, momentum=0.1, affine=True, track_running_stats=True)\n",
              "          (relu2): ReLU(inplace=True)\n",
              "          (conv2): Conv2d(128, 32, kernel_size=(3, 3), stride=(1, 1), padding=(1, 1), bias=False)\n",
              "        )\n",
              "        (denselayer7): _DenseLayer(\n",
              "          (norm1): BatchNorm2d(704, eps=1e-05, momentum=0.1, affine=True, track_running_stats=True)\n",
              "          (relu1): ReLU(inplace=True)\n",
              "          (conv1): Conv2d(704, 128, kernel_size=(1, 1), stride=(1, 1), bias=False)\n",
              "          (norm2): BatchNorm2d(128, eps=1e-05, momentum=0.1, affine=True, track_running_stats=True)\n",
              "          (relu2): ReLU(inplace=True)\n",
              "          (conv2): Conv2d(128, 32, kernel_size=(3, 3), stride=(1, 1), padding=(1, 1), bias=False)\n",
              "        )\n",
              "        (denselayer8): _DenseLayer(\n",
              "          (norm1): BatchNorm2d(736, eps=1e-05, momentum=0.1, affine=True, track_running_stats=True)\n",
              "          (relu1): ReLU(inplace=True)\n",
              "          (conv1): Conv2d(736, 128, kernel_size=(1, 1), stride=(1, 1), bias=False)\n",
              "          (norm2): BatchNorm2d(128, eps=1e-05, momentum=0.1, affine=True, track_running_stats=True)\n",
              "          (relu2): ReLU(inplace=True)\n",
              "          (conv2): Conv2d(128, 32, kernel_size=(3, 3), stride=(1, 1), padding=(1, 1), bias=False)\n",
              "        )\n",
              "        (denselayer9): _DenseLayer(\n",
              "          (norm1): BatchNorm2d(768, eps=1e-05, momentum=0.1, affine=True, track_running_stats=True)\n",
              "          (relu1): ReLU(inplace=True)\n",
              "          (conv1): Conv2d(768, 128, kernel_size=(1, 1), stride=(1, 1), bias=False)\n",
              "          (norm2): BatchNorm2d(128, eps=1e-05, momentum=0.1, affine=True, track_running_stats=True)\n",
              "          (relu2): ReLU(inplace=True)\n",
              "          (conv2): Conv2d(128, 32, kernel_size=(3, 3), stride=(1, 1), padding=(1, 1), bias=False)\n",
              "        )\n",
              "        (denselayer10): _DenseLayer(\n",
              "          (norm1): BatchNorm2d(800, eps=1e-05, momentum=0.1, affine=True, track_running_stats=True)\n",
              "          (relu1): ReLU(inplace=True)\n",
              "          (conv1): Conv2d(800, 128, kernel_size=(1, 1), stride=(1, 1), bias=False)\n",
              "          (norm2): BatchNorm2d(128, eps=1e-05, momentum=0.1, affine=True, track_running_stats=True)\n",
              "          (relu2): ReLU(inplace=True)\n",
              "          (conv2): Conv2d(128, 32, kernel_size=(3, 3), stride=(1, 1), padding=(1, 1), bias=False)\n",
              "        )\n",
              "        (denselayer11): _DenseLayer(\n",
              "          (norm1): BatchNorm2d(832, eps=1e-05, momentum=0.1, affine=True, track_running_stats=True)\n",
              "          (relu1): ReLU(inplace=True)\n",
              "          (conv1): Conv2d(832, 128, kernel_size=(1, 1), stride=(1, 1), bias=False)\n",
              "          (norm2): BatchNorm2d(128, eps=1e-05, momentum=0.1, affine=True, track_running_stats=True)\n",
              "          (relu2): ReLU(inplace=True)\n",
              "          (conv2): Conv2d(128, 32, kernel_size=(3, 3), stride=(1, 1), padding=(1, 1), bias=False)\n",
              "        )\n",
              "        (denselayer12): _DenseLayer(\n",
              "          (norm1): BatchNorm2d(864, eps=1e-05, momentum=0.1, affine=True, track_running_stats=True)\n",
              "          (relu1): ReLU(inplace=True)\n",
              "          (conv1): Conv2d(864, 128, kernel_size=(1, 1), stride=(1, 1), bias=False)\n",
              "          (norm2): BatchNorm2d(128, eps=1e-05, momentum=0.1, affine=True, track_running_stats=True)\n",
              "          (relu2): ReLU(inplace=True)\n",
              "          (conv2): Conv2d(128, 32, kernel_size=(3, 3), stride=(1, 1), padding=(1, 1), bias=False)\n",
              "        )\n",
              "        (denselayer13): _DenseLayer(\n",
              "          (norm1): BatchNorm2d(896, eps=1e-05, momentum=0.1, affine=True, track_running_stats=True)\n",
              "          (relu1): ReLU(inplace=True)\n",
              "          (conv1): Conv2d(896, 128, kernel_size=(1, 1), stride=(1, 1), bias=False)\n",
              "          (norm2): BatchNorm2d(128, eps=1e-05, momentum=0.1, affine=True, track_running_stats=True)\n",
              "          (relu2): ReLU(inplace=True)\n",
              "          (conv2): Conv2d(128, 32, kernel_size=(3, 3), stride=(1, 1), padding=(1, 1), bias=False)\n",
              "        )\n",
              "        (denselayer14): _DenseLayer(\n",
              "          (norm1): BatchNorm2d(928, eps=1e-05, momentum=0.1, affine=True, track_running_stats=True)\n",
              "          (relu1): ReLU(inplace=True)\n",
              "          (conv1): Conv2d(928, 128, kernel_size=(1, 1), stride=(1, 1), bias=False)\n",
              "          (norm2): BatchNorm2d(128, eps=1e-05, momentum=0.1, affine=True, track_running_stats=True)\n",
              "          (relu2): ReLU(inplace=True)\n",
              "          (conv2): Conv2d(128, 32, kernel_size=(3, 3), stride=(1, 1), padding=(1, 1), bias=False)\n",
              "        )\n",
              "        (denselayer15): _DenseLayer(\n",
              "          (norm1): BatchNorm2d(960, eps=1e-05, momentum=0.1, affine=True, track_running_stats=True)\n",
              "          (relu1): ReLU(inplace=True)\n",
              "          (conv1): Conv2d(960, 128, kernel_size=(1, 1), stride=(1, 1), bias=False)\n",
              "          (norm2): BatchNorm2d(128, eps=1e-05, momentum=0.1, affine=True, track_running_stats=True)\n",
              "          (relu2): ReLU(inplace=True)\n",
              "          (conv2): Conv2d(128, 32, kernel_size=(3, 3), stride=(1, 1), padding=(1, 1), bias=False)\n",
              "        )\n",
              "        (denselayer16): _DenseLayer(\n",
              "          (norm1): BatchNorm2d(992, eps=1e-05, momentum=0.1, affine=True, track_running_stats=True)\n",
              "          (relu1): ReLU(inplace=True)\n",
              "          (conv1): Conv2d(992, 128, kernel_size=(1, 1), stride=(1, 1), bias=False)\n",
              "          (norm2): BatchNorm2d(128, eps=1e-05, momentum=0.1, affine=True, track_running_stats=True)\n",
              "          (relu2): ReLU(inplace=True)\n",
              "          (conv2): Conv2d(128, 32, kernel_size=(3, 3), stride=(1, 1), padding=(1, 1), bias=False)\n",
              "        )\n",
              "      )\n",
              "      (norm5): BatchNorm2d(1024, eps=1e-05, momentum=0.1, affine=True, track_running_stats=True)\n",
              "    )\n",
              "    (classifier): Linear(in_features=1024, out_features=3, bias=True)\n",
              "  )\n",
              ")"
            ]
          },
          "execution_count": 27,
          "metadata": {},
          "output_type": "execute_result"
        }
      ],
      "source": [
        "model = DenseNet121(3).to(device)\n",
        "model"
      ]
    },
    {
      "cell_type": "markdown",
      "metadata": {
        "collapsed": false,
        "id": "uLrd96Axmt_1",
        "pycharm": {
          "name": "#%% md\n"
        }
      },
      "source": [
        "Dataset for loading images:"
      ]
    },
    {
      "cell_type": "code",
      "execution_count": 28,
      "metadata": {
        "id": "mWbxLB9Dmt_1",
        "pycharm": {
          "name": "#%%\n"
        }
      },
      "outputs": [],
      "source": [
        "class CovidDataset(Dataset):\n",
        "    def __init__(self, root, transform=None, shuffle=True):\n",
        "        if not isinstance(root, Path):\n",
        "            root = Path(root)\n",
        "        self.root = root\n",
        "        self.transform = transform\n",
        "        data = []\n",
        "        for y in os.listdir(self.root):\n",
        "            for x in os.listdir(os.path.join(self.root, y)):\n",
        "                data.append({'image': x, 'label': y})\n",
        "        self.dataframe = pd.DataFrame(data)\n",
        "        self.label_names, labels = np.unique(self.dataframe['label'], return_inverse=True)\n",
        "        self.dataframe['label'] = labels\n",
        "        self.label_counts = self.dataframe['label'].value_counts()\n",
        "        self.label_weights = len(self.dataframe) / self.label_counts\n",
        "        self.label_weights = self.label_weights / self.label_weights.sum()\n",
        "        if shuffle:\n",
        "            self.dataframe = self.dataframe.sample(frac=1).reset_index(drop=True)\n",
        "\n",
        "    def __len__(self):\n",
        "        return len(self.dataframe)\n",
        "\n",
        "    def __getitem__(self, index):\n",
        "        item = self.dataframe.loc[index]\n",
        "        image_name, label = item['image'], item['label']\n",
        "        label_name = self.label_names[label]\n",
        "        image_path = self.root / label_name / image_name\n",
        "        image = Image.open(image_path).convert('RGB')\n",
        "        if self.transform:\n",
        "            image = self.transform(image)\n",
        "        return image, label"
      ]
    },
    {
      "cell_type": "code",
      "execution_count": 29,
      "metadata": {
        "id": "uYtL_1CEmt_2",
        "pycharm": {
          "name": "#%%\n"
        }
      },
      "outputs": [],
      "source": [
        "normalize = T.Normalize([0.485, 0.456, 0.406],\n",
        "                        [0.229, 0.224, 0.225])\n",
        "\n",
        "# dataset = CovidDataset(DATASET_ROOT, transform=T.Compose([\n",
        "#                                     T.Resize(256),\n",
        "#                                     T.TenCrop(224),\n",
        "#                                     T.Lambda\n",
        "#                                     (lambda crops: torch.stack([T.ToTensor()(crop) for crop in crops])),\n",
        "#                                     T.Lambda\n",
        "#                                     (lambda crops: torch.stack([normalize(crop) for crop in crops]))\n",
        "#                                 ]))\n",
        "dataset = CovidDataset(DATASET_ROOT,\n",
        "                       transform=T.Compose([\n",
        "                           T.Resize((256, 256)),\n",
        "                           T.ToTensor(),\n",
        "                           normalize\n",
        "                       ]))"
      ]
    },
    {
      "cell_type": "code",
      "execution_count": 30,
      "metadata": {
        "colab": {
          "base_uri": "https://localhost:8080/"
        },
        "id": "u_qqHmVi5bNd",
        "outputId": "c1a36f89-53e7-460e-eb96-341b6702c9f0",
        "pycharm": {
          "name": "#%%\n"
        }
      },
      "outputs": [
        {
          "data": {
            "text/plain": [
              "1    0.166667\n",
              "2    0.166667\n",
              "0    0.666667\n",
              "Name: label, dtype: float64"
            ]
          },
          "execution_count": 30,
          "metadata": {},
          "output_type": "execute_result"
        }
      ],
      "source": [
        "dataset.label_weights"
      ]
    },
    {
      "cell_type": "code",
      "execution_count": 31,
      "metadata": {
        "colab": {
          "base_uri": "https://localhost:8080/"
        },
        "id": "VNXvOCger48r",
        "outputId": "a1f0f5ad-ea77-4015-ddd2-eb4b57524af1",
        "pycharm": {
          "name": "#%%\n"
        }
      },
      "outputs": [
        {
          "data": {
            "text/plain": [
              "torch.Size([3, 256, 256])"
            ]
          },
          "execution_count": 31,
          "metadata": {},
          "output_type": "execute_result"
        }
      ],
      "source": [
        "dataset[0][0].shape"
      ]
    },
    {
      "cell_type": "code",
      "execution_count": 32,
      "metadata": {
        "colab": {
          "base_uri": "https://localhost:8080/"
        },
        "id": "iZOzxny9suKL",
        "outputId": "81132026-1d4e-4653-f0ce-c73c58e98af1",
        "pycharm": {
          "name": "#%%\n"
        }
      },
      "outputs": [
        {
          "data": {
            "text/plain": [
              "tensor([[-0.2601,  0.0560,  0.1023]], device='cuda:0',\n",
              "       grad_fn=<AddmmBackward0>)"
            ]
          },
          "execution_count": 32,
          "metadata": {},
          "output_type": "execute_result"
        }
      ],
      "source": [
        "model(dataset[0][0].to(device).unsqueeze(0))"
      ]
    },
    {
      "cell_type": "markdown",
      "metadata": {
        "collapsed": false,
        "id": "aDn08H9Nmt_2",
        "pycharm": {
          "name": "#%% md\n"
        }
      },
      "source": [
        "Dataloaders:"
      ]
    },
    {
      "cell_type": "code",
      "execution_count": 33,
      "metadata": {
        "id": "xcsDe4m2mt_2",
        "pycharm": {
          "name": "#%%\n"
        }
      },
      "outputs": [],
      "source": [
        "# splitting train and test sets\n",
        "voc_len = len(dataset)\n",
        "train_len = int(0.8 * voc_len)\n",
        "test_len = voc_len - train_len\n",
        "train_set, test_set = random_split(dataset, [train_len, test_len])"
      ]
    },
    {
      "cell_type": "code",
      "execution_count": 34,
      "metadata": {
        "id": "CiE1edLE5bNh",
        "pycharm": {
          "name": "#%%\n"
        }
      },
      "outputs": [],
      "source": [
        "# splitting train and val sets\n",
        "train_len = int(0.8 * len(train_set))\n",
        "val_len = len(train_set) - train_len\n",
        "train_set, val_set = random_split(train_set, [train_len, val_len])"
      ]
    },
    {
      "cell_type": "code",
      "execution_count": 35,
      "metadata": {
        "id": "oXW8x8TJmt_2",
        "pycharm": {
          "name": "#%%\n"
        }
      },
      "outputs": [],
      "source": [
        "train_loader = DataLoader(train_set, 64, shuffle=True)\n",
        "val_loader = DataLoader(val_set, 64, shuffle=True)\n",
        "test_loader = DataLoader(test_set, 64, shuffle=True)"
      ]
    },
    {
      "cell_type": "markdown",
      "metadata": {
        "collapsed": false,
        "id": "LWOuPnL35bNi",
        "pycharm": {
          "name": "#%% md\n"
        }
      },
      "source": [
        "Training functions:"
      ]
    },
    {
      "cell_type": "code",
      "execution_count": 52,
      "metadata": {
        "id": "m3l4cK-_KuvG",
        "pycharm": {
          "name": "#%%\n"
        }
      },
      "outputs": [],
      "source": [
        "import time, tqdm\n",
        "\n",
        "\n",
        "def train(model, train_loader, criterion, optimizer, epoch):\n",
        "    train_loss = 0\n",
        "    N_train = len(train_loader.dataset)\n",
        "\n",
        "    model.train()\n",
        "    with tqdm.tqdm(enumerate(train_loader), total=len(train_loader)) as pbar:\n",
        "        for i, (x, y) in pbar:\n",
        "            optimizer.zero_grad()\n",
        "\n",
        "            x = x.to(device)\n",
        "            y = y.to(device)\n",
        "            p = model(x)\n",
        "\n",
        "            loss = criterion(p, y)\n",
        "            train_loss += loss.item() * len(x)\n",
        "\n",
        "            pbar.set_description(f'Epoch:{epoch}, Train Loss: {train_loss / N_train:.3e}')\n",
        "\n",
        "            loss.backward()\n",
        "            optimizer.step()\n",
        "\n",
        "    train_loss /= N_train\n",
        "    return train_loss\n",
        "\n",
        "\n",
        "def validate(model, val_loader, criterion, epoch=0, metrics=None):\n",
        "    val_loss = 0\n",
        "    N_val = len(val_loader.dataset)\n",
        "    Y = []\n",
        "    Y_pred = []\n",
        "    model.eval()\n",
        "    with torch.no_grad(), tqdm.tqdm(enumerate(val_loader), total=len(val_loader)) as pbar:\n",
        "        for i, (x, y) in pbar:\n",
        "            x = x.to(device)\n",
        "            y = y.to(device)\n",
        "            p = model(x)\n",
        "            y_pred = p.argmax(dim=-1)\n",
        "            loss = criterion(p, y)\n",
        "            val_loss += loss.item() * len(x)\n",
        "\n",
        "            pbar.set_description(f'Epoch:{epoch}, Val Loss: {val_loss / N_val:.3e}')\n",
        "            Y.append(y.cpu().numpy())\n",
        "            Y_pred.append(y_pred.cpu().numpy())\n",
        "    Y = np.concatenate(Y)\n",
        "    Y_pred = np.concatenate(Y_pred)\n",
        "    val_loss /= N_val\n",
        "    if metrics is not None:\n",
        "        return {metric: metric_func(Y, Y_pred) for metric, metric_func in metrics.items()}\n",
        "    return val_loss"
      ]
    },
    {
      "cell_type": "code",
      "execution_count": 37,
      "metadata": {
        "id": "yFdNnS7Zk1oy",
        "pycharm": {
          "name": "#%%\n"
        }
      },
      "outputs": [],
      "source": [
        "train_losses, val_losses = list(), list()"
      ]
    },
    {
      "cell_type": "code",
      "execution_count": 61,
      "metadata": {
        "id": "KmeKLMBIMsSF",
        "pycharm": {
          "name": "#%%\n"
        }
      },
      "outputs": [],
      "source": [
        "def train_model(model, criterion, dataloaders, optimizer, num_epochs, model_name='pytorch_model'):\n",
        "    val = len(dataloaders) == 2\n",
        "    if val:\n",
        "        train_loader, val_loader = dataloaders\n",
        "    else:\n",
        "        train_loader, = dataloaders\n",
        "\n",
        "    val_loss_min = np.inf\n",
        "\n",
        "    for epoch in range(num_epochs):\n",
        "        train_loss = train(model, train_loader, criterion, optimizer, epoch)\n",
        "        train_losses.append(train_loss)\n",
        "        if val:\n",
        "            val_loss = validate(model, val_loader, criterion, epoch)\n",
        "            val_losses.append(val_loss)\n",
        "\n",
        "            if val_loss <= val_loss_min:\n",
        "                torch.save(model.state_dict(), f'{model_name}.pt')\n",
        "                val_loss_min = val_loss\n",
        "        print('\\n', '---' * 20)\n",
        "    if val:\n",
        "        # load best model during different epochs\n",
        "        model.load_state_dict(torch.load(f'{model_name}.pt'))\n",
        "        plt.plot(val_losses, label='val')\n",
        "\n",
        "    plt.plot(train_losses, label='train')\n",
        "    plt.legend()\n",
        "\n",
        "    return model"
      ]
    },
    {
      "cell_type": "markdown",
      "metadata": {
        "collapsed": false,
        "id": "PpcRjwfl5bNn",
        "pycharm": {
          "name": "#%% md\n"
        }
      },
      "source": [
        "Freezing pretrained layers:"
      ]
    },
    {
      "cell_type": "code",
      "execution_count": 39,
      "metadata": {
        "id": "nwDNVJS4mt_4",
        "pycharm": {
          "name": "#%%\n"
        }
      },
      "outputs": [],
      "source": [
        "model = model.to(device)\n",
        "for param in model.parameters():\n",
        "    param.requires_grad = False\n",
        "for param in model.densenet121.classifier.parameters():\n",
        "    param.requires_grad = True"
      ]
    },
    {
      "cell_type": "markdown",
      "metadata": {
        "collapsed": false,
        "id": "XChGUM0a5bNo",
        "pycharm": {
          "name": "#%% md\n"
        }
      },
      "source": [
        "Learning Config:"
      ]
    },
    {
      "cell_type": "code",
      "execution_count": 40,
      "metadata": {
        "id": "hDpzasmdmt_4",
        "pycharm": {
          "name": "#%%\n"
        }
      },
      "outputs": [],
      "source": [
        "lr = 1e-4\n",
        "optimizer = torch.optim.Adam(filter(lambda p: p.requires_grad, model.parameters()), lr=lr)\n",
        "criterion = nn.CrossEntropyLoss(weight=torch.tensor(dataset.label_weights.sort_index().tolist())).to(device)"
      ]
    },
    {
      "cell_type": "markdown",
      "metadata": {
        "collapsed": false,
        "id": "-KTL9VPA5bNp",
        "pycharm": {
          "name": "#%% md\n"
        }
      },
      "source": [
        "Overfitting on a small dataset:"
      ]
    },
    {
      "cell_type": "code",
      "execution_count": 41,
      "metadata": {
        "colab": {
          "base_uri": "https://localhost:8080/"
        },
        "id": "8iufSc0B5bNq",
        "outputId": "c22efcc8-ad63-4081-f6d8-3a17a4e42a33",
        "pycharm": {
          "name": "#%%\n"
        }
      },
      "outputs": [
        {
          "name": "stdout",
          "output_type": "stream",
          "text": [
            "72\n"
          ]
        }
      ],
      "source": [
        "small_len = int(0.1 * len(train_set))\n",
        "print(small_len)\n",
        "other_len = len(train_set) - small_len\n",
        "_, small_set = random_split(train_set, [other_len, small_len])\n",
        "small_loader = DataLoader(small_set, 64, shuffle=True)"
      ]
    },
    {
      "cell_type": "code",
      "execution_count": 50,
      "metadata": {
        "colab": {
          "base_uri": "https://localhost:8080/",
          "height": 786
        },
        "id": "l7XZHtw95bNq",
        "outputId": "be3f8731-3764-4716-fa13-0014d3fe7e28",
        "pycharm": {
          "name": "#%%\n"
        }
      },
      "outputs": [
        {
          "name": "stderr",
          "output_type": "stream",
          "text": [
            "Epoch:0, Train Loss: 1.507e-01: 100%|██████████| 2/2 [00:02<00:00,  1.00s/it]\n",
            "Epoch:1, Train Loss: 1.832e-01: 100%|██████████| 2/2 [00:01<00:00,  1.13it/s]\n",
            "Epoch:2, Train Loss: 1.649e-01: 100%|██████████| 2/2 [00:01<00:00,  1.12it/s]\n",
            "Epoch:3, Train Loss: 1.617e-01: 100%|██████████| 2/2 [00:01<00:00,  1.12it/s]\n",
            "Epoch:4, Train Loss: 2.271e-01: 100%|██████████| 2/2 [00:01<00:00,  1.06it/s]\n",
            "Epoch:5, Train Loss: 1.807e-01: 100%|██████████| 2/2 [00:02<00:00,  1.20s/it]\n",
            "Epoch:6, Train Loss: 1.400e-01: 100%|██████████| 2/2 [00:01<00:00,  1.08it/s]\n",
            "Epoch:7, Train Loss: 1.639e-01: 100%|██████████| 2/2 [00:02<00:00,  1.12s/it]\n",
            "Epoch:8, Train Loss: 1.534e-01: 100%|██████████| 2/2 [00:01<00:00,  1.07it/s]\n",
            "Epoch:9, Train Loss: 1.607e-01: 100%|██████████| 2/2 [00:02<00:00,  1.14s/it]\n",
            "Epoch:10, Train Loss: 1.876e-01: 100%|██████████| 2/2 [00:02<00:00,  1.03s/it]\n",
            "Epoch:11, Train Loss: 1.482e-01: 100%|██████████| 2/2 [00:02<00:00,  1.31s/it]\n",
            "Epoch:12, Train Loss: 1.601e-01: 100%|██████████| 2/2 [00:01<00:00,  1.13it/s]\n",
            "Epoch:13, Train Loss: 1.584e-01: 100%|██████████| 2/2 [00:01<00:00,  1.12it/s]\n",
            "Epoch:14, Train Loss: 1.798e-01: 100%|██████████| 2/2 [00:01<00:00,  1.11it/s]\n",
            "Epoch:15, Train Loss: 1.704e-01: 100%|██████████| 2/2 [00:01<00:00,  1.13it/s]\n",
            "Epoch:16, Train Loss: 1.627e-01: 100%|██████████| 2/2 [00:01<00:00,  1.13it/s]\n",
            "Epoch:17, Train Loss: 1.643e-01: 100%|██████████| 2/2 [00:01<00:00,  1.12it/s]\n",
            "Epoch:18, Train Loss: 1.612e-01: 100%|██████████| 2/2 [00:01<00:00,  1.12it/s]\n",
            "Epoch:19, Train Loss: 1.877e-01: 100%|██████████| 2/2 [00:02<00:00,  1.11s/it]\n",
            "Epoch:20, Train Loss: 1.526e-01: 100%|██████████| 2/2 [00:03<00:00,  1.59s/it]\n",
            "Epoch:21, Train Loss: 1.896e-01: 100%|██████████| 2/2 [00:02<00:00,  1.04s/it]\n",
            "Epoch:22, Train Loss: 1.714e-01: 100%|██████████| 2/2 [00:01<00:00,  1.12it/s]\n",
            "Epoch:23, Train Loss: 1.597e-01: 100%|██████████| 2/2 [00:01<00:00,  1.13it/s]\n",
            "Epoch:24, Train Loss: 1.484e-01: 100%|██████████| 2/2 [00:01<00:00,  1.11it/s]\n",
            "Epoch:25, Train Loss: 1.530e-01: 100%|██████████| 2/2 [00:01<00:00,  1.14it/s]\n",
            "Epoch:26, Train Loss: 1.407e-01: 100%|██████████| 2/2 [00:01<00:00,  1.13it/s]\n",
            "Epoch:27, Train Loss: 1.673e-01: 100%|██████████| 2/2 [00:01<00:00,  1.13it/s]\n",
            "Epoch:28, Train Loss: 1.521e-01: 100%|██████████| 2/2 [00:01<00:00,  1.14it/s]\n",
            "Epoch:29, Train Loss: 1.499e-01: 100%|██████████| 2/2 [00:01<00:00,  1.13it/s]\n"
          ]
        },
        {
          "data": {
            "image/png": "[encoded data removed]",
            "text/plain": [
              "<Figure size 432x288 with 1 Axes>"
            ]
          },
          "metadata": {
            "needs_background": "light"
          },
          "output_type": "display_data"
        }
      ],
      "source": [
        "lr = 1e-5\n",
        "optimizer = torch.optim.Adam(filter(lambda p: p.requires_grad, model.parameters()), lr=lr)\n",
        "train_model(model, criterion, [small_loader], optimizer, 30);"
      ]
    },
    {
      "cell_type": "code",
      "execution_count": 53,
      "metadata": {
        "colab": {
          "base_uri": "https://localhost:8080/"
        },
        "id": "RTJUhdvy7Jja",
        "outputId": "7ca47f52-c980-467b-c37d-b5351acb7dad"
      },
      "outputs": [
        {
          "name": "stderr",
          "output_type": "stream",
          "text": [
            "Epoch:0, Val Loss: 1.434e-01: 100%|██████████| 2/2 [00:02<00:00,  1.43s/it]"
          ]
        },
        {
          "name": "stdout",
          "output_type": "stream",
          "text": [
            "\n",
            "-------------------------------------------------------------------\n"
          ]
        },
        {
          "name": "stderr",
          "output_type": "stream",
          "text": [
            "\n"
          ]
        },
        {
          "data": {
            "text/plain": [
              "{'accuracy': 0.9444444444444444}"
            ]
          },
          "execution_count": 53,
          "metadata": {},
          "output_type": "execute_result"
        }
      ],
      "source": [
        "validate(model, small_loader, criterion, metrics={'accuracy': lambda y1, y2: (y1==y2).mean()})"
      ]
    },
    {
      "cell_type": "markdown",
      "metadata": {
        "collapsed": false,
        "id": "AJFneV-Z5bNr",
        "pycharm": {
          "name": "#%% md\n"
        }
      },
      "source": [
        "Tuning hyper-parameters:"
      ]
    },
    {
      "cell_type": "code",
      "execution_count": 43,
      "metadata": {
        "id": "TKk8jiN45bNr",
        "pycharm": {
          "name": "#%%\n"
        }
      },
      "outputs": [],
      "source": [
        "# todo!"
      ]
    },
    {
      "cell_type": "markdown",
      "metadata": {
        "collapsed": false,
        "id": "KLHCZL6D5bNr",
        "pycharm": {
          "name": "#%% md\n"
        }
      },
      "source": [
        "Training model:"
      ]
    },
    {
      "cell_type": "code",
      "execution_count": 54,
      "metadata": {
        "id": "gEfHhJrC7duW"
      },
      "outputs": [],
      "source": [
        "# reinitialize model and losses\n",
        "train_losses, val_losses = list(), list()\n",
        "model = DenseNet121(3).to(device)"
      ]
    },
    {
      "cell_type": "code",
      "execution_count": 57,
      "metadata": {
        "colab": {
          "base_uri": "https://localhost:8080/",
          "height": 1000
        },
        "id": "sX25ESEW5bNs",
        "outputId": "7866dcd8-7bfc-4342-d852-599430660de8",
        "pycharm": {
          "name": "#%%\n"
        }
      },
      "outputs": [
        {
          "name": "stderr",
          "output_type": "stream",
          "text": [
            "Epoch:0, Train Loss: 1.252e-03: 100%|██████████| 12/12 [00:25<00:00,  2.17s/it]\n",
            "Epoch:0, Val Loss: 4.944e-01: 100%|██████████| 3/3 [00:04<00:00,  1.60s/it]\n"
          ]
        },
        {
          "name": "stdout",
          "output_type": "stream",
          "text": [
            "\n",
            "-------------------------------------------------------------------\n"
          ]
        },
        {
          "name": "stderr",
          "output_type": "stream",
          "text": [
            "Epoch:1, Train Loss: 1.385e-03: 100%|██████████| 12/12 [00:25<00:00,  2.15s/it]\n",
            "Epoch:1, Val Loss: 5.029e-01: 100%|██████████| 3/3 [00:04<00:00,  1.60s/it]\n"
          ]
        },
        {
          "name": "stdout",
          "output_type": "stream",
          "text": [
            "\n",
            "-------------------------------------------------------------------\n"
          ]
        },
        {
          "name": "stderr",
          "output_type": "stream",
          "text": [
            "Epoch:2, Train Loss: 7.374e-04: 100%|██████████| 12/12 [00:25<00:00,  2.16s/it]\n",
            "Epoch:2, Val Loss: 5.214e-01: 100%|██████████| 3/3 [00:04<00:00,  1.61s/it]\n"
          ]
        },
        {
          "name": "stdout",
          "output_type": "stream",
          "text": [
            "\n",
            "-------------------------------------------------------------------\n"
          ]
        },
        {
          "name": "stderr",
          "output_type": "stream",
          "text": [
            "Epoch:3, Train Loss: 1.071e-03: 100%|██████████| 12/12 [00:25<00:00,  2.15s/it]\n",
            "Epoch:3, Val Loss: 4.932e-01: 100%|██████████| 3/3 [00:04<00:00,  1.59s/it]\n"
          ]
        },
        {
          "name": "stdout",
          "output_type": "stream",
          "text": [
            "\n",
            "-------------------------------------------------------------------\n"
          ]
        },
        {
          "name": "stderr",
          "output_type": "stream",
          "text": [
            "Epoch:4, Train Loss: 9.757e-04: 100%|██████████| 12/12 [00:26<00:00,  2.20s/it]\n",
            "Epoch:4, Val Loss: 4.978e-01: 100%|██████████| 3/3 [00:04<00:00,  1.60s/it]\n"
          ]
        },
        {
          "name": "stdout",
          "output_type": "stream",
          "text": [
            "\n",
            "-------------------------------------------------------------------\n"
          ]
        },
        {
          "name": "stderr",
          "output_type": "stream",
          "text": [
            "Epoch:5, Train Loss: 6.321e-04: 100%|██████████| 12/12 [00:25<00:00,  2.16s/it]\n",
            "Epoch:5, Val Loss: 5.009e-01: 100%|██████████| 3/3 [00:04<00:00,  1.59s/it]\n"
          ]
        },
        {
          "name": "stdout",
          "output_type": "stream",
          "text": [
            "\n",
            "-------------------------------------------------------------------\n"
          ]
        },
        {
          "name": "stderr",
          "output_type": "stream",
          "text": [
            "Epoch:6, Train Loss: 8.482e-04: 100%|██████████| 12/12 [00:26<00:00,  2.21s/it]\n",
            "Epoch:6, Val Loss: 5.129e-01: 100%|██████████| 3/3 [00:04<00:00,  1.60s/it]\n"
          ]
        },
        {
          "name": "stdout",
          "output_type": "stream",
          "text": [
            "\n",
            "-------------------------------------------------------------------\n"
          ]
        },
        {
          "name": "stderr",
          "output_type": "stream",
          "text": [
            "Epoch:7, Train Loss: 1.021e-03: 100%|██████████| 12/12 [00:25<00:00,  2.15s/it]\n",
            "Epoch:7, Val Loss: 5.151e-01: 100%|██████████| 3/3 [00:05<00:00,  1.76s/it]\n"
          ]
        },
        {
          "name": "stdout",
          "output_type": "stream",
          "text": [
            "\n",
            "-------------------------------------------------------------------\n"
          ]
        },
        {
          "name": "stderr",
          "output_type": "stream",
          "text": [
            "Epoch:8, Train Loss: 8.020e-04: 100%|██████████| 12/12 [00:26<00:00,  2.18s/it]\n",
            "Epoch:8, Val Loss: 5.085e-01: 100%|██████████| 3/3 [00:04<00:00,  1.60s/it]\n"
          ]
        },
        {
          "name": "stdout",
          "output_type": "stream",
          "text": [
            "\n",
            "-------------------------------------------------------------------\n"
          ]
        },
        {
          "name": "stderr",
          "output_type": "stream",
          "text": [
            "Epoch:9, Train Loss: 1.276e-03: 100%|██████████| 12/12 [00:28<00:00,  2.41s/it]\n",
            "Epoch:9, Val Loss: 5.431e-01: 100%|██████████| 3/3 [00:04<00:00,  1.67s/it]\n"
          ]
        },
        {
          "name": "stdout",
          "output_type": "stream",
          "text": [
            "\n",
            "-------------------------------------------------------------------\n"
          ]
        },
        {
          "name": "stderr",
          "output_type": "stream",
          "text": [
            "Epoch:10, Train Loss: 1.061e-03: 100%|██████████| 12/12 [00:30<00:00,  2.52s/it]\n",
            "Epoch:10, Val Loss: 5.241e-01: 100%|██████████| 3/3 [00:04<00:00,  1.58s/it]\n"
          ]
        },
        {
          "name": "stdout",
          "output_type": "stream",
          "text": [
            "\n",
            "-------------------------------------------------------------------\n"
          ]
        },
        {
          "name": "stderr",
          "output_type": "stream",
          "text": [
            "Epoch:11, Train Loss: 1.081e-03: 100%|██████████| 12/12 [00:25<00:00,  2.14s/it]\n",
            "Epoch:11, Val Loss: 5.406e-01: 100%|██████████| 3/3 [00:04<00:00,  1.59s/it]\n"
          ]
        },
        {
          "name": "stdout",
          "output_type": "stream",
          "text": [
            "\n",
            "-------------------------------------------------------------------\n"
          ]
        },
        {
          "name": "stderr",
          "output_type": "stream",
          "text": [
            "Epoch:12, Train Loss: 1.882e-03: 100%|██████████| 12/12 [00:25<00:00,  2.12s/it]\n",
            "Epoch:12, Val Loss: 4.938e-01: 100%|██████████| 3/3 [00:05<00:00,  1.93s/it]\n"
          ]
        },
        {
          "name": "stdout",
          "output_type": "stream",
          "text": [
            "\n",
            "-------------------------------------------------------------------\n"
          ]
        },
        {
          "name": "stderr",
          "output_type": "stream",
          "text": [
            "Epoch:13, Train Loss: 1.005e-03: 100%|██████████| 12/12 [00:26<00:00,  2.21s/it]\n",
            "Epoch:13, Val Loss: 5.149e-01: 100%|██████████| 3/3 [00:04<00:00,  1.58s/it]\n"
          ]
        },
        {
          "name": "stdout",
          "output_type": "stream",
          "text": [
            "\n",
            "-------------------------------------------------------------------\n"
          ]
        },
        {
          "name": "stderr",
          "output_type": "stream",
          "text": [
            "Epoch:14, Train Loss: 9.614e-04: 100%|██████████| 12/12 [00:26<00:00,  2.17s/it]\n",
            "Epoch:14, Val Loss: 5.246e-01: 100%|██████████| 3/3 [00:04<00:00,  1.58s/it]\n"
          ]
        },
        {
          "name": "stdout",
          "output_type": "stream",
          "text": [
            "\n",
            "-------------------------------------------------------------------\n"
          ]
        },
        {
          "name": "stderr",
          "output_type": "stream",
          "text": [
            "Epoch:15, Train Loss: 4.619e-03: 100%|██████████| 12/12 [00:25<00:00,  2.13s/it]\n",
            "Epoch:15, Val Loss: 5.104e-01: 100%|██████████| 3/3 [00:04<00:00,  1.58s/it]\n"
          ]
        },
        {
          "name": "stdout",
          "output_type": "stream",
          "text": [
            "\n",
            "-------------------------------------------------------------------\n"
          ]
        },
        {
          "name": "stderr",
          "output_type": "stream",
          "text": [
            "Epoch:16, Train Loss: 7.175e-04: 100%|██████████| 12/12 [00:25<00:00,  2.13s/it]\n",
            "Epoch:16, Val Loss: 5.042e-01: 100%|██████████| 3/3 [00:05<00:00,  1.81s/it]\n"
          ]
        },
        {
          "name": "stdout",
          "output_type": "stream",
          "text": [
            "\n",
            "-------------------------------------------------------------------\n"
          ]
        },
        {
          "name": "stderr",
          "output_type": "stream",
          "text": [
            "Epoch:17, Train Loss: 8.525e-04: 100%|██████████| 12/12 [00:25<00:00,  2.13s/it]\n",
            "Epoch:17, Val Loss: 5.053e-01: 100%|██████████| 3/3 [00:04<00:00,  1.58s/it]\n"
          ]
        },
        {
          "name": "stdout",
          "output_type": "stream",
          "text": [
            "\n",
            "-------------------------------------------------------------------\n"
          ]
        },
        {
          "name": "stderr",
          "output_type": "stream",
          "text": [
            "Epoch:18, Train Loss: 1.917e-03: 100%|██████████| 12/12 [00:25<00:00,  2.14s/it]\n",
            "Epoch:18, Val Loss: 5.212e-01: 100%|██████████| 3/3 [00:04<00:00,  1.57s/it]\n"
          ]
        },
        {
          "name": "stdout",
          "output_type": "stream",
          "text": [
            "\n",
            "-------------------------------------------------------------------\n"
          ]
        },
        {
          "name": "stderr",
          "output_type": "stream",
          "text": [
            "Epoch:19, Train Loss: 3.911e-03: 100%|██████████| 12/12 [00:25<00:00,  2.13s/it]\n",
            "Epoch:19, Val Loss: 5.468e-01: 100%|██████████| 3/3 [00:04<00:00,  1.57s/it]\n"
          ]
        },
        {
          "name": "stdout",
          "output_type": "stream",
          "text": [
            "\n",
            "-------------------------------------------------------------------\n"
          ]
        },
        {
          "name": "stderr",
          "output_type": "stream",
          "text": [
            "Epoch:20, Train Loss: 1.912e-03: 100%|██████████| 12/12 [00:25<00:00,  2.12s/it]\n",
            "Epoch:20, Val Loss: 5.230e-01: 100%|██████████| 3/3 [00:04<00:00,  1.59s/it]\n"
          ]
        },
        {
          "name": "stdout",
          "output_type": "stream",
          "text": [
            "\n",
            "-------------------------------------------------------------------\n"
          ]
        },
        {
          "name": "stderr",
          "output_type": "stream",
          "text": [
            "Epoch:21, Train Loss: 6.239e-04: 100%|██████████| 12/12 [00:25<00:00,  2.13s/it]\n",
            "Epoch:21, Val Loss: 4.907e-01: 100%|██████████| 3/3 [00:04<00:00,  1.57s/it]\n"
          ]
        },
        {
          "name": "stdout",
          "output_type": "stream",
          "text": [
            "\n",
            "-------------------------------------------------------------------\n"
          ]
        },
        {
          "name": "stderr",
          "output_type": "stream",
          "text": [
            "Epoch:22, Train Loss: 7.709e-04: 100%|██████████| 12/12 [00:25<00:00,  2.13s/it]\n",
            "Epoch:22, Val Loss: 5.151e-01: 100%|██████████| 3/3 [00:04<00:00,  1.57s/it]\n"
          ]
        },
        {
          "name": "stdout",
          "output_type": "stream",
          "text": [
            "\n",
            "-------------------------------------------------------------------\n"
          ]
        },
        {
          "name": "stderr",
          "output_type": "stream",
          "text": [
            "Epoch:23, Train Loss: 8.397e-04: 100%|██████████| 12/12 [00:25<00:00,  2.13s/it]\n",
            "Epoch:23, Val Loss: 5.030e-01: 100%|██████████| 3/3 [00:04<00:00,  1.60s/it]\n"
          ]
        },
        {
          "name": "stdout",
          "output_type": "stream",
          "text": [
            "\n",
            "-------------------------------------------------------------------\n"
          ]
        },
        {
          "name": "stderr",
          "output_type": "stream",
          "text": [
            "Epoch:24, Train Loss: 8.199e-04: 100%|██████████| 12/12 [00:26<00:00,  2.17s/it]\n",
            "Epoch:24, Val Loss: 5.096e-01: 100%|██████████| 3/3 [00:04<00:00,  1.57s/it]\n"
          ]
        },
        {
          "name": "stdout",
          "output_type": "stream",
          "text": [
            "\n",
            "-------------------------------------------------------------------\n"
          ]
        },
        {
          "name": "stderr",
          "output_type": "stream",
          "text": [
            "Epoch:25, Train Loss: 8.918e-04: 100%|██████████| 12/12 [00:25<00:00,  2.12s/it]\n",
            "Epoch:25, Val Loss: 5.196e-01: 100%|██████████| 3/3 [00:04<00:00,  1.59s/it]\n"
          ]
        },
        {
          "name": "stdout",
          "output_type": "stream",
          "text": [
            "\n",
            "-------------------------------------------------------------------\n"
          ]
        },
        {
          "name": "stderr",
          "output_type": "stream",
          "text": [
            "Epoch:26, Train Loss: 7.570e-04: 100%|██████████| 12/12 [00:25<00:00,  2.13s/it]\n",
            "Epoch:26, Val Loss: 5.020e-01: 100%|██████████| 3/3 [00:04<00:00,  1.57s/it]\n"
          ]
        },
        {
          "name": "stdout",
          "output_type": "stream",
          "text": [
            "\n",
            "-------------------------------------------------------------------\n"
          ]
        },
        {
          "name": "stderr",
          "output_type": "stream",
          "text": [
            "Epoch:27, Train Loss: 1.145e-03: 100%|██████████| 12/12 [00:25<00:00,  2.12s/it]\n",
            "Epoch:27, Val Loss: 5.044e-01: 100%|██████████| 3/3 [00:04<00:00,  1.57s/it]\n"
          ]
        },
        {
          "name": "stdout",
          "output_type": "stream",
          "text": [
            "\n",
            "-------------------------------------------------------------------\n"
          ]
        },
        {
          "name": "stderr",
          "output_type": "stream",
          "text": [
            "Epoch:28, Train Loss: 1.190e-03: 100%|██████████| 12/12 [00:25<00:00,  2.12s/it]\n",
            "Epoch:28, Val Loss: 5.331e-01: 100%|██████████| 3/3 [00:04<00:00,  1.58s/it]\n"
          ]
        },
        {
          "name": "stdout",
          "output_type": "stream",
          "text": [
            "\n",
            "-------------------------------------------------------------------\n"
          ]
        },
        {
          "name": "stderr",
          "output_type": "stream",
          "text": [
            "Epoch:29, Train Loss: 9.559e-04: 100%|██████████| 12/12 [00:25<00:00,  2.13s/it]\n",
            "Epoch:29, Val Loss: 5.135e-01: 100%|██████████| 3/3 [00:04<00:00,  1.57s/it]\n"
          ]
        },
        {
          "name": "stdout",
          "output_type": "stream",
          "text": [
            "\n",
            "-------------------------------------------------------------------\n"
          ]
        },
        {
          "data": {
            "image/png": "[encoded data removed]",
            "text/plain": [
              "<Figure size 432x288 with 1 Axes>"
            ]
          },
          "metadata": {
            "needs_background": "light"
          },
          "output_type": "display_data"
        }
      ],
      "source": [
        "lr = 1e-6\n",
        "optimizer = torch.optim.Adam(filter(lambda p: p.requires_grad, model.parameters()), lr=lr)\n",
        "model = train_model(model, criterion, [train_loader, val_loader], optimizer, 30, 'covid-classification');"
      ]
    },
    {
      "cell_type": "code",
      "execution_count": 58,
      "metadata": {
        "id": "DgIAUjEitbJG",
        "pycharm": {
          "name": "#%%\n"
        }
      },
      "outputs": [],
      "source": [
        "from sklearn.metrics import accuracy_score, precision_score, recall_score, f1_score\n",
        "\n",
        "average_policy = 'macro'\n",
        "metrics = {'accuracy': accuracy_score, 'precision': lambda y1, y2: precision_score(y1, y2, average=average_policy),\n",
        "           'recall': lambda y1, y2: recall_score(y1, y2, average=average_policy),\n",
        "           'f1': lambda y1, y2: f1_score(y1, y2, average=average_policy)}"
      ]
    },
    {
      "cell_type": "code",
      "execution_count": 59,
      "metadata": {
        "colab": {
          "base_uri": "https://localhost:8080/"
        },
        "id": "vZztlzk4yEn7",
        "outputId": "fbd52e6a-fb11-4bdf-af37-78d0c6d3d3f2",
        "pycharm": {
          "name": "#%%\n"
        }
      },
      "outputs": [
        {
          "name": "stderr",
          "output_type": "stream",
          "text": [
            "Epoch:0, Val Loss: 4.035e-01: 100%|██████████| 4/4 [00:06<00:00,  1.59s/it]"
          ]
        },
        {
          "name": "stdout",
          "output_type": "stream",
          "text": [
            "\n",
            "-------------------------------------------------------------------\n"
          ]
        },
        {
          "name": "stderr",
          "output_type": "stream",
          "text": [
            "\n"
          ]
        },
        {
          "data": {
            "text/plain": [
              "{'accuracy': 0.8755555555555555,\n",
              " 'precision': 0.9053116195973337,\n",
              " 'recall': 0.8972110732285089,\n",
              " 'f1': 0.9008532557646274}"
            ]
          },
          "execution_count": 59,
          "metadata": {},
          "output_type": "execute_result"
        }
      ],
      "source": [
        "validate(model, test_loader, criterion, metrics=metrics)"
      ]
    },
    {
      "cell_type": "code",
      "execution_count": 60,
      "metadata": {
        "colab": {
          "base_uri": "https://localhost:8080/",
          "height": 17
        },
        "id": "AETOkCA08Aag",
        "outputId": "b5154ae3-dc01-4b06-e88d-6dabf0644464"
      },
      "outputs": [
        {
          "data": {
            "application/javascript": "\n    async function download(id, filename, size) {\n      if (!google.colab.kernel.accessAllowed) {\n        return;\n      }\n      const div = document.createElement('div');\n      const label = document.createElement('label');\n      label.textContent = `Downloading \"${filename}\": `;\n      div.appendChild(label);\n      const progress = document.createElement('progress');\n      progress.max = size;\n      div.appendChild(progress);\n      document.body.appendChild(div);\n\n      const buffers = [];\n      let downloaded = 0;\n\n      const channel = await google.colab.kernel.comms.open(id);\n      // Send a message to notify the kernel that we're ready.\n      channel.send({})\n\n      for await (const message of channel.messages) {\n        // Send a message to notify the kernel that we're ready.\n        channel.send({})\n        if (message.buffers) {\n          for (const buffer of message.buffers) {\n            buffers.push(buffer);\n            downloaded += buffer.byteLength;\n            progress.value = downloaded;\n          }\n        }\n      }\n      const blob = new Blob(buffers, {type: 'application/binary'});\n      const a = document.createElement('a');\n      a.href = window.URL.createObjectURL(blob);\n      a.download = filename;\n      div.appendChild(a);\n      a.click();\n      div.remove();\n    }\n  ",
            "text/plain": [
              "<IPython.core.display.Javascript object>"
            ]
          },
          "metadata": {},
          "output_type": "display_data"
        },
        {
          "data": {
            "application/javascript": "download(\"download_ae796cd8-69be-4ca6-a837-11d1b2e12b2e\", \"covid-classification.pt\", 28445267)",
            "text/plain": [
              "<IPython.core.display.Javascript object>"
            ]
          },
          "metadata": {},
          "output_type": "display_data"
        }
      ],
      "source": [
        "from google.colab import files\n",
        "files.download('covid-classification.pt') "
      ]
    },
    {
      "cell_type": "code",
      "execution_count": null,
      "metadata": {
        "id": "_PQPa2uFBCbr"
      },
      "outputs": [],
      "source": []
    }
  ],
  "metadata": {
    "accelerator": "GPU",
    "colab": {
      "collapsed_sections": [],
      "provenance": []
    },
    "gpuClass": "standard",
    "kernelspec": {
      "display_name": "Python 3.9.7 64-bit",
      "language": "python",
      "name": "python3"
    },
    "language_info": {
      "name": "python",
      "version": "3.9.7"
    },
    "vscode": {
      "interpreter": {
        "hash": "11938c6bc6919ae2720b4d5011047913343b08a43b18698fd82dedb0d4417594"
      }
    }
  },
  "nbformat": 4,
  "nbformat_minor": 0
}
